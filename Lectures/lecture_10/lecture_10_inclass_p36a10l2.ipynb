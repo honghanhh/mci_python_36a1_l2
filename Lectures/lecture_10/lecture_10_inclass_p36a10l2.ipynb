{
  "cells": [
    {
      "cell_type": "code",
      "execution_count": 1,
      "metadata": {
        "id": "CZkJdY3-Sua7"
      },
      "outputs": [],
      "source": [
        "import pandas as pd\n",
        "import numpy as np\n",
        "\n",
        "import matplotlib.pyplot as plt\n",
        "import seaborn as sns "
      ]
    },
    {
      "cell_type": "code",
      "execution_count": 3,
      "metadata": {
        "colab": {
          "base_uri": "https://localhost:8080/"
        },
        "id": "2jRaamxwUY6b",
        "outputId": "0a00b72e-c160-4ae0-c212-adaf844b8402"
      },
      "outputs": [
        {
          "name": "stdout",
          "output_type": "stream",
          "text": [
            "Requirement already satisfied: xgboost in /usr/local/lib/python3.7/dist-packages (0.90)\n",
            "Requirement already satisfied: numpy in /usr/local/lib/python3.7/dist-packages (from xgboost) (1.19.5)\n",
            "Requirement already satisfied: scipy in /usr/local/lib/python3.7/dist-packages (from xgboost) (1.4.1)\n"
          ]
        }
      ],
      "source": [
        "!pip install xgboost"
      ]
    },
    {
      "cell_type": "markdown",
      "metadata": {
        "id": "11RzNwBRvU_I"
      },
      "source": [
        "## Fraud Dectection trong giao dịch và thanh toán"
      ]
    },
    {
      "cell_type": "code",
      "execution_count": 2,
      "metadata": {
        "colab": {
          "base_uri": "https://localhost:8080/",
          "height": 556
        },
        "id": "nkv66m3RUbCH",
        "outputId": "ffffeed9-a5dd-4194-ed56-fd538ce12163"
      },
      "outputs": [
        {
          "name": "stdout",
          "output_type": "stream",
          "text": [
            "<class 'pandas.core.frame.DataFrame'>\n",
            "RangeIndex: 6362620 entries, 0 to 6362619\n",
            "Data columns (total 11 columns):\n",
            " #   Column          Dtype  \n",
            "---  ------          -----  \n",
            " 0   step            int64  \n",
            " 1   type            object \n",
            " 2   amount          float64\n",
            " 3   nameOrig        object \n",
            " 4   oldbalanceOrg   float64\n",
            " 5   newbalanceOrig  float64\n",
            " 6   nameDest        object \n",
            " 7   oldbalanceDest  float64\n",
            " 8   newbalanceDest  float64\n",
            " 9   isFraud         int64  \n",
            " 10  isFlaggedFraud  int64  \n",
            "dtypes: float64(5), int64(3), object(3)\n",
            "memory usage: 534.0+ MB\n"
          ]
        },
        {
          "data": {
            "text/plain": [
              "None"
            ]
          },
          "metadata": {},
          "output_type": "display_data"
        },
        {
          "data": {
            "text/html": [
              "<div>\n",
              "<style scoped>\n",
              "    .dataframe tbody tr th:only-of-type {\n",
              "        vertical-align: middle;\n",
              "    }\n",
              "\n",
              "    .dataframe tbody tr th {\n",
              "        vertical-align: top;\n",
              "    }\n",
              "\n",
              "    .dataframe thead th {\n",
              "        text-align: right;\n",
              "    }\n",
              "</style>\n",
              "<table border=\"1\" class=\"dataframe\">\n",
              "  <thead>\n",
              "    <tr style=\"text-align: right;\">\n",
              "      <th></th>\n",
              "      <th>step</th>\n",
              "      <th>type</th>\n",
              "      <th>amount</th>\n",
              "      <th>nameOrig</th>\n",
              "      <th>oldbalanceOrg</th>\n",
              "      <th>newbalanceOrig</th>\n",
              "      <th>nameDest</th>\n",
              "      <th>oldbalanceDest</th>\n",
              "      <th>newbalanceDest</th>\n",
              "      <th>isFraud</th>\n",
              "      <th>isFlaggedFraud</th>\n",
              "    </tr>\n",
              "  </thead>\n",
              "  <tbody>\n",
              "    <tr>\n",
              "      <th>0</th>\n",
              "      <td>1</td>\n",
              "      <td>PAYMENT</td>\n",
              "      <td>9839.64</td>\n",
              "      <td>C1231006815</td>\n",
              "      <td>170136.0</td>\n",
              "      <td>160296.36</td>\n",
              "      <td>M1979787155</td>\n",
              "      <td>0.0</td>\n",
              "      <td>0.0</td>\n",
              "      <td>0</td>\n",
              "      <td>0</td>\n",
              "    </tr>\n",
              "    <tr>\n",
              "      <th>1</th>\n",
              "      <td>1</td>\n",
              "      <td>PAYMENT</td>\n",
              "      <td>1864.28</td>\n",
              "      <td>C1666544295</td>\n",
              "      <td>21249.0</td>\n",
              "      <td>19384.72</td>\n",
              "      <td>M2044282225</td>\n",
              "      <td>0.0</td>\n",
              "      <td>0.0</td>\n",
              "      <td>0</td>\n",
              "      <td>0</td>\n",
              "    </tr>\n",
              "    <tr>\n",
              "      <th>2</th>\n",
              "      <td>1</td>\n",
              "      <td>TRANSFER</td>\n",
              "      <td>181.00</td>\n",
              "      <td>C1305486145</td>\n",
              "      <td>181.0</td>\n",
              "      <td>0.00</td>\n",
              "      <td>C553264065</td>\n",
              "      <td>0.0</td>\n",
              "      <td>0.0</td>\n",
              "      <td>1</td>\n",
              "      <td>0</td>\n",
              "    </tr>\n",
              "    <tr>\n",
              "      <th>3</th>\n",
              "      <td>1</td>\n",
              "      <td>CASH_OUT</td>\n",
              "      <td>181.00</td>\n",
              "      <td>C840083671</td>\n",
              "      <td>181.0</td>\n",
              "      <td>0.00</td>\n",
              "      <td>C38997010</td>\n",
              "      <td>21182.0</td>\n",
              "      <td>0.0</td>\n",
              "      <td>1</td>\n",
              "      <td>0</td>\n",
              "    </tr>\n",
              "    <tr>\n",
              "      <th>4</th>\n",
              "      <td>1</td>\n",
              "      <td>PAYMENT</td>\n",
              "      <td>11668.14</td>\n",
              "      <td>C2048537720</td>\n",
              "      <td>41554.0</td>\n",
              "      <td>29885.86</td>\n",
              "      <td>M1230701703</td>\n",
              "      <td>0.0</td>\n",
              "      <td>0.0</td>\n",
              "      <td>0</td>\n",
              "      <td>0</td>\n",
              "    </tr>\n",
              "  </tbody>\n",
              "</table>\n",
              "</div>"
            ],
            "text/plain": [
              "   step      type    amount     nameOrig  oldbalanceOrg  newbalanceOrig  \\\n",
              "0     1   PAYMENT   9839.64  C1231006815       170136.0       160296.36   \n",
              "1     1   PAYMENT   1864.28  C1666544295        21249.0        19384.72   \n",
              "2     1  TRANSFER    181.00  C1305486145          181.0            0.00   \n",
              "3     1  CASH_OUT    181.00   C840083671          181.0            0.00   \n",
              "4     1   PAYMENT  11668.14  C2048537720        41554.0        29885.86   \n",
              "\n",
              "      nameDest  oldbalanceDest  newbalanceDest  isFraud  isFlaggedFraud  \n",
              "0  M1979787155             0.0             0.0        0               0  \n",
              "1  M2044282225             0.0             0.0        0               0  \n",
              "2   C553264065             0.0             0.0        1               0  \n",
              "3    C38997010         21182.0             0.0        1               0  \n",
              "4  M1230701703             0.0             0.0        0               0  "
            ]
          },
          "metadata": {},
          "output_type": "display_data"
        }
      ],
      "source": [
        "# Download file từ đây: https://drive.google.com/file/d/1kVWmFhMjFpm6lWBPWEhbrK8yt2Z3v91p/view\n",
        "data_url = 'PS_20174392719_1491204439457_log.csv.zip'\n",
        "paysim = pd.read_csv(data_url, compression='zip')\n",
        "\n",
        "display(\n",
        "    paysim.info(),\n",
        "    paysim.head()\n",
        ")"
      ]
    },
    {
      "cell_type": "markdown",
      "metadata": {
        "id": "0oZ5FL_JI4w-"
      },
      "source": [
        "Diễn giải ý nghĩa các cột\n",
        "\n",
        "- `step` - maps a unit of time in the real world. In this case 1 step is 1 hour of time. Total steps 744 (30 days simulation).\n",
        "\n",
        "- `type` - CASH-IN, CASH-OUT, DEBIT, PAYMENT and TRANSFER.\n",
        "\n",
        "- `amount` -\n",
        "amount of the transaction in local currency.\n",
        "\n",
        "- `nameOrig` - customer who started the transaction\n",
        "\n",
        "- `oldbalanceOrg` - initial balance before the transaction\n",
        "\n",
        "- `newbalanceOrig` - new balance after the transaction\n",
        "\n",
        "- `nameDest` - customer who is the recipient of the transaction\n",
        "\n",
        "- `oldbalanceDest` - initial balance recipient before the transaction. Note that there is not information for customers that start with M (Merchants).\n",
        "\n",
        "- `newbalanceDest` - new balance recipient after the transaction. Note that there is not information for customers that start with M (Merchants).\n",
        "\n",
        "- `isFraud` - This is the transactions made by the fraudulent agents inside the simulation. In this specific dataset the fraudulent behavior of the agents aims to profit by taking control or customers accounts and try to empty the funds by transferring to another account and then cashing out of the system.\n",
        "\n",
        "- `isFlaggedFraud` - The business model aims to control massive transfers from one account to another and flags illegal attempts. An illegal attempt in this dataset is an attempt to transfer more than 200.000 in a single transaction."
      ]
    },
    {
      "cell_type": "code",
      "execution_count": 3,
      "metadata": {
        "colab": {
          "base_uri": "https://localhost:8080/",
          "height": 237
        },
        "id": "wdxfHe6TVAQx",
        "outputId": "37a9444d-984d-4977-b502-5842952b31df"
      },
      "outputs": [
        {
          "data": {
            "text/html": [
              "<div>\n",
              "<style scoped>\n",
              "    .dataframe tbody tr th:only-of-type {\n",
              "        vertical-align: middle;\n",
              "    }\n",
              "\n",
              "    .dataframe tbody tr th {\n",
              "        vertical-align: top;\n",
              "    }\n",
              "\n",
              "    .dataframe thead th {\n",
              "        text-align: right;\n",
              "    }\n",
              "</style>\n",
              "<table border=\"1\" class=\"dataframe\">\n",
              "  <thead>\n",
              "    <tr style=\"text-align: right;\">\n",
              "      <th>isFraud</th>\n",
              "      <th>0</th>\n",
              "      <th>1</th>\n",
              "    </tr>\n",
              "    <tr>\n",
              "      <th>type</th>\n",
              "      <th></th>\n",
              "      <th></th>\n",
              "    </tr>\n",
              "  </thead>\n",
              "  <tbody>\n",
              "    <tr>\n",
              "      <th>CASH_IN</th>\n",
              "      <td>1399284</td>\n",
              "      <td>0</td>\n",
              "    </tr>\n",
              "    <tr>\n",
              "      <th>CASH_OUT</th>\n",
              "      <td>2233384</td>\n",
              "      <td>4116</td>\n",
              "    </tr>\n",
              "    <tr>\n",
              "      <th>DEBIT</th>\n",
              "      <td>41432</td>\n",
              "      <td>0</td>\n",
              "    </tr>\n",
              "    <tr>\n",
              "      <th>PAYMENT</th>\n",
              "      <td>2151495</td>\n",
              "      <td>0</td>\n",
              "    </tr>\n",
              "    <tr>\n",
              "      <th>TRANSFER</th>\n",
              "      <td>528812</td>\n",
              "      <td>4097</td>\n",
              "    </tr>\n",
              "  </tbody>\n",
              "</table>\n",
              "</div>"
            ],
            "text/plain": [
              "isFraud         0     1\n",
              "type                   \n",
              "CASH_IN   1399284     0\n",
              "CASH_OUT  2233384  4116\n",
              "DEBIT       41432     0\n",
              "PAYMENT   2151495     0\n",
              "TRANSFER   528812  4097"
            ]
          },
          "execution_count": 3,
          "metadata": {},
          "output_type": "execute_result"
        }
      ],
      "source": [
        "pd.crosstab(paysim['type'], paysim['isFraud'])"
      ]
    },
    {
      "cell_type": "code",
      "execution_count": 4,
      "metadata": {
        "colab": {
          "base_uri": "https://localhost:8080/",
          "height": 444
        },
        "id": "f72uniawLW0-",
        "outputId": "bab32c0a-6ec6-4947-9e57-8940334620eb"
      },
      "outputs": [
        {
          "data": {
            "text/html": [
              "<div>\n",
              "<style scoped>\n",
              "    .dataframe tbody tr th:only-of-type {\n",
              "        vertical-align: middle;\n",
              "    }\n",
              "\n",
              "    .dataframe tbody tr th {\n",
              "        vertical-align: top;\n",
              "    }\n",
              "\n",
              "    .dataframe thead th {\n",
              "        text-align: right;\n",
              "    }\n",
              "</style>\n",
              "<table border=\"1\" class=\"dataframe\">\n",
              "  <thead>\n",
              "    <tr style=\"text-align: right;\">\n",
              "      <th></th>\n",
              "      <th>step</th>\n",
              "      <th>type</th>\n",
              "      <th>amount</th>\n",
              "      <th>nameOrig</th>\n",
              "      <th>oldbalanceOrg</th>\n",
              "      <th>newbalanceOrig</th>\n",
              "      <th>nameDest</th>\n",
              "      <th>oldbalanceDest</th>\n",
              "      <th>newbalanceDest</th>\n",
              "      <th>isFraud</th>\n",
              "      <th>isFlaggedFraud</th>\n",
              "    </tr>\n",
              "  </thead>\n",
              "  <tbody>\n",
              "    <tr>\n",
              "      <th>3</th>\n",
              "      <td>1</td>\n",
              "      <td>CASH_OUT</td>\n",
              "      <td>181.00</td>\n",
              "      <td>C840083671</td>\n",
              "      <td>181.00</td>\n",
              "      <td>0.0</td>\n",
              "      <td>C38997010</td>\n",
              "      <td>21182.00</td>\n",
              "      <td>0.00</td>\n",
              "      <td>1</td>\n",
              "      <td>0</td>\n",
              "    </tr>\n",
              "    <tr>\n",
              "      <th>15</th>\n",
              "      <td>1</td>\n",
              "      <td>CASH_OUT</td>\n",
              "      <td>229133.94</td>\n",
              "      <td>C905080434</td>\n",
              "      <td>15325.00</td>\n",
              "      <td>0.0</td>\n",
              "      <td>C476402209</td>\n",
              "      <td>5083.00</td>\n",
              "      <td>51513.44</td>\n",
              "      <td>0</td>\n",
              "      <td>0</td>\n",
              "    </tr>\n",
              "    <tr>\n",
              "      <th>42</th>\n",
              "      <td>1</td>\n",
              "      <td>CASH_OUT</td>\n",
              "      <td>110414.71</td>\n",
              "      <td>C768216420</td>\n",
              "      <td>26845.41</td>\n",
              "      <td>0.0</td>\n",
              "      <td>C1509514333</td>\n",
              "      <td>288800.00</td>\n",
              "      <td>2415.16</td>\n",
              "      <td>0</td>\n",
              "      <td>0</td>\n",
              "    </tr>\n",
              "    <tr>\n",
              "      <th>47</th>\n",
              "      <td>1</td>\n",
              "      <td>CASH_OUT</td>\n",
              "      <td>56953.90</td>\n",
              "      <td>C1570470538</td>\n",
              "      <td>1942.02</td>\n",
              "      <td>0.0</td>\n",
              "      <td>C824009085</td>\n",
              "      <td>70253.00</td>\n",
              "      <td>64106.18</td>\n",
              "      <td>0</td>\n",
              "      <td>0</td>\n",
              "    </tr>\n",
              "    <tr>\n",
              "      <th>48</th>\n",
              "      <td>1</td>\n",
              "      <td>CASH_OUT</td>\n",
              "      <td>5346.89</td>\n",
              "      <td>C512549200</td>\n",
              "      <td>0.00</td>\n",
              "      <td>0.0</td>\n",
              "      <td>C248609774</td>\n",
              "      <td>652637.00</td>\n",
              "      <td>6453430.91</td>\n",
              "      <td>0</td>\n",
              "      <td>0</td>\n",
              "    </tr>\n",
              "    <tr>\n",
              "      <th>...</th>\n",
              "      <td>...</td>\n",
              "      <td>...</td>\n",
              "      <td>...</td>\n",
              "      <td>...</td>\n",
              "      <td>...</td>\n",
              "      <td>...</td>\n",
              "      <td>...</td>\n",
              "      <td>...</td>\n",
              "      <td>...</td>\n",
              "      <td>...</td>\n",
              "      <td>...</td>\n",
              "    </tr>\n",
              "    <tr>\n",
              "      <th>6362611</th>\n",
              "      <td>742</td>\n",
              "      <td>CASH_OUT</td>\n",
              "      <td>63416.99</td>\n",
              "      <td>C994950684</td>\n",
              "      <td>63416.99</td>\n",
              "      <td>0.0</td>\n",
              "      <td>C1662241365</td>\n",
              "      <td>276433.18</td>\n",
              "      <td>339850.17</td>\n",
              "      <td>1</td>\n",
              "      <td>0</td>\n",
              "    </tr>\n",
              "    <tr>\n",
              "      <th>6362613</th>\n",
              "      <td>743</td>\n",
              "      <td>CASH_OUT</td>\n",
              "      <td>1258818.82</td>\n",
              "      <td>C1436118706</td>\n",
              "      <td>1258818.82</td>\n",
              "      <td>0.0</td>\n",
              "      <td>C1240760502</td>\n",
              "      <td>503464.50</td>\n",
              "      <td>1762283.33</td>\n",
              "      <td>1</td>\n",
              "      <td>0</td>\n",
              "    </tr>\n",
              "    <tr>\n",
              "      <th>6362615</th>\n",
              "      <td>743</td>\n",
              "      <td>CASH_OUT</td>\n",
              "      <td>339682.13</td>\n",
              "      <td>C786484425</td>\n",
              "      <td>339682.13</td>\n",
              "      <td>0.0</td>\n",
              "      <td>C776919290</td>\n",
              "      <td>0.00</td>\n",
              "      <td>339682.13</td>\n",
              "      <td>1</td>\n",
              "      <td>0</td>\n",
              "    </tr>\n",
              "    <tr>\n",
              "      <th>6362617</th>\n",
              "      <td>743</td>\n",
              "      <td>CASH_OUT</td>\n",
              "      <td>6311409.28</td>\n",
              "      <td>C1162922333</td>\n",
              "      <td>6311409.28</td>\n",
              "      <td>0.0</td>\n",
              "      <td>C1365125890</td>\n",
              "      <td>68488.84</td>\n",
              "      <td>6379898.11</td>\n",
              "      <td>1</td>\n",
              "      <td>0</td>\n",
              "    </tr>\n",
              "    <tr>\n",
              "      <th>6362619</th>\n",
              "      <td>743</td>\n",
              "      <td>CASH_OUT</td>\n",
              "      <td>850002.52</td>\n",
              "      <td>C1280323807</td>\n",
              "      <td>850002.52</td>\n",
              "      <td>0.0</td>\n",
              "      <td>C873221189</td>\n",
              "      <td>6510099.11</td>\n",
              "      <td>7360101.63</td>\n",
              "      <td>1</td>\n",
              "      <td>0</td>\n",
              "    </tr>\n",
              "  </tbody>\n",
              "</table>\n",
              "<p>2237500 rows × 11 columns</p>\n",
              "</div>"
            ],
            "text/plain": [
              "         step      type      amount     nameOrig  oldbalanceOrg  \\\n",
              "3           1  CASH_OUT      181.00   C840083671         181.00   \n",
              "15          1  CASH_OUT   229133.94   C905080434       15325.00   \n",
              "42          1  CASH_OUT   110414.71   C768216420       26845.41   \n",
              "47          1  CASH_OUT    56953.90  C1570470538        1942.02   \n",
              "48          1  CASH_OUT     5346.89   C512549200           0.00   \n",
              "...       ...       ...         ...          ...            ...   \n",
              "6362611   742  CASH_OUT    63416.99   C994950684       63416.99   \n",
              "6362613   743  CASH_OUT  1258818.82  C1436118706     1258818.82   \n",
              "6362615   743  CASH_OUT   339682.13   C786484425      339682.13   \n",
              "6362617   743  CASH_OUT  6311409.28  C1162922333     6311409.28   \n",
              "6362619   743  CASH_OUT   850002.52  C1280323807      850002.52   \n",
              "\n",
              "         newbalanceOrig     nameDest  oldbalanceDest  newbalanceDest  isFraud  \\\n",
              "3                   0.0    C38997010        21182.00            0.00        1   \n",
              "15                  0.0   C476402209         5083.00        51513.44        0   \n",
              "42                  0.0  C1509514333       288800.00         2415.16        0   \n",
              "47                  0.0   C824009085        70253.00        64106.18        0   \n",
              "48                  0.0   C248609774       652637.00      6453430.91        0   \n",
              "...                 ...          ...             ...             ...      ...   \n",
              "6362611             0.0  C1662241365       276433.18       339850.17        1   \n",
              "6362613             0.0  C1240760502       503464.50      1762283.33        1   \n",
              "6362615             0.0   C776919290            0.00       339682.13        1   \n",
              "6362617             0.0  C1365125890        68488.84      6379898.11        1   \n",
              "6362619             0.0   C873221189      6510099.11      7360101.63        1   \n",
              "\n",
              "         isFlaggedFraud  \n",
              "3                     0  \n",
              "15                    0  \n",
              "42                    0  \n",
              "47                    0  \n",
              "48                    0  \n",
              "...                 ...  \n",
              "6362611               0  \n",
              "6362613               0  \n",
              "6362615               0  \n",
              "6362617               0  \n",
              "6362619               0  \n",
              "\n",
              "[2237500 rows x 11 columns]"
            ]
          },
          "execution_count": 4,
          "metadata": {},
          "output_type": "execute_result"
        }
      ],
      "source": [
        "paysim_cash_out = paysim[paysim['type'].eq('CASH_OUT')]\n",
        "paysim_cash_out"
      ]
    },
    {
      "cell_type": "code",
      "execution_count": 5,
      "metadata": {
        "colab": {
          "base_uri": "https://localhost:8080/",
          "height": 444
        },
        "id": "lFdWpmk5MIkn",
        "outputId": "0ff02a05-6d81-4d32-c9e0-ea1825fb0a70"
      },
      "outputs": [
        {
          "data": {
            "text/html": [
              "<div>\n",
              "<style scoped>\n",
              "    .dataframe tbody tr th:only-of-type {\n",
              "        vertical-align: middle;\n",
              "    }\n",
              "\n",
              "    .dataframe tbody tr th {\n",
              "        vertical-align: top;\n",
              "    }\n",
              "\n",
              "    .dataframe thead th {\n",
              "        text-align: right;\n",
              "    }\n",
              "</style>\n",
              "<table border=\"1\" class=\"dataframe\">\n",
              "  <thead>\n",
              "    <tr style=\"text-align: right;\">\n",
              "      <th></th>\n",
              "      <th>step</th>\n",
              "      <th>type</th>\n",
              "      <th>amount</th>\n",
              "      <th>nameOrig</th>\n",
              "      <th>oldbalanceOrg</th>\n",
              "      <th>newbalanceOrig</th>\n",
              "      <th>nameDest</th>\n",
              "      <th>oldbalanceDest</th>\n",
              "      <th>newbalanceDest</th>\n",
              "      <th>isFraud</th>\n",
              "      <th>isFlaggedFraud</th>\n",
              "    </tr>\n",
              "  </thead>\n",
              "  <tbody>\n",
              "    <tr>\n",
              "      <th>2</th>\n",
              "      <td>1</td>\n",
              "      <td>TRANSFER</td>\n",
              "      <td>181.00</td>\n",
              "      <td>C1305486145</td>\n",
              "      <td>181.00</td>\n",
              "      <td>0.0</td>\n",
              "      <td>C553264065</td>\n",
              "      <td>0.00</td>\n",
              "      <td>0.00</td>\n",
              "      <td>1</td>\n",
              "      <td>0</td>\n",
              "    </tr>\n",
              "    <tr>\n",
              "      <th>19</th>\n",
              "      <td>1</td>\n",
              "      <td>TRANSFER</td>\n",
              "      <td>215310.30</td>\n",
              "      <td>C1670993182</td>\n",
              "      <td>705.00</td>\n",
              "      <td>0.0</td>\n",
              "      <td>C1100439041</td>\n",
              "      <td>22425.00</td>\n",
              "      <td>0.00</td>\n",
              "      <td>0</td>\n",
              "      <td>0</td>\n",
              "    </tr>\n",
              "    <tr>\n",
              "      <th>24</th>\n",
              "      <td>1</td>\n",
              "      <td>TRANSFER</td>\n",
              "      <td>311685.89</td>\n",
              "      <td>C1984094095</td>\n",
              "      <td>10835.00</td>\n",
              "      <td>0.0</td>\n",
              "      <td>C932583850</td>\n",
              "      <td>6267.00</td>\n",
              "      <td>2719172.89</td>\n",
              "      <td>0</td>\n",
              "      <td>0</td>\n",
              "    </tr>\n",
              "    <tr>\n",
              "      <th>58</th>\n",
              "      <td>1</td>\n",
              "      <td>TRANSFER</td>\n",
              "      <td>62610.80</td>\n",
              "      <td>C1976401987</td>\n",
              "      <td>79114.00</td>\n",
              "      <td>16503.2</td>\n",
              "      <td>C1937962514</td>\n",
              "      <td>517.00</td>\n",
              "      <td>8383.29</td>\n",
              "      <td>0</td>\n",
              "      <td>0</td>\n",
              "    </tr>\n",
              "    <tr>\n",
              "      <th>78</th>\n",
              "      <td>1</td>\n",
              "      <td>TRANSFER</td>\n",
              "      <td>42712.39</td>\n",
              "      <td>C283039401</td>\n",
              "      <td>10363.39</td>\n",
              "      <td>0.0</td>\n",
              "      <td>C1330106945</td>\n",
              "      <td>57901.66</td>\n",
              "      <td>24044.18</td>\n",
              "      <td>0</td>\n",
              "      <td>0</td>\n",
              "    </tr>\n",
              "    <tr>\n",
              "      <th>...</th>\n",
              "      <td>...</td>\n",
              "      <td>...</td>\n",
              "      <td>...</td>\n",
              "      <td>...</td>\n",
              "      <td>...</td>\n",
              "      <td>...</td>\n",
              "      <td>...</td>\n",
              "      <td>...</td>\n",
              "      <td>...</td>\n",
              "      <td>...</td>\n",
              "      <td>...</td>\n",
              "    </tr>\n",
              "    <tr>\n",
              "      <th>6362610</th>\n",
              "      <td>742</td>\n",
              "      <td>TRANSFER</td>\n",
              "      <td>63416.99</td>\n",
              "      <td>C778071008</td>\n",
              "      <td>63416.99</td>\n",
              "      <td>0.0</td>\n",
              "      <td>C1812552860</td>\n",
              "      <td>0.00</td>\n",
              "      <td>0.00</td>\n",
              "      <td>1</td>\n",
              "      <td>0</td>\n",
              "    </tr>\n",
              "    <tr>\n",
              "      <th>6362612</th>\n",
              "      <td>743</td>\n",
              "      <td>TRANSFER</td>\n",
              "      <td>1258818.82</td>\n",
              "      <td>C1531301470</td>\n",
              "      <td>1258818.82</td>\n",
              "      <td>0.0</td>\n",
              "      <td>C1470998563</td>\n",
              "      <td>0.00</td>\n",
              "      <td>0.00</td>\n",
              "      <td>1</td>\n",
              "      <td>0</td>\n",
              "    </tr>\n",
              "    <tr>\n",
              "      <th>6362614</th>\n",
              "      <td>743</td>\n",
              "      <td>TRANSFER</td>\n",
              "      <td>339682.13</td>\n",
              "      <td>C2013999242</td>\n",
              "      <td>339682.13</td>\n",
              "      <td>0.0</td>\n",
              "      <td>C1850423904</td>\n",
              "      <td>0.00</td>\n",
              "      <td>0.00</td>\n",
              "      <td>1</td>\n",
              "      <td>0</td>\n",
              "    </tr>\n",
              "    <tr>\n",
              "      <th>6362616</th>\n",
              "      <td>743</td>\n",
              "      <td>TRANSFER</td>\n",
              "      <td>6311409.28</td>\n",
              "      <td>C1529008245</td>\n",
              "      <td>6311409.28</td>\n",
              "      <td>0.0</td>\n",
              "      <td>C1881841831</td>\n",
              "      <td>0.00</td>\n",
              "      <td>0.00</td>\n",
              "      <td>1</td>\n",
              "      <td>0</td>\n",
              "    </tr>\n",
              "    <tr>\n",
              "      <th>6362618</th>\n",
              "      <td>743</td>\n",
              "      <td>TRANSFER</td>\n",
              "      <td>850002.52</td>\n",
              "      <td>C1685995037</td>\n",
              "      <td>850002.52</td>\n",
              "      <td>0.0</td>\n",
              "      <td>C2080388513</td>\n",
              "      <td>0.00</td>\n",
              "      <td>0.00</td>\n",
              "      <td>1</td>\n",
              "      <td>0</td>\n",
              "    </tr>\n",
              "  </tbody>\n",
              "</table>\n",
              "<p>532909 rows × 11 columns</p>\n",
              "</div>"
            ],
            "text/plain": [
              "         step      type      amount     nameOrig  oldbalanceOrg  \\\n",
              "2           1  TRANSFER      181.00  C1305486145         181.00   \n",
              "19          1  TRANSFER   215310.30  C1670993182         705.00   \n",
              "24          1  TRANSFER   311685.89  C1984094095       10835.00   \n",
              "58          1  TRANSFER    62610.80  C1976401987       79114.00   \n",
              "78          1  TRANSFER    42712.39   C283039401       10363.39   \n",
              "...       ...       ...         ...          ...            ...   \n",
              "6362610   742  TRANSFER    63416.99   C778071008       63416.99   \n",
              "6362612   743  TRANSFER  1258818.82  C1531301470     1258818.82   \n",
              "6362614   743  TRANSFER   339682.13  C2013999242      339682.13   \n",
              "6362616   743  TRANSFER  6311409.28  C1529008245     6311409.28   \n",
              "6362618   743  TRANSFER   850002.52  C1685995037      850002.52   \n",
              "\n",
              "         newbalanceOrig     nameDest  oldbalanceDest  newbalanceDest  isFraud  \\\n",
              "2                   0.0   C553264065            0.00            0.00        1   \n",
              "19                  0.0  C1100439041        22425.00            0.00        0   \n",
              "24                  0.0   C932583850         6267.00      2719172.89        0   \n",
              "58              16503.2  C1937962514          517.00         8383.29        0   \n",
              "78                  0.0  C1330106945        57901.66        24044.18        0   \n",
              "...                 ...          ...             ...             ...      ...   \n",
              "6362610             0.0  C1812552860            0.00            0.00        1   \n",
              "6362612             0.0  C1470998563            0.00            0.00        1   \n",
              "6362614             0.0  C1850423904            0.00            0.00        1   \n",
              "6362616             0.0  C1881841831            0.00            0.00        1   \n",
              "6362618             0.0  C2080388513            0.00            0.00        1   \n",
              "\n",
              "         isFlaggedFraud  \n",
              "2                     0  \n",
              "19                    0  \n",
              "24                    0  \n",
              "58                    0  \n",
              "78                    0  \n",
              "...                 ...  \n",
              "6362610               0  \n",
              "6362612               0  \n",
              "6362614               0  \n",
              "6362616               0  \n",
              "6362618               0  \n",
              "\n",
              "[532909 rows x 11 columns]"
            ]
          },
          "execution_count": 5,
          "metadata": {},
          "output_type": "execute_result"
        }
      ],
      "source": [
        "paysim_transfer = paysim[paysim['type'].eq('TRANSFER')]\n",
        "paysim_transfer"
      ]
    },
    {
      "cell_type": "code",
      "execution_count": 6,
      "metadata": {
        "colab": {
          "base_uri": "https://localhost:8080/",
          "height": 444
        },
        "id": "m2YpNeFyzzw1",
        "outputId": "27b553d4-e5fc-44b6-e868-0ec3f1bae76d"
      },
      "outputs": [],
      "source": [
        "# model_data = paysim[paysim['type'].isin(['CASH_OUT', 'TRANSFER'])]\n",
        "# model_data"
      ]
    },
    {
      "cell_type": "code",
      "execution_count": 7,
      "metadata": {
        "id": "2vARiDfi0A5s"
      },
      "outputs": [],
      "source": [
        "### Nghĩ ra ý tưởng để tạo thêm thông tin từ dữ liệu gốc (phân tích dữ liệu để phái sinh biến)"
      ]
    },
    {
      "cell_type": "code",
      "execution_count": 8,
      "metadata": {
        "colab": {
          "base_uri": "https://localhost:8080/",
          "height": 296
        },
        "id": "HpS6K8A5QIee",
        "outputId": "504ca88d-ca95-4e45-b7ad-23efe75f2a7b"
      },
      "outputs": [
        {
          "data": {
            "text/plain": [
              "<AxesSubplot:xlabel='amount', ylabel='Probability'>"
            ]
          },
          "execution_count": 8,
          "metadata": {},
          "output_type": "execute_result"
        },
        {
          "data": {
            "image/png": "[encoded data removed]",
            "text/plain": [
              "<Figure size 432x288 with 1 Axes>"
            ]
          },
          "metadata": {
            "needs_background": "light"
          },
          "output_type": "display_data"
        }
      ],
      "source": [
        "sns.histplot(\n",
        "    # data=paysim_transfer,\n",
        "    x=np.log1p(paysim_transfer['amount']),\n",
        "    hue=paysim_transfer['isFraud'],\n",
        "    stat='probability',\n",
        "    common_norm=False\n",
        ")"
      ]
    },
    {
      "cell_type": "code",
      "execution_count": 9,
      "metadata": {
        "id": "y4yLeTGA1Sc6"
      },
      "outputs": [],
      "source": [
        "# Ý tưởng của bạn Trâm: \n",
        "# 1. tính tốc độ giao dịch_khác biệt về thời gian giữa giao dịch hiện tại và giao dịch trước đó\n",
        "# 2. Khác biệt về số tiền\n",
        "# Ý tưởng của bạn Thương\n",
        "# 3. Tính giá trị giao dịch và số lượng giao dịch trong một thời gian ngắn \n",
        "# Ý tưởng của bạn Thái\n",
        "# 4. Tính giá trị giao dịch so với số dư bắt đầu (hoặc ngược lại, số dư còn lại/số dư ban đầu)\n"
      ]
    },
    {
      "cell_type": "code",
      "execution_count": 10,
      "metadata": {
        "colab": {
          "base_uri": "https://localhost:8080/"
        },
        "id": "ymIlMKY92zCB",
        "outputId": "7fb1d165-5bf3-4f13-8f0a-b62659d5ba68"
      },
      "outputs": [
        {
          "data": {
            "text/plain": [
              "array(['C1305486145', 'C1670993182', 'C1984094095', ..., 'C2013999242',\n",
              "       'C1529008245', 'C1685995037'], dtype=object)"
            ]
          },
          "execution_count": 10,
          "metadata": {},
          "output_type": "execute_result"
        }
      ],
      "source": [
        "name_orig = paysim_transfer['nameOrig'].unique()\n",
        "name_orig"
      ]
    },
    {
      "cell_type": "code",
      "execution_count": 11,
      "metadata": {
        "colab": {
          "base_uri": "https://localhost:8080/"
        },
        "id": "D6BVapHs3lwQ",
        "outputId": "b2465fad-48ef-4c42-a7ed-257da8b0c2dc"
      },
      "outputs": [
        {
          "data": {
            "text/plain": [
              "C683822340     2\n",
              "C1991760030    2\n",
              "C1886544249    2\n",
              "C1463235060    2\n",
              "C1162384917    2\n",
              "              ..\n",
              "C225453745     1\n",
              "C595147259     1\n",
              "C1524339667    1\n",
              "C956283219     1\n",
              "C1685995037    1\n",
              "Name: nameOrig, Length: 532839, dtype: int64"
            ]
          },
          "execution_count": 11,
          "metadata": {},
          "output_type": "execute_result"
        }
      ],
      "source": [
        "paysim_transfer['nameOrig'].value_counts()"
      ]
    },
    {
      "cell_type": "code",
      "execution_count": 12,
      "metadata": {
        "colab": {
          "base_uri": "https://localhost:8080/"
        },
        "id": "DmxYz3393Pqg",
        "outputId": "72652909-72a9-4828-eec8-cba30efeff53"
      },
      "outputs": [
        {
          "data": {
            "text/plain": [
              "1397566     NaN\n",
              "2726926    73.0\n",
              "Name: step, dtype: float64"
            ]
          },
          "execution_count": 12,
          "metadata": {},
          "output_type": "execute_result"
        }
      ],
      "source": [
        "paysim_transfer[paysim_transfer['nameOrig'].eq('C1991760030')]['step'].diff() # Không nên làm thế này"
      ]
    },
    {
      "cell_type": "code",
      "execution_count": 13,
      "metadata": {
        "id": "aN9A8qwW3z6b"
      },
      "outputs": [
        {
          "data": {
            "text/plain": [
              "2         NaN\n",
              "19        NaN\n",
              "24        NaN\n",
              "58        NaN\n",
              "78        NaN\n",
              "           ..\n",
              "6362610   NaN\n",
              "6362612   NaN\n",
              "6362614   NaN\n",
              "6362616   NaN\n",
              "6362618   NaN\n",
              "Name: step, Length: 532909, dtype: float64"
            ]
          },
          "execution_count": 13,
          "metadata": {},
          "output_type": "execute_result"
        }
      ],
      "source": [
        "paysim_transfer.groupby('nameOrig', sort=False)['step'].diff()"
      ]
    },
    {
      "cell_type": "code",
      "execution_count": 14,
      "metadata": {},
      "outputs": [
        {
          "data": {
            "text/plain": [
              "C665576141     31\n",
              "C1286084959    30\n",
              "C863811613     28\n",
              "C97730845      26\n",
              "C248609774     26\n",
              "               ..\n",
              "C1395427911     1\n",
              "C49904924       1\n",
              "C217853467      1\n",
              "C628850121      1\n",
              "C2080388513     1\n",
              "Name: nameDest, Length: 237006, dtype: int64"
            ]
          },
          "execution_count": 14,
          "metadata": {},
          "output_type": "execute_result"
        }
      ],
      "source": [
        "paysim_transfer['nameDest'].value_counts()"
      ]
    },
    {
      "cell_type": "code",
      "execution_count": 15,
      "metadata": {},
      "outputs": [
        {
          "data": {
            "text/plain": [
              "2         NaN\n",
              "19        NaN\n",
              "24        NaN\n",
              "58        NaN\n",
              "78        NaN\n",
              "           ..\n",
              "6362610   NaN\n",
              "6362612   NaN\n",
              "6362614   NaN\n",
              "6362616   NaN\n",
              "6362618   NaN\n",
              "Name: step, Length: 532909, dtype: float64"
            ]
          },
          "execution_count": 15,
          "metadata": {},
          "output_type": "execute_result"
        }
      ],
      "source": [
        "# Tính tốc độ giao dịch\n",
        "step_diff = paysim_transfer.groupby('nameDest', sort=False)['step'].diff()\n",
        "step_diff"
      ]
    },
    {
      "cell_type": "code",
      "execution_count": 16,
      "metadata": {},
      "outputs": [
        {
          "data": {
            "text/plain": [
              "2         NaN\n",
              "19        NaN\n",
              "24        NaN\n",
              "58        NaN\n",
              "78        NaN\n",
              "           ..\n",
              "6362610   NaN\n",
              "6362612   NaN\n",
              "6362614   NaN\n",
              "6362616   NaN\n",
              "6362618   NaN\n",
              "Name: amount, Length: 532909, dtype: float64"
            ]
          },
          "execution_count": 16,
          "metadata": {},
          "output_type": "execute_result"
        }
      ],
      "source": [
        "# Tính khác biệt về số tiền\n",
        "amount_diff = paysim_transfer.groupby('nameDest', sort=False)['amount'].diff()\n",
        "amount_diff"
      ]
    },
    {
      "cell_type": "code",
      "execution_count": 17,
      "metadata": {},
      "outputs": [
        {
          "data": {
            "text/plain": [
              "nameDest            \n",
              "C553264065   2                 NaN\n",
              "             6167        110166.65\n",
              "             62736      1557307.86\n",
              "             425019     1448813.69\n",
              "             704677       49881.37\n",
              "                           ...    \n",
              "C1812552860  6362610           NaN\n",
              "C1470998563  6362612           NaN\n",
              "C1850423904  6362614           NaN\n",
              "C1881841831  6362616           NaN\n",
              "C2080388513  6362618           NaN\n",
              "Name: amount, Length: 532909, dtype: float64"
            ]
          },
          "execution_count": 17,
          "metadata": {},
          "output_type": "execute_result"
        }
      ],
      "source": [
        "# Tính số lượng và giá trị giao dịch trong tgian ngắn -> vì step ko ở dạng ngày tháng nên có\n",
        "# thể chuyển sang tính giá trị giao dịch trong 2-5 giao dịch trước đấy\n",
        "amount_rolling_2 = paysim_transfer.groupby('nameDest', sort=False).rolling(2)['amount'].sum()\n",
        "amount_rolling_2"
      ]
    },
    {
      "cell_type": "code",
      "execution_count": 18,
      "metadata": {},
      "outputs": [
        {
          "data": {
            "text/plain": [
              "2                0.00\n",
              "6167        110166.65\n",
              "62736      1557307.86\n",
              "425019     1448813.69\n",
              "704677       49881.37\n",
              "              ...    \n",
              "6362610          0.00\n",
              "6362612          0.00\n",
              "6362614          0.00\n",
              "6362616          0.00\n",
              "6362618          0.00\n",
              "Name: amount, Length: 532909, dtype: float64"
            ]
          },
          "execution_count": 18,
          "metadata": {},
          "output_type": "execute_result"
        }
      ],
      "source": [
        "amount_rolling_2.droplevel(0).fillna(0)"
      ]
    },
    {
      "cell_type": "code",
      "execution_count": 19,
      "metadata": {},
      "outputs": [
        {
          "data": {
            "text/plain": [
              "2         2021-11-22 01:00:00\n",
              "19        2021-11-22 01:00:00\n",
              "24        2021-11-22 01:00:00\n",
              "58        2021-11-22 01:00:00\n",
              "78        2021-11-22 01:00:00\n",
              "                  ...        \n",
              "6362610   2021-12-22 22:00:00\n",
              "6362612   2021-12-22 23:00:00\n",
              "6362614   2021-12-22 23:00:00\n",
              "6362616   2021-12-22 23:00:00\n",
              "6362618   2021-12-22 23:00:00\n",
              "Name: step, Length: 532909, dtype: datetime64[ns]"
            ]
          },
          "execution_count": 19,
          "metadata": {},
          "output_type": "execute_result"
        }
      ],
      "source": [
        "# có thể thử chuyển dữ liệu step sang dạng ngày tháng để rolling bằng cách, cộng một ngày cố định vào step\n",
        "pd.Timestamp('2021-11-22') + paysim_transfer['step'].apply(lambda x: pd.Timedelta(x, 'H'))\n",
        "\n",
        "# .rolling('1H', on='TRANS_TIME')"
      ]
    },
    {
      "cell_type": "code",
      "execution_count": 20,
      "metadata": {},
      "outputs": [
        {
          "data": {
            "text/html": [
              "<div>\n",
              "<style scoped>\n",
              "    .dataframe tbody tr th:only-of-type {\n",
              "        vertical-align: middle;\n",
              "    }\n",
              "\n",
              "    .dataframe tbody tr th {\n",
              "        vertical-align: top;\n",
              "    }\n",
              "\n",
              "    .dataframe thead th {\n",
              "        text-align: right;\n",
              "    }\n",
              "</style>\n",
              "<table border=\"1\" class=\"dataframe\">\n",
              "  <thead>\n",
              "    <tr style=\"text-align: right;\">\n",
              "      <th></th>\n",
              "      <th>step</th>\n",
              "      <th>type</th>\n",
              "      <th>amount</th>\n",
              "      <th>nameOrig</th>\n",
              "      <th>oldbalanceOrg</th>\n",
              "      <th>newbalanceOrig</th>\n",
              "      <th>nameDest</th>\n",
              "      <th>oldbalanceDest</th>\n",
              "      <th>newbalanceDest</th>\n",
              "      <th>isFraud</th>\n",
              "      <th>isFlaggedFraud</th>\n",
              "    </tr>\n",
              "  </thead>\n",
              "  <tbody>\n",
              "    <tr>\n",
              "      <th>2</th>\n",
              "      <td>1</td>\n",
              "      <td>TRANSFER</td>\n",
              "      <td>181.00</td>\n",
              "      <td>C1305486145</td>\n",
              "      <td>181.00</td>\n",
              "      <td>0.0</td>\n",
              "      <td>C553264065</td>\n",
              "      <td>0.00</td>\n",
              "      <td>0.00</td>\n",
              "      <td>1</td>\n",
              "      <td>0</td>\n",
              "    </tr>\n",
              "    <tr>\n",
              "      <th>19</th>\n",
              "      <td>1</td>\n",
              "      <td>TRANSFER</td>\n",
              "      <td>215310.30</td>\n",
              "      <td>C1670993182</td>\n",
              "      <td>705.00</td>\n",
              "      <td>0.0</td>\n",
              "      <td>C1100439041</td>\n",
              "      <td>22425.00</td>\n",
              "      <td>0.00</td>\n",
              "      <td>0</td>\n",
              "      <td>0</td>\n",
              "    </tr>\n",
              "    <tr>\n",
              "      <th>24</th>\n",
              "      <td>1</td>\n",
              "      <td>TRANSFER</td>\n",
              "      <td>311685.89</td>\n",
              "      <td>C1984094095</td>\n",
              "      <td>10835.00</td>\n",
              "      <td>0.0</td>\n",
              "      <td>C932583850</td>\n",
              "      <td>6267.00</td>\n",
              "      <td>2719172.89</td>\n",
              "      <td>0</td>\n",
              "      <td>0</td>\n",
              "    </tr>\n",
              "    <tr>\n",
              "      <th>58</th>\n",
              "      <td>1</td>\n",
              "      <td>TRANSFER</td>\n",
              "      <td>62610.80</td>\n",
              "      <td>C1976401987</td>\n",
              "      <td>79114.00</td>\n",
              "      <td>16503.2</td>\n",
              "      <td>C1937962514</td>\n",
              "      <td>517.00</td>\n",
              "      <td>8383.29</td>\n",
              "      <td>0</td>\n",
              "      <td>0</td>\n",
              "    </tr>\n",
              "    <tr>\n",
              "      <th>78</th>\n",
              "      <td>1</td>\n",
              "      <td>TRANSFER</td>\n",
              "      <td>42712.39</td>\n",
              "      <td>C283039401</td>\n",
              "      <td>10363.39</td>\n",
              "      <td>0.0</td>\n",
              "      <td>C1330106945</td>\n",
              "      <td>57901.66</td>\n",
              "      <td>24044.18</td>\n",
              "      <td>0</td>\n",
              "      <td>0</td>\n",
              "    </tr>\n",
              "    <tr>\n",
              "      <th>...</th>\n",
              "      <td>...</td>\n",
              "      <td>...</td>\n",
              "      <td>...</td>\n",
              "      <td>...</td>\n",
              "      <td>...</td>\n",
              "      <td>...</td>\n",
              "      <td>...</td>\n",
              "      <td>...</td>\n",
              "      <td>...</td>\n",
              "      <td>...</td>\n",
              "      <td>...</td>\n",
              "    </tr>\n",
              "    <tr>\n",
              "      <th>6362610</th>\n",
              "      <td>742</td>\n",
              "      <td>TRANSFER</td>\n",
              "      <td>63416.99</td>\n",
              "      <td>C778071008</td>\n",
              "      <td>63416.99</td>\n",
              "      <td>0.0</td>\n",
              "      <td>C1812552860</td>\n",
              "      <td>0.00</td>\n",
              "      <td>0.00</td>\n",
              "      <td>1</td>\n",
              "      <td>0</td>\n",
              "    </tr>\n",
              "    <tr>\n",
              "      <th>6362612</th>\n",
              "      <td>743</td>\n",
              "      <td>TRANSFER</td>\n",
              "      <td>1258818.82</td>\n",
              "      <td>C1531301470</td>\n",
              "      <td>1258818.82</td>\n",
              "      <td>0.0</td>\n",
              "      <td>C1470998563</td>\n",
              "      <td>0.00</td>\n",
              "      <td>0.00</td>\n",
              "      <td>1</td>\n",
              "      <td>0</td>\n",
              "    </tr>\n",
              "    <tr>\n",
              "      <th>6362614</th>\n",
              "      <td>743</td>\n",
              "      <td>TRANSFER</td>\n",
              "      <td>339682.13</td>\n",
              "      <td>C2013999242</td>\n",
              "      <td>339682.13</td>\n",
              "      <td>0.0</td>\n",
              "      <td>C1850423904</td>\n",
              "      <td>0.00</td>\n",
              "      <td>0.00</td>\n",
              "      <td>1</td>\n",
              "      <td>0</td>\n",
              "    </tr>\n",
              "    <tr>\n",
              "      <th>6362616</th>\n",
              "      <td>743</td>\n",
              "      <td>TRANSFER</td>\n",
              "      <td>6311409.28</td>\n",
              "      <td>C1529008245</td>\n",
              "      <td>6311409.28</td>\n",
              "      <td>0.0</td>\n",
              "      <td>C1881841831</td>\n",
              "      <td>0.00</td>\n",
              "      <td>0.00</td>\n",
              "      <td>1</td>\n",
              "      <td>0</td>\n",
              "    </tr>\n",
              "    <tr>\n",
              "      <th>6362618</th>\n",
              "      <td>743</td>\n",
              "      <td>TRANSFER</td>\n",
              "      <td>850002.52</td>\n",
              "      <td>C1685995037</td>\n",
              "      <td>850002.52</td>\n",
              "      <td>0.0</td>\n",
              "      <td>C2080388513</td>\n",
              "      <td>0.00</td>\n",
              "      <td>0.00</td>\n",
              "      <td>1</td>\n",
              "      <td>0</td>\n",
              "    </tr>\n",
              "  </tbody>\n",
              "</table>\n",
              "<p>532909 rows × 11 columns</p>\n",
              "</div>"
            ],
            "text/plain": [
              "         step      type      amount     nameOrig  oldbalanceOrg  \\\n",
              "2           1  TRANSFER      181.00  C1305486145         181.00   \n",
              "19          1  TRANSFER   215310.30  C1670993182         705.00   \n",
              "24          1  TRANSFER   311685.89  C1984094095       10835.00   \n",
              "58          1  TRANSFER    62610.80  C1976401987       79114.00   \n",
              "78          1  TRANSFER    42712.39   C283039401       10363.39   \n",
              "...       ...       ...         ...          ...            ...   \n",
              "6362610   742  TRANSFER    63416.99   C778071008       63416.99   \n",
              "6362612   743  TRANSFER  1258818.82  C1531301470     1258818.82   \n",
              "6362614   743  TRANSFER   339682.13  C2013999242      339682.13   \n",
              "6362616   743  TRANSFER  6311409.28  C1529008245     6311409.28   \n",
              "6362618   743  TRANSFER   850002.52  C1685995037      850002.52   \n",
              "\n",
              "         newbalanceOrig     nameDest  oldbalanceDest  newbalanceDest  isFraud  \\\n",
              "2                   0.0   C553264065            0.00            0.00        1   \n",
              "19                  0.0  C1100439041        22425.00            0.00        0   \n",
              "24                  0.0   C932583850         6267.00      2719172.89        0   \n",
              "58              16503.2  C1937962514          517.00         8383.29        0   \n",
              "78                  0.0  C1330106945        57901.66        24044.18        0   \n",
              "...                 ...          ...             ...             ...      ...   \n",
              "6362610             0.0  C1812552860            0.00            0.00        1   \n",
              "6362612             0.0  C1470998563            0.00            0.00        1   \n",
              "6362614             0.0  C1850423904            0.00            0.00        1   \n",
              "6362616             0.0  C1881841831            0.00            0.00        1   \n",
              "6362618             0.0  C2080388513            0.00            0.00        1   \n",
              "\n",
              "         isFlaggedFraud  \n",
              "2                     0  \n",
              "19                    0  \n",
              "24                    0  \n",
              "58                    0  \n",
              "78                    0  \n",
              "...                 ...  \n",
              "6362610               0  \n",
              "6362612               0  \n",
              "6362614               0  \n",
              "6362616               0  \n",
              "6362618               0  \n",
              "\n",
              "[532909 rows x 11 columns]"
            ]
          },
          "execution_count": 20,
          "metadata": {},
          "output_type": "execute_result"
        }
      ],
      "source": [
        "paysim_transfer"
      ]
    },
    {
      "cell_type": "code",
      "execution_count": 21,
      "metadata": {},
      "outputs": [],
      "source": [
        "trans_amount_account_bal = paysim_transfer['amount'].div(paysim_transfer['oldbalanceOrg'])\n",
        "old_new_account_bal = paysim_transfer['newbalanceOrig'].div(paysim_transfer['oldbalanceOrg'])"
      ]
    },
    {
      "cell_type": "code",
      "execution_count": 22,
      "metadata": {},
      "outputs": [
        {
          "data": {
            "text/plain": [
              "2            1.000000\n",
              "19         305.404681\n",
              "24          28.766580\n",
              "58           0.791400\n",
              "78           4.121469\n",
              "              ...    \n",
              "6362610      1.000000\n",
              "6362612      1.000000\n",
              "6362614      1.000000\n",
              "6362616      1.000000\n",
              "6362618      1.000000\n",
              "Length: 532909, dtype: float64"
            ]
          },
          "execution_count": 22,
          "metadata": {},
          "output_type": "execute_result"
        }
      ],
      "source": [
        "trans_amount_account_bal"
      ]
    },
    {
      "cell_type": "code",
      "execution_count": 23,
      "metadata": {},
      "outputs": [
        {
          "data": {
            "text/plain": [
              "2          0.0000\n",
              "19         0.0000\n",
              "24         0.0000\n",
              "58         0.2086\n",
              "78         0.0000\n",
              "            ...  \n",
              "6362610    0.0000\n",
              "6362612    0.0000\n",
              "6362614    0.0000\n",
              "6362616    0.0000\n",
              "6362618    0.0000\n",
              "Length: 532909, dtype: float64"
            ]
          },
          "execution_count": 23,
          "metadata": {},
          "output_type": "execute_result"
        }
      ],
      "source": [
        "old_new_account_bal"
      ]
    },
    {
      "cell_type": "code",
      "execution_count": 24,
      "metadata": {},
      "outputs": [
        {
          "data": {
            "text/html": [
              "<div>\n",
              "<style scoped>\n",
              "    .dataframe tbody tr th:only-of-type {\n",
              "        vertical-align: middle;\n",
              "    }\n",
              "\n",
              "    .dataframe tbody tr th {\n",
              "        vertical-align: top;\n",
              "    }\n",
              "\n",
              "    .dataframe thead th {\n",
              "        text-align: right;\n",
              "    }\n",
              "</style>\n",
              "<table border=\"1\" class=\"dataframe\">\n",
              "  <thead>\n",
              "    <tr style=\"text-align: right;\">\n",
              "      <th></th>\n",
              "      <th>step</th>\n",
              "      <th>type</th>\n",
              "      <th>amount</th>\n",
              "      <th>nameOrig</th>\n",
              "      <th>oldbalanceOrg</th>\n",
              "      <th>newbalanceOrig</th>\n",
              "      <th>nameDest</th>\n",
              "      <th>oldbalanceDest</th>\n",
              "      <th>newbalanceDest</th>\n",
              "      <th>isFraud</th>\n",
              "      <th>isFlaggedFraud</th>\n",
              "      <th>trans_amount_account_bal</th>\n",
              "      <th>old_new_account_bal</th>\n",
              "      <th>amount_rolling_2</th>\n",
              "      <th>step_diff</th>\n",
              "      <th>amount_diff</th>\n",
              "      <th>log_amount</th>\n",
              "    </tr>\n",
              "  </thead>\n",
              "  <tbody>\n",
              "    <tr>\n",
              "      <th>2</th>\n",
              "      <td>1</td>\n",
              "      <td>TRANSFER</td>\n",
              "      <td>181.00</td>\n",
              "      <td>C1305486145</td>\n",
              "      <td>181.00</td>\n",
              "      <td>0.0</td>\n",
              "      <td>C553264065</td>\n",
              "      <td>0.00</td>\n",
              "      <td>0.00</td>\n",
              "      <td>1</td>\n",
              "      <td>0</td>\n",
              "      <td>1.000000</td>\n",
              "      <td>0.0000</td>\n",
              "      <td>0.0</td>\n",
              "      <td>0.0</td>\n",
              "      <td>0.0</td>\n",
              "      <td>5.204007</td>\n",
              "    </tr>\n",
              "    <tr>\n",
              "      <th>19</th>\n",
              "      <td>1</td>\n",
              "      <td>TRANSFER</td>\n",
              "      <td>215310.30</td>\n",
              "      <td>C1670993182</td>\n",
              "      <td>705.00</td>\n",
              "      <td>0.0</td>\n",
              "      <td>C1100439041</td>\n",
              "      <td>22425.00</td>\n",
              "      <td>0.00</td>\n",
              "      <td>0</td>\n",
              "      <td>0</td>\n",
              "      <td>305.404681</td>\n",
              "      <td>0.0000</td>\n",
              "      <td>0.0</td>\n",
              "      <td>0.0</td>\n",
              "      <td>0.0</td>\n",
              "      <td>12.279840</td>\n",
              "    </tr>\n",
              "    <tr>\n",
              "      <th>24</th>\n",
              "      <td>1</td>\n",
              "      <td>TRANSFER</td>\n",
              "      <td>311685.89</td>\n",
              "      <td>C1984094095</td>\n",
              "      <td>10835.00</td>\n",
              "      <td>0.0</td>\n",
              "      <td>C932583850</td>\n",
              "      <td>6267.00</td>\n",
              "      <td>2719172.89</td>\n",
              "      <td>0</td>\n",
              "      <td>0</td>\n",
              "      <td>28.766580</td>\n",
              "      <td>0.0000</td>\n",
              "      <td>0.0</td>\n",
              "      <td>0.0</td>\n",
              "      <td>0.0</td>\n",
              "      <td>12.649754</td>\n",
              "    </tr>\n",
              "    <tr>\n",
              "      <th>58</th>\n",
              "      <td>1</td>\n",
              "      <td>TRANSFER</td>\n",
              "      <td>62610.80</td>\n",
              "      <td>C1976401987</td>\n",
              "      <td>79114.00</td>\n",
              "      <td>16503.2</td>\n",
              "      <td>C1937962514</td>\n",
              "      <td>517.00</td>\n",
              "      <td>8383.29</td>\n",
              "      <td>0</td>\n",
              "      <td>0</td>\n",
              "      <td>0.791400</td>\n",
              "      <td>0.2086</td>\n",
              "      <td>0.0</td>\n",
              "      <td>0.0</td>\n",
              "      <td>0.0</td>\n",
              "      <td>11.044709</td>\n",
              "    </tr>\n",
              "    <tr>\n",
              "      <th>78</th>\n",
              "      <td>1</td>\n",
              "      <td>TRANSFER</td>\n",
              "      <td>42712.39</td>\n",
              "      <td>C283039401</td>\n",
              "      <td>10363.39</td>\n",
              "      <td>0.0</td>\n",
              "      <td>C1330106945</td>\n",
              "      <td>57901.66</td>\n",
              "      <td>24044.18</td>\n",
              "      <td>0</td>\n",
              "      <td>0</td>\n",
              "      <td>4.121469</td>\n",
              "      <td>0.0000</td>\n",
              "      <td>0.0</td>\n",
              "      <td>0.0</td>\n",
              "      <td>0.0</td>\n",
              "      <td>10.662268</td>\n",
              "    </tr>\n",
              "    <tr>\n",
              "      <th>...</th>\n",
              "      <td>...</td>\n",
              "      <td>...</td>\n",
              "      <td>...</td>\n",
              "      <td>...</td>\n",
              "      <td>...</td>\n",
              "      <td>...</td>\n",
              "      <td>...</td>\n",
              "      <td>...</td>\n",
              "      <td>...</td>\n",
              "      <td>...</td>\n",
              "      <td>...</td>\n",
              "      <td>...</td>\n",
              "      <td>...</td>\n",
              "      <td>...</td>\n",
              "      <td>...</td>\n",
              "      <td>...</td>\n",
              "      <td>...</td>\n",
              "    </tr>\n",
              "    <tr>\n",
              "      <th>6362610</th>\n",
              "      <td>742</td>\n",
              "      <td>TRANSFER</td>\n",
              "      <td>63416.99</td>\n",
              "      <td>C778071008</td>\n",
              "      <td>63416.99</td>\n",
              "      <td>0.0</td>\n",
              "      <td>C1812552860</td>\n",
              "      <td>0.00</td>\n",
              "      <td>0.00</td>\n",
              "      <td>1</td>\n",
              "      <td>0</td>\n",
              "      <td>1.000000</td>\n",
              "      <td>0.0000</td>\n",
              "      <td>0.0</td>\n",
              "      <td>0.0</td>\n",
              "      <td>0.0</td>\n",
              "      <td>11.057503</td>\n",
              "    </tr>\n",
              "    <tr>\n",
              "      <th>6362612</th>\n",
              "      <td>743</td>\n",
              "      <td>TRANSFER</td>\n",
              "      <td>1258818.82</td>\n",
              "      <td>C1531301470</td>\n",
              "      <td>1258818.82</td>\n",
              "      <td>0.0</td>\n",
              "      <td>C1470998563</td>\n",
              "      <td>0.00</td>\n",
              "      <td>0.00</td>\n",
              "      <td>1</td>\n",
              "      <td>0</td>\n",
              "      <td>1.000000</td>\n",
              "      <td>0.0000</td>\n",
              "      <td>0.0</td>\n",
              "      <td>0.0</td>\n",
              "      <td>0.0</td>\n",
              "      <td>14.045685</td>\n",
              "    </tr>\n",
              "    <tr>\n",
              "      <th>6362614</th>\n",
              "      <td>743</td>\n",
              "      <td>TRANSFER</td>\n",
              "      <td>339682.13</td>\n",
              "      <td>C2013999242</td>\n",
              "      <td>339682.13</td>\n",
              "      <td>0.0</td>\n",
              "      <td>C1850423904</td>\n",
              "      <td>0.00</td>\n",
              "      <td>0.00</td>\n",
              "      <td>1</td>\n",
              "      <td>0</td>\n",
              "      <td>1.000000</td>\n",
              "      <td>0.0000</td>\n",
              "      <td>0.0</td>\n",
              "      <td>0.0</td>\n",
              "      <td>0.0</td>\n",
              "      <td>12.735768</td>\n",
              "    </tr>\n",
              "    <tr>\n",
              "      <th>6362616</th>\n",
              "      <td>743</td>\n",
              "      <td>TRANSFER</td>\n",
              "      <td>6311409.28</td>\n",
              "      <td>C1529008245</td>\n",
              "      <td>6311409.28</td>\n",
              "      <td>0.0</td>\n",
              "      <td>C1881841831</td>\n",
              "      <td>0.00</td>\n",
              "      <td>0.00</td>\n",
              "      <td>1</td>\n",
              "      <td>0</td>\n",
              "      <td>1.000000</td>\n",
              "      <td>0.0000</td>\n",
              "      <td>0.0</td>\n",
              "      <td>0.0</td>\n",
              "      <td>0.0</td>\n",
              "      <td>15.657870</td>\n",
              "    </tr>\n",
              "    <tr>\n",
              "      <th>6362618</th>\n",
              "      <td>743</td>\n",
              "      <td>TRANSFER</td>\n",
              "      <td>850002.52</td>\n",
              "      <td>C1685995037</td>\n",
              "      <td>850002.52</td>\n",
              "      <td>0.0</td>\n",
              "      <td>C2080388513</td>\n",
              "      <td>0.00</td>\n",
              "      <td>0.00</td>\n",
              "      <td>1</td>\n",
              "      <td>0</td>\n",
              "      <td>1.000000</td>\n",
              "      <td>0.0000</td>\n",
              "      <td>0.0</td>\n",
              "      <td>0.0</td>\n",
              "      <td>0.0</td>\n",
              "      <td>13.652996</td>\n",
              "    </tr>\n",
              "  </tbody>\n",
              "</table>\n",
              "<p>532909 rows × 17 columns</p>\n",
              "</div>"
            ],
            "text/plain": [
              "         step      type      amount     nameOrig  oldbalanceOrg  \\\n",
              "2           1  TRANSFER      181.00  C1305486145         181.00   \n",
              "19          1  TRANSFER   215310.30  C1670993182         705.00   \n",
              "24          1  TRANSFER   311685.89  C1984094095       10835.00   \n",
              "58          1  TRANSFER    62610.80  C1976401987       79114.00   \n",
              "78          1  TRANSFER    42712.39   C283039401       10363.39   \n",
              "...       ...       ...         ...          ...            ...   \n",
              "6362610   742  TRANSFER    63416.99   C778071008       63416.99   \n",
              "6362612   743  TRANSFER  1258818.82  C1531301470     1258818.82   \n",
              "6362614   743  TRANSFER   339682.13  C2013999242      339682.13   \n",
              "6362616   743  TRANSFER  6311409.28  C1529008245     6311409.28   \n",
              "6362618   743  TRANSFER   850002.52  C1685995037      850002.52   \n",
              "\n",
              "         newbalanceOrig     nameDest  oldbalanceDest  newbalanceDest  isFraud  \\\n",
              "2                   0.0   C553264065            0.00            0.00        1   \n",
              "19                  0.0  C1100439041        22425.00            0.00        0   \n",
              "24                  0.0   C932583850         6267.00      2719172.89        0   \n",
              "58              16503.2  C1937962514          517.00         8383.29        0   \n",
              "78                  0.0  C1330106945        57901.66        24044.18        0   \n",
              "...                 ...          ...             ...             ...      ...   \n",
              "6362610             0.0  C1812552860            0.00            0.00        1   \n",
              "6362612             0.0  C1470998563            0.00            0.00        1   \n",
              "6362614             0.0  C1850423904            0.00            0.00        1   \n",
              "6362616             0.0  C1881841831            0.00            0.00        1   \n",
              "6362618             0.0  C2080388513            0.00            0.00        1   \n",
              "\n",
              "         isFlaggedFraud  trans_amount_account_bal  old_new_account_bal  \\\n",
              "2                     0                  1.000000               0.0000   \n",
              "19                    0                305.404681               0.0000   \n",
              "24                    0                 28.766580               0.0000   \n",
              "58                    0                  0.791400               0.2086   \n",
              "78                    0                  4.121469               0.0000   \n",
              "...                 ...                       ...                  ...   \n",
              "6362610               0                  1.000000               0.0000   \n",
              "6362612               0                  1.000000               0.0000   \n",
              "6362614               0                  1.000000               0.0000   \n",
              "6362616               0                  1.000000               0.0000   \n",
              "6362618               0                  1.000000               0.0000   \n",
              "\n",
              "         amount_rolling_2  step_diff  amount_diff  log_amount  \n",
              "2                     0.0        0.0          0.0    5.204007  \n",
              "19                    0.0        0.0          0.0   12.279840  \n",
              "24                    0.0        0.0          0.0   12.649754  \n",
              "58                    0.0        0.0          0.0   11.044709  \n",
              "78                    0.0        0.0          0.0   10.662268  \n",
              "...                   ...        ...          ...         ...  \n",
              "6362610               0.0        0.0          0.0   11.057503  \n",
              "6362612               0.0        0.0          0.0   14.045685  \n",
              "6362614               0.0        0.0          0.0   12.735768  \n",
              "6362616               0.0        0.0          0.0   15.657870  \n",
              "6362618               0.0        0.0          0.0   13.652996  \n",
              "\n",
              "[532909 rows x 17 columns]"
            ]
          },
          "execution_count": 24,
          "metadata": {},
          "output_type": "execute_result"
        }
      ],
      "source": [
        "paysim = paysim_transfer.assign(\n",
        "    trans_amount_account_bal=trans_amount_account_bal,\n",
        "    old_new_account_bal=old_new_account_bal.fillna(0),\n",
        "    amount_rolling_2=amount_rolling_2.droplevel(0).fillna(0),\n",
        "    step_diff=step_diff.fillna(0),\n",
        "    amount_diff=amount_diff.fillna(0),\n",
        "    log_amount=lambda x: np.log1p(x['amount'])\n",
        ")\n",
        "paysim"
      ]
    },
    {
      "cell_type": "code",
      "execution_count": 25,
      "metadata": {},
      "outputs": [
        {
          "data": {
            "text/html": [
              "<div>\n",
              "<style scoped>\n",
              "    .dataframe tbody tr th:only-of-type {\n",
              "        vertical-align: middle;\n",
              "    }\n",
              "\n",
              "    .dataframe tbody tr th {\n",
              "        vertical-align: top;\n",
              "    }\n",
              "\n",
              "    .dataframe thead th {\n",
              "        text-align: right;\n",
              "    }\n",
              "</style>\n",
              "<table border=\"1\" class=\"dataframe\">\n",
              "  <thead>\n",
              "    <tr style=\"text-align: right;\">\n",
              "      <th></th>\n",
              "      <th>amount</th>\n",
              "      <th>oldbalanceOrg</th>\n",
              "      <th>newbalanceOrig</th>\n",
              "      <th>oldbalanceDest</th>\n",
              "      <th>newbalanceDest</th>\n",
              "      <th>isFraud</th>\n",
              "      <th>trans_amount_account_bal</th>\n",
              "      <th>old_new_account_bal</th>\n",
              "      <th>amount_rolling_2</th>\n",
              "      <th>step_diff</th>\n",
              "      <th>amount_diff</th>\n",
              "      <th>log_amount</th>\n",
              "    </tr>\n",
              "  </thead>\n",
              "  <tbody>\n",
              "    <tr>\n",
              "      <th>2</th>\n",
              "      <td>181.00</td>\n",
              "      <td>181.00</td>\n",
              "      <td>0.0</td>\n",
              "      <td>0.00</td>\n",
              "      <td>0.00</td>\n",
              "      <td>1</td>\n",
              "      <td>1.000000</td>\n",
              "      <td>0.0000</td>\n",
              "      <td>0.0</td>\n",
              "      <td>0.0</td>\n",
              "      <td>0.0</td>\n",
              "      <td>5.204007</td>\n",
              "    </tr>\n",
              "    <tr>\n",
              "      <th>19</th>\n",
              "      <td>215310.30</td>\n",
              "      <td>705.00</td>\n",
              "      <td>0.0</td>\n",
              "      <td>22425.00</td>\n",
              "      <td>0.00</td>\n",
              "      <td>0</td>\n",
              "      <td>305.404681</td>\n",
              "      <td>0.0000</td>\n",
              "      <td>0.0</td>\n",
              "      <td>0.0</td>\n",
              "      <td>0.0</td>\n",
              "      <td>12.279840</td>\n",
              "    </tr>\n",
              "    <tr>\n",
              "      <th>24</th>\n",
              "      <td>311685.89</td>\n",
              "      <td>10835.00</td>\n",
              "      <td>0.0</td>\n",
              "      <td>6267.00</td>\n",
              "      <td>2719172.89</td>\n",
              "      <td>0</td>\n",
              "      <td>28.766580</td>\n",
              "      <td>0.0000</td>\n",
              "      <td>0.0</td>\n",
              "      <td>0.0</td>\n",
              "      <td>0.0</td>\n",
              "      <td>12.649754</td>\n",
              "    </tr>\n",
              "    <tr>\n",
              "      <th>58</th>\n",
              "      <td>62610.80</td>\n",
              "      <td>79114.00</td>\n",
              "      <td>16503.2</td>\n",
              "      <td>517.00</td>\n",
              "      <td>8383.29</td>\n",
              "      <td>0</td>\n",
              "      <td>0.791400</td>\n",
              "      <td>0.2086</td>\n",
              "      <td>0.0</td>\n",
              "      <td>0.0</td>\n",
              "      <td>0.0</td>\n",
              "      <td>11.044709</td>\n",
              "    </tr>\n",
              "    <tr>\n",
              "      <th>78</th>\n",
              "      <td>42712.39</td>\n",
              "      <td>10363.39</td>\n",
              "      <td>0.0</td>\n",
              "      <td>57901.66</td>\n",
              "      <td>24044.18</td>\n",
              "      <td>0</td>\n",
              "      <td>4.121469</td>\n",
              "      <td>0.0000</td>\n",
              "      <td>0.0</td>\n",
              "      <td>0.0</td>\n",
              "      <td>0.0</td>\n",
              "      <td>10.662268</td>\n",
              "    </tr>\n",
              "    <tr>\n",
              "      <th>...</th>\n",
              "      <td>...</td>\n",
              "      <td>...</td>\n",
              "      <td>...</td>\n",
              "      <td>...</td>\n",
              "      <td>...</td>\n",
              "      <td>...</td>\n",
              "      <td>...</td>\n",
              "      <td>...</td>\n",
              "      <td>...</td>\n",
              "      <td>...</td>\n",
              "      <td>...</td>\n",
              "      <td>...</td>\n",
              "    </tr>\n",
              "    <tr>\n",
              "      <th>6362610</th>\n",
              "      <td>63416.99</td>\n",
              "      <td>63416.99</td>\n",
              "      <td>0.0</td>\n",
              "      <td>0.00</td>\n",
              "      <td>0.00</td>\n",
              "      <td>1</td>\n",
              "      <td>1.000000</td>\n",
              "      <td>0.0000</td>\n",
              "      <td>0.0</td>\n",
              "      <td>0.0</td>\n",
              "      <td>0.0</td>\n",
              "      <td>11.057503</td>\n",
              "    </tr>\n",
              "    <tr>\n",
              "      <th>6362612</th>\n",
              "      <td>1258818.82</td>\n",
              "      <td>1258818.82</td>\n",
              "      <td>0.0</td>\n",
              "      <td>0.00</td>\n",
              "      <td>0.00</td>\n",
              "      <td>1</td>\n",
              "      <td>1.000000</td>\n",
              "      <td>0.0000</td>\n",
              "      <td>0.0</td>\n",
              "      <td>0.0</td>\n",
              "      <td>0.0</td>\n",
              "      <td>14.045685</td>\n",
              "    </tr>\n",
              "    <tr>\n",
              "      <th>6362614</th>\n",
              "      <td>339682.13</td>\n",
              "      <td>339682.13</td>\n",
              "      <td>0.0</td>\n",
              "      <td>0.00</td>\n",
              "      <td>0.00</td>\n",
              "      <td>1</td>\n",
              "      <td>1.000000</td>\n",
              "      <td>0.0000</td>\n",
              "      <td>0.0</td>\n",
              "      <td>0.0</td>\n",
              "      <td>0.0</td>\n",
              "      <td>12.735768</td>\n",
              "    </tr>\n",
              "    <tr>\n",
              "      <th>6362616</th>\n",
              "      <td>6311409.28</td>\n",
              "      <td>6311409.28</td>\n",
              "      <td>0.0</td>\n",
              "      <td>0.00</td>\n",
              "      <td>0.00</td>\n",
              "      <td>1</td>\n",
              "      <td>1.000000</td>\n",
              "      <td>0.0000</td>\n",
              "      <td>0.0</td>\n",
              "      <td>0.0</td>\n",
              "      <td>0.0</td>\n",
              "      <td>15.657870</td>\n",
              "    </tr>\n",
              "    <tr>\n",
              "      <th>6362618</th>\n",
              "      <td>850002.52</td>\n",
              "      <td>850002.52</td>\n",
              "      <td>0.0</td>\n",
              "      <td>0.00</td>\n",
              "      <td>0.00</td>\n",
              "      <td>1</td>\n",
              "      <td>1.000000</td>\n",
              "      <td>0.0000</td>\n",
              "      <td>0.0</td>\n",
              "      <td>0.0</td>\n",
              "      <td>0.0</td>\n",
              "      <td>13.652996</td>\n",
              "    </tr>\n",
              "  </tbody>\n",
              "</table>\n",
              "<p>532909 rows × 12 columns</p>\n",
              "</div>"
            ],
            "text/plain": [
              "             amount  oldbalanceOrg  newbalanceOrig  oldbalanceDest  \\\n",
              "2            181.00         181.00             0.0            0.00   \n",
              "19        215310.30         705.00             0.0        22425.00   \n",
              "24        311685.89       10835.00             0.0         6267.00   \n",
              "58         62610.80       79114.00         16503.2          517.00   \n",
              "78         42712.39       10363.39             0.0        57901.66   \n",
              "...             ...            ...             ...             ...   \n",
              "6362610    63416.99       63416.99             0.0            0.00   \n",
              "6362612  1258818.82     1258818.82             0.0            0.00   \n",
              "6362614   339682.13      339682.13             0.0            0.00   \n",
              "6362616  6311409.28     6311409.28             0.0            0.00   \n",
              "6362618   850002.52      850002.52             0.0            0.00   \n",
              "\n",
              "         newbalanceDest  isFraud  trans_amount_account_bal  \\\n",
              "2                  0.00        1                  1.000000   \n",
              "19                 0.00        0                305.404681   \n",
              "24           2719172.89        0                 28.766580   \n",
              "58              8383.29        0                  0.791400   \n",
              "78             24044.18        0                  4.121469   \n",
              "...                 ...      ...                       ...   \n",
              "6362610            0.00        1                  1.000000   \n",
              "6362612            0.00        1                  1.000000   \n",
              "6362614            0.00        1                  1.000000   \n",
              "6362616            0.00        1                  1.000000   \n",
              "6362618            0.00        1                  1.000000   \n",
              "\n",
              "         old_new_account_bal  amount_rolling_2  step_diff  amount_diff  \\\n",
              "2                     0.0000               0.0        0.0          0.0   \n",
              "19                    0.0000               0.0        0.0          0.0   \n",
              "24                    0.0000               0.0        0.0          0.0   \n",
              "58                    0.2086               0.0        0.0          0.0   \n",
              "78                    0.0000               0.0        0.0          0.0   \n",
              "...                      ...               ...        ...          ...   \n",
              "6362610               0.0000               0.0        0.0          0.0   \n",
              "6362612               0.0000               0.0        0.0          0.0   \n",
              "6362614               0.0000               0.0        0.0          0.0   \n",
              "6362616               0.0000               0.0        0.0          0.0   \n",
              "6362618               0.0000               0.0        0.0          0.0   \n",
              "\n",
              "         log_amount  \n",
              "2          5.204007  \n",
              "19        12.279840  \n",
              "24        12.649754  \n",
              "58        11.044709  \n",
              "78        10.662268  \n",
              "...             ...  \n",
              "6362610   11.057503  \n",
              "6362612   14.045685  \n",
              "6362614   12.735768  \n",
              "6362616   15.657870  \n",
              "6362618   13.652996  \n",
              "\n",
              "[532909 rows x 12 columns]"
            ]
          },
          "execution_count": 25,
          "metadata": {},
          "output_type": "execute_result"
        }
      ],
      "source": [
        "drop_cols = ['step', 'type', 'nameOrig', 'nameDest', 'isFlaggedFraud']\n",
        "model_data = paysim.drop(columns=drop_cols)\n",
        "model_data"
      ]
    },
    {
      "cell_type": "code",
      "execution_count": 26,
      "metadata": {},
      "outputs": [],
      "source": [
        "X_data, Y_data = model_data.drop(columns=['isFraud']), model_data['isFraud']"
      ]
    },
    {
      "cell_type": "code",
      "execution_count": 27,
      "metadata": {},
      "outputs": [
        {
          "data": {
            "text/plain": [
              "amount                      0\n",
              "oldbalanceOrg               0\n",
              "newbalanceOrig              0\n",
              "oldbalanceDest              0\n",
              "newbalanceDest              0\n",
              "trans_amount_account_bal    0\n",
              "old_new_account_bal         0\n",
              "amount_rolling_2            0\n",
              "step_diff                   0\n",
              "amount_diff                 0\n",
              "log_amount                  0\n",
              "dtype: int64"
            ]
          },
          "execution_count": 27,
          "metadata": {},
          "output_type": "execute_result"
        }
      ],
      "source": [
        "X_data.isna().sum(axis=0)"
      ]
    },
    {
      "cell_type": "code",
      "execution_count": 28,
      "metadata": {},
      "outputs": [
        {
          "data": {
            "text/plain": [
              "amount                           0\n",
              "oldbalanceOrg                    0\n",
              "newbalanceOrig                   0\n",
              "oldbalanceDest                   0\n",
              "newbalanceDest                   0\n",
              "trans_amount_account_bal    282783\n",
              "old_new_account_bal              0\n",
              "amount_rolling_2                 0\n",
              "step_diff                        0\n",
              "amount_diff                      0\n",
              "log_amount                       0\n",
              "dtype: int64"
            ]
          },
          "execution_count": 28,
          "metadata": {},
          "output_type": "execute_result"
        }
      ],
      "source": [
        "X_data.abs().eq(np.inf).sum(axis=0)"
      ]
    },
    {
      "cell_type": "code",
      "execution_count": 29,
      "metadata": {},
      "outputs": [],
      "source": [
        "X_data['trans_amount_account_bal'] = \\\n",
        "    X_data['trans_amount_account_bal'].where(X_data['trans_amount_account_bal'].abs().ne(np.inf), 0)"
      ]
    },
    {
      "cell_type": "code",
      "execution_count": 30,
      "metadata": {},
      "outputs": [],
      "source": [
        "from sklearn.model_selection import train_test_split\n",
        "from sklearn import metrics\n",
        "\n",
        "from sklearn.ensemble import RandomForestClassifier\n",
        "from sklearn.svm import SVC"
      ]
    },
    {
      "cell_type": "code",
      "execution_count": 31,
      "metadata": {},
      "outputs": [],
      "source": [
        "x_train, x_test, y_train, y_test = train_test_split(X_data, Y_data, test_size=0.3)"
      ]
    },
    {
      "cell_type": "code",
      "execution_count": 32,
      "metadata": {},
      "outputs": [
        {
          "data": {
            "text/plain": [
              "SVC()"
            ]
          },
          "execution_count": 32,
          "metadata": {},
          "output_type": "execute_result"
        }
      ],
      "source": [
        "svc = SVC()\n",
        "svc.fit(x_train, y_train)"
      ]
    },
    {
      "cell_type": "code",
      "execution_count": 33,
      "metadata": {},
      "outputs": [],
      "source": [
        "import pickle"
      ]
    },
    {
      "cell_type": "code",
      "execution_count": 34,
      "metadata": {},
      "outputs": [],
      "source": [
        "with open('svc.model', 'wb') as f:\n",
        "    pickle.dump(svc, f) # lưu mô hình dưới dạng file"
      ]
    },
    {
      "cell_type": "code",
      "execution_count": 35,
      "metadata": {},
      "outputs": [
        {
          "name": "stdout",
          "output_type": "stream",
          "text": [
            "SVC()\n"
          ]
        }
      ],
      "source": [
        "with open('svc.model', 'rb') as f:\n",
        "    print(pickle.load(f)) # đọc lại từ file"
      ]
    },
    {
      "cell_type": "code",
      "execution_count": 36,
      "metadata": {},
      "outputs": [
        {
          "data": {
            "text/plain": [
              "0.9960969019158957"
            ]
          },
          "metadata": {},
          "output_type": "display_data"
        },
        {
          "data": {
            "text/plain": [
              "0.9857594936708861"
            ]
          },
          "metadata": {},
          "output_type": "display_data"
        },
        {
          "data": {
            "text/plain": [
              "0.5032310177705978"
            ]
          },
          "metadata": {},
          "output_type": "display_data"
        },
        {
          "data": {
            "text/plain": [
              "0.6663101604278076"
            ]
          },
          "metadata": {},
          "output_type": "display_data"
        }
      ],
      "source": [
        "y_pred = svc.predict(x_test)\n",
        "display(\n",
        "    metrics.accuracy_score(y_test, y_pred),\n",
        "    metrics.precision_score(y_test, y_pred),\n",
        "    metrics.recall_score(y_test, y_pred),\n",
        "    metrics.f1_score(y_test, y_pred),\n",
        ")"
      ]
    },
    {
      "cell_type": "code",
      "execution_count": 37,
      "metadata": {},
      "outputs": [
        {
          "data": {
            "text/plain": [
              "RandomForestClassifier()"
            ]
          },
          "execution_count": 37,
          "metadata": {},
          "output_type": "execute_result"
        }
      ],
      "source": [
        "tree = RandomForestClassifier()\n",
        "tree.fit(x_train, y_train)"
      ]
    },
    {
      "cell_type": "code",
      "execution_count": 38,
      "metadata": {},
      "outputs": [
        {
          "data": {
            "text/plain": [
              "0.9999874900702432"
            ]
          },
          "metadata": {},
          "output_type": "display_data"
        },
        {
          "data": {
            "text/plain": [
              "1.0"
            ]
          },
          "metadata": {},
          "output_type": "display_data"
        },
        {
          "data": {
            "text/plain": [
              "0.9983844911147012"
            ]
          },
          "metadata": {},
          "output_type": "display_data"
        },
        {
          "data": {
            "text/plain": [
              "0.9991915925626517"
            ]
          },
          "metadata": {},
          "output_type": "display_data"
        }
      ],
      "source": [
        "y_pred = tree.predict(x_test)\n",
        "display(\n",
        "    metrics.accuracy_score(y_test, y_pred),\n",
        "    metrics.precision_score(y_test, y_pred),\n",
        "    metrics.recall_score(y_test, y_pred),\n",
        "    metrics.f1_score(y_test, y_pred),\n",
        ")"
      ]
    },
    {
      "cell_type": "markdown",
      "metadata": {
        "id": "8_hSOi8lOTA2"
      },
      "source": [
        "## Giới thiệu XGBoost\n",
        "![](https://www.researchgate.net/publication/348025909/figure/fig2/AS:1020217916416002@1620250314481/Simplified-structure-of-XGBoost.ppm)"
      ]
    },
    {
      "cell_type": "code",
      "execution_count": 39,
      "metadata": {
        "id": "eXnZZmg7Mkx3"
      },
      "outputs": [],
      "source": [
        "from xgboost import XGBClassifier"
      ]
    },
    {
      "cell_type": "code",
      "execution_count": 40,
      "metadata": {
        "id": "Oeu4KjE6O7X5"
      },
      "outputs": [
        {
          "name": "stdout",
          "output_type": "stream",
          "text": [
            "\u001b[1;31mInit signature:\u001b[0m\n",
            "\u001b[0mXGBClassifier\u001b[0m\u001b[1;33m(\u001b[0m\u001b[1;33m\n",
            "\u001b[0m    \u001b[1;33m*\u001b[0m\u001b[1;33m,\u001b[0m\u001b[1;33m\n",
            "\u001b[0m    \u001b[0mobjective\u001b[0m\u001b[1;33m=\u001b[0m\u001b[1;34m'binary:logistic'\u001b[0m\u001b[1;33m,\u001b[0m\u001b[1;33m\n",
            "\u001b[0m    \u001b[0muse_label_encoder\u001b[0m\u001b[1;33m=\u001b[0m\u001b[1;32mTrue\u001b[0m\u001b[1;33m,\u001b[0m\u001b[1;33m\n",
            "\u001b[0m    \u001b[1;33m**\u001b[0m\u001b[0mkwargs\u001b[0m\u001b[1;33m,\u001b[0m\u001b[1;33m\n",
            "\u001b[0m\u001b[1;33m)\u001b[0m\u001b[1;33m\u001b[0m\u001b[1;33m\u001b[0m\u001b[0m\n",
            "\u001b[1;31mDocstring:\u001b[0m     \n",
            "Implementation of the scikit-learn API for XGBoost classification.\n",
            "\n",
            "\n",
            "Parameters\n",
            "----------\n",
            "\n",
            "    n_estimators : int\n",
            "        Number of boosting rounds.\n",
            "    use_label_encoder : bool\n",
            "        (Deprecated) Use the label encoder from scikit-learn to encode the labels. For new\n",
            "        code, we recommend that you set this parameter to False.\n",
            "\n",
            "    max_depth : int\n",
            "        Maximum tree depth for base learners.\n",
            "    learning_rate : float\n",
            "        Boosting learning rate (xgb's \"eta\")\n",
            "    verbosity : int\n",
            "        The degree of verbosity. Valid values are 0 (silent) - 3 (debug).\n",
            "    objective : string or callable\n",
            "        Specify the learning task and the corresponding learning objective or\n",
            "        a custom objective function to be used (see note below).\n",
            "    booster: string\n",
            "        Specify which booster to use: gbtree, gblinear or dart.\n",
            "    tree_method: string\n",
            "        Specify which tree method to use.  Default to auto.  If this parameter\n",
            "        is set to default, XGBoost will choose the most conservative option\n",
            "        available.  It's recommended to study this option from parameters\n",
            "        document.\n",
            "    n_jobs : int\n",
            "        Number of parallel threads used to run xgboost.  When used with other Scikit-Learn\n",
            "        algorithms like grid search, you may choose which algorithm to parallelize and\n",
            "        balance the threads.  Creating thread contention will significantly slow down both\n",
            "        algorithms.\n",
            "    gamma : float\n",
            "        Minimum loss reduction required to make a further partition on a leaf\n",
            "        node of the tree.\n",
            "    min_child_weight : float\n",
            "        Minimum sum of instance weight(hessian) needed in a child.\n",
            "    max_delta_step : float\n",
            "        Maximum delta step we allow each tree's weight estimation to be.\n",
            "    subsample : float\n",
            "        Subsample ratio of the training instance.\n",
            "    colsample_bytree : float\n",
            "        Subsample ratio of columns when constructing each tree.\n",
            "    colsample_bylevel : float\n",
            "        Subsample ratio of columns for each level.\n",
            "    colsample_bynode : float\n",
            "        Subsample ratio of columns for each split.\n",
            "    reg_alpha : float (xgb's alpha)\n",
            "        L1 regularization term on weights\n",
            "    reg_lambda : float (xgb's lambda)\n",
            "        L2 regularization term on weights\n",
            "    scale_pos_weight : float\n",
            "        Balancing of positive and negative weights.\n",
            "    base_score:\n",
            "        The initial prediction score of all instances, global bias.\n",
            "    random_state : int\n",
            "        Random number seed.\n",
            "\n",
            "        .. note::\n",
            "\n",
            "           Using gblinear booster with shotgun updater is nondeterministic as\n",
            "           it uses Hogwild algorithm.\n",
            "\n",
            "    missing : float, default np.nan\n",
            "        Value in the data which needs to be present as a missing value.\n",
            "    num_parallel_tree: int\n",
            "        Used for boosting random forest.\n",
            "    monotone_constraints : str\n",
            "        Constraint of variable monotonicity.  See tutorial for more\n",
            "        information.\n",
            "    interaction_constraints : str\n",
            "        Constraints for interaction representing permitted interactions.  The\n",
            "        constraints must be specified in the form of a nest list, e.g. [[0, 1],\n",
            "        [2, 3, 4]], where each inner list is a group of indices of features\n",
            "        that are allowed to interact with each other.  See tutorial for more\n",
            "        information\n",
            "    importance_type: string, default \"gain\"\n",
            "        The feature importance type for the feature_importances\\_ property:\n",
            "        either \"gain\", \"weight\", \"cover\", \"total_gain\" or \"total_cover\".\n",
            "    gpu_id :\n",
            "        Device ordinal.\n",
            "    validate_parameters :\n",
            "        Give warnings for unknown parameter.\n",
            "\n",
            "    \\*\\*kwargs : dict, optional\n",
            "        Keyword arguments for XGBoost Booster object.  Full documentation of\n",
            "        parameters can be found here:\n",
            "        https://github.com/dmlc/xgboost/blob/master/doc/parameter.rst.\n",
            "        Attempting to set a parameter via the constructor args and \\*\\*kwargs\n",
            "        dict simultaneously will result in a TypeError.\n",
            "\n",
            "        .. note:: \\*\\*kwargs unsupported by scikit-learn\n",
            "\n",
            "            \\*\\*kwargs is unsupported by scikit-learn.  We do not guarantee\n",
            "            that parameters passed via this argument will interact properly\n",
            "            with scikit-learn.\n",
            "\n",
            "        .. note::  Custom objective function\n",
            "\n",
            "            A custom objective function can be provided for the ``objective``\n",
            "            parameter. In this case, it should have the signature\n",
            "            ``objective(y_true, y_pred) -> grad, hess``:\n",
            "\n",
            "            y_true: array_like of shape [n_samples]\n",
            "                The target values\n",
            "            y_pred: array_like of shape [n_samples]\n",
            "                The predicted values\n",
            "\n",
            "            grad: array_like of shape [n_samples]\n",
            "                The value of the gradient for each sample point.\n",
            "            hess: array_like of shape [n_samples]\n",
            "                The value of the second derivative for each sample point\n",
            "\u001b[1;31mFile:\u001b[0m           c:\\users\\tdoan\\appdata\\local\\programs\\python\\python38\\lib\\site-packages\\xgboost\\sklearn.py\n",
            "\u001b[1;31mType:\u001b[0m           type\n",
            "\u001b[1;31mSubclasses:\u001b[0m     XGBRFClassifier\n"
          ]
        }
      ],
      "source": [
        "XGBClassifier?"
      ]
    },
    {
      "cell_type": "code",
      "execution_count": 41,
      "metadata": {
        "id": "Ycwy44ZuO-8r"
      },
      "outputs": [
        {
          "name": "stderr",
          "output_type": "stream",
          "text": [
            "C:\\Users\\tdoan\\AppData\\Local\\Programs\\Python\\Python38\\lib\\site-packages\\xgboost\\sklearn.py:1146: UserWarning: The use of label encoder in XGBClassifier is deprecated and will be removed in a future release. To remove this warning, do the following: 1) Pass option use_label_encoder=False when constructing XGBClassifier object; and 2) Encode your labels (y) as integers starting with 0, i.e. 0, 1, 2, ..., [num_class - 1].\n",
            "  warnings.warn(label_encoder_deprecation_msg, UserWarning)\n"
          ]
        },
        {
          "name": "stdout",
          "output_type": "stream",
          "text": [
            "[04:44:42] WARNING: C:/Users/Administrator/workspace/xgboost-win64_release_1.4.0/src/learner.cc:1095: Starting in XGBoost 1.3.0, the default evaluation metric used with the objective 'binary:logistic' was changed from 'error' to 'logloss'. Explicitly set eval_metric if you'd like to restore the old behavior.\n"
          ]
        },
        {
          "data": {
            "text/plain": [
              "XGBClassifier(base_score=0.5, booster='gbtree', colsample_bylevel=1,\n",
              "              colsample_bynode=1, colsample_bytree=1, gamma=0, gpu_id=-1,\n",
              "              importance_type='gain', interaction_constraints='',\n",
              "              learning_rate=0.300000012, max_delta_step=0, max_depth=6,\n",
              "              min_child_weight=1, missing=nan, monotone_constraints='()',\n",
              "              n_estimators=100, n_jobs=8, num_parallel_tree=1, random_state=0,\n",
              "              reg_alpha=0, reg_lambda=1, scale_pos_weight=1, subsample=1,\n",
              "              tree_method='exact', validate_parameters=1, verbosity=None)"
            ]
          },
          "execution_count": 41,
          "metadata": {},
          "output_type": "execute_result"
        }
      ],
      "source": [
        "xg = XGBClassifier()\n",
        "xg.fit(x_train, y_train)"
      ]
    },
    {
      "cell_type": "code",
      "execution_count": 42,
      "metadata": {},
      "outputs": [
        {
          "data": {
            "text/plain": [
              "0.9999749801404865"
            ]
          },
          "metadata": {},
          "output_type": "display_data"
        },
        {
          "data": {
            "text/plain": [
              "0.9991909385113269"
            ]
          },
          "metadata": {},
          "output_type": "display_data"
        },
        {
          "data": {
            "text/plain": [
              "0.9975767366720517"
            ]
          },
          "metadata": {},
          "output_type": "display_data"
        },
        {
          "data": {
            "text/plain": [
              "0.9983831851253031"
            ]
          },
          "metadata": {},
          "output_type": "display_data"
        }
      ],
      "source": [
        "y_pred = xg.predict(x_test)\n",
        "display(\n",
        "    metrics.accuracy_score(y_test, y_pred),\n",
        "    metrics.precision_score(y_test, y_pred),\n",
        "    metrics.recall_score(y_test, y_pred),\n",
        "    metrics.f1_score(y_test, y_pred),\n",
        ")"
      ]
    },
    {
      "cell_type": "code",
      "execution_count": null,
      "metadata": {},
      "outputs": [],
      "source": []
    }
  ],
  "metadata": {
    "colab": {
      "name": "lecture_10_inclass.ipynb",
      "provenance": []
    },
    "kernelspec": {
      "display_name": "Python 3",
      "name": "python3"
    },
    "language_info": {
      "codemirror_mode": {
        "name": "ipython",
        "version": 3
      },
      "file_extension": ".py",
      "mimetype": "text/x-python",
      "name": "python",
      "nbconvert_exporter": "python",
      "pygments_lexer": "ipython3",
      "version": "3.8.10"
    }
  },
  "nbformat": 4,
  "nbformat_minor": 0
}
