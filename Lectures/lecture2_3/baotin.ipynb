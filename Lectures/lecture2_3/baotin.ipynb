{
 "cells": [
  {
   "cell_type": "code",
   "execution_count": 1,
   "id": "006727e3-a2c1-4e58-b938-dc2439c974d3",
   "metadata": {},
   "outputs": [],
   "source": [
    "import numpy as np \n",
    "import matplotlib.pyplot as plt\n",
    "import seaborn as sns \n",
    "import pandas as pd\n",
    "# import sklearn.datasets import"
   ]
  },
  {
   "cell_type": "code",
   "execution_count": 2,
   "id": "227cdd53-9afb-4e20-82ab-05d491bf6d13",
   "metadata": {},
   "outputs": [],
   "source": [
    "df = pd.read_csv('FuelConsumptionCo2.csv')"
   ]
  },
  {
   "cell_type": "code",
   "execution_count": 3,
   "id": "c8333a0d-38d6-4fc4-851d-20ab2926ae3c",
   "metadata": {},
   "outputs": [
    {
     "name": "stdout",
     "output_type": "stream",
     "text": [
      "<class 'pandas.core.frame.DataFrame'>\n",
      "RangeIndex: 1067 entries, 0 to 1066\n",
      "Data columns (total 13 columns):\n",
      " #   Column                    Non-Null Count  Dtype  \n",
      "---  ------                    --------------  -----  \n",
      " 0   MODELYEAR                 1067 non-null   int64  \n",
      " 1   MAKE                      1067 non-null   object \n",
      " 2   MODEL                     1067 non-null   object \n",
      " 3   VEHICLECLASS              1067 non-null   object \n",
      " 4   ENGINESIZE                1067 non-null   float64\n",
      " 5   CYLINDERS                 1067 non-null   int64  \n",
      " 6   TRANSMISSION              1067 non-null   object \n",
      " 7   FUELTYPE                  1067 non-null   object \n",
      " 8   FUELCONSUMPTION_CITY      1067 non-null   float64\n",
      " 9   FUELCONSUMPTION_HWY       1067 non-null   float64\n",
      " 10  FUELCONSUMPTION_COMB      1067 non-null   float64\n",
      " 11  FUELCONSUMPTION_COMB_MPG  1067 non-null   int64  \n",
      " 12  CO2EMISSIONS              1067 non-null   int64  \n",
      "dtypes: float64(4), int64(4), object(5)\n",
      "memory usage: 108.5+ KB\n"
     ]
    }
   ],
   "source": [
    "df.info()"
   ]
  },
  {
   "cell_type": "code",
   "execution_count": 4,
   "id": "5db51c26-1d2d-4531-b8f3-7f691a60286e",
   "metadata": {},
   "outputs": [
    {
     "data": {
      "text/plain": [
       "MODELYEAR                   0\n",
       "MAKE                        0\n",
       "MODEL                       0\n",
       "VEHICLECLASS                0\n",
       "ENGINESIZE                  0\n",
       "CYLINDERS                   0\n",
       "TRANSMISSION                0\n",
       "FUELTYPE                    0\n",
       "FUELCONSUMPTION_CITY        0\n",
       "FUELCONSUMPTION_HWY         0\n",
       "FUELCONSUMPTION_COMB        0\n",
       "FUELCONSUMPTION_COMB_MPG    0\n",
       "CO2EMISSIONS                0\n",
       "dtype: int64"
      ]
     },
     "execution_count": 4,
     "metadata": {},
     "output_type": "execute_result"
    }
   ],
   "source": [
    "df.isnull().sum()"
   ]
  },
  {
   "cell_type": "code",
   "execution_count": 5,
   "id": "872ec3fd-f077-4197-96d1-2d89f5663e1a",
   "metadata": {},
   "outputs": [
    {
     "name": "stdout",
     "output_type": "stream",
     "text": [
      "<class 'pandas.core.frame.DataFrame'>\n",
      "RangeIndex: 1067 entries, 0 to 1066\n",
      "Data columns (total 13 columns):\n",
      " #   Column                    Non-Null Count  Dtype  \n",
      "---  ------                    --------------  -----  \n",
      " 0   MODELYEAR                 1067 non-null   int64  \n",
      " 1   MAKE                      1067 non-null   object \n",
      " 2   MODEL                     1067 non-null   object \n",
      " 3   VEHICLECLASS              1067 non-null   object \n",
      " 4   ENGINESIZE                1067 non-null   float64\n",
      " 5   CYLINDERS                 1067 non-null   int64  \n",
      " 6   TRANSMISSION              1067 non-null   object \n",
      " 7   FUELTYPE                  1067 non-null   object \n",
      " 8   FUELCONSUMPTION_CITY      1067 non-null   float64\n",
      " 9   FUELCONSUMPTION_HWY       1067 non-null   float64\n",
      " 10  FUELCONSUMPTION_COMB      1067 non-null   float64\n",
      " 11  FUELCONSUMPTION_COMB_MPG  1067 non-null   int64  \n",
      " 12  CO2EMISSIONS              1067 non-null   int64  \n",
      "dtypes: float64(4), int64(4), object(5)\n",
      "memory usage: 108.5+ KB\n"
     ]
    }
   ],
   "source": [
    "df.info()"
   ]
  },
  {
   "cell_type": "code",
   "execution_count": 6,
   "id": "2d15e763-9f88-4812-9d2a-128b67c576af",
   "metadata": {},
   "outputs": [
    {
     "data": {
      "text/html": [
       "<div>\n",
       "<style scoped>\n",
       "    .dataframe tbody tr th:only-of-type {\n",
       "        vertical-align: middle;\n",
       "    }\n",
       "\n",
       "    .dataframe tbody tr th {\n",
       "        vertical-align: top;\n",
       "    }\n",
       "\n",
       "    .dataframe thead th {\n",
       "        text-align: right;\n",
       "    }\n",
       "</style>\n",
       "<table border=\"1\" class=\"dataframe\">\n",
       "  <thead>\n",
       "    <tr style=\"text-align: right;\">\n",
       "      <th></th>\n",
       "      <th>MODELYEAR</th>\n",
       "      <th>ENGINESIZE</th>\n",
       "      <th>CYLINDERS</th>\n",
       "      <th>FUELCONSUMPTION_CITY</th>\n",
       "      <th>FUELCONSUMPTION_HWY</th>\n",
       "      <th>FUELCONSUMPTION_COMB</th>\n",
       "      <th>FUELCONSUMPTION_COMB_MPG</th>\n",
       "      <th>CO2EMISSIONS</th>\n",
       "    </tr>\n",
       "  </thead>\n",
       "  <tbody>\n",
       "    <tr>\n",
       "      <th>count</th>\n",
       "      <td>1067.0</td>\n",
       "      <td>1067.000000</td>\n",
       "      <td>1067.000000</td>\n",
       "      <td>1067.000000</td>\n",
       "      <td>1067.000000</td>\n",
       "      <td>1067.000000</td>\n",
       "      <td>1067.000000</td>\n",
       "      <td>1067.000000</td>\n",
       "    </tr>\n",
       "    <tr>\n",
       "      <th>mean</th>\n",
       "      <td>2014.0</td>\n",
       "      <td>3.346298</td>\n",
       "      <td>5.794752</td>\n",
       "      <td>13.296532</td>\n",
       "      <td>9.474602</td>\n",
       "      <td>11.580881</td>\n",
       "      <td>26.441425</td>\n",
       "      <td>256.228679</td>\n",
       "    </tr>\n",
       "    <tr>\n",
       "      <th>std</th>\n",
       "      <td>0.0</td>\n",
       "      <td>1.415895</td>\n",
       "      <td>1.797447</td>\n",
       "      <td>4.101253</td>\n",
       "      <td>2.794510</td>\n",
       "      <td>3.485595</td>\n",
       "      <td>7.468702</td>\n",
       "      <td>63.372304</td>\n",
       "    </tr>\n",
       "    <tr>\n",
       "      <th>min</th>\n",
       "      <td>2014.0</td>\n",
       "      <td>1.000000</td>\n",
       "      <td>3.000000</td>\n",
       "      <td>4.600000</td>\n",
       "      <td>4.900000</td>\n",
       "      <td>4.700000</td>\n",
       "      <td>11.000000</td>\n",
       "      <td>108.000000</td>\n",
       "    </tr>\n",
       "    <tr>\n",
       "      <th>25%</th>\n",
       "      <td>2014.0</td>\n",
       "      <td>2.000000</td>\n",
       "      <td>4.000000</td>\n",
       "      <td>10.250000</td>\n",
       "      <td>7.500000</td>\n",
       "      <td>9.000000</td>\n",
       "      <td>21.000000</td>\n",
       "      <td>207.000000</td>\n",
       "    </tr>\n",
       "    <tr>\n",
       "      <th>50%</th>\n",
       "      <td>2014.0</td>\n",
       "      <td>3.400000</td>\n",
       "      <td>6.000000</td>\n",
       "      <td>12.600000</td>\n",
       "      <td>8.800000</td>\n",
       "      <td>10.900000</td>\n",
       "      <td>26.000000</td>\n",
       "      <td>251.000000</td>\n",
       "    </tr>\n",
       "    <tr>\n",
       "      <th>75%</th>\n",
       "      <td>2014.0</td>\n",
       "      <td>4.300000</td>\n",
       "      <td>8.000000</td>\n",
       "      <td>15.550000</td>\n",
       "      <td>10.850000</td>\n",
       "      <td>13.350000</td>\n",
       "      <td>31.000000</td>\n",
       "      <td>294.000000</td>\n",
       "    </tr>\n",
       "    <tr>\n",
       "      <th>max</th>\n",
       "      <td>2014.0</td>\n",
       "      <td>8.400000</td>\n",
       "      <td>12.000000</td>\n",
       "      <td>30.200000</td>\n",
       "      <td>20.500000</td>\n",
       "      <td>25.800000</td>\n",
       "      <td>60.000000</td>\n",
       "      <td>488.000000</td>\n",
       "    </tr>\n",
       "  </tbody>\n",
       "</table>\n",
       "</div>"
      ],
      "text/plain": [
       "       MODELYEAR   ENGINESIZE    CYLINDERS  FUELCONSUMPTION_CITY  \\\n",
       "count     1067.0  1067.000000  1067.000000           1067.000000   \n",
       "mean      2014.0     3.346298     5.794752             13.296532   \n",
       "std          0.0     1.415895     1.797447              4.101253   \n",
       "min       2014.0     1.000000     3.000000              4.600000   \n",
       "25%       2014.0     2.000000     4.000000             10.250000   \n",
       "50%       2014.0     3.400000     6.000000             12.600000   \n",
       "75%       2014.0     4.300000     8.000000             15.550000   \n",
       "max       2014.0     8.400000    12.000000             30.200000   \n",
       "\n",
       "       FUELCONSUMPTION_HWY  FUELCONSUMPTION_COMB  FUELCONSUMPTION_COMB_MPG  \\\n",
       "count          1067.000000           1067.000000               1067.000000   \n",
       "mean              9.474602             11.580881                 26.441425   \n",
       "std               2.794510              3.485595                  7.468702   \n",
       "min               4.900000              4.700000                 11.000000   \n",
       "25%               7.500000              9.000000                 21.000000   \n",
       "50%               8.800000             10.900000                 26.000000   \n",
       "75%              10.850000             13.350000                 31.000000   \n",
       "max              20.500000             25.800000                 60.000000   \n",
       "\n",
       "       CO2EMISSIONS  \n",
       "count   1067.000000  \n",
       "mean     256.228679  \n",
       "std       63.372304  \n",
       "min      108.000000  \n",
       "25%      207.000000  \n",
       "50%      251.000000  \n",
       "75%      294.000000  \n",
       "max      488.000000  "
      ]
     },
     "execution_count": 6,
     "metadata": {},
     "output_type": "execute_result"
    }
   ],
   "source": [
    "df.describe()"
   ]
  },
  {
   "cell_type": "code",
   "execution_count": 7,
   "id": "e30bcf2b-7289-4657-80c4-34164e6c1cac",
   "metadata": {},
   "outputs": [
    {
     "data": {
      "text/plain": [
       "count         1067\n",
       "unique         663\n",
       "top       F150 FFV\n",
       "freq             8\n",
       "Name: MODEL, dtype: object"
      ]
     },
     "execution_count": 7,
     "metadata": {},
     "output_type": "execute_result"
    }
   ],
   "source": [
    "df.MODEL.describe()"
   ]
  },
  {
   "cell_type": "code",
   "execution_count": 8,
   "id": "32c96831-e2e3-4f2e-841e-62192fb0f095",
   "metadata": {},
   "outputs": [
    {
     "data": {
      "image/png": "[encoded data removed]",
      "text/plain": [
       "<Figure size 456.375x360 with 1 Axes>"
      ]
     },
     "metadata": {
      "needs_background": "light"
     },
     "output_type": "display_data"
    }
   ],
   "source": [
    "sns.displot(df[['ENGINESIZE']])\n",
    "plt.show()"
   ]
  },
  {
   "cell_type": "code",
   "execution_count": 9,
   "id": "ad2326b6-eb9b-41b7-8c5d-bd5bb71ca73c",
   "metadata": {},
   "outputs": [
    {
     "data": {
      "image/png": "[encoded data removed]",
      "text/plain": [
       "<Figure size 432x288 with 1 Axes>"
      ]
     },
     "metadata": {
      "needs_background": "light"
     },
     "output_type": "display_data"
    }
   ],
   "source": [
    "sns.boxplot(data=df[['ENGINESIZE']])\n",
    "plt.show()"
   ]
  },
  {
   "cell_type": "code",
   "execution_count": 10,
   "id": "a57dc472-ccbb-4d08-b040-57300b91170b",
   "metadata": {},
   "outputs": [
    {
     "data": {
      "text/plain": [
       "['MODELYEAR',\n",
       " 'MAKE',\n",
       " 'MODEL',\n",
       " 'VEHICLECLASS',\n",
       " 'ENGINESIZE',\n",
       " 'CYLINDERS',\n",
       " 'TRANSMISSION',\n",
       " 'FUELTYPE',\n",
       " 'FUELCONSUMPTION_CITY',\n",
       " 'FUELCONSUMPTION_HWY',\n",
       " 'FUELCONSUMPTION_COMB',\n",
       " 'FUELCONSUMPTION_COMB_MPG',\n",
       " 'CO2EMISSIONS']"
      ]
     },
     "execution_count": 10,
     "metadata": {},
     "output_type": "execute_result"
    }
   ],
   "source": [
    "df.columns.tolist()"
   ]
  },
  {
   "cell_type": "code",
   "execution_count": 11,
   "id": "bb8a2acf-700a-45e3-9b0f-f7dbea7808cc",
   "metadata": {},
   "outputs": [
    {
     "data": {
      "image/png": "[encoded data removed]",
      "text/plain": [
       "<Figure size 432x288 with 1 Axes>"
      ]
     },
     "metadata": {
      "needs_background": "light"
     },
     "output_type": "display_data"
    }
   ],
   "source": [
    "sns.boxenplot(data=df[['ENGINESIZE']],linewidth=True)\n",
    "plt.show()"
   ]
  },
  {
   "cell_type": "code",
   "execution_count": 12,
   "id": "a6412be4-fb93-4d7c-9056-941f00242e10",
   "metadata": {},
   "outputs": [
    {
     "data": {
      "image/png": "[encoded data removed]",
      "text/plain": [
       "<Figure size 432x288 with 1 Axes>"
      ]
     },
     "metadata": {
      "needs_background": "light"
     },
     "output_type": "display_data"
    }
   ],
   "source": [
    "sns.boxenplot(data=df.drop(columns=['MODELYEAR','CO2EMISSIONS']))\n",
    "plt.xticks(rotation=45)\n",
    "plt.yticks(rotation=90)\n",
    "plt.show()"
   ]
  },
  {
   "cell_type": "code",
   "execution_count": 13,
   "id": "9d389d09-5042-4c29-8ed3-775658ba4170",
   "metadata": {},
   "outputs": [
    {
     "data": {
      "image/png": "[encoded data removed]",
      "text/plain": [
       "<Figure size 432x288 with 2 Axes>"
      ]
     },
     "metadata": {
      "needs_background": "light"
     },
     "output_type": "display_data"
    }
   ],
   "source": [
    "df.corr()\n",
    "sns.heatmap(df.drop(columns=['MODELYEAR']).corr(),annot=True)\n",
    "plt.xticks(rotation=45)\n",
    "plt.yticks(rotation=45)\n",
    "plt.show()"
   ]
  },
  {
   "cell_type": "code",
   "execution_count": 14,
   "id": "ba6f1475-a359-423a-963c-d96bb016be22",
   "metadata": {},
   "outputs": [
    {
     "data": {
      "image/png": "[encoded data removed]",
      "text/plain": [
       "<Figure size 432x288 with 1 Axes>"
      ]
     },
     "metadata": {
      "needs_background": "light"
     },
     "output_type": "display_data"
    }
   ],
   "source": [
    "sns.scatterplot(data=df, x='ENGINESIZE',y='CO2EMISSIONS')\n",
    "plt.show()"
   ]
  },
  {
   "cell_type": "code",
   "execution_count": 15,
   "id": "269c987d-5302-49f1-bc4e-99a6a8657b01",
   "metadata": {},
   "outputs": [],
   "source": [
    "from sklearn.linear_model import LinearRegression\n",
    "from sklearn.metrics import mean_squared_error, mean_absolute_error,recall_score,r2_score\n",
    "from sklearn.model_selection import train_test_split,KFold"
   ]
  },
  {
   "cell_type": "code",
   "execution_count": 16,
   "id": "0155e1f3-da94-487a-bfa5-f71f66ea007f",
   "metadata": {},
   "outputs": [],
   "source": [
    "X,y=(df[['ENGINESIZE']],df.CO2EMISSIONS)"
   ]
  },
  {
   "cell_type": "code",
   "execution_count": 17,
   "id": "53053684-9b81-4ab0-a651-58837560c937",
   "metadata": {},
   "outputs": [],
   "source": [
    "x_train,x_test,y_train,y_test= train_test_split(X,y,test_size=0.25,random_state=28121994)"
   ]
  },
  {
   "cell_type": "code",
   "execution_count": 19,
   "id": "d1e86f53-ff15-47d6-960c-23ba43b7122c",
   "metadata": {},
   "outputs": [],
   "source": [
    "Linear=LinearRegression()"
   ]
  },
  {
   "cell_type": "code",
   "execution_count": 20,
   "id": "36480c98-a6bf-47e1-85db-4fb14c1e41e5",
   "metadata": {},
   "outputs": [
    {
     "data": {
      "text/plain": [
       "LinearRegression()"
      ]
     },
     "execution_count": 20,
     "metadata": {},
     "output_type": "execute_result"
    }
   ],
   "source": [
    "Linear.fit(x_train,y_train)"
   ]
  },
  {
   "cell_type": "code",
   "execution_count": 21,
   "id": "c47808fd-b3f5-4cf6-8288-49a3dcea8bec",
   "metadata": {},
   "outputs": [],
   "source": [
    "from sklearn import metrics"
   ]
  },
  {
   "cell_type": "code",
   "execution_count": 23,
   "id": "57e06822-fd1a-4654-9e05-3aecbd0b2e95",
   "metadata": {},
   "outputs": [
    {
     "data": {
      "text/plain": [
       "array([38.95203692])"
      ]
     },
     "execution_count": 23,
     "metadata": {},
     "output_type": "execute_result"
    }
   ],
   "source": [
    "Linear.coef_"
   ]
  },
  {
   "cell_type": "code",
   "execution_count": 24,
   "id": "18934bbb-0e0c-489d-9b72-b3b650e9bb65",
   "metadata": {},
   "outputs": [
    {
     "data": {
      "text/plain": [
       "126.27677766813662"
      ]
     },
     "execution_count": 24,
     "metadata": {},
     "output_type": "execute_result"
    }
   ],
   "source": [
    "Linear.intercept_"
   ]
  },
  {
   "cell_type": "code",
   "execution_count": 25,
   "id": "3b3ff7de-0c61-411c-9405-a0fd21d0cc8e",
   "metadata": {},
   "outputs": [
    {
     "data": {
      "text/plain": [
       "array([173.01922197, 266.50411057, 184.70483305, 313.24655488,\n",
       "       243.13288842, 204.1808515 , 204.1808515 , 204.1808515 ,\n",
       "       204.1808515 , 332.72257334, 262.60890688, 262.60890688,\n",
       "       289.87533273, 258.71370319, 266.50411057, 204.1808515 ,\n",
       "       243.13288842, 356.09379549, 188.60003674, 266.50411057,\n",
       "       309.35135118, 204.1808515 , 180.80962935, 270.39931427,\n",
       "       219.76166627, 204.1808515 , 204.1808515 , 219.76166627,\n",
       "       266.50411057, 204.1808515 , 305.45614749, 262.60890688,\n",
       "       223.65686996, 321.03696226, 367.77940656, 262.60890688,\n",
       "       196.39044412, 321.03696226, 196.39044412, 243.13288842,\n",
       "       219.76166627, 204.1808515 , 204.1808515 , 270.39931427,\n",
       "       266.50411057, 270.39931427, 258.71370319, 204.1808515 ,\n",
       "       262.60890688, 266.50411057, 266.50411057, 266.50411057,\n",
       "       282.08492534, 293.77053642, 188.60003674, 313.24655488,\n",
       "       188.60003674, 266.50411057, 176.91442566, 204.1808515 ,\n",
       "       223.65686996, 266.50411057, 219.76166627, 266.50411057,\n",
       "       321.03696226, 204.1808515 , 180.80962935, 188.60003674,\n",
       "       204.1808515 , 321.03696226, 262.60890688, 231.44727735,\n",
       "       188.60003674, 196.39044412, 274.29451796, 332.72257334,\n",
       "       321.03696226, 367.77940656, 243.13288842, 289.87533273,\n",
       "       266.50411057, 270.39931427, 266.50411057, 309.35135118,\n",
       "       321.03696226, 243.13288842, 297.66574011, 262.60890688,\n",
       "       180.80962935, 266.50411057, 223.65686996, 180.80962935,\n",
       "       282.08492534, 180.80962935, 180.80962935, 165.22881459,\n",
       "       313.24655488, 204.1808515 , 270.39931427, 262.60890688,\n",
       "       266.50411057, 282.08492534, 196.39044412, 243.13288842,\n",
       "       262.60890688, 243.13288842, 219.76166627, 453.47388778,\n",
       "       243.13288842, 204.1808515 , 188.60003674, 223.65686996,\n",
       "       282.08492534, 223.65686996, 219.76166627, 274.29451796,\n",
       "       204.1808515 , 204.1808515 , 204.1808515 , 262.60890688,\n",
       "       204.1808515 , 262.60890688, 188.60003674, 262.60890688,\n",
       "       243.13288842, 297.66574011, 204.1808515 , 204.1808515 ,\n",
       "       243.13288842, 359.98899918, 332.72257334, 188.60003674,\n",
       "       266.50411057, 180.80962935, 188.60003674, 359.98899918,\n",
       "       223.65686996, 204.1808515 , 266.50411057, 297.66574011,\n",
       "       204.1808515 , 219.76166627, 243.13288842, 188.60003674,\n",
       "       196.39044412, 196.39044412, 266.50411057, 204.1808515 ,\n",
       "       219.76166627, 223.65686996, 340.51298072, 223.65686996,\n",
       "       223.65686996, 262.60890688, 204.1808515 , 359.98899918,\n",
       "       180.80962935, 270.39931427, 297.66574011, 305.45614749,\n",
       "       262.60890688, 321.03696226, 321.03696226, 367.77940656,\n",
       "       332.72257334, 223.65686996, 219.76166627, 180.80962935,\n",
       "       188.60003674, 219.76166627, 243.13288842, 196.39044412,\n",
       "       297.66574011, 204.1808515 , 367.77940656, 243.13288842,\n",
       "       321.03696226, 243.13288842, 188.60003674, 305.45614749,\n",
       "       262.60890688, 266.50411057, 262.60890688, 379.46501764,\n",
       "       266.50411057, 270.39931427, 223.65686996, 188.60003674,\n",
       "       266.50411057, 336.61777703, 231.44727735, 274.29451796,\n",
       "       243.13288842, 262.60890688, 321.03696226, 270.39931427,\n",
       "       321.03696226, 332.72257334, 243.13288842, 348.3033881 ,\n",
       "       328.82736964, 266.50411057, 321.03696226, 196.39044412,\n",
       "       223.65686996, 223.65686996, 204.1808515 , 336.61777703,\n",
       "       321.03696226, 344.40818441, 297.66574011, 204.1808515 ,\n",
       "       344.40818441, 266.50411057, 219.76166627, 196.39044412,\n",
       "       332.72257334, 340.51298072, 188.60003674, 188.60003674,\n",
       "       204.1808515 , 262.60890688, 204.1808515 , 243.13288842,\n",
       "       223.65686996, 254.8184995 , 266.50411057, 204.1808515 ,\n",
       "       293.77053642, 188.60003674, 204.1808515 , 262.60890688,\n",
       "       250.92329581, 204.1808515 , 258.71370319, 219.76166627,\n",
       "       321.03696226, 262.60890688, 367.77940656, 270.39931427,\n",
       "       309.35135118, 266.50411057, 332.72257334, 282.08492534,\n",
       "       274.29451796, 367.77940656, 223.65686996, 243.13288842,\n",
       "       309.35135118, 313.24655488, 321.03696226, 262.60890688,\n",
       "       180.80962935, 219.76166627, 243.13288842, 367.77940656,\n",
       "       266.50411057, 332.72257334, 243.13288842, 180.80962935,\n",
       "       188.60003674, 204.1808515 , 250.92329581, 266.50411057,\n",
       "       188.60003674, 321.03696226, 204.1808515 ])"
      ]
     },
     "execution_count": 25,
     "metadata": {},
     "output_type": "execute_result"
    }
   ],
   "source": [
    "y_pred=Linear.predict(x_test)\n",
    "y_pred"
   ]
  },
  {
   "cell_type": "code",
   "execution_count": 28,
   "id": "9fc1145d-370a-437e-876d-dec778265eb7",
   "metadata": {},
   "outputs": [],
   "source": [
    "pred1=Linear.predict(x_test)\n",
    "pred2=Linear.coef_*x_test+ Linear.intercept_"
   ]
  },
  {
   "cell_type": "code",
   "execution_count": 29,
   "id": "e0334fd7-15ae-40e0-8901-276b3f64bb68",
   "metadata": {},
   "outputs": [
    {
     "data": {
      "text/html": [
       "<div>\n",
       "<style scoped>\n",
       "    .dataframe tbody tr th:only-of-type {\n",
       "        vertical-align: middle;\n",
       "    }\n",
       "\n",
       "    .dataframe tbody tr th {\n",
       "        vertical-align: top;\n",
       "    }\n",
       "\n",
       "    .dataframe thead th {\n",
       "        text-align: right;\n",
       "    }\n",
       "</style>\n",
       "<table border=\"1\" class=\"dataframe\">\n",
       "  <thead>\n",
       "    <tr style=\"text-align: right;\">\n",
       "      <th></th>\n",
       "      <th>auto</th>\n",
       "      <th>manual</th>\n",
       "    </tr>\n",
       "  </thead>\n",
       "  <tbody>\n",
       "    <tr>\n",
       "      <th>0</th>\n",
       "      <td>173.019222</td>\n",
       "      <td>NaN</td>\n",
       "    </tr>\n",
       "    <tr>\n",
       "      <th>1</th>\n",
       "      <td>266.504111</td>\n",
       "      <td>NaN</td>\n",
       "    </tr>\n",
       "    <tr>\n",
       "      <th>2</th>\n",
       "      <td>184.704833</td>\n",
       "      <td>184.704833</td>\n",
       "    </tr>\n",
       "    <tr>\n",
       "      <th>3</th>\n",
       "      <td>313.246555</td>\n",
       "      <td>NaN</td>\n",
       "    </tr>\n",
       "    <tr>\n",
       "      <th>4</th>\n",
       "      <td>243.132888</td>\n",
       "      <td>262.608907</td>\n",
       "    </tr>\n",
       "    <tr>\n",
       "      <th>...</th>\n",
       "      <td>...</td>\n",
       "      <td>...</td>\n",
       "    </tr>\n",
       "    <tr>\n",
       "      <th>262</th>\n",
       "      <td>250.923296</td>\n",
       "      <td>332.722573</td>\n",
       "    </tr>\n",
       "    <tr>\n",
       "      <th>263</th>\n",
       "      <td>266.504111</td>\n",
       "      <td>332.722573</td>\n",
       "    </tr>\n",
       "    <tr>\n",
       "      <th>264</th>\n",
       "      <td>188.600037</td>\n",
       "      <td>NaN</td>\n",
       "    </tr>\n",
       "    <tr>\n",
       "      <th>265</th>\n",
       "      <td>321.036962</td>\n",
       "      <td>NaN</td>\n",
       "    </tr>\n",
       "    <tr>\n",
       "      <th>266</th>\n",
       "      <td>204.180852</td>\n",
       "      <td>332.722573</td>\n",
       "    </tr>\n",
       "  </tbody>\n",
       "</table>\n",
       "<p>267 rows × 2 columns</p>\n",
       "</div>"
      ],
      "text/plain": [
       "           auto      manual\n",
       "0    173.019222         NaN\n",
       "1    266.504111         NaN\n",
       "2    184.704833  184.704833\n",
       "3    313.246555         NaN\n",
       "4    243.132888  262.608907\n",
       "..          ...         ...\n",
       "262  250.923296  332.722573\n",
       "263  266.504111  332.722573\n",
       "264  188.600037         NaN\n",
       "265  321.036962         NaN\n",
       "266  204.180852  332.722573\n",
       "\n",
       "[267 rows x 2 columns]"
      ]
     },
     "execution_count": 29,
     "metadata": {},
     "output_type": "execute_result"
    }
   ],
   "source": [
    "comparision=pd.DataFrame()\n",
    "comparision['auto']=pred1\n",
    "comparision['manual']=pred2\n",
    "comparision"
   ]
  },
  {
   "cell_type": "code",
   "execution_count": 30,
   "id": "15c830e9-5a34-41d4-98f6-c7e2a83aa12b",
   "metadata": {},
   "outputs": [
    {
     "data": {
      "text/plain": [
       "24.173163996958607"
      ]
     },
     "execution_count": 30,
     "metadata": {},
     "output_type": "execute_result"
    }
   ],
   "source": [
    "metrics.mean_absolute_error(y_test,y_pred)"
   ]
  },
  {
   "cell_type": "code",
   "execution_count": 31,
   "id": "360a021d-97c4-41e7-839a-3eb34b072e35",
   "metadata": {},
   "outputs": [
    {
     "data": {
      "text/plain": [
       "992.9528801445165"
      ]
     },
     "execution_count": 31,
     "metadata": {},
     "output_type": "execute_result"
    }
   ],
   "source": [
    "mean_squared_error(y_test,y_pred)"
   ]
  },
  {
   "cell_type": "code",
   "execution_count": 34,
   "id": "2c8ab80d-87d0-4164-aeb7-b1d4ad81ad03",
   "metadata": {},
   "outputs": [
    {
     "data": {
      "text/plain": [
       "0.7457922207775599"
      ]
     },
     "execution_count": 34,
     "metadata": {},
     "output_type": "execute_result"
    }
   ],
   "source": [
    "r2_score(y_test,y_pred)\n",
    "#"
   ]
  },
  {
   "cell_type": "code",
   "execution_count": 35,
   "id": "56397c50-c7a5-4a7b-a646-0190d23b91fe",
   "metadata": {},
   "outputs": [
    {
     "data": {
      "text/plain": [
       "992.9528801445165"
      ]
     },
     "execution_count": 35,
     "metadata": {},
     "output_type": "execute_result"
    }
   ],
   "source": [
    "mean_squared_error(y_test,y_pred)\n",
    "#Càng thấp càng tốt"
   ]
  },
  {
   "cell_type": "code",
   "execution_count": 36,
   "id": "9f20770a-11d6-4a73-9a33-a51356166d4c",
   "metadata": {},
   "outputs": [
    {
     "data": {
      "text/plain": [
       "24.173163996958607"
      ]
     },
     "execution_count": 36,
     "metadata": {},
     "output_type": "execute_result"
    }
   ],
   "source": [
    "mean_absolute_error(y_test,y_pred)\n",
    "#càng cao càng tốt"
   ]
  }
 ],
 "metadata": {
  "kernelspec": {
   "display_name": "Python 3",
   "language": "python",
   "name": "python3"
  },
  "language_info": {
   "codemirror_mode": {
    "name": "ipython",
    "version": 3
   },
   "file_extension": ".py",
   "mimetype": "text/x-python",
   "name": "python",
   "nbconvert_exporter": "python",
   "pygments_lexer": "ipython3",
   "version": "3.8.8"
  }
 },
 "nbformat": 4,
 "nbformat_minor": 5
}
