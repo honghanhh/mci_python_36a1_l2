{
 "cells": [
  {
   "cell_type": "markdown",
   "metadata": {
    "id": "OQj36lMPVXyn"
   },
   "source": [
    "# Machine Learning Model - Feature Engineering (Tổng hợp biến phái sinh)"
   ]
  },
  {
   "cell_type": "code",
   "execution_count": null,
   "metadata": {
    "id": "beYD2pxmVXzH"
   },
   "outputs": [],
   "source": [
    "# Ví dụ dữ liệu Nominal và Ordinal\n",
    "# Trình độ học vấn\n",
    "arr = ['cấp 1', 'cấp 2', 'cấp 3', 'đại học', 'sau đại học'] # => sự sắp xếp nhất định\n",
    "arr1 = ['nhân viên', 'nhóm trưởng', 'trưởng phòng', 'giám đốc chi nhánh', 'giám đốc vùng'] # => thứ tự nhất định\n",
    "# Ordinal\n",
    "# Nominal dữ liệu chữ nhưng ko có giá trị để sắp xếp\n",
    "arr2 = ['bò sát', 'có vú', 'gia cầm', 'giáp xác']"
   ]
  },
  {
   "cell_type": "code",
   "execution_count": 2,
   "metadata": {
    "executionInfo": {
     "elapsed": 1422,
     "status": "ok",
     "timestamp": 1627563492936,
     "user": {
      "displayName": "Samuel Doan",
      "photoUrl": "https://lh3.googleusercontent.com/a-/AOh14GjbcdQ40FcyCSIyitBN2ptY3zHWA_09harKPYF2=s64",
      "userId": "04384888964432338542"
     },
     "user_tz": -420
    },
    "id": "gX0KodZyVXzN"
   },
   "outputs": [],
   "source": [
    "import pandas as pd\n",
    "import numpy as np\n",
    "\n",
    "import matplotlib.pyplot as plt\n",
    "import seaborn as sns\n",
    "%matplotlib inline"
   ]
  },
  {
   "cell_type": "code",
   "execution_count": 3,
   "metadata": {
    "colab": {
     "base_uri": "https://localhost:8080/",
     "height": 615
    },
    "executionInfo": {
     "elapsed": 1582,
     "status": "ok",
     "timestamp": 1627563524504,
     "user": {
      "displayName": "Samuel Doan",
      "photoUrl": "https://lh3.googleusercontent.com/a-/AOh14GjbcdQ40FcyCSIyitBN2ptY3zHWA_09harKPYF2=s64",
      "userId": "04384888964432338542"
     },
     "user_tz": -420
    },
    "id": "hL6VbrBXVXzQ",
    "outputId": "f39e63d2-8a11-43aa-cfb8-eb1bbef36777"
   },
   "outputs": [
    {
     "name": "stdout",
     "output_type": "stream",
     "text": [
      "<class 'pandas.core.frame.DataFrame'>\n",
      "RangeIndex: 891 entries, 0 to 890\n",
      "Data columns (total 15 columns):\n",
      " #   Column       Non-Null Count  Dtype   \n",
      "---  ------       --------------  -----   \n",
      " 0   survived     891 non-null    int64   \n",
      " 1   pclass       891 non-null    int64   \n",
      " 2   sex          891 non-null    object  \n",
      " 3   age          714 non-null    float64 \n",
      " 4   sibsp        891 non-null    int64   \n",
      " 5   parch        891 non-null    int64   \n",
      " 6   fare         891 non-null    float64 \n",
      " 7   embarked     889 non-null    object  \n",
      " 8   class        891 non-null    category\n",
      " 9   who          891 non-null    object  \n",
      " 10  adult_male   891 non-null    bool    \n",
      " 11  deck         203 non-null    category\n",
      " 12  embark_town  889 non-null    object  \n",
      " 13  alive        891 non-null    object  \n",
      " 14  alone        891 non-null    bool    \n",
      "dtypes: bool(2), category(2), float64(2), int64(4), object(5)\n",
      "memory usage: 80.7+ KB\n"
     ]
    },
    {
     "data": {
      "text/plain": [
       "None"
      ]
     },
     "metadata": {},
     "output_type": "display_data"
    },
    {
     "data": {
      "text/html": [
       "<div>\n",
       "<style scoped>\n",
       "    .dataframe tbody tr th:only-of-type {\n",
       "        vertical-align: middle;\n",
       "    }\n",
       "\n",
       "    .dataframe tbody tr th {\n",
       "        vertical-align: top;\n",
       "    }\n",
       "\n",
       "    .dataframe thead th {\n",
       "        text-align: right;\n",
       "    }\n",
       "</style>\n",
       "<table border=\"1\" class=\"dataframe\">\n",
       "  <thead>\n",
       "    <tr style=\"text-align: right;\">\n",
       "      <th></th>\n",
       "      <th>survived</th>\n",
       "      <th>pclass</th>\n",
       "      <th>sex</th>\n",
       "      <th>age</th>\n",
       "      <th>sibsp</th>\n",
       "      <th>parch</th>\n",
       "      <th>fare</th>\n",
       "      <th>embarked</th>\n",
       "      <th>class</th>\n",
       "      <th>who</th>\n",
       "      <th>adult_male</th>\n",
       "      <th>deck</th>\n",
       "      <th>embark_town</th>\n",
       "      <th>alive</th>\n",
       "      <th>alone</th>\n",
       "    </tr>\n",
       "  </thead>\n",
       "  <tbody>\n",
       "    <tr>\n",
       "      <th>0</th>\n",
       "      <td>0</td>\n",
       "      <td>3</td>\n",
       "      <td>male</td>\n",
       "      <td>22.0</td>\n",
       "      <td>1</td>\n",
       "      <td>0</td>\n",
       "      <td>7.2500</td>\n",
       "      <td>S</td>\n",
       "      <td>Third</td>\n",
       "      <td>man</td>\n",
       "      <td>True</td>\n",
       "      <td>NaN</td>\n",
       "      <td>Southampton</td>\n",
       "      <td>no</td>\n",
       "      <td>False</td>\n",
       "    </tr>\n",
       "    <tr>\n",
       "      <th>1</th>\n",
       "      <td>1</td>\n",
       "      <td>1</td>\n",
       "      <td>female</td>\n",
       "      <td>38.0</td>\n",
       "      <td>1</td>\n",
       "      <td>0</td>\n",
       "      <td>71.2833</td>\n",
       "      <td>C</td>\n",
       "      <td>First</td>\n",
       "      <td>woman</td>\n",
       "      <td>False</td>\n",
       "      <td>C</td>\n",
       "      <td>Cherbourg</td>\n",
       "      <td>yes</td>\n",
       "      <td>False</td>\n",
       "    </tr>\n",
       "    <tr>\n",
       "      <th>2</th>\n",
       "      <td>1</td>\n",
       "      <td>3</td>\n",
       "      <td>female</td>\n",
       "      <td>26.0</td>\n",
       "      <td>0</td>\n",
       "      <td>0</td>\n",
       "      <td>7.9250</td>\n",
       "      <td>S</td>\n",
       "      <td>Third</td>\n",
       "      <td>woman</td>\n",
       "      <td>False</td>\n",
       "      <td>NaN</td>\n",
       "      <td>Southampton</td>\n",
       "      <td>yes</td>\n",
       "      <td>True</td>\n",
       "    </tr>\n",
       "    <tr>\n",
       "      <th>3</th>\n",
       "      <td>1</td>\n",
       "      <td>1</td>\n",
       "      <td>female</td>\n",
       "      <td>35.0</td>\n",
       "      <td>1</td>\n",
       "      <td>0</td>\n",
       "      <td>53.1000</td>\n",
       "      <td>S</td>\n",
       "      <td>First</td>\n",
       "      <td>woman</td>\n",
       "      <td>False</td>\n",
       "      <td>C</td>\n",
       "      <td>Southampton</td>\n",
       "      <td>yes</td>\n",
       "      <td>False</td>\n",
       "    </tr>\n",
       "    <tr>\n",
       "      <th>4</th>\n",
       "      <td>0</td>\n",
       "      <td>3</td>\n",
       "      <td>male</td>\n",
       "      <td>35.0</td>\n",
       "      <td>0</td>\n",
       "      <td>0</td>\n",
       "      <td>8.0500</td>\n",
       "      <td>S</td>\n",
       "      <td>Third</td>\n",
       "      <td>man</td>\n",
       "      <td>True</td>\n",
       "      <td>NaN</td>\n",
       "      <td>Southampton</td>\n",
       "      <td>no</td>\n",
       "      <td>True</td>\n",
       "    </tr>\n",
       "  </tbody>\n",
       "</table>\n",
       "</div>"
      ],
      "text/plain": [
       "   survived  pclass     sex   age  sibsp  parch     fare embarked  class  \\\n",
       "0         0       3    male  22.0      1      0   7.2500        S  Third   \n",
       "1         1       1  female  38.0      1      0  71.2833        C  First   \n",
       "2         1       3  female  26.0      0      0   7.9250        S  Third   \n",
       "3         1       1  female  35.0      1      0  53.1000        S  First   \n",
       "4         0       3    male  35.0      0      0   8.0500        S  Third   \n",
       "\n",
       "     who  adult_male deck  embark_town alive  alone  \n",
       "0    man        True  NaN  Southampton    no  False  \n",
       "1  woman       False    C    Cherbourg   yes  False  \n",
       "2  woman       False  NaN  Southampton   yes   True  \n",
       "3  woman       False    C  Southampton   yes  False  \n",
       "4    man        True  NaN  Southampton    no   True  "
      ]
     },
     "metadata": {},
     "output_type": "display_data"
    }
   ],
   "source": [
    "titanic = sns.load_dataset('titanic')\n",
    "display(titanic.info(), titanic.head())"
   ]
  },
  {
   "cell_type": "code",
   "execution_count": null,
   "metadata": {
    "id": "SDFuyb_ZVXzZ"
   },
   "outputs": [],
   "source": [
    "# titanic = titanic.drop(columns=['survived', 'pclass', 'embarked', 'who', 'adult_male', 'alone'])\n",
    "# titanic"
   ]
  },
  {
   "cell_type": "markdown",
   "metadata": {
    "id": "kGYH9_SdVXzb"
   },
   "source": [
    "## Kiem tra chat luong du lieu"
   ]
  },
  {
   "cell_type": "code",
   "execution_count": 4,
   "metadata": {
    "colab": {
     "base_uri": "https://localhost:8080/"
    },
    "executionInfo": {
     "elapsed": 676,
     "status": "ok",
     "timestamp": 1627563636751,
     "user": {
      "displayName": "Samuel Doan",
      "photoUrl": "https://lh3.googleusercontent.com/a-/AOh14GjbcdQ40FcyCSIyitBN2ptY3zHWA_09harKPYF2=s64",
      "userId": "04384888964432338542"
     },
     "user_tz": -420
    },
    "id": "uNOIqBuzVXzq",
    "outputId": "c9b4919e-dea0-4da7-8478-84b0a28744c4"
   },
   "outputs": [
    {
     "data": {
      "text/plain": [
       "survived         0\n",
       "pclass           0\n",
       "sex              0\n",
       "age            177\n",
       "sibsp            0\n",
       "parch            0\n",
       "fare             0\n",
       "embarked         2\n",
       "class            0\n",
       "who              0\n",
       "adult_male       0\n",
       "deck           688\n",
       "embark_town      2\n",
       "alive            0\n",
       "alone            0\n",
       "dtype: int64"
      ]
     },
     "execution_count": 4,
     "metadata": {
      "tags": []
     },
     "output_type": "execute_result"
    }
   ],
   "source": [
    "titanic.isnull().sum() # Python True = 1, False = 0"
   ]
  },
  {
   "cell_type": "code",
   "execution_count": null,
   "metadata": {
    "id": "vQfdkwHSVXzs"
   },
   "outputs": [],
   "source": [
    "### Xu ly du lieu bi thieu"
   ]
  },
  {
   "cell_type": "code",
   "execution_count": 6,
   "metadata": {
    "colab": {
     "base_uri": "https://localhost:8080/"
    },
    "executionInfo": {
     "elapsed": 579,
     "status": "ok",
     "timestamp": 1627563825525,
     "user": {
      "displayName": "Samuel Doan",
      "photoUrl": "https://lh3.googleusercontent.com/a-/AOh14GjbcdQ40FcyCSIyitBN2ptY3zHWA_09harKPYF2=s64",
      "userId": "04384888964432338542"
     },
     "user_tz": -420
    },
    "id": "tI1JMslgXEcb",
    "outputId": "b5324bec-88d3-450e-86e1-c51002d39b09"
   },
   "outputs": [
    {
     "data": {
      "text/plain": [
       "Southampton    644\n",
       "Cherbourg      168\n",
       "Queenstown      77\n",
       "NaN              2\n",
       "Name: embark_town, dtype: int64"
      ]
     },
     "execution_count": 6,
     "metadata": {
      "tags": []
     },
     "output_type": "execute_result"
    }
   ],
   "source": [
    "titanic['embark_town'].value_counts(dropna=False)"
   ]
  },
  {
   "cell_type": "code",
   "execution_count": 8,
   "metadata": {
    "colab": {
     "base_uri": "https://localhost:8080/",
     "height": 112
    },
    "executionInfo": {
     "elapsed": 589,
     "status": "ok",
     "timestamp": 1627563877570,
     "user": {
      "displayName": "Samuel Doan",
      "photoUrl": "https://lh3.googleusercontent.com/a-/AOh14GjbcdQ40FcyCSIyitBN2ptY3zHWA_09harKPYF2=s64",
      "userId": "04384888964432338542"
     },
     "user_tz": -420
    },
    "id": "hQKrtHoMXUAC",
    "outputId": "13e527fa-a124-4565-e4a6-bd997d579a85"
   },
   "outputs": [
    {
     "data": {
      "text/html": [
       "<div>\n",
       "<style scoped>\n",
       "    .dataframe tbody tr th:only-of-type {\n",
       "        vertical-align: middle;\n",
       "    }\n",
       "\n",
       "    .dataframe tbody tr th {\n",
       "        vertical-align: top;\n",
       "    }\n",
       "\n",
       "    .dataframe thead th {\n",
       "        text-align: right;\n",
       "    }\n",
       "</style>\n",
       "<table border=\"1\" class=\"dataframe\">\n",
       "  <thead>\n",
       "    <tr style=\"text-align: right;\">\n",
       "      <th></th>\n",
       "      <th>survived</th>\n",
       "      <th>pclass</th>\n",
       "      <th>sex</th>\n",
       "      <th>age</th>\n",
       "      <th>sibsp</th>\n",
       "      <th>parch</th>\n",
       "      <th>fare</th>\n",
       "      <th>embarked</th>\n",
       "      <th>class</th>\n",
       "      <th>who</th>\n",
       "      <th>adult_male</th>\n",
       "      <th>deck</th>\n",
       "      <th>embark_town</th>\n",
       "      <th>alive</th>\n",
       "      <th>alone</th>\n",
       "    </tr>\n",
       "  </thead>\n",
       "  <tbody>\n",
       "    <tr>\n",
       "      <th>61</th>\n",
       "      <td>1</td>\n",
       "      <td>1</td>\n",
       "      <td>female</td>\n",
       "      <td>38.0</td>\n",
       "      <td>0</td>\n",
       "      <td>0</td>\n",
       "      <td>80.0</td>\n",
       "      <td>NaN</td>\n",
       "      <td>First</td>\n",
       "      <td>woman</td>\n",
       "      <td>False</td>\n",
       "      <td>B</td>\n",
       "      <td>NaN</td>\n",
       "      <td>yes</td>\n",
       "      <td>True</td>\n",
       "    </tr>\n",
       "    <tr>\n",
       "      <th>829</th>\n",
       "      <td>1</td>\n",
       "      <td>1</td>\n",
       "      <td>female</td>\n",
       "      <td>62.0</td>\n",
       "      <td>0</td>\n",
       "      <td>0</td>\n",
       "      <td>80.0</td>\n",
       "      <td>NaN</td>\n",
       "      <td>First</td>\n",
       "      <td>woman</td>\n",
       "      <td>False</td>\n",
       "      <td>B</td>\n",
       "      <td>NaN</td>\n",
       "      <td>yes</td>\n",
       "      <td>True</td>\n",
       "    </tr>\n",
       "  </tbody>\n",
       "</table>\n",
       "</div>"
      ],
      "text/plain": [
       "     survived  pclass     sex   age  ...  deck  embark_town  alive alone\n",
       "61          1       1  female  38.0  ...     B          NaN    yes  True\n",
       "829         1       1  female  62.0  ...     B          NaN    yes  True\n",
       "\n",
       "[2 rows x 15 columns]"
      ]
     },
     "execution_count": 8,
     "metadata": {
      "tags": []
     },
     "output_type": "execute_result"
    }
   ],
   "source": [
    "filter1 = titanic['embark_town'].isnull() # lọc các bản ghi bị thiếu dữ liệu embark_town\n",
    "titanic[filter1]"
   ]
  },
  {
   "cell_type": "code",
   "execution_count": null,
   "metadata": {},
   "outputs": [],
   "source": []
  },
  {
   "cell_type": "code",
   "execution_count": 9,
   "metadata": {
    "colab": {
     "base_uri": "https://localhost:8080/"
    },
    "executionInfo": {
     "elapsed": 928,
     "status": "ok",
     "timestamp": 1627563962807,
     "user": {
      "displayName": "Samuel Doan",
      "photoUrl": "https://lh3.googleusercontent.com/a-/AOh14GjbcdQ40FcyCSIyitBN2ptY3zHWA_09harKPYF2=s64",
      "userId": "04384888964432338542"
     },
     "user_tz": -420
    },
    "id": "1Kzin9KYXtnV",
    "outputId": "95247b4f-c593-4c3a-9b41-e094c8f25148"
   },
   "outputs": [
    {
     "data": {
      "text/plain": [
       "0      Southampton\n",
       "1        Cherbourg\n",
       "2      Southampton\n",
       "3      Southampton\n",
       "4      Southampton\n",
       "          ...     \n",
       "886    Southampton\n",
       "887    Southampton\n",
       "888    Southampton\n",
       "889      Cherbourg\n",
       "890     Queenstown\n",
       "Name: embark_town, Length: 891, dtype: object"
      ]
     },
     "execution_count": 9,
     "metadata": {
      "tags": []
     },
     "output_type": "execute_result"
    }
   ],
   "source": [
    "titanic['embark_town'].fillna('Unknown') # No brainer (ít quan sát bị thiếu)"
   ]
  },
  {
   "cell_type": "code",
   "execution_count": 4,
   "metadata": {
    "colab": {
     "base_uri": "https://localhost:8080/",
     "height": 424
    },
    "executionInfo": {
     "elapsed": 584,
     "status": "ok",
     "timestamp": 1627564310507,
     "user": {
      "displayName": "Samuel Doan",
      "photoUrl": "https://lh3.googleusercontent.com/a-/AOh14GjbcdQ40FcyCSIyitBN2ptY3zHWA_09harKPYF2=s64",
      "userId": "04384888964432338542"
     },
     "user_tz": -420
    },
    "id": "aN5BlmGTYLj_",
    "outputId": "b614ddc6-2265-4b56-d065-01964712262b"
   },
   "outputs": [
    {
     "data": {
      "text/html": [
       "<div>\n",
       "<style scoped>\n",
       "    .dataframe tbody tr th:only-of-type {\n",
       "        vertical-align: middle;\n",
       "    }\n",
       "\n",
       "    .dataframe tbody tr th {\n",
       "        vertical-align: top;\n",
       "    }\n",
       "\n",
       "    .dataframe thead th {\n",
       "        text-align: right;\n",
       "    }\n",
       "</style>\n",
       "<table border=\"1\" class=\"dataframe\">\n",
       "  <thead>\n",
       "    <tr style=\"text-align: right;\">\n",
       "      <th></th>\n",
       "      <th>survived</th>\n",
       "      <th>pclass</th>\n",
       "      <th>sex</th>\n",
       "      <th>age</th>\n",
       "      <th>sibsp</th>\n",
       "      <th>parch</th>\n",
       "      <th>fare</th>\n",
       "      <th>embarked</th>\n",
       "      <th>class</th>\n",
       "      <th>who</th>\n",
       "      <th>adult_male</th>\n",
       "      <th>deck</th>\n",
       "      <th>embark_town</th>\n",
       "      <th>alive</th>\n",
       "      <th>alone</th>\n",
       "    </tr>\n",
       "  </thead>\n",
       "  <tbody>\n",
       "    <tr>\n",
       "      <th>1</th>\n",
       "      <td>1</td>\n",
       "      <td>1</td>\n",
       "      <td>female</td>\n",
       "      <td>38.0</td>\n",
       "      <td>1</td>\n",
       "      <td>0</td>\n",
       "      <td>71.2833</td>\n",
       "      <td>C</td>\n",
       "      <td>First</td>\n",
       "      <td>woman</td>\n",
       "      <td>False</td>\n",
       "      <td>C</td>\n",
       "      <td>Cherbourg</td>\n",
       "      <td>yes</td>\n",
       "      <td>False</td>\n",
       "    </tr>\n",
       "    <tr>\n",
       "      <th>3</th>\n",
       "      <td>1</td>\n",
       "      <td>1</td>\n",
       "      <td>female</td>\n",
       "      <td>35.0</td>\n",
       "      <td>1</td>\n",
       "      <td>0</td>\n",
       "      <td>53.1000</td>\n",
       "      <td>S</td>\n",
       "      <td>First</td>\n",
       "      <td>woman</td>\n",
       "      <td>False</td>\n",
       "      <td>C</td>\n",
       "      <td>Southampton</td>\n",
       "      <td>yes</td>\n",
       "      <td>False</td>\n",
       "    </tr>\n",
       "    <tr>\n",
       "      <th>11</th>\n",
       "      <td>1</td>\n",
       "      <td>1</td>\n",
       "      <td>female</td>\n",
       "      <td>58.0</td>\n",
       "      <td>0</td>\n",
       "      <td>0</td>\n",
       "      <td>26.5500</td>\n",
       "      <td>S</td>\n",
       "      <td>First</td>\n",
       "      <td>woman</td>\n",
       "      <td>False</td>\n",
       "      <td>C</td>\n",
       "      <td>Southampton</td>\n",
       "      <td>yes</td>\n",
       "      <td>True</td>\n",
       "    </tr>\n",
       "    <tr>\n",
       "      <th>31</th>\n",
       "      <td>1</td>\n",
       "      <td>1</td>\n",
       "      <td>female</td>\n",
       "      <td>NaN</td>\n",
       "      <td>1</td>\n",
       "      <td>0</td>\n",
       "      <td>146.5208</td>\n",
       "      <td>C</td>\n",
       "      <td>First</td>\n",
       "      <td>woman</td>\n",
       "      <td>False</td>\n",
       "      <td>B</td>\n",
       "      <td>Cherbourg</td>\n",
       "      <td>yes</td>\n",
       "      <td>False</td>\n",
       "    </tr>\n",
       "    <tr>\n",
       "      <th>52</th>\n",
       "      <td>1</td>\n",
       "      <td>1</td>\n",
       "      <td>female</td>\n",
       "      <td>49.0</td>\n",
       "      <td>1</td>\n",
       "      <td>0</td>\n",
       "      <td>76.7292</td>\n",
       "      <td>C</td>\n",
       "      <td>First</td>\n",
       "      <td>woman</td>\n",
       "      <td>False</td>\n",
       "      <td>D</td>\n",
       "      <td>Cherbourg</td>\n",
       "      <td>yes</td>\n",
       "      <td>False</td>\n",
       "    </tr>\n",
       "    <tr>\n",
       "      <th>...</th>\n",
       "      <td>...</td>\n",
       "      <td>...</td>\n",
       "      <td>...</td>\n",
       "      <td>...</td>\n",
       "      <td>...</td>\n",
       "      <td>...</td>\n",
       "      <td>...</td>\n",
       "      <td>...</td>\n",
       "      <td>...</td>\n",
       "      <td>...</td>\n",
       "      <td>...</td>\n",
       "      <td>...</td>\n",
       "      <td>...</td>\n",
       "      <td>...</td>\n",
       "      <td>...</td>\n",
       "    </tr>\n",
       "    <tr>\n",
       "      <th>856</th>\n",
       "      <td>1</td>\n",
       "      <td>1</td>\n",
       "      <td>female</td>\n",
       "      <td>45.0</td>\n",
       "      <td>1</td>\n",
       "      <td>1</td>\n",
       "      <td>164.8667</td>\n",
       "      <td>S</td>\n",
       "      <td>First</td>\n",
       "      <td>woman</td>\n",
       "      <td>False</td>\n",
       "      <td>NaN</td>\n",
       "      <td>Southampton</td>\n",
       "      <td>yes</td>\n",
       "      <td>False</td>\n",
       "    </tr>\n",
       "    <tr>\n",
       "      <th>862</th>\n",
       "      <td>1</td>\n",
       "      <td>1</td>\n",
       "      <td>female</td>\n",
       "      <td>48.0</td>\n",
       "      <td>0</td>\n",
       "      <td>0</td>\n",
       "      <td>25.9292</td>\n",
       "      <td>S</td>\n",
       "      <td>First</td>\n",
       "      <td>woman</td>\n",
       "      <td>False</td>\n",
       "      <td>D</td>\n",
       "      <td>Southampton</td>\n",
       "      <td>yes</td>\n",
       "      <td>True</td>\n",
       "    </tr>\n",
       "    <tr>\n",
       "      <th>871</th>\n",
       "      <td>1</td>\n",
       "      <td>1</td>\n",
       "      <td>female</td>\n",
       "      <td>47.0</td>\n",
       "      <td>1</td>\n",
       "      <td>1</td>\n",
       "      <td>52.5542</td>\n",
       "      <td>S</td>\n",
       "      <td>First</td>\n",
       "      <td>woman</td>\n",
       "      <td>False</td>\n",
       "      <td>D</td>\n",
       "      <td>Southampton</td>\n",
       "      <td>yes</td>\n",
       "      <td>False</td>\n",
       "    </tr>\n",
       "    <tr>\n",
       "      <th>879</th>\n",
       "      <td>1</td>\n",
       "      <td>1</td>\n",
       "      <td>female</td>\n",
       "      <td>56.0</td>\n",
       "      <td>0</td>\n",
       "      <td>1</td>\n",
       "      <td>83.1583</td>\n",
       "      <td>C</td>\n",
       "      <td>First</td>\n",
       "      <td>woman</td>\n",
       "      <td>False</td>\n",
       "      <td>C</td>\n",
       "      <td>Cherbourg</td>\n",
       "      <td>yes</td>\n",
       "      <td>False</td>\n",
       "    </tr>\n",
       "    <tr>\n",
       "      <th>887</th>\n",
       "      <td>1</td>\n",
       "      <td>1</td>\n",
       "      <td>female</td>\n",
       "      <td>19.0</td>\n",
       "      <td>0</td>\n",
       "      <td>0</td>\n",
       "      <td>30.0000</td>\n",
       "      <td>S</td>\n",
       "      <td>First</td>\n",
       "      <td>woman</td>\n",
       "      <td>False</td>\n",
       "      <td>B</td>\n",
       "      <td>Southampton</td>\n",
       "      <td>yes</td>\n",
       "      <td>True</td>\n",
       "    </tr>\n",
       "  </tbody>\n",
       "</table>\n",
       "<p>91 rows × 15 columns</p>\n",
       "</div>"
      ],
      "text/plain": [
       "     survived  pclass     sex   age  sibsp  parch      fare embarked  class  \\\n",
       "1           1       1  female  38.0      1      0   71.2833        C  First   \n",
       "3           1       1  female  35.0      1      0   53.1000        S  First   \n",
       "11          1       1  female  58.0      0      0   26.5500        S  First   \n",
       "31          1       1  female   NaN      1      0  146.5208        C  First   \n",
       "52          1       1  female  49.0      1      0   76.7292        C  First   \n",
       "..        ...     ...     ...   ...    ...    ...       ...      ...    ...   \n",
       "856         1       1  female  45.0      1      1  164.8667        S  First   \n",
       "862         1       1  female  48.0      0      0   25.9292        S  First   \n",
       "871         1       1  female  47.0      1      1   52.5542        S  First   \n",
       "879         1       1  female  56.0      0      1   83.1583        C  First   \n",
       "887         1       1  female  19.0      0      0   30.0000        S  First   \n",
       "\n",
       "       who  adult_male deck  embark_town alive  alone  \n",
       "1    woman       False    C    Cherbourg   yes  False  \n",
       "3    woman       False    C  Southampton   yes  False  \n",
       "11   woman       False    C  Southampton   yes   True  \n",
       "31   woman       False    B    Cherbourg   yes  False  \n",
       "52   woman       False    D    Cherbourg   yes  False  \n",
       "..     ...         ...  ...          ...   ...    ...  \n",
       "856  woman       False  NaN  Southampton   yes  False  \n",
       "862  woman       False    D  Southampton   yes   True  \n",
       "871  woman       False    D  Southampton   yes  False  \n",
       "879  woman       False    C    Cherbourg   yes  False  \n",
       "887  woman       False    B  Southampton   yes   True  \n",
       "\n",
       "[91 rows x 15 columns]"
      ]
     },
     "execution_count": 4,
     "metadata": {},
     "output_type": "execute_result"
    }
   ],
   "source": [
    "filter1 = (titanic['who'] == 'woman') \n",
    "filter2 = (titanic['class'] == 'First')\n",
    "# filter3 = (titanic['fare'] == 80)\n",
    "ser = titanic[filter1 & filter2]\n",
    "ser"
   ]
  },
  {
   "cell_type": "code",
   "execution_count": 14,
   "metadata": {
    "colab": {
     "base_uri": "https://localhost:8080/"
    },
    "executionInfo": {
     "elapsed": 638,
     "status": "ok",
     "timestamp": 1627564328966,
     "user": {
      "displayName": "Samuel Doan",
      "photoUrl": "https://lh3.googleusercontent.com/a-/AOh14GjbcdQ40FcyCSIyitBN2ptY3zHWA_09harKPYF2=s64",
      "userId": "04384888964432338542"
     },
     "user_tz": -420
    },
    "id": "Addd-x3DZILo",
    "outputId": "f6b19c81-0021-4c10-a252-198f6cba02e6"
   },
   "outputs": [
    {
     "data": {
      "text/plain": [
       "Southampton    45\n",
       "Cherbourg      43\n",
       "Queenstown      1\n",
       "Name: embark_town, dtype: int64"
      ]
     },
     "execution_count": 14,
     "metadata": {
      "tags": []
     },
     "output_type": "execute_result"
    }
   ],
   "source": [
    "ser['embark_town'].value_counts() # mặc định sẽ thể hiện giá trị lớn nhất trên cùng .index[0]"
   ]
  },
  {
   "cell_type": "code",
   "execution_count": 16,
   "metadata": {
    "colab": {
     "base_uri": "https://localhost:8080/",
     "height": 35
    },
    "executionInfo": {
     "elapsed": 545,
     "status": "ok",
     "timestamp": 1627564484403,
     "user": {
      "displayName": "Samuel Doan",
      "photoUrl": "https://lh3.googleusercontent.com/a-/AOh14GjbcdQ40FcyCSIyitBN2ptY3zHWA_09harKPYF2=s64",
      "userId": "04384888964432338542"
     },
     "user_tz": -420
    },
    "id": "VOU8TtSZZVn0",
    "outputId": "fd4494d6-f46b-499e-be1e-c6dff34bca97"
   },
   "outputs": [
    {
     "data": {
      "application/vnd.google.colaboratory.intrinsic+json": {
       "type": "string"
      },
      "text/plain": [
       "'Southampton'"
      ]
     },
     "execution_count": 16,
     "metadata": {
      "tags": []
     },
     "output_type": "execute_result"
    }
   ],
   "source": [
    "ser['embark_town'].value_counts().idxmax()"
   ]
  },
  {
   "cell_type": "code",
   "execution_count": 5,
   "metadata": {
    "executionInfo": {
     "elapsed": 589,
     "status": "ok",
     "timestamp": 1627564566018,
     "user": {
      "displayName": "Samuel Doan",
      "photoUrl": "https://lh3.googleusercontent.com/a-/AOh14GjbcdQ40FcyCSIyitBN2ptY3zHWA_09harKPYF2=s64",
      "userId": "04384888964432338542"
     },
     "user_tz": -420
    },
    "id": "1zLlSARPZ1E-"
   },
   "outputs": [],
   "source": [
    "titanic['embark_town'] = titanic['embark_town'].fillna(ser['embark_town'].value_counts().idxmax())"
   ]
  },
  {
   "cell_type": "code",
   "execution_count": 20,
   "metadata": {
    "colab": {
     "base_uri": "https://localhost:8080/"
    },
    "executionInfo": {
     "elapsed": 553,
     "status": "ok",
     "timestamp": 1627564571964,
     "user": {
      "displayName": "Samuel Doan",
      "photoUrl": "https://lh3.googleusercontent.com/a-/AOh14GjbcdQ40FcyCSIyitBN2ptY3zHWA_09harKPYF2=s64",
      "userId": "04384888964432338542"
     },
     "user_tz": -420
    },
    "id": "No7J-CXcZ8FC",
    "outputId": "ca2dfbc2-e444-4684-9485-393671c30d16"
   },
   "outputs": [
    {
     "data": {
      "text/plain": [
       "Southampton    646\n",
       "Cherbourg      168\n",
       "Queenstown      77\n",
       "Name: embark_town, dtype: int64"
      ]
     },
     "execution_count": 20,
     "metadata": {
      "tags": []
     },
     "output_type": "execute_result"
    }
   ],
   "source": [
    "titanic['embark_town'].value_counts(dropna=False)"
   ]
  },
  {
   "cell_type": "code",
   "execution_count": null,
   "metadata": {
    "id": "F40HKXhKVXzx"
   },
   "outputs": [],
   "source": [
    "titanic['embark_town'] = titanic['embark_town'].fillna('Unknown')"
   ]
  },
  {
   "cell_type": "code",
   "execution_count": null,
   "metadata": {
    "id": "Q1FagQXuVXz3"
   },
   "outputs": [],
   "source": [
    "titanic['embark_town'].value_counts()"
   ]
  },
  {
   "cell_type": "code",
   "execution_count": null,
   "metadata": {
    "id": "BCUMCTzmVXz6"
   },
   "outputs": [],
   "source": [
    "# Fillna for deck"
   ]
  },
  {
   "cell_type": "code",
   "execution_count": 3,
   "metadata": {
    "colab": {
     "base_uri": "https://localhost:8080/"
    },
    "executionInfo": {
     "elapsed": 639,
     "status": "ok",
     "timestamp": 1627564670675,
     "user": {
      "displayName": "Samuel Doan",
      "photoUrl": "https://lh3.googleusercontent.com/a-/AOh14GjbcdQ40FcyCSIyitBN2ptY3zHWA_09harKPYF2=s64",
      "userId": "04384888964432338542"
     },
     "user_tz": -420
    },
    "id": "7BalLUk7acl8",
    "outputId": "427a85be-7006-4ff4-c382-01c890fd3b7e"
   },
   "outputs": [
    {
     "data": {
      "text/plain": [
       "NaN    688\n",
       "C       59\n",
       "B       47\n",
       "D       33\n",
       "E       32\n",
       "A       15\n",
       "F       13\n",
       "G        4\n",
       "Name: deck, dtype: int64"
      ]
     },
     "execution_count": 3,
     "metadata": {},
     "output_type": "execute_result"
    }
   ],
   "source": [
    "titanic['deck'].value_counts(dropna=False)"
   ]
  },
  {
   "cell_type": "code",
   "execution_count": 4,
   "metadata": {},
   "outputs": [
    {
     "data": {
      "text/plain": [
       "<AxesSubplot:xlabel='deck', ylabel='count'>"
      ]
     },
     "execution_count": 4,
     "metadata": {},
     "output_type": "execute_result"
    },
    {
     "data": {
      "image/png": "[encoded data removed]",
      "text/plain": [
       "<Figure size 432x288 with 1 Axes>"
      ]
     },
     "metadata": {
      "needs_background": "light"
     },
     "output_type": "display_data"
    }
   ],
   "source": [
    "# Check thử quan hệ deck - pclass\n",
    "sns.countplot(data=titanic, x='deck', hue = 'pclass')"
   ]
  },
  {
   "cell_type": "code",
   "execution_count": null,
   "metadata": {},
   "outputs": [],
   "source": [
    "titanic.pivot_table(\n",
    "    index='deck',\n",
    "    columns='pclass',\n",
    "    values='survived',\n",
    "    aggfuction='sum')"
   ]
  },
  {
   "cell_type": "code",
   "execution_count": 6,
   "metadata": {},
   "outputs": [
    {
     "data": {
      "text/plain": [
       "0      F\n",
       "1      C\n",
       "2      F\n",
       "3      C\n",
       "4      F\n",
       "      ..\n",
       "886    F\n",
       "887    C\n",
       "888    F\n",
       "889    C\n",
       "890    F\n",
       "Name: pclass, Length: 891, dtype: object"
      ]
     },
     "execution_count": 6,
     "metadata": {},
     "output_type": "execute_result"
    }
   ],
   "source": [
    "# Logic fillna: 1class = C, 2class = F, 3class= F:\n",
    "deck_dict={1: \"C\", 2:'F',3:'F'}\n",
    "ser=titanic['pclass'].map(deck_dict) # tạo ra 1 pandas series mới, chưa gán đè lên dữ liệu cũ\n",
    "ser"
   ]
  },
  {
   "cell_type": "code",
   "execution_count": 7,
   "metadata": {},
   "outputs": [
    {
     "data": {
      "text/plain": [
       "0      F\n",
       "1      C\n",
       "2      F\n",
       "3      C\n",
       "4      F\n",
       "      ..\n",
       "886    F\n",
       "887    B\n",
       "888    F\n",
       "889    C\n",
       "890    F\n",
       "Name: deck, Length: 891, dtype: category\n",
       "Categories (7, object): ['A', 'B', 'C', 'D', 'E', 'F', 'G']"
      ]
     },
     "execution_count": 7,
     "metadata": {},
     "output_type": "execute_result"
    }
   ],
   "source": [
    "new_deck=titanic['deck'].combine_first(ser)\n",
    "new_deck\n",
    "# Ưu tiên giữ nguyên DL cũ và điền DL null = DL combine"
   ]
  },
  {
   "cell_type": "code",
   "execution_count": 8,
   "metadata": {},
   "outputs": [
    {
     "data": {
      "text/plain": [
       "0"
      ]
     },
     "execution_count": 8,
     "metadata": {},
     "output_type": "execute_result"
    }
   ],
   "source": [
    "new_deck.isnull().sum()"
   ]
  },
  {
   "cell_type": "code",
   "execution_count": 9,
   "metadata": {},
   "outputs": [],
   "source": [
    "titanic['deck']=new_deck"
   ]
  },
  {
   "cell_type": "code",
   "execution_count": 22,
   "metadata": {
    "colab": {
     "base_uri": "https://localhost:8080/",
     "height": 319
    },
    "executionInfo": {
     "elapsed": 760,
     "status": "error",
     "timestamp": 1627564710797,
     "user": {
      "displayName": "Samuel Doan",
      "photoUrl": "https://lh3.googleusercontent.com/a-/AOh14GjbcdQ40FcyCSIyitBN2ptY3zHWA_09harKPYF2=s64",
      "userId": "04384888964432338542"
     },
     "user_tz": -420
    },
    "id": "1NW5HgQTalSG",
    "outputId": "753fd17d-d3fd-470f-c557-1914a172eada"
   },
   "outputs": [
    {
     "ename": "ValueError",
     "evalue": "ignored",
     "output_type": "error",
     "traceback": [
      "\u001b[0;31m---------------------------------------------------------------------------\u001b[0m",
      "\u001b[0;31mValueError\u001b[0m                                Traceback (most recent call last)",
      "\u001b[0;32m<ipython-input-22-157107663869>\u001b[0m in \u001b[0;36m<module>\u001b[0;34m()\u001b[0m\n\u001b[0;32m----> 1\u001b[0;31m \u001b[0mtitanic\u001b[0m\u001b[0;34m[\u001b[0m\u001b[0;34m'deck'\u001b[0m\u001b[0;34m]\u001b[0m\u001b[0;34m.\u001b[0m\u001b[0mfillna\u001b[0m\u001b[0;34m(\u001b[0m\u001b[0;34m'Unknown'\u001b[0m\u001b[0;34m)\u001b[0m\u001b[0;34m\u001b[0m\u001b[0;34m\u001b[0m\u001b[0m\n\u001b[0m",
      "\u001b[0;32m/usr/local/lib/python3.7/dist-packages/pandas/core/series.py\u001b[0m in \u001b[0;36mfillna\u001b[0;34m(self, value, method, axis, inplace, limit, downcast)\u001b[0m\n\u001b[1;32m   4534\u001b[0m             \u001b[0minplace\u001b[0m\u001b[0;34m=\u001b[0m\u001b[0minplace\u001b[0m\u001b[0;34m,\u001b[0m\u001b[0;34m\u001b[0m\u001b[0;34m\u001b[0m\u001b[0m\n\u001b[1;32m   4535\u001b[0m             \u001b[0mlimit\u001b[0m\u001b[0;34m=\u001b[0m\u001b[0mlimit\u001b[0m\u001b[0;34m,\u001b[0m\u001b[0;34m\u001b[0m\u001b[0;34m\u001b[0m\u001b[0m\n\u001b[0;32m-> 4536\u001b[0;31m             \u001b[0mdowncast\u001b[0m\u001b[0;34m=\u001b[0m\u001b[0mdowncast\u001b[0m\u001b[0;34m,\u001b[0m\u001b[0;34m\u001b[0m\u001b[0;34m\u001b[0m\u001b[0m\n\u001b[0m\u001b[1;32m   4537\u001b[0m         )\n\u001b[1;32m   4538\u001b[0m \u001b[0;34m\u001b[0m\u001b[0m\n",
      "\u001b[0;32m/usr/local/lib/python3.7/dist-packages/pandas/core/generic.py\u001b[0m in \u001b[0;36mfillna\u001b[0;34m(self, value, method, axis, inplace, limit, downcast)\u001b[0m\n\u001b[1;32m   6060\u001b[0m \u001b[0;34m\u001b[0m\u001b[0m\n\u001b[1;32m   6061\u001b[0m                 new_data = self._mgr.fillna(\n\u001b[0;32m-> 6062\u001b[0;31m                     \u001b[0mvalue\u001b[0m\u001b[0;34m=\u001b[0m\u001b[0mvalue\u001b[0m\u001b[0;34m,\u001b[0m \u001b[0mlimit\u001b[0m\u001b[0;34m=\u001b[0m\u001b[0mlimit\u001b[0m\u001b[0;34m,\u001b[0m \u001b[0minplace\u001b[0m\u001b[0;34m=\u001b[0m\u001b[0minplace\u001b[0m\u001b[0;34m,\u001b[0m \u001b[0mdowncast\u001b[0m\u001b[0;34m=\u001b[0m\u001b[0mdowncast\u001b[0m\u001b[0;34m\u001b[0m\u001b[0;34m\u001b[0m\u001b[0m\n\u001b[0m\u001b[1;32m   6063\u001b[0m                 )\n\u001b[1;32m   6064\u001b[0m \u001b[0;34m\u001b[0m\u001b[0m\n",
      "\u001b[0;32m/usr/local/lib/python3.7/dist-packages/pandas/core/internals/managers.py\u001b[0m in \u001b[0;36mfillna\u001b[0;34m(self, value, limit, inplace, downcast)\u001b[0m\n\u001b[1;32m    593\u001b[0m     \u001b[0;32mdef\u001b[0m \u001b[0mfillna\u001b[0m\u001b[0;34m(\u001b[0m\u001b[0mself\u001b[0m\u001b[0;34m,\u001b[0m \u001b[0mvalue\u001b[0m\u001b[0;34m,\u001b[0m \u001b[0mlimit\u001b[0m\u001b[0;34m,\u001b[0m \u001b[0minplace\u001b[0m\u001b[0;34m:\u001b[0m \u001b[0mbool\u001b[0m\u001b[0;34m,\u001b[0m \u001b[0mdowncast\u001b[0m\u001b[0;34m)\u001b[0m \u001b[0;34m->\u001b[0m \u001b[0;34m\"BlockManager\"\u001b[0m\u001b[0;34m:\u001b[0m\u001b[0;34m\u001b[0m\u001b[0;34m\u001b[0m\u001b[0m\n\u001b[1;32m    594\u001b[0m         return self.apply(\n\u001b[0;32m--> 595\u001b[0;31m             \u001b[0;34m\"fillna\"\u001b[0m\u001b[0;34m,\u001b[0m \u001b[0mvalue\u001b[0m\u001b[0;34m=\u001b[0m\u001b[0mvalue\u001b[0m\u001b[0;34m,\u001b[0m \u001b[0mlimit\u001b[0m\u001b[0;34m=\u001b[0m\u001b[0mlimit\u001b[0m\u001b[0;34m,\u001b[0m \u001b[0minplace\u001b[0m\u001b[0;34m=\u001b[0m\u001b[0minplace\u001b[0m\u001b[0;34m,\u001b[0m \u001b[0mdowncast\u001b[0m\u001b[0;34m=\u001b[0m\u001b[0mdowncast\u001b[0m\u001b[0;34m\u001b[0m\u001b[0;34m\u001b[0m\u001b[0m\n\u001b[0m\u001b[1;32m    596\u001b[0m         )\n\u001b[1;32m    597\u001b[0m \u001b[0;34m\u001b[0m\u001b[0m\n",
      "\u001b[0;32m/usr/local/lib/python3.7/dist-packages/pandas/core/internals/managers.py\u001b[0m in \u001b[0;36mapply\u001b[0;34m(self, f, align_keys, **kwargs)\u001b[0m\n\u001b[1;32m    407\u001b[0m                 \u001b[0mapplied\u001b[0m \u001b[0;34m=\u001b[0m \u001b[0mb\u001b[0m\u001b[0;34m.\u001b[0m\u001b[0mapply\u001b[0m\u001b[0;34m(\u001b[0m\u001b[0mf\u001b[0m\u001b[0;34m,\u001b[0m \u001b[0;34m**\u001b[0m\u001b[0mkwargs\u001b[0m\u001b[0;34m)\u001b[0m\u001b[0;34m\u001b[0m\u001b[0;34m\u001b[0m\u001b[0m\n\u001b[1;32m    408\u001b[0m             \u001b[0;32melse\u001b[0m\u001b[0;34m:\u001b[0m\u001b[0;34m\u001b[0m\u001b[0;34m\u001b[0m\u001b[0m\n\u001b[0;32m--> 409\u001b[0;31m                 \u001b[0mapplied\u001b[0m \u001b[0;34m=\u001b[0m \u001b[0mgetattr\u001b[0m\u001b[0;34m(\u001b[0m\u001b[0mb\u001b[0m\u001b[0;34m,\u001b[0m \u001b[0mf\u001b[0m\u001b[0;34m)\u001b[0m\u001b[0;34m(\u001b[0m\u001b[0;34m**\u001b[0m\u001b[0mkwargs\u001b[0m\u001b[0;34m)\u001b[0m\u001b[0;34m\u001b[0m\u001b[0;34m\u001b[0m\u001b[0m\n\u001b[0m\u001b[1;32m    410\u001b[0m             \u001b[0mresult_blocks\u001b[0m \u001b[0;34m=\u001b[0m \u001b[0m_extend_blocks\u001b[0m\u001b[0;34m(\u001b[0m\u001b[0mapplied\u001b[0m\u001b[0;34m,\u001b[0m \u001b[0mresult_blocks\u001b[0m\u001b[0;34m)\u001b[0m\u001b[0;34m\u001b[0m\u001b[0;34m\u001b[0m\u001b[0m\n\u001b[1;32m    411\u001b[0m \u001b[0;34m\u001b[0m\u001b[0m\n",
      "\u001b[0;32m/usr/local/lib/python3.7/dist-packages/pandas/core/internals/blocks.py\u001b[0m in \u001b[0;36mfillna\u001b[0;34m(self, value, limit, inplace, downcast)\u001b[0m\n\u001b[1;32m   1777\u001b[0m     \u001b[0;32mdef\u001b[0m \u001b[0mfillna\u001b[0m\u001b[0;34m(\u001b[0m\u001b[0mself\u001b[0m\u001b[0;34m,\u001b[0m \u001b[0mvalue\u001b[0m\u001b[0;34m,\u001b[0m \u001b[0mlimit\u001b[0m\u001b[0;34m=\u001b[0m\u001b[0;32mNone\u001b[0m\u001b[0;34m,\u001b[0m \u001b[0minplace\u001b[0m\u001b[0;34m=\u001b[0m\u001b[0;32mFalse\u001b[0m\u001b[0;34m,\u001b[0m \u001b[0mdowncast\u001b[0m\u001b[0;34m=\u001b[0m\u001b[0;32mNone\u001b[0m\u001b[0;34m)\u001b[0m\u001b[0;34m:\u001b[0m\u001b[0;34m\u001b[0m\u001b[0;34m\u001b[0m\u001b[0m\n\u001b[1;32m   1778\u001b[0m         \u001b[0mvalues\u001b[0m \u001b[0;34m=\u001b[0m \u001b[0mself\u001b[0m\u001b[0;34m.\u001b[0m\u001b[0mvalues\u001b[0m \u001b[0;32mif\u001b[0m \u001b[0minplace\u001b[0m \u001b[0;32melse\u001b[0m \u001b[0mself\u001b[0m\u001b[0;34m.\u001b[0m\u001b[0mvalues\u001b[0m\u001b[0;34m.\u001b[0m\u001b[0mcopy\u001b[0m\u001b[0;34m(\u001b[0m\u001b[0;34m)\u001b[0m\u001b[0;34m\u001b[0m\u001b[0;34m\u001b[0m\u001b[0m\n\u001b[0;32m-> 1779\u001b[0;31m         \u001b[0mvalues\u001b[0m \u001b[0;34m=\u001b[0m \u001b[0mvalues\u001b[0m\u001b[0;34m.\u001b[0m\u001b[0mfillna\u001b[0m\u001b[0;34m(\u001b[0m\u001b[0mvalue\u001b[0m\u001b[0;34m=\u001b[0m\u001b[0mvalue\u001b[0m\u001b[0;34m,\u001b[0m \u001b[0mlimit\u001b[0m\u001b[0;34m=\u001b[0m\u001b[0mlimit\u001b[0m\u001b[0;34m)\u001b[0m\u001b[0;34m\u001b[0m\u001b[0;34m\u001b[0m\u001b[0m\n\u001b[0m\u001b[1;32m   1780\u001b[0m         return [\n\u001b[1;32m   1781\u001b[0m             self.make_block_same_class(\n",
      "\u001b[0;32m/usr/local/lib/python3.7/dist-packages/pandas/core/arrays/categorical.py\u001b[0m in \u001b[0;36mfillna\u001b[0;34m(self, value, method, limit)\u001b[0m\n\u001b[1;32m   1719\u001b[0m             \u001b[0;32melif\u001b[0m \u001b[0mis_hashable\u001b[0m\u001b[0;34m(\u001b[0m\u001b[0mvalue\u001b[0m\u001b[0;34m)\u001b[0m\u001b[0;34m:\u001b[0m\u001b[0;34m\u001b[0m\u001b[0;34m\u001b[0m\u001b[0m\n\u001b[1;32m   1720\u001b[0m                 \u001b[0;32mif\u001b[0m \u001b[0;32mnot\u001b[0m \u001b[0misna\u001b[0m\u001b[0;34m(\u001b[0m\u001b[0mvalue\u001b[0m\u001b[0;34m)\u001b[0m \u001b[0;32mand\u001b[0m \u001b[0mvalue\u001b[0m \u001b[0;32mnot\u001b[0m \u001b[0;32min\u001b[0m \u001b[0mself\u001b[0m\u001b[0;34m.\u001b[0m\u001b[0mcategories\u001b[0m\u001b[0;34m:\u001b[0m\u001b[0;34m\u001b[0m\u001b[0;34m\u001b[0m\u001b[0m\n\u001b[0;32m-> 1721\u001b[0;31m                     \u001b[0;32mraise\u001b[0m \u001b[0mValueError\u001b[0m\u001b[0;34m(\u001b[0m\u001b[0;34m\"fill value must be in categories\"\u001b[0m\u001b[0;34m)\u001b[0m\u001b[0;34m\u001b[0m\u001b[0;34m\u001b[0m\u001b[0m\n\u001b[0m\u001b[1;32m   1722\u001b[0m \u001b[0;34m\u001b[0m\u001b[0m\n\u001b[1;32m   1723\u001b[0m                 \u001b[0mmask\u001b[0m \u001b[0;34m=\u001b[0m \u001b[0mcodes\u001b[0m \u001b[0;34m==\u001b[0m \u001b[0;34m-\u001b[0m\u001b[0;36m1\u001b[0m\u001b[0;34m\u001b[0m\u001b[0;34m\u001b[0m\u001b[0m\n",
      "\u001b[0;31mValueError\u001b[0m: fill value must be in categories"
     ]
    }
   ],
   "source": [
    "titanic['deck'].fillna('Unknown')"
   ]
  },
  {
   "cell_type": "code",
   "execution_count": null,
   "metadata": {},
   "outputs": [],
   "source": [
    "# Muốn điền unkownn vào null của deck: vì dạng của deck là category, ko phải object(string), nó chỉ cho phép lấy trong các loại đã có sẵn nên phải bổ sung thêm unknown vào category."
   ]
  },
  {
   "cell_type": "code",
   "execution_count": 25,
   "metadata": {
    "colab": {
     "base_uri": "https://localhost:8080/"
    },
    "executionInfo": {
     "elapsed": 528,
     "status": "ok",
     "timestamp": 1627564976479,
     "user": {
      "displayName": "Samuel Doan",
      "photoUrl": "https://lh3.googleusercontent.com/a-/AOh14GjbcdQ40FcyCSIyitBN2ptY3zHWA_09harKPYF2=s64",
      "userId": "04384888964432338542"
     },
     "user_tz": -420
    },
    "id": "4aWZo1EZaxBo",
    "outputId": "bcf1108c-e5d9-4e41-84ac-f1d8756ef3dd"
   },
   "outputs": [
    {
     "data": {
      "text/plain": [
       "0      NaN\n",
       "1        C\n",
       "2      NaN\n",
       "3        C\n",
       "4      NaN\n",
       "      ... \n",
       "886    NaN\n",
       "887      B\n",
       "888    NaN\n",
       "889      C\n",
       "890    NaN\n",
       "Name: deck, Length: 891, dtype: category\n",
       "Categories (8, object): ['A', 'B', 'C', 'D', 'E', 'F', 'G', 'Unknown']"
      ]
     },
     "execution_count": 25,
     "metadata": {
      "tags": []
     },
     "output_type": "execute_result"
    }
   ],
   "source": [
    "titanic['deck'] = titanic['deck'].cat.add_categories('Unknown')\n",
    "titanic['deck']"
   ]
  },
  {
   "cell_type": "code",
   "execution_count": 26,
   "metadata": {
    "colab": {
     "base_uri": "https://localhost:8080/"
    },
    "executionInfo": {
     "elapsed": 902,
     "status": "ok",
     "timestamp": 1627564993319,
     "user": {
      "displayName": "Samuel Doan",
      "photoUrl": "https://lh3.googleusercontent.com/a-/AOh14GjbcdQ40FcyCSIyitBN2ptY3zHWA_09harKPYF2=s64",
      "userId": "04384888964432338542"
     },
     "user_tz": -420
    },
    "id": "MFMIuloLbrSO",
    "outputId": "0f9056c2-c52b-4cae-8b5b-5910f0c4b5f8"
   },
   "outputs": [
    {
     "data": {
      "text/plain": [
       "0      Unknown\n",
       "1            C\n",
       "2      Unknown\n",
       "3            C\n",
       "4      Unknown\n",
       "        ...   \n",
       "886    Unknown\n",
       "887          B\n",
       "888    Unknown\n",
       "889          C\n",
       "890    Unknown\n",
       "Name: deck, Length: 891, dtype: category\n",
       "Categories (8, object): ['A', 'B', 'C', 'D', 'E', 'F', 'G', 'Unknown']"
      ]
     },
     "execution_count": 26,
     "metadata": {
      "tags": []
     },
     "output_type": "execute_result"
    }
   ],
   "source": [
    "titanic['deck'].fillna('Unknown')"
   ]
  },
  {
   "cell_type": "code",
   "execution_count": 27,
   "metadata": {
    "executionInfo": {
     "elapsed": 531,
     "status": "ok",
     "timestamp": 1627565038276,
     "user": {
      "displayName": "Samuel Doan",
      "photoUrl": "https://lh3.googleusercontent.com/a-/AOh14GjbcdQ40FcyCSIyitBN2ptY3zHWA_09harKPYF2=s64",
      "userId": "04384888964432338542"
     },
     "user_tz": -420
    },
    "id": "6oEFbjFjbz6c"
   },
   "outputs": [],
   "source": [
    "titanic['deck'] = titanic['deck'].fillna('Unknown')"
   ]
  },
  {
   "cell_type": "code",
   "execution_count": 28,
   "metadata": {
    "colab": {
     "base_uri": "https://localhost:8080/"
    },
    "executionInfo": {
     "elapsed": 601,
     "status": "ok",
     "timestamp": 1627565062542,
     "user": {
      "displayName": "Samuel Doan",
      "photoUrl": "https://lh3.googleusercontent.com/a-/AOh14GjbcdQ40FcyCSIyitBN2ptY3zHWA_09harKPYF2=s64",
      "userId": "04384888964432338542"
     },
     "user_tz": -420
    },
    "id": "Go6ePyufb7eC",
    "outputId": "c900355a-b8c4-4ac2-c46b-25107c4edc58"
   },
   "outputs": [
    {
     "data": {
      "text/plain": [
       "0"
      ]
     },
     "execution_count": 28,
     "metadata": {
      "tags": []
     },
     "output_type": "execute_result"
    }
   ],
   "source": [
    "titanic['deck'].isnull().sum()"
   ]
  },
  {
   "cell_type": "code",
   "execution_count": null,
   "metadata": {
    "id": "7cgrf2rWVX04"
   },
   "outputs": [],
   "source": [
    "# Special case: fillna for age:"
   ]
  },
  {
   "cell_type": "code",
   "execution_count": 29,
   "metadata": {
    "colab": {
     "base_uri": "https://localhost:8080/"
    },
    "executionInfo": {
     "elapsed": 529,
     "status": "ok",
     "timestamp": 1627565115045,
     "user": {
      "displayName": "Samuel Doan",
      "photoUrl": "https://lh3.googleusercontent.com/a-/AOh14GjbcdQ40FcyCSIyitBN2ptY3zHWA_09harKPYF2=s64",
      "userId": "04384888964432338542"
     },
     "user_tz": -420
    },
    "id": "CRtXraLmVX05",
    "outputId": "99bb03d8-dc25-4e5d-8623-901b9bc3fb0f"
   },
   "outputs": [
    {
     "data": {
      "text/plain": [
       "0      22.0\n",
       "1      38.0\n",
       "2      26.0\n",
       "3      35.0\n",
       "4      35.0\n",
       "       ... \n",
       "886    27.0\n",
       "887    19.0\n",
       "888     NaN\n",
       "889    26.0\n",
       "890    32.0\n",
       "Name: age, Length: 891, dtype: float64"
      ]
     },
     "execution_count": 29,
     "metadata": {
      "tags": []
     },
     "output_type": "execute_result"
    }
   ],
   "source": [
    "titanic['age']"
   ]
  },
  {
   "cell_type": "code",
   "execution_count": 31,
   "metadata": {
    "colab": {
     "base_uri": "https://localhost:8080/"
    },
    "executionInfo": {
     "elapsed": 633,
     "status": "ok",
     "timestamp": 1627565148899,
     "user": {
      "displayName": "Samuel Doan",
      "photoUrl": "https://lh3.googleusercontent.com/a-/AOh14GjbcdQ40FcyCSIyitBN2ptY3zHWA_09harKPYF2=s64",
      "userId": "04384888964432338542"
     },
     "user_tz": -420
    },
    "id": "Rsnt-o9pcNUD",
    "outputId": "0e538b21-b3ec-454c-8da6-400473bfefce"
   },
   "outputs": [
    {
     "data": {
      "text/plain": [
       "0.19865319865319866"
      ]
     },
     "execution_count": 31,
     "metadata": {
      "tags": []
     },
     "output_type": "execute_result"
    }
   ],
   "source": [
    "titanic['age'].isnull().sum() / len(titanic['age'])"
   ]
  },
  {
   "cell_type": "code",
   "execution_count": 33,
   "metadata": {
    "colab": {
     "base_uri": "https://localhost:8080/",
     "height": 297
    },
    "executionInfo": {
     "elapsed": 859,
     "status": "ok",
     "timestamp": 1627565273546,
     "user": {
      "displayName": "Samuel Doan",
      "photoUrl": "https://lh3.googleusercontent.com/a-/AOh14GjbcdQ40FcyCSIyitBN2ptY3zHWA_09harKPYF2=s64",
      "userId": "04384888964432338542"
     },
     "user_tz": -420
    },
    "id": "EfaPLstcVX06",
    "outputId": "45bac479-7138-4251-f26a-4544c46a66e1"
   },
   "outputs": [
    {
     "data": {
      "text/plain": [
       "<matplotlib.axes._subplots.AxesSubplot at 0x7f94fd837cd0>"
      ]
     },
     "execution_count": 33,
     "metadata": {
      "tags": []
     },
     "output_type": "execute_result"
    },
    {
     "data": {
      "image/png": "[encoded data removed]",
      "text/plain": [
       "<Figure size 432x288 with 1 Axes>"
      ]
     },
     "metadata": {
      "needs_background": "light",
      "tags": []
     },
     "output_type": "display_data"
    }
   ],
   "source": [
    "sns.histplot(titanic, x='age', hue='survived', kde=True)\n",
    "#kde = True: để vẽ đường cong thể hiện phân phối"
   ]
  },
  {
   "cell_type": "code",
   "execution_count": 11,
   "metadata": {
    "colab": {
     "base_uri": "https://localhost:8080/",
     "height": 297
    },
    "executionInfo": {
     "elapsed": 1042,
     "status": "ok",
     "timestamp": 1627565427521,
     "user": {
      "displayName": "Samuel Doan",
      "photoUrl": "https://lh3.googleusercontent.com/a-/AOh14GjbcdQ40FcyCSIyitBN2ptY3zHWA_09harKPYF2=s64",
      "userId": "04384888964432338542"
     },
     "user_tz": -420
    },
    "id": "TST1KSKBdN_p",
    "outputId": "4852deb3-583c-46eb-f507-d25eecb26b79"
   },
   "outputs": [
    {
     "data": {
      "image/png": "[encoded data removed]",
      "text/plain": [
       "<Figure size 432x288 with 1 Axes>"
      ]
     },
     "metadata": {
      "needs_background": "light"
     },
     "output_type": "display_data"
    }
   ],
   "source": [
    "sns.scatterplot(data=titanic, x='age', y='fare', hue = 'survived')\n",
    "plt.show()"
   ]
  },
  {
   "cell_type": "code",
   "execution_count": 36,
   "metadata": {
    "colab": {
     "base_uri": "https://localhost:8080/"
    },
    "executionInfo": {
     "elapsed": 761,
     "status": "ok",
     "timestamp": 1627565756516,
     "user": {
      "displayName": "Samuel Doan",
      "photoUrl": "https://lh3.googleusercontent.com/a-/AOh14GjbcdQ40FcyCSIyitBN2ptY3zHWA_09harKPYF2=s64",
      "userId": "04384888964432338542"
     },
     "user_tz": -420
    },
    "id": "ATi3PlpqekhZ",
    "outputId": "c2cd3a3a-67e3-4e40-fc16-2c7f02ca3937"
   },
   "outputs": [
    {
     "data": {
      "text/plain": [
       "man      537\n",
       "woman    271\n",
       "child     83\n",
       "Name: who, dtype: int64"
      ]
     },
     "execution_count": 36,
     "metadata": {
      "tags": []
     },
     "output_type": "execute_result"
    }
   ],
   "source": [
    "titanic['who'].value_counts()"
   ]
  },
  {
   "cell_type": "code",
   "execution_count": 37,
   "metadata": {
    "colab": {
     "base_uri": "https://localhost:8080/"
    },
    "executionInfo": {
     "elapsed": 677,
     "status": "ok",
     "timestamp": 1627565781129,
     "user": {
      "displayName": "Samuel Doan",
      "photoUrl": "https://lh3.googleusercontent.com/a-/AOh14GjbcdQ40FcyCSIyitBN2ptY3zHWA_09harKPYF2=s64",
      "userId": "04384888964432338542"
     },
     "user_tz": -420
    },
    "id": "oDVUUYxDermf",
    "outputId": "e57ff37c-1495-442b-e99c-ed8718dedbc2"
   },
   "outputs": [
    {
     "data": {
      "text/plain": [
       "0    608\n",
       "1    209\n",
       "2     28\n",
       "4     18\n",
       "3     16\n",
       "8      7\n",
       "5      5\n",
       "Name: sibsp, dtype: int64"
      ]
     },
     "execution_count": 37,
     "metadata": {
      "tags": []
     },
     "output_type": "execute_result"
    }
   ],
   "source": [
    "titanic['sibsp'].value_counts()"
   ]
  },
  {
   "cell_type": "code",
   "execution_count": 39,
   "metadata": {
    "colab": {
     "base_uri": "https://localhost:8080/"
    },
    "executionInfo": {
     "elapsed": 632,
     "status": "ok",
     "timestamp": 1627565826066,
     "user": {
      "displayName": "Samuel Doan",
      "photoUrl": "https://lh3.googleusercontent.com/a-/AOh14GjbcdQ40FcyCSIyitBN2ptY3zHWA_09harKPYF2=s64",
      "userId": "04384888964432338542"
     },
     "user_tz": -420
    },
    "id": "5Bg6yPp7ezfq",
    "outputId": "713b988e-2823-4c44-f722-96714ced5628"
   },
   "outputs": [
    {
     "data": {
      "text/plain": [
       "0    678\n",
       "1    118\n",
       "2     80\n",
       "5      5\n",
       "3      5\n",
       "4      4\n",
       "6      1\n",
       "Name: parch, dtype: int64"
      ]
     },
     "execution_count": 39,
     "metadata": {
      "tags": []
     },
     "output_type": "execute_result"
    }
   ],
   "source": [
    "titanic['parch'].value_counts()"
   ]
  },
  {
   "cell_type": "code",
   "execution_count": 41,
   "metadata": {
    "colab": {
     "base_uri": "https://localhost:8080/",
     "height": 297
    },
    "executionInfo": {
     "elapsed": 651,
     "status": "ok",
     "timestamp": 1627565904503,
     "user": {
      "displayName": "Samuel Doan",
      "photoUrl": "https://lh3.googleusercontent.com/a-/AOh14GjbcdQ40FcyCSIyitBN2ptY3zHWA_09harKPYF2=s64",
      "userId": "04384888964432338542"
     },
     "user_tz": -420
    },
    "id": "1E5F7AXte6Mz",
    "outputId": "c6f0e386-4f33-4c67-8aab-63764d9c358a"
   },
   "outputs": [
    {
     "data": {
      "text/plain": [
       "<matplotlib.axes._subplots.AxesSubplot at 0x7f94fd5403d0>"
      ]
     },
     "execution_count": 41,
     "metadata": {
      "tags": []
     },
     "output_type": "execute_result"
    },
    {
     "data": {
      "image/png": "[encoded data removed]",
      "text/plain": [
       "<Figure size 432x288 with 1 Axes>"
      ]
     },
     "metadata": {
      "needs_background": "light",
      "tags": []
     },
     "output_type": "display_data"
    }
   ],
   "source": [
    "sns.scatterplot(data=titanic, x='age', y='parch')"
   ]
  },
  {
   "cell_type": "code",
   "execution_count": 43,
   "metadata": {
    "colab": {
     "base_uri": "https://localhost:8080/",
     "height": 297
    },
    "executionInfo": {
     "elapsed": 716,
     "status": "ok",
     "timestamp": 1627565961490,
     "user": {
      "displayName": "Samuel Doan",
      "photoUrl": "https://lh3.googleusercontent.com/a-/AOh14GjbcdQ40FcyCSIyitBN2ptY3zHWA_09harKPYF2=s64",
      "userId": "04384888964432338542"
     },
     "user_tz": -420
    },
    "id": "OedLR1h7fSt3",
    "outputId": "482cb37f-cea5-4c0b-d81c-e97120786207"
   },
   "outputs": [
    {
     "data": {
      "text/plain": [
       "<matplotlib.axes._subplots.AxesSubplot at 0x7f94fd4653d0>"
      ]
     },
     "execution_count": 43,
     "metadata": {
      "tags": []
     },
     "output_type": "execute_result"
    },
    {
     "data": {
      "image/png": "[encoded data removed]",
      "text/plain": [
       "<Figure size 432x288 with 1 Axes>"
      ]
     },
     "metadata": {
      "needs_background": "light",
      "tags": []
     },
     "output_type": "display_data"
    }
   ],
   "source": [
    "sns.boxplot(data=titanic, x='parch', y='age')"
   ]
  },
  {
   "cell_type": "code",
   "execution_count": 46,
   "metadata": {
    "colab": {
     "base_uri": "https://localhost:8080/"
    },
    "executionInfo": {
     "elapsed": 702,
     "status": "ok",
     "timestamp": 1627566127111,
     "user": {
      "displayName": "Samuel Doan",
      "photoUrl": "https://lh3.googleusercontent.com/a-/AOh14GjbcdQ40FcyCSIyitBN2ptY3zHWA_09harKPYF2=s64",
      "userId": "04384888964432338542"
     },
     "user_tz": -420
    },
    "id": "tQktriIlVX08",
    "outputId": "cae24dba-366b-4a0b-93cf-acbf4b6c6329"
   },
   "outputs": [
    {
     "data": {
      "text/plain": [
       "who    sibsp  parch\n",
       "child  0      0        0.000000\n",
       "              1        0.000000\n",
       "              2        0.000000\n",
       "       1      0        0.000000\n",
       "              1        0.000000\n",
       "              2        0.000000\n",
       "       2      1        0.000000\n",
       "              2        0.000000\n",
       "       3      1        0.000000\n",
       "              2        0.000000\n",
       "       4      1        0.000000\n",
       "              2        0.000000\n",
       "       5      2        0.000000\n",
       "man    0      0        0.260976\n",
       "              1        0.000000\n",
       "              2        0.000000\n",
       "       1      0        0.118644\n",
       "              1        0.095238\n",
       "              2        0.200000\n",
       "              3        0.000000\n",
       "              4        0.000000\n",
       "              5        0.000000\n",
       "       2      0        0.153846\n",
       "              1        0.000000\n",
       "       3      1        1.000000\n",
       "              2        0.000000\n",
       "       4      1        0.000000\n",
       "       8      2        1.000000\n",
       "woman  0      0        0.214876\n",
       "              1        0.055556\n",
       "              2        0.200000\n",
       "              3        0.000000\n",
       "              4        0.000000\n",
       "              5        0.000000\n",
       "       1      0        0.237288\n",
       "              1        0.047619\n",
       "              2        0.142857\n",
       "              3        0.000000\n",
       "              4        0.000000\n",
       "              5        0.000000\n",
       "              6        0.000000\n",
       "       2      0        0.333333\n",
       "              1        0.000000\n",
       "              2        0.000000\n",
       "              3        0.000000\n",
       "       3      0        0.000000\n",
       "              1        1.000000\n",
       "              2        0.000000\n",
       "       4      2        0.000000\n",
       "       5      2        0.000000\n",
       "       8      2        1.000000\n",
       "Name: age, dtype: float64"
      ]
     },
     "execution_count": 46,
     "metadata": {
      "tags": []
     },
     "output_type": "execute_result"
    }
   ],
   "source": [
    "titanic.groupby(['who', 'sibsp', 'parch'])['age'].agg(lambda x: x.isnull().sum()/len(x))"
   ]
  },
  {
   "cell_type": "code",
   "execution_count": 48,
   "metadata": {
    "colab": {
     "base_uri": "https://localhost:8080/",
     "height": 1000
    },
    "executionInfo": {
     "elapsed": 615,
     "status": "ok",
     "timestamp": 1627566334266,
     "user": {
      "displayName": "Samuel Doan",
      "photoUrl": "https://lh3.googleusercontent.com/a-/AOh14GjbcdQ40FcyCSIyitBN2ptY3zHWA_09harKPYF2=s64",
      "userId": "04384888964432338542"
     },
     "user_tz": -420
    },
    "id": "fe20jroJVX08",
    "outputId": "b279b008-cd9d-4395-f80b-7978d12b1a82"
   },
   "outputs": [
    {
     "data": {
      "text/html": [
       "<div>\n",
       "<style scoped>\n",
       "    .dataframe tbody tr th:only-of-type {\n",
       "        vertical-align: middle;\n",
       "    }\n",
       "\n",
       "    .dataframe tbody tr th {\n",
       "        vertical-align: top;\n",
       "    }\n",
       "\n",
       "    .dataframe thead th {\n",
       "        text-align: right;\n",
       "    }\n",
       "</style>\n",
       "<table border=\"1\" class=\"dataframe\">\n",
       "  <thead>\n",
       "    <tr style=\"text-align: right;\">\n",
       "      <th></th>\n",
       "      <th></th>\n",
       "      <th></th>\n",
       "      <th>len</th>\n",
       "      <th>mean</th>\n",
       "      <th>&lt;lambda_0&gt;</th>\n",
       "    </tr>\n",
       "    <tr>\n",
       "      <th>who</th>\n",
       "      <th>sibsp</th>\n",
       "      <th>parch</th>\n",
       "      <th></th>\n",
       "      <th></th>\n",
       "      <th></th>\n",
       "    </tr>\n",
       "  </thead>\n",
       "  <tbody>\n",
       "    <tr>\n",
       "      <th rowspan=\"13\" valign=\"top\">child</th>\n",
       "      <th rowspan=\"3\" valign=\"top\">0</th>\n",
       "      <th>0</th>\n",
       "      <td>6.0</td>\n",
       "      <td>12.166667</td>\n",
       "      <td>0.000000</td>\n",
       "    </tr>\n",
       "    <tr>\n",
       "      <th>1</th>\n",
       "      <td>8.0</td>\n",
       "      <td>6.052500</td>\n",
       "      <td>0.000000</td>\n",
       "    </tr>\n",
       "    <tr>\n",
       "      <th>2</th>\n",
       "      <td>9.0</td>\n",
       "      <td>4.981111</td>\n",
       "      <td>0.000000</td>\n",
       "    </tr>\n",
       "    <tr>\n",
       "      <th rowspan=\"3\" valign=\"top\">1</th>\n",
       "      <th>0</th>\n",
       "      <td>5.0</td>\n",
       "      <td>13.900000</td>\n",
       "      <td>0.000000</td>\n",
       "    </tr>\n",
       "    <tr>\n",
       "      <th>1</th>\n",
       "      <td>15.0</td>\n",
       "      <td>4.566667</td>\n",
       "      <td>0.000000</td>\n",
       "    </tr>\n",
       "    <tr>\n",
       "      <th>2</th>\n",
       "      <td>7.0</td>\n",
       "      <td>5.274286</td>\n",
       "      <td>0.000000</td>\n",
       "    </tr>\n",
       "    <tr>\n",
       "      <th rowspan=\"2\" valign=\"top\">2</th>\n",
       "      <th>1</th>\n",
       "      <td>5.0</td>\n",
       "      <td>2.300000</td>\n",
       "      <td>0.000000</td>\n",
       "    </tr>\n",
       "    <tr>\n",
       "      <th>2</th>\n",
       "      <td>1.0</td>\n",
       "      <td>9.000000</td>\n",
       "      <td>0.000000</td>\n",
       "    </tr>\n",
       "    <tr>\n",
       "      <th rowspan=\"2\" valign=\"top\">3</th>\n",
       "      <th>1</th>\n",
       "      <td>3.0</td>\n",
       "      <td>4.333333</td>\n",
       "      <td>0.000000</td>\n",
       "    </tr>\n",
       "    <tr>\n",
       "      <th>2</th>\n",
       "      <td>4.0</td>\n",
       "      <td>6.250000</td>\n",
       "      <td>0.000000</td>\n",
       "    </tr>\n",
       "    <tr>\n",
       "      <th rowspan=\"2\" valign=\"top\">4</th>\n",
       "      <th>1</th>\n",
       "      <td>8.0</td>\n",
       "      <td>5.625000</td>\n",
       "      <td>0.000000</td>\n",
       "    </tr>\n",
       "    <tr>\n",
       "      <th>2</th>\n",
       "      <td>8.0</td>\n",
       "      <td>6.125000</td>\n",
       "      <td>0.000000</td>\n",
       "    </tr>\n",
       "    <tr>\n",
       "      <th>5</th>\n",
       "      <th>2</th>\n",
       "      <td>4.0</td>\n",
       "      <td>8.750000</td>\n",
       "      <td>0.000000</td>\n",
       "    </tr>\n",
       "    <tr>\n",
       "      <th rowspan=\"15\" valign=\"top\">man</th>\n",
       "      <th rowspan=\"3\" valign=\"top\">0</th>\n",
       "      <th>0</th>\n",
       "      <td>410.0</td>\n",
       "      <td>32.973597</td>\n",
       "      <td>0.260976</td>\n",
       "    </tr>\n",
       "    <tr>\n",
       "      <th>1</th>\n",
       "      <td>12.0</td>\n",
       "      <td>38.583333</td>\n",
       "      <td>0.000000</td>\n",
       "    </tr>\n",
       "    <tr>\n",
       "      <th>2</th>\n",
       "      <td>5.0</td>\n",
       "      <td>35.800000</td>\n",
       "      <td>0.000000</td>\n",
       "    </tr>\n",
       "    <tr>\n",
       "      <th rowspan=\"6\" valign=\"top\">1</th>\n",
       "      <th>0</th>\n",
       "      <td>59.0</td>\n",
       "      <td>32.701923</td>\n",
       "      <td>0.118644</td>\n",
       "    </tr>\n",
       "    <tr>\n",
       "      <th>1</th>\n",
       "      <td>21.0</td>\n",
       "      <td>36.000000</td>\n",
       "      <td>0.095238</td>\n",
       "    </tr>\n",
       "    <tr>\n",
       "      <th>2</th>\n",
       "      <td>5.0</td>\n",
       "      <td>30.750000</td>\n",
       "      <td>0.200000</td>\n",
       "    </tr>\n",
       "    <tr>\n",
       "      <th>3</th>\n",
       "      <td>1.0</td>\n",
       "      <td>16.000000</td>\n",
       "      <td>0.000000</td>\n",
       "    </tr>\n",
       "    <tr>\n",
       "      <th>4</th>\n",
       "      <td>2.0</td>\n",
       "      <td>52.000000</td>\n",
       "      <td>0.000000</td>\n",
       "    </tr>\n",
       "    <tr>\n",
       "      <th>5</th>\n",
       "      <td>1.0</td>\n",
       "      <td>39.000000</td>\n",
       "      <td>0.000000</td>\n",
       "    </tr>\n",
       "    <tr>\n",
       "      <th rowspan=\"2\" valign=\"top\">2</th>\n",
       "      <th>0</th>\n",
       "      <td>13.0</td>\n",
       "      <td>31.181818</td>\n",
       "      <td>0.153846</td>\n",
       "    </tr>\n",
       "    <tr>\n",
       "      <th>1</th>\n",
       "      <td>1.0</td>\n",
       "      <td>23.000000</td>\n",
       "      <td>0.000000</td>\n",
       "    </tr>\n",
       "    <tr>\n",
       "      <th rowspan=\"2\" valign=\"top\">3</th>\n",
       "      <th>1</th>\n",
       "      <td>1.0</td>\n",
       "      <td>NaN</td>\n",
       "      <td>1.000000</td>\n",
       "    </tr>\n",
       "    <tr>\n",
       "      <th>2</th>\n",
       "      <td>1.0</td>\n",
       "      <td>19.000000</td>\n",
       "      <td>0.000000</td>\n",
       "    </tr>\n",
       "    <tr>\n",
       "      <th>4</th>\n",
       "      <th>1</th>\n",
       "      <td>1.0</td>\n",
       "      <td>16.000000</td>\n",
       "      <td>0.000000</td>\n",
       "    </tr>\n",
       "    <tr>\n",
       "      <th>8</th>\n",
       "      <th>2</th>\n",
       "      <td>4.0</td>\n",
       "      <td>NaN</td>\n",
       "      <td>1.000000</td>\n",
       "    </tr>\n",
       "    <tr>\n",
       "      <th rowspan=\"23\" valign=\"top\">woman</th>\n",
       "      <th rowspan=\"6\" valign=\"top\">0</th>\n",
       "      <th>0</th>\n",
       "      <td>121.0</td>\n",
       "      <td>31.084211</td>\n",
       "      <td>0.214876</td>\n",
       "    </tr>\n",
       "    <tr>\n",
       "      <th>1</th>\n",
       "      <td>18.0</td>\n",
       "      <td>34.176471</td>\n",
       "      <td>0.055556</td>\n",
       "    </tr>\n",
       "    <tr>\n",
       "      <th>2</th>\n",
       "      <td>15.0</td>\n",
       "      <td>26.833333</td>\n",
       "      <td>0.200000</td>\n",
       "    </tr>\n",
       "    <tr>\n",
       "      <th>3</th>\n",
       "      <td>1.0</td>\n",
       "      <td>24.000000</td>\n",
       "      <td>0.000000</td>\n",
       "    </tr>\n",
       "    <tr>\n",
       "      <th>4</th>\n",
       "      <td>1.0</td>\n",
       "      <td>29.000000</td>\n",
       "      <td>0.000000</td>\n",
       "    </tr>\n",
       "    <tr>\n",
       "      <th>5</th>\n",
       "      <td>2.0</td>\n",
       "      <td>40.000000</td>\n",
       "      <td>0.000000</td>\n",
       "    </tr>\n",
       "    <tr>\n",
       "      <th rowspan=\"7\" valign=\"top\">1</th>\n",
       "      <th>0</th>\n",
       "      <td>59.0</td>\n",
       "      <td>33.355556</td>\n",
       "      <td>0.237288</td>\n",
       "    </tr>\n",
       "    <tr>\n",
       "      <th>1</th>\n",
       "      <td>21.0</td>\n",
       "      <td>35.450000</td>\n",
       "      <td>0.047619</td>\n",
       "    </tr>\n",
       "    <tr>\n",
       "      <th>2</th>\n",
       "      <td>7.0</td>\n",
       "      <td>31.333333</td>\n",
       "      <td>0.142857</td>\n",
       "    </tr>\n",
       "    <tr>\n",
       "      <th>3</th>\n",
       "      <td>2.0</td>\n",
       "      <td>51.000000</td>\n",
       "      <td>0.000000</td>\n",
       "    </tr>\n",
       "    <tr>\n",
       "      <th>4</th>\n",
       "      <td>1.0</td>\n",
       "      <td>45.000000</td>\n",
       "      <td>0.000000</td>\n",
       "    </tr>\n",
       "    <tr>\n",
       "      <th>5</th>\n",
       "      <td>2.0</td>\n",
       "      <td>38.500000</td>\n",
       "      <td>0.000000</td>\n",
       "    </tr>\n",
       "    <tr>\n",
       "      <th>6</th>\n",
       "      <td>1.0</td>\n",
       "      <td>43.000000</td>\n",
       "      <td>0.000000</td>\n",
       "    </tr>\n",
       "    <tr>\n",
       "      <th rowspan=\"4\" valign=\"top\">2</th>\n",
       "      <th>0</th>\n",
       "      <td>3.0</td>\n",
       "      <td>35.500000</td>\n",
       "      <td>0.333333</td>\n",
       "    </tr>\n",
       "    <tr>\n",
       "      <th>1</th>\n",
       "      <td>1.0</td>\n",
       "      <td>24.000000</td>\n",
       "      <td>0.000000</td>\n",
       "    </tr>\n",
       "    <tr>\n",
       "      <th>2</th>\n",
       "      <td>3.0</td>\n",
       "      <td>20.000000</td>\n",
       "      <td>0.000000</td>\n",
       "    </tr>\n",
       "    <tr>\n",
       "      <th>3</th>\n",
       "      <td>1.0</td>\n",
       "      <td>24.000000</td>\n",
       "      <td>0.000000</td>\n",
       "    </tr>\n",
       "    <tr>\n",
       "      <th rowspan=\"3\" valign=\"top\">3</th>\n",
       "      <th>0</th>\n",
       "      <td>2.0</td>\n",
       "      <td>31.500000</td>\n",
       "      <td>0.000000</td>\n",
       "    </tr>\n",
       "    <tr>\n",
       "      <th>1</th>\n",
       "      <td>3.0</td>\n",
       "      <td>NaN</td>\n",
       "      <td>1.000000</td>\n",
       "    </tr>\n",
       "    <tr>\n",
       "      <th>2</th>\n",
       "      <td>2.0</td>\n",
       "      <td>23.500000</td>\n",
       "      <td>0.000000</td>\n",
       "    </tr>\n",
       "    <tr>\n",
       "      <th>4</th>\n",
       "      <th>2</th>\n",
       "      <td>1.0</td>\n",
       "      <td>17.000000</td>\n",
       "      <td>0.000000</td>\n",
       "    </tr>\n",
       "    <tr>\n",
       "      <th>5</th>\n",
       "      <th>2</th>\n",
       "      <td>1.0</td>\n",
       "      <td>16.000000</td>\n",
       "      <td>0.000000</td>\n",
       "    </tr>\n",
       "    <tr>\n",
       "      <th>8</th>\n",
       "      <th>2</th>\n",
       "      <td>3.0</td>\n",
       "      <td>NaN</td>\n",
       "      <td>1.000000</td>\n",
       "    </tr>\n",
       "  </tbody>\n",
       "</table>\n",
       "</div>"
      ],
      "text/plain": [
       "                     len       mean  <lambda_0>\n",
       "who   sibsp parch                              \n",
       "child 0     0        6.0  12.166667    0.000000\n",
       "            1        8.0   6.052500    0.000000\n",
       "            2        9.0   4.981111    0.000000\n",
       "      1     0        5.0  13.900000    0.000000\n",
       "            1       15.0   4.566667    0.000000\n",
       "            2        7.0   5.274286    0.000000\n",
       "      2     1        5.0   2.300000    0.000000\n",
       "            2        1.0   9.000000    0.000000\n",
       "      3     1        3.0   4.333333    0.000000\n",
       "            2        4.0   6.250000    0.000000\n",
       "      4     1        8.0   5.625000    0.000000\n",
       "            2        8.0   6.125000    0.000000\n",
       "      5     2        4.0   8.750000    0.000000\n",
       "man   0     0      410.0  32.973597    0.260976\n",
       "            1       12.0  38.583333    0.000000\n",
       "            2        5.0  35.800000    0.000000\n",
       "      1     0       59.0  32.701923    0.118644\n",
       "            1       21.0  36.000000    0.095238\n",
       "            2        5.0  30.750000    0.200000\n",
       "            3        1.0  16.000000    0.000000\n",
       "            4        2.0  52.000000    0.000000\n",
       "            5        1.0  39.000000    0.000000\n",
       "      2     0       13.0  31.181818    0.153846\n",
       "            1        1.0  23.000000    0.000000\n",
       "      3     1        1.0        NaN    1.000000\n",
       "            2        1.0  19.000000    0.000000\n",
       "      4     1        1.0  16.000000    0.000000\n",
       "      8     2        4.0        NaN    1.000000\n",
       "woman 0     0      121.0  31.084211    0.214876\n",
       "            1       18.0  34.176471    0.055556\n",
       "            2       15.0  26.833333    0.200000\n",
       "            3        1.0  24.000000    0.000000\n",
       "            4        1.0  29.000000    0.000000\n",
       "            5        2.0  40.000000    0.000000\n",
       "      1     0       59.0  33.355556    0.237288\n",
       "            1       21.0  35.450000    0.047619\n",
       "            2        7.0  31.333333    0.142857\n",
       "            3        2.0  51.000000    0.000000\n",
       "            4        1.0  45.000000    0.000000\n",
       "            5        2.0  38.500000    0.000000\n",
       "            6        1.0  43.000000    0.000000\n",
       "      2     0        3.0  35.500000    0.333333\n",
       "            1        1.0  24.000000    0.000000\n",
       "            2        3.0  20.000000    0.000000\n",
       "            3        1.0  24.000000    0.000000\n",
       "      3     0        2.0  31.500000    0.000000\n",
       "            1        3.0        NaN    1.000000\n",
       "            2        2.0  23.500000    0.000000\n",
       "      4     2        1.0  17.000000    0.000000\n",
       "      5     2        1.0  16.000000    0.000000\n",
       "      8     2        3.0        NaN    1.000000"
      ]
     },
     "execution_count": 48,
     "metadata": {
      "tags": []
     },
     "output_type": "execute_result"
    }
   ],
   "source": [
    "titanic.groupby(['who', 'sibsp', 'parch'])['age'].agg([len, 'mean', lambda x: (x.isnull().sum())/len(x)])"
   ]
  },
  {
   "cell_type": "code",
   "execution_count": 12,
   "metadata": {
    "colab": {
     "base_uri": "https://localhost:8080/"
    },
    "executionInfo": {
     "elapsed": 734,
     "status": "ok",
     "timestamp": 1627566468950,
     "user": {
      "displayName": "Samuel Doan",
      "photoUrl": "https://lh3.googleusercontent.com/a-/AOh14GjbcdQ40FcyCSIyitBN2ptY3zHWA_09harKPYF2=s64",
      "userId": "04384888964432338542"
     },
     "user_tz": -420
    },
    "id": "IQVJDnG4ge1p",
    "outputId": "488422ac-d04a-4d6c-c535-e67535a05771"
   },
   "outputs": [
    {
     "data": {
      "text/plain": [
       "0      22.000000\n",
       "1      38.000000\n",
       "2      26.000000\n",
       "3      35.000000\n",
       "4      35.000000\n",
       "         ...    \n",
       "886    27.000000\n",
       "887    19.000000\n",
       "888    31.333333\n",
       "889    26.000000\n",
       "890    32.000000\n",
       "Name: age, Length: 891, dtype: float64"
      ]
     },
     "execution_count": 12,
     "metadata": {},
     "output_type": "execute_result"
    }
   ],
   "source": [
    "ser = titanic.groupby(['who', 'sibsp', 'parch'])['age'].apply(lambda x: x.fillna(x.mean())) # điền các giá trị bị thiếu bằng giá trị trung bình của nhóm\n",
    "ser"
   ]
  },
  {
   "cell_type": "code",
   "execution_count": 13,
   "metadata": {
    "colab": {
     "base_uri": "https://localhost:8080/"
    },
    "executionInfo": {
     "elapsed": 674,
     "status": "ok",
     "timestamp": 1627566484750,
     "user": {
      "displayName": "Samuel Doan",
      "photoUrl": "https://lh3.googleusercontent.com/a-/AOh14GjbcdQ40FcyCSIyitBN2ptY3zHWA_09harKPYF2=s64",
      "userId": "04384888964432338542"
     },
     "user_tz": -420
    },
    "id": "791DjvkKhXjp",
    "outputId": "00bd33f0-0151-4616-d75d-0a7d8c350813"
   },
   "outputs": [
    {
     "data": {
      "text/plain": [
       "11"
      ]
     },
     "execution_count": 13,
     "metadata": {},
     "output_type": "execute_result"
    }
   ],
   "source": [
    "ser.isnull().sum()"
   ]
  },
  {
   "cell_type": "code",
   "execution_count": 51,
   "metadata": {
    "executionInfo": {
     "elapsed": 535,
     "status": "ok",
     "timestamp": 1627566568526,
     "user": {
      "displayName": "Samuel Doan",
      "photoUrl": "https://lh3.googleusercontent.com/a-/AOh14GjbcdQ40FcyCSIyitBN2ptY3zHWA_09harKPYF2=s64",
      "userId": "04384888964432338542"
     },
     "user_tz": -420
    },
    "id": "pKkZ1LTbhq15"
   },
   "outputs": [],
   "source": [
    "titanic['age'] = ser"
   ]
  },
  {
   "cell_type": "code",
   "execution_count": 52,
   "metadata": {
    "colab": {
     "base_uri": "https://localhost:8080/",
     "height": 833
    },
    "executionInfo": {
     "elapsed": 657,
     "status": "ok",
     "timestamp": 1627566585572,
     "user": {
      "displayName": "Samuel Doan",
      "photoUrl": "https://lh3.googleusercontent.com/a-/AOh14GjbcdQ40FcyCSIyitBN2ptY3zHWA_09harKPYF2=s64",
      "userId": "04384888964432338542"
     },
     "user_tz": -420
    },
    "id": "R0mKqew2VX1B",
    "outputId": "e7f20d9b-dfa0-4f48-cde1-92ba4cd7393f"
   },
   "outputs": [
    {
     "data": {
      "text/html": [
       "<div>\n",
       "<style scoped>\n",
       "    .dataframe tbody tr th:only-of-type {\n",
       "        vertical-align: middle;\n",
       "    }\n",
       "\n",
       "    .dataframe tbody tr th {\n",
       "        vertical-align: top;\n",
       "    }\n",
       "\n",
       "    .dataframe thead th {\n",
       "        text-align: right;\n",
       "    }\n",
       "</style>\n",
       "<table border=\"1\" class=\"dataframe\">\n",
       "  <thead>\n",
       "    <tr style=\"text-align: right;\">\n",
       "      <th></th>\n",
       "      <th></th>\n",
       "      <th>len</th>\n",
       "      <th>mean</th>\n",
       "      <th>&lt;lambda_0&gt;</th>\n",
       "    </tr>\n",
       "    <tr>\n",
       "      <th>sibsp</th>\n",
       "      <th>parch</th>\n",
       "      <th></th>\n",
       "      <th></th>\n",
       "      <th></th>\n",
       "    </tr>\n",
       "  </thead>\n",
       "  <tbody>\n",
       "    <tr>\n",
       "      <th rowspan=\"6\" valign=\"top\">0</th>\n",
       "      <th>0</th>\n",
       "      <td>537.0</td>\n",
       "      <td>32.315390</td>\n",
       "      <td>0.000000</td>\n",
       "    </tr>\n",
       "    <tr>\n",
       "      <th>1</th>\n",
       "      <td>38.0</td>\n",
       "      <td>29.647276</td>\n",
       "      <td>0.000000</td>\n",
       "    </tr>\n",
       "    <tr>\n",
       "      <th>2</th>\n",
       "      <td>29.0</td>\n",
       "      <td>21.597586</td>\n",
       "      <td>0.000000</td>\n",
       "    </tr>\n",
       "    <tr>\n",
       "      <th>3</th>\n",
       "      <td>1.0</td>\n",
       "      <td>24.000000</td>\n",
       "      <td>0.000000</td>\n",
       "    </tr>\n",
       "    <tr>\n",
       "      <th>4</th>\n",
       "      <td>1.0</td>\n",
       "      <td>29.000000</td>\n",
       "      <td>0.000000</td>\n",
       "    </tr>\n",
       "    <tr>\n",
       "      <th>5</th>\n",
       "      <td>2.0</td>\n",
       "      <td>40.000000</td>\n",
       "      <td>0.000000</td>\n",
       "    </tr>\n",
       "    <tr>\n",
       "      <th rowspan=\"7\" valign=\"top\">1</th>\n",
       "      <th>0</th>\n",
       "      <td>123.0</td>\n",
       "      <td>32.251148</td>\n",
       "      <td>0.000000</td>\n",
       "    </tr>\n",
       "    <tr>\n",
       "      <th>1</th>\n",
       "      <td>57.0</td>\n",
       "      <td>27.525439</td>\n",
       "      <td>0.000000</td>\n",
       "    </tr>\n",
       "    <tr>\n",
       "      <th>2</th>\n",
       "      <td>19.0</td>\n",
       "      <td>21.579123</td>\n",
       "      <td>0.000000</td>\n",
       "    </tr>\n",
       "    <tr>\n",
       "      <th>3</th>\n",
       "      <td>3.0</td>\n",
       "      <td>39.333333</td>\n",
       "      <td>0.000000</td>\n",
       "    </tr>\n",
       "    <tr>\n",
       "      <th>4</th>\n",
       "      <td>3.0</td>\n",
       "      <td>49.666667</td>\n",
       "      <td>0.000000</td>\n",
       "    </tr>\n",
       "    <tr>\n",
       "      <th>5</th>\n",
       "      <td>3.0</td>\n",
       "      <td>38.666667</td>\n",
       "      <td>0.000000</td>\n",
       "    </tr>\n",
       "    <tr>\n",
       "      <th>6</th>\n",
       "      <td>1.0</td>\n",
       "      <td>43.000000</td>\n",
       "      <td>0.000000</td>\n",
       "    </tr>\n",
       "    <tr>\n",
       "      <th rowspan=\"4\" valign=\"top\">2</th>\n",
       "      <th>0</th>\n",
       "      <td>16.0</td>\n",
       "      <td>31.991477</td>\n",
       "      <td>0.000000</td>\n",
       "    </tr>\n",
       "    <tr>\n",
       "      <th>1</th>\n",
       "      <td>7.0</td>\n",
       "      <td>8.357143</td>\n",
       "      <td>0.000000</td>\n",
       "    </tr>\n",
       "    <tr>\n",
       "      <th>2</th>\n",
       "      <td>4.0</td>\n",
       "      <td>17.250000</td>\n",
       "      <td>0.000000</td>\n",
       "    </tr>\n",
       "    <tr>\n",
       "      <th>3</th>\n",
       "      <td>1.0</td>\n",
       "      <td>24.000000</td>\n",
       "      <td>0.000000</td>\n",
       "    </tr>\n",
       "    <tr>\n",
       "      <th rowspan=\"3\" valign=\"top\">3</th>\n",
       "      <th>0</th>\n",
       "      <td>2.0</td>\n",
       "      <td>31.500000</td>\n",
       "      <td>0.000000</td>\n",
       "    </tr>\n",
       "    <tr>\n",
       "      <th>1</th>\n",
       "      <td>7.0</td>\n",
       "      <td>4.333333</td>\n",
       "      <td>0.571429</td>\n",
       "    </tr>\n",
       "    <tr>\n",
       "      <th>2</th>\n",
       "      <td>7.0</td>\n",
       "      <td>13.000000</td>\n",
       "      <td>0.000000</td>\n",
       "    </tr>\n",
       "    <tr>\n",
       "      <th rowspan=\"2\" valign=\"top\">4</th>\n",
       "      <th>1</th>\n",
       "      <td>9.0</td>\n",
       "      <td>6.777778</td>\n",
       "      <td>0.000000</td>\n",
       "    </tr>\n",
       "    <tr>\n",
       "      <th>2</th>\n",
       "      <td>9.0</td>\n",
       "      <td>7.333333</td>\n",
       "      <td>0.000000</td>\n",
       "    </tr>\n",
       "    <tr>\n",
       "      <th>5</th>\n",
       "      <th>2</th>\n",
       "      <td>5.0</td>\n",
       "      <td>10.200000</td>\n",
       "      <td>0.000000</td>\n",
       "    </tr>\n",
       "    <tr>\n",
       "      <th>8</th>\n",
       "      <th>2</th>\n",
       "      <td>7.0</td>\n",
       "      <td>NaN</td>\n",
       "      <td>1.000000</td>\n",
       "    </tr>\n",
       "  </tbody>\n",
       "</table>\n",
       "</div>"
      ],
      "text/plain": [
       "               len       mean  <lambda_0>\n",
       "sibsp parch                              \n",
       "0     0      537.0  32.315390    0.000000\n",
       "      1       38.0  29.647276    0.000000\n",
       "      2       29.0  21.597586    0.000000\n",
       "      3        1.0  24.000000    0.000000\n",
       "      4        1.0  29.000000    0.000000\n",
       "      5        2.0  40.000000    0.000000\n",
       "1     0      123.0  32.251148    0.000000\n",
       "      1       57.0  27.525439    0.000000\n",
       "      2       19.0  21.579123    0.000000\n",
       "      3        3.0  39.333333    0.000000\n",
       "      4        3.0  49.666667    0.000000\n",
       "      5        3.0  38.666667    0.000000\n",
       "      6        1.0  43.000000    0.000000\n",
       "2     0       16.0  31.991477    0.000000\n",
       "      1        7.0   8.357143    0.000000\n",
       "      2        4.0  17.250000    0.000000\n",
       "      3        1.0  24.000000    0.000000\n",
       "3     0        2.0  31.500000    0.000000\n",
       "      1        7.0   4.333333    0.571429\n",
       "      2        7.0  13.000000    0.000000\n",
       "4     1        9.0   6.777778    0.000000\n",
       "      2        9.0   7.333333    0.000000\n",
       "5     2        5.0  10.200000    0.000000\n",
       "8     2        7.0        NaN    1.000000"
      ]
     },
     "execution_count": 52,
     "metadata": {
      "tags": []
     },
     "output_type": "execute_result"
    }
   ],
   "source": [
    "titanic.groupby(['sibsp', 'parch'])['age'].agg([len, 'mean', lambda x: (x.isnull().sum())/len(x)])"
   ]
  },
  {
   "cell_type": "code",
   "execution_count": 14,
   "metadata": {
    "colab": {
     "base_uri": "https://localhost:8080/"
    },
    "executionInfo": {
     "elapsed": 634,
     "status": "ok",
     "timestamp": 1627566748757,
     "user": {
      "displayName": "Samuel Doan",
      "photoUrl": "https://lh3.googleusercontent.com/a-/AOh14GjbcdQ40FcyCSIyitBN2ptY3zHWA_09harKPYF2=s64",
      "userId": "04384888964432338542"
     },
     "user_tz": -420
    },
    "id": "_5aBoo9bVX1C",
    "outputId": "dfcd943b-c5fb-4acf-eb96-3368f29a96d5"
   },
   "outputs": [
    {
     "data": {
      "text/plain": [
       "0      22.000000\n",
       "1      38.000000\n",
       "2      26.000000\n",
       "3      35.000000\n",
       "4      35.000000\n",
       "         ...    \n",
       "886    27.000000\n",
       "887    19.000000\n",
       "888    20.465882\n",
       "889    26.000000\n",
       "890    32.000000\n",
       "Name: age, Length: 891, dtype: float64"
      ]
     },
     "execution_count": 14,
     "metadata": {},
     "output_type": "execute_result"
    }
   ],
   "source": [
    "ser = titanic.groupby(['sibsp', 'parch'])['age'].apply(lambda x: x.fillna(x.mean()))\n",
    "ser"
   ]
  },
  {
   "cell_type": "code",
   "execution_count": 15,
   "metadata": {
    "colab": {
     "base_uri": "https://localhost:8080/"
    },
    "executionInfo": {
     "elapsed": 553,
     "status": "ok",
     "timestamp": 1627566764355,
     "user": {
      "displayName": "Samuel Doan",
      "photoUrl": "https://lh3.googleusercontent.com/a-/AOh14GjbcdQ40FcyCSIyitBN2ptY3zHWA_09harKPYF2=s64",
      "userId": "04384888964432338542"
     },
     "user_tz": -420
    },
    "id": "H8ni8ZfQicSw",
    "outputId": "083f755e-7691-4d84-8607-d3b3e4031825"
   },
   "outputs": [
    {
     "data": {
      "text/plain": [
       "7"
      ]
     },
     "execution_count": 15,
     "metadata": {},
     "output_type": "execute_result"
    }
   ],
   "source": [
    "ser.isnull().sum()"
   ]
  },
  {
   "cell_type": "code",
   "execution_count": 56,
   "metadata": {
    "executionInfo": {
     "elapsed": 1050,
     "status": "ok",
     "timestamp": 1627566791788,
     "user": {
      "displayName": "Samuel Doan",
      "photoUrl": "https://lh3.googleusercontent.com/a-/AOh14GjbcdQ40FcyCSIyitBN2ptY3zHWA_09harKPYF2=s64",
      "userId": "04384888964432338542"
     },
     "user_tz": -420
    },
    "id": "ebZAiFxgiiNw"
   },
   "outputs": [],
   "source": [
    "titanic['age'] = ser"
   ]
  },
  {
   "cell_type": "code",
   "execution_count": 57,
   "metadata": {
    "colab": {
     "base_uri": "https://localhost:8080/"
    },
    "executionInfo": {
     "elapsed": 14,
     "status": "ok",
     "timestamp": 1627566795274,
     "user": {
      "displayName": "Samuel Doan",
      "photoUrl": "https://lh3.googleusercontent.com/a-/AOh14GjbcdQ40FcyCSIyitBN2ptY3zHWA_09harKPYF2=s64",
      "userId": "04384888964432338542"
     },
     "user_tz": -420
    },
    "id": "nRe2lh-HVX1D",
    "outputId": "288a802e-de74-4779-a7be-6f5a3f4ab118"
   },
   "outputs": [
    {
     "data": {
      "text/plain": [
       "7"
      ]
     },
     "execution_count": 57,
     "metadata": {
      "tags": []
     },
     "output_type": "execute_result"
    }
   ],
   "source": [
    "titanic['age'].isnull().sum()"
   ]
  },
  {
   "cell_type": "code",
   "execution_count": 59,
   "metadata": {
    "colab": {
     "base_uri": "https://localhost:8080/"
    },
    "executionInfo": {
     "elapsed": 538,
     "status": "ok",
     "timestamp": 1627566845686,
     "user": {
      "displayName": "Samuel Doan",
      "photoUrl": "https://lh3.googleusercontent.com/a-/AOh14GjbcdQ40FcyCSIyitBN2ptY3zHWA_09harKPYF2=s64",
      "userId": "04384888964432338542"
     },
     "user_tz": -420
    },
    "id": "2gSRMqn_iovd",
    "outputId": "d4f29b4b-9b7e-4626-e8ac-5413443b79fc"
   },
   "outputs": [
    {
     "data": {
      "text/plain": [
       "6.369518072289157"
      ]
     },
     "execution_count": 59,
     "metadata": {
      "tags": []
     },
     "output_type": "execute_result"
    }
   ],
   "source": [
    "titanic[titanic['who'] == 'child']['age'].mean()"
   ]
  },
  {
   "cell_type": "code",
   "execution_count": 16,
   "metadata": {
    "executionInfo": {
     "elapsed": 579,
     "status": "ok",
     "timestamp": 1627566888340,
     "user": {
      "displayName": "Samuel Doan",
      "photoUrl": "https://lh3.googleusercontent.com/a-/AOh14GjbcdQ40FcyCSIyitBN2ptY3zHWA_09harKPYF2=s64",
      "userId": "04384888964432338542"
     },
     "user_tz": -420
    },
    "id": "LLUSOVlci1XN"
   },
   "outputs": [],
   "source": [
    "titanic['age'] = titanic['age'].fillna(titanic[titanic['who'] == 'child']['age'].mean())"
   ]
  },
  {
   "cell_type": "code",
   "execution_count": 62,
   "metadata": {
    "colab": {
     "base_uri": "https://localhost:8080/"
    },
    "executionInfo": {
     "elapsed": 895,
     "status": "ok",
     "timestamp": 1627566905771,
     "user": {
      "displayName": "Samuel Doan",
      "photoUrl": "https://lh3.googleusercontent.com/a-/AOh14GjbcdQ40FcyCSIyitBN2ptY3zHWA_09harKPYF2=s64",
      "userId": "04384888964432338542"
     },
     "user_tz": -420
    },
    "id": "Qhi2BkKKi-EI",
    "outputId": "388174dc-aa34-4bee-aecd-38afae18efae"
   },
   "outputs": [
    {
     "data": {
      "text/plain": [
       "0"
      ]
     },
     "execution_count": 62,
     "metadata": {
      "tags": []
     },
     "output_type": "execute_result"
    }
   ],
   "source": [
    "titanic['age'].isnull().sum()"
   ]
  },
  {
   "cell_type": "code",
   "execution_count": null,
   "metadata": {
    "id": "Y2m8T0leVX1F"
   },
   "outputs": [],
   "source": [
    "# Dien du lieu bi thieu bang tep sisp va parch lon nhat"
   ]
  },
  {
   "cell_type": "code",
   "execution_count": null,
   "metadata": {
    "id": "gEG4NlxEVX1H"
   },
   "outputs": [],
   "source": [
    "# Tao bien bang cach chia bin du lieu"
   ]
  },
  {
   "cell_type": "code",
   "execution_count": 66,
   "metadata": {
    "colab": {
     "base_uri": "https://localhost:8080/",
     "height": 297
    },
    "executionInfo": {
     "elapsed": 17,
     "status": "ok",
     "timestamp": 1627567357276,
     "user": {
      "displayName": "Samuel Doan",
      "photoUrl": "https://lh3.googleusercontent.com/a-/AOh14GjbcdQ40FcyCSIyitBN2ptY3zHWA_09harKPYF2=s64",
      "userId": "04384888964432338542"
     },
     "user_tz": -420
    },
    "id": "2EiOuX5JjiRk",
    "outputId": "73fae7f6-eb40-4a86-9aa0-c611f3f0aa13"
   },
   "outputs": [
    {
     "data": {
      "text/plain": [
       "<matplotlib.axes._subplots.AxesSubplot at 0x7f94fd012b90>"
      ]
     },
     "execution_count": 66,
     "metadata": {
      "tags": []
     },
     "output_type": "execute_result"
    },
    {
     "data": {
      "image/png": "[encoded data removed]",
      "text/plain": [
       "<Figure size 432x288 with 1 Axes>"
      ]
     },
     "metadata": {
      "needs_background": "light",
      "tags": []
     },
     "output_type": "display_data"
    }
   ],
   "source": [
    "sns.histplot(data=titanic, x='age', hue='survived', kde=True, stat='probability', common_norm=False)\n",
    "# stat: tính tỷ lệ % (y) thay vì count\n",
    "# common_norm: tính tỷ lệ % cho từng phân loại survived."
   ]
  },
  {
   "cell_type": "code",
   "execution_count": 17,
   "metadata": {
    "colab": {
     "base_uri": "https://localhost:8080/"
    },
    "executionInfo": {
     "elapsed": 13,
     "status": "ok",
     "timestamp": 1627567501209,
     "user": {
      "displayName": "Samuel Doan",
      "photoUrl": "https://lh3.googleusercontent.com/a-/AOh14GjbcdQ40FcyCSIyitBN2ptY3zHWA_09harKPYF2=s64",
      "userId": "04384888964432338542"
     },
     "user_tz": -420
    },
    "id": "BVC8hDtSk9dJ",
    "outputId": "9bf17add-6286-41db-8eb7-c8d5a258d898"
   },
   "outputs": [
    {
     "data": {
      "text/plain": [
       "0      (15, 25]\n",
       "1      (35, 45]\n",
       "2      (25, 35]\n",
       "3      (25, 35]\n",
       "4      (25, 35]\n",
       "         ...   \n",
       "886    (25, 35]\n",
       "887    (15, 25]\n",
       "888     (0, 15]\n",
       "889    (25, 35]\n",
       "890    (25, 35]\n",
       "Name: age, Length: 891, dtype: category\n",
       "Categories (7, interval[int64, right]): [(0, 15] < (15, 25] < (25, 35] < (35, 45] < (45, 60] < (60, 80] < (80, 100]]"
      ]
     },
     "execution_count": 17,
     "metadata": {},
     "output_type": "execute_result"
    }
   ],
   "source": [
    "age_groups = [0, 15, 25, 35, 45, 60, 80, 100]\n",
    "pd.cut(titanic['age'], bins=age_groups)"
   ]
  },
  {
   "cell_type": "code",
   "execution_count": 18,
   "metadata": {
    "colab": {
     "base_uri": "https://localhost:8080/"
    },
    "executionInfo": {
     "elapsed": 1400,
     "status": "ok",
     "timestamp": 1627567577056,
     "user": {
      "displayName": "Samuel Doan",
      "photoUrl": "https://lh3.googleusercontent.com/a-/AOh14GjbcdQ40FcyCSIyitBN2ptY3zHWA_09harKPYF2=s64",
      "userId": "04384888964432338542"
     },
     "user_tz": -420
    },
    "id": "lKUw8BMiler4",
    "outputId": "cfc291dc-5fce-4af5-f6df-c5c928a347c8"
   },
   "outputs": [
    {
     "data": {
      "text/plain": [
       "0      (15, 25]\n",
       "1      (35, 45]\n",
       "2      (25, 35]\n",
       "3      (25, 35]\n",
       "4      (25, 35]\n",
       "         ...   \n",
       "886    (25, 35]\n",
       "887    (15, 25]\n",
       "888     (0, 15]\n",
       "889    (25, 35]\n",
       "890    (25, 35]\n",
       "Name: age_group, Length: 891, dtype: category\n",
       "Categories (7, interval[int64, right]): [(0, 15] < (15, 25] < (25, 35] < (35, 45] < (45, 60] < (60, 80] < (80, 100]]"
      ]
     },
     "execution_count": 18,
     "metadata": {},
     "output_type": "execute_result"
    }
   ],
   "source": [
    "titanic['age_group'] = pd.cut(titanic['age'], bins=age_groups)\n",
    "titanic['age_group']"
   ]
  },
  {
   "cell_type": "code",
   "execution_count": 69,
   "metadata": {
    "colab": {
     "base_uri": "https://localhost:8080/",
     "height": 424
    },
    "executionInfo": {
     "elapsed": 32,
     "status": "ok",
     "timestamp": 1627567686848,
     "user": {
      "displayName": "Samuel Doan",
      "photoUrl": "https://lh3.googleusercontent.com/a-/AOh14GjbcdQ40FcyCSIyitBN2ptY3zHWA_09harKPYF2=s64",
      "userId": "04384888964432338542"
     },
     "user_tz": -420
    },
    "id": "cp_MR0UHl-TI",
    "outputId": "8b824d5f-208a-461b-8c7a-75e4a58e5826"
   },
   "outputs": [
    {
     "data": {
      "text/html": [
       "<div>\n",
       "<style scoped>\n",
       "    .dataframe tbody tr th:only-of-type {\n",
       "        vertical-align: middle;\n",
       "    }\n",
       "\n",
       "    .dataframe tbody tr th {\n",
       "        vertical-align: top;\n",
       "    }\n",
       "\n",
       "    .dataframe thead th {\n",
       "        text-align: right;\n",
       "    }\n",
       "</style>\n",
       "<table border=\"1\" class=\"dataframe\">\n",
       "  <thead>\n",
       "    <tr style=\"text-align: right;\">\n",
       "      <th></th>\n",
       "      <th>survived</th>\n",
       "      <th>pclass</th>\n",
       "      <th>sex</th>\n",
       "      <th>age</th>\n",
       "      <th>sibsp</th>\n",
       "      <th>parch</th>\n",
       "      <th>fare</th>\n",
       "      <th>embarked</th>\n",
       "      <th>class</th>\n",
       "      <th>who</th>\n",
       "      <th>adult_male</th>\n",
       "      <th>deck</th>\n",
       "      <th>embark_town</th>\n",
       "      <th>alive</th>\n",
       "      <th>alone</th>\n",
       "      <th>age_group</th>\n",
       "    </tr>\n",
       "  </thead>\n",
       "  <tbody>\n",
       "    <tr>\n",
       "      <th>0</th>\n",
       "      <td>0</td>\n",
       "      <td>3</td>\n",
       "      <td>male</td>\n",
       "      <td>22.000000</td>\n",
       "      <td>1</td>\n",
       "      <td>0</td>\n",
       "      <td>7.2500</td>\n",
       "      <td>S</td>\n",
       "      <td>Third</td>\n",
       "      <td>man</td>\n",
       "      <td>True</td>\n",
       "      <td>Unknown</td>\n",
       "      <td>Southampton</td>\n",
       "      <td>no</td>\n",
       "      <td>False</td>\n",
       "      <td>(15, 25]</td>\n",
       "    </tr>\n",
       "    <tr>\n",
       "      <th>1</th>\n",
       "      <td>1</td>\n",
       "      <td>1</td>\n",
       "      <td>female</td>\n",
       "      <td>38.000000</td>\n",
       "      <td>1</td>\n",
       "      <td>0</td>\n",
       "      <td>71.2833</td>\n",
       "      <td>C</td>\n",
       "      <td>First</td>\n",
       "      <td>woman</td>\n",
       "      <td>False</td>\n",
       "      <td>C</td>\n",
       "      <td>Cherbourg</td>\n",
       "      <td>yes</td>\n",
       "      <td>False</td>\n",
       "      <td>(35, 45]</td>\n",
       "    </tr>\n",
       "    <tr>\n",
       "      <th>2</th>\n",
       "      <td>1</td>\n",
       "      <td>3</td>\n",
       "      <td>female</td>\n",
       "      <td>26.000000</td>\n",
       "      <td>0</td>\n",
       "      <td>0</td>\n",
       "      <td>7.9250</td>\n",
       "      <td>S</td>\n",
       "      <td>Third</td>\n",
       "      <td>woman</td>\n",
       "      <td>False</td>\n",
       "      <td>Unknown</td>\n",
       "      <td>Southampton</td>\n",
       "      <td>yes</td>\n",
       "      <td>True</td>\n",
       "      <td>(25, 35]</td>\n",
       "    </tr>\n",
       "    <tr>\n",
       "      <th>3</th>\n",
       "      <td>1</td>\n",
       "      <td>1</td>\n",
       "      <td>female</td>\n",
       "      <td>35.000000</td>\n",
       "      <td>1</td>\n",
       "      <td>0</td>\n",
       "      <td>53.1000</td>\n",
       "      <td>S</td>\n",
       "      <td>First</td>\n",
       "      <td>woman</td>\n",
       "      <td>False</td>\n",
       "      <td>C</td>\n",
       "      <td>Southampton</td>\n",
       "      <td>yes</td>\n",
       "      <td>False</td>\n",
       "      <td>(25, 35]</td>\n",
       "    </tr>\n",
       "    <tr>\n",
       "      <th>4</th>\n",
       "      <td>0</td>\n",
       "      <td>3</td>\n",
       "      <td>male</td>\n",
       "      <td>35.000000</td>\n",
       "      <td>0</td>\n",
       "      <td>0</td>\n",
       "      <td>8.0500</td>\n",
       "      <td>S</td>\n",
       "      <td>Third</td>\n",
       "      <td>man</td>\n",
       "      <td>True</td>\n",
       "      <td>Unknown</td>\n",
       "      <td>Southampton</td>\n",
       "      <td>no</td>\n",
       "      <td>True</td>\n",
       "      <td>(25, 35]</td>\n",
       "    </tr>\n",
       "    <tr>\n",
       "      <th>...</th>\n",
       "      <td>...</td>\n",
       "      <td>...</td>\n",
       "      <td>...</td>\n",
       "      <td>...</td>\n",
       "      <td>...</td>\n",
       "      <td>...</td>\n",
       "      <td>...</td>\n",
       "      <td>...</td>\n",
       "      <td>...</td>\n",
       "      <td>...</td>\n",
       "      <td>...</td>\n",
       "      <td>...</td>\n",
       "      <td>...</td>\n",
       "      <td>...</td>\n",
       "      <td>...</td>\n",
       "      <td>...</td>\n",
       "    </tr>\n",
       "    <tr>\n",
       "      <th>886</th>\n",
       "      <td>0</td>\n",
       "      <td>2</td>\n",
       "      <td>male</td>\n",
       "      <td>27.000000</td>\n",
       "      <td>0</td>\n",
       "      <td>0</td>\n",
       "      <td>13.0000</td>\n",
       "      <td>S</td>\n",
       "      <td>Second</td>\n",
       "      <td>man</td>\n",
       "      <td>True</td>\n",
       "      <td>Unknown</td>\n",
       "      <td>Southampton</td>\n",
       "      <td>no</td>\n",
       "      <td>True</td>\n",
       "      <td>(25, 35]</td>\n",
       "    </tr>\n",
       "    <tr>\n",
       "      <th>887</th>\n",
       "      <td>1</td>\n",
       "      <td>1</td>\n",
       "      <td>female</td>\n",
       "      <td>19.000000</td>\n",
       "      <td>0</td>\n",
       "      <td>0</td>\n",
       "      <td>30.0000</td>\n",
       "      <td>S</td>\n",
       "      <td>First</td>\n",
       "      <td>woman</td>\n",
       "      <td>False</td>\n",
       "      <td>B</td>\n",
       "      <td>Southampton</td>\n",
       "      <td>yes</td>\n",
       "      <td>True</td>\n",
       "      <td>(15, 25]</td>\n",
       "    </tr>\n",
       "    <tr>\n",
       "      <th>888</th>\n",
       "      <td>0</td>\n",
       "      <td>3</td>\n",
       "      <td>female</td>\n",
       "      <td>31.333333</td>\n",
       "      <td>1</td>\n",
       "      <td>2</td>\n",
       "      <td>23.4500</td>\n",
       "      <td>S</td>\n",
       "      <td>Third</td>\n",
       "      <td>woman</td>\n",
       "      <td>False</td>\n",
       "      <td>Unknown</td>\n",
       "      <td>Southampton</td>\n",
       "      <td>no</td>\n",
       "      <td>False</td>\n",
       "      <td>(25, 35]</td>\n",
       "    </tr>\n",
       "    <tr>\n",
       "      <th>889</th>\n",
       "      <td>1</td>\n",
       "      <td>1</td>\n",
       "      <td>male</td>\n",
       "      <td>26.000000</td>\n",
       "      <td>0</td>\n",
       "      <td>0</td>\n",
       "      <td>30.0000</td>\n",
       "      <td>C</td>\n",
       "      <td>First</td>\n",
       "      <td>man</td>\n",
       "      <td>True</td>\n",
       "      <td>C</td>\n",
       "      <td>Cherbourg</td>\n",
       "      <td>yes</td>\n",
       "      <td>True</td>\n",
       "      <td>(25, 35]</td>\n",
       "    </tr>\n",
       "    <tr>\n",
       "      <th>890</th>\n",
       "      <td>0</td>\n",
       "      <td>3</td>\n",
       "      <td>male</td>\n",
       "      <td>32.000000</td>\n",
       "      <td>0</td>\n",
       "      <td>0</td>\n",
       "      <td>7.7500</td>\n",
       "      <td>Q</td>\n",
       "      <td>Third</td>\n",
       "      <td>man</td>\n",
       "      <td>True</td>\n",
       "      <td>Unknown</td>\n",
       "      <td>Queenstown</td>\n",
       "      <td>no</td>\n",
       "      <td>True</td>\n",
       "      <td>(25, 35]</td>\n",
       "    </tr>\n",
       "  </tbody>\n",
       "</table>\n",
       "<p>891 rows × 16 columns</p>\n",
       "</div>"
      ],
      "text/plain": [
       "     survived  pclass     sex        age  ...  embark_town  alive  alone age_group\n",
       "0           0       3    male  22.000000  ...  Southampton     no  False  (15, 25]\n",
       "1           1       1  female  38.000000  ...    Cherbourg    yes  False  (35, 45]\n",
       "2           1       3  female  26.000000  ...  Southampton    yes   True  (25, 35]\n",
       "3           1       1  female  35.000000  ...  Southampton    yes  False  (25, 35]\n",
       "4           0       3    male  35.000000  ...  Southampton     no   True  (25, 35]\n",
       "..        ...     ...     ...        ...  ...          ...    ...    ...       ...\n",
       "886         0       2    male  27.000000  ...  Southampton     no   True  (25, 35]\n",
       "887         1       1  female  19.000000  ...  Southampton    yes   True  (15, 25]\n",
       "888         0       3  female  31.333333  ...  Southampton     no  False  (25, 35]\n",
       "889         1       1    male  26.000000  ...    Cherbourg    yes   True  (25, 35]\n",
       "890         0       3    male  32.000000  ...   Queenstown     no   True  (25, 35]\n",
       "\n",
       "[891 rows x 16 columns]"
      ]
     },
     "execution_count": 69,
     "metadata": {
      "tags": []
     },
     "output_type": "execute_result"
    }
   ],
   "source": [
    "titanic"
   ]
  },
  {
   "cell_type": "code",
   "execution_count": null,
   "metadata": {
    "id": "5FrtaBITVX1I"
   },
   "outputs": [],
   "source": [
    "# Tao bien bang bien chi bao (female & first class)"
   ]
  },
  {
   "cell_type": "code",
   "execution_count": 19,
   "metadata": {},
   "outputs": [
    {
     "data": {
      "image/png": "[encoded data removed]",
      "text/plain": [
       "<Figure size 432x648 with 6 Axes>"
      ]
     },
     "metadata": {
      "needs_background": "light"
     },
     "output_type": "display_data"
    }
   ],
   "source": [
    "# Check sự liên hệ giữa female, class và survived\n",
    "grid = sns.FacetGrid(\n",
    "    data = titanic,\n",
    "    row = 'pclass',\n",
    "    col='sex',\n",
    "    hue='survived',\n",
    ")\n",
    "grid.map(sns.scatterplot,'age','fare')\n",
    "plt.show()"
   ]
  },
  {
   "cell_type": "code",
   "execution_count": 20,
   "metadata": {
    "colab": {
     "base_uri": "https://localhost:8080/"
    },
    "executionInfo": {
     "elapsed": 605,
     "status": "ok",
     "timestamp": 1627567883062,
     "user": {
      "displayName": "Samuel Doan",
      "photoUrl": "https://lh3.googleusercontent.com/a-/AOh14GjbcdQ40FcyCSIyitBN2ptY3zHWA_09harKPYF2=s64",
      "userId": "04384888964432338542"
     },
     "user_tz": -420
    },
    "id": "Re_vuRBsmO-3",
    "outputId": "fd489e70-7c1d-44c7-c166-583333d8a88e"
   },
   "outputs": [
    {
     "data": {
      "text/plain": [
       "0      False\n",
       "1       True\n",
       "2      False\n",
       "3       True\n",
       "4      False\n",
       "       ...  \n",
       "886    False\n",
       "887     True\n",
       "888    False\n",
       "889    False\n",
       "890    False\n",
       "Length: 891, dtype: bool"
      ]
     },
     "execution_count": 20,
     "metadata": {},
     "output_type": "execute_result"
    }
   ],
   "source": [
    "filter1 = titanic['sex'] == 'female'\n",
    "filter2 = titanic['pclass'] < 3\n",
    "(filter1 & filter2)"
   ]
  },
  {
   "cell_type": "code",
   "execution_count": 21,
   "metadata": {
    "colab": {
     "base_uri": "https://localhost:8080/",
     "height": 424
    },
    "executionInfo": {
     "elapsed": 666,
     "status": "ok",
     "timestamp": 1627567937444,
     "user": {
      "displayName": "Samuel Doan",
      "photoUrl": "https://lh3.googleusercontent.com/a-/AOh14GjbcdQ40FcyCSIyitBN2ptY3zHWA_09harKPYF2=s64",
      "userId": "04384888964432338542"
     },
     "user_tz": -420
    },
    "id": "BOOBF9_2m0KN",
    "outputId": "546cbaae-b9bc-401f-d7c4-1c482c89307f"
   },
   "outputs": [
    {
     "data": {
      "text/html": [
       "<div>\n",
       "<style scoped>\n",
       "    .dataframe tbody tr th:only-of-type {\n",
       "        vertical-align: middle;\n",
       "    }\n",
       "\n",
       "    .dataframe tbody tr th {\n",
       "        vertical-align: top;\n",
       "    }\n",
       "\n",
       "    .dataframe thead th {\n",
       "        text-align: right;\n",
       "    }\n",
       "</style>\n",
       "<table border=\"1\" class=\"dataframe\">\n",
       "  <thead>\n",
       "    <tr style=\"text-align: right;\">\n",
       "      <th></th>\n",
       "      <th>survived</th>\n",
       "      <th>pclass</th>\n",
       "      <th>sex</th>\n",
       "      <th>age</th>\n",
       "      <th>sibsp</th>\n",
       "      <th>parch</th>\n",
       "      <th>fare</th>\n",
       "      <th>embarked</th>\n",
       "      <th>class</th>\n",
       "      <th>who</th>\n",
       "      <th>adult_male</th>\n",
       "      <th>deck</th>\n",
       "      <th>embark_town</th>\n",
       "      <th>alive</th>\n",
       "      <th>alone</th>\n",
       "      <th>age_group</th>\n",
       "      <th>female_from_2nd_class</th>\n",
       "    </tr>\n",
       "  </thead>\n",
       "  <tbody>\n",
       "    <tr>\n",
       "      <th>0</th>\n",
       "      <td>0</td>\n",
       "      <td>3</td>\n",
       "      <td>male</td>\n",
       "      <td>22.000000</td>\n",
       "      <td>1</td>\n",
       "      <td>0</td>\n",
       "      <td>7.2500</td>\n",
       "      <td>S</td>\n",
       "      <td>Third</td>\n",
       "      <td>man</td>\n",
       "      <td>True</td>\n",
       "      <td>F</td>\n",
       "      <td>Southampton</td>\n",
       "      <td>no</td>\n",
       "      <td>False</td>\n",
       "      <td>(15, 25]</td>\n",
       "      <td>False</td>\n",
       "    </tr>\n",
       "    <tr>\n",
       "      <th>1</th>\n",
       "      <td>1</td>\n",
       "      <td>1</td>\n",
       "      <td>female</td>\n",
       "      <td>38.000000</td>\n",
       "      <td>1</td>\n",
       "      <td>0</td>\n",
       "      <td>71.2833</td>\n",
       "      <td>C</td>\n",
       "      <td>First</td>\n",
       "      <td>woman</td>\n",
       "      <td>False</td>\n",
       "      <td>C</td>\n",
       "      <td>Cherbourg</td>\n",
       "      <td>yes</td>\n",
       "      <td>False</td>\n",
       "      <td>(35, 45]</td>\n",
       "      <td>True</td>\n",
       "    </tr>\n",
       "    <tr>\n",
       "      <th>2</th>\n",
       "      <td>1</td>\n",
       "      <td>3</td>\n",
       "      <td>female</td>\n",
       "      <td>26.000000</td>\n",
       "      <td>0</td>\n",
       "      <td>0</td>\n",
       "      <td>7.9250</td>\n",
       "      <td>S</td>\n",
       "      <td>Third</td>\n",
       "      <td>woman</td>\n",
       "      <td>False</td>\n",
       "      <td>F</td>\n",
       "      <td>Southampton</td>\n",
       "      <td>yes</td>\n",
       "      <td>True</td>\n",
       "      <td>(25, 35]</td>\n",
       "      <td>False</td>\n",
       "    </tr>\n",
       "    <tr>\n",
       "      <th>3</th>\n",
       "      <td>1</td>\n",
       "      <td>1</td>\n",
       "      <td>female</td>\n",
       "      <td>35.000000</td>\n",
       "      <td>1</td>\n",
       "      <td>0</td>\n",
       "      <td>53.1000</td>\n",
       "      <td>S</td>\n",
       "      <td>First</td>\n",
       "      <td>woman</td>\n",
       "      <td>False</td>\n",
       "      <td>C</td>\n",
       "      <td>Southampton</td>\n",
       "      <td>yes</td>\n",
       "      <td>False</td>\n",
       "      <td>(25, 35]</td>\n",
       "      <td>True</td>\n",
       "    </tr>\n",
       "    <tr>\n",
       "      <th>4</th>\n",
       "      <td>0</td>\n",
       "      <td>3</td>\n",
       "      <td>male</td>\n",
       "      <td>35.000000</td>\n",
       "      <td>0</td>\n",
       "      <td>0</td>\n",
       "      <td>8.0500</td>\n",
       "      <td>S</td>\n",
       "      <td>Third</td>\n",
       "      <td>man</td>\n",
       "      <td>True</td>\n",
       "      <td>F</td>\n",
       "      <td>Southampton</td>\n",
       "      <td>no</td>\n",
       "      <td>True</td>\n",
       "      <td>(25, 35]</td>\n",
       "      <td>False</td>\n",
       "    </tr>\n",
       "    <tr>\n",
       "      <th>...</th>\n",
       "      <td>...</td>\n",
       "      <td>...</td>\n",
       "      <td>...</td>\n",
       "      <td>...</td>\n",
       "      <td>...</td>\n",
       "      <td>...</td>\n",
       "      <td>...</td>\n",
       "      <td>...</td>\n",
       "      <td>...</td>\n",
       "      <td>...</td>\n",
       "      <td>...</td>\n",
       "      <td>...</td>\n",
       "      <td>...</td>\n",
       "      <td>...</td>\n",
       "      <td>...</td>\n",
       "      <td>...</td>\n",
       "      <td>...</td>\n",
       "    </tr>\n",
       "    <tr>\n",
       "      <th>886</th>\n",
       "      <td>0</td>\n",
       "      <td>2</td>\n",
       "      <td>male</td>\n",
       "      <td>27.000000</td>\n",
       "      <td>0</td>\n",
       "      <td>0</td>\n",
       "      <td>13.0000</td>\n",
       "      <td>S</td>\n",
       "      <td>Second</td>\n",
       "      <td>man</td>\n",
       "      <td>True</td>\n",
       "      <td>F</td>\n",
       "      <td>Southampton</td>\n",
       "      <td>no</td>\n",
       "      <td>True</td>\n",
       "      <td>(25, 35]</td>\n",
       "      <td>False</td>\n",
       "    </tr>\n",
       "    <tr>\n",
       "      <th>887</th>\n",
       "      <td>1</td>\n",
       "      <td>1</td>\n",
       "      <td>female</td>\n",
       "      <td>19.000000</td>\n",
       "      <td>0</td>\n",
       "      <td>0</td>\n",
       "      <td>30.0000</td>\n",
       "      <td>S</td>\n",
       "      <td>First</td>\n",
       "      <td>woman</td>\n",
       "      <td>False</td>\n",
       "      <td>B</td>\n",
       "      <td>Southampton</td>\n",
       "      <td>yes</td>\n",
       "      <td>True</td>\n",
       "      <td>(15, 25]</td>\n",
       "      <td>True</td>\n",
       "    </tr>\n",
       "    <tr>\n",
       "      <th>888</th>\n",
       "      <td>0</td>\n",
       "      <td>3</td>\n",
       "      <td>female</td>\n",
       "      <td>6.369518</td>\n",
       "      <td>1</td>\n",
       "      <td>2</td>\n",
       "      <td>23.4500</td>\n",
       "      <td>S</td>\n",
       "      <td>Third</td>\n",
       "      <td>woman</td>\n",
       "      <td>False</td>\n",
       "      <td>F</td>\n",
       "      <td>Southampton</td>\n",
       "      <td>no</td>\n",
       "      <td>False</td>\n",
       "      <td>(0, 15]</td>\n",
       "      <td>False</td>\n",
       "    </tr>\n",
       "    <tr>\n",
       "      <th>889</th>\n",
       "      <td>1</td>\n",
       "      <td>1</td>\n",
       "      <td>male</td>\n",
       "      <td>26.000000</td>\n",
       "      <td>0</td>\n",
       "      <td>0</td>\n",
       "      <td>30.0000</td>\n",
       "      <td>C</td>\n",
       "      <td>First</td>\n",
       "      <td>man</td>\n",
       "      <td>True</td>\n",
       "      <td>C</td>\n",
       "      <td>Cherbourg</td>\n",
       "      <td>yes</td>\n",
       "      <td>True</td>\n",
       "      <td>(25, 35]</td>\n",
       "      <td>False</td>\n",
       "    </tr>\n",
       "    <tr>\n",
       "      <th>890</th>\n",
       "      <td>0</td>\n",
       "      <td>3</td>\n",
       "      <td>male</td>\n",
       "      <td>32.000000</td>\n",
       "      <td>0</td>\n",
       "      <td>0</td>\n",
       "      <td>7.7500</td>\n",
       "      <td>Q</td>\n",
       "      <td>Third</td>\n",
       "      <td>man</td>\n",
       "      <td>True</td>\n",
       "      <td>F</td>\n",
       "      <td>Queenstown</td>\n",
       "      <td>no</td>\n",
       "      <td>True</td>\n",
       "      <td>(25, 35]</td>\n",
       "      <td>False</td>\n",
       "    </tr>\n",
       "  </tbody>\n",
       "</table>\n",
       "<p>891 rows × 17 columns</p>\n",
       "</div>"
      ],
      "text/plain": [
       "     survived  pclass     sex        age  sibsp  parch     fare embarked  \\\n",
       "0           0       3    male  22.000000      1      0   7.2500        S   \n",
       "1           1       1  female  38.000000      1      0  71.2833        C   \n",
       "2           1       3  female  26.000000      0      0   7.9250        S   \n",
       "3           1       1  female  35.000000      1      0  53.1000        S   \n",
       "4           0       3    male  35.000000      0      0   8.0500        S   \n",
       "..        ...     ...     ...        ...    ...    ...      ...      ...   \n",
       "886         0       2    male  27.000000      0      0  13.0000        S   \n",
       "887         1       1  female  19.000000      0      0  30.0000        S   \n",
       "888         0       3  female   6.369518      1      2  23.4500        S   \n",
       "889         1       1    male  26.000000      0      0  30.0000        C   \n",
       "890         0       3    male  32.000000      0      0   7.7500        Q   \n",
       "\n",
       "      class    who  adult_male deck  embark_town alive  alone age_group  \\\n",
       "0     Third    man        True    F  Southampton    no  False  (15, 25]   \n",
       "1     First  woman       False    C    Cherbourg   yes  False  (35, 45]   \n",
       "2     Third  woman       False    F  Southampton   yes   True  (25, 35]   \n",
       "3     First  woman       False    C  Southampton   yes  False  (25, 35]   \n",
       "4     Third    man        True    F  Southampton    no   True  (25, 35]   \n",
       "..      ...    ...         ...  ...          ...   ...    ...       ...   \n",
       "886  Second    man        True    F  Southampton    no   True  (25, 35]   \n",
       "887   First  woman       False    B  Southampton   yes   True  (15, 25]   \n",
       "888   Third  woman       False    F  Southampton    no  False   (0, 15]   \n",
       "889   First    man        True    C    Cherbourg   yes   True  (25, 35]   \n",
       "890   Third    man        True    F   Queenstown    no   True  (25, 35]   \n",
       "\n",
       "     female_from_2nd_class  \n",
       "0                    False  \n",
       "1                     True  \n",
       "2                    False  \n",
       "3                     True  \n",
       "4                    False  \n",
       "..                     ...  \n",
       "886                  False  \n",
       "887                   True  \n",
       "888                  False  \n",
       "889                  False  \n",
       "890                  False  \n",
       "\n",
       "[891 rows x 17 columns]"
      ]
     },
     "execution_count": 21,
     "metadata": {},
     "output_type": "execute_result"
    }
   ],
   "source": [
    "titanic['female_from_2nd_class'] = (filter1 & filter2)\n",
    "titanic"
   ]
  },
  {
   "cell_type": "code",
   "execution_count": null,
   "metadata": {
    "id": "RWSaNTdYVX1U"
   },
   "outputs": [],
   "source": [
    "# Tao bien bang tinh z-score (bien doi phan phoi)"
   ]
  },
  {
   "cell_type": "code",
   "execution_count": 74,
   "metadata": {
    "colab": {
     "base_uri": "https://localhost:8080/",
     "height": 297
    },
    "executionInfo": {
     "elapsed": 1004,
     "status": "ok",
     "timestamp": 1627568059145,
     "user": {
      "displayName": "Samuel Doan",
      "photoUrl": "https://lh3.googleusercontent.com/a-/AOh14GjbcdQ40FcyCSIyitBN2ptY3zHWA_09harKPYF2=s64",
      "userId": "04384888964432338542"
     },
     "user_tz": -420
    },
    "id": "LMJ6lOmnnI6K",
    "outputId": "3d894f4c-e28f-4b4e-f676-b65272e8831f"
   },
   "outputs": [
    {
     "data": {
      "text/plain": [
       "<matplotlib.axes._subplots.AxesSubplot at 0x7f94fca87e90>"
      ]
     },
     "execution_count": 74,
     "metadata": {
      "tags": []
     },
     "output_type": "execute_result"
    },
    {
     "data": {
      "image/png": "[encoded data removed]",
      "text/plain": [
       "<Figure size 432x288 with 1 Axes>"
      ]
     },
     "metadata": {
      "needs_background": "light",
      "tags": []
     },
     "output_type": "display_data"
    }
   ],
   "source": [
    "sns.histplot(titanic, x='fare', hue='survived', kde=True)"
   ]
  },
  {
   "cell_type": "code",
   "execution_count": 22,
   "metadata": {
    "colab": {
     "base_uri": "https://localhost:8080/"
    },
    "executionInfo": {
     "elapsed": 561,
     "status": "ok",
     "timestamp": 1627568143025,
     "user": {
      "displayName": "Samuel Doan",
      "photoUrl": "https://lh3.googleusercontent.com/a-/AOh14GjbcdQ40FcyCSIyitBN2ptY3zHWA_09harKPYF2=s64",
      "userId": "04384888964432338542"
     },
     "user_tz": -420
    },
    "id": "hSo6oqUNnjkb",
    "outputId": "1abf10ad-618b-4131-9b4e-4d7717c35594"
   },
   "outputs": [],
   "source": [
    "ser= np.log1p(titanic['fare'])\n",
    "# Để làm mềm phân phối, do phân phối có outlier."
   ]
  },
  {
   "cell_type": "code",
   "execution_count": 82,
   "metadata": {
    "colab": {
     "base_uri": "https://localhost:8080/"
    },
    "executionInfo": {
     "elapsed": 645,
     "status": "ok",
     "timestamp": 1627568504679,
     "user": {
      "displayName": "Samuel Doan",
      "photoUrl": "https://lh3.googleusercontent.com/a-/AOh14GjbcdQ40FcyCSIyitBN2ptY3zHWA_09harKPYF2=s64",
      "userId": "04384888964432338542"
     },
     "user_tz": -420
    },
    "id": "UGQgGwXJnyZd",
    "outputId": "7279e125-462e-40f8-c763-f47480c86b99"
   },
   "outputs": [
    {
     "data": {
      "text/plain": [
       "0      1.981001\n",
       "1      4.266662\n",
       "2      2.070022\n",
       "3      3.972177\n",
       "4      2.085672\n",
       "         ...   \n",
       "886    2.564949\n",
       "887    3.401197\n",
       "888    3.154870\n",
       "889    3.401197\n",
       "890    2.047693\n",
       "Name: fare, Length: 891, dtype: float64"
      ]
     },
     "execution_count": 82,
     "metadata": {
      "tags": []
     },
     "output_type": "execute_result"
    }
   ],
   "source": [
    "ser = np.log(titanic['fare'].where(titanic['fare'] > 0, 1)) # where của pandas => nhận vào 1 điều kiện, nếu ko đáp ứng đc điều kiện, nó sẽ nhận giá trị mà mình quy định\n",
    "ser"
   ]
  },
  {
   "cell_type": "code",
   "execution_count": 23,
   "metadata": {
    "colab": {
     "base_uri": "https://localhost:8080/",
     "height": 297
    },
    "executionInfo": {
     "elapsed": 757,
     "status": "ok",
     "timestamp": 1627568526725,
     "user": {
      "displayName": "Samuel Doan",
      "photoUrl": "https://lh3.googleusercontent.com/a-/AOh14GjbcdQ40FcyCSIyitBN2ptY3zHWA_09harKPYF2=s64",
      "userId": "04384888964432338542"
     },
     "user_tz": -420
    },
    "id": "W-5o1-c7pIoj",
    "outputId": "1e5cf1f7-35bd-4ad1-b173-ea601d463d02"
   },
   "outputs": [
    {
     "data": {
      "text/plain": [
       "<AxesSubplot:xlabel='fare', ylabel='Count'>"
      ]
     },
     "execution_count": 23,
     "metadata": {},
     "output_type": "execute_result"
    },
    {
     "data": {
      "image/png": "[encoded data removed]",
      "text/plain": [
       "<Figure size 432x288 with 1 Axes>"
      ]
     },
     "metadata": {
      "needs_background": "light"
     },
     "output_type": "display_data"
    }
   ],
   "source": [
    "sns.histplot(ser, kde=True)"
   ]
  },
  {
   "cell_type": "code",
   "execution_count": 87,
   "metadata": {
    "colab": {
     "base_uri": "https://localhost:8080/"
    },
    "executionInfo": {
     "elapsed": 595,
     "status": "ok",
     "timestamp": 1627568682536,
     "user": {
      "displayName": "Samuel Doan",
      "photoUrl": "https://lh3.googleusercontent.com/a-/AOh14GjbcdQ40FcyCSIyitBN2ptY3zHWA_09harKPYF2=s64",
      "userId": "04384888964432338542"
     },
     "user_tz": -420
    },
    "id": "WMp5_BzapTlq",
    "outputId": "529bae29-59be-4fe1-d191-00673e3dedc3"
   },
   "outputs": [
    {
     "data": {
      "text/plain": [
       "(2.893846237920027, 1.0028989322884627)"
      ]
     },
     "execution_count": 87,
     "metadata": {
      "tags": []
     },
     "output_type": "execute_result"
    }
   ],
   "source": [
    "# Tính z-score - để standardize dữ liệu có các range lớn - nhỏ chuyển về z-score\n",
    "ser.mean(), ser.std()"
   ]
  },
  {
   "cell_type": "code",
   "execution_count": 90,
   "metadata": {
    "colab": {
     "base_uri": "https://localhost:8080/"
    },
    "executionInfo": {
     "elapsed": 563,
     "status": "ok",
     "timestamp": 1627568732457,
     "user": {
      "displayName": "Samuel Doan",
      "photoUrl": "https://lh3.googleusercontent.com/a-/AOh14GjbcdQ40FcyCSIyitBN2ptY3zHWA_09harKPYF2=s64",
      "userId": "04384888964432338542"
     },
     "user_tz": -420
    },
    "id": "0wcGEdwVp0o1",
    "outputId": "7afdbe74-7d7c-4153-d469-3d03a269886e"
   },
   "outputs": [
    {
     "data": {
      "text/plain": [
       "0     -0.910206\n",
       "1      1.368848\n",
       "2     -0.821443\n",
       "3      1.075214\n",
       "4     -0.805838\n",
       "         ...   \n",
       "886   -0.327946\n",
       "887    0.505885\n",
       "888    0.260270\n",
       "889    0.505885\n",
       "890   -0.843708\n",
       "Name: fare, Length: 891, dtype: float64"
      ]
     },
     "execution_count": 90,
     "metadata": {
      "tags": []
     },
     "output_type": "execute_result"
    }
   ],
   "source": [
    "new_ser = (ser - ser.mean())/ser.std()\n",
    "new_ser"
   ]
  },
  {
   "cell_type": "code",
   "execution_count": 92,
   "metadata": {
    "colab": {
     "base_uri": "https://localhost:8080/",
     "height": 297
    },
    "executionInfo": {
     "elapsed": 38,
     "status": "ok",
     "timestamp": 1627568775643,
     "user": {
      "displayName": "Samuel Doan",
      "photoUrl": "https://lh3.googleusercontent.com/a-/AOh14GjbcdQ40FcyCSIyitBN2ptY3zHWA_09harKPYF2=s64",
      "userId": "04384888964432338542"
     },
     "user_tz": -420
    },
    "id": "DsGbeoVTqAG2",
    "outputId": "9a5ae228-26e8-4ad9-90b7-1eac1649ad7e"
   },
   "outputs": [
    {
     "data": {
      "text/plain": [
       "<matplotlib.axes._subplots.AxesSubplot at 0x7f94fc903850>"
      ]
     },
     "execution_count": 92,
     "metadata": {
      "tags": []
     },
     "output_type": "execute_result"
    },
    {
     "data": {
      "image/png": "[encoded data removed]",
      "text/plain": [
       "<Figure size 432x288 with 1 Axes>"
      ]
     },
     "metadata": {
      "needs_background": "light",
      "tags": []
     },
     "output_type": "display_data"
    }
   ],
   "source": [
    "sns.histplot(new_ser, kde=True)"
   ]
  },
  {
   "cell_type": "code",
   "execution_count": 94,
   "metadata": {
    "colab": {
     "base_uri": "https://localhost:8080/"
    },
    "executionInfo": {
     "elapsed": 685,
     "status": "ok",
     "timestamp": 1627568839802,
     "user": {
      "displayName": "Samuel Doan",
      "photoUrl": "https://lh3.googleusercontent.com/a-/AOh14GjbcdQ40FcyCSIyitBN2ptY3zHWA_09harKPYF2=s64",
      "userId": "04384888964432338542"
     },
     "user_tz": -420
    },
    "id": "IcE42DOZqSwu",
    "outputId": "aa155145-9f4a-4c66-aba2-a99f63276d5b"
   },
   "outputs": [
    {
     "data": {
      "text/plain": [
       "(-9.461193519617075e-16, 1.0000000000000013)"
      ]
     },
     "execution_count": 94,
     "metadata": {
      "tags": []
     },
     "output_type": "execute_result"
    }
   ],
   "source": [
    "new_ser.mean(), new_ser.std()"
   ]
  },
  {
   "cell_type": "code",
   "execution_count": null,
   "metadata": {
    "id": "8RIYj7rdVX1V"
   },
   "outputs": [],
   "source": [
    "## Data Sampling"
   ]
  },
  {
   "cell_type": "code",
   "execution_count": null,
   "metadata": {
    "id": "MEmkoh2RVX1d"
   },
   "outputs": [],
   "source": [
    "# Tinh ti le survived"
   ]
  },
  {
   "cell_type": "code",
   "execution_count": null,
   "metadata": {
    "id": "nwvUJ3_bVX1f"
   },
   "outputs": [],
   "source": [
    "# Random sampling"
   ]
  },
  {
   "cell_type": "code",
   "execution_count": null,
   "metadata": {
    "id": "aoN3f8uGVX1g"
   },
   "outputs": [],
   "source": [
    "# Sampling vs Bootstrap"
   ]
  },
  {
   "cell_type": "code",
   "execution_count": null,
   "metadata": {
    "id": "6XQ3eOc0VX1h"
   },
   "outputs": [],
   "source": [
    "# Sampling bang scikit learn"
   ]
  }
 ],
 "metadata": {
  "colab": {
   "name": "Lecture_03_inclass.ipynb",
   "provenance": []
  },
  "kernelspec": {
   "display_name": "Python 3 (ipykernel)",
   "language": "python",
   "name": "python3"
  },
  "language_info": {
   "codemirror_mode": {
    "name": "ipython",
    "version": 3
   },
   "file_extension": ".py",
   "mimetype": "text/x-python",
   "name": "python",
   "nbconvert_exporter": "python",
   "pygments_lexer": "ipython3",
   "version": "3.7.11"
  }
 },
 "nbformat": 4,
 "nbformat_minor": 4
}
