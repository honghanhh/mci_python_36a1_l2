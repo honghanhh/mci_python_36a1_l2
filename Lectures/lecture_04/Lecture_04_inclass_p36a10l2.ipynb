<<<<<<< HEAD
{"nbformat":4,"nbformat_minor":0,"metadata":{"colab":{"name":"Lecture_04_inclass_p36a10l2.ipynb","provenance":[],"collapsed_sections":[],"toc_visible":true},"interpreter":{"hash":"5766e98b5d8e70b45afd220e0f2454ec29c81bf3c8bc5514ce6b4a9adc9bbf04"},"kernelspec":{"display_name":"Python 3.8.10 64-bit","name":"python3"},"language_info":{"codemirror_mode":{"name":"ipython","version":3},"file_extension":".py","mimetype":"text/x-python","name":"python","nbconvert_exporter":"python","pygments_lexer":"ipython3","version":"3.8.10"}},"cells":[{"cell_type":"markdown","metadata":{"id":"OQj36lMPVXyn"},"source":["# Machine Learning Model - Feature Engineering (Tổng hợp biến phái sinh)"]},{"cell_type":"code","metadata":{"id":"beYD2pxmVXzH"},"source":["# Ví dụ dữ liệu Nominal và Ordinal\n","# Ví dụ dữ liệu Nominal\n","arr2 = ['bò sát', 'có vú', 'gia cầm', 'giáp xác']\n","\n","# Ví dụ biến dạng Ordinal\n","# Trình độ học vấn\n","arr = ['cấp 1', 'cấp 2', 'cấp 3', 'đại học', 'sau đại học'] # => sự sắp xếp nhất định\n","arr_int = [1, 2, 3, 4, 5]\n","\n","# Cấp bậc trong công ty\n","arr1 = ['nhân viên', 'nhóm trưởng', 'trưởng phòng', 'giám đốc chi nhánh', 'giám đốc vùng'] # => thứ tự nhất định\n","\n","# Nominal dữ liệu chữ nhưng ko có giá trị để sắp xếp\n"],"execution_count":null,"outputs":[]},{"cell_type":"code","metadata":{"id":"c5pGMH-lbRvV"},"source":["# Biến dạng số\n","# Continuous - liên tục\n","# Số thập phân \n","# 0.1 0.11 0.111 0.112 0.1111\n","\n","# Discrete - rời rạc\n","# Số nguyên\n","# 1 2 3 4 5 6"],"execution_count":null,"outputs":[]},{"cell_type":"code","metadata":{"id":"gX0KodZyVXzN"},"source":["import numpy as np\n","import pandas as pd\n","\n","import matplotlib.pyplot as plt\n","import seaborn as sns\n","%matplotlib inline"],"execution_count":null,"outputs":[]},{"cell_type":"markdown","metadata":{"id":"Icdp-mLS8H1y"},"source":["## Dữ liệu Titanic"]},{"cell_type":"code","metadata":{"colab":{"base_uri":"https://localhost:8080/","height":615},"id":"hL6VbrBXVXzQ","executionInfo":{"elapsed":1205,"status":"ok","timestamp":1635509147931,"user":{"displayName":"Samuel Doan","photoUrl":"https://lh3.googleusercontent.com/a-/AOh14GjbcdQ40FcyCSIyitBN2ptY3zHWA_09harKPYF2=s64","userId":"04384888964432338542"},"user_tz":-420},"outputId":"66903f67-cc50-43a4-e8ac-438ae38bc245"},"source":["titanic = sns.load_dataset('titanic')\n","display(titanic.info(), titanic.head())"],"execution_count":null,"outputs":[{"name":"stdout","output_type":"stream","text":["<class 'pandas.core.frame.DataFrame'>\n","RangeIndex: 891 entries, 0 to 890\n","Data columns (total 15 columns):\n"," #   Column       Non-Null Count  Dtype   \n","---  ------       --------------  -----   \n"," 0   survived     891 non-null    int64   \n"," 1   pclass       891 non-null    int64   \n"," 2   sex          891 non-null    object  \n"," 3   age          714 non-null    float64 \n"," 4   sibsp        891 non-null    int64   \n"," 5   parch        891 non-null    int64   \n"," 6   fare         891 non-null    float64 \n"," 7   embarked     889 non-null    object  \n"," 8   class        891 non-null    category\n"," 9   who          891 non-null    object  \n"," 10  adult_male   891 non-null    bool    \n"," 11  deck         203 non-null    category\n"," 12  embark_town  889 non-null    object  \n"," 13  alive        891 non-null    object  \n"," 14  alone        891 non-null    bool    \n","dtypes: bool(2), category(2), float64(2), int64(4), object(5)\n","memory usage: 80.6+ KB\n"]},{"data":{"text/plain":["None"]},"metadata":{},"output_type":"display_data"},{"data":{"text/html":["<div>\n","<style scoped>\n","    .dataframe tbody tr th:only-of-type {\n","        vertical-align: middle;\n","    }\n","\n","    .dataframe tbody tr th {\n","        vertical-align: top;\n","    }\n","\n","    .dataframe thead th {\n","        text-align: right;\n","    }\n","</style>\n","<table border=\"1\" class=\"dataframe\">\n","  <thead>\n","    <tr style=\"text-align: right;\">\n","      <th></th>\n","      <th>survived</th>\n","      <th>pclass</th>\n","      <th>sex</th>\n","      <th>age</th>\n","      <th>sibsp</th>\n","      <th>parch</th>\n","      <th>fare</th>\n","      <th>embarked</th>\n","      <th>class</th>\n","      <th>who</th>\n","      <th>adult_male</th>\n","      <th>deck</th>\n","      <th>embark_town</th>\n","      <th>alive</th>\n","      <th>alone</th>\n","    </tr>\n","  </thead>\n","  <tbody>\n","    <tr>\n","      <th>0</th>\n","      <td>0</td>\n","      <td>3</td>\n","      <td>male</td>\n","      <td>22.0</td>\n","      <td>1</td>\n","      <td>0</td>\n","      <td>7.2500</td>\n","      <td>S</td>\n","      <td>Third</td>\n","      <td>man</td>\n","      <td>True</td>\n","      <td>NaN</td>\n","      <td>Southampton</td>\n","      <td>no</td>\n","      <td>False</td>\n","    </tr>\n","    <tr>\n","      <th>1</th>\n","      <td>1</td>\n","      <td>1</td>\n","      <td>female</td>\n","      <td>38.0</td>\n","      <td>1</td>\n","      <td>0</td>\n","      <td>71.2833</td>\n","      <td>C</td>\n","      <td>First</td>\n","      <td>woman</td>\n","      <td>False</td>\n","      <td>C</td>\n","      <td>Cherbourg</td>\n","      <td>yes</td>\n","      <td>False</td>\n","    </tr>\n","    <tr>\n","      <th>2</th>\n","      <td>1</td>\n","      <td>3</td>\n","      <td>female</td>\n","      <td>26.0</td>\n","      <td>0</td>\n","      <td>0</td>\n","      <td>7.9250</td>\n","      <td>S</td>\n","      <td>Third</td>\n","      <td>woman</td>\n","      <td>False</td>\n","      <td>NaN</td>\n","      <td>Southampton</td>\n","      <td>yes</td>\n","      <td>True</td>\n","    </tr>\n","    <tr>\n","      <th>3</th>\n","      <td>1</td>\n","      <td>1</td>\n","      <td>female</td>\n","      <td>35.0</td>\n","      <td>1</td>\n","      <td>0</td>\n","      <td>53.1000</td>\n","      <td>S</td>\n","      <td>First</td>\n","      <td>woman</td>\n","      <td>False</td>\n","      <td>C</td>\n","      <td>Southampton</td>\n","      <td>yes</td>\n","      <td>False</td>\n","    </tr>\n","    <tr>\n","      <th>4</th>\n","      <td>0</td>\n","      <td>3</td>\n","      <td>male</td>\n","      <td>35.0</td>\n","      <td>0</td>\n","      <td>0</td>\n","      <td>8.0500</td>\n","      <td>S</td>\n","      <td>Third</td>\n","      <td>man</td>\n","      <td>True</td>\n","      <td>NaN</td>\n","      <td>Southampton</td>\n","      <td>no</td>\n","      <td>True</td>\n","    </tr>\n","  </tbody>\n","</table>\n","</div>"],"text/plain":["   survived  pclass     sex   age  ...  deck  embark_town  alive  alone\n","0         0       3    male  22.0  ...   NaN  Southampton     no  False\n","1         1       1  female  38.0  ...     C    Cherbourg    yes  False\n","2         1       3  female  26.0  ...   NaN  Southampton    yes   True\n","3         1       1  female  35.0  ...     C  Southampton    yes  False\n","4         0       3    male  35.0  ...   NaN  Southampton     no   True\n","\n","[5 rows x 15 columns]"]},"metadata":{},"output_type":"display_data"}]},{"cell_type":"code","metadata":{"id":"SDFuyb_ZVXzZ"},"source":["# titanic = titanic.drop(columns=['survived', 'pclass', 'embarked', 'who', 'adult_male', 'alone'])\n","# titanic"],"execution_count":null,"outputs":[]},{"cell_type":"markdown","metadata":{"id":"kGYH9_SdVXzb"},"source":["## Kiểm tra chất lượng dữ liệu"]},{"cell_type":"code","metadata":{"colab":{"base_uri":"https://localhost:8080/"},"id":"uNOIqBuzVXzq","executionInfo":{"elapsed":65,"status":"ok","timestamp":1635509147935,"user":{"displayName":"Samuel Doan","photoUrl":"https://lh3.googleusercontent.com/a-/AOh14GjbcdQ40FcyCSIyitBN2ptY3zHWA_09harKPYF2=s64","userId":"04384888964432338542"},"user_tz":-420},"outputId":"5b3b7292-4491-4aaa-8835-e8ac7ab681f8"},"source":["titanic.isnull().sum() # Python True = 1, False = 0"],"execution_count":null,"outputs":[{"data":{"text/plain":["survived         0\n","pclass           0\n","sex              0\n","age            177\n","sibsp            0\n","parch            0\n","fare             0\n","embarked         2\n","class            0\n","who              0\n","adult_male       0\n","deck           688\n","embark_town      2\n","alive            0\n","alone            0\n","dtype: int64"]},"execution_count":6,"metadata":{},"output_type":"execute_result"}]},{"cell_type":"markdown","metadata":{"id":"vQfdkwHSVXzs"},"source":["## Xử lý chất lượng dữ liệu"]},{"cell_type":"markdown","metadata":{"id":"6QqBx5k98H19"},"source":["### Thuyết âm mưu 1: Deck theo hạng vé"]},{"cell_type":"code","metadata":{"colab":{"base_uri":"https://localhost:8080/","height":300},"id":"kuQ1fJvAmclz","executionInfo":{"elapsed":61,"status":"ok","timestamp":1635509147938,"user":{"displayName":"Samuel Doan","photoUrl":"https://lh3.googleusercontent.com/a-/AOh14GjbcdQ40FcyCSIyitBN2ptY3zHWA_09harKPYF2=s64","userId":"04384888964432338542"},"user_tz":-420},"outputId":"349c33bc-e0a9-4be3-c97d-c52534051f71"},"source":["titanic.pivot_table(\n","    index='deck',\n","    columns='pclass',\n","    values='survived',\n","    aggfunc='count'\n",").fillna(0)"],"execution_count":null,"outputs":[{"data":{"text/html":["<div>\n","<style scoped>\n","    .dataframe tbody tr th:only-of-type {\n","        vertical-align: middle;\n","    }\n","\n","    .dataframe tbody tr th {\n","        vertical-align: top;\n","    }\n","\n","    .dataframe thead th {\n","        text-align: right;\n","    }\n","</style>\n","<table border=\"1\" class=\"dataframe\">\n","  <thead>\n","    <tr style=\"text-align: right;\">\n","      <th>pclass</th>\n","      <th>1</th>\n","      <th>2</th>\n","      <th>3</th>\n","    </tr>\n","    <tr>\n","      <th>deck</th>\n","      <th></th>\n","      <th></th>\n","      <th></th>\n","    </tr>\n","  </thead>\n","  <tbody>\n","    <tr>\n","      <th>A</th>\n","      <td>15.0</td>\n","      <td>0.0</td>\n","      <td>0.0</td>\n","    </tr>\n","    <tr>\n","      <th>B</th>\n","      <td>47.0</td>\n","      <td>0.0</td>\n","      <td>0.0</td>\n","    </tr>\n","    <tr>\n","      <th>C</th>\n","      <td>59.0</td>\n","      <td>0.0</td>\n","      <td>0.0</td>\n","    </tr>\n","    <tr>\n","      <th>D</th>\n","      <td>29.0</td>\n","      <td>4.0</td>\n","      <td>0.0</td>\n","    </tr>\n","    <tr>\n","      <th>E</th>\n","      <td>25.0</td>\n","      <td>4.0</td>\n","      <td>3.0</td>\n","    </tr>\n","    <tr>\n","      <th>F</th>\n","      <td>0.0</td>\n","      <td>8.0</td>\n","      <td>5.0</td>\n","    </tr>\n","    <tr>\n","      <th>G</th>\n","      <td>0.0</td>\n","      <td>0.0</td>\n","      <td>4.0</td>\n","    </tr>\n","  </tbody>\n","</table>\n","</div>"],"text/plain":["pclass     1    2    3\n","deck                  \n","A       15.0  0.0  0.0\n","B       47.0  0.0  0.0\n","C       59.0  0.0  0.0\n","D       29.0  4.0  0.0\n","E       25.0  4.0  3.0\n","F        0.0  8.0  5.0\n","G        0.0  0.0  4.0"]},"execution_count":7,"metadata":{},"output_type":"execute_result"}]},{"cell_type":"code","metadata":{"colab":{"base_uri":"https://localhost:8080/","height":297},"id":"y9T-RJUynpyV","executionInfo":{"elapsed":61,"status":"ok","timestamp":1635509147940,"user":{"displayName":"Samuel Doan","photoUrl":"https://lh3.googleusercontent.com/a-/AOh14GjbcdQ40FcyCSIyitBN2ptY3zHWA_09harKPYF2=s64","userId":"04384888964432338542"},"user_tz":-420},"outputId":"fb54bfeb-f6c1-4cfd-a9a6-6f3c5f095d53"},"source":["sns.countplot(data=titanic, x='deck', hue='pclass')"],"execution_count":null,"outputs":[{"data":{"text/plain":["<matplotlib.axes._subplots.AxesSubplot at 0x7f03bdb76e50>"]},"execution_count":8,"metadata":{},"output_type":"execute_result"},{"data":{"image/png":"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","text/plain":["<Figure size 432x288 with 1 Axes>"]},"metadata":{"needs_background":"light"},"output_type":"display_data"}]},{"cell_type":"code","metadata":{"id":"vgr3WwvooZtF"},"source":["# Logic điền: 1class = C, 2class = F, 3class = F"],"execution_count":null,"outputs":[]},{"cell_type":"code","metadata":{"colab":{"base_uri":"https://localhost:8080/"},"id":"KgMYPq-3owBv","executionInfo":{"elapsed":53,"status":"ok","timestamp":1635509147943,"user":{"displayName":"Samuel Doan","photoUrl":"https://lh3.googleusercontent.com/a-/AOh14GjbcdQ40FcyCSIyitBN2ptY3zHWA_09harKPYF2=s64","userId":"04384888964432338542"},"user_tz":-420},"outputId":"b782e342-4fa4-43e1-faa2-19c94e283a1d"},"source":["deck_dict = {\n","    1: 'C',\n","    2: 'F',\n","    3: 'F'\n","}\n","ser = titanic['pclass'].map(deck_dict) # pandas series mới, chưa gán đè lên dữ liệu cũ\n","ser"],"execution_count":null,"outputs":[{"data":{"text/plain":["0      F\n","1      C\n","2      F\n","3      C\n","4      F\n","      ..\n","886    F\n","887    C\n","888    F\n","889    C\n","890    F\n","Name: pclass, Length: 891, dtype: object"]},"execution_count":10,"metadata":{},"output_type":"execute_result"}]},{"cell_type":"code","metadata":{"colab":{"base_uri":"https://localhost:8080/"},"id":"IlGYE_pTpthA","executionInfo":{"elapsed":989,"status":"ok","timestamp":1635509148886,"user":{"displayName":"Samuel Doan","photoUrl":"https://lh3.googleusercontent.com/a-/AOh14GjbcdQ40FcyCSIyitBN2ptY3zHWA_09harKPYF2=s64","userId":"04384888964432338542"},"user_tz":-420},"outputId":"81aa007e-7a29-4b42-870f-d9afafe82b29"},"source":["new_deck = titanic['deck'].combine_first(ser)\n","new_deck"],"execution_count":null,"outputs":[{"data":{"text/plain":["0      F\n","1      C\n","2      F\n","3      C\n","4      F\n","      ..\n","886    F\n","887    B\n","888    F\n","889    C\n","890    F\n","Name: deck, Length: 891, dtype: category\n","Categories (7, object): ['A', 'B', 'C', 'D', 'E', 'F', 'G']"]},"execution_count":11,"metadata":{},"output_type":"execute_result"}]},{"cell_type":"code","metadata":{"colab":{"base_uri":"https://localhost:8080/"},"id":"0kL5uWYQp7IM","executionInfo":{"elapsed":94,"status":"ok","timestamp":1635509148887,"user":{"displayName":"Samuel Doan","photoUrl":"https://lh3.googleusercontent.com/a-/AOh14GjbcdQ40FcyCSIyitBN2ptY3zHWA_09harKPYF2=s64","userId":"04384888964432338542"},"user_tz":-420},"outputId":"a90d9220-3f23-49bf-95f1-ccac638dca23"},"source":["new_deck.isnull().sum()"],"execution_count":null,"outputs":[{"data":{"text/plain":["0"]},"execution_count":12,"metadata":{},"output_type":"execute_result"}]},{"cell_type":"code","metadata":{"id":"1CyOgPYhqjk6"},"source":["titanic['deck'] = new_deck"],"execution_count":null,"outputs":[]},{"cell_type":"code","metadata":{"id":"BCUMCTzmVXz6"},"source":["# Fillna for deck: một cách khác"],"execution_count":null,"outputs":[]},{"cell_type":"code","metadata":{"colab":{"base_uri":"https://localhost:8080/"},"id":"7BalLUk7acl8","executionInfo":{"elapsed":89,"status":"ok","timestamp":1635509148892,"user":{"displayName":"Samuel Doan","photoUrl":"https://lh3.googleusercontent.com/a-/AOh14GjbcdQ40FcyCSIyitBN2ptY3zHWA_09harKPYF2=s64","userId":"04384888964432338542"},"user_tz":-420},"outputId":"0abb90be-1499-4e04-e147-a72fbd74ad15"},"source":["titanic['deck'].value_counts(dropna=False)"],"execution_count":null,"outputs":[{"data":{"text/plain":["F    660\n","C    100\n","B     47\n","D     33\n","E     32\n","A     15\n","G      4\n","Name: deck, dtype: int64"]},"execution_count":15,"metadata":{},"output_type":"execute_result"}]},{"cell_type":"code","metadata":{"colab":{"base_uri":"https://localhost:8080/","height":319},"id":"1NW5HgQTalSG","executionInfo":{"elapsed":133,"status":"error","timestamp":1635509148943,"user":{"displayName":"Samuel Doan","photoUrl":"https://lh3.googleusercontent.com/a-/AOh14GjbcdQ40FcyCSIyitBN2ptY3zHWA_09harKPYF2=s64","userId":"04384888964432338542"},"user_tz":-420},"outputId":"ddab21c6-9cbd-456b-a539-069162849e7d"},"source":["titanic['deck'].fillna('Unknown') # Do dữ liệu dạng Category thì phải thêm Category trước khi\n","# fillna"],"execution_count":null,"outputs":[{"ename":"ValueError","evalue":"ignored","output_type":"error","traceback":["\u001b[0;31m---------------------------------------------------------------------------\u001b[0m","\u001b[0;31mValueError\u001b[0m                                Traceback (most recent call last)","\u001b[0;32m<ipython-input-16-157107663869>\u001b[0m in \u001b[0;36m<module>\u001b[0;34m()\u001b[0m\n\u001b[0;32m----> 1\u001b[0;31m \u001b[0mtitanic\u001b[0m\u001b[0;34m[\u001b[0m\u001b[0;34m'deck'\u001b[0m\u001b[0;34m]\u001b[0m\u001b[0;34m.\u001b[0m\u001b[0mfillna\u001b[0m\u001b[0;34m(\u001b[0m\u001b[0;34m'Unknown'\u001b[0m\u001b[0;34m)\u001b[0m\u001b[0;34m\u001b[0m\u001b[0;34m\u001b[0m\u001b[0m\n\u001b[0m","\u001b[0;32m/usr/local/lib/python3.7/dist-packages/pandas/core/series.py\u001b[0m in \u001b[0;36mfillna\u001b[0;34m(self, value, method, axis, inplace, limit, downcast)\u001b[0m\n\u001b[1;32m   4534\u001b[0m             \u001b[0minplace\u001b[0m\u001b[0;34m=\u001b[0m\u001b[0minplace\u001b[0m\u001b[0;34m,\u001b[0m\u001b[0;34m\u001b[0m\u001b[0;34m\u001b[0m\u001b[0m\n\u001b[1;32m   4535\u001b[0m             \u001b[0mlimit\u001b[0m\u001b[0;34m=\u001b[0m\u001b[0mlimit\u001b[0m\u001b[0;34m,\u001b[0m\u001b[0;34m\u001b[0m\u001b[0;34m\u001b[0m\u001b[0m\n\u001b[0;32m-> 4536\u001b[0;31m             \u001b[0mdowncast\u001b[0m\u001b[0;34m=\u001b[0m\u001b[0mdowncast\u001b[0m\u001b[0;34m,\u001b[0m\u001b[0;34m\u001b[0m\u001b[0;34m\u001b[0m\u001b[0m\n\u001b[0m\u001b[1;32m   4537\u001b[0m         )\n\u001b[1;32m   4538\u001b[0m \u001b[0;34m\u001b[0m\u001b[0m\n","\u001b[0;32m/usr/local/lib/python3.7/dist-packages/pandas/core/generic.py\u001b[0m in \u001b[0;36mfillna\u001b[0;34m(self, value, method, axis, inplace, limit, downcast)\u001b[0m\n\u001b[1;32m   6060\u001b[0m \u001b[0;34m\u001b[0m\u001b[0m\n\u001b[1;32m   6061\u001b[0m                 new_data = self._mgr.fillna(\n\u001b[0;32m-> 6062\u001b[0;31m                     \u001b[0mvalue\u001b[0m\u001b[0;34m=\u001b[0m\u001b[0mvalue\u001b[0m\u001b[0;34m,\u001b[0m \u001b[0mlimit\u001b[0m\u001b[0;34m=\u001b[0m\u001b[0mlimit\u001b[0m\u001b[0;34m,\u001b[0m \u001b[0minplace\u001b[0m\u001b[0;34m=\u001b[0m\u001b[0minplace\u001b[0m\u001b[0;34m,\u001b[0m \u001b[0mdowncast\u001b[0m\u001b[0;34m=\u001b[0m\u001b[0mdowncast\u001b[0m\u001b[0;34m\u001b[0m\u001b[0;34m\u001b[0m\u001b[0m\n\u001b[0m\u001b[1;32m   6063\u001b[0m                 )\n\u001b[1;32m   6064\u001b[0m \u001b[0;34m\u001b[0m\u001b[0m\n","\u001b[0;32m/usr/local/lib/python3.7/dist-packages/pandas/core/internals/managers.py\u001b[0m in \u001b[0;36mfillna\u001b[0;34m(self, value, limit, inplace, downcast)\u001b[0m\n\u001b[1;32m    593\u001b[0m     \u001b[0;32mdef\u001b[0m \u001b[0mfillna\u001b[0m\u001b[0;34m(\u001b[0m\u001b[0mself\u001b[0m\u001b[0;34m,\u001b[0m \u001b[0mvalue\u001b[0m\u001b[0;34m,\u001b[0m \u001b[0mlimit\u001b[0m\u001b[0;34m,\u001b[0m \u001b[0minplace\u001b[0m\u001b[0;34m:\u001b[0m \u001b[0mbool\u001b[0m\u001b[0;34m,\u001b[0m \u001b[0mdowncast\u001b[0m\u001b[0;34m)\u001b[0m \u001b[0;34m->\u001b[0m \u001b[0;34m\"BlockManager\"\u001b[0m\u001b[0;34m:\u001b[0m\u001b[0;34m\u001b[0m\u001b[0;34m\u001b[0m\u001b[0m\n\u001b[1;32m    594\u001b[0m         return self.apply(\n\u001b[0;32m--> 595\u001b[0;31m             \u001b[0;34m\"fillna\"\u001b[0m\u001b[0;34m,\u001b[0m \u001b[0mvalue\u001b[0m\u001b[0;34m=\u001b[0m\u001b[0mvalue\u001b[0m\u001b[0;34m,\u001b[0m \u001b[0mlimit\u001b[0m\u001b[0;34m=\u001b[0m\u001b[0mlimit\u001b[0m\u001b[0;34m,\u001b[0m \u001b[0minplace\u001b[0m\u001b[0;34m=\u001b[0m\u001b[0minplace\u001b[0m\u001b[0;34m,\u001b[0m \u001b[0mdowncast\u001b[0m\u001b[0;34m=\u001b[0m\u001b[0mdowncast\u001b[0m\u001b[0;34m\u001b[0m\u001b[0;34m\u001b[0m\u001b[0m\n\u001b[0m\u001b[1;32m    596\u001b[0m         )\n\u001b[1;32m    597\u001b[0m \u001b[0;34m\u001b[0m\u001b[0m\n","\u001b[0;32m/usr/local/lib/python3.7/dist-packages/pandas/core/internals/managers.py\u001b[0m in \u001b[0;36mapply\u001b[0;34m(self, f, align_keys, **kwargs)\u001b[0m\n\u001b[1;32m    407\u001b[0m                 \u001b[0mapplied\u001b[0m \u001b[0;34m=\u001b[0m \u001b[0mb\u001b[0m\u001b[0;34m.\u001b[0m\u001b[0mapply\u001b[0m\u001b[0;34m(\u001b[0m\u001b[0mf\u001b[0m\u001b[0;34m,\u001b[0m \u001b[0;34m**\u001b[0m\u001b[0mkwargs\u001b[0m\u001b[0;34m)\u001b[0m\u001b[0;34m\u001b[0m\u001b[0;34m\u001b[0m\u001b[0m\n\u001b[1;32m    408\u001b[0m             \u001b[0;32melse\u001b[0m\u001b[0;34m:\u001b[0m\u001b[0;34m\u001b[0m\u001b[0;34m\u001b[0m\u001b[0m\n\u001b[0;32m--> 409\u001b[0;31m                 \u001b[0mapplied\u001b[0m \u001b[0;34m=\u001b[0m \u001b[0mgetattr\u001b[0m\u001b[0;34m(\u001b[0m\u001b[0mb\u001b[0m\u001b[0;34m,\u001b[0m \u001b[0mf\u001b[0m\u001b[0;34m)\u001b[0m\u001b[0;34m(\u001b[0m\u001b[0;34m**\u001b[0m\u001b[0mkwargs\u001b[0m\u001b[0;34m)\u001b[0m\u001b[0;34m\u001b[0m\u001b[0;34m\u001b[0m\u001b[0m\n\u001b[0m\u001b[1;32m    410\u001b[0m             \u001b[0mresult_blocks\u001b[0m \u001b[0;34m=\u001b[0m \u001b[0m_extend_blocks\u001b[0m\u001b[0;34m(\u001b[0m\u001b[0mapplied\u001b[0m\u001b[0;34m,\u001b[0m \u001b[0mresult_blocks\u001b[0m\u001b[0;34m)\u001b[0m\u001b[0;34m\u001b[0m\u001b[0;34m\u001b[0m\u001b[0m\n\u001b[1;32m    411\u001b[0m \u001b[0;34m\u001b[0m\u001b[0m\n","\u001b[0;32m/usr/local/lib/python3.7/dist-packages/pandas/core/internals/blocks.py\u001b[0m in \u001b[0;36mfillna\u001b[0;34m(self, value, limit, inplace, downcast)\u001b[0m\n\u001b[1;32m   1777\u001b[0m     \u001b[0;32mdef\u001b[0m \u001b[0mfillna\u001b[0m\u001b[0;34m(\u001b[0m\u001b[0mself\u001b[0m\u001b[0;34m,\u001b[0m \u001b[0mvalue\u001b[0m\u001b[0;34m,\u001b[0m \u001b[0mlimit\u001b[0m\u001b[0;34m=\u001b[0m\u001b[0;32mNone\u001b[0m\u001b[0;34m,\u001b[0m \u001b[0minplace\u001b[0m\u001b[0;34m=\u001b[0m\u001b[0;32mFalse\u001b[0m\u001b[0;34m,\u001b[0m \u001b[0mdowncast\u001b[0m\u001b[0;34m=\u001b[0m\u001b[0;32mNone\u001b[0m\u001b[0;34m)\u001b[0m\u001b[0;34m:\u001b[0m\u001b[0;34m\u001b[0m\u001b[0;34m\u001b[0m\u001b[0m\n\u001b[1;32m   1778\u001b[0m         \u001b[0mvalues\u001b[0m \u001b[0;34m=\u001b[0m \u001b[0mself\u001b[0m\u001b[0;34m.\u001b[0m\u001b[0mvalues\u001b[0m \u001b[0;32mif\u001b[0m \u001b[0minplace\u001b[0m \u001b[0;32melse\u001b[0m \u001b[0mself\u001b[0m\u001b[0;34m.\u001b[0m\u001b[0mvalues\u001b[0m\u001b[0;34m.\u001b[0m\u001b[0mcopy\u001b[0m\u001b[0;34m(\u001b[0m\u001b[0;34m)\u001b[0m\u001b[0;34m\u001b[0m\u001b[0;34m\u001b[0m\u001b[0m\n\u001b[0;32m-> 1779\u001b[0;31m         \u001b[0mvalues\u001b[0m \u001b[0;34m=\u001b[0m \u001b[0mvalues\u001b[0m\u001b[0;34m.\u001b[0m\u001b[0mfillna\u001b[0m\u001b[0;34m(\u001b[0m\u001b[0mvalue\u001b[0m\u001b[0;34m=\u001b[0m\u001b[0mvalue\u001b[0m\u001b[0;34m,\u001b[0m \u001b[0mlimit\u001b[0m\u001b[0;34m=\u001b[0m\u001b[0mlimit\u001b[0m\u001b[0;34m)\u001b[0m\u001b[0;34m\u001b[0m\u001b[0;34m\u001b[0m\u001b[0m\n\u001b[0m\u001b[1;32m   1780\u001b[0m         return [\n\u001b[1;32m   1781\u001b[0m             self.make_block_same_class(\n","\u001b[0;32m/usr/local/lib/python3.7/dist-packages/pandas/core/arrays/categorical.py\u001b[0m in \u001b[0;36mfillna\u001b[0;34m(self, value, method, limit)\u001b[0m\n\u001b[1;32m   1719\u001b[0m             \u001b[0;32melif\u001b[0m \u001b[0mis_hashable\u001b[0m\u001b[0;34m(\u001b[0m\u001b[0mvalue\u001b[0m\u001b[0;34m)\u001b[0m\u001b[0;34m:\u001b[0m\u001b[0;34m\u001b[0m\u001b[0;34m\u001b[0m\u001b[0m\n\u001b[1;32m   1720\u001b[0m                 \u001b[0;32mif\u001b[0m \u001b[0;32mnot\u001b[0m \u001b[0misna\u001b[0m\u001b[0;34m(\u001b[0m\u001b[0mvalue\u001b[0m\u001b[0;34m)\u001b[0m \u001b[0;32mand\u001b[0m \u001b[0mvalue\u001b[0m \u001b[0;32mnot\u001b[0m \u001b[0;32min\u001b[0m \u001b[0mself\u001b[0m\u001b[0;34m.\u001b[0m\u001b[0mcategories\u001b[0m\u001b[0;34m:\u001b[0m\u001b[0;34m\u001b[0m\u001b[0;34m\u001b[0m\u001b[0m\n\u001b[0;32m-> 1721\u001b[0;31m                     \u001b[0;32mraise\u001b[0m \u001b[0mValueError\u001b[0m\u001b[0;34m(\u001b[0m\u001b[0;34m\"fill value must be in categories\"\u001b[0m\u001b[0;34m)\u001b[0m\u001b[0;34m\u001b[0m\u001b[0;34m\u001b[0m\u001b[0m\n\u001b[0m\u001b[1;32m   1722\u001b[0m \u001b[0;34m\u001b[0m\u001b[0m\n\u001b[1;32m   1723\u001b[0m                 \u001b[0mmask\u001b[0m \u001b[0;34m=\u001b[0m \u001b[0mcodes\u001b[0m \u001b[0;34m==\u001b[0m \u001b[0;34m-\u001b[0m\u001b[0;36m1\u001b[0m\u001b[0;34m\u001b[0m\u001b[0;34m\u001b[0m\u001b[0m\n","\u001b[0;31mValueError\u001b[0m: fill value must be in categories"]}]},{"cell_type":"code","metadata":{"colab":{"base_uri":"https://localhost:8080/"},"id":"4aWZo1EZaxBo","executionInfo":{"elapsed":987,"status":"ok","timestamp":1635509200799,"user":{"displayName":"Samuel Doan","photoUrl":"https://lh3.googleusercontent.com/a-/AOh14GjbcdQ40FcyCSIyitBN2ptY3zHWA_09harKPYF2=s64","userId":"04384888964432338542"},"user_tz":-420},"outputId":"879ced35-881f-45aa-f7c2-9c5513752f6a"},"source":["titanic['deck'] = titanic['deck'].cat.add_categories('Unknown')\n","titanic['deck']"],"execution_count":null,"outputs":[{"data":{"text/plain":["0      F\n","1      C\n","2      F\n","3      C\n","4      F\n","      ..\n","886    F\n","887    B\n","888    F\n","889    C\n","890    F\n","Name: deck, Length: 891, dtype: category\n","Categories (8, object): ['A', 'B', 'C', 'D', 'E', 'F', 'G', 'Unknown']"]},"execution_count":17,"metadata":{},"output_type":"execute_result"}]},{"cell_type":"code","metadata":{"colab":{"base_uri":"https://localhost:8080/"},"id":"MFMIuloLbrSO","executionInfo":{"elapsed":34,"status":"ok","timestamp":1635509200800,"user":{"displayName":"Samuel Doan","photoUrl":"https://lh3.googleusercontent.com/a-/AOh14GjbcdQ40FcyCSIyitBN2ptY3zHWA_09harKPYF2=s64","userId":"04384888964432338542"},"user_tz":-420},"outputId":"f09b3ca4-d8bb-4c45-9902-045a7f73c03f"},"source":["titanic['deck'].fillna('Unknown')"],"execution_count":null,"outputs":[{"data":{"text/plain":["0      F\n","1      C\n","2      F\n","3      C\n","4      F\n","      ..\n","886    F\n","887    B\n","888    F\n","889    C\n","890    F\n","Name: deck, Length: 891, dtype: category\n","Categories (8, object): ['A', 'B', 'C', 'D', 'E', 'F', 'G', 'Unknown']"]},"execution_count":18,"metadata":{},"output_type":"execute_result"}]},{"cell_type":"code","metadata":{"id":"6oEFbjFjbz6c"},"source":["titanic['deck'] = titanic['deck'].fillna('Unknown')"],"execution_count":null,"outputs":[]},{"cell_type":"code","metadata":{"colab":{"base_uri":"https://localhost:8080/"},"id":"Go6ePyufb7eC","executionInfo":{"elapsed":22,"status":"ok","timestamp":1635509200805,"user":{"displayName":"Samuel Doan","photoUrl":"https://lh3.googleusercontent.com/a-/AOh14GjbcdQ40FcyCSIyitBN2ptY3zHWA_09harKPYF2=s64","userId":"04384888964432338542"},"user_tz":-420},"outputId":"e7e832da-ad01-4103-e8c2-9fcf82baaf41"},"source":["titanic['deck'].isnull().sum()"],"execution_count":null,"outputs":[{"data":{"text/plain":["0"]},"execution_count":20,"metadata":{},"output_type":"execute_result"}]},{"cell_type":"markdown","metadata":{"id":"MTebWXox8H2Q"},"source":["### Thuyết âm mưu 02: Embark Town"]},{"cell_type":"code","metadata":{"colab":{"base_uri":"https://localhost:8080/"},"id":"tI1JMslgXEcb","executionInfo":{"elapsed":2233,"status":"ok","timestamp":1635509204268,"user":{"displayName":"Samuel Doan","photoUrl":"https://lh3.googleusercontent.com/a-/AOh14GjbcdQ40FcyCSIyitBN2ptY3zHWA_09harKPYF2=s64","userId":"04384888964432338542"},"user_tz":-420},"outputId":"28fb2c2c-b63a-4784-c44d-9764fbf09186"},"source":["titanic['embark_town'].value_counts(dropna=False)"],"execution_count":null,"outputs":[{"data":{"text/plain":["Southampton    644\n","Cherbourg      168\n","Queenstown      77\n","NaN              2\n","Name: embark_town, dtype: int64"]},"execution_count":21,"metadata":{},"output_type":"execute_result"}]},{"cell_type":"code","metadata":{"colab":{"base_uri":"https://localhost:8080/","height":112},"id":"hQKrtHoMXUAC","executionInfo":{"elapsed":19,"status":"ok","timestamp":1635509204270,"user":{"displayName":"Samuel Doan","photoUrl":"https://lh3.googleusercontent.com/a-/AOh14GjbcdQ40FcyCSIyitBN2ptY3zHWA_09harKPYF2=s64","userId":"04384888964432338542"},"user_tz":-420},"outputId":"e0d048af-858a-470f-a9f7-b55bbcbed8ca"},"source":["filter1 = titanic['embark_town'].isnull() # lọc các bản ghi bị thiếu dữ liệu embark_town\n","titanic[filter1]"],"execution_count":null,"outputs":[{"data":{"text/html":["<div>\n","<style scoped>\n","    .dataframe tbody tr th:only-of-type {\n","        vertical-align: middle;\n","    }\n","\n","    .dataframe tbody tr th {\n","        vertical-align: top;\n","    }\n","\n","    .dataframe thead th {\n","        text-align: right;\n","    }\n","</style>\n","<table border=\"1\" class=\"dataframe\">\n","  <thead>\n","    <tr style=\"text-align: right;\">\n","      <th></th>\n","      <th>survived</th>\n","      <th>pclass</th>\n","      <th>sex</th>\n","      <th>age</th>\n","      <th>sibsp</th>\n","      <th>parch</th>\n","      <th>fare</th>\n","      <th>embarked</th>\n","      <th>class</th>\n","      <th>who</th>\n","      <th>adult_male</th>\n","      <th>deck</th>\n","      <th>embark_town</th>\n","      <th>alive</th>\n","      <th>alone</th>\n","    </tr>\n","  </thead>\n","  <tbody>\n","    <tr>\n","      <th>61</th>\n","      <td>1</td>\n","      <td>1</td>\n","      <td>female</td>\n","      <td>38.0</td>\n","      <td>0</td>\n","      <td>0</td>\n","      <td>80.0</td>\n","      <td>NaN</td>\n","      <td>First</td>\n","      <td>woman</td>\n","      <td>False</td>\n","      <td>B</td>\n","      <td>NaN</td>\n","      <td>yes</td>\n","      <td>True</td>\n","    </tr>\n","    <tr>\n","      <th>829</th>\n","      <td>1</td>\n","      <td>1</td>\n","      <td>female</td>\n","      <td>62.0</td>\n","      <td>0</td>\n","      <td>0</td>\n","      <td>80.0</td>\n","      <td>NaN</td>\n","      <td>First</td>\n","      <td>woman</td>\n","      <td>False</td>\n","      <td>B</td>\n","      <td>NaN</td>\n","      <td>yes</td>\n","      <td>True</td>\n","    </tr>\n","  </tbody>\n","</table>\n","</div>"],"text/plain":["     survived  pclass     sex   age  ...  deck  embark_town  alive alone\n","61          1       1  female  38.0  ...     B          NaN    yes  True\n","829         1       1  female  62.0  ...     B          NaN    yes  True\n","\n","[2 rows x 15 columns]"]},"execution_count":22,"metadata":{},"output_type":"execute_result"}]},{"cell_type":"code","metadata":{"colab":{"base_uri":"https://localhost:8080/"},"id":"1Kzin9KYXtnV","executionInfo":{"elapsed":27,"status":"ok","timestamp":1635509206530,"user":{"displayName":"Samuel Doan","photoUrl":"https://lh3.googleusercontent.com/a-/AOh14GjbcdQ40FcyCSIyitBN2ptY3zHWA_09harKPYF2=s64","userId":"04384888964432338542"},"user_tz":-420},"outputId":"ce94d429-695c-4fa3-a53c-6ad5e79e2987"},"source":["titanic['embark_town'].fillna('Unknown') # No brainer (ít quan sát bị thiếu)"],"execution_count":null,"outputs":[{"data":{"text/plain":["0      Southampton\n","1        Cherbourg\n","2      Southampton\n","3      Southampton\n","4      Southampton\n","          ...     \n","886    Southampton\n","887    Southampton\n","888    Southampton\n","889      Cherbourg\n","890     Queenstown\n","Name: embark_town, Length: 891, dtype: object"]},"execution_count":23,"metadata":{},"output_type":"execute_result"}]},{"cell_type":"code","metadata":{"colab":{"base_uri":"https://localhost:8080/","height":424},"id":"aN5BlmGTYLj_","executionInfo":{"elapsed":23,"status":"ok","timestamp":1635509206531,"user":{"displayName":"Samuel Doan","photoUrl":"https://lh3.googleusercontent.com/a-/AOh14GjbcdQ40FcyCSIyitBN2ptY3zHWA_09harKPYF2=s64","userId":"04384888964432338542"},"user_tz":-420},"outputId":"109f2d72-34a4-4ebf-a65f-f5adc6934977"},"source":["filter1 = (titanic['who'] == 'woman') \n","filter2 = (titanic['class'] == 'First')\n","# filter3 = (titanic['fare'] == 80)\n","ser = titanic[filter1 & filter2]\n","ser"],"execution_count":null,"outputs":[{"data":{"text/html":["<div>\n","<style scoped>\n","    .dataframe tbody tr th:only-of-type {\n","        vertical-align: middle;\n","    }\n","\n","    .dataframe tbody tr th {\n","        vertical-align: top;\n","    }\n","\n","    .dataframe thead th {\n","        text-align: right;\n","    }\n","</style>\n","<table border=\"1\" class=\"dataframe\">\n","  <thead>\n","    <tr style=\"text-align: right;\">\n","      <th></th>\n","      <th>survived</th>\n","      <th>pclass</th>\n","      <th>sex</th>\n","      <th>age</th>\n","      <th>sibsp</th>\n","      <th>parch</th>\n","      <th>fare</th>\n","      <th>embarked</th>\n","      <th>class</th>\n","      <th>who</th>\n","      <th>adult_male</th>\n","      <th>deck</th>\n","      <th>embark_town</th>\n","      <th>alive</th>\n","      <th>alone</th>\n","    </tr>\n","  </thead>\n","  <tbody>\n","    <tr>\n","      <th>1</th>\n","      <td>1</td>\n","      <td>1</td>\n","      <td>female</td>\n","      <td>38.0</td>\n","      <td>1</td>\n","      <td>0</td>\n","      <td>71.2833</td>\n","      <td>C</td>\n","      <td>First</td>\n","      <td>woman</td>\n","      <td>False</td>\n","      <td>C</td>\n","      <td>Cherbourg</td>\n","      <td>yes</td>\n","      <td>False</td>\n","    </tr>\n","    <tr>\n","      <th>3</th>\n","      <td>1</td>\n","      <td>1</td>\n","      <td>female</td>\n","      <td>35.0</td>\n","      <td>1</td>\n","      <td>0</td>\n","      <td>53.1000</td>\n","      <td>S</td>\n","      <td>First</td>\n","      <td>woman</td>\n","      <td>False</td>\n","      <td>C</td>\n","      <td>Southampton</td>\n","      <td>yes</td>\n","      <td>False</td>\n","    </tr>\n","    <tr>\n","      <th>11</th>\n","      <td>1</td>\n","      <td>1</td>\n","      <td>female</td>\n","      <td>58.0</td>\n","      <td>0</td>\n","      <td>0</td>\n","      <td>26.5500</td>\n","      <td>S</td>\n","      <td>First</td>\n","      <td>woman</td>\n","      <td>False</td>\n","      <td>C</td>\n","      <td>Southampton</td>\n","      <td>yes</td>\n","      <td>True</td>\n","    </tr>\n","    <tr>\n","      <th>31</th>\n","      <td>1</td>\n","      <td>1</td>\n","      <td>female</td>\n","      <td>NaN</td>\n","      <td>1</td>\n","      <td>0</td>\n","      <td>146.5208</td>\n","      <td>C</td>\n","      <td>First</td>\n","      <td>woman</td>\n","      <td>False</td>\n","      <td>B</td>\n","      <td>Cherbourg</td>\n","      <td>yes</td>\n","      <td>False</td>\n","    </tr>\n","    <tr>\n","      <th>52</th>\n","      <td>1</td>\n","      <td>1</td>\n","      <td>female</td>\n","      <td>49.0</td>\n","      <td>1</td>\n","      <td>0</td>\n","      <td>76.7292</td>\n","      <td>C</td>\n","      <td>First</td>\n","      <td>woman</td>\n","      <td>False</td>\n","      <td>D</td>\n","      <td>Cherbourg</td>\n","      <td>yes</td>\n","      <td>False</td>\n","    </tr>\n","    <tr>\n","      <th>...</th>\n","      <td>...</td>\n","      <td>...</td>\n","      <td>...</td>\n","      <td>...</td>\n","      <td>...</td>\n","      <td>...</td>\n","      <td>...</td>\n","      <td>...</td>\n","      <td>...</td>\n","      <td>...</td>\n","      <td>...</td>\n","      <td>...</td>\n","      <td>...</td>\n","      <td>...</td>\n","      <td>...</td>\n","    </tr>\n","    <tr>\n","      <th>856</th>\n","      <td>1</td>\n","      <td>1</td>\n","      <td>female</td>\n","      <td>45.0</td>\n","      <td>1</td>\n","      <td>1</td>\n","      <td>164.8667</td>\n","      <td>S</td>\n","      <td>First</td>\n","      <td>woman</td>\n","      <td>False</td>\n","      <td>C</td>\n","      <td>Southampton</td>\n","      <td>yes</td>\n","      <td>False</td>\n","    </tr>\n","    <tr>\n","      <th>862</th>\n","      <td>1</td>\n","      <td>1</td>\n","      <td>female</td>\n","      <td>48.0</td>\n","      <td>0</td>\n","      <td>0</td>\n","      <td>25.9292</td>\n","      <td>S</td>\n","      <td>First</td>\n","      <td>woman</td>\n","      <td>False</td>\n","      <td>D</td>\n","      <td>Southampton</td>\n","      <td>yes</td>\n","      <td>True</td>\n","    </tr>\n","    <tr>\n","      <th>871</th>\n","      <td>1</td>\n","      <td>1</td>\n","      <td>female</td>\n","      <td>47.0</td>\n","      <td>1</td>\n","      <td>1</td>\n","      <td>52.5542</td>\n","      <td>S</td>\n","      <td>First</td>\n","      <td>woman</td>\n","      <td>False</td>\n","      <td>D</td>\n","      <td>Southampton</td>\n","      <td>yes</td>\n","      <td>False</td>\n","    </tr>\n","    <tr>\n","      <th>879</th>\n","      <td>1</td>\n","      <td>1</td>\n","      <td>female</td>\n","      <td>56.0</td>\n","      <td>0</td>\n","      <td>1</td>\n","      <td>83.1583</td>\n","      <td>C</td>\n","      <td>First</td>\n","      <td>woman</td>\n","      <td>False</td>\n","      <td>C</td>\n","      <td>Cherbourg</td>\n","      <td>yes</td>\n","      <td>False</td>\n","    </tr>\n","    <tr>\n","      <th>887</th>\n","      <td>1</td>\n","      <td>1</td>\n","      <td>female</td>\n","      <td>19.0</td>\n","      <td>0</td>\n","      <td>0</td>\n","      <td>30.0000</td>\n","      <td>S</td>\n","      <td>First</td>\n","      <td>woman</td>\n","      <td>False</td>\n","      <td>B</td>\n","      <td>Southampton</td>\n","      <td>yes</td>\n","      <td>True</td>\n","    </tr>\n","  </tbody>\n","</table>\n","<p>91 rows × 15 columns</p>\n","</div>"],"text/plain":["     survived  pclass     sex   age  ...  deck  embark_town  alive  alone\n","1           1       1  female  38.0  ...     C    Cherbourg    yes  False\n","3           1       1  female  35.0  ...     C  Southampton    yes  False\n","11          1       1  female  58.0  ...     C  Southampton    yes   True\n","31          1       1  female   NaN  ...     B    Cherbourg    yes  False\n","52          1       1  female  49.0  ...     D    Cherbourg    yes  False\n","..        ...     ...     ...   ...  ...   ...          ...    ...    ...\n","856         1       1  female  45.0  ...     C  Southampton    yes  False\n","862         1       1  female  48.0  ...     D  Southampton    yes   True\n","871         1       1  female  47.0  ...     D  Southampton    yes  False\n","879         1       1  female  56.0  ...     C    Cherbourg    yes  False\n","887         1       1  female  19.0  ...     B  Southampton    yes   True\n","\n","[91 rows x 15 columns]"]},"execution_count":24,"metadata":{},"output_type":"execute_result"}]},{"cell_type":"code","metadata":{"colab":{"base_uri":"https://localhost:8080/"},"id":"Addd-x3DZILo","executionInfo":{"elapsed":20,"status":"ok","timestamp":1635509206531,"user":{"displayName":"Samuel Doan","photoUrl":"https://lh3.googleusercontent.com/a-/AOh14GjbcdQ40FcyCSIyitBN2ptY3zHWA_09harKPYF2=s64","userId":"04384888964432338542"},"user_tz":-420},"outputId":"0c167e7b-f3d7-460a-fe87-f5c0cb658a39"},"source":["ser['embark_town'].value_counts() # mặc định sẽ thể hiện giá trị lớn nhất trên cùng .index[0]"],"execution_count":null,"outputs":[{"data":{"text/plain":["Southampton    45\n","Cherbourg      43\n","Queenstown      1\n","Name: embark_town, dtype: int64"]},"execution_count":25,"metadata":{},"output_type":"execute_result"}]},{"cell_type":"code","metadata":{"colab":{"base_uri":"https://localhost:8080/","height":35},"id":"VOU8TtSZZVn0","executionInfo":{"elapsed":36,"status":"ok","timestamp":1635509207700,"user":{"displayName":"Samuel Doan","photoUrl":"https://lh3.googleusercontent.com/a-/AOh14GjbcdQ40FcyCSIyitBN2ptY3zHWA_09harKPYF2=s64","userId":"04384888964432338542"},"user_tz":-420},"outputId":"12b54d1b-43f1-4dbb-c979-fb5406ac83e8"},"source":["most_pop_town = ser['embark_town'].value_counts().idxmax()\n","most_pop_town"],"execution_count":null,"outputs":[{"data":{"application/vnd.google.colaboratory.intrinsic+json":{"type":"string"},"text/plain":["'Southampton'"]},"execution_count":26,"metadata":{},"output_type":"execute_result"}]},{"cell_type":"code","metadata":{"id":"1zLlSARPZ1E-"},"source":["titanic['embark_town'] = titanic['embark_town'].fillna(most_pop_town)"],"execution_count":null,"outputs":[]},{"cell_type":"code","metadata":{"colab":{"base_uri":"https://localhost:8080/"},"id":"No7J-CXcZ8FC","executionInfo":{"elapsed":35,"status":"ok","timestamp":1635509207704,"user":{"displayName":"Samuel Doan","photoUrl":"https://lh3.googleusercontent.com/a-/AOh14GjbcdQ40FcyCSIyitBN2ptY3zHWA_09harKPYF2=s64","userId":"04384888964432338542"},"user_tz":-420},"outputId":"b1146424-0c67-4802-df02-24e61140c306"},"source":["titanic['embark_town'].value_counts(dropna=False)"],"execution_count":null,"outputs":[{"data":{"text/plain":["Southampton    646\n","Cherbourg      168\n","Queenstown      77\n","Name: embark_town, dtype: int64"]},"execution_count":28,"metadata":{},"output_type":"execute_result"}]},{"cell_type":"code","metadata":{"id":"F40HKXhKVXzx"},"source":["titanic['embark_town'] = titanic['embark_town'].fillna('Unknown')"],"execution_count":null,"outputs":[]},{"cell_type":"code","metadata":{"colab":{"base_uri":"https://localhost:8080/"},"id":"Q1FagQXuVXz3","executionInfo":{"elapsed":31,"status":"ok","timestamp":1635509207709,"user":{"displayName":"Samuel Doan","photoUrl":"https://lh3.googleusercontent.com/a-/AOh14GjbcdQ40FcyCSIyitBN2ptY3zHWA_09harKPYF2=s64","userId":"04384888964432338542"},"user_tz":-420},"outputId":"72217f7c-0eec-4fae-8150-70672d66717d"},"source":["titanic['embark_town'].value_counts()"],"execution_count":null,"outputs":[{"data":{"text/plain":["Southampton    646\n","Cherbourg      168\n","Queenstown      77\n","Name: embark_town, dtype: int64"]},"execution_count":30,"metadata":{},"output_type":"execute_result"}]},{"cell_type":"markdown","metadata":{"id":"7cgrf2rWVX04"},"source":["### Thuyết âm mưu 03: Điền tuổi"]},{"cell_type":"code","metadata":{"colab":{"base_uri":"https://localhost:8080/"},"id":"CRtXraLmVX05","executionInfo":{"elapsed":163,"status":"ok","timestamp":1635509209929,"user":{"displayName":"Samuel Doan","photoUrl":"https://lh3.googleusercontent.com/a-/AOh14GjbcdQ40FcyCSIyitBN2ptY3zHWA_09harKPYF2=s64","userId":"04384888964432338542"},"user_tz":-420},"outputId":"797b90c6-4915-4ef0-9916-6ffdd97c038d"},"source":["titanic['age']"],"execution_count":null,"outputs":[{"data":{"text/plain":["0      22.0\n","1      38.0\n","2      26.0\n","3      35.0\n","4      35.0\n","       ... \n","886    27.0\n","887    19.0\n","888     NaN\n","889    26.0\n","890    32.0\n","Name: age, Length: 891, dtype: float64"]},"execution_count":31,"metadata":{},"output_type":"execute_result"}]},{"cell_type":"code","metadata":{"colab":{"base_uri":"https://localhost:8080/"},"id":"Rsnt-o9pcNUD","executionInfo":{"elapsed":153,"status":"ok","timestamp":1635509209930,"user":{"displayName":"Samuel Doan","photoUrl":"https://lh3.googleusercontent.com/a-/AOh14GjbcdQ40FcyCSIyitBN2ptY3zHWA_09harKPYF2=s64","userId":"04384888964432338542"},"user_tz":-420},"outputId":"b5dd334a-9f78-433b-eaae-62a361a8cfc6"},"source":["titanic['age'].isnull().sum() / len(titanic['age'])"],"execution_count":null,"outputs":[{"data":{"text/plain":["0.19865319865319866"]},"execution_count":32,"metadata":{},"output_type":"execute_result"}]},{"cell_type":"code","metadata":{"colab":{"base_uri":"https://localhost:8080/","height":297},"id":"EfaPLstcVX06","executionInfo":{"elapsed":109,"status":"ok","timestamp":1635509209931,"user":{"displayName":"Samuel Doan","photoUrl":"https://lh3.googleusercontent.com/a-/AOh14GjbcdQ40FcyCSIyitBN2ptY3zHWA_09harKPYF2=s64","userId":"04384888964432338542"},"user_tz":-420},"outputId":"9813f869-ef24-4507-d977-8427a07eeedb"},"source":["sns.histplot(titanic, x='age', hue='survived', kde=True)\n","# sns.<tên của plot>(\n","#     <bộ dữ liệu>, \n","#     x=<cột dữ liệu x>, \n","#     y=<cột dữ liệu y>, \n","#     hue=<cột dữ liệu để phân loại>, \n","#     kde=True # để vẽ đường cong thể hiện phân phối (đường cong đẹp đẹp)\n","# )"],"execution_count":null,"outputs":[{"data":{"text/plain":["<matplotlib.axes._subplots.AxesSubplot at 0x7f03ae2bf850>"]},"execution_count":33,"metadata":{},"output_type":"execute_result"},{"data":{"image/png":"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","text/plain":["<Figure size 432x288 with 1 Axes>"]},"metadata":{"needs_background":"light"},"output_type":"display_data"}]},{"cell_type":"code","metadata":{"colab":{"base_uri":"https://localhost:8080/","height":297},"id":"TST1KSKBdN_p","executionInfo":{"elapsed":55,"status":"ok","timestamp":1635509209932,"user":{"displayName":"Samuel Doan","photoUrl":"https://lh3.googleusercontent.com/a-/AOh14GjbcdQ40FcyCSIyitBN2ptY3zHWA_09harKPYF2=s64","userId":"04384888964432338542"},"user_tz":-420},"outputId":"a939e50c-3498-41cb-9a08-63134e7f071c"},"source":["sns.scatterplot(data=titanic, x='age', y='fare', hue='survived')"],"execution_count":null,"outputs":[{"data":{"text/plain":["<matplotlib.axes._subplots.AxesSubplot at 0x7f03ae9a0750>"]},"execution_count":34,"metadata":{},"output_type":"execute_result"},{"data":{"image/png":"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","text/plain":["<Figure size 432x288 with 1 Axes>"]},"metadata":{"needs_background":"light"},"output_type":"display_data"}]},{"cell_type":"code","metadata":{"colab":{"base_uri":"https://localhost:8080/"},"id":"ATi3PlpqekhZ","executionInfo":{"elapsed":35,"status":"ok","timestamp":1635509209934,"user":{"displayName":"Samuel Doan","photoUrl":"https://lh3.googleusercontent.com/a-/AOh14GjbcdQ40FcyCSIyitBN2ptY3zHWA_09harKPYF2=s64","userId":"04384888964432338542"},"user_tz":-420},"outputId":"893a6c4c-ff3d-4fcb-c833-067f219612dc"},"source":["titanic['who'].value_counts()"],"execution_count":null,"outputs":[{"data":{"text/plain":["man      537\n","woman    271\n","child     83\n","Name: who, dtype: int64"]},"execution_count":35,"metadata":{},"output_type":"execute_result"}]},{"cell_type":"code","metadata":{"colab":{"base_uri":"https://localhost:8080/"},"id":"oDVUUYxDermf","executionInfo":{"elapsed":79,"status":"ok","timestamp":1635509213560,"user":{"displayName":"Samuel Doan","photoUrl":"https://lh3.googleusercontent.com/a-/AOh14GjbcdQ40FcyCSIyitBN2ptY3zHWA_09harKPYF2=s64","userId":"04384888964432338542"},"user_tz":-420},"outputId":"112e4e83-bcdb-411b-bd61-c2079e831b10"},"source":["titanic['sibsp'].value_counts()"],"execution_count":null,"outputs":[{"data":{"text/plain":["0    608\n","1    209\n","2     28\n","4     18\n","3     16\n","8      7\n","5      5\n","Name: sibsp, dtype: int64"]},"execution_count":36,"metadata":{},"output_type":"execute_result"}]},{"cell_type":"code","metadata":{"colab":{"base_uri":"https://localhost:8080/"},"id":"5Bg6yPp7ezfq","executionInfo":{"elapsed":71,"status":"ok","timestamp":1635509213561,"user":{"displayName":"Samuel Doan","photoUrl":"https://lh3.googleusercontent.com/a-/AOh14GjbcdQ40FcyCSIyitBN2ptY3zHWA_09harKPYF2=s64","userId":"04384888964432338542"},"user_tz":-420},"outputId":"8f06c1e4-9cda-43b4-f07a-20e56227f401"},"source":["titanic['parch'].value_counts()"],"execution_count":null,"outputs":[{"data":{"text/plain":["0    678\n","1    118\n","2     80\n","5      5\n","3      5\n","4      4\n","6      1\n","Name: parch, dtype: int64"]},"execution_count":37,"metadata":{},"output_type":"execute_result"}]},{"cell_type":"code","metadata":{"colab":{"base_uri":"https://localhost:8080/","height":297},"id":"1E5F7AXte6Mz","executionInfo":{"elapsed":55,"status":"ok","timestamp":1635509213562,"user":{"displayName":"Samuel Doan","photoUrl":"https://lh3.googleusercontent.com/a-/AOh14GjbcdQ40FcyCSIyitBN2ptY3zHWA_09harKPYF2=s64","userId":"04384888964432338542"},"user_tz":-420},"outputId":"014a491a-6f1c-444b-fc0e-8ee59b3d6f11"},"source":["sns.scatterplot(data=titanic, x='age', y='parch')"],"execution_count":null,"outputs":[{"data":{"text/plain":["<matplotlib.axes._subplots.AxesSubplot at 0x7f03af2cc790>"]},"execution_count":38,"metadata":{},"output_type":"execute_result"},{"data":{"image/png":"iVBORw0KGgoAAAANSUhEUgAAAXgAAAEGCAYAAABvtY4XAAAABHNCSVQICAgIfAhkiAAAAAlwSFlzAAALEgAACxIB0t1+/AAAADh0RVh0U29mdHdhcmUAbWF0cGxvdGxpYiB2ZXJzaW9uMy4yLjIsIGh0dHA6Ly9tYXRwbG90bGliLm9yZy+WH4yJAAAgAElEQVR4nO3df3AU55kn8O8z0kgjJM2AhZAEGGRi2QYpGJNJYieOz8bZLMkS0GVzJN5UnN1LypUrb0yOvUsldy68pri7TWqLi5P4sus4TuyLNxviHxhTOc7xr3Nsx44HAlgyxjhYYIRGEjLMjIRGSMxzf0z3MD96fkhWq0fN91Olkt55u9/3ed/ufjTqeTUjqgoiInIfj9MBEBGRPZjgiYhcigmeiMilmOCJiFyKCZ6IyKUqnQ4g3fz587W1tdXpMIiIZo29e/eeUtVGq7qySvCtra0IhUJOh0FENGuIyLF8dbxFQ0TkUkzwREQuxQRPRORSTPBERC7FBE9E5FK2JngRmSsij4jImyJySESus7M/IiclEoqjg8P4/Z9O4ejgMBIJvpEfOcvuZZL3ANijqp8XkSoAc2zuj8gRiYRiT3cYm3fsR3w8AZ/Xg+0bV2FtezM8HnE6PLpI2fYMXkQCAG4A8FMAUNVzqnrGrv6InNQzNJJK7gAQH09g84796BkacTgyupjZeYvmMgCDAH4mIn8UkftFpDZ7IxG5TURCIhIaHBy0MRwi+/RH46nkboqPJzAQizsUEZG9Cb4SwGoAP1bVawCMAPh29kaqep+qBlU12Nho+d+2RGWvye+Dz5t5Ofm8Hiyo9zkUEZG9Cf4EgBOq+qpRfgTJhE/kOq0Ntdi+cVUqyZv34Fsbcv5oJZoxtr3IqqphEXlXRK5U1cMAbgbwhl39ETnJ4xGsbW/GVXd8AgOxOBbU+9DaUMsXWMlRdq+i+QaAh40VNEcB/I3N/RE5xuMRLGusw7LGOqdDIQJgc4JX1f0Agnb2QURE1vifrERELsUET0TkUkzwREQuxQRPRORSTPBERC7FBE9E5FJM8ERELsUET0TkUkzwREQuxQRPRORSTPBERC7FBE9E5FJM8ERELsUET0TkUkzwREQuxQRPRORSTPBERC7FBE9E5FJM8ERELsUET0TkUkzwREQuxQRPRORSTPBERC7FBE9E5FKVdjYuIj0AYgDOA5hQ1aCd/RFNViKh6BkaQX80jpaAD0PD59AXjaPF78MHFwZQVVVhuW2T34fWhlp4POJg9ESF2ZrgDTep6qkZ6IdoUhIJxZ7uMDbv2I8rFtThlo8uxd1PdiM+noDP68HWDR3oXLkQVVUVGdua9ds3rsLa9mYmeSpbvEVDF62eoZFUwv7aDR9IJXcAiI8nsOWJLhw8GcnZ1qzfvGM/eoZGHIufqBi7E7wCeEpE9orIbVYbiMhtIhISkdDg4KDN4RBd0B+NpxL26NhE6mdTfDyB/mg8Z9v0+oFYfGaCJZoCuxP89aq6GsCnAdwuIjdkb6Cq96lqUFWDjY2NNodDdEGT3wefN3kJzKmuTP1s8nk9aPL7crZNr19Q75uZYImmwNYEr6q9xvcBAI8D+Iid/RFNRmtDLbZvXAWf14OfvPAn3PXZ9lQSN+/Br1wYyNnWrN++cRVaG2odi5+oGFFVexoWqQXgUdWY8fNvAWxV1T359gkGgxoKhWyJh8iKuTJmIBZHsz+5iiZsrJJZmWcVzUAsjgX1XEVD5UFE9uZboWjnKpomAI+LiNnPvxRK7kRO8HgEyxrrsKyxDgDQOr/0bYnKnW0JXlWPArjarvaJiKgwLpMkInIpJngiIpdigicicikmeCIil2KCJyJyKSZ4IiKXYoInInIpJngiIpdigicicikmeCIil2KCJyJyKSZ4IiKXYoInInIpJngiIpdigicicikmeCIil2KCJyJyKSZ4IiKXYoInInIpJngiIpdigicicikmeCIil2KCJyJyKSZ4IiKXqrS7AxGpABAC0Kuq6+zuj8pfIqHoGRpBfzSOJr8PrQ218HjE6bByTGecs2XMTuIcTT/bEzyATQAOAfDPQF9U5hIJxZ7uMDbv2I/4eAI+rwfbN67C2vbmsrqYpzPO2TJmJ3GO7GHrLRoRWQzgLwDcb2c/NHv0DI2kLmIAiI8nsHnHfvQMjTgcWabpjHO2jNlJnCN72H0P/vsAvgUgkW8DEblNREIiEhocHLQ5HHJafzSeuohN8fEEBmJxhyKyNp1xzpYxO4lzZA/bEryIrAMwoKp7C22nqvepalBVg42NjXaFQ2Wiye+Dz5t52vm8Hiyo9zkUkbXpjHO2jNlJnCN72PkM/uMA1otID4B/BbBGRH5hY380C7Q21GL7xlWpi9m819raUOtwZJmmM87ZMmYncY7sIapqfyciNwL4T8VW0QSDQQ2FQrbHQ84yV0sMxOJYUF++qyWmM87ZMmYncY6mRkT2qmrQqm4mVtEQZfB4BMsa67Cssc7pUAqazjhny5idxDmafjOS4FX1eQDPz0RfRESUxP9kJSJyKSZ4IiKXYoInInIpJngiIpdigicicikmeCIil2KCJyJyKSZ4IiKXYoInInIpJngiIpdigicicikmeCIil2KCJyJyKSZ4IiKXYoInInIpJngiIpcq+QM/RGQRgKXp+6jqC3YERURE719JCV5EvgvgCwDeAHDeeFgBMMETEZWpUp/BdwK4UlXH7AyGiIimT6n34I8C8NoZCBERTa+Cz+BF5IdI3oo5C2C/iDwDIPUsXlXvsDc8IiKaqmK3aELG970AdtkcCxERTaOCCV5VHwQAEakFEFfV80a5AkC1/eEREdFUlXoP/hkANWnlGgBPT384REQ0XUpdReNT1WGzoKrDIjKn0A4i4kNyGWW10c8jqnrXlCMlJBKKnqER9EfjaPL70NpQC49HZqTviYkEuvsi6IvE0RKoQXuLH5WV/D85u9h5rJ08j2hmlZrgR0RktaruAwAR+RCA0SL7jAFYY/wy8AJ4UUT+j6q+8j7ivWglEoo93WFs3rEf8fEEfF4Ptm9chbXtzbZfnBMTCew80Is7d3al+t7W2YHOqxcxydvAzmPt5HlEM6/Uq3MTgF+LyO9E5EUAvwLwt4V20CTzWb/X+NIpR3qR6xkaSV2UABAfT2Dzjv3oGRqxve/uvkgquZt937mzC919Edv7vhjZeaydPI9o5hVN8MYLqp8AcBWA/wDg6wCWq+reUvYVkf0ABgD8VlVftdjmNhEJiUhocHBw0gO4WPRH46mL0hQfT2AgFre9776Idd/hiP19X4zsPNZOnkc084omeGPlzC2qOq6qXcbXeCmNq+p5VV0FYDGAj4hIh8U296lqUFWDjY2Nkx7AxaLJ74PPm3m4fF4PFtT7bO+7JVBj2XdzwP6+L0Z2HmsnzyOaeaXeonlJRH4kIp8QkdXmV6mdqOoZAM8BWDulKAmtDbXYvnFV6uI07522NtTa3nd7ix/bOjsy+t7W2YH2loDtfV+M7DzWTp5HNPNEtfhtcRF5zuJhVdU1BfZpBDCuqmdEpAbAUwC+q6q78+0TDAY1FArlq77omasfBmJxLKh3ZhVNOBJHc8CH9pYAX2C1kZ3H2snziKafiOxV1aBlXSkJfoqdrgTwIIAKJP9S2KGqWwvtwwRPRDQ5hRL8ZN4P/i8AtANI3awrlLBV9SCAayYRJxERTaOS/sYWkX9C8v3gvwFAAPw7JD/8g4iIylSpN1E/pqq3AjitqncDuA7AFfaFRURE71epCd78r9WzIrIQwDiAFntCIiKi6VDqPfjdIjIXwPeQfOtgALjfnpCIiGg6lJrg/xHJ/2L9BIDfA/gdgB/bFRQREb1/pSb4BwHEAPzAKP8VgIcAbLQjKCIiev9KTfAdqroirfyciLxhR0BERDQ9Sn2RdZ+IXGsWROSjuPBxfkREVIZKfQb/IQAvi8hxo7wEwGEReR3JtyxYaUt0REQ0ZaUmeL5JGBHRLFNSglfVY3YHQkRE04tvB0hE5FJM8ERELsUET0TkUkzwREQuxQRPRORSTPBERC7FBE9E5FJM8ERELsUET0TkUkzwREQuxQRPRORSTPBERC7FBE9E5FKlvl3wpInIpUh+rF8TAAVwn6reY0dfiYTiZHQEJ98bQ39sDE3+aqxorsWb/WcRjsbR4vdhRVM93jo1jL5IHJfNr0F09DzC0TE0+6vR3lyPI6dG0BeJoyVQg+VN9TgRGUV/NI4mvw9L5s3B8dNn85ab6rzoDg+jPzqGRXN9qPQIThptXTG/Ft39sVQcH1wYQFVVRd6xTEwk0N0XScXS3uJHZaUnNc6eoZFUv4sDNTjUH01tm91X+piz28rua9HcGgiAE2dGLeegpa4aXeFoSXPW7PchFh9PzUF2v9njaG2ohccjJdUXmh8r8fgEXu+LIBxNnhe11RWo8Vbm9Fns/OoZGsHQyBiqKjw4e+68ZdzTqdgcOaVc4yJrtiV4ABMA/k5V94lIPYC9IvJbVZ3Wj/pLJBT7Twzh7f6z2LKrG/HxBHxeD7au78CO0DGEjkUyyucmFLd8dCnuftJ626UNNbj9pjZseaIrVb+tswM/fPYIjg2N5pQ/tWI+Prl8Ibbs6sK8OVW49bqluOeZIxlt3/v8hX23buhA58qFlkl+YiKBnQd6cefOzL47r14Ej0ewpzuMzTv2Iz6eyIlzaUMNbr+xDVt2dWX0/fShk3jqjVMZbVVWeiz72nRzGx76/TGcPnsOWzd0YMdryTnZ+KEWBFsbU21b9mVs33tmLGcO0vtNJDRjHD6vB9s3rsLa9mZ4PFKwPpHQvPNjleTj8Qnser0va07aEeo5hRuvakn1Wez82tMdxnf3HMIXgkvwg2ePWMY9nYrNkVPKNS7Kz7ZbNKrap6r7jJ9jAA4BWDTd/fQMjWB8QlLJHQDi4wls2dWFWz+2LKf8tRs+kEruVtuuW7kolTTN+jt3dmHdykWW5S9de1kqgXxu9eJUYktvO33fLU904eDJiOVYuvsiqeSV3ld3XwQ9QyOpC8sqznUrF6XiSO/7S9deltNWvr7ueeYIPrd6cSpOc046Vy/JaNuyL2N7qzlI7zd7HPHxBDbv2I+eoZGi9YXmx8rrfRGLOelG5+olGX0WYsazbuWiVHK3ins6FZsjp5RrXJTfjNyDF5FWANcAeNWi7jYRCYlIaHBwcNJt90fjGIjFUyedKT6ewOi5iZzy6NhEwW1FYFkvYl0+PTKe2r7Uffujccux9EWsxxGOxNEfzazL7itf32fOjue0VagvM9b0OTkVGyupr9FzE3nrzH6zx2HWD8SK1xeaHyvh6Jjl9kPDYxl9FmLGk29cpbQxWcXmyCnlGhflZ3uCF5E6AI8C+KaqRrPrVfU+VQ2qarCxsXHS7Tf5fVhQ74PPmzkUn9eDmqrKnPKc6sqSts2uV7UuX1Lrzdi+lH2b/D7LsbQEaiz3bw740OS3HmOx8tw53py2CvVlxpo+J4311SX1ZW6fbwwA8o5jQX3x+kLzY6XZbx13Q111Rp+FpMdTKO7pVGyOnFKucVF+tiZ4EfEimdwfVtXH7OijtaEW3krF1vXtGRfi1vUdeOjloznln7zwJ9z12fzbPnmgF1s3dGTUb+vswO6DvZblX7zyDrauT27/6N4T2HRzW07b6ftu3dCBlQsDlmNpb/FjW2du3+0tAbQ21GL7xlWpuuw4nzzQm4ojve+HX3knp618fW26uQ2P7TuRitOck8f3Hc9o27IvY3urOUjvN3sc5n3c1obaovWF5sfKB1sCFnPSjp37jmf0WYgZz5MHenHHmra8cU+nYnPklHKNi/ITTX96OZ0NiwiABwG8p6rfLGWfYDCooVBo0n0VWkVjvtrfbqwoCUfiWDq/BrHR8+g3VlaYK0LCkTiaAz4sb/LjRGQUA7E4FtRfWDWTr2y1iqbPaOuK+XXo7o+l4lhZ4ioaM5b2lkDOKhqzX3MVTThPX+ljzm4ru6+WuT54IOg9M2o5B+YqmlLmrKk+uYqmL0+/2ePIt4rGqr7Q/FjJXkVTV10B3xRX0bw3MgbvDK+iyTdHTinXuC5mIrJXVYOWdTYm+OsB/A7A6wDMG3f/RVV/k2+fqSZ4IqKLVaEEb9sySVV9EQB/tRMROYT/yUpE5FJM8ERELsUET0TkUkzwREQuxQRPRORSTPBERC7FBE9E5FJM8ERELsUET0TkUkzwREQuxQRPRORSTPBERC7FBE9E5FJM8ERELsUET0TkUkzwREQuxQRPRORSTPBERC7FBE9E5FJM8ERELsUET0TkUkzwREQuxQRPRORSTPBERC5VaVfDIvIAgHUABlS1w65+EgnFO6eG0ReJIxafwPy6KvhrKtAS8OHN8Aj6o2No8lfjyuZavBUeQTg6hrYFcxCNn0/VtTfXoX94HP3ROJr8PiwO1OBQfxR9kThaAjW4srEOhwdjqfIV82vR3R9DOBpHi9+HFU31eMuIoSVQg/YWPyorS/vdmUgoeoZGUn0vmTcHx0+ftYxlaUMNhuPnEY6OodlfjY5mP/qGx1LbNtdVoSscS42ro7ke4eFzedtOLy+c68OZkXH0Ra3HXKy8vKkeJyKj6I/G0RLw4XwCGIhZz2f6tlZxtdRVoysctRzngnofKjxAXyS57cJ6n7Ft8li0N/txMhYv+Vimx7Jong8D0XOptpY31eGN/uG8bRc6VgsDNajwAO+eHrU8Zz64MICqqoq850FrQy08HrGsX1BXjdGJ8zhhtJ09n9ljzj4fC/U1mTis6icmEujui0zpWih2bWT35VRbs4ltCR7AzwH8CMBDdnWQSCieebMfbw8M455njiA+noDP68G2zg681T+C//zIwdRjW9d34OlDJ1FX5cXoufnYsqs7oy7UM4gde/sQXBrAxg8vxZYnujLqd4SOIXQskqwPLsWWXcn6pQ01uP3GtlTZ7L/z6kVFT+xEQrGnO4zNO/an2vrGmjbcuTOt7ZvasOWJLlyxoA63fHQp7n6y2zKuT62Yj08uX5gRx9b1HXgrfBr3v/RuTttmnD989ggCPm9G29ljKlb2eT3YuqEDO147ht4zY7j1uqWp45E+huxtQ8ciOXFlz2/2OH1eDzbd3IaHfn8MVZWSG0f2sSpwLNNju+6yS7D2gy24K+u8uPf5Izg2NGoZhzl/x4ZGLfsqGOeGDnSuXIiqqoqc88Dn9WD7xlVY294Mj0cs6822T589lzGfVnGkn4+F+gIw6TjS6ycmEth5oDfnHCvlWih2bWT35VRbs41tt2hU9QUA79nVPgD0DI3g9d5IKpkAQHw8gTt3duHIwHDGY1t2deFL116Gz394SSq5p9d1rl4CALj1Y8tSF0d6/a0fW3ahfteF+nUrF2WUzf67+yIlxW+edGZb5sWRatuI5Ws3fCCVgK3i+tK1l+XEsWVXFz7ZvsiybTPOdSsX5bSdPaZi5fh4AlueSMbyudWLM45H+hiyt7WKK3t+s8cZH0/gnmeO4HOrF1vHkX2sChzL9Nj++vrLUsk9fdt1KxfljcOcv3x9FYzziS4cPBmxPA/i4wls3rEfPUMjeevNtrPn0yqO9POxUF9TiSO9vrsvYnmOlXItZCvWl1NtzTaO34MXkdtEJCQiocHBwUnt2x+NI6FIHThTfDyBhCLnsTNnx3EqNma5/dDwGABgdGzCsn703IRlvYh1/+FIvKT4C7WVXi4W1+mRccv6wVi8YJwixcdUrJwey2S2taovNs70uIu1Xayt9P3zzZ+I9b7Z9fn6KhRnfzR5bLLPA7N+IFa43uy7lDGb52OhvqYah1nfF7GuL+VayFasL6famm0cT/Cqep+qBlU12NjYOKl9m/w+VAjg82YOw+f1IPsvL5/Xg7lzvGisr7bcvqGuGgAwp7rSsr6mqrJgfXa5OeArKf5S2iolrktqvZb1jfW+jHJ2vWrpYypWNmOZzLbZ9cXGmR53sbZLbQvIP3+qhfc16/P1VSjOJn/y2OQ7DxbUF65Pb7vYmM3zsVBfU43DrG8J1Ez5WshWrC+n2pptHE/w70drQy06FgWw6ea21AE07/u1LajLeGzr+g48/Mo7+PVrx7F1fXtO3c59xwEAD758FFs3dOTUP/Ty0Qv16y/UP3mgN6Ns9t/eEigp/u0bV2W0ta0zq20jlp+88Cfc9dncuM24fvHKOzlxbF3fgae7ey3bNuPcfbA3p+3sMRUrm/eUH3r5KB7deyLjeKSPIXtbq7iy5zd7nOb958f2nbCOI/tYFTiW6bH97MV3cLfFebH7YG/eOMz5y9dXwTg3dGDlwoDleWDeI25tqM1bb7adPZ9WcaSfj4X6mkoc6fXtLX7Lc6yUayFbsb6camu2EVUtvtVUGxdpBbC71FU0wWBQQ6HQpPqY7Cqa/ugYLs+zimYgllylYa5CCEfiaA74cGVjPQ4PxlLlK+bXobs/lnpFvt1YRWPWt7cEJr2KxuzbXJlhFcull9RgZOxC3ObqEnPbfKto8rWdXm4JJFfRhKPWYy5WXt7kx4nIKAZicTT7k6toBoet5zN9W6u4zFU0VuNsrEuuogkbK2rMVTTmsegwVrqUeizTY1k4N7mKxmxrhbGKJl/bhY5Vc8CHSo/gxOlRy3NmZZ5VNGZb+VavDMTimF9bjfjEefQabWfPZ3Yc2edjob4mE4dVvbmKZirXQrFrYzpW0UxHW+VGRPaqatCyzq4ELyK/BHAjgPkA+gHcpao/LbTPVBI8EdHFrFCCt22ZpKreYlfbRERU3Ky+B09ERPkxwRMRuRQTPBGRSzHBExG5FBM8EZFLMcETEbkUEzwRkUsxwRMRuRQTPBGRSzHBExG5FBM8EZFLMcETEbkUEzwRkUsxwRMRuRQTPBGRSzHBExG5FBM8EZFLMcETEbkUEzwRkUsxwRMRuRQTPBGRSzHBExG5FBM8EZFLMcETEblUpZ2Ni8haAPcAqABwv6r+g539TVUioegZGkF/NI4mvw+tDbXweMSWtpfMm4Pjp8/mLS+s96ErHMV7Z89hXo0XHgESCgzExrBwrg9Q4MSZOJr81biiuRZvhUfQHx2bUnnJvAocP30e/dExLJ7rQwLAyTxtp2/b5K9Gc6AC4ch5y7YXzvXBg/xxVlcqxiYEA7ExLKi/UD8YG0NjfTUmzk+gsqIyp74/OoZFc30Qi7ZPnx3HvDleJDQBj3gs9zW3PxIeQTg6hmZ/NdrS6i+d50NCgd48cddXezA8lsBAbAzNfh8+0DQnp+1jp0bRF4lj8bwaxM+dR1+eua/xAqPjwKDR1uVNc3C4xGOXbw7Mba9qrsXhtDF2NPvRNzyWOsea6rzoDg+ntl/RXIujp0ZxMhJHY30VVAXhaBwtfh9WNNXjrVPD6IvE0RKowRXza9HdH8tbf2VjHQ4PxtAXiWNhoAYKxbunR9Hi9+Gqplq8ER5OxdXeXI8jp0ZS+y5vqseJyGgqzsWBGhzqj+atn8x1mn4dzqmqREITOJ8A3hsZQ5O/Bu0tflRWWj/fncn8MJ1tAzYmeBGpAHAvgD8DcALAayKyS1XfsKvPqUgkFHu6w9i8Yz/i4wn4vB5s37gKa9ub3/dEW7W9rbMDP3z2CI4NjWJpQw2+saYNd+7sStVvXd+BHaFjWHNVM559M4y/XL0Ed+/uTtVvurkND/3+GKoqBbff2IYtuzL3vff5ZNvBpQFsDC7Nqd8ROobQsYhRbse9z7+NcxOKW69binueOWLZ1tKGGtx+4+XYsisZh3U5MxYzztNnz2W0Zfa7I3QcoWORnDiXNtTg6zdcjrt37yu57VDPIFrn+/Gr0HF8IbgEP3j2SIExd+DpQyfx1BunLOcou+23wqdx/0vvGtsuKThms6/eM2NTmM/8x9KqbMa5aG51Ccf5wpjz9fX0oZN4vXc4I+5CY0xvu9A5V+x8zYjrpjZseSKtfkMH7n0ubQ42dGDHaxf6LvU6tboO71rXjn964e1U29s6O9B59aKcJD/T+WG62jaJqk5LQzkNi1wH4O9V9c+N8ncAQFX/R759gsGghkIhW+LJ5+jgMD7zg98hPp5IPebzevCbOz6BZY11trT91euX4d7n3sbtN12On754NKf+e5+/Gt965EDqu9X+ACz3Ndv+wS3XWO77vc9fjTt++cdJtZUdZ7Fy9v7pP2fHkR3nVNp+4K8/jH//89fw1euX5Z3P9DH/85c/hK888FreOUpv++d/8xF88b5XisaZ3tfhcOx9zWf29oXKVzbXl3SczTHn6+ufv/wh/OGd0yXFZXUOFTrnCp1jxeLKd96Y5VKu02LXoVn+1W3X4upL55W0r535YbJti8heVQ1a1dl5D34RgHfTyieMxzKIyG0iEhKR0ODgoI3hWOuPxjMmGADi4wkMxOK2tS3GL2cRWNaPnptIfh+byLt/vn3NtvPtO3puYtJtZdcXK2fvn/5zdhzZcU6l7aHhsdRjpYz5zNnxgnOU3vagcR4UizO9r/c7n9nbFyqXepzNMefr68zZ8ZLjsjqHrOYovb5Qv5OZg+y+S7lOi12HZjkcyW3LifwwHW2bHH+RVVXvU9WgqgYbGxtnvP8mvw8+b+Y0+LweLKj32dZ2+h9NVvVzqiqT36srC+5fqC7fvjVVlZbbTyXOYuX0trPbMuPIF+dk2m6oq05tU8qY587xFuw7ve1G4zwoNU6zr+mYz+ztrcqlHmdzzPn6MusnM8bsuKZyvhaLK995Y5ZLuU5LvQ6bA7ltOZEfpqNtk50JvhfApWnlxcZjZaW1oRbbN67KSBDbN65Ca0OtLW1v6+zA7oPJaXjyQC+2dXZk1G9d34EHXz6KO9a04cGXj+Kude0Z9ZtubsNj+07gyQO92Lo+d1+z7QdfPmpZ/9DLR9PK7dh9sBeP7j2BTTe35W0r2deFOKzLHZZxZrdl9mvGkR3nkwd6M8ZcSts79x3HHWva8OSBXtyxJnccmWPuwMOvvJN3jrLbfro7fT4Lx2X2NbX5zH8srcpmnKUd5wtjztfXw6+8kxN3oTGWes4VO18z4tqQVb8haw42ZPZd6nVqdR3eta49o+1tnR1obwmUtK+d+WG62jbZeQ++EsBbAG5GMrG/BuCvVLU73z5O3IMHLrySPRCLY0G9Pa+Sm22bq2bylc1VNKfPnmwUkQgAAAdYSURBVMPcGi8qBDhvrqIxnmHYsYpm0VwfFNOziqYl4EOFFF9FY66ayV1Fcx6VFRU59f3R5Bx4LNrOXkVjtW/6KhqznL6KZvE8H7TgKpoKDI+dx0BsDE3GyherVTThSBwL59ZgbDz/Kpo5XuCssYqmye9D2yRW0eSbg+xVNGbZXEVjnmP5VtH0RcbQWOdFAslVNM1+H9qNVTLhSBzNAR+umF+H7v5YatVHdv2VjfU4PBhLlv0+QIATp0fR5PdhubGKxuzXXEVj7ru8yY8TkdFUnOYqmnz1U19FU4GEqrGK5lwylpZA0VU0M5EfptJ2oXvwtiV4o+PPAPg+ksskH1DV/1Zoe6cSPBHRbFUowdu6Dl5VfwPgN3b2QURE1hx/kZWIiOzBBE9E5FJM8ERELsUET0TkUrauopksERkEcGySu80HcMqGcN6vco0LKN/YGNfklGtcQPnG5sa4lqqq5X+JllWCnwoRCeVbIuSkco0LKN/YGNfklGtcQPnGdrHFxVs0REQuxQRPRORSbkjw9zkdQB7lGhdQvrExrskp17iA8o3toopr1t+DJyIia254Bk9ERBaY4ImIXGpWJ3gRWSsih0XkbRH5toNxPCAiAyLSlfbYJSLyWxE5YnyfV6gNm+K6VESeE5E3RKRbRDaVQ2wi4hORP4jIASOuu43HLxORV43j+SsRqZrJuNLiqxCRP4rI7jKLq0dEXheR/SISMh4rh/Nsrog8IiJvisghEbnO6bhE5EpjnsyvqIh80+m40uL7j8a53yUivzSuiWk/z2Ztgk/7UO9PA1gB4BYRWeFQOD8HsDbrsW8DeEZV2wA8Y5Rn2gSAv1PVFQCuBXC7MUdOxzYGYI2qXg1gFYC1InItgO8C+J+qejmA0wC+OsNxmTYBOJRWLpe4AOAmVV2Vtmba6WMJAPcA2KOqVwG4Gsm5czQuVT1szNMqAB8CcBbA407HBQAisgjAHQCCqtqB5NupfxF2nGeqOiu/AFwH4P+mlb8D4DsOxtMKoCutfBhAi/FzC4DDZTBnTwD4s3KKDcAcAPsAfBTJ/+SrtDq+MxjPYiQv/DUAdgOQcojL6LsHwPysxxw9lgACAN6BsWCjXOLKiuVTAF4ql7hw4fOqL0HyLdt3A/hzO86zWfsMHiV+qLeDmlS1z/g5DKDJyWBEpBXANQBeRRnEZtwG2Q9gAMBvAfwJwBlVNT9V2anj+X0A3wJgfhpyQ5nEBQAK4CkR2SsitxmPOX0sLwMwCOBnxm2t+0WktgziSvdFAL80fnY8LlXtBfCPAI4D6AMQAbAXNpxnsznBzxqa/JXs2HpUEakD8CiAb6pqNL3OqdhU9bwm/3xeDOAjAK6a6Riyicg6AAOqutfpWPK4XlVXI3lb8nYRuSG90qFjWQlgNYAfq+o1AEaQddvDyfPfuI+9HsCvs+ucisu4778ByV+OCwHUIvcW77SYzQm+3D/Uu19EWgDA+D7gRBAi4kUyuT+sqo+VU2wAoKpnADyH5J+kc43P8gWcOZ4fB7BeRHoA/CuSt2nuKYO4AKSe+UFVB5C8n/wROH8sTwA4oaqvGuVHkEz4Tsdl+jSAfarab5TLIa5PAnhHVQdVdRzAY0iee9N+ns3mBP8agDbjlecqJP8M2+VwTOl2AfiK8fNXkLz/PaNERAD8FMAhVd1eLrGJSKOIzDV+rkHydYFDSCb6zzsVl6p+R1UXq2orkufTs6r6JafjAgARqRWRevNnJO8rd8HhY6mqYQDvisiVxkM3A3jD6bjS3IILt2eA8ojrOIBrRWSOcY2aczb955lTL3xM04sVnwHwFpL3b/+rg3H8Esl7aeNIPqP5KpL3bp8BcATA0wAucSCu65H8E/QggP3G12ecjg3ASgB/NOLqArDFeHwZgD8AeBvJP6mrHTymNwLYXS5xGTEcML66zfPd6WNpxLAKQMg4njsBzCuTuGoBDAEIpD3meFxGHHcDeNM4//83gGo7zjO+VQERkUvN5ls0RERUABM8EZFLMcETEbkUEzwRkUsxwRMRuRQTPBGRSzHBExG5FBM8EQAR2Wm8iVe3+UZeIvJVEXnLeO/6n4jIj4zHG0XkURF5zfj6uLPRE1njPzoRIfnBGar6nvHWCa8h+fatLyH5vioxAM8COKCqfysi/wLgf6nqiyKyBMm3dV3uWPBEeVQW34ToonCHiPxb4+dLAXwZwP9T1fcAQER+DeAKo/6TAFYk30YEAOAXkTpVHZ7JgImKYYKni56I3Ihk0r5OVc+KyPNIvk9IvmflHgDXqmp8ZiIkmhregydKfirRaSO5X4XkxxvWAvg3IjLPeAvXv0zb/ikA3zALIrJqRqMlKhETPBGwB0CliBwC8A8AXkHyvbj/O5Lv7vcSkh+XFzG2vwNAUEQOisgbAL4+4xETlYAvshLlYd5XN57BPw7gAVV93Om4iErFZ/BE+f298bmxXUh+sPROh+MhmhQ+gycicik+gycicikmeCIil2KCJyJyKSZ4IiKXYoInInKp/w9JRggH9bP2ywAAAABJRU5ErkJggg==","text/plain":["<Figure size 432x288 with 1 Axes>"]},"metadata":{"needs_background":"light"},"output_type":"display_data"}]},{"cell_type":"code","metadata":{"colab":{"base_uri":"https://localhost:8080/","height":297},"id":"OedLR1h7fSt3","executionInfo":{"elapsed":63,"status":"ok","timestamp":1635509214860,"user":{"displayName":"Samuel Doan","photoUrl":"https://lh3.googleusercontent.com/a-/AOh14GjbcdQ40FcyCSIyitBN2ptY3zHWA_09harKPYF2=s64","userId":"04384888964432338542"},"user_tz":-420},"outputId":"68dedc46-9838-4114-a03a-463c05469a01"},"source":["sns.boxplot(data=titanic, x='parch', y='age')\n","# Biểu đồ dạng nến:\n","# đường trên cùng của nên ~ 90%\n","# dưới cùng ~ 10%\n","# Trong hộp: bên trên là 75% bên dưới là 25% và ở giữa là 50% \n","# Khoảng cách về giá trị giữa 25% - 75% gọi là IQR (InterQuartileRange)"],"execution_count":null,"outputs":[{"data":{"text/plain":["<matplotlib.axes._subplots.AxesSubplot at 0x7f03ac120990>"]},"execution_count":39,"metadata":{},"output_type":"execute_result"},{"data":{"image/png":"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","text/plain":["<Figure size 432x288 with 1 Axes>"]},"metadata":{"needs_background":"light"},"output_type":"display_data"}]},{"cell_type":"code","metadata":{"colab":{"base_uri":"https://localhost:8080/"},"id":"tQktriIlVX08","executionInfo":{"elapsed":60,"status":"ok","timestamp":1635509214861,"user":{"displayName":"Samuel Doan","photoUrl":"https://lh3.googleusercontent.com/a-/AOh14GjbcdQ40FcyCSIyitBN2ptY3zHWA_09harKPYF2=s64","userId":"04384888964432338542"},"user_tz":-420},"outputId":"67c81a8a-f1e3-4cc9-8d56-187ff9249ccc"},"source":["titanic.groupby(['who', 'sibsp', 'parch'])['age'].agg(lambda x: x.isnull().sum()/len(x))\n","# Tính tỷ lệ số lượng bản ghi bị thiếu dữ liệu cho mỗi phân loại"],"execution_count":null,"outputs":[{"data":{"text/plain":["who    sibsp  parch\n","child  0      0        0.000000\n","              1        0.000000\n","              2        0.000000\n","       1      0        0.000000\n","              1        0.000000\n","              2        0.000000\n","       2      1        0.000000\n","              2        0.000000\n","       3      1        0.000000\n","              2        0.000000\n","       4      1        0.000000\n","              2        0.000000\n","       5      2        0.000000\n","man    0      0        0.260976\n","              1        0.000000\n","              2        0.000000\n","       1      0        0.118644\n","              1        0.095238\n","              2        0.200000\n","              3        0.000000\n","              4        0.000000\n","              5        0.000000\n","       2      0        0.153846\n","              1        0.000000\n","       3      1        1.000000\n","              2        0.000000\n","       4      1        0.000000\n","       8      2        1.000000\n","woman  0      0        0.214876\n","              1        0.055556\n","              2        0.200000\n","              3        0.000000\n","              4        0.000000\n","              5        0.000000\n","       1      0        0.237288\n","              1        0.047619\n","              2        0.142857\n","              3        0.000000\n","              4        0.000000\n","              5        0.000000\n","              6        0.000000\n","       2      0        0.333333\n","              1        0.000000\n","              2        0.000000\n","              3        0.000000\n","       3      0        0.000000\n","              1        1.000000\n","              2        0.000000\n","       4      2        0.000000\n","       5      2        0.000000\n","       8      2        1.000000\n","Name: age, dtype: float64"]},"execution_count":40,"metadata":{},"output_type":"execute_result"}]},{"cell_type":"code","metadata":{"colab":{"base_uri":"https://localhost:8080/","height":1000},"id":"fe20jroJVX08","executionInfo":{"elapsed":50,"status":"ok","timestamp":1635509214862,"user":{"displayName":"Samuel Doan","photoUrl":"https://lh3.googleusercontent.com/a-/AOh14GjbcdQ40FcyCSIyitBN2ptY3zHWA_09harKPYF2=s64","userId":"04384888964432338542"},"user_tz":-420},"outputId":"f13fa7f6-4594-4a45-d4c0-997c64fb269f"},"source":["titanic.groupby(['who', 'sibsp', 'parch'])['age'].agg([len, 'mean', lambda x: (x.isnull().sum())/len(x)])\n","# Lấy ra thông tin số lượng bản ghi cho mỗi nhóm\n","# Độ tuổi trung bình cho mỗi nhóm\n","# Tỷ lệ bị thiếu của mỗi nhóm"],"execution_count":null,"outputs":[{"data":{"text/html":["<div>\n","<style scoped>\n","    .dataframe tbody tr th:only-of-type {\n","        vertical-align: middle;\n","    }\n","\n","    .dataframe tbody tr th {\n","        vertical-align: top;\n","    }\n","\n","    .dataframe thead th {\n","        text-align: right;\n","    }\n","</style>\n","<table border=\"1\" class=\"dataframe\">\n","  <thead>\n","    <tr style=\"text-align: right;\">\n","      <th></th>\n","      <th></th>\n","      <th></th>\n","      <th>len</th>\n","      <th>mean</th>\n","      <th>&lt;lambda_0&gt;</th>\n","    </tr>\n","    <tr>\n","      <th>who</th>\n","      <th>sibsp</th>\n","      <th>parch</th>\n","      <th></th>\n","      <th></th>\n","      <th></th>\n","    </tr>\n","  </thead>\n","  <tbody>\n","    <tr>\n","      <th rowspan=\"13\" valign=\"top\">child</th>\n","      <th rowspan=\"3\" valign=\"top\">0</th>\n","      <th>0</th>\n","      <td>6.0</td>\n","      <td>12.166667</td>\n","      <td>0.000000</td>\n","    </tr>\n","    <tr>\n","      <th>1</th>\n","      <td>8.0</td>\n","      <td>6.052500</td>\n","      <td>0.000000</td>\n","    </tr>\n","    <tr>\n","      <th>2</th>\n","      <td>9.0</td>\n","      <td>4.981111</td>\n","      <td>0.000000</td>\n","    </tr>\n","    <tr>\n","      <th rowspan=\"3\" valign=\"top\">1</th>\n","      <th>0</th>\n","      <td>5.0</td>\n","      <td>13.900000</td>\n","      <td>0.000000</td>\n","    </tr>\n","    <tr>\n","      <th>1</th>\n","      <td>15.0</td>\n","      <td>4.566667</td>\n","      <td>0.000000</td>\n","    </tr>\n","    <tr>\n","      <th>2</th>\n","      <td>7.0</td>\n","      <td>5.274286</td>\n","      <td>0.000000</td>\n","    </tr>\n","    <tr>\n","      <th rowspan=\"2\" valign=\"top\">2</th>\n","      <th>1</th>\n","      <td>5.0</td>\n","      <td>2.300000</td>\n","      <td>0.000000</td>\n","    </tr>\n","    <tr>\n","      <th>2</th>\n","      <td>1.0</td>\n","      <td>9.000000</td>\n","      <td>0.000000</td>\n","    </tr>\n","    <tr>\n","      <th rowspan=\"2\" valign=\"top\">3</th>\n","      <th>1</th>\n","      <td>3.0</td>\n","      <td>4.333333</td>\n","      <td>0.000000</td>\n","    </tr>\n","    <tr>\n","      <th>2</th>\n","      <td>4.0</td>\n","      <td>6.250000</td>\n","      <td>0.000000</td>\n","    </tr>\n","    <tr>\n","      <th rowspan=\"2\" valign=\"top\">4</th>\n","      <th>1</th>\n","      <td>8.0</td>\n","      <td>5.625000</td>\n","      <td>0.000000</td>\n","    </tr>\n","    <tr>\n","      <th>2</th>\n","      <td>8.0</td>\n","      <td>6.125000</td>\n","      <td>0.000000</td>\n","    </tr>\n","    <tr>\n","      <th>5</th>\n","      <th>2</th>\n","      <td>4.0</td>\n","      <td>8.750000</td>\n","      <td>0.000000</td>\n","    </tr>\n","    <tr>\n","      <th rowspan=\"15\" valign=\"top\">man</th>\n","      <th rowspan=\"3\" valign=\"top\">0</th>\n","      <th>0</th>\n","      <td>410.0</td>\n","      <td>32.973597</td>\n","      <td>0.260976</td>\n","    </tr>\n","    <tr>\n","      <th>1</th>\n","      <td>12.0</td>\n","      <td>38.583333</td>\n","      <td>0.000000</td>\n","    </tr>\n","    <tr>\n","      <th>2</th>\n","      <td>5.0</td>\n","      <td>35.800000</td>\n","      <td>0.000000</td>\n","    </tr>\n","    <tr>\n","      <th rowspan=\"6\" valign=\"top\">1</th>\n","      <th>0</th>\n","      <td>59.0</td>\n","      <td>32.701923</td>\n","      <td>0.118644</td>\n","    </tr>\n","    <tr>\n","      <th>1</th>\n","      <td>21.0</td>\n","      <td>36.000000</td>\n","      <td>0.095238</td>\n","    </tr>\n","    <tr>\n","      <th>2</th>\n","      <td>5.0</td>\n","      <td>30.750000</td>\n","      <td>0.200000</td>\n","    </tr>\n","    <tr>\n","      <th>3</th>\n","      <td>1.0</td>\n","      <td>16.000000</td>\n","      <td>0.000000</td>\n","    </tr>\n","    <tr>\n","      <th>4</th>\n","      <td>2.0</td>\n","      <td>52.000000</td>\n","      <td>0.000000</td>\n","    </tr>\n","    <tr>\n","      <th>5</th>\n","      <td>1.0</td>\n","      <td>39.000000</td>\n","      <td>0.000000</td>\n","    </tr>\n","    <tr>\n","      <th rowspan=\"2\" valign=\"top\">2</th>\n","      <th>0</th>\n","      <td>13.0</td>\n","      <td>31.181818</td>\n","      <td>0.153846</td>\n","    </tr>\n","    <tr>\n","      <th>1</th>\n","      <td>1.0</td>\n","      <td>23.000000</td>\n","      <td>0.000000</td>\n","    </tr>\n","    <tr>\n","      <th rowspan=\"2\" valign=\"top\">3</th>\n","      <th>1</th>\n","      <td>1.0</td>\n","      <td>NaN</td>\n","      <td>1.000000</td>\n","    </tr>\n","    <tr>\n","      <th>2</th>\n","      <td>1.0</td>\n","      <td>19.000000</td>\n","      <td>0.000000</td>\n","    </tr>\n","    <tr>\n","      <th>4</th>\n","      <th>1</th>\n","      <td>1.0</td>\n","      <td>16.000000</td>\n","      <td>0.000000</td>\n","    </tr>\n","    <tr>\n","      <th>8</th>\n","      <th>2</th>\n","      <td>4.0</td>\n","      <td>NaN</td>\n","      <td>1.000000</td>\n","    </tr>\n","    <tr>\n","      <th rowspan=\"23\" valign=\"top\">woman</th>\n","      <th rowspan=\"6\" valign=\"top\">0</th>\n","      <th>0</th>\n","      <td>121.0</td>\n","      <td>31.084211</td>\n","      <td>0.214876</td>\n","    </tr>\n","    <tr>\n","      <th>1</th>\n","      <td>18.0</td>\n","      <td>34.176471</td>\n","      <td>0.055556</td>\n","    </tr>\n","    <tr>\n","      <th>2</th>\n","      <td>15.0</td>\n","      <td>26.833333</td>\n","      <td>0.200000</td>\n","    </tr>\n","    <tr>\n","      <th>3</th>\n","      <td>1.0</td>\n","      <td>24.000000</td>\n","      <td>0.000000</td>\n","    </tr>\n","    <tr>\n","      <th>4</th>\n","      <td>1.0</td>\n","      <td>29.000000</td>\n","      <td>0.000000</td>\n","    </tr>\n","    <tr>\n","      <th>5</th>\n","      <td>2.0</td>\n","      <td>40.000000</td>\n","      <td>0.000000</td>\n","    </tr>\n","    <tr>\n","      <th rowspan=\"7\" valign=\"top\">1</th>\n","      <th>0</th>\n","      <td>59.0</td>\n","      <td>33.355556</td>\n","      <td>0.237288</td>\n","    </tr>\n","    <tr>\n","      <th>1</th>\n","      <td>21.0</td>\n","      <td>35.450000</td>\n","      <td>0.047619</td>\n","    </tr>\n","    <tr>\n","      <th>2</th>\n","      <td>7.0</td>\n","      <td>31.333333</td>\n","      <td>0.142857</td>\n","    </tr>\n","    <tr>\n","      <th>3</th>\n","      <td>2.0</td>\n","      <td>51.000000</td>\n","      <td>0.000000</td>\n","    </tr>\n","    <tr>\n","      <th>4</th>\n","      <td>1.0</td>\n","      <td>45.000000</td>\n","      <td>0.000000</td>\n","    </tr>\n","    <tr>\n","      <th>5</th>\n","      <td>2.0</td>\n","      <td>38.500000</td>\n","      <td>0.000000</td>\n","    </tr>\n","    <tr>\n","      <th>6</th>\n","      <td>1.0</td>\n","      <td>43.000000</td>\n","      <td>0.000000</td>\n","    </tr>\n","    <tr>\n","      <th rowspan=\"4\" valign=\"top\">2</th>\n","      <th>0</th>\n","      <td>3.0</td>\n","      <td>35.500000</td>\n","      <td>0.333333</td>\n","    </tr>\n","    <tr>\n","      <th>1</th>\n","      <td>1.0</td>\n","      <td>24.000000</td>\n","      <td>0.000000</td>\n","    </tr>\n","    <tr>\n","      <th>2</th>\n","      <td>3.0</td>\n","      <td>20.000000</td>\n","      <td>0.000000</td>\n","    </tr>\n","    <tr>\n","      <th>3</th>\n","      <td>1.0</td>\n","      <td>24.000000</td>\n","      <td>0.000000</td>\n","    </tr>\n","    <tr>\n","      <th rowspan=\"3\" valign=\"top\">3</th>\n","      <th>0</th>\n","      <td>2.0</td>\n","      <td>31.500000</td>\n","      <td>0.000000</td>\n","    </tr>\n","    <tr>\n","      <th>1</th>\n","      <td>3.0</td>\n","      <td>NaN</td>\n","      <td>1.000000</td>\n","    </tr>\n","    <tr>\n","      <th>2</th>\n","      <td>2.0</td>\n","      <td>23.500000</td>\n","      <td>0.000000</td>\n","    </tr>\n","    <tr>\n","      <th>4</th>\n","      <th>2</th>\n","      <td>1.0</td>\n","      <td>17.000000</td>\n","      <td>0.000000</td>\n","    </tr>\n","    <tr>\n","      <th>5</th>\n","      <th>2</th>\n","      <td>1.0</td>\n","      <td>16.000000</td>\n","      <td>0.000000</td>\n","    </tr>\n","    <tr>\n","      <th>8</th>\n","      <th>2</th>\n","      <td>3.0</td>\n","      <td>NaN</td>\n","      <td>1.000000</td>\n","    </tr>\n","  </tbody>\n","</table>\n","</div>"],"text/plain":["                     len       mean  <lambda_0>\n","who   sibsp parch                              \n","child 0     0        6.0  12.166667    0.000000\n","            1        8.0   6.052500    0.000000\n","            2        9.0   4.981111    0.000000\n","      1     0        5.0  13.900000    0.000000\n","            1       15.0   4.566667    0.000000\n","            2        7.0   5.274286    0.000000\n","      2     1        5.0   2.300000    0.000000\n","            2        1.0   9.000000    0.000000\n","      3     1        3.0   4.333333    0.000000\n","            2        4.0   6.250000    0.000000\n","      4     1        8.0   5.625000    0.000000\n","            2        8.0   6.125000    0.000000\n","      5     2        4.0   8.750000    0.000000\n","man   0     0      410.0  32.973597    0.260976\n","            1       12.0  38.583333    0.000000\n","            2        5.0  35.800000    0.000000\n","      1     0       59.0  32.701923    0.118644\n","            1       21.0  36.000000    0.095238\n","            2        5.0  30.750000    0.200000\n","            3        1.0  16.000000    0.000000\n","            4        2.0  52.000000    0.000000\n","            5        1.0  39.000000    0.000000\n","      2     0       13.0  31.181818    0.153846\n","            1        1.0  23.000000    0.000000\n","      3     1        1.0        NaN    1.000000\n","            2        1.0  19.000000    0.000000\n","      4     1        1.0  16.000000    0.000000\n","      8     2        4.0        NaN    1.000000\n","woman 0     0      121.0  31.084211    0.214876\n","            1       18.0  34.176471    0.055556\n","            2       15.0  26.833333    0.200000\n","            3        1.0  24.000000    0.000000\n","            4        1.0  29.000000    0.000000\n","            5        2.0  40.000000    0.000000\n","      1     0       59.0  33.355556    0.237288\n","            1       21.0  35.450000    0.047619\n","            2        7.0  31.333333    0.142857\n","            3        2.0  51.000000    0.000000\n","            4        1.0  45.000000    0.000000\n","            5        2.0  38.500000    0.000000\n","            6        1.0  43.000000    0.000000\n","      2     0        3.0  35.500000    0.333333\n","            1        1.0  24.000000    0.000000\n","            2        3.0  20.000000    0.000000\n","            3        1.0  24.000000    0.000000\n","      3     0        2.0  31.500000    0.000000\n","            1        3.0        NaN    1.000000\n","            2        2.0  23.500000    0.000000\n","      4     2        1.0  17.000000    0.000000\n","      5     2        1.0  16.000000    0.000000\n","      8     2        3.0        NaN    1.000000"]},"execution_count":41,"metadata":{},"output_type":"execute_result"}]},{"cell_type":"code","metadata":{"colab":{"base_uri":"https://localhost:8080/"},"id":"IQVJDnG4ge1p","executionInfo":{"elapsed":48,"status":"ok","timestamp":1635509214863,"user":{"displayName":"Samuel Doan","photoUrl":"https://lh3.googleusercontent.com/a-/AOh14GjbcdQ40FcyCSIyitBN2ptY3zHWA_09harKPYF2=s64","userId":"04384888964432338542"},"user_tz":-420},"outputId":"38bbfd9e-6356-4f9f-9cb7-8a1fa8a56f60"},"source":["ser = titanic.groupby(['who', 'sibsp', 'parch'])['age'].apply(lambda x: x.fillna(x.mean())) \n","# điền các giá trị bị thiếu bằng giá trị trung bình của nhóm\n","ser"],"execution_count":null,"outputs":[{"data":{"text/plain":["0      22.000000\n","1      38.000000\n","2      26.000000\n","3      35.000000\n","4      35.000000\n","         ...    \n","886    27.000000\n","887    19.000000\n","888    31.333333\n","889    26.000000\n","890    32.000000\n","Name: age, Length: 891, dtype: float64"]},"execution_count":42,"metadata":{},"output_type":"execute_result"}]},{"cell_type":"code","metadata":{"colab":{"base_uri":"https://localhost:8080/"},"id":"791DjvkKhXjp","executionInfo":{"elapsed":35,"status":"ok","timestamp":1635509214864,"user":{"displayName":"Samuel Doan","photoUrl":"https://lh3.googleusercontent.com/a-/AOh14GjbcdQ40FcyCSIyitBN2ptY3zHWA_09harKPYF2=s64","userId":"04384888964432338542"},"user_tz":-420},"outputId":"c0babc24-6d44-403a-9d8b-038a2f42eb4d"},"source":["ser.isnull().sum()"],"execution_count":null,"outputs":[{"data":{"text/plain":["11"]},"execution_count":43,"metadata":{},"output_type":"execute_result"}]},{"cell_type":"code","metadata":{"id":"pKkZ1LTbhq15"},"source":["titanic['age'] = ser"],"execution_count":null,"outputs":[]},{"cell_type":"code","metadata":{"colab":{"base_uri":"https://localhost:8080/","height":833},"id":"R0mKqew2VX1B","executionInfo":{"elapsed":27,"status":"ok","timestamp":1635509214866,"user":{"displayName":"Samuel Doan","photoUrl":"https://lh3.googleusercontent.com/a-/AOh14GjbcdQ40FcyCSIyitBN2ptY3zHWA_09harKPYF2=s64","userId":"04384888964432338542"},"user_tz":-420},"outputId":"a4b8da38-8736-471f-89bb-5392c7e1cb80"},"source":["titanic.groupby(['sibsp', 'parch'])['age'].agg([len, 'mean', lambda x: (x.isnull().sum())/len(x)])"],"execution_count":null,"outputs":[{"data":{"text/html":["<div>\n","<style scoped>\n","    .dataframe tbody tr th:only-of-type {\n","        vertical-align: middle;\n","    }\n","\n","    .dataframe tbody tr th {\n","        vertical-align: top;\n","    }\n","\n","    .dataframe thead th {\n","        text-align: right;\n","    }\n","</style>\n","<table border=\"1\" class=\"dataframe\">\n","  <thead>\n","    <tr style=\"text-align: right;\">\n","      <th></th>\n","      <th></th>\n","      <th>len</th>\n","      <th>mean</th>\n","      <th>&lt;lambda_0&gt;</th>\n","    </tr>\n","    <tr>\n","      <th>sibsp</th>\n","      <th>parch</th>\n","      <th></th>\n","      <th></th>\n","      <th></th>\n","    </tr>\n","  </thead>\n","  <tbody>\n","    <tr>\n","      <th rowspan=\"6\" valign=\"top\">0</th>\n","      <th>0</th>\n","      <td>537.0</td>\n","      <td>32.315390</td>\n","      <td>0.000000</td>\n","    </tr>\n","    <tr>\n","      <th>1</th>\n","      <td>38.0</td>\n","      <td>29.647276</td>\n","      <td>0.000000</td>\n","    </tr>\n","    <tr>\n","      <th>2</th>\n","      <td>29.0</td>\n","      <td>21.597586</td>\n","      <td>0.000000</td>\n","    </tr>\n","    <tr>\n","      <th>3</th>\n","      <td>1.0</td>\n","      <td>24.000000</td>\n","      <td>0.000000</td>\n","    </tr>\n","    <tr>\n","      <th>4</th>\n","      <td>1.0</td>\n","      <td>29.000000</td>\n","      <td>0.000000</td>\n","    </tr>\n","    <tr>\n","      <th>5</th>\n","      <td>2.0</td>\n","      <td>40.000000</td>\n","      <td>0.000000</td>\n","    </tr>\n","    <tr>\n","      <th rowspan=\"7\" valign=\"top\">1</th>\n","      <th>0</th>\n","      <td>123.0</td>\n","      <td>32.251148</td>\n","      <td>0.000000</td>\n","    </tr>\n","    <tr>\n","      <th>1</th>\n","      <td>57.0</td>\n","      <td>27.525439</td>\n","      <td>0.000000</td>\n","    </tr>\n","    <tr>\n","      <th>2</th>\n","      <td>19.0</td>\n","      <td>21.579123</td>\n","      <td>0.000000</td>\n","    </tr>\n","    <tr>\n","      <th>3</th>\n","      <td>3.0</td>\n","      <td>39.333333</td>\n","      <td>0.000000</td>\n","    </tr>\n","    <tr>\n","      <th>4</th>\n","      <td>3.0</td>\n","      <td>49.666667</td>\n","      <td>0.000000</td>\n","    </tr>\n","    <tr>\n","      <th>5</th>\n","      <td>3.0</td>\n","      <td>38.666667</td>\n","      <td>0.000000</td>\n","    </tr>\n","    <tr>\n","      <th>6</th>\n","      <td>1.0</td>\n","      <td>43.000000</td>\n","      <td>0.000000</td>\n","    </tr>\n","    <tr>\n","      <th rowspan=\"4\" valign=\"top\">2</th>\n","      <th>0</th>\n","      <td>16.0</td>\n","      <td>31.991477</td>\n","      <td>0.000000</td>\n","    </tr>\n","    <tr>\n","      <th>1</th>\n","      <td>7.0</td>\n","      <td>8.357143</td>\n","      <td>0.000000</td>\n","    </tr>\n","    <tr>\n","      <th>2</th>\n","      <td>4.0</td>\n","      <td>17.250000</td>\n","      <td>0.000000</td>\n","    </tr>\n","    <tr>\n","      <th>3</th>\n","      <td>1.0</td>\n","      <td>24.000000</td>\n","      <td>0.000000</td>\n","    </tr>\n","    <tr>\n","      <th rowspan=\"3\" valign=\"top\">3</th>\n","      <th>0</th>\n","      <td>2.0</td>\n","      <td>31.500000</td>\n","      <td>0.000000</td>\n","    </tr>\n","    <tr>\n","      <th>1</th>\n","      <td>7.0</td>\n","      <td>4.333333</td>\n","      <td>0.571429</td>\n","    </tr>\n","    <tr>\n","      <th>2</th>\n","      <td>7.0</td>\n","      <td>13.000000</td>\n","      <td>0.000000</td>\n","    </tr>\n","    <tr>\n","      <th rowspan=\"2\" valign=\"top\">4</th>\n","      <th>1</th>\n","      <td>9.0</td>\n","      <td>6.777778</td>\n","      <td>0.000000</td>\n","    </tr>\n","    <tr>\n","      <th>2</th>\n","      <td>9.0</td>\n","      <td>7.333333</td>\n","      <td>0.000000</td>\n","    </tr>\n","    <tr>\n","      <th>5</th>\n","      <th>2</th>\n","      <td>5.0</td>\n","      <td>10.200000</td>\n","      <td>0.000000</td>\n","    </tr>\n","    <tr>\n","      <th>8</th>\n","      <th>2</th>\n","      <td>7.0</td>\n","      <td>NaN</td>\n","      <td>1.000000</td>\n","    </tr>\n","  </tbody>\n","</table>\n","</div>"],"text/plain":["               len       mean  <lambda_0>\n","sibsp parch                              \n","0     0      537.0  32.315390    0.000000\n","      1       38.0  29.647276    0.000000\n","      2       29.0  21.597586    0.000000\n","      3        1.0  24.000000    0.000000\n","      4        1.0  29.000000    0.000000\n","      5        2.0  40.000000    0.000000\n","1     0      123.0  32.251148    0.000000\n","      1       57.0  27.525439    0.000000\n","      2       19.0  21.579123    0.000000\n","      3        3.0  39.333333    0.000000\n","      4        3.0  49.666667    0.000000\n","      5        3.0  38.666667    0.000000\n","      6        1.0  43.000000    0.000000\n","2     0       16.0  31.991477    0.000000\n","      1        7.0   8.357143    0.000000\n","      2        4.0  17.250000    0.000000\n","      3        1.0  24.000000    0.000000\n","3     0        2.0  31.500000    0.000000\n","      1        7.0   4.333333    0.571429\n","      2        7.0  13.000000    0.000000\n","4     1        9.0   6.777778    0.000000\n","      2        9.0   7.333333    0.000000\n","5     2        5.0  10.200000    0.000000\n","8     2        7.0        NaN    1.000000"]},"execution_count":45,"metadata":{},"output_type":"execute_result"}]},{"cell_type":"code","metadata":{"colab":{"base_uri":"https://localhost:8080/"},"id":"_5aBoo9bVX1C","executionInfo":{"elapsed":16,"status":"ok","timestamp":1635509215842,"user":{"displayName":"Samuel Doan","photoUrl":"https://lh3.googleusercontent.com/a-/AOh14GjbcdQ40FcyCSIyitBN2ptY3zHWA_09harKPYF2=s64","userId":"04384888964432338542"},"user_tz":-420},"outputId":"0b72f40f-ac99-40c0-db42-f6355d7df043"},"source":["ser = titanic.groupby(['sibsp', 'parch'])['age'].apply(lambda x: x.fillna(x.mean()))\n","ser"],"execution_count":null,"outputs":[{"data":{"text/plain":["0      22.000000\n","1      38.000000\n","2      26.000000\n","3      35.000000\n","4      35.000000\n","         ...    \n","886    27.000000\n","887    19.000000\n","888    31.333333\n","889    26.000000\n","890    32.000000\n","Name: age, Length: 891, dtype: float64"]},"execution_count":46,"metadata":{},"output_type":"execute_result"}]},{"cell_type":"code","metadata":{"colab":{"base_uri":"https://localhost:8080/"},"id":"H8ni8ZfQicSw","executionInfo":{"elapsed":15,"status":"ok","timestamp":1635509215843,"user":{"displayName":"Samuel Doan","photoUrl":"https://lh3.googleusercontent.com/a-/AOh14GjbcdQ40FcyCSIyitBN2ptY3zHWA_09harKPYF2=s64","userId":"04384888964432338542"},"user_tz":-420},"outputId":"ed70c5e2-09c4-47ed-a4d7-425498d4a7d1"},"source":["ser.isnull().sum()"],"execution_count":null,"outputs":[{"data":{"text/plain":["7"]},"execution_count":47,"metadata":{},"output_type":"execute_result"}]},{"cell_type":"code","metadata":{"id":"ebZAiFxgiiNw"},"source":["titanic['age'] = ser"],"execution_count":null,"outputs":[]},{"cell_type":"code","metadata":{"colab":{"base_uri":"https://localhost:8080/"},"id":"nRe2lh-HVX1D","executionInfo":{"elapsed":28,"status":"ok","timestamp":1635509217934,"user":{"displayName":"Samuel Doan","photoUrl":"https://lh3.googleusercontent.com/a-/AOh14GjbcdQ40FcyCSIyitBN2ptY3zHWA_09harKPYF2=s64","userId":"04384888964432338542"},"user_tz":-420},"outputId":"eb17699b-5e4f-4fbb-8434-b96f6fd69f4e"},"source":["titanic['age'].isnull().sum()"],"execution_count":null,"outputs":[{"data":{"text/plain":["7"]},"execution_count":49,"metadata":{},"output_type":"execute_result"}]},{"cell_type":"code","metadata":{"colab":{"base_uri":"https://localhost:8080/"},"id":"2gSRMqn_iovd","executionInfo":{"elapsed":26,"status":"ok","timestamp":1635509217934,"user":{"displayName":"Samuel Doan","photoUrl":"https://lh3.googleusercontent.com/a-/AOh14GjbcdQ40FcyCSIyitBN2ptY3zHWA_09harKPYF2=s64","userId":"04384888964432338542"},"user_tz":-420},"outputId":"e023b024-9133-4ccb-df64-b464075831f5"},"source":["child_avg_age = titanic[titanic['who'] == 'child']['age'].mean()\n","child_avg_age"],"execution_count":null,"outputs":[{"data":{"text/plain":["6.369518072289157"]},"execution_count":50,"metadata":{},"output_type":"execute_result"}]},{"cell_type":"code","metadata":{"id":"LLUSOVlci1XN"},"source":["titanic['age'] = titanic['age'].fillna(child_avg_age)"],"execution_count":null,"outputs":[]},{"cell_type":"code","metadata":{"colab":{"base_uri":"https://localhost:8080/"},"id":"Qhi2BkKKi-EI","executionInfo":{"elapsed":18,"status":"ok","timestamp":1635509217936,"user":{"displayName":"Samuel Doan","photoUrl":"https://lh3.googleusercontent.com/a-/AOh14GjbcdQ40FcyCSIyitBN2ptY3zHWA_09harKPYF2=s64","userId":"04384888964432338542"},"user_tz":-420},"outputId":"d236af2f-e0b2-478d-c2a4-725fca1a5eb3"},"source":["titanic['age'].isnull().sum()"],"execution_count":null,"outputs":[{"data":{"text/plain":["0"]},"execution_count":52,"metadata":{},"output_type":"execute_result"}]},{"cell_type":"code","metadata":{"id":"Y2m8T0leVX1F"},"source":["# Dien du lieu bi thieu bang tep sisp va parch lon nhat"],"execution_count":null,"outputs":[]},{"cell_type":"markdown","metadata":{"id":"gEG4NlxEVX1H"},"source":["## Tạo biến mới"]},{"cell_type":"markdown","metadata":{"id":"dIQ7kJpI8H2s"},"source":["### Chia bin dữ liệu"]},{"cell_type":"code","metadata":{"colab":{"base_uri":"https://localhost:8080/","height":297},"id":"2EiOuX5JjiRk","executionInfo":{"elapsed":1184,"status":"ok","timestamp":1635509230440,"user":{"displayName":"Samuel Doan","photoUrl":"https://lh3.googleusercontent.com/a-/AOh14GjbcdQ40FcyCSIyitBN2ptY3zHWA_09harKPYF2=s64","userId":"04384888964432338542"},"user_tz":-420},"outputId":"3c354bed-afb1-492b-eb90-103608bf49f0"},"source":["sns.histplot(\n","    data=titanic, \n","    x='age', \n","    hue='survived', # Chia biểu đồ thành 02 biểu đồ dạng chồng lên nhau\n","    kde=True, \n","    stat='probability', # Tính tỷ lệ phần trăm thay vì đếm\n","    common_norm=False # Tính tỷ lệ cho từng phân loại thay vì tính cho chung toàn bộ dữ liệu\n",")"],"execution_count":null,"outputs":[{"data":{"text/plain":["<matplotlib.axes._subplots.AxesSubplot at 0x7f03ac120e10>"]},"execution_count":54,"metadata":{},"output_type":"execute_result"},{"data":{"image/png":"iVBORw0KGgoAAAANSUhEUgAAAYgAAAEGCAYAAAB/+QKOAAAABHNCSVQICAgIfAhkiAAAAAlwSFlzAAALEgAACxIB0t1+/AAAADh0RVh0U29mdHdhcmUAbWF0cGxvdGxpYiB2ZXJzaW9uMy4yLjIsIGh0dHA6Ly9tYXRwbG90bGliLm9yZy+WH4yJAAAgAElEQVR4nO3deXyU1fX48c/JZJnsOxCykLATdo2IVRBRATdwQRb3SmttUbFUq3XXtlat1Z9t/VZRrLsIqIhUERRxwY1NkH0nKyGQPWSbmfv7YwYNYSATyGQmyXm/Xs8rM882ZzJDDs+99zlXjDEopZRSjQX4OgCllFL+SROEUkoptzRBKKWUcksThFJKKbc0QSillHIr0NcBtJSEhASTnp7u6zCUUqpNWb169QFjTKK7be0mQaSnp7Nq1Spfh6GUUm2KiOw91jZtYlJKKeWWJgillFJuaYJQSinlVrvpg1BKKW+or68nNzeXmpoaX4dyUqxWKykpKQQFBXl8jCYIpZQ6jtzcXCIjI0lPT0dEfB3OCTHGcPDgQXJzc8nIyPD4OG1iUkqp46ipqSE+Pr7NJgcAESE+Pr7ZV0GaIJRSqgltOTkcdiLvQROEUkoptzRBKKWUH1i4cCGPPfZYi5wrIiKiRc6jCUJ1GKlp3RARj5bUtG6+Dle1Qzab7Zjbxo8fz913392K0TRNRzGpDiM3J5unlmz1aN+ZY/p4ORrVllVVVTFp0iRyc3Ox2+3cf//93HXXXaxatYqEhARWrVrFHXfcwfLly3nooYfYuXMnu3btIi0tjd27dzN79mz69+8PwKhRo3jyySfZsGEDq1at4q9//SuDBg1i9+7dBAQEUFVVRd++fdm1axfZ2dlMnz6doqIiwsLCeOGFF+jbty+7d+/mqquuorKykgkTJrTY+9QrCKWUaqbFixfTtWtX1q1bx4YNGxg3btxx99+0aROffPIJb731FpMnT2bu3LkAFBQUUFBQQFZW1k/7RkdHM2TIED7//HMAFi1axNixYwkKCuKmm27iX//6F6tXr+bJJ5/kd7/7HQAzZszgt7/9LT/++CNJSUkt9j41QSilVDMNHDiQpUuXctddd/Hll18SHR193P3Hjx9PaGgoAJMmTWL+/PkAzJ07l4kTJx61/+TJk3n77bcBmDNnDpMnT6ayspKvv/6aK6+8kiFDhvCb3/yGgoICAFasWMHUqVMBuPbaa1vsfWoTk1JKNVPv3r1Zs2YNH374Iffddx/nnnsugYGBOBwOgKPuNwgPD//pcXJyMvHx8axfv563336b55577qjzjx8/nnvuuYfi4mJWr17N6NGjqaqqIiYmhh9++MFtTN4YiqtXEEop1Uz5+fmEhYVxzTXXcOedd7JmzRrS09NZvXo1AO+8885xj588eTJPPPEEZWVlDBo06KjtERERnHbaacyYMYOLL74Yi8VCVFQUGRkZzJs3D3DeHb1u3ToAzjzzTObMmQPAG2+80WLvUxOEUko1048//siwYcMYMmQIDz/8MPfddx8PPvggM2bMICsrC4vFctzjJ06cyJw5c5g0adIx95k8eTKvv/46kydP/mndG2+8wezZsxk8eDD9+/fn/fffB+CZZ57h2WefZeDAgeTl5bXMmwTEGNNiJ/OlrKwsoxMGqeMRkWaNYmov/zbUydm8eTP9+vXzdRgtwt17EZHVxpgsd/vrFYRSSim3NEEopZRySxOEUkoptzRBKKWUcksThFJKKbc0QSillHJLE4RSSp2k5lQKbqlqwosXL6ZPnz707NmzxcqEN6alNpRS6iQ1p1KwJ5qqJmy325k+fTpLly4lJSWF0047jfHjx5OZmdliMYBeQSilVJvz/fff07NnT7p3705wcDBTpkz56a7qlqQJQiml2pi8vDxSU1N/ep6SktKiJTYO0wShlFLKLa8mCBEZJyJbRWSHiBw1l56IzBSRTSKyXkQ+FZFuDbZdLyLbXcv13oxTKaXakuTkZHJycn56npubS3Jycou/jtcShIhYgGeBC4BMYKqINO5BWQtkGWMGAfOBJ1zHxgEPAqcDw4AHRSTWW7EqpVRbctppp7F9+3Z2795NXV0dc+bMYfz48S3+Ot4cxTQM2GGM2QUgInOACcCmwzsYYz5rsP+3wDWux2OBpcaYYtexS4FxwFtejFcppU5ISmpai85jnpKadtztgYGB/Pvf/2bs2LHY7XZuvPHGn+a4bkneTBDJQE6D57k4rwiOZRrw0XGOPer6SURuAm4CSEs7/i9UKaW8JSd7b6u/5oUXXsiFF17o1dfwi05qEbkGyAL+3pzjjDGzjDFZxpisxMRE7wSnlFIdlDcTRB6Q2uB5imvdEUTkPOBeYLwxprY5xyqllPIebyaIlUAvEckQkWBgCrCw4Q4iMhR4Hmdy2N9g08fAGBGJdXVOj3GtU0op1Uq81gdhjLGJyC04/7BbgJeMMRtF5BFglTFmIc4mpQhgnogAZBtjxhtjikXkzziTDMAjhzuslVJKtQ6v1mIyxnwIfNho3QMNHp93nGNfAl7yXnRKKaWOxy86qZVSSvkfTRBKKXWS0tNSWrTcd3paSpOveeONN9KpUycGDBjgtfel5b6VUuok7c3Jwyx7tMXOJ6PvaXKfG264gVtuuYXrrruuxV63Mb2CUEqpNmjkyJHExcV59TU0QSillHJLE4RSSim3NEEopZRySxOEUkopt3QUk1JKnaRuqckejTxqzvmaMnXqVJYvX86BAwdISUnh4YcfZtq0aS0WA2iCUEqpk7YnO7fVX/Ott7w/PY42MSmllHJLE4RSSim3NEEopVQTjDG+DuGknch70AShlFLHYbVaOXjwYJtOEsYYDh48iNVqbdZx2kmtlFLHkZKSQm5uLkVFRb4O5aRYrVZSUpouAtiQJgillDqOoKAgMjIyfB2GT2gTk1JKKbc0QSillHJLE4RSSim3NEEopZRySxOEUkoptzRBKKWUcksThFJKKbc0QSillHJLE4RSSim3NEEopZRySxOEUkoptzRBKKWUcksThFJKKbc0QSillHJLE4RSSim3NEEopZRySxOEUkoptzRBKKWUcksThFJKKbc0QSillHJLE4RSSim3vJogRGSciGwVkR0icreb7SNFZI2I2ERkYqNtdhH5wbUs9GacSimljhborROLiAV4FjgfyAVWishCY8ymBrtlAzcAd7g5RbUxZoi34lNKKXV8XksQwDBghzFmF4CIzAEmAD8lCGPMHtc2hxfjUEopdQK82cSUDOQ0eJ7rWucpq4isEpFvReRSdzuIyE2ufVYVFRWdTKxKKaUa8edO6m7GmCzgKuD/iUiPxjsYY2YZY7KMMVmJiYmtH6FSSrVj3kwQeUBqg+cprnUeMcbkuX7uApYDQ1syOKWUUsfnzQSxEuglIhkiEgxMATwajSQisSIS4nqcAJxJg74LpZRS3ue1BGGMsQG3AB8Dm4G5xpiNIvKIiIwHEJHTRCQXuBJ4XkQ2ug7vB6wSkXXAZ8BjjUY/KaWU8jJvjmLCGPMh8GGjdQ80eLwSZ9NT4+O+BgZ6MzallFLH59EVhIhcIiL+3KGtlFKqhXn6R38ysF1EnhCRvt4MSCmllH/wKEEYY67BOYpoJ/CyiHzjugch0qvRKaWU8hmPm42MMeXAfGAOkARcBqwRkVu9FJtSHklPS0FEmlyUUs3jUSe1iEzAWTOpJ/AqMMwYs19EwnAOP/2X1yJUqgl7c/Iwyx5tcj8ZfU8rRKNU++HpKKbLgaeNMV80XGmMOSQi01o+LKWUUr7maRPTvsbJQUQeBzDGfNriUSmllPI5TxPE+W7WXdCSgSillPIvx21iEpHfAr8DeojI+gabIoEV3gxMKaWUbzXVB/Em8BHwN6DhjHAVxphir0WllFLK55pKEMYYs0dEpjfeICJxmiSUUqr98uQK4mJgNWCAhoPJDdDdS3EppZTyseMmCGPMxa6fGa0TjlJKKX/RVCf1KcfbboxZ07LhKKWU8hdNNTH94zjbDDC6BWNRSinlR5pqYjqntQJRSinlX5pqYhptjFkmIpe7226Medc7YSmllPK1ppqYzgaWAZe42WYATRBKKdVONdXE9KDr5y9bJxyllFL+wtMpR+NF5J8iskZEVovIMyIS7+3glFJK+Y6nxfrmAEXAFcBE1+O3vRWUUkop3/N0PogkY8yfGzz/i4hM9kZASiml/IOnVxBLRGSKiAS4lknAx94MTCmllG81Ncy1gp9rMN0OvO7aFABUAnd4NTqllFI+09QopsjWCkQppZR/8bQPAhGJBXoB1sPrGk9DqpRSqv3wKEGIyK+AGUAK8AMwHPgGrcWklFLtlqdXEDOA04BvjTHniEhf4FHvhaWUdzz88MO+DkGpNsPTBFFjjKkREUQkxBizRUT6eDUypbzgwevP9Wi/mSve9HIkSvk/TxNErojEAAuApSJSAuz1XlhKKaV8zaMEYYy5zPXwIRH5DIgGFnstKqVakN1AXnUwEmRtemel1E+aM4rpFOAsnPdFrDDG1HktKqVaQFFtIE9u78JHhVGU2wJJmzmft3LqGR5XSXpYHSJNn0OpjszTYn0PAK8A8UAC8F8Ruc+bgSl1Mj7dH8nor/rwbn4MYzqV82hmLiVfvEqtQ1i4L5bPD0ZijK+jVMq/eXoFcTUw2BhTAyAij+Ec7voXbwWm1Il6Jy+GP25MJTOymmcGZdM93Hmxe/U3c7n2hrGsOBjB2rJw6h3CeYnleiWh1DF4miDycd4gV+N6HgLkeSUipU7CZ0WR3LkhlTPiKnl+6F4iAh1HbLcIjIivJCjA8H1JBJ1C6hkcXe2jaJXyb03VYvoXzj6HMmCjiCx1PT8f+N774SnluW2VIdy6Lo1+kTXMGrqX8EbJ4TARGB5bxf7aIL44EEmStZ5OIbZWjlYp/9fUFcQq18/VwHsN1i/3SjRKnaAau3DLum5YLQ5mn7L7mMnhMBEY26mM13LiWVYUxeTkYm1qUqqR43ZSG2NeObwAb+FMFKuBN13rjktExonIVhHZISJ3u9k+0jVLnU1EJjbadr2IbHct1zfvbamO5tGtSWyrtPKPgTl0sXp2NWC1GEbEV1JYG8TGilAvR6hU2+PpKKZRwHbgWeD/gG0iMrKJYyyu/S8AMoGpIpLZaLds4AbgzUbHxgEPAqcDw4AHXcUClTpKSHJfXs1J4JdpRZydUNmsY/tE1NDVWsfXByOoc+glhFINeTph0D+AMcaYs40xI4GxwNNNHDMM2GGM2eW6Z2IOMKHhDsaYPcaY9UDj9oCxwFJjTLExpgRYCozzMFbVgdjsDuLGTKertY47ehU2+3gROCu+kmpHAD+W6VWEUg15miCCjDFbDz8xxmwDgpo4JhnIafA817XOEx4dKyI3icgqEVlVVFTk4alVe/Ly13sI7pTBA33zm+x3OJYkaz3dQmtZXRpO/YmdQql2ydMEsVpEXhSRUa7lBX7uwPYZY8wsY0yWMSYrMTHR1+GoVravrIanl27j0M6VjO1UflLnOj2uynkVUR7WQtEp1fZ5miBuBjYBt7mWTcBvmzgmD0ht8DwFz++dOJljVQfx5/9twuYwlCx97qRHICVZ6+lqreOHsjAceoe1UoAHCcLV2bzOGPOUMeZy1/K0Maa2iUNXAr1EJENEgoEpwEIP4/oYGCMisa7O6TGudUoB8MW2Iv63voDp5/TEVuam78Fhh8pCKNkD5XlQf6jJcw6NPkSFzcKuqpCWD1ipNqjJO6mNMXbXUNU0Y0y2pyc2xthE5Bacf9gtwEvGmI0i8giwyhizUEROw3l/RSxwiYg8bIzpb4wpFpE/40wyAI8YY4qb/e5Uu1RTb+eB9zeQkRDOTSO7M+PwBmOcCSF/jfOno/6I476ZFkZl1ddsDDsdh1iOOm/38FqiAu2sLdNmJqXA81IbsTjvpP4eqDq80hgz/ngHGWM+BD5stO6BBo9X4mw+cnfsS8BLHsanOpBZX+xiz8FDvHrjMKxBrj/0lYWwfSmU50JQGHQZCNGpEBwG9nqo3I9132cML53HKZXLWRozhfyQ7kecN0BgUPQhvjoYSWC826+lUh2Kpwnifq9GoZSH9h6s4t+f7eCiQUmM7J0IDgd/PDMY1rwCgSHQa6wzOQQ0+mrH92ToLxex4Jnfc3bZAq488CxfRl3CmoizadiB0S+imq8PRhAxaEwrvzOl/E9TtZisODuoewI/ArONMVq0RvmEMYaHFm4kKEC4/6JMqK2Ed3/N4+dZIb4X9B4HQce/l2FX6AByQ3owpmQOZ5e/T5ijgq+iLv4pSYQFGjLCa6nvP5p6u4Mgi6fjOJRqf5r69r8CZOFMDhfgvGFOKZ/4eGMhn20t4vfn96ZLYBX89wLYtpjbPqqBzEubTA6H1QWEsijuetaF/4LTKpdxZvkRraD0j6zGEh7Dp5v3e+NtKNVmNJUgMo0x1xhjngcmAiNaISbVRqWnpSAiTS7pac1v36+qtfHIBxvp2yWSGwZHwCuXwIFtMPVt/vV9Hc0e5yoBLIueyPqwMxhW+QmDqlb8tKlbWB22ioPMXZVznBMo1f411Qfx0zAQ16gkL4ej2rK9OXmYZY82uZ+MvqfZ53566Tbyy2r416XpBL52CZTshavehu6jmh/oT4EIy2KuIMJexjml73IgMIn8kO4ECFRt+JTlUfEUltfQOUrnslYdU1NXEINFpNy1VACDDj8WkZO7dVUpD63eW8zsFbu56tTOnPrpVCjNhqvnnVxycDFi4aO4ayizxHFR8SuE2SsAqFy/FIeB+atzT/o1lGqrmir3bTHGRLmWSGNMYIPHUa0VpPKt1LRuHjUdIS3foVtTb+fO+evpGhXCPaUPOu9vuHoeZLRca2ddQCiL4m/A6qjm/NI5YAy20gJOz4hj3qocjE5erTooT4e5qg4sNyebp5ZsbXK/mWP6tPhrP710G7uKqni9x6dE5K2ASa9A+lkt/joHgpL5KvpCRpW9T+Yh52SJV2alcse8dazJLuXUblptXnU8OoZP+a012SW88OUupnbJ56y82TDub5A5oekDT9Da8JHkBPdgVNkCukQIY/t3xhoUwIK1WgZMdUyaIJRfKquu5/Y5P5BkreeekvvhjFtgeFP1IU+SBPBJ7GQspp6/nx9CpDWI8zO7sGh9PnU2rQOuOh5NEMrvGGP44/x15JdU8U/7X4gcMA7O/3OrvHZpYCKrIkdzzaBg2PMVlw3tSsmher7YpvONqI5HE4TyO/9atoOPNxZyd9AcTk1PhEufg4DW+6qujDiP3SUO+N8djOgeQ1x4MO/9oM1MquPRBKH8ysJ1+Ty1dBuXB33LtMRtMOUNCGrd+xBsAcHctrgGijYTtPJ5LhmUxCebCimvqW/6YKXaER3FpPzGsi2FzHx7LcOCdvG3qPnItR9DWFzTB0rACd18dzyLttmctZ2WP8alV1zEK984WLxhH5OyUps+WKl2QhOE8gufbCrkd2+spl9gAS+GPEPINe9ATJpnBxsHT82a3eRuM2+a1qyYet06n02/C+frPwygPvmf3PrkOia/fe8R+3RLTWZPtt5Mp9onTRDK5+Z8n829CzbQP7iQV+TPRE1+CZIG+zosts//C2xfwnTLWuo71fJM9iDyP/w7Sdafm5pa+spFKX+iCUK1HE+belx3XNfU23n4g0289X02IyL38Vzdnwi//N/Q81wvB9oM3c6Ewg1cWvcB/4/bWFgQw28ydEST6hg0QaiW04ymntV7S/jj/HXsLKri5tRs7th/D4FjH4FBk37aLz0thb05Ph49FBwOKcNI3/sVQyKu4718TRCq49AEoVpVab2F+ItmcsV/vqZrtJXXhuUwYv3d8Itb4Be3HrGvN6vDNkvqMChYy2WO5TxYeSlbKqz0jazx7msq5Qd0mKvyOmMgvzqIRfuieSU7nvC+I/jtqB4sGZXDiPV3wcArW+1GuBNiCYZuZ3Fx/UdYcLCgIMbXESnVKjRBKK9xGNheGcLcvFjm5ceRVx3MaTFV5D73S+7qsoaIj2+HXmNgwv+16o1wJ6TLIOLDAjk7aDPv58fg0AKvqgPQJibV4uocwqZyK2vLwii3BRIdZGNUQjmZkdUEBYAlvRLenw7dz4ZJr0FgsPsTeeH+hhMWYIH0EVy6YRnLavvzXUk4Z8RV+ToqpbxKE4RqMRJkZWVJGGtKw6lxBJBkrWNkQikZYbUEuCYj7H1oLbdeHgppZ8CUt45/l7SX7m84YYn9OD9yNeHFNSzIi9YEodo9P7+uV22B3WFYk11C8s2z+bo4kiRrPZOSi5mUXEKP8J+TQ/+qb7mw5DW+zrE7pwsNDvNt4M0lQmj3MxgX8B0f7ouixq5T8Kr2TROEOilFFbW8vSqHL7cfoK5wJ5OTDzI+qfSIm8kAhlZ+zpjSt9kb0odxrx+CkEgfRXyS4npwWdRWKhzBLCtsYwlOqWbSBKFOiMNh+GbXQeaszKaq1sZFA5PYP/cBulhtR+5oDMPKlzCqbAHbrYNYGD+Napv7c7YJIpzRO5lOlPDebouvo1HKq7QPQjVbdb2djzYUkFNcTd8ukYzsnUhokJs/lsbBiPJFZFV+xqbQLJbETsFI2/+jaolNZUL4Rl6uHE5MdBu9ElLKA5ogVLOUV9fz3g95VFTbOK9fJ/p3jXa7n8XUM7bkLfpUr+WH8DP5LPryn0pstAeX9rTwwrpALhw7ytehKOU1miCUx0qq6nhnTS42h+GyU5JJjgl1u5/VXsmE4tl0rdvDF1GXsDriHJD21aGb2Tmc3oH7Kcs4Fyr3Q0QnX4ekVItrP/+lU15VcsiZHBwGJp6acszkEFO/n6lFz9CpLpdFcdezOnJ0u0sO4HxLU9PK2EBPNvzvOV+Ho5RXaIJQTbKEx/Le2jwcBq44JZmEiBC3+52VZmFK0TMEmxrmJ0xne+iQVo60dV2eXkugo5Y31ldAyV5fh6NUi9MEoY6rqtZG4sQHqam3M2FIV+KPkRz6FC3mk2vDqLZEMCdxBgUh6a0bqA9EBzmo2/o579uHU/7Jk74OR6kWpwlCHZMxhrveWU9wpwwuHJBE5yg3dz0bw/DsWVy47X6+ybUzJ/E2ygITWj9YHyn8/iMOYWXB+n2wf4uvw1GqRWmCcElPS0FEmlzS01J8HWqreWnFHhatL6D0i9dITwg/arvFXsMF2+7jjJwX2NjpYsa+fojagKP3O4oEePS7bgvq9m1nYFI4b9jPx3zqxxVplToBOorJxW/mHvAT3+8u5tEPNzMmszMvPD4f+OsR28PqDnLJljvpWvEjX3a7hVXJ11Fnf9OzkxsHTy3Z2uRuM8f0OYHIW9/VZ3Tn7nerWL15G1m5qyHlVF+HpFSL0CsIdZT9FTVMf3MNaXFhPDnp6Lmh46t2MHX9DSRWbeODvo+zKuX6djlSyVPjh3QlMsTCa1wEnz7s63CUajGaINQRjDH86Z0fKauu5z/XnEKUNeiI7RnFXzFl/TQCjJ25A19gR/xoH0XqP8KCA7kyK43/1WeRv+tH2PGJr0NSqkV4NUGIyDgR2SoiO0TkbjfbQ0Tkbdf270Qk3bU+XUSqReQH16IDzVvJvFW5fLplP38c24e+XaJ+3mAMQ/PfZPzmP1ASmsabg15mf0Q/3wXqZ248Kx0jAbwUOAU+uhtsdb4OSamT5rUEISIW4FngAiATmCoimY12mwaUGGN6Ak8DjzfYttMYM8S13OytONXPcooP8fAHGzk9I44bz8z4aX2AwDm7nmDU7qfZGTeSuQNnURWidw43lBIbxsWDknir9izKDuTB98/7OiSlTpo3ryCGATuMMbuMMXXAHGBCo30mAK+4Hs8HzpW2MnylnXE4DHfMW4eI8OSVgwk4PIlDfTXzrgxlyL75rEq+lkV9H8dmcX8XdUf3m5E9qLLBf6Onw/LHoWKfr0NS6qR4M0EkAzkNnue61rndxxhjA8qAeNe2DBFZKyKfi8gIL8apgNe+3ct3u4t54OJMUuNc8xwcKoZXL+XSvoF8lvEHvky/rV0V3GtpmV2jGJPZmdllp1Jms8AnD/k6JKVOir8Ocy0A0owxB0XkVGCBiPQ3xpQ33ElEbgJuAkhLS/NBmO1DQVk1f/94KyN6JXBllus+j9IceP0KKNnNlPnVLIndCugInabMOK8XSzYV8lLGvfx+3Z1wyvXQ7Qxfh6XUCfFmgsgDUhs8T3Gtc7dProgEAtHAQWOMAWoBjDGrRWQn0BtY1fBgY8wsYBZAVlaW8cab6AgefH8jNoeDv1460HmDWtFWePVSqKuEa95l3gMjeWrWuU2eZ+YKD++DaMf6d41mXP8uvLjdwjVRmSQuvAVu/gqCtFlOtT3ebC9YCfQSkQwRCQamAAsb7bMQuN71eCKwzBhjRCTR1cmNiHQHegG7vBhrh7V4wz6WbCrk9vN6kxYfBoUb4b8XgsMGv/wIMrR1r7n+OK4PtTYHTyU8BAd3wGdN34CplD/yWoJw9SncAnwMbAbmGmM2isgjIjLetdtsIF5EdgAzgcNDYUcC60XkB5yd1zcbY4q9FWtHVVFTz0MLN9K3SyTTzsqAgvXw8sVgCYJffghdBvg6RL9nEY4qEdKjUyTF37/Pm5tq+cuGLti/eoZLT03ydahKNZtX+yCMMR8CHzZa90CDxzXAlW6Oewd4x5uxKXjy460UVtTw3LWnElS4ztmsFBwB1y+E+B6+Dq9NsBvclmgpqbMw+ivD2lMfRsyd/PX0ErDVQqD7arhK+SN/7aRWXrYmu4SXv95NxepF/OaMCXx8TRgl1YbRr+aw5w89fR2e70mAZ3W3jjGqKzbYzr19CrhjQypvdbuZq+uegKUPwAWPu91fKX+kCaIDqrc7uOfdH7FXFvP0+C5MGRFHdUAkn3b7Hbc9EXvU/jNvmuaDKH3MOHhq1uwmdzve7+aKriW8kx/L33IHsuPHaB7kOUgbDv0va8lIlfIaHdTeAb3w5S627Ksg6YfnmVryf1RZopibOJ2KwKOTgzpxIvDEgBxE4LmoW7AlD4P3b4UDO3wdmlIe0QTRwew9WMUzn2xnXLqFz0dtoMISy7yEW6iyxPg6tHYpNbSeP/fLIySlP//o9KhzAMC866G+2tehKdUkbWLqQIwx3PveBoLFwUP7Z9/eoW4AABd2SURBVLKj2MHXg6dTbYn0dWhtl4d9FXHjbuU/jKX/Oc9x8TeT4d2b4MqXIcDi/RiVOkGaIDqQ99bm8dWOA/w5+BW6dOpE/8e2c98zmhxOiqd9FTf/hnPGT+EPX5bRafhTDFv1e/jwDrjoqQ49l4byb5og2pn0tBT25jS+YR0CQqNI/81znGItoFfBR8T+vZLSGh8E6PLwwx2sbIfDxqzrspj43NdMW5nMG4PvZdCqv0JEZxh1VCV8pfyCJoh25lhTp85cGckHxWE8FvsBvUfPpOQqq0+nT33w+o5XuiMuPJjXp53Olc99w9XrBjO7x60MW/43CA6HX9zq6/CUOop2UncAX+44wLvFGdwctpzeQ8+GQKuvQ+qwusaEMu/mM0iMCuGabWeyoMttsOQ+WHI/OBy+Dk+pI2iCaOfKcjbwx52D6W7Zz/TTY/VOXj/QNSaU+Tf/gqGpMdy+Zzj3xT5B1YrnYcFvyeiWdlTpDndLalo3X78N1QFoE1N7lv0tD23tx35iePfU7ViDg5o+RrWKuPBgXv/V6Tz+0RZmr4DPrc/z9x8e47VzD7LlsuVUWI9fu2nmmD6tFKnqyPQKopncFWdzt6SnpfguSGNg9+cs2lHNe44R3NZ9P4NjdY5kfxNkCeC+izOZ8+vhSGgMU+oe4J1Ov+XcNdPpXbTE1+EppVcQzXWs4myN+aoDOECAHUspzNvFvfZ/MDiqiuk9inwSi/LM6d3jWXz7CJ5aso0XP6/nf9UjuH7jYs5L/IYNPX5NubWrr0NUHZReQbQntZW8OymU+rx13Cb3UEsITw/KIVA/Zb8XFhzIfRdnkjvrJnp2ieFF+0Vct28i279dRPq2/xJsq/R1iKoD0iuI9qIsD96azMW9Azl3x2T2pKZw4IMn6fG35b6OTDWDvbyI8/sncWp6PD/uzuedwpHMybFwVv4nDI8/REj3EVSGpzZ9IqVagCaI9mDPVzB/GtRVcdaK0yk47WKGRlcx8vZrgWuPeViHrNLaRsSFB3P2gHRO621j566drN+Xzlf7w4nfX8j54SuY9ItuUF0CoVpgUXmPJoi2zG6Dzx+HL/4Ocd1Zf/4c8ov3kGqt46x4bZJoq9zfZS4kJsYTlZbKXDMEx4hnmfzn2Uzpso9xg1MI7TkCkoYcVdvpWHfWN9YtNZk92bkt9A5Ue6EJwhPGQE0ZVJdwzaAg2LfeuU4CICQSrNEQEtW6hdeKtsLC2yDnWxhyNbuHPcSNL63DXlXKBT1dndWqTWrqLvOq+oO8uWAxmzPP5/f5/Xgg/xAXW95knP0mSvZs5qtsOyty7KzOt1NvAvx6UIXyb5ogjsVWC0VbnJPOl+WAzVm46LXLQmHrh24OEIjoBFFdISqZ1Cgv/YWuLoXlj8H3syAkAi5/kdzUi7h21rc4DBTOfYCwUzpYnaMOJjzIsHnpXP5xxyPklVazLbeId4pG8Rajyei+n0k9P+VOy5fEW6r5encV7FoO0SkQlQxBob4OX7UhmiAaK8+HgrWwfws46p1XBgm9ITIJwuLp/atZbHvtDmcFTuOAmnKodV5dUJ4PhRshfy3Zv4+EZwZDxkhIHwkZIyCyy4nHVV0Kq16Cb/4Nh4rh1Btg9H3sOmTlmue+obLWxhu/Gs6gB7SZwC9JANLCVVtFhJTYMFJiu3GWzcG2/RVsyrfyeNlUnrBNYWjofs4OfYPTc9YQkvOt86CwBIhOhqgUZ9Kwxmg1WXVMmiBchnQJgPVzoWQXWIKhcyZ0GexMDA3+AW0vdkBog8l1GncSGgdUFTHjr//hmRmZsPF9WPOqc1tCb1fCGOFcwuOPH1R1qfN/f5s/gC2LnFcxPUbDeQ9B0mC+3nmA373xNQEivHXTcPp3jW6JX4XyhhaYwvR4ggMDGNA1mgFdoyk5VMem/HK27AtiTdRMXrbbmBCXzZWhq+lft875n5+Cdc4Dg8IhthtTBwQ6/+MRFndCr6/aJ00QFYWw+G7W/iYCKvIhYxQkn+JMEidCAiCiM//83sY/r5pDgDiTz+iMQM5J38iIvK1ErnwRgPwKB/mHgsg673JnP4ZYoP4QVBY6m7aKdznPaY2BIVc7rxqSBmF3GJ77bAdPL91GekI4L16XRXpCeIv8OlTbFxsWzJk9EzijRzz33XwVF902kzcL03nZdCcz8mKuTClmQvQO4qr3OJtPS3bz5hVh8PcekHo69B4LmRMgrruv34ryMU0QQaGQu4q/fFHLfX+6veUqnRoHTy3ZesSqrcB2h43OlZtIKV9DTHUO5d+9y64v3iYqBAIDhEP1hsJKw64SB2v22flir51vcspJSnmHnOynWJdTykMfbGRtdikXDUzib1cMJMqqNZY6Ik/m1KjZvYZnB2dTWmdh4b4Y5uXF8vDWZB6VJM7rNJgrk0sY2buMs254kG9ffQi2LYZPHnIuSUNgwOWQeSnEanHAjkgThDUKblvD/TODue9+75fBdgQEUhA1iIKoQQDMnP76UYnksATgcuAyY7hn2hXc9OoqlmwqJCEihKcnD+bSIckt3q6t2o7mzKkRE2znurSDXJd2kM0VVublxbIgP5aPCmPoFFLP9p7XsmPA7fQcfR+UZsPGBbDxPVj6gHNJzoL+lzmX6GRvvzXlJzRBgHMieQ/nFka8X7ei3u6g9FA9JYfqyC+tZveBKrpc/Tjf7S7mtnN78esRGUTqVYM6Qf0ia3igbwF3997HsqJI5ufFUTjsMs576nOGpsVw5ampXHzqb4k68zYo3g2bXMliyb3OuSu6/QIGXOG8smiqH021aZogDjuJTsTSOgubK61sqbCy91AIRbWBdL76cV77Zi82hwO7w+Aw7s+XcusbzPpi189hYKip/3nimMAAITk2lF3zH2fTmiWEBetHplpGcIBhXOdyxnUuJ3j8E4RmnsN3A89jbXYpd89dSfXOlVRv/47qXatw1FTSMy6AKQMCuWrgl/Tbu4L6hb9n6S4bczbYWLClnopGBYP15ru2T//anIDSOgsriiNYcdC57K3+eRKecIudztZ6sNuIiwgmMEAIDHCVAXdzrhXfvc/QS64+Yl1YsIXY8GBiw4KJDQ8iMCCAL/74mSYH5TX1laXUPXYaxpSxrmw78/Lj+Dh8OAf6jsAihqyYKs7rVM6I+Er6XXongzoZpg4IYsqAIF69LIjqeiv/227jrQ31fLjdRo0N9uYW+PptqZOkf3E8VOsQdlWFkDjxQbKWZ2IzQoTFzvC4SqamFtMvspp+kTUkBtsQAXngXmpyrmryvGUr3uScO3/fCu9AqeNw28QqBCf1IqznML7seTrflWQAkDL9FTp1srI1tI4XrbVkml30q1nDBQN+YGJmBbUSwi7rAO575UuorXBWG1BtkiaIJhTWBPJjeRhbK63YjBCckMa0bkWM6VTO4OhDxy2l3ZxORKV8yoMm1vL6InKrg3nvx9UURI1ie5VzUEdwQDydQobQJaSOAQHZnGX/nl9Uf807k8Lgie6QcTb0ucC5ROncFm2JJgg3HAZ2VIWwpjScwtogAsXQN6KazKga/v7Er7nHONDKNapN8HTwhQeighxkBtXw4odPc8+EAZTWWyioCWJfbRCFtUGsKY1gFf15mf4EyvUEHNzFRf2i6Ll3Lb23vk6GPElKUlesvUZC91GQNhwCQ0hN60ZuTnaTr5+SmkZO9t4WeS/KM5ogGrA5YFNFKGtKwyizBRITZGNUQjl9I2oIsbh6mb18R6xSLcpL31cRiA22ExtsJxNnnTKbAw7UBXKgLpDiukC+3lnGtzUDeK+iEzDWeeBe6JRdQuqnq0mzLCU11srpp/bj1395FhPTjQhrMAHHGLo9c0wfj4Z1a+d4y9EEAZQdqifqjEm8lJ1Atd1C55B6zowvpUd4rVZFVcpDgQHQxWqji9UGwIJ5D1I411BRU8/2/ZVkHzxEdvEhcg6UkVMQy/clNbxfFIyjz1BWbQLIJhA78cE2IkNDCI2IIjo0mOjQIKJDg5DgUByL728yDq1M23I6fILYfaCKi/75JbEjr6NTSC1ZMWUkW+u1fplSLSTSGsQpabGcknb05EZ1NgcZ6anccd/9OMpyqaqqotAWQXZ5J/aWdaacn0vIpP1+HkOX2UgLrSM1rI5uYbWkh9WR7vqZ4Bog0tI8bQKD9tcM1uETRHp8GL88M517r72AGX9t+n8n3uBJyQRA75pWbY7H39keowkAIo0hpSaPCeVrSClbQGTZZspqHGSbTmypTeRAUG9y7EmsL4njo8Jo7Obn80dY7HQLqyNhwl08sXgL6QnhpMeHk54QRmJEyAn/+8nNyT5mtYPGZo7pc0Kv4a86fIIQEe4c25c/Fu3xWQyejnbSiV9UmyIBzurGzTpGKAtNoSw0hY2dxwMQVZPvrF029z4mdLPQIy4ABIpMAB/kx7KsuBM/HOpEgSWJopiuBHfuwbPLtiENJvBy1B7CVlpAfUkBtpIC6kvyiQ2ys/qz/5EYeeLJo73r8AlCKeUlzegg9+QqumxFNU/Nmk2EvZSU2p2k1O7g0oid3GjbDGymTkLID87gxY9+YOAtL7E9qA9FtRbKDtVTWl1P6aEESqv7Ul5d/1Nlg2GPfkpwYACdo0LoEmWlU5SVLlFWOkeF0DnKSucoK4ExSdTbHQRZvF9mx99oglBK+Vxz7hmqtMSwJexUtoSdCkC4vYzk2l0k1+0kpXYnfxlthU2/w0EAB8J7UBA5iIKYgeSnDqLM2g2HgYpaG4/PuJbn33yXvJJqCstr2Fdew+b8cj7bsp9DdfafXjf5Ny/wf8t3EhIYQIQ1kIgQN4trfXvT/t6RUqpDqbJEsy1sKNvChgLwyG3TmP3Kf+la8SNJFT/St2gxg/e9A8ChwBiKwntzILwnu6M3cF16GWT1gaCfKzkbY6istVFYXkNheS1jL53M+Bl/pbLWRmWNjcpaG0UVtUckkcNSZ85n9JPL6RoTSnJMqPNnbChdY6ykxITRJdpK8PHurvUzXk0QIjIOeAawAC8aYx5rtD0EeBU4FTgITDbG7HFt+xMwDbADtxljPvZmrEqp9qG0BvbG/oK9sb8AQIyduEO7Sar4kS4VG0k8tI3B+97hlUtD4fmRzom6EnpBfE+ITUdi04mMyyAyphs9UzpTtXEZp6UfPdOe3WGoqvs5aVTW2vjfmy/S75Tfkltazadb9nOgsvaIY0SgU2TIEckjuVEyaTi/S3paCntz8pp8z96698NrCUJELMCzwPlALrBSRBYaYzY12G0aUGKM6SkiU4DHgckikglMAfoDXYFPRKS3MebolK2UUsdhxMLB8J4cDO/Jhi6XAc6k8Z+rBrD18/nOeeQLNzpncdzxiXNq3wYq/xRJ/erLqAqKpyYomjpLGHWWcOos4dRaIqgLDMcWEIKxWrAXvcr+R18mwAFd7JAYEIQ9LAF7WCL14YnYwhKpC0skO6orB5P7sOSQUOc4soM8MtBBQoiNmCA7yeN+xRXpkcRaqokNqCFSaggNqCNcagmVesKoJUxqeXHRd1753XnzCmIYsMMYswtAROYAE4CGCWIC8JDr8Xzg3+IcTjABmGOMqQV2i8gO1/m+8WK8SqkOwoiFbQcdP0+CdJjD4Zzyt2Q3lOZA5T6ef+QuLrykP+F1B4is3UewvYpgWxUh9kosxnbEecde7m7SsTLXsuPI1TZwBAkHiCbPxJNnEsg3CeSZBA5UR1FaHUl0fCLflEdQQgTVHHtCs24Dzjrh38XxiDHHmKjgZE8sMhEYZ4z5lev5tcDpxphbGuyzwbVPruv5TuB0nEnjW2PM6671s4GPjDHzG73GTcBNrqd9cM7q2VwJwIETOM7b/DUu8N/YNK7m8de4wH9ja49xdTPGJLrb0KY7qY0xs4BZJ3MOEVlljMlqoZBajL/GBf4bm8bVPP4aF/hvbB0tLm92p+cBqQ2ep7jWud1HRAKBaJyd1Z4cq5RSyou8mSBWAr1EJENEgnF2Oi9stM9C4HrX44nAMuNs81oITBGREBHJAHoB33sxVqWUUo14rYnJGGMTkVuAj3EOc33JGLNRRB4BVhljFgKzgddcndDFOJMIrv3m4uzQtgHTvTiC6aSaqLzIX+MC/41N42oef40L/De2DhWX1zqplVJKtW1t55Y+pZRSrUoThFJKKbc6dIIQkXEislVEdojI3T6M4yUR2e+6L+TwujgRWSoi210/j55txftxpYrIZyKySUQ2isgMf4hNRKwi8r2IrHPF9bBrfYaIfOf6PN92DY5odSJiEZG1IrLIz+LaIyI/isgPIrLKtc4fvmcxIjJfRLaIyGYROcPXcYlIH9fv6fBSLiK3+zouV2y/d33vN4jIW65/D175jnXYBNGgFMgFQCYw1VXiwxdeBsY1Wnc38Kkxphfwqet5a7MBfzDGZALDgemu35GvY6sFRhtjBgNDgHEiMhxnqZanjTE9gRKcpVx8YQawucFzf4kL4BxjzJAGY+Z9/VmCs17bYmNMX2Awzt+dT+Myxmx1/Z6G4KwVdwh4z9dxiUgycBuQZYwZgHMA0OEyRS3/HTPGdMgFOAP4uMHzPwF/8mE86cCGBs+3Akmux0nAVj/4nb2Ps7aW38QGhAFrcN6BfwAIdPf5tmI8KTj/cIwGFgHiD3G5XnsPkNBonU8/S5z3Pu3GNWDGX+JqFMsYYIU/xAUkAzlAHM5RqIuAsd76jnXYKwh+/kUfluta5y86G2MKXI/3AZ19GYyIpANDge/wg9hczTg/APuBpcBOoNSYn4rj+Orz/H/AH4HDU6nF+0lcAAZYIiKrXWVqwPefZQZQBPzX1Sz3ooiE+0FcDU0B3nI99mlcxpg84EkgGyjAWeRpNV76jnXkBNFmGOd/C3w2HllEIoB3gNuNMeUNt/kqNmOM3Tgv/1NwFnLs29oxNCYiFwP7jTGrfR3LMZxljDkFZ7PqdBEZ2XCjjz7LQOAU4D/GmKFAFY2abXz5/Xe15Y8H5jXe5ou4XH0eE3Am1q5AOEc3T7eYjpwg/L2cR6GIJAG4fu73RRAiEoQzObxhjHnXn2IDMMaUAp/hvKyOcZVsAd98nmcC40VkDzAHZzPTM34QF/DT/z4xxuzH2Z4+DN9/lrlArjHmcL3q+TgThq/jOuwCYI0xptD13NdxnQfsNsYUGWPqgXdxfu+88h3ryAnCk1IgvtSwDMn1ONv/W5WICM673TcbY57yl9hEJFFEYlyPQ3H2i2zGmSgm+iouY8yfjDEpxph0nN+nZcaYq30dF4CIhItI5OHHONvVN+Djz9IYsw/IEZE+rlXn4qyg4PPvv8tUfm5eAt/HlQ0MF5Ew17/Pw78v73zHfNXx4w8LcCGwDWf79b0+jOMtnO2J9Tj/RzUNZ9v1p8B24BMgzgdxnYXzEno98INrudDXsQGDgLWuuDYAD7jWd8dZs2sHziaBEB9+pqOARf4SlyuGda5l4+Hvu68/S1cMQ4BVrs9zARDrJ3GF4yweGt1gnT/E9TCwxfXdfw0I8dZ3TEttKKWUcqsjNzEppZQ6Dk0QSiml3NIEoZRSyi1NEEoppdzSBKGUUsotTRBKKaXc0gShlFLKLU0QSrUAEVngKoK38XAhPBGZJiLbXHNXvCAi/3atTxSRd0RkpWs507fRK+We3iinVAsQkThjTLGr9MdKnCWYV+CsK1QBLAPWGWNuEZE3gf8zxnwlImk4SzP381nwSh1DYNO7KKU8cJuIXOZ6nApcC3xujCkGEJF5QG/X9vOATGcpHQCiRCTCGFPZmgEr1RRNEEqdJBEZhfOP/hnGmEMishxnrZxjXRUEAMONMTWtE6FSJ0b7IJQ6edFAiSs59MU5PWs4cLaIxLrKMF/RYP8lwK2Hn4jIkFaNVikPaYJQ6uQtBgJFZDPwGPAtznr8j+KssLkC53SfZa79bwOyRGS9iGwCbm71iJXygHZSK+Ulh/sVXFcQ7wEvGWPe83VcSnlKryCU8p6HXPNmbwB245zrQKk2Q68glFJKuaVXEEoppdzSBKGUUsotTRBKKaXc0gShlFLKLU0QSiml3Pr/2U11hE3EEdkAAAAASUVORK5CYII=","text/plain":["<Figure size 432x288 with 1 Axes>"]},"metadata":{"needs_background":"light"},"output_type":"display_data"}]},{"cell_type":"code","metadata":{"colab":{"base_uri":"https://localhost:8080/"},"id":"BVC8hDtSk9dJ","executionInfo":{"elapsed":49,"status":"ok","timestamp":1635509239508,"user":{"displayName":"Samuel Doan","photoUrl":"https://lh3.googleusercontent.com/a-/AOh14GjbcdQ40FcyCSIyitBN2ptY3zHWA_09harKPYF2=s64","userId":"04384888964432338542"},"user_tz":-420},"outputId":"a612d57c-b57f-45db-9be9-5f177b89a2c8"},"source":["age_groups = [0, 15, 25, 35, 45, 60, 80, 100]\n","pd.cut(titanic['age'], bins=age_groups) # Chia dữ liệu theo bước tuổi định sẵn"],"execution_count":null,"outputs":[{"data":{"text/plain":["0      (15, 25]\n","1      (35, 45]\n","2      (25, 35]\n","3      (25, 35]\n","4      (25, 35]\n","         ...   \n","886    (25, 35]\n","887    (15, 25]\n","888    (25, 35]\n","889    (25, 35]\n","890    (25, 35]\n","Name: age, Length: 891, dtype: category\n","Categories (7, interval[int64]): [(0, 15] < (15, 25] < (25, 35] < (35, 45] < (45, 60] < (60, 80] <\n","                                  (80, 100]]"]},"execution_count":55,"metadata":{},"output_type":"execute_result"}]},{"cell_type":"code","metadata":{"colab":{"base_uri":"https://localhost:8080/"},"id":"lKUw8BMiler4","executionInfo":{"elapsed":45,"status":"ok","timestamp":1635509239510,"user":{"displayName":"Samuel Doan","photoUrl":"https://lh3.googleusercontent.com/a-/AOh14GjbcdQ40FcyCSIyitBN2ptY3zHWA_09harKPYF2=s64","userId":"04384888964432338542"},"user_tz":-420},"outputId":"a9fb4da6-fcab-437f-9266-6221830b12ee"},"source":["titanic['age_group'] = pd.cut(titanic['age'], bins=age_groups)\n","titanic['age_group']"],"execution_count":null,"outputs":[{"data":{"text/plain":["0      (15, 25]\n","1      (35, 45]\n","2      (25, 35]\n","3      (25, 35]\n","4      (25, 35]\n","         ...   \n","886    (25, 35]\n","887    (15, 25]\n","888    (25, 35]\n","889    (25, 35]\n","890    (25, 35]\n","Name: age_group, Length: 891, dtype: category\n","Categories (7, interval[int64]): [(0, 15] < (15, 25] < (25, 35] < (35, 45] < (45, 60] < (60, 80] <\n","                                  (80, 100]]"]},"execution_count":56,"metadata":{},"output_type":"execute_result"}]},{"cell_type":"code","metadata":{"colab":{"base_uri":"https://localhost:8080/","height":424},"id":"cp_MR0UHl-TI","executionInfo":{"elapsed":31,"status":"ok","timestamp":1635509239512,"user":{"displayName":"Samuel Doan","photoUrl":"https://lh3.googleusercontent.com/a-/AOh14GjbcdQ40FcyCSIyitBN2ptY3zHWA_09harKPYF2=s64","userId":"04384888964432338542"},"user_tz":-420},"outputId":"b73d26c1-b10f-406f-9b0d-9ea2b87a8379"},"source":["titanic"],"execution_count":null,"outputs":[{"data":{"text/html":["<div>\n","<style scoped>\n","    .dataframe tbody tr th:only-of-type {\n","        vertical-align: middle;\n","    }\n","\n","    .dataframe tbody tr th {\n","        vertical-align: top;\n","    }\n","\n","    .dataframe thead th {\n","        text-align: right;\n","    }\n","</style>\n","<table border=\"1\" class=\"dataframe\">\n","  <thead>\n","    <tr style=\"text-align: right;\">\n","      <th></th>\n","      <th>survived</th>\n","      <th>pclass</th>\n","      <th>sex</th>\n","      <th>age</th>\n","      <th>sibsp</th>\n","      <th>parch</th>\n","      <th>fare</th>\n","      <th>embarked</th>\n","      <th>class</th>\n","      <th>who</th>\n","      <th>adult_male</th>\n","      <th>deck</th>\n","      <th>embark_town</th>\n","      <th>alive</th>\n","      <th>alone</th>\n","      <th>age_group</th>\n","    </tr>\n","  </thead>\n","  <tbody>\n","    <tr>\n","      <th>0</th>\n","      <td>0</td>\n","      <td>3</td>\n","      <td>male</td>\n","      <td>22.000000</td>\n","      <td>1</td>\n","      <td>0</td>\n","      <td>7.2500</td>\n","      <td>S</td>\n","      <td>Third</td>\n","      <td>man</td>\n","      <td>True</td>\n","      <td>F</td>\n","      <td>Southampton</td>\n","      <td>no</td>\n","      <td>False</td>\n","      <td>(15, 25]</td>\n","    </tr>\n","    <tr>\n","      <th>1</th>\n","      <td>1</td>\n","      <td>1</td>\n","      <td>female</td>\n","      <td>38.000000</td>\n","      <td>1</td>\n","      <td>0</td>\n","      <td>71.2833</td>\n","      <td>C</td>\n","      <td>First</td>\n","      <td>woman</td>\n","      <td>False</td>\n","      <td>C</td>\n","      <td>Cherbourg</td>\n","      <td>yes</td>\n","      <td>False</td>\n","      <td>(35, 45]</td>\n","    </tr>\n","    <tr>\n","      <th>2</th>\n","      <td>1</td>\n","      <td>3</td>\n","      <td>female</td>\n","      <td>26.000000</td>\n","      <td>0</td>\n","      <td>0</td>\n","      <td>7.9250</td>\n","      <td>S</td>\n","      <td>Third</td>\n","      <td>woman</td>\n","      <td>False</td>\n","      <td>F</td>\n","      <td>Southampton</td>\n","      <td>yes</td>\n","      <td>True</td>\n","      <td>(25, 35]</td>\n","    </tr>\n","    <tr>\n","      <th>3</th>\n","      <td>1</td>\n","      <td>1</td>\n","      <td>female</td>\n","      <td>35.000000</td>\n","      <td>1</td>\n","      <td>0</td>\n","      <td>53.1000</td>\n","      <td>S</td>\n","      <td>First</td>\n","      <td>woman</td>\n","      <td>False</td>\n","      <td>C</td>\n","      <td>Southampton</td>\n","      <td>yes</td>\n","      <td>False</td>\n","      <td>(25, 35]</td>\n","    </tr>\n","    <tr>\n","      <th>4</th>\n","      <td>0</td>\n","      <td>3</td>\n","      <td>male</td>\n","      <td>35.000000</td>\n","      <td>0</td>\n","      <td>0</td>\n","      <td>8.0500</td>\n","      <td>S</td>\n","      <td>Third</td>\n","      <td>man</td>\n","      <td>True</td>\n","      <td>F</td>\n","      <td>Southampton</td>\n","      <td>no</td>\n","      <td>True</td>\n","      <td>(25, 35]</td>\n","    </tr>\n","    <tr>\n","      <th>...</th>\n","      <td>...</td>\n","      <td>...</td>\n","      <td>...</td>\n","      <td>...</td>\n","      <td>...</td>\n","      <td>...</td>\n","      <td>...</td>\n","      <td>...</td>\n","      <td>...</td>\n","      <td>...</td>\n","      <td>...</td>\n","      <td>...</td>\n","      <td>...</td>\n","      <td>...</td>\n","      <td>...</td>\n","      <td>...</td>\n","    </tr>\n","    <tr>\n","      <th>886</th>\n","      <td>0</td>\n","      <td>2</td>\n","      <td>male</td>\n","      <td>27.000000</td>\n","      <td>0</td>\n","      <td>0</td>\n","      <td>13.0000</td>\n","      <td>S</td>\n","      <td>Second</td>\n","      <td>man</td>\n","      <td>True</td>\n","      <td>F</td>\n","      <td>Southampton</td>\n","      <td>no</td>\n","      <td>True</td>\n","      <td>(25, 35]</td>\n","    </tr>\n","    <tr>\n","      <th>887</th>\n","      <td>1</td>\n","      <td>1</td>\n","      <td>female</td>\n","      <td>19.000000</td>\n","      <td>0</td>\n","      <td>0</td>\n","      <td>30.0000</td>\n","      <td>S</td>\n","      <td>First</td>\n","      <td>woman</td>\n","      <td>False</td>\n","      <td>B</td>\n","      <td>Southampton</td>\n","      <td>yes</td>\n","      <td>True</td>\n","      <td>(15, 25]</td>\n","    </tr>\n","    <tr>\n","      <th>888</th>\n","      <td>0</td>\n","      <td>3</td>\n","      <td>female</td>\n","      <td>31.333333</td>\n","      <td>1</td>\n","      <td>2</td>\n","      <td>23.4500</td>\n","      <td>S</td>\n","      <td>Third</td>\n","      <td>woman</td>\n","      <td>False</td>\n","      <td>F</td>\n","      <td>Southampton</td>\n","      <td>no</td>\n","      <td>False</td>\n","      <td>(25, 35]</td>\n","    </tr>\n","    <tr>\n","      <th>889</th>\n","      <td>1</td>\n","      <td>1</td>\n","      <td>male</td>\n","      <td>26.000000</td>\n","      <td>0</td>\n","      <td>0</td>\n","      <td>30.0000</td>\n","      <td>C</td>\n","      <td>First</td>\n","      <td>man</td>\n","      <td>True</td>\n","      <td>C</td>\n","      <td>Cherbourg</td>\n","      <td>yes</td>\n","      <td>True</td>\n","      <td>(25, 35]</td>\n","    </tr>\n","    <tr>\n","      <th>890</th>\n","      <td>0</td>\n","      <td>3</td>\n","      <td>male</td>\n","      <td>32.000000</td>\n","      <td>0</td>\n","      <td>0</td>\n","      <td>7.7500</td>\n","      <td>Q</td>\n","      <td>Third</td>\n","      <td>man</td>\n","      <td>True</td>\n","      <td>F</td>\n","      <td>Queenstown</td>\n","      <td>no</td>\n","      <td>True</td>\n","      <td>(25, 35]</td>\n","    </tr>\n","  </tbody>\n","</table>\n","<p>891 rows × 16 columns</p>\n","</div>"],"text/plain":["     survived  pclass     sex        age  ...  embark_town  alive  alone age_group\n","0           0       3    male  22.000000  ...  Southampton     no  False  (15, 25]\n","1           1       1  female  38.000000  ...    Cherbourg    yes  False  (35, 45]\n","2           1       3  female  26.000000  ...  Southampton    yes   True  (25, 35]\n","3           1       1  female  35.000000  ...  Southampton    yes  False  (25, 35]\n","4           0       3    male  35.000000  ...  Southampton     no   True  (25, 35]\n","..        ...     ...     ...        ...  ...          ...    ...    ...       ...\n","886         0       2    male  27.000000  ...  Southampton     no   True  (25, 35]\n","887         1       1  female  19.000000  ...  Southampton    yes   True  (15, 25]\n","888         0       3  female  31.333333  ...  Southampton     no  False  (25, 35]\n","889         1       1    male  26.000000  ...    Cherbourg    yes   True  (25, 35]\n","890         0       3    male  32.000000  ...   Queenstown     no   True  (25, 35]\n","\n","[891 rows x 16 columns]"]},"execution_count":57,"metadata":{},"output_type":"execute_result"}]},{"cell_type":"markdown","metadata":{"id":"5FrtaBITVX1I"},"source":["### Tạo biến chỉ báo"]},{"cell_type":"code","metadata":{"id":"aroSII2tugAp"},"source":["# Thuyết âm mưu số 4:\n","# Có sự liên hệ giữa các quý bà và tỷ lẹ survived"],"execution_count":null,"outputs":[]},{"cell_type":"code","metadata":{"colab":{"base_uri":"https://localhost:8080/","height":675},"id":"7DV2x9lIu-3p","executionInfo":{"elapsed":2676,"status":"ok","timestamp":1635509242162,"user":{"displayName":"Samuel Doan","photoUrl":"https://lh3.googleusercontent.com/a-/AOh14GjbcdQ40FcyCSIyitBN2ptY3zHWA_09harKPYF2=s64","userId":"04384888964432338542"},"user_tz":-420},"outputId":"5821f592-628c-49d3-bc28-6b9df0c09edd"},"source":["grid = sns.FacetGrid(\n","    data=titanic,\n","    row='pclass',\n","    col='sex',\n","    hue='survived'\n",")\n","grid.map(sns.scatterplot, 'age', 'fare')"],"execution_count":null,"outputs":[{"data":{"text/plain":["<seaborn.axisgrid.FacetGrid at 0x7f03abfded50>"]},"execution_count":59,"metadata":{},"output_type":"execute_result"},{"data":{"image/png":"iVBORw0KGgoAAAANSUhEUgAAAagAAAKACAYAAADJpewGAAAABHNCSVQICAgIfAhkiAAAAAlwSFlzAAALEgAACxIB0t1+/AAAADh0RVh0U29mdHdhcmUAbWF0cGxvdGxpYiB2ZXJzaW9uMy4yLjIsIGh0dHA6Ly9tYXRwbG90bGliLm9yZy+WH4yJAAAgAElEQVR4nOzde5wU5Zn3/8/VMwMzDAwwMHJGRFEUoqBoSAyYaGIQTSSuIdGsUdcsZldD8tOsukmePOyz7m40CUlMTCJGVzTRlRhPUYNrMEaSqAEjKogKclDOw2k4jgz09fujqpmeme45MdVdPfN9v17z6uq7q6uv7rmrrjrc913m7oiIiMRNIt8BiIiIZKIEJSIisaQEJSIisaQEJSIisaQEJSIisaQEJSIisaQEJSIisaQElQNm9lEzeyLfcQCY2Xwz29lcPGZ2hZnNymFYOWFm95jZxfmOozNTXe8YZtbdzH5vZkvM7HMRfs4aM+sf1fKPVHG+A5Cc+y7QA7g634GIRKyQ6/p4AHcfl+9A8klHUO1gZiPM7E0z+5WZLTezh8ysR/ja6Wb2FzN71cz+ama9Gr33DDN7wcxeCec7ISwfE86/xMxeM7NRZlZuZk+Gy1raEXtS7r4A2N3O7z3IzJ4PY1xqZpPC8nPD7/Q3M/u1mfU0s6PNbIWZ9TezhJktNLNzjyR2M5tlZnPDZa01s4vM7FYzez3cWy4J5/u2mS0KY5xjZpZhWaeZ2R/N7GUze9rMBh1JbJ2V6nru67qZHQX8Ejg9/Pxjs9VXM3vOzH5gZovD/8/pZvZwGM/Nact8NHzvMjObkeVz/z7t/3KHmRW19zt0GHfXXxv/gBGAA2eGz+8Gvg50A1YBp4flFQRHqR8FnkgvC6c/DvwmnP4x8IVwuhtQBvwdcGfa5/bOEMu/AEsy/N3WTPyH48ny+hXArAzl1wPfDKeLgF5Af+B5oDwsvxH4djj9JeDXYYx3ZPmsB7PE/8UM884C/gSUAKcA+4DzwtceAaaF05Vp77kP+FQ4fQ9wcfj+vwBVYfnngLvzXa/i+Ke6nre6nv47Zq2vwHPALeH0V4ENwCCgO7AO6Je+ToS/9dK08jXh9zoR+C1QEpb/NFNcuf7TKb72e8/d/xxO/xKYCTwNbHT3RQDuvgug0Q58b2CumY0iWPFLwvIXgG+a2VDgYXdfYWavA983s1sIKuvCxkG4+3cJTmXkwiLg7vBI5VF3X2JmZwEnAX8Ov2e38Lvg7r8ws88CXwYynqpw97buKf/O3evC36YImB+Wv06wMQX4mJndQHB6pxJYRrDypZwAjAWeCWMuAja2MY6uRHU9P3U9paX6+nj4+DqwzN03ApjZKmAYsA2YaWafCecbBowKy1POAU4DFoWfUQZsaWe8HUYJqv0aj7Lb2lF3/x34g7t/xsxGEOwB4e73m9lLwPnAU2Z2tbs/a2anAlOBm81sgbv/v/SFmdm/AF/I8DnPu/vMVn+bVnD3581schjjPWY2G9gBPOPulzSePzwVNDR82pMMp1vM7EGCFbCx2e5+b4by98NYkmZW5+HuHpAEis2slGDvb4K7v2fBBfDSxh9LsCJ/qPlvLCHV9fzU9cNvpfn6+n74mEybTj0vNrOPEhzBfsjd95nZc2ReJ+a6+782E0fOKUG133Az+5C7vwBcSnDq6S1gkJmd7u6LwnPy+xu9rzewPpy+IlVoZiOBVe5+m5kNB042szeB7e7+SzPbSXAaoYFc7lWa2dHAOne/08y6A6cC/wHcbmbHuftKMysHhrj728AtwK+AtcCdwAUZ4u/oFkqpFW+rmfUkOKX3UKN53gKqUv+/cC/5eHdf1sGxdBaq6/mt60daX3sDO8LkNBqYmGGeBcBjZvYDd99iZpVAL3df286YO4QSVPu9BVxjZncDbwA/c/cD4cXdH5tZGcEK+/FG77uV4LTHt4An08qnA5eZWR2wCfhP4HTgu2aWBOqAfzrSoM1sITAa6Glm64Cr3P3pVr79o8C/hDHuIThHXW1mVwAPhCsywLfCi7inE1y7OGRmf2dmV7r7fx/pd2iOu+80szsJzrNvIjhV03ieAxY0N7/NzHoTrAc/JDgVKE2pruexrndAfZ0PfNnMlhP8L1/M8BlvhP+n/zWzBMH/4BqChJs3Vn+GRForPF3xhLuPzXMokQhXwhHuPivPoUieqa5LPqmZuYiIxJKOoKQJMxsH9HH35/Idi0iUVNfjTQlKRERiqaBP8U2ZMsUJmrzqT3+F/Ncuqv/660R/GRV0gtq6dWu+QxDJG9V/6ewKOkGJiEjnpQQlIiKxpAQlIiKxpJEkuppkEra/A7s3QbdyOHgAyvtB5bGQ0P6KdHLp9b/XQNX7mFOC6kqSSXjzt/DI1VC3H0rKYPIN8Mp98PFZMPpTWlml88pU/z9zh+p9jOm/0pVsf6d+5YTg8flbYcxFQfn2d/Ibn0iUMtV/1ftYU4LqSnZvql85U+r2BwPt1+2HPZvyEpZITmSr/6r3sRVpgjKzNRbcjnuJmS0OyyrN7BkLbkn8jJn1DcvNzG4zs5UW3Ab61Chj65J6DQxOa6QrKQu6yZWUQc+BeQlLJCey1X/V+9jKxRHUx9x9nLtPCJ/fBCxw91EE9yC5KSw/j+Auj6OAGcDPchBb11J5bHDOPbWSpq5BLXs4KK88Nr/xiUQpU/1XvY+1fDSSuJDgXisAcwnusnljWH5veIfUF82sj5kNSt2+WDpAIhFcEL76pLAVXw84VAcnfkqtmaTzS6//ezYFR06q97EWdYJyghtgOXCHu88BBqQlnU3AgHB6CPBe2nvXhWUNEpSZzSA4wmL48OERht5JJRLQf1TwJwVH9f8Iqf4XlKh3HT7i7qcSnL67xswmp78YHi1lHSgwE3ef4+4T3H1CVVVVB4YqEn+q/9KVRJqg3H19+LgFeAQ4A9gc3iKZ8HFLOPt6YFja24eGZSIi0gVFlqDMrNzMeqWmgXOBpcDjwOXhbJcDj4XTjwNfDFvzTQRqdP1JRKTrivIa1ADgETNLfc797j7fzBYB88zsKmAtMD2c/ylgKrAS2AdcGWFsIiISc5ElKHdfBZySoXwbcE6GcgeuiSoeEREpLGpfKSIisaQEJSIisaQEJSIisaQEJSIisaQEJSIisaQEJSIisaQEJSIisaQEJSIisaQEJSIisaQEJSIisaQEJSIisaQEJSIisaQEJSIisaQEJSIisaQEJSIisaQEJSIisaQEJSIisaQEJSIisaQEJSIisaQEJSIisaQEJSIisaQEJSIisRR5gjKzIjN7xcyeCJ8fY2YvmdlKM3vQzLqF5d3D5yvD10dEHZuIiMRXLo6gvgosT3t+C/ADdz8O2AFcFZZfBewIy38QziciIl1UpAnKzIYC5wO/CJ8bcDbwUDjLXGBaOH1h+Jzw9XPC+UVEpAuK+gjqh8ANQDJ83g/Y6e4Hw+frgCHh9BDgPYDw9Zpw/gbMbIaZLTazxdXV1VHGLhI7qv/SlUSWoMzsAmCLu7/ckct19znuPsHdJ1RVVXXkokViT/VfupLiCJd9JvBpM5sKlAIVwI+APmZWHB4lDQXWh/OvB4YB68ysGOgNbIswPhERibHIjqDc/V/dfai7jwA+Dzzr7l8A/gBcHM52OfBYOP14+Jzw9Wfd3aOKT0RE4i0f/aBuBK4zs5UE15juCsvvAvqF5dcBN+UhNhERiYkoT/Ed5u7PAc+F06uAMzLMUwt8NhfxiIhI/GkkCRERiSUlKBERiSUlKBERiSUlKBERiSUlKBERiSUlKBERiSUlKBERiSUlKBERiSUlKBERiSUlKBERiSUlKBERiSUlKBERiSUlKBERiSUlKBERiSUlKBERiSUlKBERiSUlKBERiSUlKBERiSUlKBERiSUlKBERiSUlKBERiSUlKBERiaXIEpSZlZrZX83sVTNbZmb/FpYfY2YvmdlKM3vQzLqF5d3D5yvD10dEFZuIiMRflEdQ7wNnu/spwDhgiplNBG4BfuDuxwE7gKvC+a8CdoTlPwjnExGRLiqyBOWBPeHTkvDPgbOBh8LyucC0cPrC8Dnh6+eYmUUVn4iIxFuk16DMrMjMlgBbgGeAd4Cd7n4wnGUdMCScHgK8BxC+XgP0y7DMGWa22MwWV1dXRxm+SOyo/ktXEmmCcvdD7j4OGAqcAYzugGXOcfcJ7j6hqqrqiGMUKSSq/9KV5KQVn7vvBP4AfAjoY2bF4UtDgfXh9HpgGED4em9gWy7iExGR+ImyFV+VmfUJp8uATwDLCRLVxeFslwOPhdOPh88JX3/W3T2q+EREJN6KW56l3QYBc82siCARznP3J8zsDeB/zOxm4BXgrnD+u4D7zGwlsB34fISxiYhIzEWWoNz9NWB8hvJVBNejGpfXAp+NKh4RESksGklCRERiqVUJyszKzOyEqIMRERFJaTFBmdmngCXA/PD5ODN7POrARESka2vNNahZBNeMngNw9yVmdkyEMXVayaSzZtteNu+qZUBFKSP6lZNIaLCMqOj3jolkEra/A7s3Qa+BUHksJBKZyyEo27sNikvgwL6G75EupTUJqs7daxqNOqTm322UTDrzl23iunlLqK1LUlqSYPb0cUwZM1AbzQjo946JZBLe/C08cjXU7YeSMvjMHXDC+fDWkw3Lp/0cikvh6X+F8ZfB87c2fM/oTylJdTGt+W8vM7NLgSIzG2VmPwb+EnFcnc6abXsPbywBauuSXDdvCWu27c1zZJ2Tfu+Y2P5OfRKC4PGRq2HTq03LH/0ybPgbjLmoPjmlv2f7O/n5DpI3rUlQXwHGEIxOfj/BGHlfizKozmjzrtrDG8uU2rokW3bX5imizk2/d0zs3lSfaFLq9sOuDZnL/RAYmV/bsynSUCV+mj3FF3ayfdLdPwZ8MzchdU4DKkopLUk02GiWliQ4qldpHqPqvPR7x0SvgcEpuvSEU1IGFUMyl1tRkKQyvdZzYO7illho9gjK3Q8BSTPrnaN4Oq0R/cqZPX0cpSXBT566JjKiX3mTeZNJZ1X1Hl54ZyurqveQTOqSX1u15feWCFUeG1w/KikLnqeuJw08uWn5tJ/D4FNh6cMw+Yam70k1oihEySRsXQGrFwaPyWTL7xGspeHuzOwxghEhngEOn8B395nRhtayCRMm+OLFi/MdRqulWpVt2V3LUb0ytyrTxf2O05rfOybaFVTB1P9Ua709m4KjoMat+NLLISjbtw2KOkkrvmwNRdToI13GdaA1CeryTOXuPjdTeS4VzAraBquq9zD1toVNTk09NXMSI6t65jEyiVDnTlBd3dYVcMekpqcsr14I/UflL654ybgOtNjMPA6JqCtp7uK+EpRIAcrWUGTPJiWoFrSYoMxsFPBfwEnA4SvM7j4ywri6LF3cF+lksjUUUaOPFrXmBOh/Az8DDgIfA+4FfhllUF2ZLu6LdDLZGooUcqOPHGnNSBJl7r7AzMzd1wKzzOxl4NsRx9YlJRLGlDEDGT1z0hFf3NdQPxIL2YY6ipOWYjyS75BIBA0irj6paUMRaVZrEtT7ZpYAVpjZtQS3ZtfFkAglEsbIqp5HdM1JrQElFgqhBVtLMXbEd0gkgutNuubUJll/XTO7L5x8FOgBzAROAy6j/tbsElMa6kdiIdtQR3EatqilGAvhO3RSzaX/08xsMPAFoATYB1wPfAl4OwexyRHI1hpw8y4N9SM51FwLtrhoKcZC+A6dVHOn+H4OLABGAi8TtFP3tEe14ouxHt2KM7YG7NGtKI9RSZdTCC3YWoqxEL5DJ5X1CMrdb3P3E4G73X2kux+T/pjDGCXUliGQDhw6xMyzRzVoDTjz7FHUHdIQKxKRTMP5RN2CrSOGEGopxvTXK4bAWTfChT8Fdw1ZFLHWdNT9p1wEIs1ra6OHfuXdeXDxu1z1kZGYBevSg4vfZcpY7fVJBJprSBBVC7aOaoDRUiu71OtfHgvrFsETX4tvg49OpsWhjuKsKw310tYhkNSKr6AU/lBH+RjOJ9efqSGLotS+oY7a/Wlmwwg69Q4guGY1x91/ZGaVwIPACGANMN3dd1hwy94fAVMJGmRc4e5/iyq+QtPWIZA6sj+VSIvyMZxPrj9TQxblXJTHpQeB6939JGAicI2ZnQTcBCxw91EEjTBuCuc/DxgV/s0gGL1CQqkhkNK1NARSqj/VxJH9GVnVU8lJopNqSJAu6oYEuf7MfHzHLi6yBOXuG1NHQO6+G1gODAEuBFID0M4FpoXTFwL3euBFoI+ZDYoqvkKjIZAk1vIxnE+uP1NDFuVcTq5BmdkI4HlgLPCuu/cJyw3Y4e59zOwJ4Dvu/qfwtQXAje6+uNGyZhAcYTF8+PDT1q5dG3n8cVFA9zeStmn1PzHW9T/bfZ8602fm4zt2Dbm9BnX4U816Ar8Bvubuu4KcFHB3N7M2ZUh3nwPMgeAicUfGGncdMQSSFLZY1/98DOeT68/UkEU5FWnqN7MSguT0K3d/OCzenDp1Fz5uCcvXA8PS3j40LBMRkS4osgQVnr67C1ju7rPTXnqc+rH8LgceSyv/ogUmAjXuvjGq+EREJN6iPMV3JsHAsq+b2ZKw7BvAd4B5ZnYVsBaYHr72FEET85UEzcyvjDA2ERGJucgSVNjYIdvF33MyzO/ANVHFIyIihUXNT0REJJaUoEREJJYib2YuIpIzub69fCHczr6AKUGJSOeQ69vLF8Lt7AucfkUR6RxyfWt23Qo+ckpQItI55PrW7LoVfOQ67yk+nRtuk9Q4f5t31TKgQuP8dSax/982s662KfaOvDV7a7Yfub4VfBfcpnXOBKVzw22imxt2XrH/3zazriaxtsWeGm288bLaOtp4a7cfHfV5HRlTJ9M576irO1+2SVvv1isdLrI76sb+f9vMurrKB7U99kyjjUPbjjzasv3I1ejmnX+blnEd6JypV+eG26S5u/VKYYv9/7aZdbVdsadGGx8xqX7D/eZvg4373AuCxzd/GySWdsTU4udFdTSTLabdnXub1jkTlO582SbtuVuvFIbY/2+bWVc7JPb2tLSL4/ajW3nmmLr1yE88OdI5E1SB3fkymXRWVe/hhXe2sqp6D8lkbk+76m69nVfs/7fNrKsdEnvjI4+KITDxGti+Cta/DKsXBqfP0o+o4rj9OHgAJt/QMKbJN8ChuvzFlAOd8xoUFMydL+NyETvyu/V2wRZIbRDZNSgogDsxN7OuHnHsW1fA/dNhzEVQ3B2qRsMLt8Pxn4Tnb83e4ODQQdj0KuzaCOX9wYHyfvmrt+nfwwjiWfYwXDqvU1+D6rwJqkDE/iJ2R+iiLZDaINIE1aUdOgivPQhPXV9f9z75n/CXHwdHUSnpDQ5S9fX3s2D8Zc0nslzp/OtQF2okUUBifxG7I6jHveTLjtX1yQmCx6e/ERyJpEtvBJGqr2Muqk9OqXnyVW8TiSAZXb0QrngieOw8ySmrzv3tCkDsL2J3BLWqlHzJVvcSRQ3L0htBpN5jxKve5qrFYIx0zo66UYngOkrqQnDja1CRX8TO5TWhXPe4l9yK8/XFbHVv8Klw1o3gh8CKYfD4+kYQ6a34VG/zSgmqtSI6B5xIGFPGDGT0zEm5u4id6/PZuexxL7kV92sjmereRXOgtgb+clt92bSfN33P72cFLeUaX4NSvc0ZNZJorc7Ukzsf3+UIW1XGfjy5I1O4jSQ6ui4d6dFYpvdDw7rnDnMmNx9zajn7tkFRCRzYF7+jw84l4zqgI6jWau46SrYVMa6nPtrzXdqpYWIZxIjhx7U5scSlKb5k0JF16UiPxpJJWPG/sOFvDU/djTo3iCUVz+qF2WOuPLbhOjv0jHiss12UElRrtfU6SoaVbf/5P2XL0E8wrLJnfjesObomlCmx/OdnPsCpw/swvLL1R0Brtu09vAwIWjleN28JoztTU/xC1VxdausOWrbWnlef1HKySyZh45LgiAeDJQ/A/u3Bdab+o6Bf2mm5bDGXD4j36couSL96a7W1d3mGla3syX/mlSUvM3/ZppyPFtFAjnrKZ0os33jkdR5+ZX2bfoMu0RS/UGWrS32PiXYMvHSpncF7psJj/wx/+RGc/iUoq4Q/3gK7N7Yu5kSRukPETGRHUGZ2N3ABsMXdx4ZllcCDwAhgDTDd3XeYmQE/AqYC+4Ar3P1vUcXWLof7IZzUuusoWVa2fr6Tf8z33n9bv0s7ZUssSadNR0CppviNOzN3qqb4hSpbXWrP0VB7j+wzfdbztwZDGi38XnD9qDUxr/1zzk59S+tEeQR1DzClUdlNwAJ3HwUsCJ8DnAeMCv9mAD+LMK72a0s/hCwDTm7x3vHY+89Bn4psfbzc23YEFPvx5Lq6THWpPUdD7T2yz/ZZFi6j74jWxRzHQWK7uMiOoNz9eTMb0aj4QuCj4fRc4DngxrD8Xg+aFL5oZn3MbJC7Nzo2LyAZmreunjSb7//5YJfZ+8/Ux2vm2aO478W1bfoN8tIUX45Me46G2ntkn+2zrChoPt7vuNbFnOvuEHFtRBUjkTYzDxPUE2mn+Ha6e59w2oAd7t7HzJ4AvuPufwpfWwDc6O5N2tCa2QyCoyyGDx9+2tq1ayOL/4glkyS3vcO2ze/y501F3Lqoju37Dra+BVouK3AbP6u1zb6TSWf11r0s37SLtzfv5teL17Fj3wG1wmuo1T9CwdT/TC3ypv0cBn4Adm3o2Pqcaby9874HI86E3sOC4Y5S9brvMQ2fN44hV4NMx73/WO7lfrDY5hJU+HyHu/dtS4JKF4t+IK3QrhGZc1mB2/hZbWr2Ha7wyd2b2FvSnxUHq+hTriOgRgq3H1Rz0jf25QOCwVkfuqLj63O2kb4veRCqlwcdbsdcFHzmwJNh/o1BLPlMCp2pX2XHiMVgsZvNbBBA+LglLF8PDEubb2hY1ikkEsbIqp5MHNmfkVWtbGKeywFW2/hZ2Zp9v75+Z8OWeanEd8ckEnMvoNfcj3Hqvj8zsl8PJafOLJkMNsBr/xw8H34mmNUnJ+jY+rx7U5BwFn4Pnv9e8Lh9FexYAy/8FD78FXjxdnj23+HXXwxGKK8Ykt9WehqfslVynaAeBy4Ppy8HHksr/6IFJgI1kV1/Sq08mW5UFifNVOAOv8FhG1eWbK3zFry5pWHzcY1i3vWk7ZQ0aF6+d1vbNshtWU97DsjcuKG0N0z852D08sYt/E65pP55+m3Tc7V9aE2DjELZVkUoymbmDxA0iOhvZuuA/wt8B5hnZlcBa4Hp4exPETQxX0nQzPzKSIKK2XnfbNdxkklnb0l/emW48JssH9ghoyqkf/bY7pk/K9sF7UzNvo/uV8ZxR/XizU27GNKnjA8M6U2iuSRbeVyD7z68bw/e3bGv9UMZ6QJzPGXaKfn9LJj2s/rBWZc8ALvWQ+VIKOkRbIDT/4dtvX6VKAqW/cdb6uc/60bAYcuy7C38oP626clkcG1q3SJ44msNP/fET3dc3UrV273b4FM/ht9+peFnWSL4PSoGw6bX4dEvt35blb5OdCsP7sKbz5ssdoAoW/FdkuWlczLM68A1UcVy2JH0VO9g2a7jnHviAP53+Wa+O38Dd0+azTELr6uvoBffw74DdfTZ8hL/MbkP319cx4aaA20eVaHxZx/Tr5Qnpt5O+VPXtKr1UuPWeUf3K+PLk4/jhodepbYuyZznV/HTS8fz0V49SDTeKGVJsjdPG8uPn13B2m37W066MdvRkDSZbrE+/jK4b1r9/2ryDfD203DqF+Ge85v+DzOtp49+GT48M0hCjf/fuzbAX+8M+j2lrkH99c7gyMoPZW7h59THcrAuqE/bVsHztzT93KNOgqrj2/d7pCeNxkmncmTwParfhmQdJA/Bry4OTk+edWP9YLapWBpvq5pbduq7vXIffHxWwa4bhRfxkYjRed9s13GWbazhunlLWL2tli/8uYrfnP4Af540lz1X/hEO1tLznrP58MLL+bu/fp5fnVnN4N7d2tyvqvFnr95WywW/78Puy//QqpuhpZp9PzhjIjPPOY7rzx3Nvz2x7PDyKnsUM3LrsyTmnh9sUF64PejZH66Q79nAJt/9W48u5YKThzT4LdZs25v5C0R06rDDT512RY1PXZ1ySdOb/j1/K3zi35reSDD1P8y2nvqhpvOmPnP/9obXoPZvh+JSWPpwsKFO71s19Xsw6BT49O3gySCp/X5WcLSR6XN3rGnfb9H4dOdrD9YnEAgS0SNXw8HaYD15/Jr6Gyn6oea3VS0tO/U7j7mooE+rd62x+GJ0X6Js13E21tSXb6g5wPXPHgBKWDTyAD0bVcBjFl7H9ac/wDcXHmxTv6pMn716Wy3LDlQxceSJrVpGImF8YEgf1u+s5c1Nuxos7/rTihnx/HVNV5YrnoRB49mwenvG727W8PmW3bWZjwojGOxWA9J2kMZ9iRJFmf9Xe6uz/w97DYRhE+GMGVC3F7r1hJfuCI56Gs/bf1Tm/kuTbwhu6/7hrwSPE68JYjlqDLw2D0adU39tKjV/94rM24duPdr3WzTekcqWdCzDdOqzs22r2rLsAh4No2sdQeVoDLrWyDbKwqDeZRnLy+syX2Se0O8A37v4FNxp9R5/R93FN3Ukdc7oAQ2WN8B2Zl5Z6vZBItHsCBOtiieCHv/ZjmizHsVJZo1vTX78lMz/q4ohmctLegR9l8ZfFhxRPP6VYHy98X8PG19rOG/q/536zCueDE6NTbwGFv0iGNX81Qfhk/8ZJKfkIVgwCyZcmbnhRFFJ8P707cNZN0KvQe37LTLtSGX6zp5heskDTWNJ31a1ZdkFPBpG10pQjVeeFk5lRSnT8D0/vXQ8HyjdwsLp3fjhx3syuHe3w3vypX0zr9Cv7OjOtQ+8wvk/XtjqAVg7cuig4Eiqd4PlbbXKrAkkmXQSBv/5mQ80+Pybp43lidfWty6eNu5otObUnQak7UDpwwgNGpf5fzXw5Kblk2+A33wpaKjwu683TCC/+xcYd0nDZaT/vxMJGDQeBowJmpSH1zs5/pPwx1uDeYZ9EC6dB8XdM+9AbXsHSsqDa12Tvx48Vp0YdO5tj8Y7UpmSzlk3wqsPhKcevx/034LgFGXViTDj+czbqtYse/INwfIK+CaLumFhHqV34B1U0Z3hm50iXLUAACAASURBVBdgaRc5G9yeA2/SMGDN5Nlc+qcqNtQcAIIN+1OtbCzRrs7DzSzr2bc289q6GpIOFd0T/H3Fa/Ro1OgiecIFzH9jC9fNW0LfHt347IShHD+gFycOrODoyqAVX6vjaWWP/9aeultVvYepty1sMiBta3/PI9S5Ouo2bmGZGr2h8f8qmYSNrwQNJpKHgg31rvXw6Z/A49c2Xe5n74XyyuZHeEgmYdtK2Lws6KT7yi+DjX16o4psnWQ/fTvUvFc/+sSxHwuSXrbPaakVaabGPBffE1yL3bs56LycKILdG4Lv1Odo2Px60OijYkiQxIuyXIVpbtl7NgenJQ/VQY+CacWX+5EkohbbFbQ9Mq00lSPh735RfzfPtBV9i/dh2v9sOpycAAb37sZjnx9IFTtz2vQ608b9mH6lPH7JYHrVbYVuPUgerGOn9eKh1d3Y9X6S37y8jo01tZEngdYmnjxfg+o8CSp9w1lWGZyaqxoNA8YGY+I1ro+rFwbznnJJ/a8w4GR49OqmCeSKJ2HIadk/t7mkmD7EUaYWb1O/HzSuOPh+yzG3pRVpa4dOak/L1FwNy5QbuqNuvjU7fl225rnpzXBTe0gOZSXFdC+ur4yDe3fjwclbqbr/ssPz+7Sf8+6Ac9hQ837WvkXJQ4fYu/FtDu3aSFHFIMoHHU+iqKhp7M3Ml356bFDvUi46dSgVpQkOHHwf31uNrXmLxCv3Ubl/O5+YNJt/eHUAl008mvteXMvGmlq27K5lRL/ySG7p3typu/QEpQFpO0jq4n1ZZdByM9WCL9sGt2IwnPGPDfswnffdoKXdU19vmEAGnpL5M5vbuFceC9tWwFu/C07teRLe+QP0GgCXPQaH3g+uMfU9BoZPbNoPKlPMzXVXaXxH3spjG97NN1v8G18Jjvo+dE19l4yWusCkTqUWYOOH1lKCypEW99AbtzBs3Dy3rDI4ZREOF9OrpIwnpt7OBb/vw+pttXz7w6UMe+7/a7DS2KNfZvlHfs2Xf7cr4xFB8tAh9r/2KL3STsXtnXo7ZSdPa5CkWpov1eihb49uXDbxaH69eC13f3Az/X6V1odr8g2w6Bccs/A6rj39Ab757Aqu+shI7vrTKqp6lkZ29NKWe0mlhqRKJcuXVm/r0GTZJaR2tCZmaF6eaYObPAR/u7e+DxPAn2bD3z8Clz0KuzZCxSAYfGr2013ZEsaXxzY9UjrrRug1GBbODtanqd+H4R8Olu3J+uTUXMzZWpHu2wZb3mj7UVDj5BquK+xaX7Ct7zpKwR4PFpoWW4k1vvDfuHnuKZfU72UC1O2n/Klr+M30gTzwjx/kIwMOZlxpxlTsb/B5q7fWt0rbu/Ht+s65acvcu/HtBotpab5Uo4vPThjKbc+u4NpTEvUdjMP5Dw8vU7efo6yG2rokRQmYPX0cRQkia0HX1gYhqR2Jqbct5JI7X2Lqba1vfCLU72ilmjeny9TncN/24EzBi7cHfZheuB0++E/w3otB596Hrgge3/5d9qF+siWM3Rub9g364y1BQvvQtcHzp66HTa82v5zGMWdrRVpU0vb+edlutnjKJQXd+q6jKEHlSIutxFpqnptlhV++cgU79tWxv7Qq40pTXDGQa88+jmvPPo6+Pbrx7vb6jf6hXRszLvPQrobDILY0X+r02LhhfaitS2ZvZh7eQG6L96a0JME5o49iypiBDfp+ZfxtjkAqtqdmTuJ/ZnyQp2ZOavbITM3Nj1BqR8uKW9cVoLik6ZHWvq2Zj2SybeizJYwDe7N3+K3bW/9814bml9M45mytSA/sa12CS5ctKSaKCrr1XUdRgsqRVvU9aq55bpYVftOh3lw3bwnL3+/P6kmzG6w0qyfNZmltFQBFBv901kgqSkuA4EghmWWQzaKKhv0+iioGtThfImGM6FfO0f3K6DNgeOYV3YpYPWk2P3k1yezp4/jAkD4kEtZh/bKyacto8mpufoQSCTjh/KB596d/AmfdVN/nKdMGN9NGvaVRFBrLljD6HpO1HlJSXv+8YnDzy2kcc7buKtkSXEmP7Ed/2d5z/CcLdniijqRrUDmS6e6yzfb1aXx30V6D4agTG5xP3//J71O2txuVPQ5S1q2Ef3hpANee/gBHWQ1bvDfzlhXx7TM3UGbvstUq2cUwSksSh09jfXf+pibj/e2dejvlgxqOO1Y+6PigvNE1qPJBxzdo+DGwopSvnD2Krzz9dpPl+gU/ZG/VeHYc6MddJza8rpPpt/nppeMZwUZYndvBYNtyzUoySCbhrScbXlO54Icw9PQgYTT+H2Ya3SW1M5ZtFIXGst2JF4IBWDNdg3rhJ00bX7Tljr6ZGihkG9HiN1/KPh5etrv4Zmve3sWomXkOHXHfo2SSPRvfpGjLG5TtfPtwH481k2dTdNKneH3DngYDwD7ysR30efraBv2mdgz7JL3Lux9uej24dzeuP62YgUU1nHjcKPoMHd3qVnxYokHjhpnnHMdjS9ZzwclDqChNcGbfXdRuX88Jx42i1+ATWnWH3mx9wrJdbD54MMmyjTVsrKllUO8yxgyqoLi4/St2npqbd55m5m29EV+2/jwHa9s2knc2qX5R21YGyymrDE6f7VgdHDkNPCV744v2yNa3q6XfoPM0F28vNTPPt9Sppjb3+Unr49GjqITEvg0NBs4c8fx17D5mPOeeeAJPzZzEzr21nMhqyratD3rO794MPSoZsehuug8ey5pdgzOO9/ffQ/pzliWafCa9BpKoPJZeQ08E6sfqW1W9p8H1mh7divjchOHc9uyKwxv3mWefBAf7MiFb/5C05ada0O3d8GZ9cgq/I49cze7Lj2fp+1WHW9Ylk86jr67nW48ubTAq+rRThhxRkupWbMyYPJKkQ8KC5+3SFW8J0lxDg0xNsJs7+hkwpvUb7Wy/dSIRjETeeDTygWM79nunJBLBacs/3tKwvG4/+7av59Wavk1bhnaB5uLtpQQVd432MBOp0wZLHw6GY6ndBX+dw2tvvcXmLb04/ejejN/7J+zFnwVDw9w/vUH/kv49EvSvW8PrnztAaZ8B7N+3lx3JMm74U5JX3tvJ/rokU046Cnvztw2OYPzi/8Yqjw16qYcbgM27ahl9VDk3n1VOr7pquvfdz6w/7eOqj4xMO4J6g5GJYyHZt370gG0rYfNSqH4ruB1A2NM/NdJEny1v8eEMG7nX3nqLLzyzitKSBD+5dDx9y7rx7vZ9fGnSyMMdf7/16FKOruzB+GF9SSTs8OnHHt2KOXDoEP3Kuzd75Lpm216uvf+VIx9RoqveEiTbgMy9BsPyxxseFaXfaynTBrq1G+18/NbN7Xz0Ghj0VxxzUdD3qt9xULOOre8Xc/0Tr7B938H2HZV3wR2ezv3tOoNszVDHXBQOeLkPzvhHaor7841HXmfX+reDxHLGDJh/U5PxzEr2b6Pkvgvo9dgVlNx/ERW16zn6r//O/R98lzfe285185awd+PbDY9gyiqx6jdhzuQGd0k9um837vnQFsb+9nyO/u3nGPjAJ7h17HssXrWZc20RY397PhOeu4zK+84JNiCHDgaPcybDQ1fCX34UdOYsq4RHrmbvxre5bt4SNib7ZG0QAtC3RzdWbN7DF+56idsWrOQXC1dx2cSjGdS7lNq6JAtXbuXRV9fz7FubDzcX/9ycF1i0egdX3vPXZpuNd1gjia56N+FsDQ2Sh5o2+X70y8HOypHK9W+d7a7BqYYQfY+BSV8Pms7/4T+CwW6TBxn+h6/wqzOrqexR3PaWoS19ZielBBV32U6ZpJqd+6HgdEIySW1dkp514W0M6rI0sd35bsMVef5NcMYMin73df7PhIPU1iWpq9nQYh8sHrma/nverr/GFZZX/O5abj3TmvaDeuTqoL9Jtj4fYbP12rok319cl7FF4vdfPgjARacO5UcLVjRoCn7bsyu46NShlJYkOJSEbz26lNfW1TSZ54KThzS7ceiwFoUxuvdYTmVr4bZjdebfo733WkqX69+6pYS4Y3XTe12FO5XHLLyO608rbvtOTxfd4VGCirtszVA97bFuP70Obqe0JMHukrA/VLee2Zu8pktLZhV11cEGvrxR8/MsfbBs14aM5RV1We71k2X+VP+ooopBlJYk2FBzoMHNGt+b/jT/8NKAw+MOmpHxKKcoATPPHsXDf1tHbV2SxgdJqXtONbdx6LCR3iO4JUjBSO8u0X9U8DxbfWzvvZbS5fq3bikhtrBTeZTVtH2np4vu8ChBxV2mUyapYfQn33B4qP5t1oeZZ4/iW3/cy5rJs4MbvE35TsP3nfc9+OuchssvKQv6hJSUsbtbFbOnj6O219HBMlrog+UVgzOW7+qWudNw1nsAWdApsXzQ8YeTw4aaA3xzYS2vJsZyzfxdTD/96MNJo8jIeJRz3FG9Do/vV1qSoPHp/dQ9p5rbOLS1Y29WMbr3WCz0Gtix91pKl+vfuqWE2MJO5Tbr0/adni66w6Nm5oUg/eJoSY+gocLGJYebme+Zejv37zqZ//7Lu+zYd4CfXjqeyZU7Yee7FBcVBUO+lPSARDHs3wHzb6y/mDzlO7DkAZLjL2PD0Z9mcN9eADz31mZ2rX+Tfr6Tfd2rmNRrU9PbZxw/lf2vP96gf9Su837CP750FN8Zs65BPyg+c0fQgbOFPjLJpLN6616Wb9rF25t38+vF69ix7wA/uXQ8x/TrSfWeoL/VGxt3N2gK/v8uHMvtf1jB2m37D7fm69Oj5HCDh6BF4SgeXPwuN045MTejlLe++XDnaWaeTTIJK/43uImgHwp2SgafCqPO7ZgL/blsqt1So4xs4+u9ch/7J/+f+lvotLWBROdudKPbbXQajVbGZN+RrNm+v0n/qtr977N78woSezZT3rOCEg5SVDEwGP9s94bgXjEH34fSiib9QZr02aosI7FjVZMNQKp/VF3NRg71OIr3ex/N+weNmn21jCquprxuK4n0FkdtuI9Tc33GGr8+tHcZyzfvYlNNLQN7lzJmUO9GrfiKqDuUpLKFVnx50vkTFHSu/j4tfZf0ncqOujdTZ/r9mlKC6mqavb2HxEnXSFAi2cW/o66ZTQF+BBQBv3D37+Q5pIKVTDq/W7qJ639dfxrs+58dx3ljM5/aSk9mqT5D3YqKWtV3SEQkCrFJUGZWBNwOfAJYBywys8fd/Y38RlaYVlXvOZycIGi5dv2vl3DCgI9w3IBeDebNNLxP6nrN5yYMz+11GxGRUJxOYJ4BrHT3Ve5+APgf4MI8x1SwVm/bm7Ep9uoM/X8y3WIi1WeoNX2HRESiEKcENQR4L+35urCsATObYWaLzWxxdXV1zoIrNKUlRRmbYpeWNB0INtvoCak+Qy31HZLcUf2XriROCapV3H2Ou09w9wlVVVX5Die2+vYo4avnjGrQ4fSr54yib4+SJvNmGz0h1Weopb5Dkjuq/9KVxOYaFLAeGJb2fGhYJu0wekAFq7fubTAq99C+ZYweUNFk3kz3Y0pdg0o9tms0BRGRIxCnBLUIGGVmxxAkps8Dl+Y3pMJVXJzgvDGDGF5Z06BvUKbbUKRGTxg9c9LhPkMHDiU587h+1B1KMmXsQLXiE5Gci02CcveDZnYt8DRBM/O73X1ZnsMqaMXFCU4Z1pdThrU8b7vvVSUiEpHYJCgAd38KeCrfcYiISP4VXCMJERHpGpSgREQklgp6LD4zqwbWZnm5P7A1h+G0h2I8cnGPD1qOcau7T2nrQluo/6353HyLe3ygGDtKu9aBgk5QzTGzxe4+Id9xNEcxHrm4xwf5izHuv03c4wPF2FHaG6NO8YmISCwpQYmISCx15gQ1p+VZ8k4xHrm4xwf5izHuv03c4wPF2FHaFWOnvQYlIiKFrTMfQYmISAFTghIRkVhSghIRkVhSghIRkVhSghIRkVhSghIRkVhSghIRkVhSghIRkVhSghIRkVhSghIRkVhSgsoBM/uomT0RgzjGmdkLZrbMzF4zs89lme8KM5uV4/AiZ2b3mNnF+Y6jM1Nd7xhm1t3Mfm9mS7LF3kGfs8bM+ke1/CNVnO8AJKf2AV909xVmNhh42cyedved+Q5MpIMVel0fD+Du4/IdSD7pCKodzGyEmb1pZr8ys+Vm9pCZ9QhfO93M/mJmr5rZX82sV6P3nhHu2b0SzndCWD4mnH9JuMc3yszKzezJcFlLj3RPyt3fdvcV4fQGYAtQ1YbvPcjMng9jXGpmk8Lyc8Pv9Dcz+7WZ9TSzo81shZn1N7OEmS00s3OPJH4zm2Vmc8NlrTWzi8zsVjN73czmm1lJON+3zWxRGOMcM7MMyzrNzP5oZi+b2dNmNuhIYuusVNdzX9fN7Cjgl8Dp4ecfm62+mtlzZvYDM1sc/n9ON7OHw3huTlvmo+F7l5nZjCyf+/dp/5c7zKyovd+hw7i7/tr4B4wAHDgzfH438HWgG7AKOD0sryA4Sv0o8ER6WTj9ceA34fSPgS+E092AMuDvgDvTPrd3hlj+BViS4e+2Fr7DGcByIJHhtSuAWRnKrwe+GU4XAb0IbuX8PFAelt8IfDuc/hLw6zDGO7LE8WCW+L+YYd5ZwJ+AEuAUgr3k88LXHgGmhdOVae+5D/hUOH0PcHH4/r8AVWH554C7812v4vinup63up7+O2atr8BzwC3h9FeBDcAgoDuwDuiXvk6Ev/XStPI14fc6EfgtUBKW/zRTXLn+0ym+9nvP3f8cTv8SmAk8DWx090UA7r4LoNEOfG9grpmNIljxS8LyF4BvmtlQ4GEPTk28DnzfzG4hqKwLGwfh7t8FvtuWwMO9r/uAy9092Ya3LgLuDo9UHnX3JWZ2FnAS8Ofwe3YLvwvu/gsz+yzwZSDjqQp3b+ue8u/cvS78bYqA+WH56wQbU4CPmdkNQA+gElhGsPKlnACMBZ4JYy4CNrYxjq5EdT0/dT2lpfr6ePj4OrDM3TcCmNkqYBiwDZhpZp8J5xsGjArLU84BTgMWhZ9RRnDUmVdKUO3X+EZarb2x1r8Df3D3z5jZCII9INz9fjN7CTgfeMrMrnb3Z83sVGAqcLOZLXD3/5e+MDP7F+ALGT7neXef2bjQzCqAJwn2Dl9sZcyEMT5vZpPDGO8xs9nADuAZd78kw2f1AIaGT3sCuzPM8yDBCtjYbHe/N0P5+2EsSTOr83B3D0gCxWZWSrD3N8Hd37PgAnhp448lWJE/1Pw3lpDqen7q+uG30nx9fT98TKZNp54Xm9lHCY5gP+Tu+8zsOTKvE3Pd/V+biSPnlKDab7iZfcjdXwAuJTj19BYwyMxOd/dF4Tn5/Y3e1xtYH05fkSo0s5HAKne/zcyGAyeb2ZvAdnf/pZntJDiN0EBb9irNrBvBqbB73f2htnzZ8P1HA+vc/U4z6w6cCvwHcLuZHefuK82sHBji7m8DtwC/AtYCdwIXZIi/o1sopVa8rWbWk+CUXuPv+hZQlfr/hXvJx7v7sg6OpbNQXc9vXT/S+tob2BEmp9HAxAzzLAAeM7MfuPsWM6sEern72nbG3CHUSKL93gKuMbPlQF/gZ+5+gOD88I/N7FXgGZruqdwK/JeZvULDHYTpwFIzW0JwOH8v8AHgr2HZ/wVu5shMByYDV4QXQpeYWVtaCX0UeDWM/XPAj9y9mmDj84CZvUZwymN0eDrkdILz478CDpjZlUcYf4s8aKV1J8F59qcJTtU0nucAQeK6Jfw/LQE+HHVsBUx1PY91vQPq63yCI6nlwHeAJkeT7v4G8C3gf8Pv9gzBtay80i3f2yE8XfGEu4/NcyiRMLMrgBHuPivPoUieqa5LPukISkREYklHUNJEeCqkj7s/l+9YRKKkuh5vSlAiIhJLOsUnIiKxVNAJasqUKU7QJ0N/+ivkv3ZR/ddfJ/rLqKAT1NatW/MdgkjeqP5LZ1fQCUpERDovJSgREYklJSgREYklJSgREYklJSgREYklJSgREYmlSBOUma2x4HbcS8xscVhWaWbPWHBL4mfMrG9YbmZ2m5mttOA20KdGGZuIiMRbLo6gPubu49x9Qvj8JmCBu48iuAfJTWH5eQR3eRwFzAB+loPYREQkpvJxiu9CYG44PReYllZ+rwdeBPqEt2sWEZEuKOoE5QQ3wHrZzGaEZQPcfWM4vQkYEE4PAd5Le++6sKwBM5thZovNbHF1dXVUcYvEkuq/dCVRJ6iPuPupBKfvrjGzyekvejCUetZxmDJx9znuPsHdJ1RVVXVgqCLxp/ovXUmkCcrd14ePW4BHgDOAzalTd+HjlnD29cCwtLcPDctERKQLiixBmVm5mfVKTQPnAkuBx4HLw9kuBx4Lpx8Hvhi25psI1KSdChQRkS6mOMJlDwAeMbPU59zv7vPNbBEwz8yuAtYC08P5nwKmAiuBfcCVEcYmIiIxF1mCcvdVwCkZyrcB52Qod+CaqOIREZHCopEkREQklpSgREQklpSgREQklpSgREQklpSgREQklpSgREQklpSgREQklpSgREQklpSgREQklpSgREQklpSgREQklpSgREQklpSgREQklpSgREQklpSgREQklpSgREQklpSgREQklpSgREQklpSgREQklpSgREQklpSgREQklpSgREQkliJPUGZWZGavmNkT4fNjzOwlM1tpZg+aWbewvHv4fGX4+oioYxMRkfjKxRHUV4Hlac9vAX7g7scBO4CrwvKrgB1h+Q/C+UREpIuKNEGZ2VDgfOAX4XMDzgYeCmeZC0wLpy8MnxO+fk44v4iIdEFRH0H9ELgBSIbP+wE73f1g+HwdMCScHgK8BxC+XhPO34CZzTCzxWa2uLq6OsrYRWJH9V+6ksgSlJldAGxx95c7crnuPsfdJ7j7hKqqqo5ctEjsqf5LV1Ic4bLPBD5tZlOBUqAC+BHQx8yKw6OkocD6cP71wDBgnZkVA72BbRHGJyIiMRbZEZS7/6u7D3X3EcDngWfd/QvAH4CLw9kuBx4Lpx8PnxO+/qy7e1TxiYhIvOWjH9SNwHVmtpLgGtNdYfldQL+w/DrgpjzEJiIiMRHlKb7D3P054LlwehVwRoZ5aoHP5iIeERGJP40kISIisaQEJSIisaQEJSIisaQEJSIisaQEJSIisaQEJSIisaQEJSIisaQEJSIisaQEJSIisaQEJSIisaQEJSIisaQEJSIisaQEJSIisaQEJSIisaQEJSIisaQEJSIisaQEJSIisaQEJSIisaQEJSIisaQEJSIisaQEJSIisaQEJSIisRRZgjKzUjP7q5m9ambLzOzfwvJjzOwlM1tpZg+aWbewvHv4fGX4+oioYhMRkfiL8gjqfeBsdz8FGAdMMbOJwC3AD9z9OGAHcFU4/1XAjrD8B+F8IiLSRUWWoDywJ3xaEv45cDbwUFg+F5gWTl8YPid8/Rwzs6jiExGReIv0GpSZFZnZEmAL8AzwDrDT3Q+Gs6wDhoTTQ4D3AMLXa4B+GZY5w8wWm9ni6urqKMMXiR3Vf+lKIk1Q7n7I3ccBQ4EzgNEdsMw57j7B3SdUVVUdcYwihUT1X7qSnLTic/edwB+ADwF9zKw4fGkosD6cXg8MAwhf7w1sy0V8IiISP1G24qsysz7hdBnwCWA5QaK6OJztcuCxcPrx8Dnh68+6u0cVn4iIxFtxy7O02yBgrpkVESTCee7+hJm9AfyPmd0MvALcFc5/F3Cfma0EtgOfjzA2ERGJucgSlLu/BozPUL6K4HpU4/Ja4LNRxSMiIoVFI0mIiEgstSpBmVmZmZ0QdTAiIiIpLSYoM/sUsASYHz4fZ2aPRx2YiIh0ba05gppFcM1oJ4C7LwGOiTAmERGRViWoOnevaVSm5t8iIhKp1rTiW2ZmlwJFZjYKmAn8JdqwRESkq2vNEdRXgDEEo5PfTzBG3teiDEpERKTZI6iwk+2T7v4x4Ju5CUlERKSFIyh3PwQkzax3juIREREBWncNag/wupk9A+xNFbr7zMiiEhGRLq81Cerh8E9ERCRnWkxQ7j63pXlEREQ6WosJKmxa/l/ASUBpqtzdR0YYl4iIdHGtaWb+38DPgIPAx4B7gV9GGZSIiEhrElSZuy8AzN3Xuvss4PxowxIRka6uNY0k3jezBLDCzK4luDV7z2jDEhGRri7rEZSZ3RdOPgr0IBji6DTgMupvzS4iIhKJ5o6gTjOzwcAXgDuBfcD1OYlKRES6vOYS1M+BBcBI4GXACEYxTz2qFZ+IiEQm6yk+d7/N3U8E7nb3ke5+TPpjDmMUEZEuqMVWfO7+T7kIREREJF1rmpmLiIjkXGQJysyGmdkfzOwNM1tmZl8NyyvN7BkzWxE+9g3LzcxuM7OVZvaamZ0aVWwiIhJ/UR5BHQSud/eTgInANWZ2EnATsMDdRxE0wrgpnP88YFT4N4Ng9AoREemiIktQ7r7R3f8WTu8GlgNDgAuB1AC0c4Fp4fSFwL0eeBHoY2aDoopPRETiLSfXoMxsBDAeeAkY4O4bw5c2AQPC6SHAe2lvWxeWiYhIFxR5gjKznsBvgK+5+67019zdCfpUtWV5M8xssZktrq6u7sBIReJP9V+6kkgTlJmVECSnX7l76qaHm1On7sLHLWH5emBY2tuHhmUNuPscd5/g7hOqqqqiC14khlT/pSuJshWfAXcBy919dtpLj1M/lt/lwGNp5V8MW/NNBGrSTgWKiEgX05rRzNvrTIKBZV83syVh2TeA7wDzzOwqYC0wPXztKWAqsJJg3L8rI4xNRERiLrIE5e5/Ihi3L5NzMszvwDVRxSMiIoVFI0mIiEgsKUGJiEgsKUGJiEgsKUGJiEgsKUGJiEgsKUGJiEgsKUGJiEgsKUGJiEgsKUGJiEgsKUGJiEgsKUGJiEgsKUGJiEgsKUGJiEgsKUGJiEgsKUGJiEgsKUGJiEgsKUGJiEgsKUGJiEgsKUGJiEgsKUGJiEgsKUGJiEgsKUGJiEgsRZagzOxuM9tiZkvTyirN7BkzWxE+9g3LFr75xAAAIABJREFUzcxuM7OVZvaamZ0aVVwiIlIYojyCugeY0qjsJmCBu48CFoTPAc4DRoV/M4CfRRiXiIgUgMgSlLs/D2xvVHwhMDecngtMSyu/1wMvAn3MbFBUsYmISPzl+hrUAHffGE5vAgaE00OA99LmWxeWiYhIF5W3RhLu7oC39X1mNsPMFpvZ4urq6ggiE4kv1X/pSnKdoDanTt2Fj1vC8vXAsLT5hoZlTbj7HHef4O4TqqqqIg1WJG5U/6UryXWCehy4PJy+HHgsrfyLYWu+iUBN2qlAERHpgoqjWrCZPQB8FOhvZuuA/wt8B5hnZlcBa4Hp4exPAVOBlcA+4Mqo4hIRkcIQWYJy90uyvHROhnkduCaqWEREpPBElqCkXjLprNm2l827ahlQUcqIfuUkEsbBg0mWbaxhY00tg3qXMWZQBcXFiazzH+nniYgUEiWoiCWTzvxlm7hu3hJq65KUliSYPX0cHz/hKB5/fQPfenTp4fKbp43l0x8YzO/f2tJk/iljBrYqyWT7vNa+X0QkLjQWX8TWbNt7OFkA1NYluW7eEl7bUHM4OaXKv/XoUl7bUJNx/jXb9h7R57X2/SKxkEzC1hWwemHwmEzmO6K2KfT4Y0JHUBHbvKv2cLJIqa1LsqmN5Vt21zKyqme7P6+17xfJu2QS3vwtPHI11O2HkjL4zB0w+lOQKIB96kKPP0b0a0VsQEUppSUNf+bSkgQDs5QPylJ+VK/SI/q81r5fJO+2v1O/cYfg8ZGrg/JCUOjxx4gSVMRG9Ctn9vRxh5NG6prQyYN7c/O0sQ3Kb542lg8M7p1x/hH9yo/o81r7fpG8272pfuOeUrcf9mzKTzxtVejxx4hO8UUskTCmjBnI6JmT2LK7lqN61beqm3bKEEYd1ZNNNbUM7F3KmEG9KS5OZJ3/SD9PpCD0GhicFkvfyJeUQc+B+YupLQo9/hixoAtSYZowYYIvXrw432GIHKl27T102vpf6NdwCj3+/Mi4DugISkTiJZEINuZXnxScFus5ECqPLZyNe6HHHyNKUCISP4kE9B8V/BWiQo8/JpSgYkwjQkiHSiaDlmS7NwXXSeKyVx/XuCTvOm+COnQQNr0KNRug9xAYeDIUtfLrRrTCtCXhtGdEiK6U0LrSd+0Q6ddFyiph/N9D1WgYMBb6HZe/hBDX6zVKmrHQORPUoYPw2oPw1PX1lX7q9+Hkz7WcpCJaYdqacLKNCDF65iRG9CtvsnEGuswQRxrOqR1SfXPKKuH0L8Hzt9bX74vvgcqRsGdz7jfG2foMXX1S+06PdURiiWvS7II656+96dX65ATB41PXB+UtiaiTXVuHIMo2IsT2ve8zf9kmpt62kEvufImpty1k/rJNvLs98/IXrdnOquo9JJOF21qzMQ3n1A6pvjmnXFKfnCBIWNXLYc5kmHsB3DEp2Di3ZWieIxnWp6U+Q21Zdiqx3DGp6Xdpy3LU0TY2OucRVM2GzJV+1wYYclrz721uhTmCC55tHYIoNSJE+ntKSxKUFCUybpzvunxCxuUvXLmVXyxc1eQIo62nyFLzb9v7Pt2KEuw7cChvp9Y0nFM7pPrmGA3r9ymXwB9vaboxvmwguEN5v+aPQo70aCNbn6HyAVD9NmxeCtVvwSv3wf7tzS97+zvw+1kw8Zr6Rsu/nwUVQ2Hn2tYvpy3bAJ0KjFTnTFAVQzJX+h79YO2Lza90HdDJLtPGP1vCyTYE0Yh+5fzk0vG8tq6GpEORwQeG9mb73gMZN84ba2oPL39w725cf1oxg4pqqBywl4d7FHPdvCX0u/IM+vfsTnERvLx2J9945HX69ujGZycM5bijejJmYAVH9yvn3R37Mp4+vGX+cj43YTi3Pbvi8Km1//zMBzh1eB+G9unR5H1tSVzZbj2SSVt/yy4vmQySzYU/BSw4nTfmomAjftSY4Ciqbn39/HX74Z0FUFwabNA/Pqv5pNDSKbrDG/GNUNQN9tdAz6rgunDfY4LT7+mn48+fHcz/0JX118s+9s0gCfx+Frsrjqd84HEkNr8W7IyW94e6WvBDMP6yhqcvJ98A21fB1jfBiuHMr8Gffxgkrt5D4cC+pokl2zagpEdwBNZrIMm+I3lvxz6OWvcMZU/+c8vJuTWJTMmuic6ZoHr0hSnfgfk3Nayoj10TVODmVrrKY4NK1niPsPLYVn10tusj5544gNnTxzUpb24IogMHnTnPr2pwO46tu9/PuHEu71bMV88ZxbxFa7n7g5s5ZuF1h+N/6KM/ZGmfs9hYU0v1nvfp1b3ocHK6bOLRhxPO0f3K+MrZoxrcAmT29HGcNKgX181bwlUfGXl4XggS4zceef3/b+/O46Oo78ePv96bbLK5DwhJCASIolyCKCoqooJVwAN7eNejtT9sv1C03rb9tvb49lDUemCrVetRRVEpXqi1oBUvBAUERA6Rm4SQQO5jk/38/pjZzW6ymwTIJpPk/Xw88tid2dmZz04+n3nP55gZbjxrKJnJ8S2+194+oYYGHwtX72rx6JELx+SFDVL+2zkdzL7stZrXcAaOhwk3wpu3NOXv02+DT/8O5XaQcieAr9E60I+f2XqfUFu1jXA1rIm3wtvPwGk3w6BTYOmcplqPAar2wRs3hu8vm3grO/YUcvTez+DNm5vmT70LMoeENl96a6zp6Q/D+3OafuupN0B9JTx5bvjAEu4YMO0eePlHVrBzJ1AzbS5flWcx6IP/abv/rD21TO33Cqtn3knim6Xw4QNwyk+tqn1cEqyaB7mjwRVjjV5a8ju4fH74Quc/kzmEi+y2FFcy7YGlLQLIoqDBDe25BVGk9Vw/eSjGEFKLmT1pKC4XPPXRNv5+bjqjXju3xdnfwpOe54b/VOFxu/jt9FHc985GvnPcAB7/YEtgGzPPPDJk2r/Np35wIpc8+gmzJh3JQ0s2t0jrg5eN5ZaXVof9ze1pclu9Yz+XPPpJi++/MGM8YwZmhP2Ov5baQ27nFL07SezbZPXF+PPDaTfDJ3Nb1g5OmW019fkDyPLHrIA18Wbr4H7N6zD4tNB1+3ywZyVsfNuqvayaZ33HnQDXLbXKVvPt+7c3fqaVjitehienha7Xv80IafVe9jLued9tuc7pD1u1rubO/CW8+/um5S55Fl64ouX3/Wn2/zZ/bSbGDQt/YgWnoOWLpjxK9mtXttxe830VaR8Eb689y/RsvehOEqn9YchEmHdx6BnWB/cFzoCYeCtUlwBh/vmHcZFdW/0j/r9wgpsGa7yNYddTVd/I+xv2ctf3xlBT30BOmod73t7AxKP7sb+6ngNF25syeWqe1ccgcHKW1fS3u6yeX72ylhkTC/AZQrYhQthtVtc3hNx8tnkgqa5rCMzLTfPwneMGIALFlXURA0fwb23wGTIS49hTVhuy3cKyWsYMjPy97FQPJw7u050DU/Q1r+E074PCns462qpd+BqbgpM7warRhGvijlQz8rdO+FscItWw/Omo2hfanJaaBzljwveX2d91Ve8Nv876yvBNcw21octVl7avj0lc1n4o3RIanPzLxyWHNpcCrF3Qcl+1p08r0jKl3/Tqpr6eGaB8jfDe/4VWvd+81TojW/K7pqr/NW90+KazUz0M6pPAeaPzEDvTvrZ6FzEiLFm/h2MSSoitKsKk5JCcfRQ7y+soKrdqAZX1ddTWQ3mtl4zEOH4+dRjldQ28/NlO9pTVMqhPAicOzmBoVhIugf3V9ew+UMNF4wYiGOZ87xjyXVutA01MPMSnwH9+Bd4ast1zeX/afezLGMO7RQkkeeJwiTCoTwLbSpoKxrhBaVx1SgE1dQ0kxsfy1EdbyM9M4uHLx1K/dxPvfDuGz0oTuWt5PaXVDcyeNJR9VVazY/Mmw8eWbgnbR5UUH0tReS1rdjX1r/3k9AL++t8tgSDlcbvITfOEBKR+KR6+Kalk1nMrWzYlYtpsv29rYEiPvLYqUn9K8+n92yF9UGhfkD/ghGviDtf35C9TuWOtfd/YYNU+wm3PH/hScuC8v8DrN1hNeif+P/jPr61tN9SF/W5MpN8Qnw7n/AHe/nnL5sv+x8HJs8BbDWn9rcDSrEZUEduXtV/vo39aPPklHyDeGmuZrGFhA9G6yiQyTr2JuLeCmhqn3WP1qzX/HwwcDyfOAG+VFdiWPRIayCL9n3atwHir2Z49md1ldT0nX7ZTzwxQ+78JfzaS3C90ur66wzedn5HYoh/ntxeM4vGlm7lt8NdkBfUNVUx9iGsXZ/BNSa293Ejmr9jOpGE5PLBkVUgT3pKvCrloXD4znvksZP7CVbu49IR8spJiOa3hE9LemhVaOP0d4N4aYhf9jJxTZnNy7GAuX5JFaXUDv7lgJA+/t5ltJTVsLDzAxeMGcavdXOdvDsxLjSN314ckfjATvDUMdCdw1tSHeK5iDP/4aBtxscLvLxzF9tLqdvdR/fr8kbyyahfbSmoCTZc/OGUQf3hzQ2A6NcHdoj/v+slDA7Ut/wjGkddPYNDeJa2237d17VSPvbaqeX/K2gUtByWc9xcYcIIVoAaeaAX5uERo9MLw88OfwUc64/dWNwWnL16Az58O3x+88hmYOgfe+RWU7bCaGAee1NT0tvwxOGEGnPNHePuO0Dz90QPWOoL7pqb8CRb/2gpqp8yGjEGQ0AfqyiFtIBx7Gbw6M6hF5W744N5Ai4qZeje3LznAG19u4ZFp6QxyfdU0ujFMv51v6hxi6nxNwcn/+xfdZO3D4JpY+iCr7ztk+3Os+ZH+T0FNrVJTysqgJvoekS/bqWf2QW39EJ4N10Y9F176YdN0FNp3I/UdvXRRv7B9Qy+fMI+bllQHlrvre2MCASL4+49ceTzX2cEpeP61Ewp4/IMtvHtNHrnPnx2+rX/pnKZ5E2+Gj+cGtuvf5ua9FUw4si9XPfFpi218cO1A+j57Vot1l35/MRsbs+mX4iE/I5H3Nxfzwydb/j8i9VFdO6GAue9uDkw/fPlxfL7jAMbAgs938pdLjuXqf7RMT/D3AJZfl0/Wc99qtf2+tb7BgqzkNj+Psujezbx5n2rGEOsk7nBuZNpWn8muz6xBCONnwroFVu0jPgWyj7GGeaflwX9+Azs+afr+6bdZQSFYah6c/Tso3oAv/2Rcr8y0mt2Cmq/JPwUW3dyiRsSFj1pB67z7m5r7gz+/+FnY8ZFVm1u3gG1nPMDpz5Wz7HIP2a8F9VFF7At7EffT57XcN837oPz7ovn2r3kj9LIXnw+2fwRb3rXStHpeYODK0lOf4srFbqBT82Vncn4flIhMAe4HYoDHjDF/OqQVpeQ0ZfbgM6+yoFFKBzEy72BE6oNK8RaHPePsJ2WAO7BcTVB/TvD3Cw+EX6+/3yg2Urt88L/d37QStN1ar4+NRRU8tGQzQ/ulhN2GiXC27KoqYvyIkYFZg/sktdlH1TztwdPFFXWBQRget4uq+ra/53G7SPKWtNnG31bfYI++tipcn+rh3si0rdGu/msRBStwBJ8kAVzyz9DgBNZAi+bNXDWl1vVLsZ6mabAO3EvtkXkDTgjfR1R3wJpfGaG2V7HLGoxhS/UWA/FWM1w7+u3cDTXtuySlvddlulyQnA0ftwyGe00aYJ3I9ph82Q6O6XkTkRhgLjAVGAFcJiIjDmllGUMga7hV1Z94s/WaNQyGnWud3Vy3NGrDNyM9cr3CnWVl3mCBjNe0XGJ8bNjvR5pvjPVa7+kXdv1ITNP7ibdaZ2VB2w1eR3ZqfNhtSGpu2HXHpOaGzAr3NN/gPqpwaQ+eLq2uD7y/9+JjGZSZFPZ7/pYN/3KejLzwvz3oQBHp/+K/dqqtz1UzgUdKLA1fptKC/ifh/jep/VvOX7sALngw9Hvn/AFiE2HlMzTGZ1gnmsGf+wd2hNuGO6np+sdInwdNl7uzAPi8Ij388s2nMwZbQTk4PeFOfNMi5M/U/rTgD/xB69w68V7u+awhsEhvypeOaeITkZOBO40x59jTdwAYY/4Y6TutNnEcxlDxwxGuL+O3F4zixRVbuWvkjpDrkyqmPsQFIX1Qo5i/YpvdBxU6jHzJV4V897h8fvP6upD5L6zYzqwzh7L4y938acQO0t9u6oPyTbsHV32VNcz+wDZY+U+oKWXrxHu5/IOswCCHF1ZsZ+aZQzl/ZA5vfFnY4nqkC0bl4P3yVZIWNbWhV02bS8LoC3HFxLT4/d/sq2J9YTkbiyp4ccVO4mKlRb/cr88fyd/+uznQB3XPRccysn8KheVNw8Yh/P0FR+SGLufCtHkNicP7oHreAwv9fVBL57S8ePbbj8DR58KGN1r+z44+F1/pFnx71hBbsiGQZ6unzcVzzAW4vl4Muz+3alsSA4l9Ye3L1sW8wdd2TfmTNez9qHNg52dw9JTQz6feba17xyeBPqXLluWzbFsFQ/p4eOOsAyT683tmgdXMF9xv589f0PZx5mDvDRp07PIl5fDevhT+J9zAoJ7VBxX2xzgpQH0PmGKM+ZE9fSVwkjFmVqTvOLWANr9Gp3+Kh7WF5ZTX1HFMQgkxVXshOZvkHGsUn3+5nOQ41hZWsL/aS0aim8o6L8nxbsprvaR53MS4BJ+BA9X1pCW4qajzkuqJwx0j1DX4qK33Mjx+H+7qvXgT+zHrzVIuPqKRI5LqGdQvjarKchIy+lORmM/u8nrcMcKBGmvE4Oj+acTFxQTu6ND8MfS+xkaq9myksXwPMam5JOUe1SI4tbYP8jOaRvElxsVgjEFE2rxlUruvd2rHCUlb6+rCa6t6XoCCpicKVO0DTxo01kNKbtP/ppX/WcT8FnxXClcs1B4AT7r1V1cOVcWQlGXdNUIE6iqsIJA2AKpKoGK3VXPpNxL2rrOa2VL748sezdb9TWVxcGYCrv1bOq7fzr8v7O2RM6bdT1foYdf8RdIzApSIzABmAOTn5x+/bdu2Tk9rd/Da6t38dN7KFvMfvGws548J07SgulK7jzaa/1UPFbYMOKYPCtgFBF+WOcCeF8IY86gxZpwxZlxWVlanJa67idSflJ0a30UpUh1B87/qTZwUoJYDQ0VkiIjEAZcCr3ZxmrqtUTkp/PaCUSEDFn57wShG5aR0ccqUUqp9HDPM3BjTICKzgLexhpk/YYxZ18XJ6rYSE+I4b1Q2g/smUlReR3ZqPKNyUkhMiOvqpCmlVLs4JkABGGMWAYu6Oh09RWJCHCcO6dPVyVBKqUPipCY+pZRSKkADlFJKKUfSAKWUUsqRHHMd1KEQkWIg0oUgfYF9nZicQ6FpPHxOTx+0ncZ9xpgpB7vSNvJ/e7bb1ZyePtA0dpRDKgPdOkC1RkRWGGPGdXU6WqNpPHxOTx90XRqdvm+cnj7QNHaUQ02jNvEppZRyJA1QSimlHKknB6hHuzoB7aBpPHxOTx90XRqdvm+cnj7QNHaUQ0pjj+2DUkop1b315BqUUkqpbkwDlFJKKUfSAKWUUsqRNEAppZRyJA1QSimlHEkDlFJKKUfSAKWUUsqRNEAppZRyJA1QSimlHEkDVCcQkTNE5HUHpGOQiHwuIqtEZJ2I/DjCcneKyDWdnLyoE5H3RMTRd33uCTS/dwwRyRKRZSKyUkROi+J2KqO17sMV29UJUJ1qD3CyMaZORJKBtSLyqjFmd1cnTKko6O75fTKwxhjzo65OSFfRGtQhEJHBIvKViDwrIutF5CURSbQ/O0FEPhKR1SLyqYikNPvuiSLysX1W9JGIHG3PH2kvv0pEvhCRoSKSJCJv2OtaKyKXHE66jTH1xpg6ezKeg/z/h0ujPf/7QfMfEZEYez98ISIe+3esE5FRh5N+EXlSRP4qIp+IyBb7TP0J+3/wZNByfxWRFfY2fxNhXWfb/4fPReRF+wCmwtD83vn5XUSOBe4CptvbSYiUZ0Vkq4j80V5uhYgcJyJvi8jX/lqjiCSLyGL7u2tEZHqE7d4iIsvt3xK27HQqY4z+HeQfMBgwwKn29BPAzUAcsAU4wZ6filVLPQN4PXie/f4s4GX7/YPAFfb7OCAB+C7w96DtpoVJyy3AqjB/D0RI+0DgC6AamBlhmTuBa8LMD5fG4cBrgNue/zBwlf3+98AcYC5wR4RtLY2Q/rPCLPsk8DwgwHSgHDgG68DzGXCsvVym/RoDvAeMtqffA8ZhPd3zfSDJnn8b8KuuzldO/dP83mX5/RrgIft9xDwLbAV+Yr+/z/69KUAWUGTPjwVSg9a1maabhVfar2dj3XVcsMrU68DErsx72sR36HYYYz603/8TmA28DewxxiwHMMaUA4hI8PfSgKfsszEDuO35HwO/EJEBwAJjzCYRWQPcIyJ/xirwS5snwhhzN3B3exNtjNkBjBaR/sBCEXnJGFPUzq+HS+Nk4Hhguf07E4C99vK/BZYDtVj7J1x6DrZt/TVjjLH3TZExZg2AiKzDOpCuAi4WkRlYhTIXGIFVaP3G2/M+tNMcZ/82FZnm967J735t5dlX7dc1QLIxpgKoEJE6EUkHqoA/iMhEwAfkAdlAYdA6zrb/VtrTycBQrMDYJTRAHbrmzylp73NLfge8a4z5togMxjqrxxjznIgsA84FFonIdcaYJSJyHDAN+L2ILDbG/DZ4ZSJyC3BFmO28b4wJW0js7e0WkbXAacBL7Ul4uDRinW09ZYy5I8xX+mBlcjfgwSokIURkKdbZXnM3G2P+E2a+v8nGF/TePx0rIkOwzu5PMMbst5v+PM03C7xjjLks/C9VYWh+75r8HvgqrefZVssF1j7LAo43xnhFZCvhy8UfjTGPtJKOTqUB6tDli8jJxpiPgcuBD4ANQK6InGCMWW63x9c0+14asMt+f41/pogUAFuMMQ+ISD7WWd9XQKkx5p8icgBo0Vl6MGeU9plgiTGmRkQygAlYTQLtEi6NwL+BV0TkPmPMXhHJBFKMMduAR4D/BYYAfwZmhUl/R49OSsU6MJSJSDYwFfugGOQTYK6IHGmM2SwiSUCeMWZjB6elJ9H83rX5/XDzbBqw1w5OZwKDwizzNvA7EXnWGFMpInmA1xizN8yynUID1KHbAMwUkSeAL4G/GmPqxerYfVBEErAK61nNvncXVpPHL4E3guZfDFwpIl6savcfgBOAu0XEB3iBnxxmmodjNaEYrLOlOf4msnZqkUZjTKn9W/4tIi47nTNF5HSszP2ciMQAH4nIJGPMksP8Da0yxqwWkZXAV8AO4MMwyxSLNax4nojE27N/CWiAikzzexfm9w7Is88Cr9nNqCuwykfzbfxbRIYDH9vNiJXA92lqwux0+kTdQ2A3VbxujDmsUWlOJSJ3AluNMU92cVKUA2h+V11Fh5krpZRyJK1BqRZE5AzggDFmVVenRalo0/zuXBqglFJKOZI28SmllHKkbh2gpkyZYrCux9A//evOf4dE87/+9aC/sLp1gNq3b19XJ0GpLqP5X/V03TpAKaWU6rk0QCmllHIkDVBKKaUcSQOUUkopR9IApZRSypE0QCmllHKkqAYosR5FvEbsRxHb8zJF5B0R2WS/ZtjzRUQeEJHNYj1u+Lhopk0ppZSzdUYN6kxjzLHGmHH29O3AYmPMUGCxPQ3Wc3uG2n8zgL92QtqUUko5VFc08U0HnrLfPwVcGDT/aWP5BEgXkdwuSJ9SSikHiHaAMlgP9vpMRGbY87KNMXvs94VAtv0+D+sBc3477XlKKaV6oWg/UXeCMWaXiPQD3rEf6RxgjDH20y7bzQ50MwDy8/M7LqVKdQOa/1VvEtUalDFml/26F/gXcCJQ5G+6s1/9jxPeBQwM+voAe17zdT5qjBlnjBmXlZUVzeQr5Tia/1VvErUAJSJJIpLifw+cDawFXgWuthe7GnjFfv8qcJU9mm88UBbUFKiUUqqXiWYTXzbwLxHxb+c5Y8xbIrIcmC8i1wLbgIvt5RcB04DNQDXwgyimTSmllMNFLUAZY7YAY8LMLwEmh5lvgJnRSo9SSqnuRe8koZRSypE0QCmllHIkDVBKKaUcSQOUUkopR9IApZRSypE0QCmllHIkDVBKKaUcSQOUUkopR9IApZRSypE0QCmllHIkDVBKKaUcSQOUUkopR9IApZRSypE0QCmllHIkDVBKKaUcSQOUUkopR9IApZRSypE0QCmllHIkDVBKKaUcSQOUUkopR9IApZRSypE0QCmllHKkqAcoEYkRkZUi8ro9PURElonIZhF5QUTi7Pnx9vRm+/PB0U6bUkop5+qMGtT1wPqg6T8D9xljjgT2A9fa868F9tvz77OXU0op1UtFNUCJyADgXOAxe1qAScBL9iJPARfa76fb09ifT7aXV0op1QtFuwb1F+BWwGdP9wEOGGMa7OmdQJ79Pg/YAWB/XmYvr5RSqheKWoASkfOAvcaYzzp4vTNEZIWIrCguLu7IVSvleJr/VW8SzRrUqcAFIrIVeB6rae9+IF1EYu1lBgC77Pe7gIEA9udpQEnzlRpjHjXGjDPGjMvKyopi8pVyHs3/qjeJWoAyxtxhjBlgjBkMXAosMcZcAbwLfM9e7GrgFfv9q/Y09udLjDEmWulTSinlbF1xHdRtwI0ishmrj+lxe/7jQB97/o3A7V2QNqWUUg4R2/Yih88Y8x7wnv1+C3BimGVqgYs6Iz1KKaWcT+8koZRSypE0QCmllHIkDVBKKaUcSQOUUkopR9IApZRSypE0QCmllHIkDVBKKaUcSQOUUkopR9IApZRSypE0QCmllHIkDVBKKaUcSQOUUkopR9IApZRSypE0QCmllHIkDVBKKaUcSQOUUkopR9IApZRSypE0QCmllHIkDVBKKaUcSQOUUkopR9IApZRSypE0QCmllHIkDVBKKaUcKWoBSkQ8IvKpiKwWkXUi8ht7/hARWSYim0XkBRGJs+fH29Ob7c8HRyttSimlnC+aNag6YJIxZgxwLDBFRMYDfwbuM8YcCewHrrWXvxbYb8+/z15OKaVULxW1AGUslfak2/4zwCTgJXv+U8CF9vvp9jRa9FypAAAgAElEQVT255NFRKKVPqWUUs4W1T4oEYkRkVXAXuAd4GvggDGmwV5kJ5Bnv88DdgDYn5cBfcKsc4aIrBCRFcXFxdFMvlKOo/lf9SZRDVDGmEZjzLHAAOBEYFgHrPNRY8w4Y8y4rKysw06jUt2J5n/Vm3TKKD5jzAHgXeBkIF1EYu2PBgC77Pe7gIEA9udpQElnpE8ppZTzRHMUX5aIpNvvE4BvAeuxAtX37MWuBl6x379qT2N/vsQYY6KVPqWUUs4W2/YihywXeEpEYrAC4XxjzOsi8iXwvIj8HlgJPG4v/zjwjIhsBkqBS6OYNqWUUg4XtQBljPkCGBtm/has/qjm82uBi6KVHqWUUt1Lu5r4RCRBRI6OdmKUUkopvzYDlIicD6wC3rKnjxWRV6OdMKWUUr1be2pQd2I1yR0AMMasAoZEMU1KKaVUuwKU1xhT1myejq5TSikVVe0ZJLFORC4HYkRkKDAb+Ci6yVJKKdXbtacG9VNgJNbNX5/DugXRDdFMlFJKKdVqDcq+hukNY8yZwC86J0lKKaVUGzUoY0wj4BORtE5Kj1JKKQW0rw+qElgjIu8AVf6ZxpjZUUuVUkqpXq89AWqB/aeUUkp1mjYDlDHmqbaWUUoppTpamwHKHlr+R2AE4PHPN8YURDFdSimlern2DDP/B/BXoAE4E3ga+Gc0E6WUUkq1J0AlGGMWA2KM2WaMuRM4N7rJUkop1du1Z5BEnYi4gE0iMgvrybfJ0U2WUkqp3i5iDUpEnrHfLgQSsW5xdDxwJU1PvlVKKaWiorUa1PEi0h+4Avg7UA3c1CmpUkop1eu1FqD+BiwGCoDPAMG6i7n/VUfxKaWUipqITXzGmAeMMcOBJ4wxBcaYIcGvnZhGpZRSvVCbo/iMMT/pjIQopZRSwdozzFwppZTqdBqglFJKOVLUApSIDBSRd0XkSxFZJyLX2/MzReQdEdlkv2bY80VEHhCRzSLyhYgcF620KaWUcr5o1qAagJuMMSOA8cBMERkB3A4sNsYMxRoleLu9/FRgqP03A+v2SkoppXqpqAUoY8weY8zn9vsKYD2QB0wH/HdIfwq40H4/HXjaWD4B0kUkN1rpU0op5Wyd0gclIoOBscAyINsYs8f+qBDItt/nATuCvrbTntd8XTNEZIWIrCguLo5ampVyIs3/qjeJeoASkWTgZeAGY0x58GfGGIN10W+7GWMeNcaMM8aMy8rK6sCUKuV8mv9VbxLVACUibqzg9Kwxxv9U3iJ/0539uteevwsYGPT1AfY8pZRSvVA0R/EJ8Diw3hhzb9BHr9J0s9mrgVeC5l9lj+YbD5QFNQUqpZTqZdrzuI1DdSrWnc/XiMgqe97PgT8B80XkWmAbcLH92SJgGrAZ68a0P4hi2pRSSjlc1AKUMeYDrBvLhjM5zPIGmBmt9CillOpe9E4SSimlHEkDlFJKKUfSAKWUUsqRNEAppZRyJA1QSimlHEkDlFJKKUfSAKWUUsqRNEAppZRyJA1QSimlHEkDlFJKKUfSAKWUUsqRNEAppZRyJA1QSimlHEkDlFJKKUfSAKWUUsqRNEAppZRyJA1QSimlHEkDlFJKKUfSAKWUUsqRNEAppZRyJA1QSimlHEkDlFJKKUeKWoASkSdEZK+IrA2alyki74jIJvs1w54vIvKAiGwWkS9E5LhopUsppVT3EM0a1JPAlGbzbgcWG2OGAovtaYCpwFD7bwbw1yimSymlVDcQtQBljHkfKG02ezrwlP3+KeDCoPlPG8snQLqI5EYrbUoppZyvs/ugso0xe+z3hUC2/T4P2BG03E57XgsiMkNEVojIiuLi4uilVCkH0vyvepMuGyRhjDGAOYTvPWqMGWeMGZeVlRWFlCnlXJr/VW/S2QGqyN90Z7/utefvAgYGLTfAnqeUUqqX6uwA9Spwtf3+auCVoPlX2aP5xgNlQU2BSimleqHYaK1YROYBZwB9RWQn8GvgT8B8EbkW2AZcbC++CJgGbAaqgR9EK11KKaW6h6gFKGPMZRE+mhxmWQPMjFZalFJKdT9RC1DdSW1tA2v2lFFYXkdOajzH5Kbh8eiuUb1HfX0jX+wuo7C8ltxUD8f0TyMuLqark6V6uV5/FK6tbeDVNXv41atrqfX68Lhd/PaCUVxwTK4GKdUr1Nc3svCL3fzqlaAyMH0UF47ur0FKdalefy++NXvKAsEJoNbr41evrmXNnrIuTplSneOL3WWB4AR2GXhlLV/s1jKgulavD1CF5XWBgulX6/VRVF7XRSlSqnMVltdGKAO1XZQipSy9vg0rJzUej9sVUkA9bhfZqfFdmKpmfD4o/RoqCiElB19GAVtLaygqryU71cPgPkm4XNK0fGMDFK7GV14IiZk01pRjEvsS2380rlh31/0O5Ui5qZ4IZcDThalSSgMUx+Sm8dsLRrXogzomN62rk2bx+eCr1+Bf14G3BtwJ1Eyby7X/Seebklo8bhf3XnwsU0bmWEGqsQG+eAEW3YTLXt418VZY+Qy+CTfhG32JBikV4pj+afx2+qgWfVCj+zukDKheS6wR3t3TuHHjzIoVKw57Pf5RfEXldWQ7bRTfvk3wyGlWcPJzJ/DyCfO4aUk1YJ3tLpp9GgVZybDrM3jy3BbLM34mfDKX+itfJy5/XCf/CNUGaXuRljoq/0PTKD5/rXy0juJTnStsGXDIUbjj+XyGrSVVkZvBgng8sZwwpE+b68jPSGT7/uoW6zyYbR20isLQYAPgraGflAFWTajW62NvRa0VoMp2h10esV6lfHfHpEv1KHFxMYwbnNkh64pqeehiPfm3OVGPDFA+n+GtdYXcOH9VoMkipBnsENfx+wtH8eCSTWwrqQms8+zh2fx7fdFhbatVKTlWDahZjWivScO66YZVg+qXYvcXpOWFXR5jvZrU/oefJqUi6Iiy51Q9+bc5VY8cxbe1pCqQicCqYdw4fxVbS6oOax2/XLiW80bnhaxz3Z6yw95WqzKPgG8/YgUZAHcCVdPm8tBqa3v+QjK4T5L1ec5omHZPyPJMvBXWLcA3dQ6x/cd0TLqUCqMjyp5T9eTf5lQ9sgZVFDRsNjfNw3eOG4AIFFfWtVolD66+13gbww69FQmd3lNWS0ZiXGAbAC9/tpNtHdUM4HLBsPPhuhFQWQjJOSRkFPD4gBr2VtTSL6XZ+mNiYfQl0G8Yvooi8KTTWFeBufDvxPYfowMkVFQVRRiyHmiC7mbac0zorr+tO+iRAapfijVsNiMxjivHD+KBJZuo9fp4bOmWiFXy5tX36ycfGXbobfCYEo/bxYCMBK46eRD3L94UqPZfP3kom4oq+MObGzqmGcDlgr5DrT+sam9BVnLkQhETC3nHB6rHPbKarKLuUPpbsiMMWQ80QR/m+jtTe48J3fG3dRc9MkDFuOD6yUOp8TYGglP/tDhuOj6WfiXLObDzCL7xZZOR1JRxmlff56/YyY3fOop739nYog8KmprWPLExgeAE1hnV/Ys3MevMIwPTN85fxdE/PY0j+jn/LEsLVs8T8X9qX1/nqyikyt2XjQ1ZgTIBsGRDEV/sLMNnIEbguEHpDEhPYm9F5LwxuE8S9158bIt+mkATdFCaHNWfE2ZfxMbEtDgmXD95aMjJaLf4bd1YjwxQe8pqefrjbdwweWggOD17ajFDlt5oDR74MIGy0+7lh8uyufmcEUwdlUNReVNTXYonhvzMRLwNPuZcNIbSqjoyE+MRgQcvO476hkYyk+IZ3CeJZd+UhK321zb4Qqa3l1Y5PkAFF6yMxDguGjeAo/qlMDw3lSF9NVB1Rz6faRFojhmQxqSjsnBteB3+dR0ubw0p7gQy7TJxy5QRjOyfwu79TQNtEtwxlFZ5ue6Zpa0edF0uYcrIHIbNPi18E7QtUn/OMP/lEp0p6FpD/74oOPtBPkuaQEZiHHvKrDtq+I8rT/3gRAyGfinWyN7mwd9Rv62b65EBKjvVw/7qenYcsEbb3XR8bFNwAvDWMGTpjcw6YR43vbiKo7InkJvm4aqTB/H88u1cMi6fG+evptbrY1CfBH488Uhufml1SME8Lj8Tl0siNmk0bwpMjGv/ru6oWkxDg491e8rYU1ZLbloCI3NTiY11RdzG1pIq/vzWemadeSTZqR527q/m/xatZ391vZ4BdlPbS6vYVFTJo+9vCWmCPjltP0n+i78hpEzcOH8Vz/zwRKrqG1t8z3/Abu2g63JJ603QdHxfVatlptmdWMg8wmo29yv9uulCeHtfZPz7p1Se9DxXnTyIpz/eFghS+6vryUqJpyArOWJNKSPRrX1VHaRHBqjBfZJ4+PKx1O/dxDvfjiE+zkBCJniDniJvX0tU63Wzfk85I3JTuX/xJq6dUBDSLDj3nDTKiz/n/yamc88KL7vL6kMKZrgmjV+fP5K//XczQKBgt/fWSZEy/YjcFPaUtX091vaSSuLLvyGpfh9lsX24YeG+wB0nfn/hKC4ck4fLJWG3kZsWzyXj8gO/3+N2MXvSUJ75ZJueAXZTReV1LZqg5y/fxg/71Ue8vq7W66akqj5s0/W1EwqY++7mwLxDPegeTF9VQJhA40PYXlrF59sP8PN/rWFYvyT+7/QkSgr348nIIynnSFwbF4XciYVLngNPGpTvti7L8PnC7os+5gC3L65hxsQCHli8uUWTXqSa0gszTj7436bC6pEByoXhTN8nyAc/bsqUp98Gn/4dyu0gZV9L5HHXsrm4kmRPbGCUXkiz4GtXBtZx3Gn3csWHWewuq2dbSVUgMAQ3aWQleyipruF300dRWuUlM8mNJ05o9MHHX+9rs0YULtPf/daXPH1hX2J2bmWjK5P16UO46aU1IcHl7OHZvL9pLwX7lpD7vlVbTHUn8NTp93Hp0r7sLqvnlwvXclS/ZJI97rAF65/XnhQITv75DyxpOijpGWA3Yt+PcWz1Tt6+uA83vNfIyl2V9E+L44mTiogv2gaZBTDyO03X8K9dECgT8bGusLWA4FGs7T3ohqvJt9lX1TwYZQyBDW+EBBpz4d94zzWeVTvLePT9LQzrl8STJ+8l/bVZgWW85z6A6/0/NgWgQadBxR5YdJP124vWQN44OPo82PB6U6Lt40Ott5pR/dP42/ePIzfNw8jctEDZjVQL9DY2tqsfTrWtRwYoSr9GFv44pMrOf/8M0x+GvetAYtmecDQPLfUFaginHtkXj9uq9geaBVfdbd0iyC6UQ1bdzU3H38svljawcscBary+QLOXv0mjocHHyh37+eXC0Pua3fLuGuobDBeNG8Do/qmclHaApPp9VMWFdk4H94WJQEq8i6kxKxg4/woG2oVu/zkP8otpx1NW00htg48NheVkp8ZTvusrBi8LbcrM/+/PuOmEedy0pJ5ar4/C8joyGn1MGJLO3acJnppC6hJyuHmpYV9lyzu7ZyTGMSwnhdmTjyTBHYvPZ6J/9wx1eILuxxjnrWGQO4GXps7hx6sKmDKgzmruzhoOp14Pb90eOJjXT5nD/E9juH7yULaVVDGoTwLnjc4LBKXXVu/C/y9uftD1+Qw7SitJqNhKsrcET0YeZBawZV81m4sraWg0bNlXxfo95WwvrWLqyNzIfVU+H6x/FRY2nWCa8x9E3vtDSN6WhT/GO2E+Z2cnceLEWkYOziB9/qyQZdxvzIbpf4OkvlBZBKm5sPI5GHslvH9X0wnseX+B4i+hdAu4E/jmtHu558MGPG4XXxdX8ue3Wo7IzU71hN1H7hgXWSlxvDBjPNX1jVo+DkPPvBffN0vhqfNazj/9Nlj5Txj7fbx9jmZLzBBuW1JJWa2X1y7vT03pbj4rjWNvbB4jfBsYx/rQTDzxVpYznPWuo+lbv5N0XynHHH00Kf2PDrRpr96xn0se/aRF9X7WmUfiEuHFFdt44qSipj4xuzAEd04vWlMYaF75y1lJXLjs0hZ3htgwfRHTXygKBME/fucYsvYtZ8KH17T42UtPfYorF7vxuF3877nDGZAez4TqxcS8eXMgDY1T57Cl/3mcP/fjkGvImg+h75S7Z/Q+HXsvvgj3Y/Rd8hxl3hgylt4JJ8+yWhPS8qDka2isg7ULKD7/GS54vois5DguO2kQv3ltXeB/fOf5I6lvaGRfVT2Th/XjmLx062SlsZGibV+RXrqKhLdvCuSpqmlzueaTfpw5LDek2fj6yUM5bWhfRuWlh/9hxRvh0Ynh7ye5eh6MuSywx2r7HYvnlf9nLXv6bdaJaLAjz4YRF8CbtzSV43PvhffvtoJR8P65+g1KDhzgw8IY7lrupbS6gRu/dRT/+HBroA8q+L6XDQ0+Fq7e1eJkdP7ybazYVqbl4uCE3UE9M0CVfG2dQZpGa3rVPKgphYm3A76QoLPzjPvITE0h8dUfNd0t/LyHcWUOIf7pqS0KSdklCykr/Ib8//6sKcN/+xHrYlqXi7fW7uFv727i96cnkd5YgknOYWVFGidnVOCuLyU53k3sq//Tomml6rxHuH9dPGeNGsD20mr6pcSzv7KGc1K24dnxX2u5zUvgiEkg4M0/jQ/qhnBKwi5iqgqRlBy8rgQ8X78JnnTIOQbqqyE+CV91Kb6kfnwdM4Qqn5sj6jeR9sL0Fr+t9orXWFyWi7d4M33NfjJz8pn51gG+KWl6LpDH7eLpH57I/opqxiQfIKaqiMTkVLbv3c+AvHySco8KPAokMS6W+sZG+iTFB/rNCsus5qOy2nr6JHlCBm74dXTt7GDW19qyUaw1dmyA+vI1mP/9lvMn3gxrF1g1pw/vb1mLmHgrNf1PYuyT5Vw7oYDHP9jS4kRrxsQChuWkNh10fT7q175CXMl6+OiBFnmq8YoFbKuMIS+xEaqKiU3Joqa6itikdDYykP5mH3GmhmTxQmUhJqU/UlOK6/nLWqZ/0v+CuELTfM4frWBTvsv6fckDoN9RVtNgai7EpcAT3wof7JbOCVl99eWvEFcwMdC/6zOGm1/8IhCc/J6fcRLjC/qypbiSaQ8sbbGPgvvpQm7k3FnaGhTiTL3kZrE+HxSuaSos/v4ndxLUlVuZMqgJYMB7P4NTZofMS3j9f+CKl8J2nNZXFDcFJ3se/7oOrhuBL/NI8jM8LdrBs6fMIW7JM3DUOeCKhZN+AtX7rAAq1nRS5TZuHeTiwz2VPPtZAz8eE8u5KduJnW9vK7MAJvwM3rzVarpwz+WMaXOQxfdYZ4KZBcRMuLHpd2cWWAeil27H5a3B5U7gqKl3s6bP2ZjyXeFvKFuxhwkN20hb1pT2J4L63cBqYy+rrmdC46ckzZsZWG74xFthwe1UTvgF1y7OCAzMmD1pKC+s2M5PJw3lwSWbAs2cAzMS2VhYGWjuCR5d2No1JO29gW9Tdmj/NSmtLQt0n2tbWrsf48jvWM1642c2HejBen3/LuKvfoN7Ly7gq8LysP0rYwemc/pR/QLBybd7pRWc0gZYA5HGN9VuWDWPmMIvKIhPhnlNtfXkqXfBx3M4Zuz3ke3LIH88+GvzmQWY8/4SPv0DxsG8S0PT/PYdTcEmeyzU7Ydnv9tU9qfeDcOmw5rnm9blrQFXszu1uxP493aIqyvi7OHZfFVYwYbCcvZX14csFtzvFqkPKj7ohKvTR++FeTxP8Al0d9P9UtyW0q+b2q6hqf+pvgoaasIfmP01reB59dVN97PzcydgYpPCrsNXUchb6wpJq95B+tuh7eBxb90MJ86wDgh9CsBbZQWS9+fAR/db03GJxC74Iae/+11eOGUH58R8RuyioEB47BWB4ORfryy62ZoP1oHH34zhn/b3L/iXf/MWRpgtlLn7hf1tMSlZpL0VmvYhS2/kpuObzmM8bhf9G3eTtGhmi4MbI79D8puzmDXGylb+QRbnjc7jlwvXctHxA7ly/CAefX8Lt7z0BX9ZvImd+2v4qqg8sP7W7nfmDyDTHljKZX9fxg+e/JSFq3cFpqc9sJS31hXi85l2ra+51pbtVvdhyxkNU+e0vB/j6nmBu9oHXoN5a3B5q5kyMofJw7IDfbJ+HreLQcH9RF+9huupc63yVVMGJ/4/+GSula8/nmtNZ4+ERTeH5pU3b4XxM5E3b4ExlzYFp9Q8GHsl8voNVnqD03/6bVBVEvlO/QBJGaFlwFtjTR93Reh33AnWwIig9X9z2r3ctdwbcn/N+St2MnvS0JC+6eB+t8S42LD7aHDfpJDpTh29F2bIPP+6zprfDTkqQInIFBHZICKbReT2Q1pJhMdTkDHYqq2EOTAjLc+myBjc4iat5sK/kdgnL+w6qtx9uXH+KmKqi8Jv31tlvTY2WAW6eQBt9Aam49662ToLTsiE0262mi4yh4Rfb3I/633zA06kA1DlHm54r5H6KaEHMO+UOVTVesN+JyemDCBQI6oq2Rn5QOH1PwrEEjwyclCfpBajBO9fvIn91d7A8q1dH9M8SPgDX2tBo7X1Ndfasgezni4XEwtDJsClz8H3/mG1ECx/LGQEa8irnzsBUqwa4TF5adadUiIcnFscCBvrIuTr8MPZMXZeqw4KOmMus050SrdY6R0/0wpM0x+2WkD2b229/FZGKPtVxaHleOrd+JJzqLniNT49/WlePmFeoJXAf39N/+szn2zj2gkFzJp0JE/94MSQGnN9Y2OLADZ70lAKDzQ9ZaDTR+9FOv5VFnZeGjqQY5r4RCQGmAt8C9gJLBeRV40xXx7UiiI8noLskZA72jrQv35DU/X3wr9BrKfpO/4qcZ8jrb+gm7RK5hEkg/V5syr0xoYsar1b8CZmh99+XLL1WlcePgPVlYdON9RaZ6D+Qv+9JyOsNyl0uvnnzaeTs1m56wCXfDSQv5z/ImkNxZiU/vzwrTruOzuV9DDfyc8fwqxJHoyBZz7ZRva4NE5s5ZEezR8FYoz1KhD+rhvephpsa9fHNA8S/sDXfH3BTSoHc71NW8t2q2tb0vJh71dQttMqEzWl1vy1C/BOmYP7w3usWkpwf863H7H6K2jHHSGaHwgjtU7UVUbOt+4E8KQ2fR58UlW+K9BH5LvkWVzL/goNdS3TfMYvqBlwKrF9jsadkht2W77kHLjiZWsUX3I2vpyxxHoS2VNcyVVL9lHrrQ4s7nG7yE1rygd7ymqZ+651DdR3xuaFNOf2SYrnhRXbuXZCASJgDLywYjsPXDqW52ecFPEuGlEV6fiXnNN5aehATqpBnQhsNsZsMcbUA88D0w96LWEeT9EUcI6AYy6G65bCNa9br8MvgKFnh87zt9f6b9I6+DTr1T9v2Pktls9IsjL1nUurKZ/6UMj266fMgWWPWIWrujT8WWDl3tBpd1LoGemBbXZfWrNmjzL7rHjtAqu93f/52gUw5U+hy0+9m3J3PzxuFyt3VXLOi5W84T2eaS9VsX5vNe+XpHLgnNC0b514L4t2J/LY0i3MfXcze8pquWeFl60T7w37SI8D5zwU8iiQ2ZOG8voXu5g9aSg7D1SHbRIZEnSG6b8+JtyZuz+ANP9+8+ngoNHa+pprbdmDWY8juFww9Gx8R02lJPlItl/wIp+e/jQLR9zHpyln4btsPgw6Ba55A65ulu8Dq7Aunxhf0JeCrOTQA63/QBgs3HRMbPh8u387ZurdVtBo/nmzdSyryKT+1JusILv8MatGOP1hmHgblSmDuWpRFQtrj6chKSe0DNh53pfSH9fgU3GN+g6uwacS60kEIv+/R+a2UXu0De6TxG1ThvP4B1t4aMlmHv9gC7dNGc4xeenh91lniHT8s088uhvHjOITke8BU4wxP7KnrwROMsbMarbcDGAGQH5+/vHbtm1ruTL/KBa75tMZo1iCO9hPHZLB709PxF1TTE18X1ZWpHNiejke7348CSm4SzcQ80ZTLc5MuwdZOidwDYZv6hxcNaXwzv82bSA1D069IWhwRQy1/UYTk5KNq3wnvqR+lDXEEh8juOorSfB4wFuFy50IVXshPpVaE8MNHydwRHY6MS4YnpPKX9/bzMa9lfzmgpGUVdeTEOdiclYlMdV7Wbk/nr2xeTz+0dYWd5j4+ZSj6dewi+Mz60hJSWNLUSlbqxOoTs5n+4E6Yl0ujh2Yxpd7yqmobWTB5zsBQu4u73G7uOeiY5k6KqfFwIatJVUtztybD2IY1CeBn04aGjLMN9zAhUjri/R/jLTswaznILV7Je3K/81EJd3NO+MzC/BNuAlX0KULTLsHX/ZIzP5txOxdF8i3JmsY9WlD2ODrzwApJa18AzHFX4I70brDw9t3BNZRe97DbMg4g5r6esbG7iC2ugiT2IeGRh8Nnky+buwH4qK+0UemJ4Yh3q9xNdYGyr4vxgO5oyM+Zqa1vNaefRbFPHHouuD41wGcPcy8vQEqWMRhtl2keWbtn+JhbWE5heW19EuJZ3tJJcWVXlLiY0iu2kb/mHKS+uRRGp/H8Ph9gSaI+pQBZFRsIuHZ80Or6pkF8N3HwFuNLymHXa4cdpfV09DYSFxsDMWVdfRL8TC6fxpxcTGU1dRQX/Q1VBRBSjYmfQCFlYbCsjriY124Y4UvdpZTUdvAsi3F/O95I6nxNgZugrl9fzWlVXW4Y6wDQFyMi+r6RhLjYvA2+si0h4/vPFBNUXkd1fUNDO6ThM9AcWUtCe5YLnn045BmsUF9Enjg0rGB7RxsgW6+j/3pdNQB4uB17DDzztL8QJgxBPZ/0+LA6GtspGrPRhrL9xCTmktS7lG4YmLCryelP/gaoarokA6uvgYvDbtXI+W7Man99Rlo3YfjA9TJwJ3GmHPs6TsAjDF/jPSdLi+gByHsncKzUxieE+FO4VEcLtpZjwPQxw60W/cMUEp1HMcHqFhgIzAZ2AUsBy43xqyL9J3uVkAPujkgilX1zmqacGQTiPNogFK9nbMv1DXGNIjILOBtIAZ4orXg1B215zEEzb4Q8iTdLk2Lw7ejlOp5HBOgAIwxi4BFXZ0OpZRSXc/xQzuUUkr1ThqglFJKOZJjBkkcChEpBiyIgcgAAAVUSURBVCJdCNIX2NeJyTkUmsbD5/T0Qdtp3GeMmXKwK20j/7dnu13N6ekDTWNHOaQy0K0DVGtEZIUxZlxXp6M1msbD5/T0Qdel0en7xunpA01jRznUNGoTn1JKKUfSAKWUUsqRenKAerSrE9AOmsbD5/T0Qdel0en7xunpA01jRzmkNPbYPiillFLdW0+uQSmllOrGNEAppZRypB4ZoDrk0fEdm56BIvKuiHwpIutE5Hp7fqaIvCMim+zXDAekNUZEVorI6/b0EBFZZu/LF0QkrovTly4iL4nIVyKyXkROdtJ+FJGf2f/jtSIyT0Q8nb0PnZb/ofuUAc3/HZLGDisDPS5ABT06fiowArhMREZ0bapoAG4yxowAxgMz7TTdDiw2xgwFFtvTXe16YH3Q9J+B+4wxRwL7gWu7JFVN7gfeMsYMA8ZgpdUR+1FE8oDZwDhjzCismx5fSifuQ4fmf+g+ZUDz/2Ho8DJgjOlRf8DJwNtB03cAd3R1upql8RXgW8AGINeelwts6OJ0DcDK4JOA17Fugb8PiA23b7sgfWnAN9iDe4LmO2I/AnnADiAT60bMrwPndOY+7A75306X48qA5v8OSWOHloEeV4OiaQf57bTnOYKIDAbGAsuAbGPMHvujQiC7i5Ll9xfgVsD/CNw+wAFjTIM93dX7cghQDPzDboZ5TESScMh+NMbsAuYA24E9QBnwGZ27Dx2d/8HRZUDz/2Hq6DLQEwOUY4lIMvAycIMxpjz4M2OdWnTZmH8ROQ/Ya4z5rKvS0A6xwHHAX40xY4EqmjVndOV+tNv+p2MdSPoDScBB32OvJ3NqGdD83zE6ugz0xAC1CxgYND3AntelRMSNVTCfNcYssGcXiUiu/XkusLer0gecClwgIluB57GaOe4H0u2nHUPX78udwE5jzDJ7+iWsAuuU/XgW8I0xptgY4wUWYO3XztyHjsz/4PgyoPm/Y3RoGeiJAWo5MNQeNRKH1UH3alcmSEQEeBxYb4y5N+ijV4Gr7fdXY7XLdwljzB3GmAHGmMFY+2yJMeYK4F3ge/ZiXZ3GQmCHiBxtz5oMfIlz9uN2YLyIJNr/c3/6OnMfOi7/g/PLgOb/DtOxZaCrOtOi3FE3DdgIfA38wgHpmYBV7f4CWGX/TcNq414MbAL+A2R2dVrt9J4BvG6/LwA+BTYDLwLxXZy2Y4EV9r5cCGQ4aT8CvwG+AtYCzwDxnb0PnZb/7TR1mzKg+f+w09hhZUBvdaSUUsqRemITn1JKqR5AA5RSSilH0gCllFLKkTRAKaWUciQNUEoppRxJA5RSSilH0gCllFLKkTRA9XIislBEPrOf3zLDnnetiGwUkU9F5O8i8pA9P0tEXhaR5fbfqV2beqUOn5YB59ILdXs5Eck0xpSKSALWbXLOAT7EusdXBbAEWG2MmSUizwEPG2M+EJF8rFvmD++yxCvVAbQMOFds24uoHm62iHzbfj8QuBL4rzGmFEBEXgSOsj8/Cxhh3WILgFQRSTbGVHZmgpXqYFoGHEoDVC8mImdgFbiTjTHVIvIe1j20Ip0RuoDxxpjazkmhUtGlZcDZtA+qd0sD9tsFcxjWo7iTgNNFJMO+Pf53g5b/N/BT/4SIHNupqVWq42kZcDANUL3bW0CsiKwH/gR8gvWclj9g3Xn4Q2Ar1lMxAWYD40TkCxH5Evhxp6dYqY6lZcDBdJCEasHfpm6fPf4LeMIY86+uTpdSnUXLgDNoDUqFc6eIrMJ6nss3WM+dUao30TLgAFqDUkop5Uhag1JKKeVIGqCUUko5kgYopZRSjqQBSimllCNpgFJKKeVI/x9DBCoBbS+8CAAAAABJRU5ErkJggg==","text/plain":["<Figure size 432x648 with 6 Axes>"]},"metadata":{"needs_background":"light"},"output_type":"display_data"}]},{"cell_type":"code","metadata":{"colab":{"base_uri":"https://localhost:8080/"},"id":"Re_vuRBsmO-3","executionInfo":{"elapsed":47,"status":"ok","timestamp":1635509242164,"user":{"displayName":"Samuel Doan","photoUrl":"https://lh3.googleusercontent.com/a-/AOh14GjbcdQ40FcyCSIyitBN2ptY3zHWA_09harKPYF2=s64","userId":"04384888964432338542"},"user_tz":-420},"outputId":"9bc6159c-b2db-4496-a1be-88ef1145cba4"},"source":["filter1 = titanic['sex'] == 'female'\n","filter2 = titanic['pclass'] < 3\n","(filter1 & filter2)"],"execution_count":null,"outputs":[{"data":{"text/plain":["0      False\n","1       True\n","2      False\n","3       True\n","4      False\n","       ...  \n","886    False\n","887     True\n","888    False\n","889    False\n","890    False\n","Length: 891, dtype: bool"]},"execution_count":60,"metadata":{},"output_type":"execute_result"}]},{"cell_type":"code","metadata":{"colab":{"base_uri":"https://localhost:8080/","height":444},"id":"BOOBF9_2m0KN","executionInfo":{"elapsed":37,"status":"ok","timestamp":1635509242166,"user":{"displayName":"Samuel Doan","photoUrl":"https://lh3.googleusercontent.com/a-/AOh14GjbcdQ40FcyCSIyitBN2ptY3zHWA_09harKPYF2=s64","userId":"04384888964432338542"},"user_tz":-420},"outputId":"5d4f9c27-863d-4d2a-c4a7-c03cddf2d1d3"},"source":["titanic['female_from_2nd_class'] = (filter1 & filter2)\n","titanic"],"execution_count":null,"outputs":[{"data":{"text/html":["<div>\n","<style scoped>\n","    .dataframe tbody tr th:only-of-type {\n","        vertical-align: middle;\n","    }\n","\n","    .dataframe tbody tr th {\n","        vertical-align: top;\n","    }\n","\n","    .dataframe thead th {\n","        text-align: right;\n","    }\n","</style>\n","<table border=\"1\" class=\"dataframe\">\n","  <thead>\n","    <tr style=\"text-align: right;\">\n","      <th></th>\n","      <th>survived</th>\n","      <th>pclass</th>\n","      <th>sex</th>\n","      <th>age</th>\n","      <th>sibsp</th>\n","      <th>parch</th>\n","      <th>fare</th>\n","      <th>embarked</th>\n","      <th>class</th>\n","      <th>who</th>\n","      <th>adult_male</th>\n","      <th>deck</th>\n","      <th>embark_town</th>\n","      <th>alive</th>\n","      <th>alone</th>\n","      <th>age_group</th>\n","      <th>female_from_2nd_class</th>\n","    </tr>\n","  </thead>\n","  <tbody>\n","    <tr>\n","      <th>0</th>\n","      <td>0</td>\n","      <td>3</td>\n","      <td>male</td>\n","      <td>22.000000</td>\n","      <td>1</td>\n","      <td>0</td>\n","      <td>7.2500</td>\n","      <td>S</td>\n","      <td>Third</td>\n","      <td>man</td>\n","      <td>True</td>\n","      <td>F</td>\n","      <td>Southampton</td>\n","      <td>no</td>\n","      <td>False</td>\n","      <td>(15, 25]</td>\n","      <td>False</td>\n","    </tr>\n","    <tr>\n","      <th>1</th>\n","      <td>1</td>\n","      <td>1</td>\n","      <td>female</td>\n","      <td>38.000000</td>\n","      <td>1</td>\n","      <td>0</td>\n","      <td>71.2833</td>\n","      <td>C</td>\n","      <td>First</td>\n","      <td>woman</td>\n","      <td>False</td>\n","      <td>C</td>\n","      <td>Cherbourg</td>\n","      <td>yes</td>\n","      <td>False</td>\n","      <td>(35, 45]</td>\n","      <td>True</td>\n","    </tr>\n","    <tr>\n","      <th>2</th>\n","      <td>1</td>\n","      <td>3</td>\n","      <td>female</td>\n","      <td>26.000000</td>\n","      <td>0</td>\n","      <td>0</td>\n","      <td>7.9250</td>\n","      <td>S</td>\n","      <td>Third</td>\n","      <td>woman</td>\n","      <td>False</td>\n","      <td>F</td>\n","      <td>Southampton</td>\n","      <td>yes</td>\n","      <td>True</td>\n","      <td>(25, 35]</td>\n","      <td>False</td>\n","    </tr>\n","    <tr>\n","      <th>3</th>\n","      <td>1</td>\n","      <td>1</td>\n","      <td>female</td>\n","      <td>35.000000</td>\n","      <td>1</td>\n","      <td>0</td>\n","      <td>53.1000</td>\n","      <td>S</td>\n","      <td>First</td>\n","      <td>woman</td>\n","      <td>False</td>\n","      <td>C</td>\n","      <td>Southampton</td>\n","      <td>yes</td>\n","      <td>False</td>\n","      <td>(25, 35]</td>\n","      <td>True</td>\n","    </tr>\n","    <tr>\n","      <th>4</th>\n","      <td>0</td>\n","      <td>3</td>\n","      <td>male</td>\n","      <td>35.000000</td>\n","      <td>0</td>\n","      <td>0</td>\n","      <td>8.0500</td>\n","      <td>S</td>\n","      <td>Third</td>\n","      <td>man</td>\n","      <td>True</td>\n","      <td>F</td>\n","      <td>Southampton</td>\n","      <td>no</td>\n","      <td>True</td>\n","      <td>(25, 35]</td>\n","      <td>False</td>\n","    </tr>\n","    <tr>\n","      <th>...</th>\n","      <td>...</td>\n","      <td>...</td>\n","      <td>...</td>\n","      <td>...</td>\n","      <td>...</td>\n","      <td>...</td>\n","      <td>...</td>\n","      <td>...</td>\n","      <td>...</td>\n","      <td>...</td>\n","      <td>...</td>\n","      <td>...</td>\n","      <td>...</td>\n","      <td>...</td>\n","      <td>...</td>\n","      <td>...</td>\n","      <td>...</td>\n","    </tr>\n","    <tr>\n","      <th>886</th>\n","      <td>0</td>\n","      <td>2</td>\n","      <td>male</td>\n","      <td>27.000000</td>\n","      <td>0</td>\n","      <td>0</td>\n","      <td>13.0000</td>\n","      <td>S</td>\n","      <td>Second</td>\n","      <td>man</td>\n","      <td>True</td>\n","      <td>F</td>\n","      <td>Southampton</td>\n","      <td>no</td>\n","      <td>True</td>\n","      <td>(25, 35]</td>\n","      <td>False</td>\n","    </tr>\n","    <tr>\n","      <th>887</th>\n","      <td>1</td>\n","      <td>1</td>\n","      <td>female</td>\n","      <td>19.000000</td>\n","      <td>0</td>\n","      <td>0</td>\n","      <td>30.0000</td>\n","      <td>S</td>\n","      <td>First</td>\n","      <td>woman</td>\n","      <td>False</td>\n","      <td>B</td>\n","      <td>Southampton</td>\n","      <td>yes</td>\n","      <td>True</td>\n","      <td>(15, 25]</td>\n","      <td>True</td>\n","    </tr>\n","    <tr>\n","      <th>888</th>\n","      <td>0</td>\n","      <td>3</td>\n","      <td>female</td>\n","      <td>31.333333</td>\n","      <td>1</td>\n","      <td>2</td>\n","      <td>23.4500</td>\n","      <td>S</td>\n","      <td>Third</td>\n","      <td>woman</td>\n","      <td>False</td>\n","      <td>F</td>\n","      <td>Southampton</td>\n","      <td>no</td>\n","      <td>False</td>\n","      <td>(25, 35]</td>\n","      <td>False</td>\n","    </tr>\n","    <tr>\n","      <th>889</th>\n","      <td>1</td>\n","      <td>1</td>\n","      <td>male</td>\n","      <td>26.000000</td>\n","      <td>0</td>\n","      <td>0</td>\n","      <td>30.0000</td>\n","      <td>C</td>\n","      <td>First</td>\n","      <td>man</td>\n","      <td>True</td>\n","      <td>C</td>\n","      <td>Cherbourg</td>\n","      <td>yes</td>\n","      <td>True</td>\n","      <td>(25, 35]</td>\n","      <td>False</td>\n","    </tr>\n","    <tr>\n","      <th>890</th>\n","      <td>0</td>\n","      <td>3</td>\n","      <td>male</td>\n","      <td>32.000000</td>\n","      <td>0</td>\n","      <td>0</td>\n","      <td>7.7500</td>\n","      <td>Q</td>\n","      <td>Third</td>\n","      <td>man</td>\n","      <td>True</td>\n","      <td>F</td>\n","      <td>Queenstown</td>\n","      <td>no</td>\n","      <td>True</td>\n","      <td>(25, 35]</td>\n","      <td>False</td>\n","    </tr>\n","  </tbody>\n","</table>\n","<p>891 rows × 17 columns</p>\n","</div>"],"text/plain":["     survived  pclass     sex  ...  alone  age_group  female_from_2nd_class\n","0           0       3    male  ...  False   (15, 25]                  False\n","1           1       1  female  ...  False   (35, 45]                   True\n","2           1       3  female  ...   True   (25, 35]                  False\n","3           1       1  female  ...  False   (25, 35]                   True\n","4           0       3    male  ...   True   (25, 35]                  False\n","..        ...     ...     ...  ...    ...        ...                    ...\n","886         0       2    male  ...   True   (25, 35]                  False\n","887         1       1  female  ...   True   (15, 25]                   True\n","888         0       3  female  ...  False   (25, 35]                  False\n","889         1       1    male  ...   True   (25, 35]                  False\n","890         0       3    male  ...   True   (25, 35]                  False\n","\n","[891 rows x 17 columns]"]},"execution_count":61,"metadata":{},"output_type":"execute_result"}]},{"cell_type":"markdown","metadata":{"id":"RWSaNTdYVX1U"},"source":["### Biến đổi phân phối: Tạo biến bằng Z-score"]},{"cell_type":"code","metadata":{"colab":{"base_uri":"https://localhost:8080/","height":297},"id":"LMJ6lOmnnI6K","executionInfo":{"elapsed":976,"status":"ok","timestamp":1635509243109,"user":{"displayName":"Samuel Doan","photoUrl":"https://lh3.googleusercontent.com/a-/AOh14GjbcdQ40FcyCSIyitBN2ptY3zHWA_09harKPYF2=s64","userId":"04384888964432338542"},"user_tz":-420},"outputId":"01c7e618-074f-4757-d8a1-547b5d192062"},"source":["sns.histplot(titanic, x='fare', hue='survived', kde=True)"],"execution_count":null,"outputs":[{"data":{"text/plain":["<matplotlib.axes._subplots.AxesSubplot at 0x7f03a32cc250>"]},"execution_count":62,"metadata":{},"output_type":"execute_result"},{"data":{"image/png":"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","text/plain":["<Figure size 432x288 with 1 Axes>"]},"metadata":{"needs_background":"light"},"output_type":"display_data"}]},{"cell_type":"code","metadata":{"colab":{"base_uri":"https://localhost:8080/"},"id":"MFbV2GtKxaar","executionInfo":{"elapsed":117,"status":"ok","timestamp":1635509243110,"user":{"displayName":"Samuel Doan","photoUrl":"https://lh3.googleusercontent.com/a-/AOh14GjbcdQ40FcyCSIyitBN2ptY3zHWA_09harKPYF2=s64","userId":"04384888964432338542"},"user_tz":-420},"outputId":"1c6dcf2b-c1a6-4f3b-f88a-263d7757d565"},"source":["np.log(1000000000000)"],"execution_count":null,"outputs":[{"data":{"text/plain":["27.631021115928547"]},"execution_count":63,"metadata":{},"output_type":"execute_result"}]},{"cell_type":"code","metadata":{"colab":{"base_uri":"https://localhost:8080/"},"id":"m0LxaRiexl9v","executionInfo":{"elapsed":107,"status":"ok","timestamp":1635509243113,"user":{"displayName":"Samuel Doan","photoUrl":"https://lh3.googleusercontent.com/a-/AOh14GjbcdQ40FcyCSIyitBN2ptY3zHWA_09harKPYF2=s64","userId":"04384888964432338542"},"user_tz":-420},"outputId":"4eb63b0d-35a2-447a-ec32-75d38b6ddb82"},"source":["np.log(10)"],"execution_count":null,"outputs":[{"data":{"text/plain":["2.302585092994046"]},"execution_count":64,"metadata":{},"output_type":"execute_result"}]},{"cell_type":"code","metadata":{"colab":{"base_uri":"https://localhost:8080/"},"id":"jq0YsBe9xr3D","executionInfo":{"elapsed":98,"status":"ok","timestamp":1635509243116,"user":{"displayName":"Samuel Doan","photoUrl":"https://lh3.googleusercontent.com/a-/AOh14GjbcdQ40FcyCSIyitBN2ptY3zHWA_09harKPYF2=s64","userId":"04384888964432338542"},"user_tz":-420},"outputId":"c9072d8c-e341-42d3-f98c-e6872b916dfd"},"source":["np.log(0) # e mũ x"],"execution_count":null,"outputs":[{"name":"stderr","output_type":"stream","text":["/usr/local/lib/python3.7/dist-packages/ipykernel_launcher.py:1: RuntimeWarning: divide by zero encountered in log\n","  \"\"\"Entry point for launching an IPython kernel.\n"]},{"data":{"text/plain":["-inf"]},"execution_count":65,"metadata":{},"output_type":"execute_result"}]},{"cell_type":"code","metadata":{"colab":{"base_uri":"https://localhost:8080/"},"id":"UOjzk16Xx04t","executionInfo":{"elapsed":91,"status":"ok","timestamp":1635509243118,"user":{"displayName":"Samuel Doan","photoUrl":"https://lh3.googleusercontent.com/a-/AOh14GjbcdQ40FcyCSIyitBN2ptY3zHWA_09harKPYF2=s64","userId":"04384888964432338542"},"user_tz":-420},"outputId":"4ac11927-ad5b-46fb-b498-47cd41135d8c"},"source":["np.log(-1)"],"execution_count":null,"outputs":[{"name":"stderr","output_type":"stream","text":["/usr/local/lib/python3.7/dist-packages/ipykernel_launcher.py:1: RuntimeWarning: invalid value encountered in log\n","  \"\"\"Entry point for launching an IPython kernel.\n"]},{"data":{"text/plain":["nan"]},"execution_count":66,"metadata":{},"output_type":"execute_result"}]},{"cell_type":"code","metadata":{"colab":{"base_uri":"https://localhost:8080/"},"id":"Wn74SjMwx360","executionInfo":{"elapsed":83,"status":"ok","timestamp":1635509243119,"user":{"displayName":"Samuel Doan","photoUrl":"https://lh3.googleusercontent.com/a-/AOh14GjbcdQ40FcyCSIyitBN2ptY3zHWA_09harKPYF2=s64","userId":"04384888964432338542"},"user_tz":-420},"outputId":"65a98711-038f-4802-931d-24c32210159e"},"source":["np.log1p(0)"],"execution_count":null,"outputs":[{"data":{"text/plain":["0.0"]},"execution_count":67,"metadata":{},"output_type":"execute_result"}]},{"cell_type":"code","metadata":{"colab":{"base_uri":"https://localhost:8080/"},"id":"hSo6oqUNnjkb","executionInfo":{"elapsed":76,"status":"ok","timestamp":1635509243120,"user":{"displayName":"Samuel Doan","photoUrl":"https://lh3.googleusercontent.com/a-/AOh14GjbcdQ40FcyCSIyitBN2ptY3zHWA_09harKPYF2=s64","userId":"04384888964432338542"},"user_tz":-420},"outputId":"83ed4bba-b599-4b62-853b-c05e3aef6fc1"},"source":["ser = np.log1p(titanic['fare'])\n","ser"],"execution_count":null,"outputs":[{"data":{"text/plain":["0      2.110213\n","1      4.280593\n","2      2.188856\n","3      3.990834\n","4      2.202765\n","         ...   \n","886    2.639057\n","887    3.433987\n","888    3.196630\n","889    3.433987\n","890    2.169054\n","Name: fare, Length: 891, dtype: float64"]},"execution_count":68,"metadata":{},"output_type":"execute_result"}]},{"cell_type":"code","metadata":{"colab":{"base_uri":"https://localhost:8080/","height":298},"id":"W-5o1-c7pIoj","executionInfo":{"elapsed":67,"status":"ok","timestamp":1635509243121,"user":{"displayName":"Samuel Doan","photoUrl":"https://lh3.googleusercontent.com/a-/AOh14GjbcdQ40FcyCSIyitBN2ptY3zHWA_09harKPYF2=s64","userId":"04384888964432338542"},"user_tz":-420},"outputId":"cf245322-7a7f-467d-810c-7779d66434ce"},"source":["sns.histplot(ser, kde=True)"],"execution_count":null,"outputs":[{"data":{"text/plain":["<matplotlib.axes._subplots.AxesSubplot at 0x7f03abc0cf50>"]},"execution_count":69,"metadata":{},"output_type":"execute_result"},{"data":{"image/png":"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","text/plain":["<Figure size 432x288 with 1 Axes>"]},"metadata":{"needs_background":"light"},"output_type":"display_data"}]},{"cell_type":"code","metadata":{"colab":{"base_uri":"https://localhost:8080/"},"id":"WMp5_BzapTlq","executionInfo":{"elapsed":57,"status":"ok","timestamp":1635509243122,"user":{"displayName":"Samuel Doan","photoUrl":"https://lh3.googleusercontent.com/a-/AOh14GjbcdQ40FcyCSIyitBN2ptY3zHWA_09harKPYF2=s64","userId":"04384888964432338542"},"user_tz":-420},"outputId":"0439a315-722b-4eeb-abf3-fecf69c4f3a4"},"source":["# Tính z-score\n","ser.mean(), ser.std()"],"execution_count":null,"outputs":[{"data":{"text/plain":["(2.9622457416890775, 0.969048270122367)"]},"execution_count":70,"metadata":{},"output_type":"execute_result"}]},{"cell_type":"code","metadata":{"colab":{"base_uri":"https://localhost:8080/"},"id":"0wcGEdwVp0o1","executionInfo":{"elapsed":50,"status":"ok","timestamp":1635509243123,"user":{"displayName":"Samuel Doan","photoUrl":"https://lh3.googleusercontent.com/a-/AOh14GjbcdQ40FcyCSIyitBN2ptY3zHWA_09harKPYF2=s64","userId":"04384888964432338542"},"user_tz":-420},"outputId":"26da8493-3489-4529-aa5d-ca97480e9a1b"},"source":["new_ser = (ser - ser.mean())/ser.std()\n","new_ser"],"execution_count":null,"outputs":[{"data":{"text/plain":["0     -0.879247\n","1      1.360456\n","2     -0.798092\n","3      1.061442\n","4     -0.783739\n","         ...   \n","886   -0.333511\n","887    0.486809\n","888    0.241871\n","889    0.486809\n","890   -0.818527\n","Name: fare, Length: 891, dtype: float64"]},"execution_count":71,"metadata":{},"output_type":"execute_result"}]},{"cell_type":"code","metadata":{"colab":{"base_uri":"https://localhost:8080/","height":298},"id":"DsGbeoVTqAG2","executionInfo":{"elapsed":768,"status":"ok","timestamp":1635509243851,"user":{"displayName":"Samuel Doan","photoUrl":"https://lh3.googleusercontent.com/a-/AOh14GjbcdQ40FcyCSIyitBN2ptY3zHWA_09harKPYF2=s64","userId":"04384888964432338542"},"user_tz":-420},"outputId":"8c6adb1d-f4d7-4f74-804b-52104363e66e"},"source":["sns.histplot(new_ser, kde=True)"],"execution_count":null,"outputs":[{"data":{"text/plain":["<matplotlib.axes._subplots.AxesSubplot at 0x7f03a2fb4650>"]},"execution_count":72,"metadata":{},"output_type":"execute_result"},{"data":{"image/png":"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","text/plain":["<Figure size 432x288 with 1 Axes>"]},"metadata":{"needs_background":"light"},"output_type":"display_data"}]},{"cell_type":"code","metadata":{"id":"JIv-L9iK0MkX"},"source":["# standardize --> vì tất cả phân phối chuyển về các giá trị từ -3 đến 3"],"execution_count":null,"outputs":[]},{"cell_type":"code","metadata":{"colab":{"base_uri":"https://localhost:8080/"},"id":"IcE42DOZqSwu","executionInfo":{"elapsed":35,"status":"ok","timestamp":1635509243854,"user":{"displayName":"Samuel Doan","photoUrl":"https://lh3.googleusercontent.com/a-/AOh14GjbcdQ40FcyCSIyitBN2ptY3zHWA_09harKPYF2=s64","userId":"04384888964432338542"},"user_tz":-420},"outputId":"c15f2a21-57e0-43cb-cf00-3ee30f9aa30d"},"source":["new_ser.mean(), new_ser.std()"],"execution_count":null,"outputs":[{"data":{"text/plain":["(3.971632849259511e-15, 1.0000000000000018)"]},"execution_count":74,"metadata":{},"output_type":"execute_result"}]},{"cell_type":"code","metadata":{"id":"XD_yiY_Y8H29"},"source":["titanic['fare_log_zscore'] = new_ser # fare_log_standardized"],"execution_count":null,"outputs":[]},{"cell_type":"markdown","metadata":{"id":"hg7NGW1i8H2-"},"source":["## Phần 2: Build a model"]},{"cell_type":"code","metadata":{"colab":{"base_uri":"https://localhost:8080/","height":688},"id":"La7QS0o78H2-","executionInfo":{"elapsed":491,"status":"ok","timestamp":1635510105139,"user":{"displayName":"Samuel Doan","photoUrl":"https://lh3.googleusercontent.com/a-/AOh14GjbcdQ40FcyCSIyitBN2ptY3zHWA_09harKPYF2=s64","userId":"04384888964432338542"},"user_tz":-420},"outputId":"53eae8e1-207e-4e4b-f42f-d61e2409740e"},"source":["display(\n","    titanic.info(),\n","    titanic.head()\n",")"],"execution_count":null,"outputs":[{"name":"stdout","output_type":"stream","text":["<class 'pandas.core.frame.DataFrame'>\n","RangeIndex: 891 entries, 0 to 890\n","Data columns (total 18 columns):\n"," #   Column                 Non-Null Count  Dtype   \n","---  ------                 --------------  -----   \n"," 0   survived               891 non-null    int64   \n"," 1   pclass                 891 non-null    int64   \n"," 2   sex                    891 non-null    object  \n"," 3   age                    891 non-null    float64 \n"," 4   sibsp                  891 non-null    int64   \n"," 5   parch                  891 non-null    int64   \n"," 6   fare                   891 non-null    float64 \n"," 7   embarked               889 non-null    object  \n"," 8   class                  891 non-null    category\n"," 9   who                    891 non-null    object  \n"," 10  adult_male             891 non-null    bool    \n"," 11  deck                   891 non-null    category\n"," 12  embark_town            891 non-null    object  \n"," 13  alive                  891 non-null    object  \n"," 14  alone                  891 non-null    bool    \n"," 15  age_group              891 non-null    category\n"," 16  female_from_2nd_class  891 non-null    bool    \n"," 17  fare_log_zscore        891 non-null    float64 \n","dtypes: bool(3), category(3), float64(3), int64(4), object(5)\n","memory usage: 89.8+ KB\n"]},{"data":{"text/plain":["None"]},"metadata":{},"output_type":"display_data"},{"data":{"text/html":["<div>\n","<style scoped>\n","    .dataframe tbody tr th:only-of-type {\n","        vertical-align: middle;\n","    }\n","\n","    .dataframe tbody tr th {\n","        vertical-align: top;\n","    }\n","\n","    .dataframe thead th {\n","        text-align: right;\n","    }\n","</style>\n","<table border=\"1\" class=\"dataframe\">\n","  <thead>\n","    <tr style=\"text-align: right;\">\n","      <th></th>\n","      <th>survived</th>\n","      <th>pclass</th>\n","      <th>sex</th>\n","      <th>age</th>\n","      <th>sibsp</th>\n","      <th>parch</th>\n","      <th>fare</th>\n","      <th>embarked</th>\n","      <th>class</th>\n","      <th>who</th>\n","      <th>adult_male</th>\n","      <th>deck</th>\n","      <th>embark_town</th>\n","      <th>alive</th>\n","      <th>alone</th>\n","      <th>age_group</th>\n","      <th>female_from_2nd_class</th>\n","      <th>fare_log_zscore</th>\n","    </tr>\n","  </thead>\n","  <tbody>\n","    <tr>\n","      <th>0</th>\n","      <td>0</td>\n","      <td>3</td>\n","      <td>male</td>\n","      <td>22.0</td>\n","      <td>1</td>\n","      <td>0</td>\n","      <td>7.2500</td>\n","      <td>S</td>\n","      <td>Third</td>\n","      <td>man</td>\n","      <td>True</td>\n","      <td>F</td>\n","      <td>Southampton</td>\n","      <td>no</td>\n","      <td>False</td>\n","      <td>(15, 25]</td>\n","      <td>False</td>\n","      <td>-0.879247</td>\n","    </tr>\n","    <tr>\n","      <th>1</th>\n","      <td>1</td>\n","      <td>1</td>\n","      <td>female</td>\n","      <td>38.0</td>\n","      <td>1</td>\n","      <td>0</td>\n","      <td>71.2833</td>\n","      <td>C</td>\n","      <td>First</td>\n","      <td>woman</td>\n","      <td>False</td>\n","      <td>C</td>\n","      <td>Cherbourg</td>\n","      <td>yes</td>\n","      <td>False</td>\n","      <td>(35, 45]</td>\n","      <td>True</td>\n","      <td>1.360456</td>\n","    </tr>\n","    <tr>\n","      <th>2</th>\n","      <td>1</td>\n","      <td>3</td>\n","      <td>female</td>\n","      <td>26.0</td>\n","      <td>0</td>\n","      <td>0</td>\n","      <td>7.9250</td>\n","      <td>S</td>\n","      <td>Third</td>\n","      <td>woman</td>\n","      <td>False</td>\n","      <td>F</td>\n","      <td>Southampton</td>\n","      <td>yes</td>\n","      <td>True</td>\n","      <td>(25, 35]</td>\n","      <td>False</td>\n","      <td>-0.798092</td>\n","    </tr>\n","    <tr>\n","      <th>3</th>\n","      <td>1</td>\n","      <td>1</td>\n","      <td>female</td>\n","      <td>35.0</td>\n","      <td>1</td>\n","      <td>0</td>\n","      <td>53.1000</td>\n","      <td>S</td>\n","      <td>First</td>\n","      <td>woman</td>\n","      <td>False</td>\n","      <td>C</td>\n","      <td>Southampton</td>\n","      <td>yes</td>\n","      <td>False</td>\n","      <td>(25, 35]</td>\n","      <td>True</td>\n","      <td>1.061442</td>\n","    </tr>\n","    <tr>\n","      <th>4</th>\n","      <td>0</td>\n","      <td>3</td>\n","      <td>male</td>\n","      <td>35.0</td>\n","      <td>0</td>\n","      <td>0</td>\n","      <td>8.0500</td>\n","      <td>S</td>\n","      <td>Third</td>\n","      <td>man</td>\n","      <td>True</td>\n","      <td>F</td>\n","      <td>Southampton</td>\n","      <td>no</td>\n","      <td>True</td>\n","      <td>(25, 35]</td>\n","      <td>False</td>\n","      <td>-0.783739</td>\n","    </tr>\n","  </tbody>\n","</table>\n","</div>"],"text/plain":["   survived  pclass     sex  ...  age_group  female_from_2nd_class  fare_log_zscore\n","0         0       3    male  ...   (15, 25]                  False        -0.879247\n","1         1       1  female  ...   (35, 45]                   True         1.360456\n","2         1       3  female  ...   (25, 35]                  False        -0.798092\n","3         1       1  female  ...   (25, 35]                   True         1.061442\n","4         0       3    male  ...   (25, 35]                  False        -0.783739\n","\n","[5 rows x 18 columns]"]},"metadata":{},"output_type":"display_data"}]},{"cell_type":"code","metadata":{"id":"KKS5v8QV8H2-"},"source":["## Mô hình chỉ có thể làm việc với biến dạng số?"],"execution_count":null,"outputs":[]},{"cell_type":"code","metadata":{"id":"AgvMCdENAY_l"},"source":["# Biến dạng chữ\n","# sex: chuyển thành 0 1 (female=1 male=0) ==> Kỹ thuật encoding: gán các giá trị dạng chữ với dạng số tương ứng\n","# who: chuyển thành 0 1. Chuyển thành 3 cột riêng: man, woman, child, điền 1 vào vị trí tương ứng. Kỹ thuật one-hot-encoding\n","#   man     ->  man     1       woman       0       child       0\n","#   woman   ->  man     0       woman       1       child       0\n","# \n","# class: first second third -> 3 2 1. Kỹ thuật encoding chuyển biến Ordinal thành dạng số dữ nguyên thứ tự sắp xếp\n","\n","# Biến dạng Boolean:\n","# Chuyển True thành 1 và False thành 0 "],"execution_count":null,"outputs":[]},{"cell_type":"markdown","metadata":{"id":"iuiYtAJbZth4"},"source":["### Biến đổi biến"]},{"cell_type":"markdown","metadata":{"id":"4Ex9_vxaZth4"},"source":["#### Encoding biến dạng phân loại"]},{"cell_type":"code","metadata":{"colab":{"base_uri":"https://localhost:8080/"},"id":"5_yCypcZCKO9","executionInfo":{"elapsed":605,"status":"ok","timestamp":1635510829288,"user":{"displayName":"Samuel Doan","photoUrl":"https://lh3.googleusercontent.com/a-/AOh14GjbcdQ40FcyCSIyitBN2ptY3zHWA_09harKPYF2=s64","userId":"04384888964432338542"},"user_tz":-420},"outputId":"4bc9157b-abb9-45e3-8ac3-33c2e36d945d"},"source":["titanic['sex'].map({'female': 1, 'male': 0}) # --> Syntax cho one-hot encoding"],"execution_count":null,"outputs":[{"data":{"text/plain":["0      0\n","1      1\n","2      1\n","3      1\n","4      0\n","      ..\n","886    0\n","887    1\n","888    1\n","889    0\n","890    0\n","Name: sex, Length: 891, dtype: int64"]},"execution_count":83,"metadata":{},"output_type":"execute_result"}]},{"cell_type":"code","metadata":{"colab":{"base_uri":"https://localhost:8080/"},"id":"MilMMa76CtF7","executionInfo":{"elapsed":469,"status":"ok","timestamp":1635511010327,"user":{"displayName":"Samuel Doan","photoUrl":"https://lh3.googleusercontent.com/a-/AOh14GjbcdQ40FcyCSIyitBN2ptY3zHWA_09harKPYF2=s64","userId":"04384888964432338542"},"user_tz":-420},"outputId":"dfad1ff7-9a6d-41a7-a44a-bf2a8d1579d6"},"source":["#(titanic['sex'] == 'female').astype(int)\n","titanic['sex_encoded'] = titanic['sex'].eq('female').astype(int) # syntax ~ pyspark # hàm dễ nhìn và mạnh mẽ hơn\n","titanic['sex_encoded']"],"execution_count":null,"outputs":[{"data":{"text/plain":["0      0\n","1      1\n","2      1\n","3      1\n","4      0\n","      ..\n","886    0\n","887    1\n","888    1\n","889    0\n","890    0\n","Name: sex_encoded, Length: 891, dtype: int64"]},"execution_count":88,"metadata":{},"output_type":"execute_result"}]},{"cell_type":"markdown","metadata":{"id":"4lCAE6tIZth6"},"source":["#### Gộp nhóm rời rạc (Sparse class grouping)"]},{"cell_type":"code","metadata":{"colab":{"base_uri":"https://localhost:8080/"},"id":"X-x8wmG4E4HZ","executionInfo":{"elapsed":570,"status":"ok","timestamp":1635511456707,"user":{"displayName":"Samuel Doan","photoUrl":"https://lh3.googleusercontent.com/a-/AOh14GjbcdQ40FcyCSIyitBN2ptY3zHWA_09harKPYF2=s64","userId":"04384888964432338542"},"user_tz":-420},"outputId":"f5ab00ec-cebc-4bc0-f687-451a8343a3c2"},"source":["titanic['deck'].value_counts().sort_index()"],"execution_count":null,"outputs":[{"data":{"text/plain":["A           15\n","B           47\n","C          100\n","D           33\n","E           32\n","F          660\n","G            4\n","Unknown      0\n","Name: deck, dtype: int64"]},"execution_count":94,"metadata":{},"output_type":"execute_result"}]},{"cell_type":"code","metadata":{"colab":{"base_uri":"https://localhost:8080/"},"id":"m7RE7YF6F5FQ","executionInfo":{"elapsed":528,"status":"ok","timestamp":1635511769320,"user":{"displayName":"Samuel Doan","photoUrl":"https://lh3.googleusercontent.com/a-/AOh14GjbcdQ40FcyCSIyitBN2ptY3zHWA_09harKPYF2=s64","userId":"04384888964432338542"},"user_tz":-420},"outputId":"42ecf480-bd79-4db5-8b0a-8af0fe871410"},"source":["ser = titanic['deck'].map({\n","    'A': 'ABC',\n","    'B': 'ABC',\n","    'C': 'ABC',\n","    'D': 'DEFG',\n","    'E': 'DEFG',\n","    'F': 'DEFG',\n","    'G': 'DEFG'\n","})\n","ser"],"execution_count":null,"outputs":[{"data":{"text/plain":["0      DEFG\n","1       ABC\n","2      DEFG\n","3       ABC\n","4      DEFG\n","       ... \n","886    DEFG\n","887     ABC\n","888    DEFG\n","889     ABC\n","890    DEFG\n","Name: deck, Length: 891, dtype: object"]},"execution_count":96,"metadata":{},"output_type":"execute_result"}]},{"cell_type":"code","metadata":{"colab":{"base_uri":"https://localhost:8080/","height":424},"id":"MDCS6GmqGOwe","executionInfo":{"elapsed":532,"status":"ok","timestamp":1635511789871,"user":{"displayName":"Samuel Doan","photoUrl":"https://lh3.googleusercontent.com/a-/AOh14GjbcdQ40FcyCSIyitBN2ptY3zHWA_09harKPYF2=s64","userId":"04384888964432338542"},"user_tz":-420},"outputId":"f949e410-3024-4528-a8e7-0ae83b11f6ee"},"source":["pd.get_dummies(ser)"],"execution_count":null,"outputs":[{"data":{"text/html":["<div>\n","<style scoped>\n","    .dataframe tbody tr th:only-of-type {\n","        vertical-align: middle;\n","    }\n","\n","    .dataframe tbody tr th {\n","        vertical-align: top;\n","    }\n","\n","    .dataframe thead th {\n","        text-align: right;\n","    }\n","</style>\n","<table border=\"1\" class=\"dataframe\">\n","  <thead>\n","    <tr style=\"text-align: right;\">\n","      <th></th>\n","      <th>ABC</th>\n","      <th>DEFG</th>\n","    </tr>\n","  </thead>\n","  <tbody>\n","    <tr>\n","      <th>0</th>\n","      <td>0</td>\n","      <td>1</td>\n","    </tr>\n","    <tr>\n","      <th>1</th>\n","      <td>1</td>\n","      <td>0</td>\n","    </tr>\n","    <tr>\n","      <th>2</th>\n","      <td>0</td>\n","      <td>1</td>\n","    </tr>\n","    <tr>\n","      <th>3</th>\n","      <td>1</td>\n","      <td>0</td>\n","    </tr>\n","    <tr>\n","      <th>4</th>\n","      <td>0</td>\n","      <td>1</td>\n","    </tr>\n","    <tr>\n","      <th>...</th>\n","      <td>...</td>\n","      <td>...</td>\n","    </tr>\n","    <tr>\n","      <th>886</th>\n","      <td>0</td>\n","      <td>1</td>\n","    </tr>\n","    <tr>\n","      <th>887</th>\n","      <td>1</td>\n","      <td>0</td>\n","    </tr>\n","    <tr>\n","      <th>888</th>\n","      <td>0</td>\n","      <td>1</td>\n","    </tr>\n","    <tr>\n","      <th>889</th>\n","      <td>1</td>\n","      <td>0</td>\n","    </tr>\n","    <tr>\n","      <th>890</th>\n","      <td>0</td>\n","      <td>1</td>\n","    </tr>\n","  </tbody>\n","</table>\n","<p>891 rows × 2 columns</p>\n","</div>"],"text/plain":["     ABC  DEFG\n","0      0     1\n","1      1     0\n","2      0     1\n","3      1     0\n","4      0     1\n","..   ...   ...\n","886    0     1\n","887    1     0\n","888    0     1\n","889    1     0\n","890    0     1\n","\n","[891 rows x 2 columns]"]},"execution_count":97,"metadata":{},"output_type":"execute_result"}]},{"cell_type":"code","metadata":{"colab":{"base_uri":"https://localhost:8080/"},"id":"GyAAa0EaGjrH","executionInfo":{"elapsed":439,"status":"ok","timestamp":1635512004678,"user":{"displayName":"Samuel Doan","photoUrl":"https://lh3.googleusercontent.com/a-/AOh14GjbcdQ40FcyCSIyitBN2ptY3zHWA_09harKPYF2=s64","userId":"04384888964432338542"},"user_tz":-420},"outputId":"1a958601-60da-4862-8d99-8bc8d7d7b9d6"},"source":["titanic['deck_ABC'] = titanic['deck'].isin(['A', 'B', 'C']).astype(int) # Nếu đã xác định được là kết quả map chỉ còn 2 nhóm\n","# thì có thể làm luôn encoding\n","titanic['deck_ABC']"],"execution_count":null,"outputs":[{"data":{"text/plain":["0      0\n","1      1\n","2      0\n","3      1\n","4      0\n","      ..\n","886    0\n","887    1\n","888    0\n","889    1\n","890    0\n","Name: deck_ABC, Length: 891, dtype: int64"]},"execution_count":103,"metadata":{},"output_type":"execute_result"}]},{"cell_type":"markdown","metadata":{"id":"bINic-nRZtiD"},"source":["#### One-hot-encding"]},{"cell_type":"code","metadata":{"colab":{"base_uri":"https://localhost:8080/"},"id":"YF68JOaxI-X8","executionInfo":{"elapsed":1425,"status":"ok","timestamp":1635512761430,"user":{"displayName":"Samuel Doan","photoUrl":"https://lh3.googleusercontent.com/a-/AOh14GjbcdQ40FcyCSIyitBN2ptY3zHWA_09harKPYF2=s64","userId":"04384888964432338542"},"user_tz":-420},"outputId":"50aaa605-ba09-487a-e770-da4555806e23"},"source":["titanic['age_group'] = titanic['age_group'].astype(str) \\\n","    .str.strip('()[]') \\\n","    .str.replace(', ', '_') # cách viết mượn của pyspark\n","titanic['age_group']"],"execution_count":null,"outputs":[{"data":{"text/plain":["0      15_25\n","1      35_45\n","2      25_35\n","3      25_35\n","4      25_35\n","       ...  \n","886    25_35\n","887    15_25\n","888    25_35\n","889    25_35\n","890    25_35\n","Name: age_group, Length: 891, dtype: object"]},"execution_count":110,"metadata":{},"output_type":"execute_result"}]},{"cell_type":"code","metadata":{"colab":{"base_uri":"https://localhost:8080/","height":444},"id":"e9WwIapuDPaW","executionInfo":{"elapsed":1616,"status":"ok","timestamp":1635512881118,"user":{"displayName":"Samuel Doan","photoUrl":"https://lh3.googleusercontent.com/a-/AOh14GjbcdQ40FcyCSIyitBN2ptY3zHWA_09harKPYF2=s64","userId":"04384888964432338542"},"user_tz":-420},"outputId":"2e12d586-2da1-48cb-b5f9-850f0d882ef5"},"source":["dummies = pd.get_dummies(titanic[['embark_town', 'who', 'age_group']])\n","dummies\n","# Thông thường tên nhóm tuổi (15, 25] khi one-hot thì ko có vấn đề gì\n","# tuy nhiên để làm tên cột thì một số thư viện sẽ ko đọc được XGBoost\n","# Nên mình nên đổi tên cột ko chứa ký tự đặc biệt và theo snake_case ví dụ: age_group_15_25"],"execution_count":null,"outputs":[{"data":{"text/html":["<div>\n","<style scoped>\n","    .dataframe tbody tr th:only-of-type {\n","        vertical-align: middle;\n","    }\n","\n","    .dataframe tbody tr th {\n","        vertical-align: top;\n","    }\n","\n","    .dataframe thead th {\n","        text-align: right;\n","    }\n","</style>\n","<table border=\"1\" class=\"dataframe\">\n","  <thead>\n","    <tr style=\"text-align: right;\">\n","      <th></th>\n","      <th>embark_town_Cherbourg</th>\n","      <th>embark_town_Queenstown</th>\n","      <th>embark_town_Southampton</th>\n","      <th>who_child</th>\n","      <th>who_man</th>\n","      <th>who_woman</th>\n","      <th>age_group_0_15</th>\n","      <th>age_group_15_25</th>\n","      <th>age_group_25_35</th>\n","      <th>age_group_35_45</th>\n","      <th>age_group_45_60</th>\n","      <th>age_group_60_80</th>\n","    </tr>\n","  </thead>\n","  <tbody>\n","    <tr>\n","      <th>0</th>\n","      <td>0</td>\n","      <td>0</td>\n","      <td>1</td>\n","      <td>0</td>\n","      <td>1</td>\n","      <td>0</td>\n","      <td>0</td>\n","      <td>1</td>\n","      <td>0</td>\n","      <td>0</td>\n","      <td>0</td>\n","      <td>0</td>\n","    </tr>\n","    <tr>\n","      <th>1</th>\n","      <td>1</td>\n","      <td>0</td>\n","      <td>0</td>\n","      <td>0</td>\n","      <td>0</td>\n","      <td>1</td>\n","      <td>0</td>\n","      <td>0</td>\n","      <td>0</td>\n","      <td>1</td>\n","      <td>0</td>\n","      <td>0</td>\n","    </tr>\n","    <tr>\n","      <th>2</th>\n","      <td>0</td>\n","      <td>0</td>\n","      <td>1</td>\n","      <td>0</td>\n","      <td>0</td>\n","      <td>1</td>\n","      <td>0</td>\n","      <td>0</td>\n","      <td>1</td>\n","      <td>0</td>\n","      <td>0</td>\n","      <td>0</td>\n","    </tr>\n","    <tr>\n","      <th>3</th>\n","      <td>0</td>\n","      <td>0</td>\n","      <td>1</td>\n","      <td>0</td>\n","      <td>0</td>\n","      <td>1</td>\n","      <td>0</td>\n","      <td>0</td>\n","      <td>1</td>\n","      <td>0</td>\n","      <td>0</td>\n","      <td>0</td>\n","    </tr>\n","    <tr>\n","      <th>4</th>\n","      <td>0</td>\n","      <td>0</td>\n","      <td>1</td>\n","      <td>0</td>\n","      <td>1</td>\n","      <td>0</td>\n","      <td>0</td>\n","      <td>0</td>\n","      <td>1</td>\n","      <td>0</td>\n","      <td>0</td>\n","      <td>0</td>\n","    </tr>\n","    <tr>\n","      <th>...</th>\n","      <td>...</td>\n","      <td>...</td>\n","      <td>...</td>\n","      <td>...</td>\n","      <td>...</td>\n","      <td>...</td>\n","      <td>...</td>\n","      <td>...</td>\n","      <td>...</td>\n","      <td>...</td>\n","      <td>...</td>\n","      <td>...</td>\n","    </tr>\n","    <tr>\n","      <th>886</th>\n","      <td>0</td>\n","      <td>0</td>\n","      <td>1</td>\n","      <td>0</td>\n","      <td>1</td>\n","      <td>0</td>\n","      <td>0</td>\n","      <td>0</td>\n","      <td>1</td>\n","      <td>0</td>\n","      <td>0</td>\n","      <td>0</td>\n","    </tr>\n","    <tr>\n","      <th>887</th>\n","      <td>0</td>\n","      <td>0</td>\n","      <td>1</td>\n","      <td>0</td>\n","      <td>0</td>\n","      <td>1</td>\n","      <td>0</td>\n","      <td>1</td>\n","      <td>0</td>\n","      <td>0</td>\n","      <td>0</td>\n","      <td>0</td>\n","    </tr>\n","    <tr>\n","      <th>888</th>\n","      <td>0</td>\n","      <td>0</td>\n","      <td>1</td>\n","      <td>0</td>\n","      <td>0</td>\n","      <td>1</td>\n","      <td>0</td>\n","      <td>0</td>\n","      <td>1</td>\n","      <td>0</td>\n","      <td>0</td>\n","      <td>0</td>\n","    </tr>\n","    <tr>\n","      <th>889</th>\n","      <td>1</td>\n","      <td>0</td>\n","      <td>0</td>\n","      <td>0</td>\n","      <td>1</td>\n","      <td>0</td>\n","      <td>0</td>\n","      <td>0</td>\n","      <td>1</td>\n","      <td>0</td>\n","      <td>0</td>\n","      <td>0</td>\n","    </tr>\n","    <tr>\n","      <th>890</th>\n","      <td>0</td>\n","      <td>1</td>\n","      <td>0</td>\n","      <td>0</td>\n","      <td>1</td>\n","      <td>0</td>\n","      <td>0</td>\n","      <td>0</td>\n","      <td>1</td>\n","      <td>0</td>\n","      <td>0</td>\n","      <td>0</td>\n","    </tr>\n","  </tbody>\n","</table>\n","<p>891 rows × 12 columns</p>\n","</div>"],"text/plain":["     embark_town_Cherbourg  ...  age_group_60_80\n","0                        0  ...                0\n","1                        1  ...                0\n","2                        0  ...                0\n","3                        0  ...                0\n","4                        0  ...                0\n","..                     ...  ...              ...\n","886                      0  ...                0\n","887                      0  ...                0\n","888                      0  ...                0\n","889                      1  ...                0\n","890                      0  ...                0\n","\n","[891 rows x 12 columns]"]},"execution_count":112,"metadata":{},"output_type":"execute_result"}]},{"cell_type":"code","metadata":{"colab":{"base_uri":"https://localhost:8080/","height":444},"id":"712iKqM-EfVn","executionInfo":{"elapsed":18,"status":"ok","timestamp":1635513052334,"user":{"displayName":"Samuel Doan","photoUrl":"https://lh3.googleusercontent.com/a-/AOh14GjbcdQ40FcyCSIyitBN2ptY3zHWA_09harKPYF2=s64","userId":"04384888964432338542"},"user_tz":-420},"outputId":"cd85e2de-394e-4b75-8bb8-9dab2df89afb"},"source":["titanic_new = titanic.join(dummies)\n","titanic_new"],"execution_count":null,"outputs":[{"data":{"text/html":["<div>\n","<style scoped>\n","    .dataframe tbody tr th:only-of-type {\n","        vertical-align: middle;\n","    }\n","\n","    .dataframe tbody tr th {\n","        vertical-align: top;\n","    }\n","\n","    .dataframe thead th {\n","        text-align: right;\n","    }\n","</style>\n","<table border=\"1\" class=\"dataframe\">\n","  <thead>\n","    <tr style=\"text-align: right;\">\n","      <th></th>\n","      <th>survived</th>\n","      <th>pclass</th>\n","      <th>sex</th>\n","      <th>age</th>\n","      <th>sibsp</th>\n","      <th>parch</th>\n","      <th>fare</th>\n","      <th>embarked</th>\n","      <th>class</th>\n","      <th>who</th>\n","      <th>adult_male</th>\n","      <th>deck</th>\n","      <th>embark_town</th>\n","      <th>alive</th>\n","      <th>alone</th>\n","      <th>age_group</th>\n","      <th>female_from_2nd_class</th>\n","      <th>fare_log_zscore</th>\n","      <th>sex_encoded</th>\n","      <th>deck_ABC</th>\n","      <th>embark_town_Cherbourg</th>\n","      <th>embark_town_Queenstown</th>\n","      <th>embark_town_Southampton</th>\n","      <th>who_child</th>\n","      <th>who_man</th>\n","      <th>who_woman</th>\n","      <th>age_group_0_15</th>\n","      <th>age_group_15_25</th>\n","      <th>age_group_25_35</th>\n","      <th>age_group_35_45</th>\n","      <th>age_group_45_60</th>\n","      <th>age_group_60_80</th>\n","    </tr>\n","  </thead>\n","  <tbody>\n","    <tr>\n","      <th>0</th>\n","      <td>0</td>\n","      <td>3</td>\n","      <td>male</td>\n","      <td>22.000000</td>\n","      <td>1</td>\n","      <td>0</td>\n","      <td>7.2500</td>\n","      <td>S</td>\n","      <td>Third</td>\n","      <td>man</td>\n","      <td>True</td>\n","      <td>F</td>\n","      <td>Southampton</td>\n","      <td>no</td>\n","      <td>False</td>\n","      <td>15_25</td>\n","      <td>False</td>\n","      <td>-0.879247</td>\n","      <td>0</td>\n","      <td>0</td>\n","      <td>0</td>\n","      <td>0</td>\n","      <td>1</td>\n","      <td>0</td>\n","      <td>1</td>\n","      <td>0</td>\n","      <td>0</td>\n","      <td>1</td>\n","      <td>0</td>\n","      <td>0</td>\n","      <td>0</td>\n","      <td>0</td>\n","    </tr>\n","    <tr>\n","      <th>1</th>\n","      <td>1</td>\n","      <td>1</td>\n","      <td>female</td>\n","      <td>38.000000</td>\n","      <td>1</td>\n","      <td>0</td>\n","      <td>71.2833</td>\n","      <td>C</td>\n","      <td>First</td>\n","      <td>woman</td>\n","      <td>False</td>\n","      <td>C</td>\n","      <td>Cherbourg</td>\n","      <td>yes</td>\n","      <td>False</td>\n","      <td>35_45</td>\n","      <td>True</td>\n","      <td>1.360456</td>\n","      <td>1</td>\n","      <td>1</td>\n","      <td>1</td>\n","      <td>0</td>\n","      <td>0</td>\n","      <td>0</td>\n","      <td>0</td>\n","      <td>1</td>\n","      <td>0</td>\n","      <td>0</td>\n","      <td>0</td>\n","      <td>1</td>\n","      <td>0</td>\n","      <td>0</td>\n","    </tr>\n","    <tr>\n","      <th>2</th>\n","      <td>1</td>\n","      <td>3</td>\n","      <td>female</td>\n","      <td>26.000000</td>\n","      <td>0</td>\n","      <td>0</td>\n","      <td>7.9250</td>\n","      <td>S</td>\n","      <td>Third</td>\n","      <td>woman</td>\n","      <td>False</td>\n","      <td>F</td>\n","      <td>Southampton</td>\n","      <td>yes</td>\n","      <td>True</td>\n","      <td>25_35</td>\n","      <td>False</td>\n","      <td>-0.798092</td>\n","      <td>1</td>\n","      <td>0</td>\n","      <td>0</td>\n","      <td>0</td>\n","      <td>1</td>\n","      <td>0</td>\n","      <td>0</td>\n","      <td>1</td>\n","      <td>0</td>\n","      <td>0</td>\n","      <td>1</td>\n","      <td>0</td>\n","      <td>0</td>\n","      <td>0</td>\n","    </tr>\n","    <tr>\n","      <th>3</th>\n","      <td>1</td>\n","      <td>1</td>\n","      <td>female</td>\n","      <td>35.000000</td>\n","      <td>1</td>\n","      <td>0</td>\n","      <td>53.1000</td>\n","      <td>S</td>\n","      <td>First</td>\n","      <td>woman</td>\n","      <td>False</td>\n","      <td>C</td>\n","      <td>Southampton</td>\n","      <td>yes</td>\n","      <td>False</td>\n","      <td>25_35</td>\n","      <td>True</td>\n","      <td>1.061442</td>\n","      <td>1</td>\n","      <td>1</td>\n","      <td>0</td>\n","      <td>0</td>\n","      <td>1</td>\n","      <td>0</td>\n","      <td>0</td>\n","      <td>1</td>\n","      <td>0</td>\n","      <td>0</td>\n","      <td>1</td>\n","      <td>0</td>\n","      <td>0</td>\n","      <td>0</td>\n","    </tr>\n","    <tr>\n","      <th>4</th>\n","      <td>0</td>\n","      <td>3</td>\n","      <td>male</td>\n","      <td>35.000000</td>\n","      <td>0</td>\n","      <td>0</td>\n","      <td>8.0500</td>\n","      <td>S</td>\n","      <td>Third</td>\n","      <td>man</td>\n","      <td>True</td>\n","      <td>F</td>\n","      <td>Southampton</td>\n","      <td>no</td>\n","      <td>True</td>\n","      <td>25_35</td>\n","      <td>False</td>\n","      <td>-0.783739</td>\n","      <td>0</td>\n","      <td>0</td>\n","      <td>0</td>\n","      <td>0</td>\n","      <td>1</td>\n","      <td>0</td>\n","      <td>1</td>\n","      <td>0</td>\n","      <td>0</td>\n","      <td>0</td>\n","      <td>1</td>\n","      <td>0</td>\n","      <td>0</td>\n","      <td>0</td>\n","    </tr>\n","    <tr>\n","      <th>...</th>\n","      <td>...</td>\n","      <td>...</td>\n","      <td>...</td>\n","      <td>...</td>\n","      <td>...</td>\n","      <td>...</td>\n","      <td>...</td>\n","      <td>...</td>\n","      <td>...</td>\n","      <td>...</td>\n","      <td>...</td>\n","      <td>...</td>\n","      <td>...</td>\n","      <td>...</td>\n","      <td>...</td>\n","      <td>...</td>\n","      <td>...</td>\n","      <td>...</td>\n","      <td>...</td>\n","      <td>...</td>\n","      <td>...</td>\n","      <td>...</td>\n","      <td>...</td>\n","      <td>...</td>\n","      <td>...</td>\n","      <td>...</td>\n","      <td>...</td>\n","      <td>...</td>\n","      <td>...</td>\n","      <td>...</td>\n","      <td>...</td>\n","      <td>...</td>\n","    </tr>\n","    <tr>\n","      <th>886</th>\n","      <td>0</td>\n","      <td>2</td>\n","      <td>male</td>\n","      <td>27.000000</td>\n","      <td>0</td>\n","      <td>0</td>\n","      <td>13.0000</td>\n","      <td>S</td>\n","      <td>Second</td>\n","      <td>man</td>\n","      <td>True</td>\n","      <td>F</td>\n","      <td>Southampton</td>\n","      <td>no</td>\n","      <td>True</td>\n","      <td>25_35</td>\n","      <td>False</td>\n","      <td>-0.333511</td>\n","      <td>0</td>\n","      <td>0</td>\n","      <td>0</td>\n","      <td>0</td>\n","      <td>1</td>\n","      <td>0</td>\n","      <td>1</td>\n","      <td>0</td>\n","      <td>0</td>\n","      <td>0</td>\n","      <td>1</td>\n","      <td>0</td>\n","      <td>0</td>\n","      <td>0</td>\n","    </tr>\n","    <tr>\n","      <th>887</th>\n","      <td>1</td>\n","      <td>1</td>\n","      <td>female</td>\n","      <td>19.000000</td>\n","      <td>0</td>\n","      <td>0</td>\n","      <td>30.0000</td>\n","      <td>S</td>\n","      <td>First</td>\n","      <td>woman</td>\n","      <td>False</td>\n","      <td>B</td>\n","      <td>Southampton</td>\n","      <td>yes</td>\n","      <td>True</td>\n","      <td>15_25</td>\n","      <td>True</td>\n","      <td>0.486809</td>\n","      <td>1</td>\n","      <td>1</td>\n","      <td>0</td>\n","      <td>0</td>\n","      <td>1</td>\n","      <td>0</td>\n","      <td>0</td>\n","      <td>1</td>\n","      <td>0</td>\n","      <td>1</td>\n","      <td>0</td>\n","      <td>0</td>\n","      <td>0</td>\n","      <td>0</td>\n","    </tr>\n","    <tr>\n","      <th>888</th>\n","      <td>0</td>\n","      <td>3</td>\n","      <td>female</td>\n","      <td>31.333333</td>\n","      <td>1</td>\n","      <td>2</td>\n","      <td>23.4500</td>\n","      <td>S</td>\n","      <td>Third</td>\n","      <td>woman</td>\n","      <td>False</td>\n","      <td>F</td>\n","      <td>Southampton</td>\n","      <td>no</td>\n","      <td>False</td>\n","      <td>25_35</td>\n","      <td>False</td>\n","      <td>0.241871</td>\n","      <td>1</td>\n","      <td>0</td>\n","      <td>0</td>\n","      <td>0</td>\n","      <td>1</td>\n","      <td>0</td>\n","      <td>0</td>\n","      <td>1</td>\n","      <td>0</td>\n","      <td>0</td>\n","      <td>1</td>\n","      <td>0</td>\n","      <td>0</td>\n","      <td>0</td>\n","    </tr>\n","    <tr>\n","      <th>889</th>\n","      <td>1</td>\n","      <td>1</td>\n","      <td>male</td>\n","      <td>26.000000</td>\n","      <td>0</td>\n","      <td>0</td>\n","      <td>30.0000</td>\n","      <td>C</td>\n","      <td>First</td>\n","      <td>man</td>\n","      <td>True</td>\n","      <td>C</td>\n","      <td>Cherbourg</td>\n","      <td>yes</td>\n","      <td>True</td>\n","      <td>25_35</td>\n","      <td>False</td>\n","      <td>0.486809</td>\n","      <td>0</td>\n","      <td>1</td>\n","      <td>1</td>\n","      <td>0</td>\n","      <td>0</td>\n","      <td>0</td>\n","      <td>1</td>\n","      <td>0</td>\n","      <td>0</td>\n","      <td>0</td>\n","      <td>1</td>\n","      <td>0</td>\n","      <td>0</td>\n","      <td>0</td>\n","    </tr>\n","    <tr>\n","      <th>890</th>\n","      <td>0</td>\n","      <td>3</td>\n","      <td>male</td>\n","      <td>32.000000</td>\n","      <td>0</td>\n","      <td>0</td>\n","      <td>7.7500</td>\n","      <td>Q</td>\n","      <td>Third</td>\n","      <td>man</td>\n","      <td>True</td>\n","      <td>F</td>\n","      <td>Queenstown</td>\n","      <td>no</td>\n","      <td>True</td>\n","      <td>25_35</td>\n","      <td>False</td>\n","      <td>-0.818527</td>\n","      <td>0</td>\n","      <td>0</td>\n","      <td>0</td>\n","      <td>1</td>\n","      <td>0</td>\n","      <td>0</td>\n","      <td>1</td>\n","      <td>0</td>\n","      <td>0</td>\n","      <td>0</td>\n","      <td>1</td>\n","      <td>0</td>\n","      <td>0</td>\n","      <td>0</td>\n","    </tr>\n","  </tbody>\n","</table>\n","<p>891 rows × 32 columns</p>\n","</div>"],"text/plain":["     survived  pclass  ... age_group_45_60  age_group_60_80\n","0           0       3  ...               0                0\n","1           1       1  ...               0                0\n","2           1       3  ...               0                0\n","3           1       1  ...               0                0\n","4           0       3  ...               0                0\n","..        ...     ...  ...             ...              ...\n","886         0       2  ...               0                0\n","887         1       1  ...               0                0\n","888         0       3  ...               0                0\n","889         1       1  ...               0                0\n","890         0       3  ...               0                0\n","\n","[891 rows x 32 columns]"]},"execution_count":116,"metadata":{},"output_type":"execute_result"}]},{"cell_type":"code","metadata":{"colab":{"base_uri":"https://localhost:8080/","height":444},"id":"OF_hAWf5K0ZG","executionInfo":{"elapsed":39,"status":"ok","timestamp":1635513025157,"user":{"displayName":"Samuel Doan","photoUrl":"https://lh3.googleusercontent.com/a-/AOh14GjbcdQ40FcyCSIyitBN2ptY3zHWA_09harKPYF2=s64","userId":"04384888964432338542"},"user_tz":-420},"outputId":"2baeb109-68dc-453f-83fa-663e76df0807"},"source":["titanic.merge(dummies, left_index=True, right_index=True)"],"execution_count":null,"outputs":[{"data":{"text/html":["<div>\n","<style scoped>\n","    .dataframe tbody tr th:only-of-type {\n","        vertical-align: middle;\n","    }\n","\n","    .dataframe tbody tr th {\n","        vertical-align: top;\n","    }\n","\n","    .dataframe thead th {\n","        text-align: right;\n","    }\n","</style>\n","<table border=\"1\" class=\"dataframe\">\n","  <thead>\n","    <tr style=\"text-align: right;\">\n","      <th></th>\n","      <th>survived</th>\n","      <th>pclass</th>\n","      <th>sex</th>\n","      <th>age</th>\n","      <th>sibsp</th>\n","      <th>parch</th>\n","      <th>fare</th>\n","      <th>embarked</th>\n","      <th>class</th>\n","      <th>who</th>\n","      <th>adult_male</th>\n","      <th>deck</th>\n","      <th>embark_town</th>\n","      <th>alive</th>\n","      <th>alone</th>\n","      <th>age_group</th>\n","      <th>female_from_2nd_class</th>\n","      <th>fare_log_zscore</th>\n","      <th>sex_encoded</th>\n","      <th>deck_ABC</th>\n","      <th>embark_town_Cherbourg</th>\n","      <th>embark_town_Queenstown</th>\n","      <th>embark_town_Southampton</th>\n","      <th>who_child</th>\n","      <th>who_man</th>\n","      <th>who_woman</th>\n","      <th>age_group_0_15</th>\n","      <th>age_group_15_25</th>\n","      <th>age_group_25_35</th>\n","      <th>age_group_35_45</th>\n","      <th>age_group_45_60</th>\n","      <th>age_group_60_80</th>\n","    </tr>\n","  </thead>\n","  <tbody>\n","    <tr>\n","      <th>0</th>\n","      <td>0</td>\n","      <td>3</td>\n","      <td>male</td>\n","      <td>22.000000</td>\n","      <td>1</td>\n","      <td>0</td>\n","      <td>7.2500</td>\n","      <td>S</td>\n","      <td>Third</td>\n","      <td>man</td>\n","      <td>True</td>\n","      <td>F</td>\n","      <td>Southampton</td>\n","      <td>no</td>\n","      <td>False</td>\n","      <td>15_25</td>\n","      <td>False</td>\n","      <td>-0.879247</td>\n","      <td>0</td>\n","      <td>0</td>\n","      <td>0</td>\n","      <td>0</td>\n","      <td>1</td>\n","      <td>0</td>\n","      <td>1</td>\n","      <td>0</td>\n","      <td>0</td>\n","      <td>1</td>\n","      <td>0</td>\n","      <td>0</td>\n","      <td>0</td>\n","      <td>0</td>\n","    </tr>\n","    <tr>\n","      <th>1</th>\n","      <td>1</td>\n","      <td>1</td>\n","      <td>female</td>\n","      <td>38.000000</td>\n","      <td>1</td>\n","      <td>0</td>\n","      <td>71.2833</td>\n","      <td>C</td>\n","      <td>First</td>\n","      <td>woman</td>\n","      <td>False</td>\n","      <td>C</td>\n","      <td>Cherbourg</td>\n","      <td>yes</td>\n","      <td>False</td>\n","      <td>35_45</td>\n","      <td>True</td>\n","      <td>1.360456</td>\n","      <td>1</td>\n","      <td>1</td>\n","      <td>1</td>\n","      <td>0</td>\n","      <td>0</td>\n","      <td>0</td>\n","      <td>0</td>\n","      <td>1</td>\n","      <td>0</td>\n","      <td>0</td>\n","      <td>0</td>\n","      <td>1</td>\n","      <td>0</td>\n","      <td>0</td>\n","    </tr>\n","    <tr>\n","      <th>2</th>\n","      <td>1</td>\n","      <td>3</td>\n","      <td>female</td>\n","      <td>26.000000</td>\n","      <td>0</td>\n","      <td>0</td>\n","      <td>7.9250</td>\n","      <td>S</td>\n","      <td>Third</td>\n","      <td>woman</td>\n","      <td>False</td>\n","      <td>F</td>\n","      <td>Southampton</td>\n","      <td>yes</td>\n","      <td>True</td>\n","      <td>25_35</td>\n","      <td>False</td>\n","      <td>-0.798092</td>\n","      <td>1</td>\n","      <td>0</td>\n","      <td>0</td>\n","      <td>0</td>\n","      <td>1</td>\n","      <td>0</td>\n","      <td>0</td>\n","      <td>1</td>\n","      <td>0</td>\n","      <td>0</td>\n","      <td>1</td>\n","      <td>0</td>\n","      <td>0</td>\n","      <td>0</td>\n","    </tr>\n","    <tr>\n","      <th>3</th>\n","      <td>1</td>\n","      <td>1</td>\n","      <td>female</td>\n","      <td>35.000000</td>\n","      <td>1</td>\n","      <td>0</td>\n","      <td>53.1000</td>\n","      <td>S</td>\n","      <td>First</td>\n","      <td>woman</td>\n","      <td>False</td>\n","      <td>C</td>\n","      <td>Southampton</td>\n","      <td>yes</td>\n","      <td>False</td>\n","      <td>25_35</td>\n","      <td>True</td>\n","      <td>1.061442</td>\n","      <td>1</td>\n","      <td>1</td>\n","      <td>0</td>\n","      <td>0</td>\n","      <td>1</td>\n","      <td>0</td>\n","      <td>0</td>\n","      <td>1</td>\n","      <td>0</td>\n","      <td>0</td>\n","      <td>1</td>\n","      <td>0</td>\n","      <td>0</td>\n","      <td>0</td>\n","    </tr>\n","    <tr>\n","      <th>4</th>\n","      <td>0</td>\n","      <td>3</td>\n","      <td>male</td>\n","      <td>35.000000</td>\n","      <td>0</td>\n","      <td>0</td>\n","      <td>8.0500</td>\n","      <td>S</td>\n","      <td>Third</td>\n","      <td>man</td>\n","      <td>True</td>\n","      <td>F</td>\n","      <td>Southampton</td>\n","      <td>no</td>\n","      <td>True</td>\n","      <td>25_35</td>\n","      <td>False</td>\n","      <td>-0.783739</td>\n","      <td>0</td>\n","      <td>0</td>\n","      <td>0</td>\n","      <td>0</td>\n","      <td>1</td>\n","      <td>0</td>\n","      <td>1</td>\n","      <td>0</td>\n","      <td>0</td>\n","      <td>0</td>\n","      <td>1</td>\n","      <td>0</td>\n","      <td>0</td>\n","      <td>0</td>\n","    </tr>\n","    <tr>\n","      <th>...</th>\n","      <td>...</td>\n","      <td>...</td>\n","      <td>...</td>\n","      <td>...</td>\n","      <td>...</td>\n","      <td>...</td>\n","      <td>...</td>\n","      <td>...</td>\n","      <td>...</td>\n","      <td>...</td>\n","      <td>...</td>\n","      <td>...</td>\n","      <td>...</td>\n","      <td>...</td>\n","      <td>...</td>\n","      <td>...</td>\n","      <td>...</td>\n","      <td>...</td>\n","      <td>...</td>\n","      <td>...</td>\n","      <td>...</td>\n","      <td>...</td>\n","      <td>...</td>\n","      <td>...</td>\n","      <td>...</td>\n","      <td>...</td>\n","      <td>...</td>\n","      <td>...</td>\n","      <td>...</td>\n","      <td>...</td>\n","      <td>...</td>\n","      <td>...</td>\n","    </tr>\n","    <tr>\n","      <th>886</th>\n","      <td>0</td>\n","      <td>2</td>\n","      <td>male</td>\n","      <td>27.000000</td>\n","      <td>0</td>\n","      <td>0</td>\n","      <td>13.0000</td>\n","      <td>S</td>\n","      <td>Second</td>\n","      <td>man</td>\n","      <td>True</td>\n","      <td>F</td>\n","      <td>Southampton</td>\n","      <td>no</td>\n","      <td>True</td>\n","      <td>25_35</td>\n","      <td>False</td>\n","      <td>-0.333511</td>\n","      <td>0</td>\n","      <td>0</td>\n","      <td>0</td>\n","      <td>0</td>\n","      <td>1</td>\n","      <td>0</td>\n","      <td>1</td>\n","      <td>0</td>\n","      <td>0</td>\n","      <td>0</td>\n","      <td>1</td>\n","      <td>0</td>\n","      <td>0</td>\n","      <td>0</td>\n","    </tr>\n","    <tr>\n","      <th>887</th>\n","      <td>1</td>\n","      <td>1</td>\n","      <td>female</td>\n","      <td>19.000000</td>\n","      <td>0</td>\n","      <td>0</td>\n","      <td>30.0000</td>\n","      <td>S</td>\n","      <td>First</td>\n","      <td>woman</td>\n","      <td>False</td>\n","      <td>B</td>\n","      <td>Southampton</td>\n","      <td>yes</td>\n","      <td>True</td>\n","      <td>15_25</td>\n","      <td>True</td>\n","      <td>0.486809</td>\n","      <td>1</td>\n","      <td>1</td>\n","      <td>0</td>\n","      <td>0</td>\n","      <td>1</td>\n","      <td>0</td>\n","      <td>0</td>\n","      <td>1</td>\n","      <td>0</td>\n","      <td>1</td>\n","      <td>0</td>\n","      <td>0</td>\n","      <td>0</td>\n","      <td>0</td>\n","    </tr>\n","    <tr>\n","      <th>888</th>\n","      <td>0</td>\n","      <td>3</td>\n","      <td>female</td>\n","      <td>31.333333</td>\n","      <td>1</td>\n","      <td>2</td>\n","      <td>23.4500</td>\n","      <td>S</td>\n","      <td>Third</td>\n","      <td>woman</td>\n","      <td>False</td>\n","      <td>F</td>\n","      <td>Southampton</td>\n","      <td>no</td>\n","      <td>False</td>\n","      <td>25_35</td>\n","      <td>False</td>\n","      <td>0.241871</td>\n","      <td>1</td>\n","      <td>0</td>\n","      <td>0</td>\n","      <td>0</td>\n","      <td>1</td>\n","      <td>0</td>\n","      <td>0</td>\n","      <td>1</td>\n","      <td>0</td>\n","      <td>0</td>\n","      <td>1</td>\n","      <td>0</td>\n","      <td>0</td>\n","      <td>0</td>\n","    </tr>\n","    <tr>\n","      <th>889</th>\n","      <td>1</td>\n","      <td>1</td>\n","      <td>male</td>\n","      <td>26.000000</td>\n","      <td>0</td>\n","      <td>0</td>\n","      <td>30.0000</td>\n","      <td>C</td>\n","      <td>First</td>\n","      <td>man</td>\n","      <td>True</td>\n","      <td>C</td>\n","      <td>Cherbourg</td>\n","      <td>yes</td>\n","      <td>True</td>\n","      <td>25_35</td>\n","      <td>False</td>\n","      <td>0.486809</td>\n","      <td>0</td>\n","      <td>1</td>\n","      <td>1</td>\n","      <td>0</td>\n","      <td>0</td>\n","      <td>0</td>\n","      <td>1</td>\n","      <td>0</td>\n","      <td>0</td>\n","      <td>0</td>\n","      <td>1</td>\n","      <td>0</td>\n","      <td>0</td>\n","      <td>0</td>\n","    </tr>\n","    <tr>\n","      <th>890</th>\n","      <td>0</td>\n","      <td>3</td>\n","      <td>male</td>\n","      <td>32.000000</td>\n","      <td>0</td>\n","      <td>0</td>\n","      <td>7.7500</td>\n","      <td>Q</td>\n","      <td>Third</td>\n","      <td>man</td>\n","      <td>True</td>\n","      <td>F</td>\n","      <td>Queenstown</td>\n","      <td>no</td>\n","      <td>True</td>\n","      <td>25_35</td>\n","      <td>False</td>\n","      <td>-0.818527</td>\n","      <td>0</td>\n","      <td>0</td>\n","      <td>0</td>\n","      <td>1</td>\n","      <td>0</td>\n","      <td>0</td>\n","      <td>1</td>\n","      <td>0</td>\n","      <td>0</td>\n","      <td>0</td>\n","      <td>1</td>\n","      <td>0</td>\n","      <td>0</td>\n","      <td>0</td>\n","    </tr>\n","  </tbody>\n","</table>\n","<p>891 rows × 32 columns</p>\n","</div>"],"text/plain":["     survived  pclass  ... age_group_45_60  age_group_60_80\n","0           0       3  ...               0                0\n","1           1       1  ...               0                0\n","2           1       3  ...               0                0\n","3           1       1  ...               0                0\n","4           0       3  ...               0                0\n","..        ...     ...  ...             ...              ...\n","886         0       2  ...               0                0\n","887         1       1  ...               0                0\n","888         0       3  ...               0                0\n","889         1       1  ...               0                0\n","890         0       3  ...               0                0\n","\n","[891 rows x 32 columns]"]},"execution_count":115,"metadata":{},"output_type":"execute_result"}]},{"cell_type":"markdown","metadata":{"id":"WTj_k701ZtiI"},"source":["#### Boolean thành Integer"]},{"cell_type":"code","metadata":{"id":"aM5gp3IxLWV7"},"source":["for col in ['adult_male', 'alone', 'female_from_2nd_class']:\n","    titanic_new[col] = titanic_new[col].astype(int)"],"execution_count":null,"outputs":[]},{"cell_type":"code","metadata":{"colab":{"base_uri":"https://localhost:8080/","height":937},"id":"deS0-PjkMIap","executionInfo":{"elapsed":1420,"status":"ok","timestamp":1635513324907,"user":{"displayName":"Samuel Doan","photoUrl":"https://lh3.googleusercontent.com/a-/AOh14GjbcdQ40FcyCSIyitBN2ptY3zHWA_09harKPYF2=s64","userId":"04384888964432338542"},"user_tz":-420},"outputId":"af77f5db-11af-4c75-e58c-c8388638eed2"},"source":["display(\n","    titanic_new.info(),\n","    titanic_new.head()\n",")"],"execution_count":null,"outputs":[{"name":"stdout","output_type":"stream","text":["<class 'pandas.core.frame.DataFrame'>\n","RangeIndex: 891 entries, 0 to 890\n","Data columns (total 32 columns):\n"," #   Column                   Non-Null Count  Dtype   \n","---  ------                   --------------  -----   \n"," 0   survived                 891 non-null    int64   \n"," 1   pclass                   891 non-null    int64   \n"," 2   sex                      891 non-null    object  \n"," 3   age                      891 non-null    float64 \n"," 4   sibsp                    891 non-null    int64   \n"," 5   parch                    891 non-null    int64   \n"," 6   fare                     891 non-null    float64 \n"," 7   embarked                 889 non-null    object  \n"," 8   class                    891 non-null    category\n"," 9   who                      891 non-null    object  \n"," 10  adult_male               891 non-null    int64   \n"," 11  deck                     891 non-null    category\n"," 12  embark_town              891 non-null    object  \n"," 13  alive                    891 non-null    object  \n"," 14  alone                    891 non-null    int64   \n"," 15  age_group                891 non-null    object  \n"," 16  female_from_2nd_class    891 non-null    int64   \n"," 17  fare_log_zscore          891 non-null    float64 \n"," 18  sex_encoded              891 non-null    int64   \n"," 19  deck_ABC                 891 non-null    int64   \n"," 20  embark_town_Cherbourg    891 non-null    uint8   \n"," 21  embark_town_Queenstown   891 non-null    uint8   \n"," 22  embark_town_Southampton  891 non-null    uint8   \n"," 23  who_child                891 non-null    uint8   \n"," 24  who_man                  891 non-null    uint8   \n"," 25  who_woman                891 non-null    uint8   \n"," 26  age_group_0_15           891 non-null    uint8   \n"," 27  age_group_15_25          891 non-null    uint8   \n"," 28  age_group_25_35          891 non-null    uint8   \n"," 29  age_group_35_45          891 non-null    uint8   \n"," 30  age_group_45_60          891 non-null    uint8   \n"," 31  age_group_60_80          891 non-null    uint8   \n","dtypes: category(2), float64(3), int64(9), object(6), uint8(12)\n","memory usage: 138.1+ KB\n"]},{"data":{"text/plain":["None"]},"metadata":{},"output_type":"display_data"},{"data":{"text/html":["<div>\n","<style scoped>\n","    .dataframe tbody tr th:only-of-type {\n","        vertical-align: middle;\n","    }\n","\n","    .dataframe tbody tr th {\n","        vertical-align: top;\n","    }\n","\n","    .dataframe thead th {\n","        text-align: right;\n","    }\n","</style>\n","<table border=\"1\" class=\"dataframe\">\n","  <thead>\n","    <tr style=\"text-align: right;\">\n","      <th></th>\n","      <th>survived</th>\n","      <th>pclass</th>\n","      <th>sex</th>\n","      <th>age</th>\n","      <th>sibsp</th>\n","      <th>parch</th>\n","      <th>fare</th>\n","      <th>embarked</th>\n","      <th>class</th>\n","      <th>who</th>\n","      <th>adult_male</th>\n","      <th>deck</th>\n","      <th>embark_town</th>\n","      <th>alive</th>\n","      <th>alone</th>\n","      <th>age_group</th>\n","      <th>female_from_2nd_class</th>\n","      <th>fare_log_zscore</th>\n","      <th>sex_encoded</th>\n","      <th>deck_ABC</th>\n","      <th>embark_town_Cherbourg</th>\n","      <th>embark_town_Queenstown</th>\n","      <th>embark_town_Southampton</th>\n","      <th>who_child</th>\n","      <th>who_man</th>\n","      <th>who_woman</th>\n","      <th>age_group_0_15</th>\n","      <th>age_group_15_25</th>\n","      <th>age_group_25_35</th>\n","      <th>age_group_35_45</th>\n","      <th>age_group_45_60</th>\n","      <th>age_group_60_80</th>\n","    </tr>\n","  </thead>\n","  <tbody>\n","    <tr>\n","      <th>0</th>\n","      <td>0</td>\n","      <td>3</td>\n","      <td>male</td>\n","      <td>22.0</td>\n","      <td>1</td>\n","      <td>0</td>\n","      <td>7.2500</td>\n","      <td>S</td>\n","      <td>Third</td>\n","      <td>man</td>\n","      <td>1</td>\n","      <td>F</td>\n","      <td>Southampton</td>\n","      <td>no</td>\n","      <td>0</td>\n","      <td>15_25</td>\n","      <td>0</td>\n","      <td>-0.879247</td>\n","      <td>0</td>\n","      <td>0</td>\n","      <td>0</td>\n","      <td>0</td>\n","      <td>1</td>\n","      <td>0</td>\n","      <td>1</td>\n","      <td>0</td>\n","      <td>0</td>\n","      <td>1</td>\n","      <td>0</td>\n","      <td>0</td>\n","      <td>0</td>\n","      <td>0</td>\n","    </tr>\n","    <tr>\n","      <th>1</th>\n","      <td>1</td>\n","      <td>1</td>\n","      <td>female</td>\n","      <td>38.0</td>\n","      <td>1</td>\n","      <td>0</td>\n","      <td>71.2833</td>\n","      <td>C</td>\n","      <td>First</td>\n","      <td>woman</td>\n","      <td>0</td>\n","      <td>C</td>\n","      <td>Cherbourg</td>\n","      <td>yes</td>\n","      <td>0</td>\n","      <td>35_45</td>\n","      <td>1</td>\n","      <td>1.360456</td>\n","      <td>1</td>\n","      <td>1</td>\n","      <td>1</td>\n","      <td>0</td>\n","      <td>0</td>\n","      <td>0</td>\n","      <td>0</td>\n","      <td>1</td>\n","      <td>0</td>\n","      <td>0</td>\n","      <td>0</td>\n","      <td>1</td>\n","      <td>0</td>\n","      <td>0</td>\n","    </tr>\n","    <tr>\n","      <th>2</th>\n","      <td>1</td>\n","      <td>3</td>\n","      <td>female</td>\n","      <td>26.0</td>\n","      <td>0</td>\n","      <td>0</td>\n","      <td>7.9250</td>\n","      <td>S</td>\n","      <td>Third</td>\n","      <td>woman</td>\n","      <td>0</td>\n","      <td>F</td>\n","      <td>Southampton</td>\n","      <td>yes</td>\n","      <td>1</td>\n","      <td>25_35</td>\n","      <td>0</td>\n","      <td>-0.798092</td>\n","      <td>1</td>\n","      <td>0</td>\n","      <td>0</td>\n","      <td>0</td>\n","      <td>1</td>\n","      <td>0</td>\n","      <td>0</td>\n","      <td>1</td>\n","      <td>0</td>\n","      <td>0</td>\n","      <td>1</td>\n","      <td>0</td>\n","      <td>0</td>\n","      <td>0</td>\n","    </tr>\n","    <tr>\n","      <th>3</th>\n","      <td>1</td>\n","      <td>1</td>\n","      <td>female</td>\n","      <td>35.0</td>\n","      <td>1</td>\n","      <td>0</td>\n","      <td>53.1000</td>\n","      <td>S</td>\n","      <td>First</td>\n","      <td>woman</td>\n","      <td>0</td>\n","      <td>C</td>\n","      <td>Southampton</td>\n","      <td>yes</td>\n","      <td>0</td>\n","      <td>25_35</td>\n","      <td>1</td>\n","      <td>1.061442</td>\n","      <td>1</td>\n","      <td>1</td>\n","      <td>0</td>\n","      <td>0</td>\n","      <td>1</td>\n","      <td>0</td>\n","      <td>0</td>\n","      <td>1</td>\n","      <td>0</td>\n","      <td>0</td>\n","      <td>1</td>\n","      <td>0</td>\n","      <td>0</td>\n","      <td>0</td>\n","    </tr>\n","    <tr>\n","      <th>4</th>\n","      <td>0</td>\n","      <td>3</td>\n","      <td>male</td>\n","      <td>35.0</td>\n","      <td>0</td>\n","      <td>0</td>\n","      <td>8.0500</td>\n","      <td>S</td>\n","      <td>Third</td>\n","      <td>man</td>\n","      <td>1</td>\n","      <td>F</td>\n","      <td>Southampton</td>\n","      <td>no</td>\n","      <td>1</td>\n","      <td>25_35</td>\n","      <td>0</td>\n","      <td>-0.783739</td>\n","      <td>0</td>\n","      <td>0</td>\n","      <td>0</td>\n","      <td>0</td>\n","      <td>1</td>\n","      <td>0</td>\n","      <td>1</td>\n","      <td>0</td>\n","      <td>0</td>\n","      <td>0</td>\n","      <td>1</td>\n","      <td>0</td>\n","      <td>0</td>\n","      <td>0</td>\n","    </tr>\n","  </tbody>\n","</table>\n","</div>"],"text/plain":["   survived  pclass     sex  ...  age_group_35_45  age_group_45_60  age_group_60_80\n","0         0       3    male  ...                0                0                0\n","1         1       1  female  ...                1                0                0\n","2         1       3  female  ...                0                0                0\n","3         1       1  female  ...                0                0                0\n","4         0       3    male  ...                0                0                0\n","\n","[5 rows x 32 columns]"]},"metadata":{},"output_type":"display_data"}]},{"cell_type":"markdown","metadata":{"id":"DTMRqJgRZtiK"},"source":["### Train-Test Split"]},{"cell_type":"code","metadata":{"id":"8RIYj7rdVX1V"},"source":["# Khi xây dựng mô hình: chia dữ liệu 02 phần phần huấn luyện và kiểm thử \n","# !pip install sklearn\n","\n","from sklearn.model_selection import train_test_split"],"execution_count":null,"outputs":[]},{"cell_type":"code","metadata":{"colab":{"base_uri":"https://localhost:8080/"},"id":"t4l6X0pEN-D6","executionInfo":{"elapsed":1581,"status":"ok","timestamp":1635513805857,"user":{"displayName":"Samuel Doan","photoUrl":"https://lh3.googleusercontent.com/a-/AOh14GjbcdQ40FcyCSIyitBN2ptY3zHWA_09harKPYF2=s64","userId":"04384888964432338542"},"user_tz":-420},"outputId":"ca629400-5dbd-48e0-af52-4593dc3359de"},"source":["titanic_new.columns[:15]"],"execution_count":null,"outputs":[{"data":{"text/plain":["Index(['survived', 'pclass', 'sex', 'age', 'sibsp', 'parch', 'fare',\n","       'embarked', 'class', 'who', 'adult_male', 'deck', 'embark_town',\n","       'alive', 'alone'],\n","      dtype='object')"]},"execution_count":120,"metadata":{},"output_type":"execute_result"}]},{"cell_type":"code","metadata":{"id":"Iey9FEeuNtHB"},"source":["training_data = titanic_new.drop(columns=[\n","    'sex', \n","    'fare',\n","    'embarked', \n","    'class', \n","    'who', \n","    'deck', \n","    'embark_town',\n","    'alive',\n","    'age_group'                       \n","])"],"execution_count":null,"outputs":[]},{"cell_type":"code","metadata":{"colab":{"base_uri":"https://localhost:8080/","height":777},"id":"qJZFVYvDObP4","executionInfo":{"elapsed":23,"status":"ok","timestamp":1635513971505,"user":{"displayName":"Samuel Doan","photoUrl":"https://lh3.googleusercontent.com/a-/AOh14GjbcdQ40FcyCSIyitBN2ptY3zHWA_09harKPYF2=s64","userId":"04384888964432338542"},"user_tz":-420},"outputId":"83119084-9854-4acb-8522-1fbd975c6ef6"},"source":["display(\n","    training_data.info(),\n","    training_data.head()\n",")"],"execution_count":null,"outputs":[{"name":"stdout","output_type":"stream","text":["<class 'pandas.core.frame.DataFrame'>\n","RangeIndex: 891 entries, 0 to 890\n","Data columns (total 23 columns):\n"," #   Column                   Non-Null Count  Dtype  \n","---  ------                   --------------  -----  \n"," 0   survived                 891 non-null    int64  \n"," 1   pclass                   891 non-null    int64  \n"," 2   age                      891 non-null    float64\n"," 3   sibsp                    891 non-null    int64  \n"," 4   parch                    891 non-null    int64  \n"," 5   adult_male               891 non-null    int64  \n"," 6   alone                    891 non-null    int64  \n"," 7   female_from_2nd_class    891 non-null    int64  \n"," 8   fare_log_zscore          891 non-null    float64\n"," 9   sex_encoded              891 non-null    int64  \n"," 10  deck_ABC                 891 non-null    int64  \n"," 11  embark_town_Cherbourg    891 non-null    uint8  \n"," 12  embark_town_Queenstown   891 non-null    uint8  \n"," 13  embark_town_Southampton  891 non-null    uint8  \n"," 14  who_child                891 non-null    uint8  \n"," 15  who_man                  891 non-null    uint8  \n"," 16  who_woman                891 non-null    uint8  \n"," 17  age_group_0_15           891 non-null    uint8  \n"," 18  age_group_15_25          891 non-null    uint8  \n"," 19  age_group_25_35          891 non-null    uint8  \n"," 20  age_group_35_45          891 non-null    uint8  \n"," 21  age_group_45_60          891 non-null    uint8  \n"," 22  age_group_60_80          891 non-null    uint8  \n","dtypes: float64(2), int64(9), uint8(12)\n","memory usage: 87.1 KB\n"]},{"data":{"text/plain":["None"]},"metadata":{},"output_type":"display_data"},{"data":{"text/html":["<div>\n","<style scoped>\n","    .dataframe tbody tr th:only-of-type {\n","        vertical-align: middle;\n","    }\n","\n","    .dataframe tbody tr th {\n","        vertical-align: top;\n","    }\n","\n","    .dataframe thead th {\n","        text-align: right;\n","    }\n","</style>\n","<table border=\"1\" class=\"dataframe\">\n","  <thead>\n","    <tr style=\"text-align: right;\">\n","      <th></th>\n","      <th>survived</th>\n","      <th>pclass</th>\n","      <th>age</th>\n","      <th>sibsp</th>\n","      <th>parch</th>\n","      <th>adult_male</th>\n","      <th>alone</th>\n","      <th>female_from_2nd_class</th>\n","      <th>fare_log_zscore</th>\n","      <th>sex_encoded</th>\n","      <th>deck_ABC</th>\n","      <th>embark_town_Cherbourg</th>\n","      <th>embark_town_Queenstown</th>\n","      <th>embark_town_Southampton</th>\n","      <th>who_child</th>\n","      <th>who_man</th>\n","      <th>who_woman</th>\n","      <th>age_group_0_15</th>\n","      <th>age_group_15_25</th>\n","      <th>age_group_25_35</th>\n","      <th>age_group_35_45</th>\n","      <th>age_group_45_60</th>\n","      <th>age_group_60_80</th>\n","    </tr>\n","  </thead>\n","  <tbody>\n","    <tr>\n","      <th>0</th>\n","      <td>0</td>\n","      <td>3</td>\n","      <td>22.0</td>\n","      <td>1</td>\n","      <td>0</td>\n","      <td>1</td>\n","      <td>0</td>\n","      <td>0</td>\n","      <td>-0.879247</td>\n","      <td>0</td>\n","      <td>0</td>\n","      <td>0</td>\n","      <td>0</td>\n","      <td>1</td>\n","      <td>0</td>\n","      <td>1</td>\n","      <td>0</td>\n","      <td>0</td>\n","      <td>1</td>\n","      <td>0</td>\n","      <td>0</td>\n","      <td>0</td>\n","      <td>0</td>\n","    </tr>\n","    <tr>\n","      <th>1</th>\n","      <td>1</td>\n","      <td>1</td>\n","      <td>38.0</td>\n","      <td>1</td>\n","      <td>0</td>\n","      <td>0</td>\n","      <td>0</td>\n","      <td>1</td>\n","      <td>1.360456</td>\n","      <td>1</td>\n","      <td>1</td>\n","      <td>1</td>\n","      <td>0</td>\n","      <td>0</td>\n","      <td>0</td>\n","      <td>0</td>\n","      <td>1</td>\n","      <td>0</td>\n","      <td>0</td>\n","      <td>0</td>\n","      <td>1</td>\n","      <td>0</td>\n","      <td>0</td>\n","    </tr>\n","    <tr>\n","      <th>2</th>\n","      <td>1</td>\n","      <td>3</td>\n","      <td>26.0</td>\n","      <td>0</td>\n","      <td>0</td>\n","      <td>0</td>\n","      <td>1</td>\n","      <td>0</td>\n","      <td>-0.798092</td>\n","      <td>1</td>\n","      <td>0</td>\n","      <td>0</td>\n","      <td>0</td>\n","      <td>1</td>\n","      <td>0</td>\n","      <td>0</td>\n","      <td>1</td>\n","      <td>0</td>\n","      <td>0</td>\n","      <td>1</td>\n","      <td>0</td>\n","      <td>0</td>\n","      <td>0</td>\n","    </tr>\n","    <tr>\n","      <th>3</th>\n","      <td>1</td>\n","      <td>1</td>\n","      <td>35.0</td>\n","      <td>1</td>\n","      <td>0</td>\n","      <td>0</td>\n","      <td>0</td>\n","      <td>1</td>\n","      <td>1.061442</td>\n","      <td>1</td>\n","      <td>1</td>\n","      <td>0</td>\n","      <td>0</td>\n","      <td>1</td>\n","      <td>0</td>\n","      <td>0</td>\n","      <td>1</td>\n","      <td>0</td>\n","      <td>0</td>\n","      <td>1</td>\n","      <td>0</td>\n","      <td>0</td>\n","      <td>0</td>\n","    </tr>\n","    <tr>\n","      <th>4</th>\n","      <td>0</td>\n","      <td>3</td>\n","      <td>35.0</td>\n","      <td>0</td>\n","      <td>0</td>\n","      <td>1</td>\n","      <td>1</td>\n","      <td>0</td>\n","      <td>-0.783739</td>\n","      <td>0</td>\n","      <td>0</td>\n","      <td>0</td>\n","      <td>0</td>\n","      <td>1</td>\n","      <td>0</td>\n","      <td>1</td>\n","      <td>0</td>\n","      <td>0</td>\n","      <td>0</td>\n","      <td>1</td>\n","      <td>0</td>\n","      <td>0</td>\n","      <td>0</td>\n","    </tr>\n","  </tbody>\n","</table>\n","</div>"],"text/plain":["   survived  pclass   age  ...  age_group_35_45  age_group_45_60  age_group_60_80\n","0         0       3  22.0  ...                0                0                0\n","1         1       1  38.0  ...                1                0                0\n","2         1       3  26.0  ...                0                0                0\n","3         1       1  35.0  ...                0                0                0\n","4         0       3  35.0  ...                0                0                0\n","\n","[5 rows x 23 columns]"]},"metadata":{},"output_type":"display_data"}]},{"cell_type":"code","metadata":{"colab":{"base_uri":"https://localhost:8080/","height":850},"id":"iCFQMP9zOuGw","executionInfo":{"elapsed":1600,"status":"ok","timestamp":1635514164296,"user":{"displayName":"Samuel Doan","photoUrl":"https://lh3.googleusercontent.com/a-/AOh14GjbcdQ40FcyCSIyitBN2ptY3zHWA_09harKPYF2=s64","userId":"04384888964432338542"},"user_tz":-420},"outputId":"f74bb248-02db-4673-e223-40d70e36410c"},"source":["train, test = train_test_split(training_data, random_state=420) # mỗi lần chạy lại là xáo lại dữ liệu và trả random\n","# tuy nhiên cùng random_state thì kết quả giống nhau\n","display(\n","    train,\n","    test\n",")"],"execution_count":null,"outputs":[{"data":{"text/html":["<div>\n","<style scoped>\n","    .dataframe tbody tr th:only-of-type {\n","        vertical-align: middle;\n","    }\n","\n","    .dataframe tbody tr th {\n","        vertical-align: top;\n","    }\n","\n","    .dataframe thead th {\n","        text-align: right;\n","    }\n","</style>\n","<table border=\"1\" class=\"dataframe\">\n","  <thead>\n","    <tr style=\"text-align: right;\">\n","      <th></th>\n","      <th>survived</th>\n","      <th>pclass</th>\n","      <th>age</th>\n","      <th>sibsp</th>\n","      <th>parch</th>\n","      <th>adult_male</th>\n","      <th>alone</th>\n","      <th>female_from_2nd_class</th>\n","      <th>fare_log_zscore</th>\n","      <th>sex_encoded</th>\n","      <th>deck_ABC</th>\n","      <th>embark_town_Cherbourg</th>\n","      <th>embark_town_Queenstown</th>\n","      <th>embark_town_Southampton</th>\n","      <th>who_child</th>\n","      <th>who_man</th>\n","      <th>who_woman</th>\n","      <th>age_group_0_15</th>\n","      <th>age_group_15_25</th>\n","      <th>age_group_25_35</th>\n","      <th>age_group_35_45</th>\n","      <th>age_group_45_60</th>\n","      <th>age_group_60_80</th>\n","    </tr>\n","  </thead>\n","  <tbody>\n","    <tr>\n","      <th>254</th>\n","      <td>0</td>\n","      <td>3</td>\n","      <td>41.000000</td>\n","      <td>0</td>\n","      <td>2</td>\n","      <td>0</td>\n","      <td>0</td>\n","      <td>0</td>\n","      <td>0.095294</td>\n","      <td>1</td>\n","      <td>0</td>\n","      <td>0</td>\n","      <td>0</td>\n","      <td>1</td>\n","      <td>0</td>\n","      <td>0</td>\n","      <td>1</td>\n","      <td>0</td>\n","      <td>0</td>\n","      <td>0</td>\n","      <td>1</td>\n","      <td>0</td>\n","      <td>0</td>\n","    </tr>\n","    <tr>\n","      <th>451</th>\n","      <td>0</td>\n","      <td>3</td>\n","      <td>32.701923</td>\n","      <td>1</td>\n","      <td>0</td>\n","      <td>1</td>\n","      <td>0</td>\n","      <td>0</td>\n","      <td>0.083267</td>\n","      <td>0</td>\n","      <td>0</td>\n","      <td>0</td>\n","      <td>0</td>\n","      <td>1</td>\n","      <td>0</td>\n","      <td>1</td>\n","      <td>0</td>\n","      <td>0</td>\n","      <td>0</td>\n","      <td>1</td>\n","      <td>0</td>\n","      <td>0</td>\n","      <td>0</td>\n","    </tr>\n","    <tr>\n","      <th>785</th>\n","      <td>0</td>\n","      <td>3</td>\n","      <td>25.000000</td>\n","      <td>0</td>\n","      <td>0</td>\n","      <td>1</td>\n","      <td>1</td>\n","      <td>0</td>\n","      <td>-0.879247</td>\n","      <td>0</td>\n","      <td>0</td>\n","      <td>0</td>\n","      <td>0</td>\n","      <td>1</td>\n","      <td>0</td>\n","      <td>1</td>\n","      <td>0</td>\n","      <td>0</td>\n","      <td>1</td>\n","      <td>0</td>\n","      <td>0</td>\n","      <td>0</td>\n","      <td>0</td>\n","    </tr>\n","    <tr>\n","      <th>311</th>\n","      <td>1</td>\n","      <td>1</td>\n","      <td>18.000000</td>\n","      <td>2</td>\n","      <td>2</td>\n","      <td>0</td>\n","      <td>0</td>\n","      <td>1</td>\n","      <td>2.694740</td>\n","      <td>1</td>\n","      <td>1</td>\n","      <td>1</td>\n","      <td>0</td>\n","      <td>0</td>\n","      <td>0</td>\n","      <td>0</td>\n","      <td>1</td>\n","      <td>0</td>\n","      <td>1</td>\n","      <td>0</td>\n","      <td>0</td>\n","      <td>0</td>\n","      <td>0</td>\n","    </tr>\n","    <tr>\n","      <th>19</th>\n","      <td>1</td>\n","      <td>3</td>\n","      <td>31.084211</td>\n","      <td>0</td>\n","      <td>0</td>\n","      <td>0</td>\n","      <td>1</td>\n","      <td>0</td>\n","      <td>-0.882379</td>\n","      <td>1</td>\n","      <td>0</td>\n","      <td>1</td>\n","      <td>0</td>\n","      <td>0</td>\n","      <td>0</td>\n","      <td>0</td>\n","      <td>1</td>\n","      <td>0</td>\n","      <td>0</td>\n","      <td>1</td>\n","      <td>0</td>\n","      <td>0</td>\n","      <td>0</td>\n","    </tr>\n","    <tr>\n","      <th>...</th>\n","      <td>...</td>\n","      <td>...</td>\n","      <td>...</td>\n","      <td>...</td>\n","      <td>...</td>\n","      <td>...</td>\n","      <td>...</td>\n","      <td>...</td>\n","      <td>...</td>\n","      <td>...</td>\n","      <td>...</td>\n","      <td>...</td>\n","      <td>...</td>\n","      <td>...</td>\n","      <td>...</td>\n","      <td>...</td>\n","      <td>...</td>\n","      <td>...</td>\n","      <td>...</td>\n","      <td>...</td>\n","      <td>...</td>\n","      <td>...</td>\n","      <td>...</td>\n","    </tr>\n","    <tr>\n","      <th>627</th>\n","      <td>1</td>\n","      <td>1</td>\n","      <td>21.000000</td>\n","      <td>0</td>\n","      <td>0</td>\n","      <td>0</td>\n","      <td>1</td>\n","      <td>1</td>\n","      <td>1.451604</td>\n","      <td>1</td>\n","      <td>0</td>\n","      <td>0</td>\n","      <td>0</td>\n","      <td>1</td>\n","      <td>0</td>\n","      <td>0</td>\n","      <td>1</td>\n","      <td>0</td>\n","      <td>1</td>\n","      <td>0</td>\n","      <td>0</td>\n","      <td>0</td>\n","      <td>0</td>\n","    </tr>\n","    <tr>\n","      <th>799</th>\n","      <td>0</td>\n","      <td>3</td>\n","      <td>30.000000</td>\n","      <td>1</td>\n","      <td>1</td>\n","      <td>0</td>\n","      <td>0</td>\n","      <td>0</td>\n","      <td>0.271000</td>\n","      <td>1</td>\n","      <td>0</td>\n","      <td>0</td>\n","      <td>0</td>\n","      <td>1</td>\n","      <td>0</td>\n","      <td>0</td>\n","      <td>1</td>\n","      <td>0</td>\n","      <td>0</td>\n","      <td>1</td>\n","      <td>0</td>\n","      <td>0</td>\n","      <td>0</td>\n","    </tr>\n","    <tr>\n","      <th>575</th>\n","      <td>0</td>\n","      <td>3</td>\n","      <td>19.000000</td>\n","      <td>0</td>\n","      <td>0</td>\n","      <td>1</td>\n","      <td>1</td>\n","      <td>0</td>\n","      <td>-0.228477</td>\n","      <td>0</td>\n","      <td>0</td>\n","      <td>0</td>\n","      <td>0</td>\n","      <td>1</td>\n","      <td>0</td>\n","      <td>1</td>\n","      <td>0</td>\n","      <td>0</td>\n","      <td>1</td>\n","      <td>0</td>\n","      <td>0</td>\n","      <td>0</td>\n","      <td>0</td>\n","    </tr>\n","    <tr>\n","      <th>390</th>\n","      <td>1</td>\n","      <td>1</td>\n","      <td>36.000000</td>\n","      <td>1</td>\n","      <td>2</td>\n","      <td>1</td>\n","      <td>0</td>\n","      <td>0</td>\n","      <td>1.892109</td>\n","      <td>0</td>\n","      <td>1</td>\n","      <td>0</td>\n","      <td>0</td>\n","      <td>1</td>\n","      <td>0</td>\n","      <td>1</td>\n","      <td>0</td>\n","      <td>0</td>\n","      <td>0</td>\n","      <td>0</td>\n","      <td>1</td>\n","      <td>0</td>\n","      <td>0</td>\n","    </tr>\n","    <tr>\n","      <th>72</th>\n","      <td>0</td>\n","      <td>2</td>\n","      <td>21.000000</td>\n","      <td>0</td>\n","      <td>0</td>\n","      <td>1</td>\n","      <td>1</td>\n","      <td>0</td>\n","      <td>1.391627</td>\n","      <td>0</td>\n","      <td>0</td>\n","      <td>0</td>\n","      <td>0</td>\n","      <td>1</td>\n","      <td>0</td>\n","      <td>1</td>\n","      <td>0</td>\n","      <td>0</td>\n","      <td>1</td>\n","      <td>0</td>\n","      <td>0</td>\n","      <td>0</td>\n","      <td>0</td>\n","    </tr>\n","  </tbody>\n","</table>\n","<p>668 rows × 23 columns</p>\n","</div>"],"text/plain":["     survived  pclass  ...  age_group_45_60  age_group_60_80\n","254         0       3  ...                0                0\n","451         0       3  ...                0                0\n","785         0       3  ...                0                0\n","311         1       1  ...                0                0\n","19          1       3  ...                0                0\n","..        ...     ...  ...              ...              ...\n","627         1       1  ...                0                0\n","799         0       3  ...                0                0\n","575         0       3  ...                0                0\n","390         1       1  ...                0                0\n","72          0       2  ...                0                0\n","\n","[668 rows x 23 columns]"]},"metadata":{},"output_type":"display_data"},{"data":{"text/html":["<div>\n","<style scoped>\n","    .dataframe tbody tr th:only-of-type {\n","        vertical-align: middle;\n","    }\n","\n","    .dataframe tbody tr th {\n","        vertical-align: top;\n","    }\n","\n","    .dataframe thead th {\n","        text-align: right;\n","    }\n","</style>\n","<table border=\"1\" class=\"dataframe\">\n","  <thead>\n","    <tr style=\"text-align: right;\">\n","      <th></th>\n","      <th>survived</th>\n","      <th>pclass</th>\n","      <th>age</th>\n","      <th>sibsp</th>\n","      <th>parch</th>\n","      <th>adult_male</th>\n","      <th>alone</th>\n","      <th>female_from_2nd_class</th>\n","      <th>fare_log_zscore</th>\n","      <th>sex_encoded</th>\n","      <th>deck_ABC</th>\n","      <th>embark_town_Cherbourg</th>\n","      <th>embark_town_Queenstown</th>\n","      <th>embark_town_Southampton</th>\n","      <th>who_child</th>\n","      <th>who_man</th>\n","      <th>who_woman</th>\n","      <th>age_group_0_15</th>\n","      <th>age_group_15_25</th>\n","      <th>age_group_25_35</th>\n","      <th>age_group_35_45</th>\n","      <th>age_group_45_60</th>\n","      <th>age_group_60_80</th>\n","    </tr>\n","  </thead>\n","  <tbody>\n","    <tr>\n","      <th>722</th>\n","      <td>0</td>\n","      <td>2</td>\n","      <td>34.000000</td>\n","      <td>0</td>\n","      <td>0</td>\n","      <td>1</td>\n","      <td>1</td>\n","      <td>0</td>\n","      <td>-0.333511</td>\n","      <td>0</td>\n","      <td>0</td>\n","      <td>0</td>\n","      <td>0</td>\n","      <td>1</td>\n","      <td>0</td>\n","      <td>1</td>\n","      <td>0</td>\n","      <td>0</td>\n","      <td>0</td>\n","      <td>1</td>\n","      <td>0</td>\n","      <td>0</td>\n","      <td>0</td>\n","    </tr>\n","    <tr>\n","      <th>885</th>\n","      <td>0</td>\n","      <td>3</td>\n","      <td>39.000000</td>\n","      <td>0</td>\n","      <td>5</td>\n","      <td>0</td>\n","      <td>0</td>\n","      <td>0</td>\n","      <td>0.457263</td>\n","      <td>1</td>\n","      <td>0</td>\n","      <td>0</td>\n","      <td>1</td>\n","      <td>0</td>\n","      <td>0</td>\n","      <td>0</td>\n","      <td>1</td>\n","      <td>0</td>\n","      <td>0</td>\n","      <td>0</td>\n","      <td>1</td>\n","      <td>0</td>\n","      <td>0</td>\n","    </tr>\n","    <tr>\n","      <th>289</th>\n","      <td>1</td>\n","      <td>3</td>\n","      <td>22.000000</td>\n","      <td>0</td>\n","      <td>0</td>\n","      <td>0</td>\n","      <td>1</td>\n","      <td>0</td>\n","      <td>-0.818527</td>\n","      <td>1</td>\n","      <td>0</td>\n","      <td>0</td>\n","      <td>1</td>\n","      <td>0</td>\n","      <td>0</td>\n","      <td>0</td>\n","      <td>1</td>\n","      <td>0</td>\n","      <td>1</td>\n","      <td>0</td>\n","      <td>0</td>\n","      <td>0</td>\n","      <td>0</td>\n","    </tr>\n","    <tr>\n","      <th>131</th>\n","      <td>0</td>\n","      <td>3</td>\n","      <td>20.000000</td>\n","      <td>0</td>\n","      <td>0</td>\n","      <td>1</td>\n","      <td>1</td>\n","      <td>0</td>\n","      <td>-0.904572</td>\n","      <td>0</td>\n","      <td>0</td>\n","      <td>0</td>\n","      <td>0</td>\n","      <td>1</td>\n","      <td>0</td>\n","      <td>1</td>\n","      <td>0</td>\n","      <td>0</td>\n","      <td>1</td>\n","      <td>0</td>\n","      <td>0</td>\n","      <td>0</td>\n","      <td>0</td>\n","    </tr>\n","    <tr>\n","      <th>615</th>\n","      <td>1</td>\n","      <td>2</td>\n","      <td>24.000000</td>\n","      <td>1</td>\n","      <td>2</td>\n","      <td>0</td>\n","      <td>0</td>\n","      <td>1</td>\n","      <td>1.266613</td>\n","      <td>1</td>\n","      <td>0</td>\n","      <td>0</td>\n","      <td>0</td>\n","      <td>1</td>\n","      <td>0</td>\n","      <td>0</td>\n","      <td>1</td>\n","      <td>0</td>\n","      <td>1</td>\n","      <td>0</td>\n","      <td>0</td>\n","      <td>0</td>\n","      <td>0</td>\n","    </tr>\n","    <tr>\n","      <th>...</th>\n","      <td>...</td>\n","      <td>...</td>\n","      <td>...</td>\n","      <td>...</td>\n","      <td>...</td>\n","      <td>...</td>\n","      <td>...</td>\n","      <td>...</td>\n","      <td>...</td>\n","      <td>...</td>\n","      <td>...</td>\n","      <td>...</td>\n","      <td>...</td>\n","      <td>...</td>\n","      <td>...</td>\n","      <td>...</td>\n","      <td>...</td>\n","      <td>...</td>\n","      <td>...</td>\n","      <td>...</td>\n","      <td>...</td>\n","      <td>...</td>\n","      <td>...</td>\n","    </tr>\n","    <tr>\n","      <th>522</th>\n","      <td>0</td>\n","      <td>3</td>\n","      <td>32.973597</td>\n","      <td>0</td>\n","      <td>0</td>\n","      <td>1</td>\n","      <td>1</td>\n","      <td>0</td>\n","      <td>-0.882379</td>\n","      <td>0</td>\n","      <td>0</td>\n","      <td>1</td>\n","      <td>0</td>\n","      <td>0</td>\n","      <td>0</td>\n","      <td>1</td>\n","      <td>0</td>\n","      <td>0</td>\n","      <td>0</td>\n","      <td>1</td>\n","      <td>0</td>\n","      <td>0</td>\n","      <td>0</td>\n","    </tr>\n","    <tr>\n","      <th>531</th>\n","      <td>0</td>\n","      <td>3</td>\n","      <td>32.973597</td>\n","      <td>0</td>\n","      <td>0</td>\n","      <td>1</td>\n","      <td>1</td>\n","      <td>0</td>\n","      <td>-0.881852</td>\n","      <td>0</td>\n","      <td>0</td>\n","      <td>1</td>\n","      <td>0</td>\n","      <td>0</td>\n","      <td>0</td>\n","      <td>1</td>\n","      <td>0</td>\n","      <td>0</td>\n","      <td>0</td>\n","      <td>1</td>\n","      <td>0</td>\n","      <td>0</td>\n","      <td>0</td>\n","    </tr>\n","    <tr>\n","      <th>209</th>\n","      <td>1</td>\n","      <td>1</td>\n","      <td>40.000000</td>\n","      <td>0</td>\n","      <td>0</td>\n","      <td>1</td>\n","      <td>1</td>\n","      <td>0</td>\n","      <td>0.519572</td>\n","      <td>0</td>\n","      <td>1</td>\n","      <td>1</td>\n","      <td>0</td>\n","      <td>0</td>\n","      <td>0</td>\n","      <td>1</td>\n","      <td>0</td>\n","      <td>0</td>\n","      <td>0</td>\n","      <td>0</td>\n","      <td>1</td>\n","      <td>0</td>\n","      <td>0</td>\n","    </tr>\n","    <tr>\n","      <th>860</th>\n","      <td>0</td>\n","      <td>3</td>\n","      <td>41.000000</td>\n","      <td>2</td>\n","      <td>0</td>\n","      <td>1</td>\n","      <td>0</td>\n","      <td>0</td>\n","      <td>-0.254891</td>\n","      <td>0</td>\n","      <td>0</td>\n","      <td>0</td>\n","      <td>0</td>\n","      <td>1</td>\n","      <td>0</td>\n","      <td>1</td>\n","      <td>0</td>\n","      <td>0</td>\n","      <td>0</td>\n","      <td>0</td>\n","      <td>1</td>\n","      <td>0</td>\n","      <td>0</td>\n","    </tr>\n","    <tr>\n","      <th>848</th>\n","      <td>0</td>\n","      <td>2</td>\n","      <td>28.000000</td>\n","      <td>0</td>\n","      <td>1</td>\n","      <td>1</td>\n","      <td>0</td>\n","      <td>0</td>\n","      <td>0.582133</td>\n","      <td>0</td>\n","      <td>0</td>\n","      <td>0</td>\n","      <td>0</td>\n","      <td>1</td>\n","      <td>0</td>\n","      <td>1</td>\n","      <td>0</td>\n","      <td>0</td>\n","      <td>0</td>\n","      <td>1</td>\n","      <td>0</td>\n","      <td>0</td>\n","      <td>0</td>\n","    </tr>\n","  </tbody>\n","</table>\n","<p>223 rows × 23 columns</p>\n","</div>"],"text/plain":["     survived  pclass  ...  age_group_45_60  age_group_60_80\n","722         0       2  ...                0                0\n","885         0       3  ...                0                0\n","289         1       3  ...                0                0\n","131         0       3  ...                0                0\n","615         1       2  ...                0                0\n","..        ...     ...  ...              ...              ...\n","522         0       3  ...                0                0\n","531         0       3  ...                0                0\n","209         1       1  ...                0                0\n","860         0       3  ...                0                0\n","848         0       2  ...                0                0\n","\n","[223 rows x 23 columns]"]},"metadata":{},"output_type":"display_data"}]},{"cell_type":"code","metadata":{"colab":{"base_uri":"https://localhost:8080/","height":1000},"id":"IShKYXXiPvqo","executionInfo":{"elapsed":22,"status":"ok","timestamp":1635514457115,"user":{"displayName":"Samuel Doan","photoUrl":"https://lh3.googleusercontent.com/a-/AOh14GjbcdQ40FcyCSIyitBN2ptY3zHWA_09harKPYF2=s64","userId":"04384888964432338542"},"user_tz":-420},"outputId":"b7f99aa7-2e8b-4970-c02f-79ed23794347"},"source":["# X_data = training_data.drop(columns=['survived'])\n","# Y_data = training_data['survived']\n","X_data, Y_data = training_data.drop(columns=['survived']), training_data['survived']\n","x_train, x_test, y_train, y_test = train_test_split(X_data, Y_data, random_state=420, test_size=0.2)\n","\n","display(\n","    x_train, x_test, y_train, y_test\n",")"],"execution_count":null,"outputs":[{"data":{"text/html":["<div>\n","<style scoped>\n","    .dataframe tbody tr th:only-of-type {\n","        vertical-align: middle;\n","    }\n","\n","    .dataframe tbody tr th {\n","        vertical-align: top;\n","    }\n","\n","    .dataframe thead th {\n","        text-align: right;\n","    }\n","</style>\n","<table border=\"1\" class=\"dataframe\">\n","  <thead>\n","    <tr style=\"text-align: right;\">\n","      <th></th>\n","      <th>pclass</th>\n","      <th>age</th>\n","      <th>sibsp</th>\n","      <th>parch</th>\n","      <th>adult_male</th>\n","      <th>alone</th>\n","      <th>female_from_2nd_class</th>\n","      <th>fare_log_zscore</th>\n","      <th>sex_encoded</th>\n","      <th>deck_ABC</th>\n","      <th>embark_town_Cherbourg</th>\n","      <th>embark_town_Queenstown</th>\n","      <th>embark_town_Southampton</th>\n","      <th>who_child</th>\n","      <th>who_man</th>\n","      <th>who_woman</th>\n","      <th>age_group_0_15</th>\n","      <th>age_group_15_25</th>\n","      <th>age_group_25_35</th>\n","      <th>age_group_35_45</th>\n","      <th>age_group_45_60</th>\n","      <th>age_group_60_80</th>\n","    </tr>\n","  </thead>\n","  <tbody>\n","    <tr>\n","      <th>299</th>\n","      <td>1</td>\n","      <td>50.000000</td>\n","      <td>0</td>\n","      <td>1</td>\n","      <td>0</td>\n","      <td>0</td>\n","      <td>1</td>\n","      <td>2.634833</td>\n","      <td>1</td>\n","      <td>1</td>\n","      <td>1</td>\n","      <td>0</td>\n","      <td>0</td>\n","      <td>0</td>\n","      <td>0</td>\n","      <td>1</td>\n","      <td>0</td>\n","      <td>0</td>\n","      <td>0</td>\n","      <td>0</td>\n","      <td>1</td>\n","      <td>0</td>\n","    </tr>\n","    <tr>\n","      <th>523</th>\n","      <td>1</td>\n","      <td>44.000000</td>\n","      <td>0</td>\n","      <td>1</td>\n","      <td>0</td>\n","      <td>0</td>\n","      <td>1</td>\n","      <td>1.150551</td>\n","      <td>1</td>\n","      <td>1</td>\n","      <td>1</td>\n","      <td>0</td>\n","      <td>0</td>\n","      <td>0</td>\n","      <td>0</td>\n","      <td>1</td>\n","      <td>0</td>\n","      <td>0</td>\n","      <td>0</td>\n","      <td>1</td>\n","      <td>0</td>\n","      <td>0</td>\n","    </tr>\n","    <tr>\n","      <th>564</th>\n","      <td>3</td>\n","      <td>31.084211</td>\n","      <td>0</td>\n","      <td>0</td>\n","      <td>0</td>\n","      <td>1</td>\n","      <td>0</td>\n","      <td>-0.783739</td>\n","      <td>1</td>\n","      <td>0</td>\n","      <td>0</td>\n","      <td>0</td>\n","      <td>1</td>\n","      <td>0</td>\n","      <td>0</td>\n","      <td>1</td>\n","      <td>0</td>\n","      <td>0</td>\n","      <td>1</td>\n","      <td>0</td>\n","      <td>0</td>\n","      <td>0</td>\n","    </tr>\n","    <tr>\n","      <th>175</th>\n","      <td>3</td>\n","      <td>18.000000</td>\n","      <td>1</td>\n","      <td>1</td>\n","      <td>1</td>\n","      <td>0</td>\n","      <td>0</td>\n","      <td>-0.806311</td>\n","      <td>0</td>\n","      <td>0</td>\n","      <td>0</td>\n","      <td>0</td>\n","      <td>1</td>\n","      <td>0</td>\n","      <td>1</td>\n","      <td>0</td>\n","      <td>0</td>\n","      <td>1</td>\n","      <td>0</td>\n","      <td>0</td>\n","      <td>0</td>\n","      <td>0</td>\n","    </tr>\n","    <tr>\n","      <th>883</th>\n","      <td>2</td>\n","      <td>28.000000</td>\n","      <td>0</td>\n","      <td>0</td>\n","      <td>1</td>\n","      <td>1</td>\n","      <td>0</td>\n","      <td>-0.536504</td>\n","      <td>0</td>\n","      <td>0</td>\n","      <td>0</td>\n","      <td>0</td>\n","      <td>1</td>\n","      <td>0</td>\n","      <td>1</td>\n","      <td>0</td>\n","      <td>0</td>\n","      <td>0</td>\n","      <td>1</td>\n","      <td>0</td>\n","      <td>0</td>\n","      <td>0</td>\n","    </tr>\n","    <tr>\n","      <th>...</th>\n","      <td>...</td>\n","      <td>...</td>\n","      <td>...</td>\n","      <td>...</td>\n","      <td>...</td>\n","      <td>...</td>\n","      <td>...</td>\n","      <td>...</td>\n","      <td>...</td>\n","      <td>...</td>\n","      <td>...</td>\n","      <td>...</td>\n","      <td>...</td>\n","      <td>...</td>\n","      <td>...</td>\n","      <td>...</td>\n","      <td>...</td>\n","      <td>...</td>\n","      <td>...</td>\n","      <td>...</td>\n","      <td>...</td>\n","      <td>...</td>\n","    </tr>\n","    <tr>\n","      <th>627</th>\n","      <td>1</td>\n","      <td>21.000000</td>\n","      <td>0</td>\n","      <td>0</td>\n","      <td>0</td>\n","      <td>1</td>\n","      <td>1</td>\n","      <td>1.451604</td>\n","      <td>1</td>\n","      <td>0</td>\n","      <td>0</td>\n","      <td>0</td>\n","      <td>1</td>\n","      <td>0</td>\n","      <td>0</td>\n","      <td>1</td>\n","      <td>0</td>\n","      <td>1</td>\n","      <td>0</td>\n","      <td>0</td>\n","      <td>0</td>\n","      <td>0</td>\n","    </tr>\n","    <tr>\n","      <th>799</th>\n","      <td>3</td>\n","      <td>30.000000</td>\n","      <td>1</td>\n","      <td>1</td>\n","      <td>0</td>\n","      <td>0</td>\n","      <td>0</td>\n","      <td>0.271000</td>\n","      <td>1</td>\n","      <td>0</td>\n","      <td>0</td>\n","      <td>0</td>\n","      <td>1</td>\n","      <td>0</td>\n","      <td>0</td>\n","      <td>1</td>\n","      <td>0</td>\n","      <td>0</td>\n","      <td>1</td>\n","      <td>0</td>\n","      <td>0</td>\n","      <td>0</td>\n","    </tr>\n","    <tr>\n","      <th>575</th>\n","      <td>3</td>\n","      <td>19.000000</td>\n","      <td>0</td>\n","      <td>0</td>\n","      <td>1</td>\n","      <td>1</td>\n","      <td>0</td>\n","      <td>-0.228477</td>\n","      <td>0</td>\n","      <td>0</td>\n","      <td>0</td>\n","      <td>0</td>\n","      <td>1</td>\n","      <td>0</td>\n","      <td>1</td>\n","      <td>0</td>\n","      <td>0</td>\n","      <td>1</td>\n","      <td>0</td>\n","      <td>0</td>\n","      <td>0</td>\n","      <td>0</td>\n","    </tr>\n","    <tr>\n","      <th>390</th>\n","      <td>1</td>\n","      <td>36.000000</td>\n","      <td>1</td>\n","      <td>2</td>\n","      <td>1</td>\n","      <td>0</td>\n","      <td>0</td>\n","      <td>1.892109</td>\n","      <td>0</td>\n","      <td>1</td>\n","      <td>0</td>\n","      <td>0</td>\n","      <td>1</td>\n","      <td>0</td>\n","      <td>1</td>\n","      <td>0</td>\n","      <td>0</td>\n","      <td>0</td>\n","      <td>0</td>\n","      <td>1</td>\n","      <td>0</td>\n","      <td>0</td>\n","    </tr>\n","    <tr>\n","      <th>72</th>\n","      <td>2</td>\n","      <td>21.000000</td>\n","      <td>0</td>\n","      <td>0</td>\n","      <td>1</td>\n","      <td>1</td>\n","      <td>0</td>\n","      <td>1.391627</td>\n","      <td>0</td>\n","      <td>0</td>\n","      <td>0</td>\n","      <td>0</td>\n","      <td>1</td>\n","      <td>0</td>\n","      <td>1</td>\n","      <td>0</td>\n","      <td>0</td>\n","      <td>1</td>\n","      <td>0</td>\n","      <td>0</td>\n","      <td>0</td>\n","      <td>0</td>\n","    </tr>\n","  </tbody>\n","</table>\n","<p>712 rows × 22 columns</p>\n","</div>"],"text/plain":["     pclass        age  ...  age_group_45_60  age_group_60_80\n","299       1  50.000000  ...                1                0\n","523       1  44.000000  ...                0                0\n","564       3  31.084211  ...                0                0\n","175       3  18.000000  ...                0                0\n","883       2  28.000000  ...                0                0\n","..      ...        ...  ...              ...              ...\n","627       1  21.000000  ...                0                0\n","799       3  30.000000  ...                0                0\n","575       3  19.000000  ...                0                0\n","390       1  36.000000  ...                0                0\n","72        2  21.000000  ...                0                0\n","\n","[712 rows x 22 columns]"]},"metadata":{},"output_type":"display_data"},{"data":{"text/html":["<div>\n","<style scoped>\n","    .dataframe tbody tr th:only-of-type {\n","        vertical-align: middle;\n","    }\n","\n","    .dataframe tbody tr th {\n","        vertical-align: top;\n","    }\n","\n","    .dataframe thead th {\n","        text-align: right;\n","    }\n","</style>\n","<table border=\"1\" class=\"dataframe\">\n","  <thead>\n","    <tr style=\"text-align: right;\">\n","      <th></th>\n","      <th>pclass</th>\n","      <th>age</th>\n","      <th>sibsp</th>\n","      <th>parch</th>\n","      <th>adult_male</th>\n","      <th>alone</th>\n","      <th>female_from_2nd_class</th>\n","      <th>fare_log_zscore</th>\n","      <th>sex_encoded</th>\n","      <th>deck_ABC</th>\n","      <th>embark_town_Cherbourg</th>\n","      <th>embark_town_Queenstown</th>\n","      <th>embark_town_Southampton</th>\n","      <th>who_child</th>\n","      <th>who_man</th>\n","      <th>who_woman</th>\n","      <th>age_group_0_15</th>\n","      <th>age_group_15_25</th>\n","      <th>age_group_25_35</th>\n","      <th>age_group_35_45</th>\n","      <th>age_group_45_60</th>\n","      <th>age_group_60_80</th>\n","    </tr>\n","  </thead>\n","  <tbody>\n","    <tr>\n","      <th>722</th>\n","      <td>2</td>\n","      <td>34.000000</td>\n","      <td>0</td>\n","      <td>0</td>\n","      <td>1</td>\n","      <td>1</td>\n","      <td>0</td>\n","      <td>-0.333511</td>\n","      <td>0</td>\n","      <td>0</td>\n","      <td>0</td>\n","      <td>0</td>\n","      <td>1</td>\n","      <td>0</td>\n","      <td>1</td>\n","      <td>0</td>\n","      <td>0</td>\n","      <td>0</td>\n","      <td>1</td>\n","      <td>0</td>\n","      <td>0</td>\n","      <td>0</td>\n","    </tr>\n","    <tr>\n","      <th>885</th>\n","      <td>3</td>\n","      <td>39.000000</td>\n","      <td>0</td>\n","      <td>5</td>\n","      <td>0</td>\n","      <td>0</td>\n","      <td>0</td>\n","      <td>0.457263</td>\n","      <td>1</td>\n","      <td>0</td>\n","      <td>0</td>\n","      <td>1</td>\n","      <td>0</td>\n","      <td>0</td>\n","      <td>0</td>\n","      <td>1</td>\n","      <td>0</td>\n","      <td>0</td>\n","      <td>0</td>\n","      <td>1</td>\n","      <td>0</td>\n","      <td>0</td>\n","    </tr>\n","    <tr>\n","      <th>289</th>\n","      <td>3</td>\n","      <td>22.000000</td>\n","      <td>0</td>\n","      <td>0</td>\n","      <td>0</td>\n","      <td>1</td>\n","      <td>0</td>\n","      <td>-0.818527</td>\n","      <td>1</td>\n","      <td>0</td>\n","      <td>0</td>\n","      <td>1</td>\n","      <td>0</td>\n","      <td>0</td>\n","      <td>0</td>\n","      <td>1</td>\n","      <td>0</td>\n","      <td>1</td>\n","      <td>0</td>\n","      <td>0</td>\n","      <td>0</td>\n","      <td>0</td>\n","    </tr>\n","    <tr>\n","      <th>131</th>\n","      <td>3</td>\n","      <td>20.000000</td>\n","      <td>0</td>\n","      <td>0</td>\n","      <td>1</td>\n","      <td>1</td>\n","      <td>0</td>\n","      <td>-0.904572</td>\n","      <td>0</td>\n","      <td>0</td>\n","      <td>0</td>\n","      <td>0</td>\n","      <td>1</td>\n","      <td>0</td>\n","      <td>1</td>\n","      <td>0</td>\n","      <td>0</td>\n","      <td>1</td>\n","      <td>0</td>\n","      <td>0</td>\n","      <td>0</td>\n","      <td>0</td>\n","    </tr>\n","    <tr>\n","      <th>615</th>\n","      <td>2</td>\n","      <td>24.000000</td>\n","      <td>1</td>\n","      <td>2</td>\n","      <td>0</td>\n","      <td>0</td>\n","      <td>1</td>\n","      <td>1.266613</td>\n","      <td>1</td>\n","      <td>0</td>\n","      <td>0</td>\n","      <td>0</td>\n","      <td>1</td>\n","      <td>0</td>\n","      <td>0</td>\n","      <td>1</td>\n","      <td>0</td>\n","      <td>1</td>\n","      <td>0</td>\n","      <td>0</td>\n","      <td>0</td>\n","      <td>0</td>\n","    </tr>\n","    <tr>\n","      <th>...</th>\n","      <td>...</td>\n","      <td>...</td>\n","      <td>...</td>\n","      <td>...</td>\n","      <td>...</td>\n","      <td>...</td>\n","      <td>...</td>\n","      <td>...</td>\n","      <td>...</td>\n","      <td>...</td>\n","      <td>...</td>\n","      <td>...</td>\n","      <td>...</td>\n","      <td>...</td>\n","      <td>...</td>\n","      <td>...</td>\n","      <td>...</td>\n","      <td>...</td>\n","      <td>...</td>\n","      <td>...</td>\n","      <td>...</td>\n","      <td>...</td>\n","    </tr>\n","    <tr>\n","      <th>490</th>\n","      <td>3</td>\n","      <td>32.701923</td>\n","      <td>1</td>\n","      <td>0</td>\n","      <td>1</td>\n","      <td>0</td>\n","      <td>0</td>\n","      <td>0.083267</td>\n","      <td>0</td>\n","      <td>0</td>\n","      <td>0</td>\n","      <td>0</td>\n","      <td>1</td>\n","      <td>0</td>\n","      <td>1</td>\n","      <td>0</td>\n","      <td>0</td>\n","      <td>0</td>\n","      <td>1</td>\n","      <td>0</td>\n","      <td>0</td>\n","      <td>0</td>\n","    </tr>\n","    <tr>\n","      <th>183</th>\n","      <td>2</td>\n","      <td>1.000000</td>\n","      <td>2</td>\n","      <td>1</td>\n","      <td>0</td>\n","      <td>0</td>\n","      <td>0</td>\n","      <td>0.749843</td>\n","      <td>0</td>\n","      <td>0</td>\n","      <td>0</td>\n","      <td>0</td>\n","      <td>1</td>\n","      <td>1</td>\n","      <td>0</td>\n","      <td>0</td>\n","      <td>1</td>\n","      <td>0</td>\n","      <td>0</td>\n","      <td>0</td>\n","      <td>0</td>\n","      <td>0</td>\n","    </tr>\n","    <tr>\n","      <th>153</th>\n","      <td>3</td>\n","      <td>40.500000</td>\n","      <td>0</td>\n","      <td>2</td>\n","      <td>1</td>\n","      <td>0</td>\n","      <td>0</td>\n","      <td>-0.228477</td>\n","      <td>0</td>\n","      <td>0</td>\n","      <td>0</td>\n","      <td>0</td>\n","      <td>1</td>\n","      <td>0</td>\n","      <td>1</td>\n","      <td>0</td>\n","      <td>0</td>\n","      <td>0</td>\n","      <td>0</td>\n","      <td>1</td>\n","      <td>0</td>\n","      <td>0</td>\n","    </tr>\n","    <tr>\n","      <th>556</th>\n","      <td>1</td>\n","      <td>48.000000</td>\n","      <td>1</td>\n","      <td>0</td>\n","      <td>0</td>\n","      <td>0</td>\n","      <td>1</td>\n","      <td>0.765207</td>\n","      <td>1</td>\n","      <td>1</td>\n","      <td>1</td>\n","      <td>0</td>\n","      <td>0</td>\n","      <td>0</td>\n","      <td>0</td>\n","      <td>1</td>\n","      <td>0</td>\n","      <td>0</td>\n","      <td>0</td>\n","      <td>0</td>\n","      <td>1</td>\n","      <td>0</td>\n","    </tr>\n","    <tr>\n","      <th>208</th>\n","      <td>3</td>\n","      <td>16.000000</td>\n","      <td>0</td>\n","      <td>0</td>\n","      <td>0</td>\n","      <td>1</td>\n","      <td>0</td>\n","      <td>-0.818527</td>\n","      <td>1</td>\n","      <td>0</td>\n","      <td>0</td>\n","      <td>1</td>\n","      <td>0</td>\n","      <td>0</td>\n","      <td>0</td>\n","      <td>1</td>\n","      <td>0</td>\n","      <td>1</td>\n","      <td>0</td>\n","      <td>0</td>\n","      <td>0</td>\n","      <td>0</td>\n","    </tr>\n","  </tbody>\n","</table>\n","<p>179 rows × 22 columns</p>\n","</div>"],"text/plain":["     pclass        age  ...  age_group_45_60  age_group_60_80\n","722       2  34.000000  ...                0                0\n","885       3  39.000000  ...                0                0\n","289       3  22.000000  ...                0                0\n","131       3  20.000000  ...                0                0\n","615       2  24.000000  ...                0                0\n","..      ...        ...  ...              ...              ...\n","490       3  32.701923  ...                0                0\n","183       2   1.000000  ...                0                0\n","153       3  40.500000  ...                0                0\n","556       1  48.000000  ...                1                0\n","208       3  16.000000  ...                0                0\n","\n","[179 rows x 22 columns]"]},"metadata":{},"output_type":"display_data"},{"data":{"text/plain":["299    1\n","523    1\n","564    0\n","175    0\n","883    0\n","      ..\n","627    1\n","799    0\n","575    0\n","390    1\n","72     0\n","Name: survived, Length: 712, dtype: int64"]},"metadata":{},"output_type":"display_data"},{"data":{"text/plain":["722    0\n","885    0\n","289    1\n","131    0\n","615    1\n","      ..\n","490    0\n","183    1\n","153    0\n","556    1\n","208    1\n","Name: survived, Length: 179, dtype: int64"]},"metadata":{},"output_type":"display_data"}]},{"cell_type":"markdown","metadata":{"executionInfo":{"elapsed":88,"status":"aborted","timestamp":1635509148939,"user":{"displayName":"Samuel Doan","photoUrl":"https://lh3.googleusercontent.com/a-/AOh14GjbcdQ40FcyCSIyitBN2ptY3zHWA_09harKPYF2=s64","userId":"04384888964432338542"},"user_tz":-420},"id":"MEmkoh2RVX1d"},"source":["### Linear Model"]},{"cell_type":"code","metadata":{"id":"GUHDIdP0Q0WA"},"source":["from sklearn.linear_model import LogisticRegression"],"execution_count":null,"outputs":[]},{"cell_type":"code","metadata":{"colab":{"base_uri":"https://localhost:8080/"},"id":"GHoGvVBhUFre","executionInfo":{"elapsed":1553,"status":"ok","timestamp":1635515630342,"user":{"displayName":"Samuel Doan","photoUrl":"https://lh3.googleusercontent.com/a-/AOh14GjbcdQ40FcyCSIyitBN2ptY3zHWA_09harKPYF2=s64","userId":"04384888964432338542"},"user_tz":-420},"outputId":"06e11128-a133-4590-d583-33bc83bb2652"},"source":["clr = LogisticRegression(\n","    max_iter=1000 # giá trị mặc định = 100 thì báo warning ko tìm đc đáp án\n",")\n","\n","clr.fit(x_train, y_train)"],"execution_count":null,"outputs":[{"data":{"text/plain":["LogisticRegression(C=1.0, class_weight=None, dual=False, fit_intercept=True,\n","                   intercept_scaling=1, l1_ratio=None, max_iter=1000,\n","                   multi_class='auto', n_jobs=None, penalty='l2',\n","                   random_state=None, solver='lbfgs', tol=0.0001, verbose=0,\n","                   warm_start=False)"]},"execution_count":136,"metadata":{},"output_type":"execute_result"}]},{"cell_type":"code","metadata":{"colab":{"base_uri":"https://localhost:8080/"},"id":"SrzKTxlZeeoL","executionInfo":{"elapsed":1434,"status":"ok","timestamp":1635518179302,"user":{"displayName":"Samuel Doan","photoUrl":"https://lh3.googleusercontent.com/a-/AOh14GjbcdQ40FcyCSIyitBN2ptY3zHWA_09harKPYF2=s64","userId":"04384888964432338542"},"user_tz":-420},"outputId":"52b256b3-8915-4cc4-ecd8-fa855edea29f"},"source":["pd.Series(clr.coef_[0], index=x_test.columns)"],"execution_count":null,"outputs":[{"data":{"text/plain":["pclass                    -0.588524\n","age                       -0.025065\n","sibsp                     -0.685218\n","parch                     -0.365212\n","adult_male                -0.985734\n","alone                     -0.549416\n","female_from_2nd_class      1.745698\n","fare_log_zscore            0.391478\n","sex_encoded               -0.149493\n","deck_ABC                  -0.114531\n","embark_town_Cherbourg      0.113956\n","embark_town_Queenstown     0.174153\n","embark_town_Southampton   -0.288917\n","who_child                  0.671537\n","who_man                   -0.985734\n","who_woman                  0.313389\n","age_group_0_15            -0.123318\n","age_group_15_25           -0.218067\n","age_group_25_35            0.296148\n","age_group_35_45            0.189003\n","age_group_45_60           -0.121524\n","age_group_60_80           -0.023050\n","dtype: float64"]},"execution_count":164,"metadata":{},"output_type":"execute_result"}]},{"cell_type":"code","metadata":{"id":"BSpgNHcKVKqM"},"source":["from sklearn import metrics"],"execution_count":null,"outputs":[]},{"cell_type":"code","metadata":{"colab":{"base_uri":"https://localhost:8080/"},"id":"qDawKTpcVQqq","executionInfo":{"elapsed":1436,"status":"ok","timestamp":1635515853848,"user":{"displayName":"Samuel Doan","photoUrl":"https://lh3.googleusercontent.com/a-/AOh14GjbcdQ40FcyCSIyitBN2ptY3zHWA_09harKPYF2=s64","userId":"04384888964432338542"},"user_tz":-420},"outputId":"e299a0bb-29ad-456a-b04c-b3ef87b0161a"},"source":["y_pred = clr.predict(x_test)\n","y_pred"],"execution_count":null,"outputs":[{"data":{"text/plain":["array([0, 0, 1, 0, 1, 1, 1, 0, 0, 0, 1, 1, 1, 0, 0, 0, 0, 0, 1, 0, 0, 1,\n","       0, 0, 0, 0, 0, 0, 0, 0, 0, 1, 0, 0, 1, 0, 0, 0, 1, 0, 0, 1, 0, 1,\n","       1, 0, 1, 1, 0, 0, 0, 0, 0, 0, 0, 1, 0, 0, 0, 0, 0, 1, 1, 1, 1, 1,\n","       0, 0, 1, 1, 1, 0, 0, 1, 0, 0, 0, 1, 0, 0, 0, 0, 0, 0, 1, 0, 1, 0,\n","       0, 0, 0, 0, 1, 1, 1, 1, 1, 1, 0, 0, 1, 1, 0, 0, 0, 1, 1, 0, 1, 0,\n","       0, 1, 0, 0, 0, 0, 1, 1, 0, 0, 1, 0, 0, 0, 0, 1, 0, 0, 0, 1, 0, 0,\n","       1, 1, 1, 1, 0, 0, 0, 0, 0, 0, 0, 1, 1, 0, 0, 0, 0, 0, 0, 0, 1, 0,\n","       0, 1, 0, 1, 1, 1, 1, 0, 1, 0, 0, 0, 1, 0, 0, 0, 0, 0, 1, 0, 0, 1,\n","       0, 1, 1])"]},"execution_count":140,"metadata":{},"output_type":"execute_result"}]},{"cell_type":"code","metadata":{"colab":{"base_uri":"https://localhost:8080/"},"id":"ZMOQZi1qV3IK","executionInfo":{"elapsed":1556,"status":"ok","timestamp":1635515937907,"user":{"displayName":"Samuel Doan","photoUrl":"https://lh3.googleusercontent.com/a-/AOh14GjbcdQ40FcyCSIyitBN2ptY3zHWA_09harKPYF2=s64","userId":"04384888964432338542"},"user_tz":-420},"outputId":"74d9fdad-b8cb-463b-bc66-987516a08ec0"},"source":["(y_pred == y_test).sum()/len(y_test) # Tỷ lệ accuracy độ chính xác"],"execution_count":null,"outputs":[{"data":{"text/plain":["0.8156424581005587"]},"execution_count":144,"metadata":{},"output_type":"execute_result"}]},{"cell_type":"code","metadata":{"colab":{"base_uri":"https://localhost:8080/"},"id":"MWLAG8efWxJY","executionInfo":{"elapsed":856,"status":"ok","timestamp":1635516144850,"user":{"displayName":"Samuel Doan","photoUrl":"https://lh3.googleusercontent.com/a-/AOh14GjbcdQ40FcyCSIyitBN2ptY3zHWA_09harKPYF2=s64","userId":"04384888964432338542"},"user_tz":-420},"outputId":"0a4a0fd6-a60f-4f64-ece3-844320e09794"},"source":["metrics.accuracy_score(y_test, y_pred)"],"execution_count":null,"outputs":[{"data":{"text/plain":["0.8156424581005587"]},"execution_count":146,"metadata":{},"output_type":"execute_result"}]},{"cell_type":"code","metadata":{"colab":{"base_uri":"https://localhost:8080/","height":283},"id":"rGuhdAMyW9h0","executionInfo":{"elapsed":1572,"status":"ok","timestamp":1635516348732,"user":{"displayName":"Samuel Doan","photoUrl":"https://lh3.googleusercontent.com/a-/AOh14GjbcdQ40FcyCSIyitBN2ptY3zHWA_09harKPYF2=s64","userId":"04384888964432338542"},"user_tz":-420},"outputId":"bf12e789-49f0-4145-ba85-754465c73c81"},"source":["# Confusion Matrix (Ma trận nhầm lẫn)\n","cf_matrix = metrics.confusion_matrix(y_test, y_pred)\n","names = ['True Negative', 'False Positive', 'False Negative', 'True Positive']\n","labels = np.asarray([f'{i}\\n\\n{j}' for i, j in zip(names, cf_matrix.flatten())])\n","sns.heatmap(cf_matrix, annot=labels.reshape(2, 2), cmap='Purples', fmt='')"],"execution_count":null,"outputs":[{"data":{"text/plain":["<matplotlib.axes._subplots.AxesSubplot at 0x7f039ad2cf50>"]},"execution_count":150,"metadata":{},"output_type":"execute_result"},{"data":{"image/png":"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","text/plain":["<Figure size 432x288 with 2 Axes>"]},"metadata":{"needs_background":"light"},"output_type":"display_data"}]},{"cell_type":"code","metadata":{"colab":{"base_uri":"https://localhost:8080/"},"id":"FusKTUaYYzPQ","executionInfo":{"elapsed":1488,"status":"ok","timestamp":1635516801628,"user":{"displayName":"Samuel Doan","photoUrl":"https://lh3.googleusercontent.com/a-/AOh14GjbcdQ40FcyCSIyitBN2ptY3zHWA_09harKPYF2=s64","userId":"04384888964432338542"},"user_tz":-420},"outputId":"f9e579ef-535e-4481-c548-1f3ac043d66d"},"source":["# Ma trận nhầm lẫn có 4 phân loại: 11, 10, 01, 01 (dự đoán - thực tế)\n","# Tỷ lệ Precision: trong tất cả dự đoán là 1 -> đoán đúng bao nhiêu\n","metrics.precision_score(y_test, y_pred)\n"],"execution_count":null,"outputs":[{"data":{"text/plain":["0.8153846153846154"]},"execution_count":151,"metadata":{},"output_type":"execute_result"}]},{"cell_type":"code","metadata":{"colab":{"base_uri":"https://localhost:8080/"},"id":"_-QIfcneZfg7","executionInfo":{"elapsed":1503,"status":"ok","timestamp":1635516839918,"user":{"displayName":"Samuel Doan","photoUrl":"https://lh3.googleusercontent.com/a-/AOh14GjbcdQ40FcyCSIyitBN2ptY3zHWA_09harKPYF2=s64","userId":"04384888964432338542"},"user_tz":-420},"outputId":"b1b0c39a-1684-40d0-b80f-4873deab07dd"},"source":["# Tỷ lệ Recall: trong tất của thực tế là 1 -> đoán ra bao nhiêu\n","metrics.recall_score(y_test, y_pred)"],"execution_count":null,"outputs":[{"data":{"text/plain":["0.7162162162162162"]},"execution_count":152,"metadata":{},"output_type":"execute_result"}]},{"cell_type":"code","metadata":{"colab":{"base_uri":"https://localhost:8080/"},"id":"P-zjOvs5Zv99","executionInfo":{"elapsed":8,"status":"ok","timestamp":1635516892988,"user":{"displayName":"Samuel Doan","photoUrl":"https://lh3.googleusercontent.com/a-/AOh14GjbcdQ40FcyCSIyitBN2ptY3zHWA_09harKPYF2=s64","userId":"04384888964432338542"},"user_tz":-420},"outputId":"2437e920-10e7-4b0c-eb57-da468fc9e9b2"},"source":["# Trung bình điều hòa\n","metrics.f1_score(y_test, y_pred)"],"execution_count":null,"outputs":[{"data":{"text/plain":["0.762589928057554"]},"execution_count":153,"metadata":{},"output_type":"execute_result"}]},{"cell_type":"code","metadata":{"id":"sq6_wWJo8H3A"},"source":["### Gradient Descent "],"execution_count":null,"outputs":[]},{"cell_type":"markdown","metadata":{"id":"4KCmRSbKZtiY"},"source":["### Tree Model"]},{"cell_type":"code","metadata":{"id":"9eosT7Qp8H3A"},"source":["from sklearn.tree import DecisionTreeClassifier"],"execution_count":null,"outputs":[]},{"cell_type":"code","metadata":{"colab":{"base_uri":"https://localhost:8080/"},"id":"MaspOCd3a6hT","executionInfo":{"elapsed":446,"status":"ok","timestamp":1635517205860,"user":{"displayName":"Samuel Doan","photoUrl":"https://lh3.googleusercontent.com/a-/AOh14GjbcdQ40FcyCSIyitBN2ptY3zHWA_09harKPYF2=s64","userId":"04384888964432338542"},"user_tz":-420},"outputId":"0740f486-2b30-49aa-e620-9c9eae85d811"},"source":["tree = DecisionTreeClassifier()\n","tree.fit(x_train, y_train)"],"execution_count":null,"outputs":[{"data":{"text/plain":["DecisionTreeClassifier(ccp_alpha=0.0, class_weight=None, criterion='gini',\n","                       max_depth=None, max_features=None, max_leaf_nodes=None,\n","                       min_impurity_decrease=0.0, min_impurity_split=None,\n","                       min_samples_leaf=1, min_samples_split=2,\n","                       min_weight_fraction_leaf=0.0, presort='deprecated',\n","                       random_state=None, splitter='best')"]},"execution_count":155,"metadata":{},"output_type":"execute_result"}]},{"cell_type":"code","metadata":{"colab":{"base_uri":"https://localhost:8080/"},"id":"dAcaW4MPbH0Y","executionInfo":{"elapsed":13,"status":"ok","timestamp":1635517247773,"user":{"displayName":"Samuel Doan","photoUrl":"https://lh3.googleusercontent.com/a-/AOh14GjbcdQ40FcyCSIyitBN2ptY3zHWA_09harKPYF2=s64","userId":"04384888964432338542"},"user_tz":-420},"outputId":"c4f026ac-7829-4ff6-a7c2-497b76953673"},"source":["y_pred = tree.predict(x_test)\n","y_pred"],"execution_count":null,"outputs":[{"data":{"text/plain":["array([0, 0, 0, 0, 1, 1, 1, 0, 0, 0, 1, 1, 1, 0, 0, 1, 0, 0, 1, 1, 0, 1,\n","       0, 1, 0, 0, 0, 0, 0, 0, 0, 0, 0, 0, 1, 0, 0, 0, 1, 0, 1, 1, 0, 0,\n","       1, 0, 0, 0, 0, 0, 1, 0, 0, 0, 1, 1, 0, 0, 0, 1, 0, 0, 1, 1, 1, 1,\n","       0, 1, 1, 0, 1, 0, 0, 1, 0, 0, 0, 1, 0, 0, 0, 0, 1, 0, 1, 0, 1, 0,\n","       0, 0, 1, 0, 1, 1, 0, 1, 1, 1, 0, 0, 1, 1, 0, 0, 0, 1, 1, 0, 1, 1,\n","       1, 1, 1, 0, 0, 0, 1, 1, 0, 0, 1, 0, 0, 0, 0, 0, 0, 0, 0, 1, 1, 0,\n","       1, 0, 1, 1, 0, 0, 0, 0, 0, 0, 0, 1, 1, 0, 0, 0, 0, 0, 0, 0, 1, 0,\n","       0, 1, 0, 0, 1, 1, 0, 0, 1, 0, 0, 0, 1, 1, 0, 0, 0, 0, 1, 0, 0, 1,\n","       0, 1, 1])"]},"execution_count":156,"metadata":{},"output_type":"execute_result"}]},{"cell_type":"code","metadata":{"colab":{"base_uri":"https://localhost:8080/"},"id":"LXaz3qDnbH0j","executionInfo":{"elapsed":1788,"status":"ok","timestamp":1635517260360,"user":{"displayName":"Samuel Doan","photoUrl":"https://lh3.googleusercontent.com/a-/AOh14GjbcdQ40FcyCSIyitBN2ptY3zHWA_09harKPYF2=s64","userId":"04384888964432338542"},"user_tz":-420},"outputId":"d3987f3d-44c9-4c94-bc26-fdadd97320f1"},"source":["metrics.accuracy_score(y_test, y_pred)"],"execution_count":null,"outputs":[{"data":{"text/plain":["0.8324022346368715"]},"execution_count":157,"metadata":{},"output_type":"execute_result"}]},{"cell_type":"code","metadata":{"colab":{"base_uri":"https://localhost:8080/","height":283},"id":"KZDgRKR4bH0l","executionInfo":{"elapsed":1760,"status":"ok","timestamp":1635517271224,"user":{"displayName":"Samuel Doan","photoUrl":"https://lh3.googleusercontent.com/a-/AOh14GjbcdQ40FcyCSIyitBN2ptY3zHWA_09harKPYF2=s64","userId":"04384888964432338542"},"user_tz":-420},"outputId":"dafb6790-3123-4ce9-f356-ab6877b18cb8"},"source":["# Confusion Matrix (Ma trận nhầm lẫn)\n","cf_matrix = metrics.confusion_matrix(y_test, y_pred)\n","names = ['True Negative', 'False Positive', 'False Negative', 'True Positive']\n","labels = np.asarray([f'{i}\\n\\n{j}' for i, j in zip(names, cf_matrix.flatten())])\n","sns.heatmap(cf_matrix, annot=labels.reshape(2, 2), cmap='Purples', fmt='')"],"execution_count":null,"outputs":[{"data":{"text/plain":["<matplotlib.axes._subplots.AxesSubplot at 0x7f0399227210>"]},"execution_count":158,"metadata":{},"output_type":"execute_result"},{"data":{"image/png":"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","text/plain":["<Figure size 432x288 with 2 Axes>"]},"metadata":{"needs_background":"light"},"output_type":"display_data"}]},{"cell_type":"code","metadata":{"colab":{"base_uri":"https://localhost:8080/"},"id":"Zin3vrDxbH0o","executionInfo":{"elapsed":579,"status":"ok","timestamp":1635517282427,"user":{"displayName":"Samuel Doan","photoUrl":"https://lh3.googleusercontent.com/a-/AOh14GjbcdQ40FcyCSIyitBN2ptY3zHWA_09harKPYF2=s64","userId":"04384888964432338542"},"user_tz":-420},"outputId":"04575f67-f695-4086-f1b1-a01f65ed3c27"},"source":["# Ma trận nhầm lẫn có 4 phân loại: 11, 10, 01, 01 (dự đoán - thực tế)\n","# Tỷ lệ Precision: trong tất cả dự đoán là 1 -> đoán đúng bao nhiêu\n","metrics.precision_score(y_test, y_pred)"],"execution_count":null,"outputs":[{"data":{"text/plain":["0.8235294117647058"]},"execution_count":159,"metadata":{},"output_type":"execute_result"}]},{"cell_type":"code","metadata":{"colab":{"base_uri":"https://localhost:8080/"},"id":"4btMXpb6bH0r","executionInfo":{"elapsed":512,"status":"ok","timestamp":1635517290170,"user":{"displayName":"Samuel Doan","photoUrl":"https://lh3.googleusercontent.com/a-/AOh14GjbcdQ40FcyCSIyitBN2ptY3zHWA_09harKPYF2=s64","userId":"04384888964432338542"},"user_tz":-420},"outputId":"c1aa1b07-d58e-4d4a-c61f-7b9bcaa9f1b6"},"source":["# Tỷ lệ Recall: trong tất của thực tế là 1 -> đoán ra bao nhiêu\n","metrics.recall_score(y_test, y_pred)"],"execution_count":null,"outputs":[{"data":{"text/plain":["0.7567567567567568"]},"execution_count":160,"metadata":{},"output_type":"execute_result"}]},{"cell_type":"code","metadata":{"id":"N3gWp5SXbH0t"},"source":["# Trung bình điều hòa\n","metrics.f1_score(y_test, y_pred)"],"execution_count":null,"outputs":[]},{"cell_type":"markdown","metadata":{"id":"GZXkw386Z587"},"source":["## Q&A\n"," "]},{"cell_type":"markdown","metadata":{"id":"483Rj22hbVfg"},"source":["1. Trong model này có phải là biến `age` thầy quên chưa xóa không ạ, trước khi mình import regression model trong sklearn. \n","\n","*Không. Vì biến tuổi minh cố tình để lại.*\n","\n","- Biến liên tục: rất tốt với mô hình dạng phương trình\n","- Biến phân loại: phát huy tác dụng với những mô hình dạng logic (ví dụ: Cây quyết định)\n","\n","Có thể nói lại tại sao lại ko để nguyên biến age mà phải chia thành các bin không ạ?\n","\n","*Vì mình muốn có thêm biến dạng phân loại*"]},{"cell_type":"markdown","metadata":{"id":"YIiQqhlZdma4"},"source":["2. Đối với biến Deck thì chia làm 2 nhóm ABC và DEF, tuy nhiên nếu mà từng hạng deck có sự phân cấp thứ bậc và e muốn gán biến 1-6 thay vì 0,1 có làm ảnh hưởng lên model nhiều không ạ?\n","\n","*Đây là một ý tưởng hay, có thể thử.*"]},{"cell_type":"markdown","metadata":{"id":"HkXN6X0Md7fq"},"source":["3. Như trong bài đọc thầy cho thêm thì khi nào mình nên trực tiếp xử lý dữ liệu như đã làm, khi nào xử dụng hàm `pipeline` để scalling tự động?\n","\n","Sau khi thực hiện tất cả các biến đổi phức tạp theo dạng custom, biến đổi dữ liệu dạng chữ thành dạng số thì có thể sử dụng `pipeline`"]},{"cell_type":"markdown","metadata":{"id":"o-USdGpue0js"},"source":["4. Trong bài titanic thầy ko sử dụng correlation để quan sát tương quan giữa các biến số, vậy khi nào sử dụng metric này để loại bỏ biến thừa thãi chẳng hạn ạ?\n","\n","Có thể sử dụng `correlation` để loại bớt biến đối với mô hình dạng phương trình để lọc bớt nhiễu. Tuy nhiên là ko nên đối với các bài toán non-linear hoặc mô hình dạng logic.\n","\n","*Mọi người thử lại với heatmap correlation của titanic*\n","\n","Tham khảo phương pháp PCA để giảm số lượng biến.\n","\n","Tham khảo thêm lý thuyết lọc biến bằng phương pháp RFE (Recursive Feature Elimination)"]},{"cell_type":"markdown","metadata":{"id":"vq95f7GGhzzL"},"source":["5. Về các chỉ số đo lường độ tin cậy của model như confusion matrix, accuracy score thì thường model có giá trị như thế nào đc coi là tốt và không cần điều chỉnh nữa?\n","\n","Không có một thông số tiêu chuẩn cố định cho chất lượng của mô hình mà tùy vào chất lượng dữ liệu và đặc điểm của bài toán.\n","\n","Thông thường sau khi đã thực hiện tất cả các phương pháp nâng cáo chất lượng mô hình như: nâng cao chất lượng dữ liệu, đưa thêm thông tin/biến phái sinh, đánh giá bằng kiểm chứng chéo...Nhưng chất lượng mô hình ko cải thiện thì ta xác định đấy là giới hạn hiện tại của mô hình.\n","\n","Để kiểm chứng chéo 50 lần, ta thường sử dụng công cụ `RepeatedKfold` và vẫn thêm tham số `random_state` để đảm bảo có thể reproduce lại kết quả"]},{"cell_type":"markdown","metadata":{"id":"agqi-_J4i-J2"},"source":["6. Đối với Gradient Descent không áp dụng với model tree vì nó không phải model dự báo như đồng qui tuyến tính, còn làm logistics vẫn sử dụng Gradient descent để đánh giá model? ý nghĩa của việc chọn iteration =1000 không quá lớn, không quá nhỏ là để làm tìm ra giá trị nhỏ nhất của hàm cost như dưới đây phải ko ạ?\n","\n","Gradient Descent tương ứng với khái niệm đạo hàm của một không gian nhiều mặt phẳng. Giống với nhiều thuật toán tối ưu hóa khác, các thuật toán ML cũng sử dụng đạo hàm để tìm đáp án.\n","\n","Đối với các bài toán phức tạp (nhiều biến hoặc mối quan hệ giữa X và Y ko thực sự linear) cần tăng iteration lên để đảm bảo tìm đc đáp án."]},{"cell_type":"code","metadata":{"id":"EPZJDxqJhzaV"},"source":[""],"execution_count":null,"outputs":[]},{"cell_type":"markdown","metadata":{"id":"VYpH8_dYbMuB"},"source":[""]}]}
=======
{
 "cells": [
  {
   "cell_type": "markdown",
   "metadata": {
    "id": "OQj36lMPVXyn"
   },
   "source": [
    "# Machine Learning Model - Feature Engineering (Tổng hợp biến phái sinh)"
   ]
  },
  {
   "cell_type": "code",
   "execution_count": 1,
   "metadata": {
    "executionInfo": {
     "elapsed": 720,
     "status": "ok",
     "timestamp": 1635509145278,
     "user": {
      "displayName": "Samuel Doan",
      "photoUrl": "https://lh3.googleusercontent.com/a-/AOh14GjbcdQ40FcyCSIyitBN2ptY3zHWA_09harKPYF2=s64",
      "userId": "04384888964432338542"
     },
     "user_tz": -420
    },
    "id": "beYD2pxmVXzH"
   },
   "outputs": [],
   "source": [
    "# Ví dụ dữ liệu Nominal và Ordinal\n",
    "# Ví dụ dữ liệu Nominal\n",
    "arr2 = ['bò sát', 'có vú', 'gia cầm', 'giáp xác']\n",
    "\n",
    "# Ví dụ biến dạng Ordinal\n",
    "# Trình độ học vấn\n",
    "arr = ['cấp 1', 'cấp 2', 'cấp 3', 'đại học', 'sau đại học'] # => sự sắp xếp nhất định\n",
    "arr_int = [1, 2, 3, 4, 5]\n",
    "\n",
    "# Cấp bậc trong công ty\n",
    "arr1 = ['nhân viên', 'nhóm trưởng', 'trưởng phòng', 'giám đốc chi nhánh', 'giám đốc vùng'] # => thứ tự nhất định\n",
    "\n",
    "# Nominal dữ liệu chữ nhưng ko có giá trị để sắp xếp\n"
   ]
  },
  {
   "cell_type": "code",
   "execution_count": 2,
   "metadata": {
    "executionInfo": {
     "elapsed": 29,
     "status": "ok",
     "timestamp": 1635509146228,
     "user": {
      "displayName": "Samuel Doan",
      "photoUrl": "https://lh3.googleusercontent.com/a-/AOh14GjbcdQ40FcyCSIyitBN2ptY3zHWA_09harKPYF2=s64",
      "userId": "04384888964432338542"
     },
     "user_tz": -420
    },
    "id": "c5pGMH-lbRvV"
   },
   "outputs": [],
   "source": [
    "# Biến dạng số\n",
    "# Continuous - liên tục\n",
    "# Số thập phân \n",
    "# 0.1 0.11 0.111 0.112 0.1111\n",
    "\n",
    "# Discrete - rời rạc\n",
    "# Số nguyên\n",
    "# 1 2 3 4 5 6"
   ]
  },
  {
   "cell_type": "code",
   "execution_count": 3,
   "metadata": {
    "executionInfo": {
     "elapsed": 525,
     "status": "ok",
     "timestamp": 1635509146731,
     "user": {
      "displayName": "Samuel Doan",
      "photoUrl": "https://lh3.googleusercontent.com/a-/AOh14GjbcdQ40FcyCSIyitBN2ptY3zHWA_09harKPYF2=s64",
      "userId": "04384888964432338542"
     },
     "user_tz": -420
    },
    "id": "gX0KodZyVXzN"
   },
   "outputs": [],
   "source": [
    "import numpy as np\n",
    "import pandas as pd\n",
    "\n",
    "import matplotlib.pyplot as plt\n",
    "import seaborn as sns\n",
    "%matplotlib inline"
   ]
  },
  {
   "cell_type": "markdown",
   "metadata": {
    "id": "Icdp-mLS8H1y"
   },
   "source": [
    "## Dữ liệu Titanic"
   ]
  },
  {
   "cell_type": "code",
   "execution_count": 4,
   "metadata": {
    "colab": {
     "base_uri": "https://localhost:8080/",
     "height": 615
    },
    "executionInfo": {
     "elapsed": 1205,
     "status": "ok",
     "timestamp": 1635509147931,
     "user": {
      "displayName": "Samuel Doan",
      "photoUrl": "https://lh3.googleusercontent.com/a-/AOh14GjbcdQ40FcyCSIyitBN2ptY3zHWA_09harKPYF2=s64",
      "userId": "04384888964432338542"
     },
     "user_tz": -420
    },
    "id": "hL6VbrBXVXzQ",
    "outputId": "66903f67-cc50-43a4-e8ac-438ae38bc245"
   },
   "outputs": [
    {
     "name": "stdout",
     "output_type": "stream",
     "text": [
      "<class 'pandas.core.frame.DataFrame'>\n",
      "RangeIndex: 891 entries, 0 to 890\n",
      "Data columns (total 15 columns):\n",
      " #   Column       Non-Null Count  Dtype   \n",
      "---  ------       --------------  -----   \n",
      " 0   survived     891 non-null    int64   \n",
      " 1   pclass       891 non-null    int64   \n",
      " 2   sex          891 non-null    object  \n",
      " 3   age          714 non-null    float64 \n",
      " 4   sibsp        891 non-null    int64   \n",
      " 5   parch        891 non-null    int64   \n",
      " 6   fare         891 non-null    float64 \n",
      " 7   embarked     889 non-null    object  \n",
      " 8   class        891 non-null    category\n",
      " 9   who          891 non-null    object  \n",
      " 10  adult_male   891 non-null    bool    \n",
      " 11  deck         203 non-null    category\n",
      " 12  embark_town  889 non-null    object  \n",
      " 13  alive        891 non-null    object  \n",
      " 14  alone        891 non-null    bool    \n",
      "dtypes: bool(2), category(2), float64(2), int64(4), object(5)\n",
      "memory usage: 80.6+ KB\n"
     ]
    },
    {
     "data": {
      "text/plain": [
       "None"
      ]
     },
     "metadata": {},
     "output_type": "display_data"
    },
    {
     "data": {
      "text/html": [
       "<div>\n",
       "<style scoped>\n",
       "    .dataframe tbody tr th:only-of-type {\n",
       "        vertical-align: middle;\n",
       "    }\n",
       "\n",
       "    .dataframe tbody tr th {\n",
       "        vertical-align: top;\n",
       "    }\n",
       "\n",
       "    .dataframe thead th {\n",
       "        text-align: right;\n",
       "    }\n",
       "</style>\n",
       "<table border=\"1\" class=\"dataframe\">\n",
       "  <thead>\n",
       "    <tr style=\"text-align: right;\">\n",
       "      <th></th>\n",
       "      <th>survived</th>\n",
       "      <th>pclass</th>\n",
       "      <th>sex</th>\n",
       "      <th>age</th>\n",
       "      <th>sibsp</th>\n",
       "      <th>parch</th>\n",
       "      <th>fare</th>\n",
       "      <th>embarked</th>\n",
       "      <th>class</th>\n",
       "      <th>who</th>\n",
       "      <th>adult_male</th>\n",
       "      <th>deck</th>\n",
       "      <th>embark_town</th>\n",
       "      <th>alive</th>\n",
       "      <th>alone</th>\n",
       "    </tr>\n",
       "  </thead>\n",
       "  <tbody>\n",
       "    <tr>\n",
       "      <th>0</th>\n",
       "      <td>0</td>\n",
       "      <td>3</td>\n",
       "      <td>male</td>\n",
       "      <td>22.0</td>\n",
       "      <td>1</td>\n",
       "      <td>0</td>\n",
       "      <td>7.2500</td>\n",
       "      <td>S</td>\n",
       "      <td>Third</td>\n",
       "      <td>man</td>\n",
       "      <td>True</td>\n",
       "      <td>NaN</td>\n",
       "      <td>Southampton</td>\n",
       "      <td>no</td>\n",
       "      <td>False</td>\n",
       "    </tr>\n",
       "    <tr>\n",
       "      <th>1</th>\n",
       "      <td>1</td>\n",
       "      <td>1</td>\n",
       "      <td>female</td>\n",
       "      <td>38.0</td>\n",
       "      <td>1</td>\n",
       "      <td>0</td>\n",
       "      <td>71.2833</td>\n",
       "      <td>C</td>\n",
       "      <td>First</td>\n",
       "      <td>woman</td>\n",
       "      <td>False</td>\n",
       "      <td>C</td>\n",
       "      <td>Cherbourg</td>\n",
       "      <td>yes</td>\n",
       "      <td>False</td>\n",
       "    </tr>\n",
       "    <tr>\n",
       "      <th>2</th>\n",
       "      <td>1</td>\n",
       "      <td>3</td>\n",
       "      <td>female</td>\n",
       "      <td>26.0</td>\n",
       "      <td>0</td>\n",
       "      <td>0</td>\n",
       "      <td>7.9250</td>\n",
       "      <td>S</td>\n",
       "      <td>Third</td>\n",
       "      <td>woman</td>\n",
       "      <td>False</td>\n",
       "      <td>NaN</td>\n",
       "      <td>Southampton</td>\n",
       "      <td>yes</td>\n",
       "      <td>True</td>\n",
       "    </tr>\n",
       "    <tr>\n",
       "      <th>3</th>\n",
       "      <td>1</td>\n",
       "      <td>1</td>\n",
       "      <td>female</td>\n",
       "      <td>35.0</td>\n",
       "      <td>1</td>\n",
       "      <td>0</td>\n",
       "      <td>53.1000</td>\n",
       "      <td>S</td>\n",
       "      <td>First</td>\n",
       "      <td>woman</td>\n",
       "      <td>False</td>\n",
       "      <td>C</td>\n",
       "      <td>Southampton</td>\n",
       "      <td>yes</td>\n",
       "      <td>False</td>\n",
       "    </tr>\n",
       "    <tr>\n",
       "      <th>4</th>\n",
       "      <td>0</td>\n",
       "      <td>3</td>\n",
       "      <td>male</td>\n",
       "      <td>35.0</td>\n",
       "      <td>0</td>\n",
       "      <td>0</td>\n",
       "      <td>8.0500</td>\n",
       "      <td>S</td>\n",
       "      <td>Third</td>\n",
       "      <td>man</td>\n",
       "      <td>True</td>\n",
       "      <td>NaN</td>\n",
       "      <td>Southampton</td>\n",
       "      <td>no</td>\n",
       "      <td>True</td>\n",
       "    </tr>\n",
       "  </tbody>\n",
       "</table>\n",
       "</div>"
      ],
      "text/plain": [
       "   survived  pclass     sex   age  ...  deck  embark_town  alive  alone\n",
       "0         0       3    male  22.0  ...   NaN  Southampton     no  False\n",
       "1         1       1  female  38.0  ...     C    Cherbourg    yes  False\n",
       "2         1       3  female  26.0  ...   NaN  Southampton    yes   True\n",
       "3         1       1  female  35.0  ...     C  Southampton    yes  False\n",
       "4         0       3    male  35.0  ...   NaN  Southampton     no   True\n",
       "\n",
       "[5 rows x 15 columns]"
      ]
     },
     "metadata": {},
     "output_type": "display_data"
    }
   ],
   "source": [
    "titanic = sns.load_dataset('titanic')\n",
    "display(titanic.info(), titanic.head())"
   ]
  },
  {
   "cell_type": "code",
   "execution_count": 5,
   "metadata": {
    "executionInfo": {
     "elapsed": 64,
     "status": "ok",
     "timestamp": 1635509147933,
     "user": {
      "displayName": "Samuel Doan",
      "photoUrl": "https://lh3.googleusercontent.com/a-/AOh14GjbcdQ40FcyCSIyitBN2ptY3zHWA_09harKPYF2=s64",
      "userId": "04384888964432338542"
     },
     "user_tz": -420
    },
    "id": "SDFuyb_ZVXzZ"
   },
   "outputs": [],
   "source": [
    "# titanic = titanic.drop(columns=['survived', 'pclass', 'embarked', 'who', 'adult_male', 'alone'])\n",
    "# titanic"
   ]
  },
  {
   "cell_type": "markdown",
   "metadata": {
    "id": "kGYH9_SdVXzb"
   },
   "source": [
    "## Kiểm tra chất lượng dữ liệu"
   ]
  },
  {
   "cell_type": "code",
   "execution_count": 6,
   "metadata": {
    "colab": {
     "base_uri": "https://localhost:8080/"
    },
    "executionInfo": {
     "elapsed": 65,
     "status": "ok",
     "timestamp": 1635509147935,
     "user": {
      "displayName": "Samuel Doan",
      "photoUrl": "https://lh3.googleusercontent.com/a-/AOh14GjbcdQ40FcyCSIyitBN2ptY3zHWA_09harKPYF2=s64",
      "userId": "04384888964432338542"
     },
     "user_tz": -420
    },
    "id": "uNOIqBuzVXzq",
    "outputId": "5b3b7292-4491-4aaa-8835-e8ac7ab681f8"
   },
   "outputs": [
    {
     "data": {
      "text/plain": [
       "survived         0\n",
       "pclass           0\n",
       "sex              0\n",
       "age            177\n",
       "sibsp            0\n",
       "parch            0\n",
       "fare             0\n",
       "embarked         2\n",
       "class            0\n",
       "who              0\n",
       "adult_male       0\n",
       "deck           688\n",
       "embark_town      2\n",
       "alive            0\n",
       "alone            0\n",
       "dtype: int64"
      ]
     },
     "execution_count": 6,
     "metadata": {},
     "output_type": "execute_result"
    }
   ],
   "source": [
    "titanic.isnull().sum() # Python True = 1, False = 0"
   ]
  },
  {
   "cell_type": "markdown",
   "metadata": {
    "id": "vQfdkwHSVXzs"
   },
   "source": [
    "## Xử lý chất lượng dữ liệu"
   ]
  },
  {
   "cell_type": "markdown",
   "metadata": {
    "id": "6QqBx5k98H19"
   },
   "source": [
    "### Thuyết âm mưu 1: Deck theo hạng vé"
   ]
  },
  {
   "cell_type": "code",
   "execution_count": 7,
   "metadata": {
    "colab": {
     "base_uri": "https://localhost:8080/",
     "height": 300
    },
    "executionInfo": {
     "elapsed": 61,
     "status": "ok",
     "timestamp": 1635509147938,
     "user": {
      "displayName": "Samuel Doan",
      "photoUrl": "https://lh3.googleusercontent.com/a-/AOh14GjbcdQ40FcyCSIyitBN2ptY3zHWA_09harKPYF2=s64",
      "userId": "04384888964432338542"
     },
     "user_tz": -420
    },
    "id": "kuQ1fJvAmclz",
    "outputId": "349c33bc-e0a9-4be3-c97d-c52534051f71"
   },
   "outputs": [
    {
     "data": {
      "text/html": [
       "<div>\n",
       "<style scoped>\n",
       "    .dataframe tbody tr th:only-of-type {\n",
       "        vertical-align: middle;\n",
       "    }\n",
       "\n",
       "    .dataframe tbody tr th {\n",
       "        vertical-align: top;\n",
       "    }\n",
       "\n",
       "    .dataframe thead th {\n",
       "        text-align: right;\n",
       "    }\n",
       "</style>\n",
       "<table border=\"1\" class=\"dataframe\">\n",
       "  <thead>\n",
       "    <tr style=\"text-align: right;\">\n",
       "      <th>pclass</th>\n",
       "      <th>1</th>\n",
       "      <th>2</th>\n",
       "      <th>3</th>\n",
       "    </tr>\n",
       "    <tr>\n",
       "      <th>deck</th>\n",
       "      <th></th>\n",
       "      <th></th>\n",
       "      <th></th>\n",
       "    </tr>\n",
       "  </thead>\n",
       "  <tbody>\n",
       "    <tr>\n",
       "      <th>A</th>\n",
       "      <td>15.0</td>\n",
       "      <td>0.0</td>\n",
       "      <td>0.0</td>\n",
       "    </tr>\n",
       "    <tr>\n",
       "      <th>B</th>\n",
       "      <td>47.0</td>\n",
       "      <td>0.0</td>\n",
       "      <td>0.0</td>\n",
       "    </tr>\n",
       "    <tr>\n",
       "      <th>C</th>\n",
       "      <td>59.0</td>\n",
       "      <td>0.0</td>\n",
       "      <td>0.0</td>\n",
       "    </tr>\n",
       "    <tr>\n",
       "      <th>D</th>\n",
       "      <td>29.0</td>\n",
       "      <td>4.0</td>\n",
       "      <td>0.0</td>\n",
       "    </tr>\n",
       "    <tr>\n",
       "      <th>E</th>\n",
       "      <td>25.0</td>\n",
       "      <td>4.0</td>\n",
       "      <td>3.0</td>\n",
       "    </tr>\n",
       "    <tr>\n",
       "      <th>F</th>\n",
       "      <td>0.0</td>\n",
       "      <td>8.0</td>\n",
       "      <td>5.0</td>\n",
       "    </tr>\n",
       "    <tr>\n",
       "      <th>G</th>\n",
       "      <td>0.0</td>\n",
       "      <td>0.0</td>\n",
       "      <td>4.0</td>\n",
       "    </tr>\n",
       "  </tbody>\n",
       "</table>\n",
       "</div>"
      ],
      "text/plain": [
       "pclass     1    2    3\n",
       "deck                  \n",
       "A       15.0  0.0  0.0\n",
       "B       47.0  0.0  0.0\n",
       "C       59.0  0.0  0.0\n",
       "D       29.0  4.0  0.0\n",
       "E       25.0  4.0  3.0\n",
       "F        0.0  8.0  5.0\n",
       "G        0.0  0.0  4.0"
      ]
     },
     "execution_count": 7,
     "metadata": {},
     "output_type": "execute_result"
    }
   ],
   "source": [
    "titanic.pivot_table(\n",
    "    index='deck',\n",
    "    columns='pclass',\n",
    "    values='survived',\n",
    "    aggfunc='count'\n",
    ").fillna(0)"
   ]
  },
  {
   "cell_type": "code",
   "execution_count": 8,
   "metadata": {
    "colab": {
     "base_uri": "https://localhost:8080/",
     "height": 297
    },
    "executionInfo": {
     "elapsed": 61,
     "status": "ok",
     "timestamp": 1635509147940,
     "user": {
      "displayName": "Samuel Doan",
      "photoUrl": "https://lh3.googleusercontent.com/a-/AOh14GjbcdQ40FcyCSIyitBN2ptY3zHWA_09harKPYF2=s64",
      "userId": "04384888964432338542"
     },
     "user_tz": -420
    },
    "id": "y9T-RJUynpyV",
    "outputId": "fb54bfeb-f6c1-4cfd-a9a6-6f3c5f095d53"
   },
   "outputs": [
    {
     "data": {
      "text/plain": [
       "<matplotlib.axes._subplots.AxesSubplot at 0x7f03bdb76e50>"
      ]
     },
     "execution_count": 8,
     "metadata": {},
     "output_type": "execute_result"
    },
    {
     "data": {
      "image/png": "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",
      "text/plain": [
       "<Figure size 432x288 with 1 Axes>"
      ]
     },
     "metadata": {
      "needs_background": "light"
     },
     "output_type": "display_data"
    }
   ],
   "source": [
    "sns.countplot(data=titanic, x='deck', hue='pclass')"
   ]
  },
  {
   "cell_type": "code",
   "execution_count": 9,
   "metadata": {
    "executionInfo": {
     "elapsed": 53,
     "status": "ok",
     "timestamp": 1635509147942,
     "user": {
      "displayName": "Samuel Doan",
      "photoUrl": "https://lh3.googleusercontent.com/a-/AOh14GjbcdQ40FcyCSIyitBN2ptY3zHWA_09harKPYF2=s64",
      "userId": "04384888964432338542"
     },
     "user_tz": -420
    },
    "id": "vgr3WwvooZtF"
   },
   "outputs": [],
   "source": [
    "# Logic điền: 1class = C, 2class = F, 3class = F"
   ]
  },
  {
   "cell_type": "code",
   "execution_count": 10,
   "metadata": {
    "colab": {
     "base_uri": "https://localhost:8080/"
    },
    "executionInfo": {
     "elapsed": 53,
     "status": "ok",
     "timestamp": 1635509147943,
     "user": {
      "displayName": "Samuel Doan",
      "photoUrl": "https://lh3.googleusercontent.com/a-/AOh14GjbcdQ40FcyCSIyitBN2ptY3zHWA_09harKPYF2=s64",
      "userId": "04384888964432338542"
     },
     "user_tz": -420
    },
    "id": "KgMYPq-3owBv",
    "outputId": "b782e342-4fa4-43e1-faa2-19c94e283a1d"
   },
   "outputs": [
    {
     "data": {
      "text/plain": [
       "0      F\n",
       "1      C\n",
       "2      F\n",
       "3      C\n",
       "4      F\n",
       "      ..\n",
       "886    F\n",
       "887    C\n",
       "888    F\n",
       "889    C\n",
       "890    F\n",
       "Name: pclass, Length: 891, dtype: object"
      ]
     },
     "execution_count": 10,
     "metadata": {},
     "output_type": "execute_result"
    }
   ],
   "source": [
    "deck_dict = {\n",
    "    1: 'C',\n",
    "    2: 'F',\n",
    "    3: 'F'\n",
    "}\n",
    "ser = titanic['pclass'].map(deck_dict) # pandas series mới, chưa gán đè lên dữ liệu cũ\n",
    "ser"
   ]
  },
  {
   "cell_type": "code",
   "execution_count": 11,
   "metadata": {
    "colab": {
     "base_uri": "https://localhost:8080/"
    },
    "executionInfo": {
     "elapsed": 989,
     "status": "ok",
     "timestamp": 1635509148886,
     "user": {
      "displayName": "Samuel Doan",
      "photoUrl": "https://lh3.googleusercontent.com/a-/AOh14GjbcdQ40FcyCSIyitBN2ptY3zHWA_09harKPYF2=s64",
      "userId": "04384888964432338542"
     },
     "user_tz": -420
    },
    "id": "IlGYE_pTpthA",
    "outputId": "81aa007e-7a29-4b42-870f-d9afafe82b29"
   },
   "outputs": [
    {
     "data": {
      "text/plain": [
       "0      F\n",
       "1      C\n",
       "2      F\n",
       "3      C\n",
       "4      F\n",
       "      ..\n",
       "886    F\n",
       "887    B\n",
       "888    F\n",
       "889    C\n",
       "890    F\n",
       "Name: deck, Length: 891, dtype: category\n",
       "Categories (7, object): ['A', 'B', 'C', 'D', 'E', 'F', 'G']"
      ]
     },
     "execution_count": 11,
     "metadata": {},
     "output_type": "execute_result"
    }
   ],
   "source": [
    "new_deck = titanic['deck'].combine_first(ser)\n",
    "new_deck"
   ]
  },
  {
   "cell_type": "code",
   "execution_count": 12,
   "metadata": {
    "colab": {
     "base_uri": "https://localhost:8080/"
    },
    "executionInfo": {
     "elapsed": 94,
     "status": "ok",
     "timestamp": 1635509148887,
     "user": {
      "displayName": "Samuel Doan",
      "photoUrl": "https://lh3.googleusercontent.com/a-/AOh14GjbcdQ40FcyCSIyitBN2ptY3zHWA_09harKPYF2=s64",
      "userId": "04384888964432338542"
     },
     "user_tz": -420
    },
    "id": "0kL5uWYQp7IM",
    "outputId": "a90d9220-3f23-49bf-95f1-ccac638dca23"
   },
   "outputs": [
    {
     "data": {
      "text/plain": [
       "0"
      ]
     },
     "execution_count": 12,
     "metadata": {},
     "output_type": "execute_result"
    }
   ],
   "source": [
    "new_deck.isnull().sum()"
   ]
  },
  {
   "cell_type": "code",
   "execution_count": 13,
   "metadata": {
    "executionInfo": {
     "elapsed": 87,
     "status": "ok",
     "timestamp": 1635509148888,
     "user": {
      "displayName": "Samuel Doan",
      "photoUrl": "https://lh3.googleusercontent.com/a-/AOh14GjbcdQ40FcyCSIyitBN2ptY3zHWA_09harKPYF2=s64",
      "userId": "04384888964432338542"
     },
     "user_tz": -420
    },
    "id": "1CyOgPYhqjk6"
   },
   "outputs": [],
   "source": [
    "titanic['deck'] = new_deck"
   ]
  },
  {
   "cell_type": "code",
   "execution_count": 14,
   "metadata": {
    "executionInfo": {
     "elapsed": 88,
     "status": "ok",
     "timestamp": 1635509148890,
     "user": {
      "displayName": "Samuel Doan",
      "photoUrl": "https://lh3.googleusercontent.com/a-/AOh14GjbcdQ40FcyCSIyitBN2ptY3zHWA_09harKPYF2=s64",
      "userId": "04384888964432338542"
     },
     "user_tz": -420
    },
    "id": "BCUMCTzmVXz6"
   },
   "outputs": [],
   "source": [
    "# Fillna for deck: một cách khác"
   ]
  },
  {
   "cell_type": "code",
   "execution_count": 15,
   "metadata": {
    "colab": {
     "base_uri": "https://localhost:8080/"
    },
    "executionInfo": {
     "elapsed": 89,
     "status": "ok",
     "timestamp": 1635509148892,
     "user": {
      "displayName": "Samuel Doan",
      "photoUrl": "https://lh3.googleusercontent.com/a-/AOh14GjbcdQ40FcyCSIyitBN2ptY3zHWA_09harKPYF2=s64",
      "userId": "04384888964432338542"
     },
     "user_tz": -420
    },
    "id": "7BalLUk7acl8",
    "outputId": "0abb90be-1499-4e04-e147-a72fbd74ad15"
   },
   "outputs": [
    {
     "data": {
      "text/plain": [
       "F    660\n",
       "C    100\n",
       "B     47\n",
       "D     33\n",
       "E     32\n",
       "A     15\n",
       "G      4\n",
       "Name: deck, dtype: int64"
      ]
     },
     "execution_count": 15,
     "metadata": {},
     "output_type": "execute_result"
    }
   ],
   "source": [
    "titanic['deck'].value_counts(dropna=False)"
   ]
  },
  {
   "cell_type": "code",
   "execution_count": 16,
   "metadata": {
    "colab": {
     "base_uri": "https://localhost:8080/",
     "height": 319
    },
    "executionInfo": {
     "elapsed": 133,
     "status": "error",
     "timestamp": 1635509148943,
     "user": {
      "displayName": "Samuel Doan",
      "photoUrl": "https://lh3.googleusercontent.com/a-/AOh14GjbcdQ40FcyCSIyitBN2ptY3zHWA_09harKPYF2=s64",
      "userId": "04384888964432338542"
     },
     "user_tz": -420
    },
    "id": "1NW5HgQTalSG",
    "outputId": "ddab21c6-9cbd-456b-a539-069162849e7d"
   },
   "outputs": [
    {
     "ename": "ValueError",
     "evalue": "ignored",
     "output_type": "error",
     "traceback": [
      "\u001b[0;31m---------------------------------------------------------------------------\u001b[0m",
      "\u001b[0;31mValueError\u001b[0m                                Traceback (most recent call last)",
      "\u001b[0;32m<ipython-input-16-157107663869>\u001b[0m in \u001b[0;36m<module>\u001b[0;34m()\u001b[0m\n\u001b[0;32m----> 1\u001b[0;31m \u001b[0mtitanic\u001b[0m\u001b[0;34m[\u001b[0m\u001b[0;34m'deck'\u001b[0m\u001b[0;34m]\u001b[0m\u001b[0;34m.\u001b[0m\u001b[0mfillna\u001b[0m\u001b[0;34m(\u001b[0m\u001b[0;34m'Unknown'\u001b[0m\u001b[0;34m)\u001b[0m\u001b[0;34m\u001b[0m\u001b[0;34m\u001b[0m\u001b[0m\n\u001b[0m",
      "\u001b[0;32m/usr/local/lib/python3.7/dist-packages/pandas/core/series.py\u001b[0m in \u001b[0;36mfillna\u001b[0;34m(self, value, method, axis, inplace, limit, downcast)\u001b[0m\n\u001b[1;32m   4534\u001b[0m             \u001b[0minplace\u001b[0m\u001b[0;34m=\u001b[0m\u001b[0minplace\u001b[0m\u001b[0;34m,\u001b[0m\u001b[0;34m\u001b[0m\u001b[0;34m\u001b[0m\u001b[0m\n\u001b[1;32m   4535\u001b[0m             \u001b[0mlimit\u001b[0m\u001b[0;34m=\u001b[0m\u001b[0mlimit\u001b[0m\u001b[0;34m,\u001b[0m\u001b[0;34m\u001b[0m\u001b[0;34m\u001b[0m\u001b[0m\n\u001b[0;32m-> 4536\u001b[0;31m             \u001b[0mdowncast\u001b[0m\u001b[0;34m=\u001b[0m\u001b[0mdowncast\u001b[0m\u001b[0;34m,\u001b[0m\u001b[0;34m\u001b[0m\u001b[0;34m\u001b[0m\u001b[0m\n\u001b[0m\u001b[1;32m   4537\u001b[0m         )\n\u001b[1;32m   4538\u001b[0m \u001b[0;34m\u001b[0m\u001b[0m\n",
      "\u001b[0;32m/usr/local/lib/python3.7/dist-packages/pandas/core/generic.py\u001b[0m in \u001b[0;36mfillna\u001b[0;34m(self, value, method, axis, inplace, limit, downcast)\u001b[0m\n\u001b[1;32m   6060\u001b[0m \u001b[0;34m\u001b[0m\u001b[0m\n\u001b[1;32m   6061\u001b[0m                 new_data = self._mgr.fillna(\n\u001b[0;32m-> 6062\u001b[0;31m                     \u001b[0mvalue\u001b[0m\u001b[0;34m=\u001b[0m\u001b[0mvalue\u001b[0m\u001b[0;34m,\u001b[0m \u001b[0mlimit\u001b[0m\u001b[0;34m=\u001b[0m\u001b[0mlimit\u001b[0m\u001b[0;34m,\u001b[0m \u001b[0minplace\u001b[0m\u001b[0;34m=\u001b[0m\u001b[0minplace\u001b[0m\u001b[0;34m,\u001b[0m \u001b[0mdowncast\u001b[0m\u001b[0;34m=\u001b[0m\u001b[0mdowncast\u001b[0m\u001b[0;34m\u001b[0m\u001b[0;34m\u001b[0m\u001b[0m\n\u001b[0m\u001b[1;32m   6063\u001b[0m                 )\n\u001b[1;32m   6064\u001b[0m \u001b[0;34m\u001b[0m\u001b[0m\n",
      "\u001b[0;32m/usr/local/lib/python3.7/dist-packages/pandas/core/internals/managers.py\u001b[0m in \u001b[0;36mfillna\u001b[0;34m(self, value, limit, inplace, downcast)\u001b[0m\n\u001b[1;32m    593\u001b[0m     \u001b[0;32mdef\u001b[0m \u001b[0mfillna\u001b[0m\u001b[0;34m(\u001b[0m\u001b[0mself\u001b[0m\u001b[0;34m,\u001b[0m \u001b[0mvalue\u001b[0m\u001b[0;34m,\u001b[0m \u001b[0mlimit\u001b[0m\u001b[0;34m,\u001b[0m \u001b[0minplace\u001b[0m\u001b[0;34m:\u001b[0m \u001b[0mbool\u001b[0m\u001b[0;34m,\u001b[0m \u001b[0mdowncast\u001b[0m\u001b[0;34m)\u001b[0m \u001b[0;34m->\u001b[0m \u001b[0;34m\"BlockManager\"\u001b[0m\u001b[0;34m:\u001b[0m\u001b[0;34m\u001b[0m\u001b[0;34m\u001b[0m\u001b[0m\n\u001b[1;32m    594\u001b[0m         return self.apply(\n\u001b[0;32m--> 595\u001b[0;31m             \u001b[0;34m\"fillna\"\u001b[0m\u001b[0;34m,\u001b[0m \u001b[0mvalue\u001b[0m\u001b[0;34m=\u001b[0m\u001b[0mvalue\u001b[0m\u001b[0;34m,\u001b[0m \u001b[0mlimit\u001b[0m\u001b[0;34m=\u001b[0m\u001b[0mlimit\u001b[0m\u001b[0;34m,\u001b[0m \u001b[0minplace\u001b[0m\u001b[0;34m=\u001b[0m\u001b[0minplace\u001b[0m\u001b[0;34m,\u001b[0m \u001b[0mdowncast\u001b[0m\u001b[0;34m=\u001b[0m\u001b[0mdowncast\u001b[0m\u001b[0;34m\u001b[0m\u001b[0;34m\u001b[0m\u001b[0m\n\u001b[0m\u001b[1;32m    596\u001b[0m         )\n\u001b[1;32m    597\u001b[0m \u001b[0;34m\u001b[0m\u001b[0m\n",
      "\u001b[0;32m/usr/local/lib/python3.7/dist-packages/pandas/core/internals/managers.py\u001b[0m in \u001b[0;36mapply\u001b[0;34m(self, f, align_keys, **kwargs)\u001b[0m\n\u001b[1;32m    407\u001b[0m                 \u001b[0mapplied\u001b[0m \u001b[0;34m=\u001b[0m \u001b[0mb\u001b[0m\u001b[0;34m.\u001b[0m\u001b[0mapply\u001b[0m\u001b[0;34m(\u001b[0m\u001b[0mf\u001b[0m\u001b[0;34m,\u001b[0m \u001b[0;34m**\u001b[0m\u001b[0mkwargs\u001b[0m\u001b[0;34m)\u001b[0m\u001b[0;34m\u001b[0m\u001b[0;34m\u001b[0m\u001b[0m\n\u001b[1;32m    408\u001b[0m             \u001b[0;32melse\u001b[0m\u001b[0;34m:\u001b[0m\u001b[0;34m\u001b[0m\u001b[0;34m\u001b[0m\u001b[0m\n\u001b[0;32m--> 409\u001b[0;31m                 \u001b[0mapplied\u001b[0m \u001b[0;34m=\u001b[0m \u001b[0mgetattr\u001b[0m\u001b[0;34m(\u001b[0m\u001b[0mb\u001b[0m\u001b[0;34m,\u001b[0m \u001b[0mf\u001b[0m\u001b[0;34m)\u001b[0m\u001b[0;34m(\u001b[0m\u001b[0;34m**\u001b[0m\u001b[0mkwargs\u001b[0m\u001b[0;34m)\u001b[0m\u001b[0;34m\u001b[0m\u001b[0;34m\u001b[0m\u001b[0m\n\u001b[0m\u001b[1;32m    410\u001b[0m             \u001b[0mresult_blocks\u001b[0m \u001b[0;34m=\u001b[0m \u001b[0m_extend_blocks\u001b[0m\u001b[0;34m(\u001b[0m\u001b[0mapplied\u001b[0m\u001b[0;34m,\u001b[0m \u001b[0mresult_blocks\u001b[0m\u001b[0;34m)\u001b[0m\u001b[0;34m\u001b[0m\u001b[0;34m\u001b[0m\u001b[0m\n\u001b[1;32m    411\u001b[0m \u001b[0;34m\u001b[0m\u001b[0m\n",
      "\u001b[0;32m/usr/local/lib/python3.7/dist-packages/pandas/core/internals/blocks.py\u001b[0m in \u001b[0;36mfillna\u001b[0;34m(self, value, limit, inplace, downcast)\u001b[0m\n\u001b[1;32m   1777\u001b[0m     \u001b[0;32mdef\u001b[0m \u001b[0mfillna\u001b[0m\u001b[0;34m(\u001b[0m\u001b[0mself\u001b[0m\u001b[0;34m,\u001b[0m \u001b[0mvalue\u001b[0m\u001b[0;34m,\u001b[0m \u001b[0mlimit\u001b[0m\u001b[0;34m=\u001b[0m\u001b[0;32mNone\u001b[0m\u001b[0;34m,\u001b[0m \u001b[0minplace\u001b[0m\u001b[0;34m=\u001b[0m\u001b[0;32mFalse\u001b[0m\u001b[0;34m,\u001b[0m \u001b[0mdowncast\u001b[0m\u001b[0;34m=\u001b[0m\u001b[0;32mNone\u001b[0m\u001b[0;34m)\u001b[0m\u001b[0;34m:\u001b[0m\u001b[0;34m\u001b[0m\u001b[0;34m\u001b[0m\u001b[0m\n\u001b[1;32m   1778\u001b[0m         \u001b[0mvalues\u001b[0m \u001b[0;34m=\u001b[0m \u001b[0mself\u001b[0m\u001b[0;34m.\u001b[0m\u001b[0mvalues\u001b[0m \u001b[0;32mif\u001b[0m \u001b[0minplace\u001b[0m \u001b[0;32melse\u001b[0m \u001b[0mself\u001b[0m\u001b[0;34m.\u001b[0m\u001b[0mvalues\u001b[0m\u001b[0;34m.\u001b[0m\u001b[0mcopy\u001b[0m\u001b[0;34m(\u001b[0m\u001b[0;34m)\u001b[0m\u001b[0;34m\u001b[0m\u001b[0;34m\u001b[0m\u001b[0m\n\u001b[0;32m-> 1779\u001b[0;31m         \u001b[0mvalues\u001b[0m \u001b[0;34m=\u001b[0m \u001b[0mvalues\u001b[0m\u001b[0;34m.\u001b[0m\u001b[0mfillna\u001b[0m\u001b[0;34m(\u001b[0m\u001b[0mvalue\u001b[0m\u001b[0;34m=\u001b[0m\u001b[0mvalue\u001b[0m\u001b[0;34m,\u001b[0m \u001b[0mlimit\u001b[0m\u001b[0;34m=\u001b[0m\u001b[0mlimit\u001b[0m\u001b[0;34m)\u001b[0m\u001b[0;34m\u001b[0m\u001b[0;34m\u001b[0m\u001b[0m\n\u001b[0m\u001b[1;32m   1780\u001b[0m         return [\n\u001b[1;32m   1781\u001b[0m             self.make_block_same_class(\n",
      "\u001b[0;32m/usr/local/lib/python3.7/dist-packages/pandas/core/arrays/categorical.py\u001b[0m in \u001b[0;36mfillna\u001b[0;34m(self, value, method, limit)\u001b[0m\n\u001b[1;32m   1719\u001b[0m             \u001b[0;32melif\u001b[0m \u001b[0mis_hashable\u001b[0m\u001b[0;34m(\u001b[0m\u001b[0mvalue\u001b[0m\u001b[0;34m)\u001b[0m\u001b[0;34m:\u001b[0m\u001b[0;34m\u001b[0m\u001b[0;34m\u001b[0m\u001b[0m\n\u001b[1;32m   1720\u001b[0m                 \u001b[0;32mif\u001b[0m \u001b[0;32mnot\u001b[0m \u001b[0misna\u001b[0m\u001b[0;34m(\u001b[0m\u001b[0mvalue\u001b[0m\u001b[0;34m)\u001b[0m \u001b[0;32mand\u001b[0m \u001b[0mvalue\u001b[0m \u001b[0;32mnot\u001b[0m \u001b[0;32min\u001b[0m \u001b[0mself\u001b[0m\u001b[0;34m.\u001b[0m\u001b[0mcategories\u001b[0m\u001b[0;34m:\u001b[0m\u001b[0;34m\u001b[0m\u001b[0;34m\u001b[0m\u001b[0m\n\u001b[0;32m-> 1721\u001b[0;31m                     \u001b[0;32mraise\u001b[0m \u001b[0mValueError\u001b[0m\u001b[0;34m(\u001b[0m\u001b[0;34m\"fill value must be in categories\"\u001b[0m\u001b[0;34m)\u001b[0m\u001b[0;34m\u001b[0m\u001b[0;34m\u001b[0m\u001b[0m\n\u001b[0m\u001b[1;32m   1722\u001b[0m \u001b[0;34m\u001b[0m\u001b[0m\n\u001b[1;32m   1723\u001b[0m                 \u001b[0mmask\u001b[0m \u001b[0;34m=\u001b[0m \u001b[0mcodes\u001b[0m \u001b[0;34m==\u001b[0m \u001b[0;34m-\u001b[0m\u001b[0;36m1\u001b[0m\u001b[0;34m\u001b[0m\u001b[0;34m\u001b[0m\u001b[0m\n",
      "\u001b[0;31mValueError\u001b[0m: fill value must be in categories"
     ]
    }
   ],
   "source": [
    "titanic['deck'].fillna('Unknown') # Do dữ liệu dạng Category thì phải thêm Category trước khi\n",
    "# fillna"
   ]
  },
  {
   "cell_type": "code",
   "execution_count": 17,
   "metadata": {
    "colab": {
     "base_uri": "https://localhost:8080/"
    },
    "executionInfo": {
     "elapsed": 987,
     "status": "ok",
     "timestamp": 1635509200799,
     "user": {
      "displayName": "Samuel Doan",
      "photoUrl": "https://lh3.googleusercontent.com/a-/AOh14GjbcdQ40FcyCSIyitBN2ptY3zHWA_09harKPYF2=s64",
      "userId": "04384888964432338542"
     },
     "user_tz": -420
    },
    "id": "4aWZo1EZaxBo",
    "outputId": "879ced35-881f-45aa-f7c2-9c5513752f6a"
   },
   "outputs": [
    {
     "data": {
      "text/plain": [
       "0      F\n",
       "1      C\n",
       "2      F\n",
       "3      C\n",
       "4      F\n",
       "      ..\n",
       "886    F\n",
       "887    B\n",
       "888    F\n",
       "889    C\n",
       "890    F\n",
       "Name: deck, Length: 891, dtype: category\n",
       "Categories (8, object): ['A', 'B', 'C', 'D', 'E', 'F', 'G', 'Unknown']"
      ]
     },
     "execution_count": 17,
     "metadata": {},
     "output_type": "execute_result"
    }
   ],
   "source": [
    "titanic['deck'] = titanic['deck'].cat.add_categories('Unknown')\n",
    "titanic['deck']"
   ]
  },
  {
   "cell_type": "code",
   "execution_count": 18,
   "metadata": {
    "colab": {
     "base_uri": "https://localhost:8080/"
    },
    "executionInfo": {
     "elapsed": 34,
     "status": "ok",
     "timestamp": 1635509200800,
     "user": {
      "displayName": "Samuel Doan",
      "photoUrl": "https://lh3.googleusercontent.com/a-/AOh14GjbcdQ40FcyCSIyitBN2ptY3zHWA_09harKPYF2=s64",
      "userId": "04384888964432338542"
     },
     "user_tz": -420
    },
    "id": "MFMIuloLbrSO",
    "outputId": "f09b3ca4-d8bb-4c45-9902-045a7f73c03f"
   },
   "outputs": [
    {
     "data": {
      "text/plain": [
       "0      F\n",
       "1      C\n",
       "2      F\n",
       "3      C\n",
       "4      F\n",
       "      ..\n",
       "886    F\n",
       "887    B\n",
       "888    F\n",
       "889    C\n",
       "890    F\n",
       "Name: deck, Length: 891, dtype: category\n",
       "Categories (8, object): ['A', 'B', 'C', 'D', 'E', 'F', 'G', 'Unknown']"
      ]
     },
     "execution_count": 18,
     "metadata": {},
     "output_type": "execute_result"
    }
   ],
   "source": [
    "titanic['deck'].fillna('Unknown')"
   ]
  },
  {
   "cell_type": "code",
   "execution_count": 19,
   "metadata": {
    "executionInfo": {
     "elapsed": 20,
     "status": "ok",
     "timestamp": 1635509200802,
     "user": {
      "displayName": "Samuel Doan",
      "photoUrl": "https://lh3.googleusercontent.com/a-/AOh14GjbcdQ40FcyCSIyitBN2ptY3zHWA_09harKPYF2=s64",
      "userId": "04384888964432338542"
     },
     "user_tz": -420
    },
    "id": "6oEFbjFjbz6c"
   },
   "outputs": [],
   "source": [
    "titanic['deck'] = titanic['deck'].fillna('Unknown')"
   ]
  },
  {
   "cell_type": "code",
   "execution_count": 20,
   "metadata": {
    "colab": {
     "base_uri": "https://localhost:8080/"
    },
    "executionInfo": {
     "elapsed": 22,
     "status": "ok",
     "timestamp": 1635509200805,
     "user": {
      "displayName": "Samuel Doan",
      "photoUrl": "https://lh3.googleusercontent.com/a-/AOh14GjbcdQ40FcyCSIyitBN2ptY3zHWA_09harKPYF2=s64",
      "userId": "04384888964432338542"
     },
     "user_tz": -420
    },
    "id": "Go6ePyufb7eC",
    "outputId": "e7e832da-ad01-4103-e8c2-9fcf82baaf41"
   },
   "outputs": [
    {
     "data": {
      "text/plain": [
       "0"
      ]
     },
     "execution_count": 20,
     "metadata": {},
     "output_type": "execute_result"
    }
   ],
   "source": [
    "titanic['deck'].isnull().sum()"
   ]
  },
  {
   "cell_type": "markdown",
   "metadata": {
    "id": "MTebWXox8H2Q"
   },
   "source": [
    "### Thuyết âm mưu 02: Embark Town"
   ]
  },
  {
   "cell_type": "code",
   "execution_count": 21,
   "metadata": {
    "colab": {
     "base_uri": "https://localhost:8080/"
    },
    "executionInfo": {
     "elapsed": 2233,
     "status": "ok",
     "timestamp": 1635509204268,
     "user": {
      "displayName": "Samuel Doan",
      "photoUrl": "https://lh3.googleusercontent.com/a-/AOh14GjbcdQ40FcyCSIyitBN2ptY3zHWA_09harKPYF2=s64",
      "userId": "04384888964432338542"
     },
     "user_tz": -420
    },
    "id": "tI1JMslgXEcb",
    "outputId": "28fb2c2c-b63a-4784-c44d-9764fbf09186"
   },
   "outputs": [
    {
     "data": {
      "text/plain": [
       "Southampton    644\n",
       "Cherbourg      168\n",
       "Queenstown      77\n",
       "NaN              2\n",
       "Name: embark_town, dtype: int64"
      ]
     },
     "execution_count": 21,
     "metadata": {},
     "output_type": "execute_result"
    }
   ],
   "source": [
    "titanic['embark_town'].value_counts(dropna=False)"
   ]
  },
  {
   "cell_type": "code",
   "execution_count": 22,
   "metadata": {
    "colab": {
     "base_uri": "https://localhost:8080/",
     "height": 112
    },
    "executionInfo": {
     "elapsed": 19,
     "status": "ok",
     "timestamp": 1635509204270,
     "user": {
      "displayName": "Samuel Doan",
      "photoUrl": "https://lh3.googleusercontent.com/a-/AOh14GjbcdQ40FcyCSIyitBN2ptY3zHWA_09harKPYF2=s64",
      "userId": "04384888964432338542"
     },
     "user_tz": -420
    },
    "id": "hQKrtHoMXUAC",
    "outputId": "e0d048af-858a-470f-a9f7-b55bbcbed8ca"
   },
   "outputs": [
    {
     "data": {
      "text/html": [
       "<div>\n",
       "<style scoped>\n",
       "    .dataframe tbody tr th:only-of-type {\n",
       "        vertical-align: middle;\n",
       "    }\n",
       "\n",
       "    .dataframe tbody tr th {\n",
       "        vertical-align: top;\n",
       "    }\n",
       "\n",
       "    .dataframe thead th {\n",
       "        text-align: right;\n",
       "    }\n",
       "</style>\n",
       "<table border=\"1\" class=\"dataframe\">\n",
       "  <thead>\n",
       "    <tr style=\"text-align: right;\">\n",
       "      <th></th>\n",
       "      <th>survived</th>\n",
       "      <th>pclass</th>\n",
       "      <th>sex</th>\n",
       "      <th>age</th>\n",
       "      <th>sibsp</th>\n",
       "      <th>parch</th>\n",
       "      <th>fare</th>\n",
       "      <th>embarked</th>\n",
       "      <th>class</th>\n",
       "      <th>who</th>\n",
       "      <th>adult_male</th>\n",
       "      <th>deck</th>\n",
       "      <th>embark_town</th>\n",
       "      <th>alive</th>\n",
       "      <th>alone</th>\n",
       "    </tr>\n",
       "  </thead>\n",
       "  <tbody>\n",
       "    <tr>\n",
       "      <th>61</th>\n",
       "      <td>1</td>\n",
       "      <td>1</td>\n",
       "      <td>female</td>\n",
       "      <td>38.0</td>\n",
       "      <td>0</td>\n",
       "      <td>0</td>\n",
       "      <td>80.0</td>\n",
       "      <td>NaN</td>\n",
       "      <td>First</td>\n",
       "      <td>woman</td>\n",
       "      <td>False</td>\n",
       "      <td>B</td>\n",
       "      <td>NaN</td>\n",
       "      <td>yes</td>\n",
       "      <td>True</td>\n",
       "    </tr>\n",
       "    <tr>\n",
       "      <th>829</th>\n",
       "      <td>1</td>\n",
       "      <td>1</td>\n",
       "      <td>female</td>\n",
       "      <td>62.0</td>\n",
       "      <td>0</td>\n",
       "      <td>0</td>\n",
       "      <td>80.0</td>\n",
       "      <td>NaN</td>\n",
       "      <td>First</td>\n",
       "      <td>woman</td>\n",
       "      <td>False</td>\n",
       "      <td>B</td>\n",
       "      <td>NaN</td>\n",
       "      <td>yes</td>\n",
       "      <td>True</td>\n",
       "    </tr>\n",
       "  </tbody>\n",
       "</table>\n",
       "</div>"
      ],
      "text/plain": [
       "     survived  pclass     sex   age  ...  deck  embark_town  alive alone\n",
       "61          1       1  female  38.0  ...     B          NaN    yes  True\n",
       "829         1       1  female  62.0  ...     B          NaN    yes  True\n",
       "\n",
       "[2 rows x 15 columns]"
      ]
     },
     "execution_count": 22,
     "metadata": {},
     "output_type": "execute_result"
    }
   ],
   "source": [
    "filter1 = titanic['embark_town'].isnull() # lọc các bản ghi bị thiếu dữ liệu embark_town\n",
    "titanic[filter1]"
   ]
  },
  {
   "cell_type": "code",
   "execution_count": 23,
   "metadata": {
    "colab": {
     "base_uri": "https://localhost:8080/"
    },
    "executionInfo": {
     "elapsed": 27,
     "status": "ok",
     "timestamp": 1635509206530,
     "user": {
      "displayName": "Samuel Doan",
      "photoUrl": "https://lh3.googleusercontent.com/a-/AOh14GjbcdQ40FcyCSIyitBN2ptY3zHWA_09harKPYF2=s64",
      "userId": "04384888964432338542"
     },
     "user_tz": -420
    },
    "id": "1Kzin9KYXtnV",
    "outputId": "ce94d429-695c-4fa3-a53c-6ad5e79e2987"
   },
   "outputs": [
    {
     "data": {
      "text/plain": [
       "0      Southampton\n",
       "1        Cherbourg\n",
       "2      Southampton\n",
       "3      Southampton\n",
       "4      Southampton\n",
       "          ...     \n",
       "886    Southampton\n",
       "887    Southampton\n",
       "888    Southampton\n",
       "889      Cherbourg\n",
       "890     Queenstown\n",
       "Name: embark_town, Length: 891, dtype: object"
      ]
     },
     "execution_count": 23,
     "metadata": {},
     "output_type": "execute_result"
    }
   ],
   "source": [
    "titanic['embark_town'].fillna('Unknown') # No brainer (ít quan sát bị thiếu)"
   ]
  },
  {
   "cell_type": "code",
   "execution_count": 24,
   "metadata": {
    "colab": {
     "base_uri": "https://localhost:8080/",
     "height": 424
    },
    "executionInfo": {
     "elapsed": 23,
     "status": "ok",
     "timestamp": 1635509206531,
     "user": {
      "displayName": "Samuel Doan",
      "photoUrl": "https://lh3.googleusercontent.com/a-/AOh14GjbcdQ40FcyCSIyitBN2ptY3zHWA_09harKPYF2=s64",
      "userId": "04384888964432338542"
     },
     "user_tz": -420
    },
    "id": "aN5BlmGTYLj_",
    "outputId": "109f2d72-34a4-4ebf-a65f-f5adc6934977"
   },
   "outputs": [
    {
     "data": {
      "text/html": [
       "<div>\n",
       "<style scoped>\n",
       "    .dataframe tbody tr th:only-of-type {\n",
       "        vertical-align: middle;\n",
       "    }\n",
       "\n",
       "    .dataframe tbody tr th {\n",
       "        vertical-align: top;\n",
       "    }\n",
       "\n",
       "    .dataframe thead th {\n",
       "        text-align: right;\n",
       "    }\n",
       "</style>\n",
       "<table border=\"1\" class=\"dataframe\">\n",
       "  <thead>\n",
       "    <tr style=\"text-align: right;\">\n",
       "      <th></th>\n",
       "      <th>survived</th>\n",
       "      <th>pclass</th>\n",
       "      <th>sex</th>\n",
       "      <th>age</th>\n",
       "      <th>sibsp</th>\n",
       "      <th>parch</th>\n",
       "      <th>fare</th>\n",
       "      <th>embarked</th>\n",
       "      <th>class</th>\n",
       "      <th>who</th>\n",
       "      <th>adult_male</th>\n",
       "      <th>deck</th>\n",
       "      <th>embark_town</th>\n",
       "      <th>alive</th>\n",
       "      <th>alone</th>\n",
       "    </tr>\n",
       "  </thead>\n",
       "  <tbody>\n",
       "    <tr>\n",
       "      <th>1</th>\n",
       "      <td>1</td>\n",
       "      <td>1</td>\n",
       "      <td>female</td>\n",
       "      <td>38.0</td>\n",
       "      <td>1</td>\n",
       "      <td>0</td>\n",
       "      <td>71.2833</td>\n",
       "      <td>C</td>\n",
       "      <td>First</td>\n",
       "      <td>woman</td>\n",
       "      <td>False</td>\n",
       "      <td>C</td>\n",
       "      <td>Cherbourg</td>\n",
       "      <td>yes</td>\n",
       "      <td>False</td>\n",
       "    </tr>\n",
       "    <tr>\n",
       "      <th>3</th>\n",
       "      <td>1</td>\n",
       "      <td>1</td>\n",
       "      <td>female</td>\n",
       "      <td>35.0</td>\n",
       "      <td>1</td>\n",
       "      <td>0</td>\n",
       "      <td>53.1000</td>\n",
       "      <td>S</td>\n",
       "      <td>First</td>\n",
       "      <td>woman</td>\n",
       "      <td>False</td>\n",
       "      <td>C</td>\n",
       "      <td>Southampton</td>\n",
       "      <td>yes</td>\n",
       "      <td>False</td>\n",
       "    </tr>\n",
       "    <tr>\n",
       "      <th>11</th>\n",
       "      <td>1</td>\n",
       "      <td>1</td>\n",
       "      <td>female</td>\n",
       "      <td>58.0</td>\n",
       "      <td>0</td>\n",
       "      <td>0</td>\n",
       "      <td>26.5500</td>\n",
       "      <td>S</td>\n",
       "      <td>First</td>\n",
       "      <td>woman</td>\n",
       "      <td>False</td>\n",
       "      <td>C</td>\n",
       "      <td>Southampton</td>\n",
       "      <td>yes</td>\n",
       "      <td>True</td>\n",
       "    </tr>\n",
       "    <tr>\n",
       "      <th>31</th>\n",
       "      <td>1</td>\n",
       "      <td>1</td>\n",
       "      <td>female</td>\n",
       "      <td>NaN</td>\n",
       "      <td>1</td>\n",
       "      <td>0</td>\n",
       "      <td>146.5208</td>\n",
       "      <td>C</td>\n",
       "      <td>First</td>\n",
       "      <td>woman</td>\n",
       "      <td>False</td>\n",
       "      <td>B</td>\n",
       "      <td>Cherbourg</td>\n",
       "      <td>yes</td>\n",
       "      <td>False</td>\n",
       "    </tr>\n",
       "    <tr>\n",
       "      <th>52</th>\n",
       "      <td>1</td>\n",
       "      <td>1</td>\n",
       "      <td>female</td>\n",
       "      <td>49.0</td>\n",
       "      <td>1</td>\n",
       "      <td>0</td>\n",
       "      <td>76.7292</td>\n",
       "      <td>C</td>\n",
       "      <td>First</td>\n",
       "      <td>woman</td>\n",
       "      <td>False</td>\n",
       "      <td>D</td>\n",
       "      <td>Cherbourg</td>\n",
       "      <td>yes</td>\n",
       "      <td>False</td>\n",
       "    </tr>\n",
       "    <tr>\n",
       "      <th>...</th>\n",
       "      <td>...</td>\n",
       "      <td>...</td>\n",
       "      <td>...</td>\n",
       "      <td>...</td>\n",
       "      <td>...</td>\n",
       "      <td>...</td>\n",
       "      <td>...</td>\n",
       "      <td>...</td>\n",
       "      <td>...</td>\n",
       "      <td>...</td>\n",
       "      <td>...</td>\n",
       "      <td>...</td>\n",
       "      <td>...</td>\n",
       "      <td>...</td>\n",
       "      <td>...</td>\n",
       "    </tr>\n",
       "    <tr>\n",
       "      <th>856</th>\n",
       "      <td>1</td>\n",
       "      <td>1</td>\n",
       "      <td>female</td>\n",
       "      <td>45.0</td>\n",
       "      <td>1</td>\n",
       "      <td>1</td>\n",
       "      <td>164.8667</td>\n",
       "      <td>S</td>\n",
       "      <td>First</td>\n",
       "      <td>woman</td>\n",
       "      <td>False</td>\n",
       "      <td>C</td>\n",
       "      <td>Southampton</td>\n",
       "      <td>yes</td>\n",
       "      <td>False</td>\n",
       "    </tr>\n",
       "    <tr>\n",
       "      <th>862</th>\n",
       "      <td>1</td>\n",
       "      <td>1</td>\n",
       "      <td>female</td>\n",
       "      <td>48.0</td>\n",
       "      <td>0</td>\n",
       "      <td>0</td>\n",
       "      <td>25.9292</td>\n",
       "      <td>S</td>\n",
       "      <td>First</td>\n",
       "      <td>woman</td>\n",
       "      <td>False</td>\n",
       "      <td>D</td>\n",
       "      <td>Southampton</td>\n",
       "      <td>yes</td>\n",
       "      <td>True</td>\n",
       "    </tr>\n",
       "    <tr>\n",
       "      <th>871</th>\n",
       "      <td>1</td>\n",
       "      <td>1</td>\n",
       "      <td>female</td>\n",
       "      <td>47.0</td>\n",
       "      <td>1</td>\n",
       "      <td>1</td>\n",
       "      <td>52.5542</td>\n",
       "      <td>S</td>\n",
       "      <td>First</td>\n",
       "      <td>woman</td>\n",
       "      <td>False</td>\n",
       "      <td>D</td>\n",
       "      <td>Southampton</td>\n",
       "      <td>yes</td>\n",
       "      <td>False</td>\n",
       "    </tr>\n",
       "    <tr>\n",
       "      <th>879</th>\n",
       "      <td>1</td>\n",
       "      <td>1</td>\n",
       "      <td>female</td>\n",
       "      <td>56.0</td>\n",
       "      <td>0</td>\n",
       "      <td>1</td>\n",
       "      <td>83.1583</td>\n",
       "      <td>C</td>\n",
       "      <td>First</td>\n",
       "      <td>woman</td>\n",
       "      <td>False</td>\n",
       "      <td>C</td>\n",
       "      <td>Cherbourg</td>\n",
       "      <td>yes</td>\n",
       "      <td>False</td>\n",
       "    </tr>\n",
       "    <tr>\n",
       "      <th>887</th>\n",
       "      <td>1</td>\n",
       "      <td>1</td>\n",
       "      <td>female</td>\n",
       "      <td>19.0</td>\n",
       "      <td>0</td>\n",
       "      <td>0</td>\n",
       "      <td>30.0000</td>\n",
       "      <td>S</td>\n",
       "      <td>First</td>\n",
       "      <td>woman</td>\n",
       "      <td>False</td>\n",
       "      <td>B</td>\n",
       "      <td>Southampton</td>\n",
       "      <td>yes</td>\n",
       "      <td>True</td>\n",
       "    </tr>\n",
       "  </tbody>\n",
       "</table>\n",
       "<p>91 rows × 15 columns</p>\n",
       "</div>"
      ],
      "text/plain": [
       "     survived  pclass     sex   age  ...  deck  embark_town  alive  alone\n",
       "1           1       1  female  38.0  ...     C    Cherbourg    yes  False\n",
       "3           1       1  female  35.0  ...     C  Southampton    yes  False\n",
       "11          1       1  female  58.0  ...     C  Southampton    yes   True\n",
       "31          1       1  female   NaN  ...     B    Cherbourg    yes  False\n",
       "52          1       1  female  49.0  ...     D    Cherbourg    yes  False\n",
       "..        ...     ...     ...   ...  ...   ...          ...    ...    ...\n",
       "856         1       1  female  45.0  ...     C  Southampton    yes  False\n",
       "862         1       1  female  48.0  ...     D  Southampton    yes   True\n",
       "871         1       1  female  47.0  ...     D  Southampton    yes  False\n",
       "879         1       1  female  56.0  ...     C    Cherbourg    yes  False\n",
       "887         1       1  female  19.0  ...     B  Southampton    yes   True\n",
       "\n",
       "[91 rows x 15 columns]"
      ]
     },
     "execution_count": 24,
     "metadata": {},
     "output_type": "execute_result"
    }
   ],
   "source": [
    "filter1 = (titanic['who'] == 'woman') \n",
    "filter2 = (titanic['class'] == 'First')\n",
    "# filter3 = (titanic['fare'] == 80)\n",
    "ser = titanic[filter1 & filter2]\n",
    "ser"
   ]
  },
  {
   "cell_type": "code",
   "execution_count": 25,
   "metadata": {
    "colab": {
     "base_uri": "https://localhost:8080/"
    },
    "executionInfo": {
     "elapsed": 20,
     "status": "ok",
     "timestamp": 1635509206531,
     "user": {
      "displayName": "Samuel Doan",
      "photoUrl": "https://lh3.googleusercontent.com/a-/AOh14GjbcdQ40FcyCSIyitBN2ptY3zHWA_09harKPYF2=s64",
      "userId": "04384888964432338542"
     },
     "user_tz": -420
    },
    "id": "Addd-x3DZILo",
    "outputId": "0c167e7b-f3d7-460a-fe87-f5c0cb658a39"
   },
   "outputs": [
    {
     "data": {
      "text/plain": [
       "Southampton    45\n",
       "Cherbourg      43\n",
       "Queenstown      1\n",
       "Name: embark_town, dtype: int64"
      ]
     },
     "execution_count": 25,
     "metadata": {},
     "output_type": "execute_result"
    }
   ],
   "source": [
    "ser['embark_town'].value_counts() # mặc định sẽ thể hiện giá trị lớn nhất trên cùng .index[0]"
   ]
  },
  {
   "cell_type": "code",
   "execution_count": 26,
   "metadata": {
    "colab": {
     "base_uri": "https://localhost:8080/",
     "height": 35
    },
    "executionInfo": {
     "elapsed": 36,
     "status": "ok",
     "timestamp": 1635509207700,
     "user": {
      "displayName": "Samuel Doan",
      "photoUrl": "https://lh3.googleusercontent.com/a-/AOh14GjbcdQ40FcyCSIyitBN2ptY3zHWA_09harKPYF2=s64",
      "userId": "04384888964432338542"
     },
     "user_tz": -420
    },
    "id": "VOU8TtSZZVn0",
    "outputId": "12b54d1b-43f1-4dbb-c979-fb5406ac83e8"
   },
   "outputs": [
    {
     "data": {
      "application/vnd.google.colaboratory.intrinsic+json": {
       "type": "string"
      },
      "text/plain": [
       "'Southampton'"
      ]
     },
     "execution_count": 26,
     "metadata": {},
     "output_type": "execute_result"
    }
   ],
   "source": [
    "most_pop_town = ser['embark_town'].value_counts().idxmax()\n",
    "most_pop_town"
   ]
  },
  {
   "cell_type": "code",
   "execution_count": 27,
   "metadata": {
    "executionInfo": {
     "elapsed": 35,
     "status": "ok",
     "timestamp": 1635509207702,
     "user": {
      "displayName": "Samuel Doan",
      "photoUrl": "https://lh3.googleusercontent.com/a-/AOh14GjbcdQ40FcyCSIyitBN2ptY3zHWA_09harKPYF2=s64",
      "userId": "04384888964432338542"
     },
     "user_tz": -420
    },
    "id": "1zLlSARPZ1E-"
   },
   "outputs": [],
   "source": [
    "titanic['embark_town'] = titanic['embark_town'].fillna(most_pop_town)"
   ]
  },
  {
   "cell_type": "code",
   "execution_count": 28,
   "metadata": {
    "colab": {
     "base_uri": "https://localhost:8080/"
    },
    "executionInfo": {
     "elapsed": 35,
     "status": "ok",
     "timestamp": 1635509207704,
     "user": {
      "displayName": "Samuel Doan",
      "photoUrl": "https://lh3.googleusercontent.com/a-/AOh14GjbcdQ40FcyCSIyitBN2ptY3zHWA_09harKPYF2=s64",
      "userId": "04384888964432338542"
     },
     "user_tz": -420
    },
    "id": "No7J-CXcZ8FC",
    "outputId": "b1146424-0c67-4802-df02-24e61140c306"
   },
   "outputs": [
    {
     "data": {
      "text/plain": [
       "Southampton    646\n",
       "Cherbourg      168\n",
       "Queenstown      77\n",
       "Name: embark_town, dtype: int64"
      ]
     },
     "execution_count": 28,
     "metadata": {},
     "output_type": "execute_result"
    }
   ],
   "source": [
    "titanic['embark_town'].value_counts(dropna=False)"
   ]
  },
  {
   "cell_type": "code",
   "execution_count": 29,
   "metadata": {
    "executionInfo": {
     "elapsed": 31,
     "status": "ok",
     "timestamp": 1635509207708,
     "user": {
      "displayName": "Samuel Doan",
      "photoUrl": "https://lh3.googleusercontent.com/a-/AOh14GjbcdQ40FcyCSIyitBN2ptY3zHWA_09harKPYF2=s64",
      "userId": "04384888964432338542"
     },
     "user_tz": -420
    },
    "id": "F40HKXhKVXzx"
   },
   "outputs": [],
   "source": [
    "titanic['embark_town'] = titanic['embark_town'].fillna('Unknown')"
   ]
  },
  {
   "cell_type": "code",
   "execution_count": 30,
   "metadata": {
    "colab": {
     "base_uri": "https://localhost:8080/"
    },
    "executionInfo": {
     "elapsed": 31,
     "status": "ok",
     "timestamp": 1635509207709,
     "user": {
      "displayName": "Samuel Doan",
      "photoUrl": "https://lh3.googleusercontent.com/a-/AOh14GjbcdQ40FcyCSIyitBN2ptY3zHWA_09harKPYF2=s64",
      "userId": "04384888964432338542"
     },
     "user_tz": -420
    },
    "id": "Q1FagQXuVXz3",
    "outputId": "72217f7c-0eec-4fae-8150-70672d66717d"
   },
   "outputs": [
    {
     "data": {
      "text/plain": [
       "Southampton    646\n",
       "Cherbourg      168\n",
       "Queenstown      77\n",
       "Name: embark_town, dtype: int64"
      ]
     },
     "execution_count": 30,
     "metadata": {},
     "output_type": "execute_result"
    }
   ],
   "source": [
    "titanic['embark_town'].value_counts()"
   ]
  },
  {
   "cell_type": "markdown",
   "metadata": {
    "id": "7cgrf2rWVX04"
   },
   "source": [
    "### Thuyết âm mưu 03: Điền tuổi"
   ]
  },
  {
   "cell_type": "code",
   "execution_count": 31,
   "metadata": {
    "colab": {
     "base_uri": "https://localhost:8080/"
    },
    "executionInfo": {
     "elapsed": 163,
     "status": "ok",
     "timestamp": 1635509209929,
     "user": {
      "displayName": "Samuel Doan",
      "photoUrl": "https://lh3.googleusercontent.com/a-/AOh14GjbcdQ40FcyCSIyitBN2ptY3zHWA_09harKPYF2=s64",
      "userId": "04384888964432338542"
     },
     "user_tz": -420
    },
    "id": "CRtXraLmVX05",
    "outputId": "797b90c6-4915-4ef0-9916-6ffdd97c038d"
   },
   "outputs": [
    {
     "data": {
      "text/plain": [
       "0      22.0\n",
       "1      38.0\n",
       "2      26.0\n",
       "3      35.0\n",
       "4      35.0\n",
       "       ... \n",
       "886    27.0\n",
       "887    19.0\n",
       "888     NaN\n",
       "889    26.0\n",
       "890    32.0\n",
       "Name: age, Length: 891, dtype: float64"
      ]
     },
     "execution_count": 31,
     "metadata": {},
     "output_type": "execute_result"
    }
   ],
   "source": [
    "titanic['age']"
   ]
  },
  {
   "cell_type": "code",
   "execution_count": 32,
   "metadata": {
    "colab": {
     "base_uri": "https://localhost:8080/"
    },
    "executionInfo": {
     "elapsed": 153,
     "status": "ok",
     "timestamp": 1635509209930,
     "user": {
      "displayName": "Samuel Doan",
      "photoUrl": "https://lh3.googleusercontent.com/a-/AOh14GjbcdQ40FcyCSIyitBN2ptY3zHWA_09harKPYF2=s64",
      "userId": "04384888964432338542"
     },
     "user_tz": -420
    },
    "id": "Rsnt-o9pcNUD",
    "outputId": "b5dd334a-9f78-433b-eaae-62a361a8cfc6"
   },
   "outputs": [
    {
     "data": {
      "text/plain": [
       "0.19865319865319866"
      ]
     },
     "execution_count": 32,
     "metadata": {},
     "output_type": "execute_result"
    }
   ],
   "source": [
    "titanic['age'].isnull().sum() / len(titanic['age'])"
   ]
  },
  {
   "cell_type": "code",
   "execution_count": 33,
   "metadata": {
    "colab": {
     "base_uri": "https://localhost:8080/",
     "height": 297
    },
    "executionInfo": {
     "elapsed": 109,
     "status": "ok",
     "timestamp": 1635509209931,
     "user": {
      "displayName": "Samuel Doan",
      "photoUrl": "https://lh3.googleusercontent.com/a-/AOh14GjbcdQ40FcyCSIyitBN2ptY3zHWA_09harKPYF2=s64",
      "userId": "04384888964432338542"
     },
     "user_tz": -420
    },
    "id": "EfaPLstcVX06",
    "outputId": "9813f869-ef24-4507-d977-8427a07eeedb"
   },
   "outputs": [
    {
     "data": {
      "text/plain": [
       "<matplotlib.axes._subplots.AxesSubplot at 0x7f03ae2bf850>"
      ]
     },
     "execution_count": 33,
     "metadata": {},
     "output_type": "execute_result"
    },
    {
     "data": {
      "image/png": "iVBORw0KGgoAAAANSUhEUgAAAX4AAAEGCAYAAABiq/5QAAAABHNCSVQICAgIfAhkiAAAAAlwSFlzAAALEgAACxIB0t1+/AAAADh0RVh0U29mdHdhcmUAbWF0cGxvdGxpYiB2ZXJzaW9uMy4yLjIsIGh0dHA6Ly9tYXRwbG90bGliLm9yZy+WH4yJAAAgAElEQVR4nOzdd3xUVfr48c+ZkknvhfQEQg89FEWUoiCIgIogWFhlZV3Lj5V117Luuux3dV1X3XVZ110Vu4JdsVFEBOmG3ltCSCO995k5vz8SXaQmYSaTZJ736zWvZO7ce84zgTxzc+65z1Faa4QQQrgPg6sDEEII0bYk8QshhJuRxC+EEG5GEr8QQrgZSfxCCOFmTK4OoDlCQ0N1QkKCq8MQQogOZdu2bYVa67DTt3eIxJ+QkEBqaqqrwxBCiA5FKZVxtu0y1COEEG5GEr8QQrgZSfxCCOFmOsQYvxBCOENDQwNZWVnU1ta6OpSL4unpSUxMDGazuVn7S+IXQritrKws/Pz8SEhIQCnl6nBaRWtNUVERWVlZJCYmNusYGeoRQrit2tpaQkJCOmzSB1BKERIS0qK/WiTxCyHcWkdO+j9o6XuQxC+EEG5GEr8QQjjRsmXLePLJJx3Slq+vr0PakcQvfiI2Lh6lVKsesXHxrg5fCJewWq3nfG3KlCk89NBDbRjNhcmsHvETWZkneHbloVYdu2B8TwdHI0TbqqqqYsaMGWRlZWGz2fj973/Pgw8+SGpqKqGhoaSmpvLAAw/w7bff8sc//pFjx46RlpZGXFwc6enpLF68mL59+wIwevRonn76afbu3UtqaiqPP/44/fv3Jz09HYPBQFVVFb169SItLY0TJ05wzz33UFBQgLe3Ny+99BK9evUiPT2d2bNnU1lZydSpUx32PuWMXwghmixfvpyoqCh27drF3r17ufrqq8+7//79+/n6669ZsmQJM2fO5L333gMgNzeX3NxcUlJSftw3ICCAgQMHsnbtWgA+//xzJkyYgNlsZt68eSxatIht27bx9NNPc/fddwMwf/58fvnLX7Jnzx4iIyMd9j6dmviVUoFKqQ+UUgeVUgeUUpcopYKVUquUUkeavgY5MwYhhGiufv36sWrVKh588EG+++47AgICzrv/lClT8PLyAmDGjBl88MEHALz33ntMnz79jP1nzpzJu+++C8DSpUuZOXMmlZWVbNy4kRtvvJGBAwfyi1/8gtzcXAA2bNjArFmzALj11lsd9j6dPdTzHLBcaz1dKeUBeAOPAKu11k8qpR4CHgIedHIcQghxQT169GD79u18+eWXPProo4wbNw6TyYTdbgc4Y668j4/Pj99HR0cTEhLC7t27effdd/nPf/5zRvtTpkzhkUceobi4mG3btjF27FiqqqoIDAxk586dZ43JGdNNnXbGr5QKAC4HFgNoreu11qXAVOD1pt1eB6Y5KwYhhGiJnJwcvL29ueWWW/jNb37D9u3bSUhIYNu2bQB8+OGH5z1+5syZPPXUU5SVldG/f/8zXvf19WXo0KHMnz+fyZMnYzQa8ff3JzExkffffx9ovBN3165dAIwcOZKlS5cC8PbbbzvsfTpzqCcRKABeVUrtUEq9rJTyASK01rlN+5wEIs52sFJqnlIqVSmVWlBQ4MQwhRCi0Z49exg2bBgDBw5k4cKFPProozz22GPMnz+flJQUjEbjeY+fPn06S5cuZcaMGefcZ+bMmbz11lvMnDnzx21vv/02ixcvZsCAAfTt25dPP/0UgOeee47nn3+efv36kZ2d7Zg3CSittcMa+0nDSqUAm4GRWustSqnngHLgPq114Cn7lWitzzvOn5KSomUhlrahlLqoWT3O+v8khDMcOHCA3r17uzoMhzjbe1FKbdNap5y+rzPP+LOALK31lqbnHwCDgTylVGRTUJFAvhNjEEIIcRqnJX6t9UkgUyn1w+TuccB+YBkwp2nbHOBTZ8UghBDiTM6e1XMf8HbTjJ404HYaP2zeU0rNBTKAcw+GCSGEcDinJn6t9U7gjPElGs/+hRBCuIDcuSuEEG5GEr8QQrgZSfxCCHEOF1Ot9mIq2C5fvpyePXuSlJTksJLOp5LqnEIIcQ4XU632bJpTwdZms3HPPfewatUqYmJiGDp0KFOmTKFPnz4Oi0PO+IUQoh3ZunUrSUlJdO3aFQ8PD2666aYf7+R1FEn8QgjRjmRnZxMbG/vj85iYGIeWawBJ/EII4XYk8QshRDsSHR1NZmbmj8+zsrKIjo52aB+S+IUQoh0ZOnQoR44cIT09nfr6epYuXcqUKVMc2ofM6hFCiHOIiY1z6FrSMbFxF9zHZDLxr3/9iwkTJmCz2bjjjjt+XMfXUSTxCyHEOWSeyHBJv5MmTWLSpElOa18Sv2iVequd9MIqskqqqaq3obUm6Mq78Ok9ippjqeiG2gs3cpqY2DiX/aIJ4U4k8YsWsds1OzJLSc0oprbBjofJQICnGQDf5LH4D5mM2ajoHx3I4PhAvD2a/1/MkX9SCyHOTRK/aLaqOitf7T1JdmkN8cHepCQEERXohaFpMegFEyawYOk29maXs/1ECftyy7iiexg9u/g5ZcFoIUTrSOIXzVJR28CH27OpqrMyvk8EvSP9z9xJ24kJ8iYmyJuhCUGsPpjPiv15nCipZmzPcExGmUQmRHsgv4nigmoabHy0PZuaehs3DI45e9I/TYivhelDYhieGMyB3Ao+3J5NTYOtDaIVQlyIJH5xXnatWb73JBW1VqYOjKJLgGezjzUoxYiuIVzTL5KCyjo+SM2iqs7qxGiFEM0hiV+c1/fHizlRXM3onmFEBXq1qo2kcF+mDYyioq6Bj3ZkU10vyV90DAlxMQ4ty5wQF3PBPu+44w7Cw8NJTk522vuSMX5xTkWVdWxNL6ZHhC99oy48vHM+MUHeTBkQxSc7c/h0Zw7Th8RgljF/0c5lZGajv3nCYe2psY9ccJ+f/exn3Hvvvdx2220O6/d08psnzkprzeqD+VhMRkb3CHfIrJyYIG8mJXchv6KOr/fnobV2QKRCdC6XX345wcHBTu1DEr84q4MnK8gtq2VU91C8PIwOa7drmC8jk0I4nF/J1uPFDmtXCNF8kvg7oYtZLg7AarOzKa2IcD8Lvbr4OTy+IXFB9O7ix+a0Yo7kVTi8fSHE+ckYfyd0McvFLRjfk93ZZVTUWrmqd4RTbrxSSjG2dzilNQ2sOpBHmJ+FQG8Ph/cjhDg7OeMXP2U0sy2jhNhgL2KDvZ3WjclgYGJyFwxKsWJfHja7jPcL0VbkjF/8hG/yOKrrbVwd79yLSwB+nmbG9Qrny70n2Zou4/2i/YmPjW7WTJyWtHchs2bN4ttvv6WwsJCYmBgWLlzI3LlzHRYDODnxK6WOAxWADbBqrVOUUsHAu0ACcByYobUucWYconnsWuM/7Hoi/C3EBLVuzn5LdY/wo09RNVuPF2OJcWzNcSEu1vETWW3e55IlS5zeR1sM9YzRWg/UWqc0PX8IWK217g6sbnou2oH0wirMwVEMiQtq06JqV/QII8DLTOjkBXJnrxBtwBVj/FOB15u+fx2Y5oIYxFnsySrDWl5AtzDfNu3Xw2RgfJ8ITAERPLPycJv2LYQ7cnbi18BKpdQ2pdS8pm0RWuvcpu9PAhFnO1ApNU8plaqUSi0oKHBymKK0up6M4moqd63AYGj7EspRgV5UbP+C1zamszOztM37F+6rM9xI2NL34OzEf5nWejAwEbhHKXX5qS/qxmjPGrHW+kWtdYrWOiUsLMzJYYq92eUoBZW7V7kshpK1rxPu58lDH+6mwWZ3WRzCfXh6elJUVNShk7/WmqKiIjw9m19A0akXd7XW2U1f85VSHwPDgDylVKTWOlcpFQnkOzMGcWF2u2Z/bjldQ304Xlnksjh0fTV/mtqXeW9u48V1adwzJsllsQj3EBMTQ1ZWFh19VMHT05OYmAsXgPuB0xK/UsoHMGitK5q+Hw/8CVgGzAGebPr6qbNiEM2TUVxNTYON3pH+fOPKQJSBCcmRhE57mL821DF/2khs5c07L5D1ekVrmM1mEhMTXR1Gm3PmGX8E8HHT7BAT8I7WerlS6nvgPaXUXCADmOHEGEQzHMwtx9NsICHEx7WBaDvPrjxERW0Db2zKYPRj73FNv8hmHSrr9QrRfE5L/FrrNGDAWbYXAeOc1a9omboGG8cKq0iO8sfogou6Z+PnaWZoQjCb0orILK526h3EQrgjKdng5o4WVGKza3p1ubh6+442OC4Qf08Taw8XYJdyDkI4lCR+N3ckvxJ/TxMR/hZXh/ITJqOBUd3DKKqqZ092mavDEaJTkcTvxmobbGQWV9M9wq9N79Rtrm5hPsQGe7EprYhaWahdCIeRxO/GjhVUYtfQPbxt79RtLqUUo5LCqLPaST0u5ZyEcBRJ/G7sh2GecL/2NcxzqjA/C727+LEzq5SK2gZXhyNEpyCJ303VWRuHeZLCfdvlMM+pRnQLAWBTmutuLhOiM5HE76Yyiqqx68Y1cNs7f08zA2ICOJBbQWFlnavDEaLDk8TvptIKqvAyG4kMaH59D1camhCMh8nAhqOFrg5FiA5PEr8bstk1x4uqSAz1wdDOh3l+4Gk2MjQ+iONF1WSVVLs6HCE6NEn8biintIY6q52uYS4u0dBCA2MD8bWY2HC0Y1dTFMLVJPG7oeNFVRiVIq6DlUIwGQ2M6BrMyfJajhZUujocITosSfxuKKOomqhAT8zGjvfP3zvSn2AfDzYdK5JSDkK0Usf7zRcXpbLWSlFVPfGursTZSgaluKRrCCXVDRw8WeHqcITokCTxu5mM4ioA4kM61jDPqbqF+RDuZ2FzehFWu6zUJURLSeJ3MxlF1fhYjIT4eLg6lFZTSnFptxAqaq3syy53dThCdDiS+N2IXWtOFFcTH+zT7u/WvZC4YG9iAr3YerxY1ucVooUk8buRvPJa6qz2Dj3M8wOlFJd0C6G63sbOzFJXhyNEhyKJ341kFFWjoNOsaBUV6EViqA/bMkpQlo55sVoIV5DE70YyiqqJ8PfEy2x0dSgOc0nXEOqsdgKGXefqUIToMCTxu4naBht55bXEdYJhnlOF+VnoEeGLX8pUCiqkgJsQzSGJ302cKK5GAwmdLPEDjOgagjJ58O9vj7o6FCE6BEn8biKrpAYPo4EIv45RjbMlgrw9qNzzNW9vPkF2aY2rwxGi3ZPE7yayS2qIDPTEYOjY0zjPpWzDEgD++fURF0ciRPsnid8NVNdbKa6uJzrQy9WhOI2topBbRsTzwfYsjkkBNyHOy+mJXyllVErtUEp93vQ8USm1RSl1VCn1rlKq495C2kFklzQOf8QEdd7ED3D3mG5YTAb+vuqwq0MRol1rizP++cCBU57/Ffi71joJKAHmtkEMbi27tAaTQRHeCcf3TxXqa2HuZYl8vjuXfTllrg5HiHbLqYlfKRUDXAO83PRcAWOBD5p2eR2Y5swYBGSVNo7vGzvp+P6pfj6qKwFeZp5ZKWf9QpyLs8/4/wH8FvihmEoIUKq1tjY9zwKiz3agUmqeUipVKZVaUFDg5DA7r5oGG0WV9cQEdr5pnGcT4GXmriu68c3BfFKPF7s6HCHaJaclfqXUZCBfa72tNcdrrV/UWqdorVPCwsIcHJ37yGma3tiZL+yebs6l8YT5WXhqxSFZolGIs3DmGf9IYIpS6jiwlMYhnueAQKWUqWmfGCDbiTG4vaySGowGRUSAxdWhtBlvDxP3jU1ia3ox3x0pdHU4QrQ7Tkv8WuuHtdYxWusE4CbgG631zcAaYHrTbnOAT50Vg2g844/098RkcK+ZuzcNjSMmyIu/yVm/EGdwRTZ4EFiglDpK45j/YhfE4BbqrDYKKuqI7uTTOM/Gw2TgV1f2YE92GSv2nXR1OEK0K22S+LXW32qtJzd9n6a1Hqa1TtJa36i1lspaTpJTWovGvcb3T3XdoGiSwn15euVhbLIwuxA/cq+//91MdkkNRqWIDOjc8/fPxWhQ/PqqHhzNr+STHXIpSYgfSOLvxLJKq4nwt2AyusE/szKglDrjMal/FHW5R5j/0gqU0XzWfWLj4l0dvRBtynThXURHVG+1k19RR0p8kKtDaRvazrMrD531pYyiKj7ZmcOclzYwIDbwjNcXjO/p7OiEaFfc4FTQPeWW1aC1+47vnyou2JtoWZhdiB9J4u+kskpqMKjGdWndnVKKS5sWZt8lC7MLIYm/s8ourSHczxOzO4zvN0NUoBcJId6kZpRQ12BzdThCuJRkhU5ImSzklde65fz987m0Wyh1VjvbTpS4OhQhXKpZiV8pNbI520T7YInuhV3G988Q5mehR7gvO06UUlHb4OpwhHCZ5s7qWQQMbsY20Q5YYpNRQFRg6+bvL1y40LEBtSMjk0I5VljFhqNFXJ3cxdXhCOES5038SqlLgEuBMKXUglNe8geMzgxMtJ5nbDJhfhYsptb9Ez02Z1yrjluw4Z1WHdeW/L3MDIkLYuvxYvrHBMjFb+GWLjTU4wH40vgB4XfKo5z/FVoT7Uhtgw1LVE8Z3z+PlIQgfC0m1h4ukAJuwi2d94xfa70WWKuUek1rndFGMYmLsDOzFGXyIKaDnslezDBTS441h8bj02skT/73rVb3J0RH1dwxfotS6kUg4dRjtNZjnRGUaL2t6cVobe+wQxgXM8zUkmO1hvdz6intOYwii0+r+hSio2pu4n8f+A+Na+fKJOh2bEt6EQ35x/E0SxmC81EKxoRWsCQrmMArfubqcIRoU81N/Fat9QtOjURctHqrnW0ZJdRm7gUmuDqcdi/MYmVgQDU7Bk1kW0YJQ9ylrpFwe829geszpdTdSqlIpVTwDw+nRiZabE92KbUNdmoz97g6lA5jRHAV1vICfvfxHqxSx0e4ieYm/jnAb4CNwLamR6qzghKtszmtGIC6zH0ujqTj8DBoir9+kYMnK3ht43FXhyNEm2jWUI/WOtHZgYiLtyW9mB4RvmTUlLs6lA6l5sgmxvUK59lVh5nQtwuxwd6uDkkIp2puyYbbzvZwdnCi+aw2O9uOFzM8McTVoXRI/zctGYNS/PaD3dhlmUbRyTX34u7QU773BMYB24E3HB6RaJW9OeVU1dsY3rX9XnqxWMuJrNhDUE0GPvVF+NQXYrLXYzVYaDB6snC0hR7VOyg0R1FiCkWrtrs5PCrQi99d05uHP9rDO1tPcMsIWZVLdF7NHeq579TnSqlAYKlTIhKtsiWtCIBhie0o8WtNROUBehUsJ65sC6HVaT++ZFMmqjxCaTB4YrLXYbbX8rtRHhhLGs8l6pQn6Z59OOaZTLpnbxoMzl83+KahsXyxO5e/fHmA0T3DiAmSIR/RObV26cUqQMb925Et6cV0DfMh3M/1C6ubbdX0O/kRyXnLCKlJx6o8yAoYzKHQ8eT4DaDQJ4laU0DjZPpTPDyxJy8/9ydCrTlE1x2jW+0+etVsp155sNd7BNt9r6DC5LwPNqUUf7m+H1f/Yx0PfbiHN+4YhsGgLnygEB1MsxK/Uuoz4IeBTyPQG3jPWUGJlrHZNd+nFzN5QJRL4/AxQ0rWGwzJfhNvaynZfgP4utvDHA69kjqT/wWPr7NBgUc0BR7RHPAeymptJ6o+neSqzQyoWs/AqvUc8hrE+oDJVBrPXDvXEWKDvXl4Um8e/WQvr208zh2XyfmN6Hyae8b/9CnfW4EMrXWWE+IRrXAgt5yKOisjXDW+rzXda3dx5D5fIjMWcTxwBJtj7yTXv//FNasMZFu6kW3pxgbrJAZVrWNg5Qa61e5hs98Edvhejl219o/Wc7t5eBxrDubz5FcHuaRbCL0jL/yhJURH0qxZPU3F2g7SWJkzCKi/0DFKKU+l1Fal1C6l1D6l1MKm7YlKqS1KqaNKqXeVUh4X8wYEbHbh+L6vtYSpxS8zufh1cio0S/st5uO+iy466Z+u0hTEdwFTeT3iQTItPbi8/DNuyX+a0IZsh/YDjUM+f53eH38vM/OX7qBWlmoUnUxzp3POALYCNwIzgC1KqQuVZa4DxmqtBwADgauVUiOAvwJ/11onASXA3NYGLxptSS8mLtibyIC2LczWrWYPt+U/RWzdUdb6T2X4y1UOT/inKzeFsCxkLp8E/xyLvYZZ+f+gX9VGh/cT6mvh6Rv7czivkie/Oujw9oVwpebeufs7YKjWeo7W+jZgGPD78x2gG1U2PTU3PTQwFvigafvrwLQWRy1+ZLdrvj9ezPA2PNtX2sZlZZ8xpfgVSkzhvBH+W7b7jcbWhtPf07368lb4A2RZunFl6fssucELk/2Cf4i2yOie4dw+MoHXNh5n+d6TDm1bCFdqbuI3aK3zT3le1JxjlVJGpdROIB9YBRwDSrXW1qZdsoDoFsQrTnM4v4LS6gaGd22bG7cs9mquL/wPQyu/YZfPSN4Lu49yk2tuGqsx+vFxyDzW+1/DjL4mphf+Gy9b5YUPbIGHJvaif0wAv3l/FxlFVQ5tWwhXae6VseVKqRXAkqbnM4EvL3SQ1toGDGya9/8x0Ku5gSml5gHzAOLi4pp7mNvZ0lSfpy3O+H1sZVxf+F8CrfksD5rNAe+hZ+zT5uv1KgPf+13JMy+9z/szc5hZ8E8+Dp1HmSnUIc1bTEaenz2YyYvWc9db2/n47kvxNMuqo6Jju9Cau0lAhNb6N0qp64HLml7aBLzd3E601qVKqTXAJUCgUsrUdNYfA5z16pzW+kXgRYCUlBS5h/4ctqQXER3o5fT6MoEN+Vxf9B+87NV8EjKPTM8eZ92vtQupwMWt2fvJQSsfhP6SqUUvM7PgOT4MvZsic2Sr2ztVbLA3f585gDteS+UPn+7lqekDHNKuEK5yoeGaf9C4vi5a64+01gu01gtoPHv/x/kOVEqFNZ3po5TyAq4CDgBr+N96vXOAT1sfvnvTWrM13fnj+yENucwsXIRZN/B+6D3nTPqulmtJ5N2w/4fGyA2F/ya4Ic9hbY/tFcG9Y5J4LzWLtzbLKqSiY7tQ4o/QWp9R3L1pW8IFjo0E1iildgPfA6u01p8DDwILlFJHgRBgcYujFgAcza+ksLLeqfV5AqwF3FD4AnYMvBt6H/kesU7ryxFKzBF8EHo3oJhe+DyBDfkXPKa57r+qB2N6hvHHZfvYdKzIYe0K0dYulPjPd3vkeecOaq13a60Haa37a62TtdZ/atqeprUeprVO0lrfqLWua2nQotGmpvn7l3R1zHj26fysJUwvfAEDdj4M/SWl5nCn9ONoJeZwPgi9G4XmxsJ/4291TJI2GhTPzRpEfIg3d7+9jcziaoe0K0Rbu1DiT1VK3Xn6RqXUz2lcjEW40KZjP4zvO37+vpetkhsKX8DDXsNHIb+g2NzF4X04U7G5Cx+E/hKTbmBa0YtY7I6ZkePvaeblOUOxa/j566lU1DY4pF0h2tKFEv+vgNuVUt8qpZ5peqyl8aar+c4PT5yL3a7ZlFbEJd1CUMqxhcSM2sq1xa/gZyvlk5B57X5451yKzFEsC7mDAGsRU4pexfjjLOLTKANKqWY/uob5cvjV33Iwt5TkXzxHgyzZKDqY887q0VrnAZcqpcYAyU2bv9Baf+P0yMR5HTzZOH//0m6On0N/VclSouvT+SLoNnItHbtIWbalGyuCZnNNyZuML3mHr4JuAXXa+Y628+zKQy1ue19OGV8bjDz44W6euXGAwz+AhXCW5tbjX0PjbBzRTmw8VgjAJQ5O/I+M8qB3zTY2+E3ksPcgh7btKoe9B+NvK2FU+eeUmsLY5D/RIe32jQrggxef5SNuISrAiwcm9HRIu0I4W3Pv3BXtzOa0IhJCHFufp2vRWh4f68kBryFs9bvKYe22B6m+Y9nnPYwRFSvpVnPGRLVWK9u4lFnDYvnXmqO8vUWmeYqOwfE1bduZhLgYMjJbV8ExPjaa4yfaX/Vpq83OlrTz199v6R208Z7VrB3+HdsKbGxImXnGIikdnlKsDpxOSMNJri55myWmXznsgvX/TU3mZFktv/9kL+F+nlzVJ8Ih7QrhLJ0+8WdkZqO/eaJVx6qxjzg4GsfYl9NYf/98wzwtuYPWqBuYWfBPPK1Gbny/mvuGmh0RZrtjU2Y+C7md2fnPMKXoFZaE30+d4eL/YjIZDTx/82BmvbiZe9/Zzqu3D+XSbs6ZYiuEI8hQTwf0v/n7jhnfv6LsUyIaslgRNJv00s5dHaPSGMjnwbfjbytifMkS0I55v94eJl69fRhxwd78/PVUtmWUOKRdIZxBEn8HtPFYEd3DfQnzs1x0W91rdjKgagOpvmNI8+rngOjavxxLV9b7X0tS7R4GVn3nsHaDfTx4++fDCfOz8LNXt7I3u8xhbQvhSJL4O5h6q53U48UOmc3jYyvlypL3OWmOY4P/NQ6IruPY7nsFxzz7cnnZMlKiHPdrEO7vyds/H46fxcRtr2zlaH6Fw9oWwlEk8XcwOzNLqa63Xfz8fW1nQskSjFj5Kuhm7MrNSg0rxYqgWVQZ/Xl3ujcWq+MSdEyQN2/fOQKDUsx+aYvU8RftjiT+Dmbd4QKMBsUlF3nxcGDVeuLrDrMuYEqHqcHjaHUGH74Muo1Yf8VVR//ssPF+gMRQH97++XDqbXZmv7SFnNIah7UtxMWSxN/BrDtSwKDYQAK8Wj/zJrghj1Fln5Nm6cNu70sdGF3Hk2tJ4OHVdXQv+oYBJ993aNs9u/jx5h3DKa9p4JaXt5BfUevQ9oVoLUn8HUhRZR17ssu4okdYq9tQ2s74kiU0GDxYFdQJ5+u3wrOb6kkLuozL0/9BWGXLSzecT7+YAF69fSgny2u55eUtFFc5dl1gIVpDEn8Hsv5oIVrD5ReR+AdWrSOyIYNvA66j2ujvwOg6Lg2s6P4YteZAJh3+HSabY4dlUhKCeXlOChlF1dzy8hbKqqWip3AtSfwdyNpDBQT7eNAvOqBVxwdYCxlZ/iVpnn046DXYwdF1bLXmQL7q/ieCak4wOu0Zh7d/abdQXrwthaP5ldz2yhYp5yxcShJ/B2G3a9YdKeSypFAMhlYMz2g7V5W8ix0jXwfeKEM8Z5EVmMLWmNvpl/8pPQpWOrz9K3qE8e+bB7Mvp5zbX/2eqrpzlIkWwskk8XcQ+3PLKaysa3ExLlQAACAASURBVPX4fnL1FmLrj7IuYCpVxvMtrObeNsfeSY5fP6489gT+ta2r8XQ+V/aJYNGsQezILGXu699TU29zeB9CXIgk/g5i3ZECAEb1aPk0Ti9bBaPKPifToxt7vYc7OrROxW4w8VWPPwMw8fDvMdgvcFbewkVclFJM6h/FyU+eYtOxQhJufQJl8mhxG0opYuPi2+AnIjqjTl+krbNYe6iAPpH+hPt5tvjYUeWfYda1fBM4XYZ4mqHcM4qvuz3CNYd/x4jMl9gY/8tz79zKRVwAfv/rewmdNJ/RT67kmn6RGFs4hLdgvNT/F60jZ/wdQGWdlW0ZJa2azRNdd4y+1d+zzXdMh1s315UOh41nb/gUhmW9SkxpqlP6qNqzijE9w0gvrGL53pPY7Z27QJ5oPyTxdwDrjxRgtesWj+8btJVxpe9TZgxii994J0XXea3p+gAlXnFMPPIHPBtKndJH/5hARnUP5WhBJSv352F34N3DQpyLJP4OYMW+PIK8zQxNCGrRcYMr1xJizWNNwA1YDR5Oiq7zshq9+LLH43g2lDL+yJ8cWtLhVIPjgri0WwiH8ipYfSAfLclfOJkk/nauwWZn9YE8xvWOwGRs/j+Xn7WYERUrOerZj3Svvk6MsHMr8O3J+oT76FbyncNLOpxqaEIwwxOD2Z9bzppDBZL8hVNJ4m/nNqcVUV5rZULflo3Pjyn7GIBvA65zRlhuZUfkTU0lHZ4jtOqw0/oZnhjMkPgg9mSXse5IoSR/4TROS/xKqVil1Bql1H6l1D6l1Pym7cFKqVVKqSNNX1s2fuFmVuw7iZfZyKjuzZ/GeW0PE91q97LJbwIVJvnxXjSlWNn9D9SZ/Jh0yPElHf7XjWJktxAGxgayM7OULenFTulHCGee8VuBX2ut+wAjgHuUUn2Ah4DVWuvuwOqm5+Is7HbNyn15XNEjDE9zM+vl11exaKInhaZIdvhe4dwA3UiNOYivevyJ4JoMRqc/67R+lFJc3j2U3pF+bEkvZleWcy4qC/fmtMSvtc7VWm9v+r4COABEA1OB15t2ex2Y5qwYOrqdWaXkV9QxITmi+QetfYr4QAOrA6e73+IqTpYZOIzvo2+jX94ndC/82mn9KKW4slcEXUN9+PZQAYfzZBUv4VhtMsavlEoABgFbgAitdW7TSyeBs2Y1pdQ8pVSqUiq1oKCgLcJsd1buy8NkUIzt2czEn38ANv2LV3bUk2Pp6tzg3NSmuLvI9U3mqqN/Jqj6uNP6MRgUE5O7EBXoyYp9J2UVL+FQTk/8Silf4EPgV1rr8lNf041Xr856BUtr/aLWOkVrnRIW1voyxB2V1pqV+05ySbcQArybseiK1vDFr8Hix29X1Tk/QDdlN5j4vNdfsCkz1x78LT6tXw/ngkxGA1P6RxHs48EXe3I5WSYLuQjHcGriV0qZaUz6b2utP2ranKeUimx6PRLId2YMHdXR/ErSCqsY39zZPDvfgYwNcOVCimpkNogzVVq68GXPxwmqyWDxFC+nze8HsJiNTBsYjbeHiU93ZctCLsIhnDmrRwGLgQNa61Ovhi0D5jR9Pwf41FkxdGSf7crBoGBCn2YM81QXw8pHIXYEDLrV+cEJMgOHsSH+bmYmmxmc87ZT+/KxmJg2MAqDUny8I1tq+YuL5swz/pHArcBYpdTOpsck4EngKqXUEeDKpufiFFprPtmZw6XdQgn3b0ZRtlV/gLpymPwsGOTWjLaSGn0bH+5vYNTxRSSUbHBqX4HeHkwbGE291c4nO3KoaZByzqL1nDmrZ73WWmmt+2utBzY9vtRaF2mtx2mtu2utr9Ray2Tl0+zILOVEcTVTB0ZdeOeMjbDjTbjkHoiQO3TblFLM+aSGQp8kJh36HSFVR53aXZifhSkDoiirbeDTndkoc8srtQoBcuduu/Tpjmw8TAauTr7A+L61Hj5fAAFxcMWDbROc+ImqBvi097NYDZ5MPfBrvOqdex4THeTFxOQu5JfXEXbdI9Rb7U7tT3ROkvjbmTqrjc9253JV7wj8PC8wZWTz81BwACb9DTx82iZAcYZKSwSf9n4Gn4Yiphx8wGl39v6gW5gv43qH45U4mF+/v0vKOYsWk8Tfzny9P5/iqnpuTIk5/44lGfDtX6HXZOh5ddsEJ84pz68vX/X4E10q9jH54IMY7M69ANs3KoCSNa/w2a4c/vjZPqnrI1pEEn87825qJlEBnozqfp57F7SGLxaAwQgT/9p2wYnzOhoyltXdHiKxdBMTjiwE7dxhmPKtHzHv8q68sSmDf6527vUF0bnI0ovtSHZpDd8dKeC+MUnnX4Zv5ztw9GuY+BQEXOAvA9EsCxcudEg7e7tch5e1jMsynqfW5Mearr916nKXD0/sRXFVPX//+jDBvh7cOkLW4RUXJom/HVm69QQAN6bEnnun8lxY8TDEXQpD72yjyDq/x+aMa9VxCza8c8a276Pn4GktJyX7TRSab7r+FpRz/rhWSvHk9f0orW7gD5/uJcjbzOT+zZgNJtyaDPW0E7UNNt7ZcoJxvcKJDfY++04/DPFY62Dqv2TOfnulFN/F38fW6DkMOPkhVx39M0o7b969yWjgX7MHMTQ+mPvf3cm6w+5Z20o0n2SOduKL3bkUVdXzs0sTAYiNi0cp9ZPH7P4ecOhLFnxRigpNOuP1Hx6iHVCKDfH3sCl2Hsn5n3H14T9gtDuv3IKn2chLc1JICvfjrre2sTNTyjmLc5OhnnZAa81rG4+TFO7LyKQQALIyT/DsykM/7uNXm8stO2eT451I3MKXePY8JZcXjO/p9JhFMyjF5rg7sRosjMpYhG99AZ/1eopac6BTugvwMvP6HUOZ/sImbn91K+/fdQlJ4X5O6Ut0bHLG3w5sOFrEnuwy7hiZeNYzdqWtTDr8KArNVz3+Dy119juU1Jjb+KLH43Sp2MdNu+9wajnncD9P3pw7DKPBwK2Lt3KiqNppfYmOSxJ/O/D8mqNE+Fu4YUj0WV8fceJloip2s7rbw5R7nn0f0b4dDhvPB8kvYLFVctPu20kq+sZpfcWH+PDm3GHUNNiY9dJmMosl+YufkqEeF9t+ooRNaUU8ek1vLKafnskvXLiQy4IKmT94M2/nxnDP15uBza4JVFy0XP/+LOn/KtcceoRrDz7Ioome2O112AyW1jWoDOe9pmMO70rETY9zySNLOLnkYWzl/7voGxMbR+aJjNb1Kzo8Sfwu9uzKwwT7eDBrWNwZr/3t5sHMLvg7ZSqMkiH38tjQ5iWIs00xFO1DuWc07/Z7mcsy/sW9w94hf/ftrEx6jALfVlyX0fafXAc6m7zyWj7ekU2f+99k+pCYH8uAyHUg9yZDPS60/kgh648Wcs+YJHwsP/0M9jHD1OLFmHQDy0LuoKG1Z4Wi3bEbzKxLvJ/J71TjU1/M7F1zuOz4Ikw2x6+wFeHvybRB0dRa7Xy4XWr5i0Zyxu8idrvmqRUHiQ704ubhcae/yJvXeRHakMMnIXdSbG7mKlyiQ/niiJXXB7/HqPR/MjT7DboXrWZdwnyOBY9u9t2+zb3j2Ogbgm/yGF5avZeqvc67viA6Bkn8LvL+tkx2Z5Xx7IwBeJpPm6WzeiHX9TazJmAaGZ69XROgaBN1Jn++7v4oh8ImMCbtb0w5+Fuy/AexLuFX5Pn1ueDxLbnjOK+2gk9yg/Abfg2Vu1ZcTNiig5OhHhcora7nr8sPkRIfxHWDTpul890zsOEf/Pv7enb6jHJNgKLNZQYO5c1B77C660ME1xxn9u45TDnwayIq9jusjwhPK9Oji1FAxOwn2ZZR4rC2RcfS+c/4lQE19pFWH+sMT3x5gNLqehZOHfa/WRlaNyb9b/4P+s3gvj+9zNPT5C5cd6KVid2RN3AwbAKDcpYwOHcps3fPIT3oUrbEzCXXv/9F9xHiYePG6GJe2tXA7Jc284+ZA5nYL9IB0YuOpPMnfm3n2RcXt+rQBfPmOjgY+OZgHu+lZnH36G70jQpo3Gi3wYrfwZYXoN8MmPYCdv2yw/sWHUO9yZctcXeyI2oWA05+wODst7lpz1xOBKSQGn0bGYEjLqriZ4DZzsk3H2DK019y9zvbeXhiL+4c1VXKfbiRzp/425GCijoe/HAPvbr4Mf/K7o0bq4rgw7mQtgaG/xImPCHF1wTQ+AHwfczP2BE5k/4nP2RIzjtcv///ke/Tg9To2zBeRJ6215Sz5M4R/Pq9XTzx5UHSCqpYOLXvGfeSiM5JEv8pLPYqgqyFeNkqMWLl2h4myNoG/pHgEw7G1v+4rDY79y3ZTkVtA2/cMQyL0QAHPofP74faUpiyCAbf5sB3IzoLq9GL7dG3sCtyBj0LlpOS/SaTDj/Kkft8Sa/8jn3ew7EaPFrcrqfZyKJZg0gI9eb5Ncc4cLKCF24eTFSglxPehWhP3DrxK20nru4w3Wt2EVd3mADbTxfKvnaWN7w8tvGJwQzhvSFqIEQOhOghENEXjBdYF7fJ418eYHNaMc/eOIDeDQfgzScg7VuI6Ae3fgxdkh387kRbuZhFXFpzrKIvV4eGcm/wZsaWfcQlFSvY6XMZO31GUWts2drLBoPiNxN60S86kAfe38W1i9bzz1mDGJkU2uK4RMfhlonfqOtJrtpCSuUa/G0l1ClPTli6s8tnJCWmcKqMfliVmX/++TFS13wO5TlQmgG5u+DAZ7D9jcaGTJ7QpT/EpDR+EEQNgoBYMP307OvltUd4dcNx5iaWcH3qzZC7E7yC4OonIWXuGfuLjuViFnFp7bEAl837hqWLfkdK5TdcUrGClMo17PUezjbf0VSYglvU1tXJXUgK9+Wut7Zxy+ItzBvVlV+P74mHSYYdOyP3Svxak1S7m8vLPiXAVkK2RyLrAqaQ5pmMTZ35o9iWa4eeE89og9IMyN4G2dsbv6a+Cpv//b99vIIah4aU4s2SZP5ceT3XGDbzu5xFEDUAJj0NA2aBxdfJb1h0djmWriyzdCWkIZchld/Sv2oDA6o2cMhrEKl+Yyk0N381rqRwX5bdO5L/+/wA/12XxvqjhTx300Ap7dwJOS3xK6VeASYD+Vrr5KZtwcC7QAJwHJihtW6TycSetkrGlX5Aj9pdFJgi+SDkl2R69mh5Q0pBUELjI/mGxm22Bsg/0HgmX3ESKvP4/L3XWe4xjs9DrieuZCt5G58m/kQdWeXrgHXAPMe9OeH2isyRrAyaxUb/iQyqXEv/qk30rtnGQa9BbPSfSJkprFnteHuY+Mv1/RjTM4yHPtrDpOfWc+/YJO66opuc/Xcizjzjfw34F/DGKdseAlZrrZ9USj3U9PxBJ8YAQFh9NlOKF+NjK2e9/zWk+o5xbE17oxki+zc+gHqrnTn/rMVv0CS6h/syYcxsjNNvZmQLmpQiWqI1Ko2BfBcwla1+VzGk8lsGV66le80u9nkPZ7P/BKqMAc1qZ3zfLgyKC2LhZ/t4dtVhPtuVwxPX92NoQsuGkET75LSPcK31OqD4tM1Tgdebvn8dmOas/n9wQ28TMwv/iUKzNGw+3/td6dSFTDKLq5nx3034DZrEkPggJiZ3wWiQ+dGibdUZvNnoP4lXIn7HHp9L6Vu9lTtOPs6lZV9gttc1q40wPwv/mj2YV36WQnW9jRv/s4l739lOVonU9+/o2nqMP0Jrndv0/Ukg4lw7KqXm0TQeEhd3ZsniC9Iavv0LH8zwJsccxWfBt1Nt9G9FyM3TYLPzyvp0/vH1EUwGRcEnf+GyRa84rT8hmqPa6M+awBvY7nsFl5R/xfDKr+lb/T2b+5kbf0eacdPW2F4RDL8/hP+uPcZ/16Wxcn8ed4xM5BeXdyXIRyYmdEQuG7TTWmtAn+f1F7XWKVrrlLCw5o1P/oRS0FDDKzvq+SD0Hqcm/S1pRVy7aD1/+eogI5NCWX7/5VQf2uC0/oRoqTJTKMuDb2Vp6P+j0ujPW9d7weLxjZMTmsHHYmLB+J6seWA0k5K78N91x7jsr9/wtxUHKaly3iLywjnaOvHnKaUiAZq+5ju1tysXMndZ7Vln7DhC6vFibn55MzNf3ExZTQP/vXUIL89JIVpugBHtVK4lkSVhv+L2T2ug5Di8NBY+uQcq8pp1fFSgF/+4aRDL51/O6F7h/Pvbxg+Ap5YfpKiyeUNIwvXaeqhnGTAHeLLp66dO7c0JpQ/sds03B/NZvD6dTWlFhPp68Og1vbl5eDxeHnK7u+gAlIHXdjbw6qZtsO5vsPkFOLAMRj8Mw+5s1k2JPbv48fzswRzOq+Cfq4/wwtpjvLw+nesGRnPHZYn07CJTQNszZ07nXAKMBkKVUlnAYzQm/PeUUnOBDGCGs/p3lB8KVykPL3z7XYnfkGsxB0VhLS+gPHUZJ3Z+yZ0Nddzp4jiFaBFlQHk1zvDpHmzguatrmFj3MHve+C33fVXL2gzbOQ89db3eHhF+/Gv2YO4vqOSV9el8uD2Ld1MzGdU9lDtGJnJFjzAMMrmh3XFa4tdazzrHS62/VdEFTnzxN17LCOW97GAqrEYGB1ZxR3wGE8LLMN84FBh61uNaXQpaiLZw2nq9B7Wmvngdoy3P8u3PcjgYOp51CfOpsoSfcejZphp3C/Pl8ev68cD4nryz9QRvbDrO7a99T1ywNzcPj+PGlFiC5UJwu+Fed+42k9aQU2smdNrDXLGuFwYFkyJKuSO+kIGBNa4OTwjHU4q0kCvICBzO0Ow3GJr1Ol2Lv2NL7M/ZHjULu6F5NamCfDy4Z0wSd47qyvJ9J3lrcwZ/+eogz6w6zOT+kdwyIp5BsYFSAtrFJPGfQmtIr/bg+xIfTtZ54BnXn3mJBcyJKyLSUxapFp2fzejJ5rh5HAifxBXpf2dUxiL65i9jTdffcCJweONOytCixG0Ojcdv0EQ+qBrLR9uz6Rvlz60j4pkyMApvD0lBriA/df6X8LeU+JJfZ8bfZGN0aDlvPHI7D614zNXhCdHmyjxjWNb7GRKKNzAm/Wlu2HcvR0LGsjbx/jOGiZqr3mrnz48swDbnIR76aA+Pf3mA6UNiuHl4PEnhUreqLbl94s+vM7Gu0I/sWg8CTFauDCujl18tRgW6QaanCfd2PHgkbwSmMCT7bYZlvUJCyQbSR3lgtNdhM1ha1JaHyUDlzq/4avsXpGaU8NbmDN7anMGrG45zabcQbh0Rz5V9IjAbpSaQs7lt4q+2KdYX+XGgwhMvg2Z0aDnJ/jUXtaqREB1JS9cCiLFcxuM99vH42DpKd9zEt4m/Jj34spZ1qgwYTplmbfAOxLf/Vawrm8jGY0VYK4qo3LWcyl0rsFWeXvHlpzOKROu5XeLXGg5UePJdkR/1dsWQwGqGBlZhMZ7zJmIhOqXWrAWQxmSuenIe784zMu3A/RwPHMF3CfdR6NPMSrfnGCaya83xoip2Z3mT4XczQaNupluoL/1jAogJ8vrxmoIUL3QMt0r85Q0GVhX4k1VjIdKznnFh5YR4nHu+shDiTF+n2Xhz4BIG5r7L8KxXuWXnLRwMu5qNcXdR7tn8+v+nMihF11Bfuob6Ulpdz97scvbllHG0oJIgbzP9YwLpLTeFOYzbJP6DFZ6sKfQDDWObhnVkRpkQrWM3mNkefQv7IqYwNOt1BuW+S/fCr9kVeSNbY26n1hzY6rYDvT24rHsoI7oGcyS/kt1ZZaw9XMCGo4UEX30fe7PLSI5uXnlpcXadPvEriw/L8/w5VOlFpGc9E8LLCDDbXR2WEJ1Cncmf9Qn3sTPyRi458RKDcpaSnPcpqdG3sjNyJvWm1s/WMRkN9I70p3ekP/kVtezJKmN37yuYvGg9A2MDmTUslsn9o/CxdPo05nCd+vL51vRiom5fxOFKT0YEVTI9qkSSvhBOUGnpwqruv+etgW+TFTCEkSf+w9xtUxmWuRgPa+VFtx/u58m43hFk/XsOj13bh8o6Kw9+uIfhT6zmkY/3sCerzAHvwn102o9KrTWLvjmCtluZEV1MF0+rq0MSotMr8kliWe9nCK88wIgTLzHyxH8YkvMO26JmszNy5kW3r+uquH1kIj+7NIFtGSUs2ZrJR9uzeGfLCfpG+XPTsDiu7R9JoLeUhzifTpv4lVI8O2MgEb8cTZfnn29lIwapuSPEWTRvKmgAA/wu46GuR5ho/Q99jy0m/woPPBtKL+oaADT+fqckBJOSEMwfru3Dsp3ZLNmaye8/2cufPtvHmJ7hXDcomjG9wvE0N1bNjY2LJyvzRKv662zTSDtt4ofGpeN0Q23rG9B2nn1xcasOXTBvbuv7FaKda8lU0INAcX0mIypWsnD0XhpSr2VPxDS2R99MhaXLRccS4GXm1ksSuGVEPPtyyvlkRzaf7sph5f48/DxNXNMvkqkDo8nKymrVHcfQ+aaRduoxfiFE+5DvEcuykLkk/7uSIyHjGHDyfW7fNo3xR/5IcHWaQ/pQSpEcHcCjk/uw+eFxvDl3GFf1iWDZrhxmvbSZ6F++yreH8skuqaFxAUD31anP+F2tpXdGCtHZ7Suwc+kSRaznFdwTl8at1uX0zf+CLwsi+PvxJL4vCzp/Ay0sEAegzBa8kobj3XMkewNC2ZVVho/FSPcwP7pH+BIZ4Ol21UIl8TtRa+6M/MGCDe84MBIh2o8ffi9qgDdslQysWs8Y9R2TwjaQ45HADp/LOeLVH63OXNFuwYZ3Lmq45oF5B0gvrOJIfgV7csrYmVWKr8VEUrgv3cPd50NAEr8QwmVqjb5s9r+aVN8xJFdvYVDld1xT8gbl5YHs8rmMPT4jqDP4OKw/D5OBnl386NnFjzqrrfFDIK+SPdll7Mz834dAjwhfuvh33g8BSfxCCJezGizs9L2cXT6XkVi7n0FV6xhV/jkjKlay33soO3xGUWKOcGifFpORXl386dXF/6cfAln/+xDoHu5L94jOVzJaEr8Qot3QykCaVzJpXsmENuQwqHIdfau2MKBqA8ctvVjXy4TBbsVucGzqOuNDoKCKw03lInZklhJ91yv8+fP9XNM/koGdYAUxSfxCiHap0BzFqqCbWO8/mf5VG+lXtZGPZ3pTlTqZfeGT2RsxjTKvGIf3azEZ6RXpT6/Ixg+BtIIqPlm2ldc3RfDy+nSiA724pn8kk/pFMiAmoEN+CEjiF0K0azVGX7b4j2er3zi+fvpunrv3clKy32JY9uucCEhhb8Q0jgVfgdXo6fC+LSYjvSP9eenDP3Gkup6v9+fxxZ5cXt2Qzovr0ogJ8uKafo0fAv070IeAJH4hRIeglZEvjlgZ1/sZfOry6Zv/Gcl5y5h0+FHqDV4cC76cw2HjOR54SbMXh2+JAC8zNwyJ4YYhMZRVN7DqQB5f7M5h8fp0/vvDh0D/SK7pF0m/6Pb9ISCJXwjR4VRZwtkaO5etMbcTU7adnoUr6V70Db0LV1Br9CMteBTpQSPJCBpBncnf4f0HeJuZPiSG6UNiKK2uZ+X+PL7ck8vi79L579o0ogO9GNc7nHG9IxjRNRiL6cypqa4kiV8I0XEpA1mBKWQFprCm62+JK9tCz4JVJJasp0/Bl9gxkOvXj+NBl3JZnBGjrRabg4eEAr09mJESy4yU2MYPgX15rNyfx3upmbyxKQNvDyOXJYUyqnsoI7qGkBTu6/K/BiTxCyE6BbvBxPGgkRwPGonSNiIq95NYvIHEko2MPPEC393ug23LGPJ9epHj35+Tvn0p8u5KqVccNsMFqnm25o5hkweWuH74dB/BlwVDWLk/HABbVSm1mXuoy9xHfd4x6vPTz1lTLD42muMnslrUb3O4JPErpa4GngOMwMta6yddEYcQonPSyshJv36c9OvHpvi78Gwo5av7R/L7B+4ismIPA05+yBB7493xdoyUesVQ5JVIuWcUlR7hVHqEUWmJoMojhFqjH0bs/O0i7hi2r36CrJoiNpX4srnYh80hw8npNQoAhSbRp46+fjV096kl3quOeK8aErxqSLzhD2C3gcGxQ0VtnviVUkbgeeAqIAv4Xim1TGu9v61jEUK4h1pzIJ8dtjIm4T4ADPYGgmuOE1KdRnB1GiE16QRXp5NQuhmz/cyz77v/4E/9piuoM/liNViwKyN2Zfrx6w/lJZS2Y9A2FFYM2oZB25h8rw9q6wvEajux2s4MrdFGOye9Atlni2WfPY69NfFsr4rnMyJ/0m/s/Hc5fGg/PXr3c+jPwxVn/MOAo1rrNACl1FJgKiCJXwjRJuwGM4U+3Sn06f7TF7TGYqvEty4P3/p8fOqLsNgq+eaVJ5h682ws1kqM9rqmpG798atRNy70dOoHglZG7BhIzT5K9z6xoAygVOOwEYpIZSBSKa5U2aByQG2h1m7ihDWQjIZAMhoCeHt7CRERox3+/lVblydVSk0HrtZa/7zp+a3AcK31vaftNw+Y1/S0J9DSv7NCgcKLDNdZ2mtsElfLtNe4oP3GJnG1zMXGFa+1Djt9Y7u9uKu1fhF4sbXHK6VStdYpDgzJYdprbBJXy7TXuKD9xiZxtYyz4nLFQizZQOwpz2OatgkhhGgDrkj83wPdlVKJSikP4CZgmQviEEIIt9TmQz1aa6tS6l5gBY3TOV/RWu9zQletHiZqA+01NomrZdprXNB+Y5O4WsYpcbX5xV0hhBCuJYutCyGEm5HEL4QQbqZTJn6l1NVKqUNKqaNKqYdcGMcrSql8pdTeU7YFK6VWKaWONH0NckFcsUqpNUqp/UqpfUqp+e0oNk+l1Fal1K6m2BY2bU9USm1p+jd9t2liQJtTShmVUjuUUp+3l7iUUseVUnuUUjuVUqlN29rDv2WgUuoDpdRBpdQBpdQl7SSunk0/qx8e5UqpX7WT2O5v+n+/Vym1pOn3weH/xzpd4j+lJMREoA8wSynVx0XhvAZcfdq2h4DVWuvuwOqm523NCvxaa90HGAHc0/Qzag+x1QFjtdYDgIHA1UqpEcBfgb9rrZOAEmCuC2IDmA8cOOV5e4lrjNZ64ClzvtvDv+VzwHKtMFKHqAAABKNJREFUdS9gAI0/N5fHpbU+1PSzGggMAaqBj10dm1IqGvh/QIrWOpnGyS834Yz/Y1rrTvUALgFWnPL8YeD/t3c/IVaVcRjHv09MSY41OiUyNcXUoqxFqEQZSklJkYQRtSgiXLgJKmkVSBC1iRYRBVGL/i2iDEydYhZhZQUNZDamMjZphaIT6kim/SOQ+rV434uXcZqZZGbe05znAxfPOffCPNz39XfPfc+9v7u2YJ4uoL9pfw/Qkbc7gD0VeM7eI/VOqlQ2YCawHbie9O3FlpHGeArzdJIKws1AD6CK5NoPXDjsWNGxBNqAfeQPkFQl1wg5bwV6q5ANuBg4CLSTPnHZA9w2GXNs2p3xc+rJaxjMx6piXkQcytuHgXklw0jqAhYCW6lItrycsgMYAj4EfgCOR+SGKOXG9HngMeDvvH9BRXIFsFlSX251AuXH8jLgKPBGXhp7VVJrBXINdy+wLm8XzRYRPwLPAgeAQ8AJoI9JmGPTsfD/b0R6CS/2eVpJs4ANwKMR8UvzfSWzRcRfkd6Gd5Ka+s0vkaOZpDuAoYjoK51lBEsjYhFpefMhSTc231loLFuARcDLEbEQ+J1hSycVmP/nACuB9cPvK5EtX1O4k/SieRHQyulLxRNiOhb+qreEOCKpAyD/O1QihKSzSUX/rYjYWKVsDRFxHPiE9PZ2tqTGFw5LjOkSYKWk/cA7pOWeFyqQq3GmSEQMkdaqr6P8WA4CgxGxNe+/S3ohKJ2r2e3A9og4kvdLZ1sO7IuIoxFxEthImncTPsemY+GvekuI94FVeXsVaX19SkkS8BowEBHPVSzbXEmz8/a5pGsPA6QXgHtKZYuItRHRGRFdpDm1JSLuL51LUquk8xrbpDXrfgqPZUQcBg5KujIfuoXUer34HGtyH6eWeaB8tgPAYkkz8//RxnM28XOs5IWVSbxIsgLYS1obfrxgjnWktbqTpDOg1aR14Y+B74CPgPYCuZaS3sbuAnbk24qKZLsG+Dpn6weeyMcvB74Evie9NZ9RcFyXAT1VyJX//s58292Y7xUZywXAV3ksu4E5VciVs7UCPwFtTceKZwOeAr7Nc/9NYMZkzDG3bDAzq5npuNRjZmajcOE3M6sZF34zs5px4TczqxkXfjOzmnHhNzOrGRd+M7OaceE3G4Ok7twAbXejCZqk1ZL25t8OeEXSi/n4XEkbJG3LtyVl05udzl/gMhuDpPaIOJZbSGwjtcrtJfWe+RXYAuyMiIclvQ28FBGfS7qU1EL3qmLhzUbQMvZDzGpvjaS78vYlwAPAZxFxDEDSeuCKfP9y4OrUagWA8yXNiojfpjKw2Whc+M1GIWkZqZjfEBF/SPqU1Evl387izwIWR8SfU5PQ7L/zGr/Z6NqAn3PRn0/6qcpW4CZJc3K73LubHr8ZeKSxI2nBlKY1GwcXfrPRfQC0SBoAngG+IPVDf5rUMbGX9NOHJ/Lj1wDXStol6RvgwSlPbDYGX9w1OwONdft8xr8JeD0iNpXOZTYePuM3OzNP5t8F7if9qHh34Txm4+YzfjOzmvEZv5lZzbjwm5nVjAu/mVnNuPCbmdWMC7+ZWc38A5z77YxX5XTLAAAAAElFTkSuQmCC",
      "text/plain": [
       "<Figure size 432x288 with 1 Axes>"
      ]
     },
     "metadata": {
      "needs_background": "light"
     },
     "output_type": "display_data"
    }
   ],
   "source": [
    "sns.histplot(titanic, x='age', hue='survived', kde=True)\n",
    "# sns.<tên của plot>(\n",
    "#     <bộ dữ liệu>, \n",
    "#     x=<cột dữ liệu x>, \n",
    "#     y=<cột dữ liệu y>, \n",
    "#     hue=<cột dữ liệu để phân loại>, \n",
    "#     kde=True # để vẽ đường cong thể hiện phân phối (đường cong đẹp đẹp)\n",
    "# )"
   ]
  },
  {
   "cell_type": "code",
   "execution_count": 34,
   "metadata": {
    "colab": {
     "base_uri": "https://localhost:8080/",
     "height": 297
    },
    "executionInfo": {
     "elapsed": 55,
     "status": "ok",
     "timestamp": 1635509209932,
     "user": {
      "displayName": "Samuel Doan",
      "photoUrl": "https://lh3.googleusercontent.com/a-/AOh14GjbcdQ40FcyCSIyitBN2ptY3zHWA_09harKPYF2=s64",
      "userId": "04384888964432338542"
     },
     "user_tz": -420
    },
    "id": "TST1KSKBdN_p",
    "outputId": "a939e50c-3498-41cb-9a08-63134e7f071c"
   },
   "outputs": [
    {
     "data": {
      "text/plain": [
       "<matplotlib.axes._subplots.AxesSubplot at 0x7f03ae9a0750>"
      ]
     },
     "execution_count": 34,
     "metadata": {},
     "output_type": "execute_result"
    },
    {
     "data": {
      "image/png": "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",
      "text/plain": [
       "<Figure size 432x288 with 1 Axes>"
      ]
     },
     "metadata": {
      "needs_background": "light"
     },
     "output_type": "display_data"
    }
   ],
   "source": [
    "sns.scatterplot(data=titanic, x='age', y='fare', hue='survived')"
   ]
  },
  {
   "cell_type": "code",
   "execution_count": 35,
   "metadata": {
    "colab": {
     "base_uri": "https://localhost:8080/"
    },
    "executionInfo": {
     "elapsed": 35,
     "status": "ok",
     "timestamp": 1635509209934,
     "user": {
      "displayName": "Samuel Doan",
      "photoUrl": "https://lh3.googleusercontent.com/a-/AOh14GjbcdQ40FcyCSIyitBN2ptY3zHWA_09harKPYF2=s64",
      "userId": "04384888964432338542"
     },
     "user_tz": -420
    },
    "id": "ATi3PlpqekhZ",
    "outputId": "893a6c4c-ff3d-4fcb-c833-067f219612dc"
   },
   "outputs": [
    {
     "data": {
      "text/plain": [
       "man      537\n",
       "woman    271\n",
       "child     83\n",
       "Name: who, dtype: int64"
      ]
     },
     "execution_count": 35,
     "metadata": {},
     "output_type": "execute_result"
    }
   ],
   "source": [
    "titanic['who'].value_counts()"
   ]
  },
  {
   "cell_type": "code",
   "execution_count": 36,
   "metadata": {
    "colab": {
     "base_uri": "https://localhost:8080/"
    },
    "executionInfo": {
     "elapsed": 79,
     "status": "ok",
     "timestamp": 1635509213560,
     "user": {
      "displayName": "Samuel Doan",
      "photoUrl": "https://lh3.googleusercontent.com/a-/AOh14GjbcdQ40FcyCSIyitBN2ptY3zHWA_09harKPYF2=s64",
      "userId": "04384888964432338542"
     },
     "user_tz": -420
    },
    "id": "oDVUUYxDermf",
    "outputId": "112e4e83-bcdb-411b-bd61-c2079e831b10"
   },
   "outputs": [
    {
     "data": {
      "text/plain": [
       "0    608\n",
       "1    209\n",
       "2     28\n",
       "4     18\n",
       "3     16\n",
       "8      7\n",
       "5      5\n",
       "Name: sibsp, dtype: int64"
      ]
     },
     "execution_count": 36,
     "metadata": {},
     "output_type": "execute_result"
    }
   ],
   "source": [
    "titanic['sibsp'].value_counts()"
   ]
  },
  {
   "cell_type": "code",
   "execution_count": 37,
   "metadata": {
    "colab": {
     "base_uri": "https://localhost:8080/"
    },
    "executionInfo": {
     "elapsed": 71,
     "status": "ok",
     "timestamp": 1635509213561,
     "user": {
      "displayName": "Samuel Doan",
      "photoUrl": "https://lh3.googleusercontent.com/a-/AOh14GjbcdQ40FcyCSIyitBN2ptY3zHWA_09harKPYF2=s64",
      "userId": "04384888964432338542"
     },
     "user_tz": -420
    },
    "id": "5Bg6yPp7ezfq",
    "outputId": "8f06c1e4-9cda-43b4-f07a-20e56227f401"
   },
   "outputs": [
    {
     "data": {
      "text/plain": [
       "0    678\n",
       "1    118\n",
       "2     80\n",
       "5      5\n",
       "3      5\n",
       "4      4\n",
       "6      1\n",
       "Name: parch, dtype: int64"
      ]
     },
     "execution_count": 37,
     "metadata": {},
     "output_type": "execute_result"
    }
   ],
   "source": [
    "titanic['parch'].value_counts()"
   ]
  },
  {
   "cell_type": "code",
   "execution_count": 38,
   "metadata": {
    "colab": {
     "base_uri": "https://localhost:8080/",
     "height": 297
    },
    "executionInfo": {
     "elapsed": 55,
     "status": "ok",
     "timestamp": 1635509213562,
     "user": {
      "displayName": "Samuel Doan",
      "photoUrl": "https://lh3.googleusercontent.com/a-/AOh14GjbcdQ40FcyCSIyitBN2ptY3zHWA_09harKPYF2=s64",
      "userId": "04384888964432338542"
     },
     "user_tz": -420
    },
    "id": "1E5F7AXte6Mz",
    "outputId": "014a491a-6f1c-444b-fc0e-8ee59b3d6f11"
   },
   "outputs": [
    {
     "data": {
      "text/plain": [
       "<matplotlib.axes._subplots.AxesSubplot at 0x7f03af2cc790>"
      ]
     },
     "execution_count": 38,
     "metadata": {},
     "output_type": "execute_result"
    },
    {
     "data": {
      "image/png": "iVBORw0KGgoAAAANSUhEUgAAAXgAAAEGCAYAAABvtY4XAAAABHNCSVQICAgIfAhkiAAAAAlwSFlzAAALEgAACxIB0t1+/AAAADh0RVh0U29mdHdhcmUAbWF0cGxvdGxpYiB2ZXJzaW9uMy4yLjIsIGh0dHA6Ly9tYXRwbG90bGliLm9yZy+WH4yJAAAgAElEQVR4nO3df3AU55kn8O8z0kgjJM2AhZAEGGRi2QYpGJNJYieOz8bZLMkS0GVzJN5UnN1LypUrb0yOvUsldy68pri7TWqLi5P4sus4TuyLNxviHxhTOc7xr3Nsx44HAlgyxjhYYIRGEjLMjIRGSMxzf0z3MD96fkhWq0fN91Olkt55u9/3ed/ufjTqeTUjqgoiInIfj9MBEBGRPZjgiYhcigmeiMilmOCJiFyKCZ6IyKUqnQ4g3fz587W1tdXpMIiIZo29e/eeUtVGq7qySvCtra0IhUJOh0FENGuIyLF8dbxFQ0TkUkzwREQuxQRPRORSTPBERC7FBE9E5FK2JngRmSsij4jImyJySESus7M/IiclEoqjg8P4/Z9O4ejgMBIJvpEfOcvuZZL3ANijqp8XkSoAc2zuj8gRiYRiT3cYm3fsR3w8AZ/Xg+0bV2FtezM8HnE6PLpI2fYMXkQCAG4A8FMAUNVzqnrGrv6InNQzNJJK7gAQH09g84796BkacTgyupjZeYvmMgCDAH4mIn8UkftFpDZ7IxG5TURCIhIaHBy0MRwi+/RH46nkboqPJzAQizsUEZG9Cb4SwGoAP1bVawCMAPh29kaqep+qBlU12Nho+d+2RGWvye+Dz5t5Ofm8Hiyo9zkUEZG9Cf4EgBOq+qpRfgTJhE/kOq0Ntdi+cVUqyZv34Fsbcv5oJZoxtr3IqqphEXlXRK5U1cMAbgbwhl39ETnJ4xGsbW/GVXd8AgOxOBbU+9DaUMsXWMlRdq+i+QaAh40VNEcB/I3N/RE5xuMRLGusw7LGOqdDIQJgc4JX1f0Agnb2QURE1vifrERELsUET0TkUkzwREQuxQRPRORSTPBERC7FBE9E5FJM8ERELsUET0TkUkzwREQuxQRPRORSTPBERC7FBE9E5FJM8ERELsUET0TkUkzwREQuxQRPRORSTPBERC7FBE9E5FJM8ERELsUET0TkUkzwREQuxQRPRORSTPBERC7FBE9E5FKVdjYuIj0AYgDOA5hQ1aCd/RFNViKh6BkaQX80jpaAD0PD59AXjaPF78MHFwZQVVVhuW2T34fWhlp4POJg9ESF2ZrgDTep6qkZ6IdoUhIJxZ7uMDbv2I8rFtThlo8uxd1PdiM+noDP68HWDR3oXLkQVVUVGdua9ds3rsLa9mYmeSpbvEVDF62eoZFUwv7aDR9IJXcAiI8nsOWJLhw8GcnZ1qzfvGM/eoZGHIufqBi7E7wCeEpE9orIbVYbiMhtIhISkdDg4KDN4RBd0B+NpxL26NhE6mdTfDyB/mg8Z9v0+oFYfGaCJZoCuxP89aq6GsCnAdwuIjdkb6Cq96lqUFWDjY2NNodDdEGT3wefN3kJzKmuTP1s8nk9aPL7crZNr19Q75uZYImmwNYEr6q9xvcBAI8D+Iid/RFNRmtDLbZvXAWf14OfvPAn3PXZ9lQSN+/Br1wYyNnWrN++cRVaG2odi5+oGFFVexoWqQXgUdWY8fNvAWxV1T359gkGgxoKhWyJh8iKuTJmIBZHsz+5iiZsrJJZmWcVzUAsjgX1XEVD5UFE9uZboWjnKpomAI+LiNnPvxRK7kRO8HgEyxrrsKyxDgDQOr/0bYnKnW0JXlWPArjarvaJiKgwLpMkInIpJngiIpdigicicikmeCIil2KCJyJyKSZ4IiKXYoInInIpJngiIpdigicicikmeCIil2KCJyJyKSZ4IiKXYoInInIpJngiIpdigicicikmeCIil2KCJyJyKSZ4IiKXYoInInIpJngiIpdigicicikmeCIil2KCJyJyKSZ4IiKXqrS7AxGpABAC0Kuq6+zuj8pfIqHoGRpBfzSOJr8PrQ218HjE6bByTGecs2XMTuIcTT/bEzyATQAOAfDPQF9U5hIJxZ7uMDbv2I/4eAI+rwfbN67C2vbmsrqYpzPO2TJmJ3GO7GHrLRoRWQzgLwDcb2c/NHv0DI2kLmIAiI8nsHnHfvQMjTgcWabpjHO2jNlJnCN72H0P/vsAvgUgkW8DEblNREIiEhocHLQ5HHJafzSeuohN8fEEBmJxhyKyNp1xzpYxO4lzZA/bEryIrAMwoKp7C22nqvepalBVg42NjXaFQ2Wiye+Dz5t52vm8Hiyo9zkUkbXpjHO2jNlJnCN72PkM/uMA1otID4B/BbBGRH5hY380C7Q21GL7xlWpi9m819raUOtwZJmmM87ZMmYncY7sIapqfyciNwL4T8VW0QSDQQ2FQrbHQ84yV0sMxOJYUF++qyWmM87ZMmYncY6mRkT2qmrQqm4mVtEQZfB4BMsa67Cssc7pUAqazjhny5idxDmafjOS4FX1eQDPz0RfRESUxP9kJSJyKSZ4IiKXYoInInIpJngiIpdigicicikmeCIil2KCJyJyKSZ4IiKXYoInInIpJngiIpdigicicikmeCIil2KCJyJyKSZ4IiKXYoInInIpJngiIpcq+QM/RGQRgKXp+6jqC3YERURE719JCV5EvgvgCwDeAHDeeFgBMMETEZWpUp/BdwK4UlXH7AyGiIimT6n34I8C8NoZCBERTa+Cz+BF5IdI3oo5C2C/iDwDIPUsXlXvsDc8IiKaqmK3aELG970AdtkcCxERTaOCCV5VHwQAEakFEFfV80a5AkC1/eEREdFUlXoP/hkANWnlGgBPT384REQ0XUpdReNT1WGzoKrDIjKn0A4i4kNyGWW10c8jqnrXlCMlJBKKnqER9EfjaPL70NpQC49HZqTviYkEuvsi6IvE0RKoQXuLH5WV/D85u9h5rJ08j2hmlZrgR0RktaruAwAR+RCA0SL7jAFYY/wy8AJ4UUT+j6q+8j7ivWglEoo93WFs3rEf8fEEfF4Ptm9chbXtzbZfnBMTCew80Is7d3al+t7W2YHOqxcxydvAzmPt5HlEM6/Uq3MTgF+LyO9E5EUAvwLwt4V20CTzWb/X+NIpR3qR6xkaSV2UABAfT2Dzjv3oGRqxve/uvkgquZt937mzC919Edv7vhjZeaydPI9o5hVN8MYLqp8AcBWA/wDg6wCWq+reUvYVkf0ABgD8VlVftdjmNhEJiUhocHBw0gO4WPRH46mL0hQfT2AgFre9776Idd/hiP19X4zsPNZOnkc084omeGPlzC2qOq6qXcbXeCmNq+p5VV0FYDGAj4hIh8U296lqUFWDjY2Nkx7AxaLJ74PPm3m4fF4PFtT7bO+7JVBj2XdzwP6+L0Z2HmsnzyOaeaXeonlJRH4kIp8QkdXmV6mdqOoZAM8BWDulKAmtDbXYvnFV6uI07522NtTa3nd7ix/bOjsy+t7W2YH2loDtfV+M7DzWTp5HNPNEtfhtcRF5zuJhVdU1BfZpBDCuqmdEpAbAUwC+q6q78+0TDAY1FArlq77omasfBmJxLKh3ZhVNOBJHc8CH9pYAX2C1kZ3H2snziKafiOxV1aBlXSkJfoqdrgTwIIAKJP9S2KGqWwvtwwRPRDQ5hRL8ZN4P/i8AtANI3awrlLBV9SCAayYRJxERTaOS/sYWkX9C8v3gvwFAAPw7JD/8g4iIylSpN1E/pqq3AjitqncDuA7AFfaFRURE71epCd78r9WzIrIQwDiAFntCIiKi6VDqPfjdIjIXwPeQfOtgALjfnpCIiGg6lJrg/xHJ/2L9BIDfA/gdgB/bFRQREb1/pSb4BwHEAPzAKP8VgIcAbLQjKCIiev9KTfAdqroirfyciLxhR0BERDQ9Sn2RdZ+IXGsWROSjuPBxfkREVIZKfQb/IQAvi8hxo7wEwGEReR3JtyxYaUt0REQ0ZaUmeL5JGBHRLFNSglfVY3YHQkRE04tvB0hE5FJM8ERELsUET0TkUkzwREQuxQRPRORSTPBERC7FBE9E5FJM8ERELsUET0TkUkzwREQuxQRPRORSTPBERC7FBE9E5FKlvl3wpInIpUh+rF8TAAVwn6reY0dfiYTiZHQEJ98bQ39sDE3+aqxorsWb/WcRjsbR4vdhRVM93jo1jL5IHJfNr0F09DzC0TE0+6vR3lyPI6dG0BeJoyVQg+VN9TgRGUV/NI4mvw9L5s3B8dNn85ab6rzoDg+jPzqGRXN9qPQIThptXTG/Ft39sVQcH1wYQFVVRd6xTEwk0N0XScXS3uJHZaUnNc6eoZFUv4sDNTjUH01tm91X+piz28rua9HcGgiAE2dGLeegpa4aXeFoSXPW7PchFh9PzUF2v9njaG2ohccjJdUXmh8r8fgEXu+LIBxNnhe11RWo8Vbm9Fns/OoZGsHQyBiqKjw4e+68ZdzTqdgcOaVc4yJrtiV4ABMA/k5V94lIPYC9IvJbVZ3Wj/pLJBT7Twzh7f6z2LKrG/HxBHxeD7au78CO0DGEjkUyyucmFLd8dCnuftJ626UNNbj9pjZseaIrVb+tswM/fPYIjg2N5pQ/tWI+Prl8Ibbs6sK8OVW49bqluOeZIxlt3/v8hX23buhA58qFlkl+YiKBnQd6cefOzL47r14Ej0ewpzuMzTv2Iz6eyIlzaUMNbr+xDVt2dWX0/fShk3jqjVMZbVVWeiz72nRzGx76/TGcPnsOWzd0YMdryTnZ+KEWBFsbU21b9mVs33tmLGcO0vtNJDRjHD6vB9s3rsLa9mZ4PFKwPpHQvPNjleTj8Qnser0va07aEeo5hRuvakn1Wez82tMdxnf3HMIXgkvwg2ePWMY9nYrNkVPKNS7Kz7ZbNKrap6r7jJ9jAA4BWDTd/fQMjWB8QlLJHQDi4wls2dWFWz+2LKf8tRs+kEruVtuuW7kolTTN+jt3dmHdykWW5S9de1kqgXxu9eJUYktvO33fLU904eDJiOVYuvsiqeSV3ld3XwQ9QyOpC8sqznUrF6XiSO/7S9deltNWvr7ueeYIPrd6cSpOc046Vy/JaNuyL2N7qzlI7zd7HPHxBDbv2I+eoZGi9YXmx8rrfRGLOelG5+olGX0WYsazbuWiVHK3ins6FZsjp5RrXJTfjNyDF5FWANcAeNWi7jYRCYlIaHBwcNJt90fjGIjFUyedKT6ewOi5iZzy6NhEwW1FYFkvYl0+PTKe2r7Uffujccux9EWsxxGOxNEfzazL7itf32fOjue0VagvM9b0OTkVGyupr9FzE3nrzH6zx2HWD8SK1xeaHyvh6Jjl9kPDYxl9FmLGk29cpbQxWcXmyCnlGhflZ3uCF5E6AI8C+KaqRrPrVfU+VQ2qarCxsXHS7Tf5fVhQ74PPmzkUn9eDmqrKnPKc6sqSts2uV7UuX1Lrzdi+lH2b/D7LsbQEaiz3bw740OS3HmOx8tw53py2CvVlxpo+J4311SX1ZW6fbwwA8o5jQX3x+kLzY6XZbx13Q111Rp+FpMdTKO7pVGyOnFKucVF+tiZ4EfEimdwfVtXH7OijtaEW3krF1vXtGRfi1vUdeOjloznln7zwJ9z12fzbPnmgF1s3dGTUb+vswO6DvZblX7zyDrauT27/6N4T2HRzW07b6ftu3dCBlQsDlmNpb/FjW2du3+0tAbQ21GL7xlWpuuw4nzzQm4ojve+HX3knp618fW26uQ2P7TuRitOck8f3Hc9o27IvY3urOUjvN3sc5n3c1obaovWF5sfKB1sCFnPSjp37jmf0WYgZz5MHenHHmra8cU+nYnPklHKNi/ITTX96OZ0NiwiABwG8p6rfLGWfYDCooVBo0n0VWkVjvtrfbqwoCUfiWDq/BrHR8+g3VlaYK0LCkTiaAz4sb/LjRGQUA7E4FtRfWDWTr2y1iqbPaOuK+XXo7o+l4lhZ4ioaM5b2lkDOKhqzX3MVTThPX+ljzm4ru6+WuT54IOg9M2o5B+YqmlLmrKk+uYqmL0+/2ePIt4rGqr7Q/FjJXkVTV10B3xRX0bw3MgbvDK+iyTdHTinXuC5mIrJXVYOWdTYm+OsB/A7A6wDMG3f/RVV/k2+fqSZ4IqKLVaEEb9sySVV9EQB/tRMROYT/yUpE5FJM8ERELsUET0TkUkzwREQuxQRPRORSTPBERC7FBE9E5FJM8ERELsUET0TkUkzwREQuxQRPRORSTPBERC7FBE9E5FJM8ERELsUET0TkUkzwREQuxQRPRORSTPBERC7FBE9E5FJM8ERELsUET0TkUkzwREQuxQRPRORSTPBERC5VaVfDIvIAgHUABlS1w65+EgnFO6eG0ReJIxafwPy6KvhrKtAS8OHN8Aj6o2No8lfjyuZavBUeQTg6hrYFcxCNn0/VtTfXoX94HP3ROJr8PiwO1OBQfxR9kThaAjW4srEOhwdjqfIV82vR3R9DOBpHi9+HFU31eMuIoSVQg/YWPyorS/vdmUgoeoZGUn0vmTcHx0+ftYxlaUMNhuPnEY6OodlfjY5mP/qGx1LbNtdVoSscS42ro7ke4eFzedtOLy+c68OZkXH0Ra3HXKy8vKkeJyKj6I/G0RLw4XwCGIhZz2f6tlZxtdRVoysctRzngnofKjxAXyS57cJ6n7Ft8li0N/txMhYv+Vimx7Jong8D0XOptpY31eGN/uG8bRc6VgsDNajwAO+eHrU8Zz64MICqqoq850FrQy08HrGsX1BXjdGJ8zhhtJ09n9ljzj4fC/U1mTis6icmEujui0zpWih2bWT35VRbs4ltCR7AzwH8CMBDdnWQSCieebMfbw8M455njiA+noDP68G2zg681T+C//zIwdRjW9d34OlDJ1FX5cXoufnYsqs7oy7UM4gde/sQXBrAxg8vxZYnujLqd4SOIXQskqwPLsWWXcn6pQ01uP3GtlTZ7L/z6kVFT+xEQrGnO4zNO/an2vrGmjbcuTOt7ZvasOWJLlyxoA63fHQp7n6y2zKuT62Yj08uX5gRx9b1HXgrfBr3v/RuTttmnD989ggCPm9G29ljKlb2eT3YuqEDO147ht4zY7j1uqWp45E+huxtQ8ciOXFlz2/2OH1eDzbd3IaHfn8MVZWSG0f2sSpwLNNju+6yS7D2gy24K+u8uPf5Izg2NGoZhzl/x4ZGLfsqGOeGDnSuXIiqqoqc88Dn9WD7xlVY294Mj0cs6822T589lzGfVnGkn4+F+gIw6TjS6ycmEth5oDfnHCvlWih2bWT35VRbs41tt2hU9QUA79nVPgD0DI3g9d5IKpkAQHw8gTt3duHIwHDGY1t2deFL116Gz394SSq5p9d1rl4CALj1Y8tSF0d6/a0fW3ahfteF+nUrF2WUzf67+yIlxW+edGZb5sWRatuI5Ws3fCCVgK3i+tK1l+XEsWVXFz7ZvsiybTPOdSsX5bSdPaZi5fh4AlueSMbyudWLM45H+hiyt7WKK3t+s8cZH0/gnmeO4HOrF1vHkX2sChzL9Nj++vrLUsk9fdt1KxfljcOcv3x9FYzziS4cPBmxPA/i4wls3rEfPUMjeevNtrPn0yqO9POxUF9TiSO9vrsvYnmOlXItZCvWl1NtzTaO34MXkdtEJCQiocHBwUnt2x+NI6FIHThTfDyBhCLnsTNnx3EqNma5/dDwGABgdGzCsn703IRlvYh1/+FIvKT4C7WVXi4W1+mRccv6wVi8YJwixcdUrJwey2S2taovNs70uIu1Xayt9P3zzZ+I9b7Z9fn6KhRnfzR5bLLPA7N+IFa43uy7lDGb52OhvqYah1nfF7GuL+VayFasL6famm0cT/Cqep+qBlU12NjYOKl9m/w+VAjg82YOw+f1IPsvL5/Xg7lzvGisr7bcvqGuGgAwp7rSsr6mqrJgfXa5OeArKf5S2iolrktqvZb1jfW+jHJ2vWrpYypWNmOZzLbZ9cXGmR53sbZLbQvIP3+qhfc16/P1VSjOJn/y2OQ7DxbUF65Pb7vYmM3zsVBfU43DrG8J1Ez5WshWrC+n2pptHE/w70drQy06FgWw6ea21AE07/u1LajLeGzr+g48/Mo7+PVrx7F1fXtO3c59xwEAD758FFs3dOTUP/Ty0Qv16y/UP3mgN6Ns9t/eEigp/u0bV2W0ta0zq20jlp+88Cfc9dncuM24fvHKOzlxbF3fgae7ey3bNuPcfbA3p+3sMRUrm/eUH3r5KB7deyLjeKSPIXtbq7iy5zd7nOb958f2nbCOI/tYFTiW6bH97MV3cLfFebH7YG/eOMz5y9dXwTg3dGDlwoDleWDeI25tqM1bb7adPZ9WcaSfj4X6mkoc6fXtLX7Lc6yUayFbsb6camu2EVUtvtVUGxdpBbC71FU0wWBQQ6HQpPqY7Cqa/ugYLs+zimYgllylYa5CCEfiaA74cGVjPQ4PxlLlK+bXobs/lnpFvt1YRWPWt7cEJr2KxuzbXJlhFcull9RgZOxC3ObqEnPbfKto8rWdXm4JJFfRhKPWYy5WXt7kx4nIKAZicTT7k6toBoet5zN9W6u4zFU0VuNsrEuuogkbK2rMVTTmsegwVrqUeizTY1k4N7mKxmxrhbGKJl/bhY5Vc8CHSo/gxOlRy3NmZZ5VNGZb+VavDMTimF9bjfjEefQabWfPZ3Yc2edjob4mE4dVvbmKZirXQrFrYzpW0UxHW+VGRPaqatCyzq4ELyK/BHAjgPkA+gHcpao/LbTPVBI8EdHFrFCCt22ZpKreYlfbRERU3Ky+B09ERPkxwRMRuRQTPBGRSzHBExG5FBM8EZFLMcETEbkUEzwRkUsxwRMRuRQTPBGRSzHBExG5FBM8EZFLMcETEbkUEzwRkUsxwRMRuRQTPBGRSzHBExG5FBM8EZFLMcETEbkUEzwRkUsxwRMRuRQTPBGRSzHBExG5FBM8EZFLMcETEblUpZ2Ni8haAPcAqABwv6r+g539TVUioegZGkF/NI4mvw+tDbXweMSWtpfMm4Pjp8/mLS+s96ErHMV7Z89hXo0XHgESCgzExrBwrg9Q4MSZOJr81biiuRZvhUfQHx2bUnnJvAocP30e/dExLJ7rQwLAyTxtp2/b5K9Gc6AC4ch5y7YXzvXBg/xxVlcqxiYEA7ExLKi/UD8YG0NjfTUmzk+gsqIyp74/OoZFc30Qi7ZPnx3HvDleJDQBj3gs9zW3PxIeQTg6hmZ/NdrS6i+d50NCgd48cddXezA8lsBAbAzNfh8+0DQnp+1jp0bRF4lj8bwaxM+dR1+eua/xAqPjwKDR1uVNc3C4xGOXbw7Mba9qrsXhtDF2NPvRNzyWOsea6rzoDg+ntl/RXIujp0ZxMhJHY30VVAXhaBwtfh9WNNXjrVPD6IvE0RKowRXza9HdH8tbf2VjHQ4PxtAXiWNhoAYKxbunR9Hi9+Gqplq8ER5OxdXeXI8jp0ZS+y5vqseJyGgqzsWBGhzqj+atn8x1mn4dzqmqREITOJ8A3hsZQ5O/Bu0tflRWWj/fncn8MJ1tAzYmeBGpAHAvgD8DcALAayKyS1XfsKvPqUgkFHu6w9i8Yz/i4wn4vB5s37gKa9ub3/dEW7W9rbMDP3z2CI4NjWJpQw2+saYNd+7sStVvXd+BHaFjWHNVM559M4y/XL0Ed+/uTtVvurkND/3+GKoqBbff2IYtuzL3vff5ZNvBpQFsDC7Nqd8ROobQsYhRbse9z7+NcxOKW69binueOWLZ1tKGGtx+4+XYsisZh3U5MxYzztNnz2W0Zfa7I3QcoWORnDiXNtTg6zdcjrt37yu57VDPIFrn+/Gr0HF8IbgEP3j2SIExd+DpQyfx1BunLOcou+23wqdx/0vvGtsuKThms6/eM2NTmM/8x9KqbMa5aG51Ccf5wpjz9fX0oZN4vXc4I+5CY0xvu9A5V+x8zYjrpjZseSKtfkMH7n0ubQ42dGDHaxf6LvU6tboO71rXjn964e1U29s6O9B59aKcJD/T+WG62jaJqk5LQzkNi1wH4O9V9c+N8ncAQFX/R759gsGghkIhW+LJ5+jgMD7zg98hPp5IPebzevCbOz6BZY11trT91euX4d7n3sbtN12On754NKf+e5+/Gt965EDqu9X+ACz3Ndv+wS3XWO77vc9fjTt++cdJtZUdZ7Fy9v7pP2fHkR3nVNp+4K8/jH//89fw1euX5Z3P9DH/85c/hK888FreOUpv++d/8xF88b5XisaZ3tfhcOx9zWf29oXKVzbXl3SczTHn6+ufv/wh/OGd0yXFZXUOFTrnCp1jxeLKd96Y5VKu02LXoVn+1W3X4upL55W0r535YbJti8heVQ1a1dl5D34RgHfTyieMxzKIyG0iEhKR0ODgoI3hWOuPxjMmGADi4wkMxOK2tS3GL2cRWNaPnptIfh+byLt/vn3NtvPtO3puYtJtZdcXK2fvn/5zdhzZcU6l7aHhsdRjpYz5zNnxgnOU3vagcR4UizO9r/c7n9nbFyqXepzNMefr68zZ8ZLjsjqHrOYovb5Qv5OZg+y+S7lOi12HZjkcyW3LifwwHW2bHH+RVVXvU9WgqgYbGxtnvP8mvw8+b+Y0+LweLKj32dZ2+h9NVvVzqiqT36srC+5fqC7fvjVVlZbbTyXOYuX0trPbMuPIF+dk2m6oq05tU8qY587xFuw7ve1G4zwoNU6zr+mYz+ztrcqlHmdzzPn6MusnM8bsuKZyvhaLK995Y5ZLuU5LvQ6bA7ltOZEfpqNtk50JvhfApWnlxcZjZaW1oRbbN67KSBDbN65Ca0OtLW1v6+zA7oPJaXjyQC+2dXZk1G9d34EHXz6KO9a04cGXj+Kude0Z9ZtubsNj+07gyQO92Lo+d1+z7QdfPmpZ/9DLR9PK7dh9sBeP7j2BTTe35W0r2deFOKzLHZZxZrdl9mvGkR3nkwd6M8ZcSts79x3HHWva8OSBXtyxJnccmWPuwMOvvJN3jrLbfro7fT4Lx2X2NbX5zH8srcpmnKUd5wtjztfXw6+8kxN3oTGWes4VO18z4tqQVb8haw42ZPZd6nVqdR3eta49o+1tnR1obwmUtK+d+WG62jbZeQ++EsBbAG5GMrG/BuCvVLU73z5O3IMHLrySPRCLY0G9Pa+Sm22bq2bylc1VNKfPnmwUkQgAAAdYSURBVMPcGi8qBDhvrqIxnmHYsYpm0VwfFNOziqYl4EOFFF9FY66ayV1Fcx6VFRU59f3R5Bx4LNrOXkVjtW/6KhqznL6KZvE8H7TgKpoKDI+dx0BsDE3GyherVTThSBwL59ZgbDz/Kpo5XuCssYqmye9D2yRW0eSbg+xVNGbZXEVjnmP5VtH0RcbQWOdFAslVNM1+H9qNVTLhSBzNAR+umF+H7v5YatVHdv2VjfU4PBhLlv0+QIATp0fR5PdhubGKxuzXXEVj7ru8yY8TkdFUnOYqmnz1U19FU4GEqrGK5lwylpZA0VU0M5EfptJ2oXvwtiV4o+PPAPg+ksskH1DV/1Zoe6cSPBHRbFUowdu6Dl5VfwPgN3b2QURE1hx/kZWIiOzBBE9E5FJM8ERELsUET0TkUrauopksERkEcGySu80HcMqGcN6vco0LKN/YGNfklGtcQPnG5sa4lqqq5X+JllWCnwoRCeVbIuSkco0LKN/YGNfklGtcQPnGdrHFxVs0REQuxQRPRORSbkjw9zkdQB7lGhdQvrExrskp17iA8o3toopr1t+DJyIia254Bk9ERBaY4ImIXGpWJ3gRWSsih0XkbRH5toNxPCAiAyLSlfbYJSLyWxE5YnyfV6gNm+K6VESeE5E3RKRbRDaVQ2wi4hORP4jIASOuu43HLxORV43j+SsRqZrJuNLiqxCRP4rI7jKLq0dEXheR/SISMh4rh/Nsrog8IiJvisghEbnO6bhE5EpjnsyvqIh80+m40uL7j8a53yUivzSuiWk/z2Ztgk/7UO9PA1gB4BYRWeFQOD8HsDbrsW8DeEZV2wA8Y5Rn2gSAv1PVFQCuBXC7MUdOxzYGYI2qXg1gFYC1InItgO8C+J+qejmA0wC+OsNxmTYBOJRWLpe4AOAmVV2Vtmba6WMJAPcA2KOqVwG4Gsm5czQuVT1szNMqAB8CcBbA407HBQAisgjAHQCCqtqB5NupfxF2nGeqOiu/AFwH4P+mlb8D4DsOxtMKoCutfBhAi/FzC4DDZTBnTwD4s3KKDcAcAPsAfBTJ/+SrtDq+MxjPYiQv/DUAdgOQcojL6LsHwPysxxw9lgACAN6BsWCjXOLKiuVTAF4ql7hw4fOqL0HyLdt3A/hzO86zWfsMHiV+qLeDmlS1z/g5DKDJyWBEpBXANQBeRRnEZtwG2Q9gAMBvAfwJwBlVNT9V2anj+X0A3wJgfhpyQ5nEBQAK4CkR2SsitxmPOX0sLwMwCOBnxm2t+0WktgziSvdFAL80fnY8LlXtBfCPAI4D6AMQAbAXNpxnsznBzxqa/JXs2HpUEakD8CiAb6pqNL3OqdhU9bwm/3xeDOAjAK6a6Riyicg6AAOqutfpWPK4XlVXI3lb8nYRuSG90qFjWQlgNYAfq+o1AEaQddvDyfPfuI+9HsCvs+ucisu4778ByV+OCwHUIvcW77SYzQm+3D/Uu19EWgDA+D7gRBAi4kUyuT+sqo+VU2wAoKpnADyH5J+kc43P8gWcOZ4fB7BeRHoA/CuSt2nuKYO4AKSe+UFVB5C8n/wROH8sTwA4oaqvGuVHkEz4Tsdl+jSAfarab5TLIa5PAnhHVQdVdRzAY0iee9N+ns3mBP8agDbjlecqJP8M2+VwTOl2AfiK8fNXkLz/PaNERAD8FMAhVd1eLrGJSKOIzDV+rkHydYFDSCb6zzsVl6p+R1UXq2orkufTs6r6JafjAgARqRWRevNnJO8rd8HhY6mqYQDvisiVxkM3A3jD6bjS3IILt2eA8ojrOIBrRWSOcY2aczb955lTL3xM04sVnwHwFpL3b/+rg3H8Esl7aeNIPqP5KpL3bp8BcATA0wAucSCu65H8E/QggP3G12ecjg3ASgB/NOLqArDFeHwZgD8AeBvJP6mrHTymNwLYXS5xGTEcML66zfPd6WNpxLAKQMg4njsBzCuTuGoBDAEIpD3meFxGHHcDeNM4//83gGo7zjO+VQERkUvN5ls0RERUABM8EZFLMcETEbkUEzwRkUsxwRMRuRQTPBGRSzHBExG5FBM8EQAR2Wm8iVe3+UZeIvJVEXnLeO/6n4jIj4zHG0XkURF5zfj6uLPRE1njPzoRIfnBGar6nvHWCa8h+fatLyH5vioxAM8COKCqfysi/wLgf6nqiyKyBMm3dV3uWPBEeVQW34ToonCHiPxb4+dLAXwZwP9T1fcAQER+DeAKo/6TAFYk30YEAOAXkTpVHZ7JgImKYYKni56I3Ihk0r5OVc+KyPNIvk9IvmflHgDXqmp8ZiIkmhregydKfirRaSO5X4XkxxvWAvg3IjLPeAvXv0zb/ikA3zALIrJqRqMlKhETPBGwB0CliBwC8A8AXkHyvbj/O5Lv7vcSkh+XFzG2vwNAUEQOisgbAL4+4xETlYAvshLlYd5XN57BPw7gAVV93Om4iErFZ/BE+f298bmxXUh+sPROh+MhmhQ+gycicik+gycicikmeCIil2KCJyJyKSZ4IiKXYoInInKp/w9JRggH9bP2ywAAAABJRU5ErkJggg==",
      "text/plain": [
       "<Figure size 432x288 with 1 Axes>"
      ]
     },
     "metadata": {
      "needs_background": "light"
     },
     "output_type": "display_data"
    }
   ],
   "source": [
    "sns.scatterplot(data=titanic, x='age', y='parch')"
   ]
  },
  {
   "cell_type": "code",
   "execution_count": 39,
   "metadata": {
    "colab": {
     "base_uri": "https://localhost:8080/",
     "height": 297
    },
    "executionInfo": {
     "elapsed": 63,
     "status": "ok",
     "timestamp": 1635509214860,
     "user": {
      "displayName": "Samuel Doan",
      "photoUrl": "https://lh3.googleusercontent.com/a-/AOh14GjbcdQ40FcyCSIyitBN2ptY3zHWA_09harKPYF2=s64",
      "userId": "04384888964432338542"
     },
     "user_tz": -420
    },
    "id": "OedLR1h7fSt3",
    "outputId": "68dedc46-9838-4114-a03a-463c05469a01"
   },
   "outputs": [
    {
     "data": {
      "text/plain": [
       "<matplotlib.axes._subplots.AxesSubplot at 0x7f03ac120990>"
      ]
     },
     "execution_count": 39,
     "metadata": {},
     "output_type": "execute_result"
    },
    {
     "data": {
      "image/png": "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",
      "text/plain": [
       "<Figure size 432x288 with 1 Axes>"
      ]
     },
     "metadata": {
      "needs_background": "light"
     },
     "output_type": "display_data"
    }
   ],
   "source": [
    "sns.boxplot(data=titanic, x='parch', y='age')\n",
    "# Biểu đồ dạng nến:\n",
    "# đường trên cùng của nên ~ 90%\n",
    "# dưới cùng ~ 10%\n",
    "# Trong hộp: bên trên là 75% bên dưới là 25% và ở giữa là 50% \n",
    "# Khoảng cách về giá trị giữa 25% - 75% gọi là IQR (InterQuartileRange)"
   ]
  },
  {
   "cell_type": "code",
   "execution_count": 40,
   "metadata": {
    "colab": {
     "base_uri": "https://localhost:8080/"
    },
    "executionInfo": {
     "elapsed": 60,
     "status": "ok",
     "timestamp": 1635509214861,
     "user": {
      "displayName": "Samuel Doan",
      "photoUrl": "https://lh3.googleusercontent.com/a-/AOh14GjbcdQ40FcyCSIyitBN2ptY3zHWA_09harKPYF2=s64",
      "userId": "04384888964432338542"
     },
     "user_tz": -420
    },
    "id": "tQktriIlVX08",
    "outputId": "67c81a8a-f1e3-4cc9-8d56-187ff9249ccc"
   },
   "outputs": [
    {
     "data": {
      "text/plain": [
       "who    sibsp  parch\n",
       "child  0      0        0.000000\n",
       "              1        0.000000\n",
       "              2        0.000000\n",
       "       1      0        0.000000\n",
       "              1        0.000000\n",
       "              2        0.000000\n",
       "       2      1        0.000000\n",
       "              2        0.000000\n",
       "       3      1        0.000000\n",
       "              2        0.000000\n",
       "       4      1        0.000000\n",
       "              2        0.000000\n",
       "       5      2        0.000000\n",
       "man    0      0        0.260976\n",
       "              1        0.000000\n",
       "              2        0.000000\n",
       "       1      0        0.118644\n",
       "              1        0.095238\n",
       "              2        0.200000\n",
       "              3        0.000000\n",
       "              4        0.000000\n",
       "              5        0.000000\n",
       "       2      0        0.153846\n",
       "              1        0.000000\n",
       "       3      1        1.000000\n",
       "              2        0.000000\n",
       "       4      1        0.000000\n",
       "       8      2        1.000000\n",
       "woman  0      0        0.214876\n",
       "              1        0.055556\n",
       "              2        0.200000\n",
       "              3        0.000000\n",
       "              4        0.000000\n",
       "              5        0.000000\n",
       "       1      0        0.237288\n",
       "              1        0.047619\n",
       "              2        0.142857\n",
       "              3        0.000000\n",
       "              4        0.000000\n",
       "              5        0.000000\n",
       "              6        0.000000\n",
       "       2      0        0.333333\n",
       "              1        0.000000\n",
       "              2        0.000000\n",
       "              3        0.000000\n",
       "       3      0        0.000000\n",
       "              1        1.000000\n",
       "              2        0.000000\n",
       "       4      2        0.000000\n",
       "       5      2        0.000000\n",
       "       8      2        1.000000\n",
       "Name: age, dtype: float64"
      ]
     },
     "execution_count": 40,
     "metadata": {},
     "output_type": "execute_result"
    }
   ],
   "source": [
    "titanic.groupby(['who', 'sibsp', 'parch'])['age'].agg(lambda x: x.isnull().sum()/len(x))\n",
    "# Tính tỷ lệ số lượng bản ghi bị thiếu dữ liệu cho mỗi phân loại"
   ]
  },
  {
   "cell_type": "code",
   "execution_count": 41,
   "metadata": {
    "colab": {
     "base_uri": "https://localhost:8080/",
     "height": 1000
    },
    "executionInfo": {
     "elapsed": 50,
     "status": "ok",
     "timestamp": 1635509214862,
     "user": {
      "displayName": "Samuel Doan",
      "photoUrl": "https://lh3.googleusercontent.com/a-/AOh14GjbcdQ40FcyCSIyitBN2ptY3zHWA_09harKPYF2=s64",
      "userId": "04384888964432338542"
     },
     "user_tz": -420
    },
    "id": "fe20jroJVX08",
    "outputId": "f13fa7f6-4594-4a45-d4c0-997c64fb269f"
   },
   "outputs": [
    {
     "data": {
      "text/html": [
       "<div>\n",
       "<style scoped>\n",
       "    .dataframe tbody tr th:only-of-type {\n",
       "        vertical-align: middle;\n",
       "    }\n",
       "\n",
       "    .dataframe tbody tr th {\n",
       "        vertical-align: top;\n",
       "    }\n",
       "\n",
       "    .dataframe thead th {\n",
       "        text-align: right;\n",
       "    }\n",
       "</style>\n",
       "<table border=\"1\" class=\"dataframe\">\n",
       "  <thead>\n",
       "    <tr style=\"text-align: right;\">\n",
       "      <th></th>\n",
       "      <th></th>\n",
       "      <th></th>\n",
       "      <th>len</th>\n",
       "      <th>mean</th>\n",
       "      <th>&lt;lambda_0&gt;</th>\n",
       "    </tr>\n",
       "    <tr>\n",
       "      <th>who</th>\n",
       "      <th>sibsp</th>\n",
       "      <th>parch</th>\n",
       "      <th></th>\n",
       "      <th></th>\n",
       "      <th></th>\n",
       "    </tr>\n",
       "  </thead>\n",
       "  <tbody>\n",
       "    <tr>\n",
       "      <th rowspan=\"13\" valign=\"top\">child</th>\n",
       "      <th rowspan=\"3\" valign=\"top\">0</th>\n",
       "      <th>0</th>\n",
       "      <td>6.0</td>\n",
       "      <td>12.166667</td>\n",
       "      <td>0.000000</td>\n",
       "    </tr>\n",
       "    <tr>\n",
       "      <th>1</th>\n",
       "      <td>8.0</td>\n",
       "      <td>6.052500</td>\n",
       "      <td>0.000000</td>\n",
       "    </tr>\n",
       "    <tr>\n",
       "      <th>2</th>\n",
       "      <td>9.0</td>\n",
       "      <td>4.981111</td>\n",
       "      <td>0.000000</td>\n",
       "    </tr>\n",
       "    <tr>\n",
       "      <th rowspan=\"3\" valign=\"top\">1</th>\n",
       "      <th>0</th>\n",
       "      <td>5.0</td>\n",
       "      <td>13.900000</td>\n",
       "      <td>0.000000</td>\n",
       "    </tr>\n",
       "    <tr>\n",
       "      <th>1</th>\n",
       "      <td>15.0</td>\n",
       "      <td>4.566667</td>\n",
       "      <td>0.000000</td>\n",
       "    </tr>\n",
       "    <tr>\n",
       "      <th>2</th>\n",
       "      <td>7.0</td>\n",
       "      <td>5.274286</td>\n",
       "      <td>0.000000</td>\n",
       "    </tr>\n",
       "    <tr>\n",
       "      <th rowspan=\"2\" valign=\"top\">2</th>\n",
       "      <th>1</th>\n",
       "      <td>5.0</td>\n",
       "      <td>2.300000</td>\n",
       "      <td>0.000000</td>\n",
       "    </tr>\n",
       "    <tr>\n",
       "      <th>2</th>\n",
       "      <td>1.0</td>\n",
       "      <td>9.000000</td>\n",
       "      <td>0.000000</td>\n",
       "    </tr>\n",
       "    <tr>\n",
       "      <th rowspan=\"2\" valign=\"top\">3</th>\n",
       "      <th>1</th>\n",
       "      <td>3.0</td>\n",
       "      <td>4.333333</td>\n",
       "      <td>0.000000</td>\n",
       "    </tr>\n",
       "    <tr>\n",
       "      <th>2</th>\n",
       "      <td>4.0</td>\n",
       "      <td>6.250000</td>\n",
       "      <td>0.000000</td>\n",
       "    </tr>\n",
       "    <tr>\n",
       "      <th rowspan=\"2\" valign=\"top\">4</th>\n",
       "      <th>1</th>\n",
       "      <td>8.0</td>\n",
       "      <td>5.625000</td>\n",
       "      <td>0.000000</td>\n",
       "    </tr>\n",
       "    <tr>\n",
       "      <th>2</th>\n",
       "      <td>8.0</td>\n",
       "      <td>6.125000</td>\n",
       "      <td>0.000000</td>\n",
       "    </tr>\n",
       "    <tr>\n",
       "      <th>5</th>\n",
       "      <th>2</th>\n",
       "      <td>4.0</td>\n",
       "      <td>8.750000</td>\n",
       "      <td>0.000000</td>\n",
       "    </tr>\n",
       "    <tr>\n",
       "      <th rowspan=\"15\" valign=\"top\">man</th>\n",
       "      <th rowspan=\"3\" valign=\"top\">0</th>\n",
       "      <th>0</th>\n",
       "      <td>410.0</td>\n",
       "      <td>32.973597</td>\n",
       "      <td>0.260976</td>\n",
       "    </tr>\n",
       "    <tr>\n",
       "      <th>1</th>\n",
       "      <td>12.0</td>\n",
       "      <td>38.583333</td>\n",
       "      <td>0.000000</td>\n",
       "    </tr>\n",
       "    <tr>\n",
       "      <th>2</th>\n",
       "      <td>5.0</td>\n",
       "      <td>35.800000</td>\n",
       "      <td>0.000000</td>\n",
       "    </tr>\n",
       "    <tr>\n",
       "      <th rowspan=\"6\" valign=\"top\">1</th>\n",
       "      <th>0</th>\n",
       "      <td>59.0</td>\n",
       "      <td>32.701923</td>\n",
       "      <td>0.118644</td>\n",
       "    </tr>\n",
       "    <tr>\n",
       "      <th>1</th>\n",
       "      <td>21.0</td>\n",
       "      <td>36.000000</td>\n",
       "      <td>0.095238</td>\n",
       "    </tr>\n",
       "    <tr>\n",
       "      <th>2</th>\n",
       "      <td>5.0</td>\n",
       "      <td>30.750000</td>\n",
       "      <td>0.200000</td>\n",
       "    </tr>\n",
       "    <tr>\n",
       "      <th>3</th>\n",
       "      <td>1.0</td>\n",
       "      <td>16.000000</td>\n",
       "      <td>0.000000</td>\n",
       "    </tr>\n",
       "    <tr>\n",
       "      <th>4</th>\n",
       "      <td>2.0</td>\n",
       "      <td>52.000000</td>\n",
       "      <td>0.000000</td>\n",
       "    </tr>\n",
       "    <tr>\n",
       "      <th>5</th>\n",
       "      <td>1.0</td>\n",
       "      <td>39.000000</td>\n",
       "      <td>0.000000</td>\n",
       "    </tr>\n",
       "    <tr>\n",
       "      <th rowspan=\"2\" valign=\"top\">2</th>\n",
       "      <th>0</th>\n",
       "      <td>13.0</td>\n",
       "      <td>31.181818</td>\n",
       "      <td>0.153846</td>\n",
       "    </tr>\n",
       "    <tr>\n",
       "      <th>1</th>\n",
       "      <td>1.0</td>\n",
       "      <td>23.000000</td>\n",
       "      <td>0.000000</td>\n",
       "    </tr>\n",
       "    <tr>\n",
       "      <th rowspan=\"2\" valign=\"top\">3</th>\n",
       "      <th>1</th>\n",
       "      <td>1.0</td>\n",
       "      <td>NaN</td>\n",
       "      <td>1.000000</td>\n",
       "    </tr>\n",
       "    <tr>\n",
       "      <th>2</th>\n",
       "      <td>1.0</td>\n",
       "      <td>19.000000</td>\n",
       "      <td>0.000000</td>\n",
       "    </tr>\n",
       "    <tr>\n",
       "      <th>4</th>\n",
       "      <th>1</th>\n",
       "      <td>1.0</td>\n",
       "      <td>16.000000</td>\n",
       "      <td>0.000000</td>\n",
       "    </tr>\n",
       "    <tr>\n",
       "      <th>8</th>\n",
       "      <th>2</th>\n",
       "      <td>4.0</td>\n",
       "      <td>NaN</td>\n",
       "      <td>1.000000</td>\n",
       "    </tr>\n",
       "    <tr>\n",
       "      <th rowspan=\"23\" valign=\"top\">woman</th>\n",
       "      <th rowspan=\"6\" valign=\"top\">0</th>\n",
       "      <th>0</th>\n",
       "      <td>121.0</td>\n",
       "      <td>31.084211</td>\n",
       "      <td>0.214876</td>\n",
       "    </tr>\n",
       "    <tr>\n",
       "      <th>1</th>\n",
       "      <td>18.0</td>\n",
       "      <td>34.176471</td>\n",
       "      <td>0.055556</td>\n",
       "    </tr>\n",
       "    <tr>\n",
       "      <th>2</th>\n",
       "      <td>15.0</td>\n",
       "      <td>26.833333</td>\n",
       "      <td>0.200000</td>\n",
       "    </tr>\n",
       "    <tr>\n",
       "      <th>3</th>\n",
       "      <td>1.0</td>\n",
       "      <td>24.000000</td>\n",
       "      <td>0.000000</td>\n",
       "    </tr>\n",
       "    <tr>\n",
       "      <th>4</th>\n",
       "      <td>1.0</td>\n",
       "      <td>29.000000</td>\n",
       "      <td>0.000000</td>\n",
       "    </tr>\n",
       "    <tr>\n",
       "      <th>5</th>\n",
       "      <td>2.0</td>\n",
       "      <td>40.000000</td>\n",
       "      <td>0.000000</td>\n",
       "    </tr>\n",
       "    <tr>\n",
       "      <th rowspan=\"7\" valign=\"top\">1</th>\n",
       "      <th>0</th>\n",
       "      <td>59.0</td>\n",
       "      <td>33.355556</td>\n",
       "      <td>0.237288</td>\n",
       "    </tr>\n",
       "    <tr>\n",
       "      <th>1</th>\n",
       "      <td>21.0</td>\n",
       "      <td>35.450000</td>\n",
       "      <td>0.047619</td>\n",
       "    </tr>\n",
       "    <tr>\n",
       "      <th>2</th>\n",
       "      <td>7.0</td>\n",
       "      <td>31.333333</td>\n",
       "      <td>0.142857</td>\n",
       "    </tr>\n",
       "    <tr>\n",
       "      <th>3</th>\n",
       "      <td>2.0</td>\n",
       "      <td>51.000000</td>\n",
       "      <td>0.000000</td>\n",
       "    </tr>\n",
       "    <tr>\n",
       "      <th>4</th>\n",
       "      <td>1.0</td>\n",
       "      <td>45.000000</td>\n",
       "      <td>0.000000</td>\n",
       "    </tr>\n",
       "    <tr>\n",
       "      <th>5</th>\n",
       "      <td>2.0</td>\n",
       "      <td>38.500000</td>\n",
       "      <td>0.000000</td>\n",
       "    </tr>\n",
       "    <tr>\n",
       "      <th>6</th>\n",
       "      <td>1.0</td>\n",
       "      <td>43.000000</td>\n",
       "      <td>0.000000</td>\n",
       "    </tr>\n",
       "    <tr>\n",
       "      <th rowspan=\"4\" valign=\"top\">2</th>\n",
       "      <th>0</th>\n",
       "      <td>3.0</td>\n",
       "      <td>35.500000</td>\n",
       "      <td>0.333333</td>\n",
       "    </tr>\n",
       "    <tr>\n",
       "      <th>1</th>\n",
       "      <td>1.0</td>\n",
       "      <td>24.000000</td>\n",
       "      <td>0.000000</td>\n",
       "    </tr>\n",
       "    <tr>\n",
       "      <th>2</th>\n",
       "      <td>3.0</td>\n",
       "      <td>20.000000</td>\n",
       "      <td>0.000000</td>\n",
       "    </tr>\n",
       "    <tr>\n",
       "      <th>3</th>\n",
       "      <td>1.0</td>\n",
       "      <td>24.000000</td>\n",
       "      <td>0.000000</td>\n",
       "    </tr>\n",
       "    <tr>\n",
       "      <th rowspan=\"3\" valign=\"top\">3</th>\n",
       "      <th>0</th>\n",
       "      <td>2.0</td>\n",
       "      <td>31.500000</td>\n",
       "      <td>0.000000</td>\n",
       "    </tr>\n",
       "    <tr>\n",
       "      <th>1</th>\n",
       "      <td>3.0</td>\n",
       "      <td>NaN</td>\n",
       "      <td>1.000000</td>\n",
       "    </tr>\n",
       "    <tr>\n",
       "      <th>2</th>\n",
       "      <td>2.0</td>\n",
       "      <td>23.500000</td>\n",
       "      <td>0.000000</td>\n",
       "    </tr>\n",
       "    <tr>\n",
       "      <th>4</th>\n",
       "      <th>2</th>\n",
       "      <td>1.0</td>\n",
       "      <td>17.000000</td>\n",
       "      <td>0.000000</td>\n",
       "    </tr>\n",
       "    <tr>\n",
       "      <th>5</th>\n",
       "      <th>2</th>\n",
       "      <td>1.0</td>\n",
       "      <td>16.000000</td>\n",
       "      <td>0.000000</td>\n",
       "    </tr>\n",
       "    <tr>\n",
       "      <th>8</th>\n",
       "      <th>2</th>\n",
       "      <td>3.0</td>\n",
       "      <td>NaN</td>\n",
       "      <td>1.000000</td>\n",
       "    </tr>\n",
       "  </tbody>\n",
       "</table>\n",
       "</div>"
      ],
      "text/plain": [
       "                     len       mean  <lambda_0>\n",
       "who   sibsp parch                              \n",
       "child 0     0        6.0  12.166667    0.000000\n",
       "            1        8.0   6.052500    0.000000\n",
       "            2        9.0   4.981111    0.000000\n",
       "      1     0        5.0  13.900000    0.000000\n",
       "            1       15.0   4.566667    0.000000\n",
       "            2        7.0   5.274286    0.000000\n",
       "      2     1        5.0   2.300000    0.000000\n",
       "            2        1.0   9.000000    0.000000\n",
       "      3     1        3.0   4.333333    0.000000\n",
       "            2        4.0   6.250000    0.000000\n",
       "      4     1        8.0   5.625000    0.000000\n",
       "            2        8.0   6.125000    0.000000\n",
       "      5     2        4.0   8.750000    0.000000\n",
       "man   0     0      410.0  32.973597    0.260976\n",
       "            1       12.0  38.583333    0.000000\n",
       "            2        5.0  35.800000    0.000000\n",
       "      1     0       59.0  32.701923    0.118644\n",
       "            1       21.0  36.000000    0.095238\n",
       "            2        5.0  30.750000    0.200000\n",
       "            3        1.0  16.000000    0.000000\n",
       "            4        2.0  52.000000    0.000000\n",
       "            5        1.0  39.000000    0.000000\n",
       "      2     0       13.0  31.181818    0.153846\n",
       "            1        1.0  23.000000    0.000000\n",
       "      3     1        1.0        NaN    1.000000\n",
       "            2        1.0  19.000000    0.000000\n",
       "      4     1        1.0  16.000000    0.000000\n",
       "      8     2        4.0        NaN    1.000000\n",
       "woman 0     0      121.0  31.084211    0.214876\n",
       "            1       18.0  34.176471    0.055556\n",
       "            2       15.0  26.833333    0.200000\n",
       "            3        1.0  24.000000    0.000000\n",
       "            4        1.0  29.000000    0.000000\n",
       "            5        2.0  40.000000    0.000000\n",
       "      1     0       59.0  33.355556    0.237288\n",
       "            1       21.0  35.450000    0.047619\n",
       "            2        7.0  31.333333    0.142857\n",
       "            3        2.0  51.000000    0.000000\n",
       "            4        1.0  45.000000    0.000000\n",
       "            5        2.0  38.500000    0.000000\n",
       "            6        1.0  43.000000    0.000000\n",
       "      2     0        3.0  35.500000    0.333333\n",
       "            1        1.0  24.000000    0.000000\n",
       "            2        3.0  20.000000    0.000000\n",
       "            3        1.0  24.000000    0.000000\n",
       "      3     0        2.0  31.500000    0.000000\n",
       "            1        3.0        NaN    1.000000\n",
       "            2        2.0  23.500000    0.000000\n",
       "      4     2        1.0  17.000000    0.000000\n",
       "      5     2        1.0  16.000000    0.000000\n",
       "      8     2        3.0        NaN    1.000000"
      ]
     },
     "execution_count": 41,
     "metadata": {},
     "output_type": "execute_result"
    }
   ],
   "source": [
    "titanic.groupby(['who', 'sibsp', 'parch'])['age'].agg([len, 'mean', lambda x: (x.isnull().sum())/len(x)])\n",
    "# Lấy ra thông tin số lượng bản ghi cho mỗi nhóm\n",
    "# Độ tuổi trung bình cho mỗi nhóm\n",
    "# Tỷ lệ bị thiếu của mỗi nhóm"
   ]
  },
  {
   "cell_type": "code",
   "execution_count": 42,
   "metadata": {
    "colab": {
     "base_uri": "https://localhost:8080/"
    },
    "executionInfo": {
     "elapsed": 48,
     "status": "ok",
     "timestamp": 1635509214863,
     "user": {
      "displayName": "Samuel Doan",
      "photoUrl": "https://lh3.googleusercontent.com/a-/AOh14GjbcdQ40FcyCSIyitBN2ptY3zHWA_09harKPYF2=s64",
      "userId": "04384888964432338542"
     },
     "user_tz": -420
    },
    "id": "IQVJDnG4ge1p",
    "outputId": "38bbfd9e-6356-4f9f-9cb7-8a1fa8a56f60"
   },
   "outputs": [
    {
     "data": {
      "text/plain": [
       "0      22.000000\n",
       "1      38.000000\n",
       "2      26.000000\n",
       "3      35.000000\n",
       "4      35.000000\n",
       "         ...    \n",
       "886    27.000000\n",
       "887    19.000000\n",
       "888    31.333333\n",
       "889    26.000000\n",
       "890    32.000000\n",
       "Name: age, Length: 891, dtype: float64"
      ]
     },
     "execution_count": 42,
     "metadata": {},
     "output_type": "execute_result"
    }
   ],
   "source": [
    "ser = titanic.groupby(['who', 'sibsp', 'parch'])['age'].apply(lambda x: x.fillna(x.mean())) \n",
    "# điền các giá trị bị thiếu bằng giá trị trung bình của nhóm\n",
    "ser"
   ]
  },
  {
   "cell_type": "code",
   "execution_count": 43,
   "metadata": {
    "colab": {
     "base_uri": "https://localhost:8080/"
    },
    "executionInfo": {
     "elapsed": 35,
     "status": "ok",
     "timestamp": 1635509214864,
     "user": {
      "displayName": "Samuel Doan",
      "photoUrl": "https://lh3.googleusercontent.com/a-/AOh14GjbcdQ40FcyCSIyitBN2ptY3zHWA_09harKPYF2=s64",
      "userId": "04384888964432338542"
     },
     "user_tz": -420
    },
    "id": "791DjvkKhXjp",
    "outputId": "c0babc24-6d44-403a-9d8b-038a2f42eb4d"
   },
   "outputs": [
    {
     "data": {
      "text/plain": [
       "11"
      ]
     },
     "execution_count": 43,
     "metadata": {},
     "output_type": "execute_result"
    }
   ],
   "source": [
    "ser.isnull().sum()"
   ]
  },
  {
   "cell_type": "code",
   "execution_count": 44,
   "metadata": {
    "executionInfo": {
     "elapsed": 26,
     "status": "ok",
     "timestamp": 1635509214864,
     "user": {
      "displayName": "Samuel Doan",
      "photoUrl": "https://lh3.googleusercontent.com/a-/AOh14GjbcdQ40FcyCSIyitBN2ptY3zHWA_09harKPYF2=s64",
      "userId": "04384888964432338542"
     },
     "user_tz": -420
    },
    "id": "pKkZ1LTbhq15"
   },
   "outputs": [],
   "source": [
    "titanic['age'] = ser"
   ]
  },
  {
   "cell_type": "code",
   "execution_count": 45,
   "metadata": {
    "colab": {
     "base_uri": "https://localhost:8080/",
     "height": 833
    },
    "executionInfo": {
     "elapsed": 27,
     "status": "ok",
     "timestamp": 1635509214866,
     "user": {
      "displayName": "Samuel Doan",
      "photoUrl": "https://lh3.googleusercontent.com/a-/AOh14GjbcdQ40FcyCSIyitBN2ptY3zHWA_09harKPYF2=s64",
      "userId": "04384888964432338542"
     },
     "user_tz": -420
    },
    "id": "R0mKqew2VX1B",
    "outputId": "a4b8da38-8736-471f-89bb-5392c7e1cb80"
   },
   "outputs": [
    {
     "data": {
      "text/html": [
       "<div>\n",
       "<style scoped>\n",
       "    .dataframe tbody tr th:only-of-type {\n",
       "        vertical-align: middle;\n",
       "    }\n",
       "\n",
       "    .dataframe tbody tr th {\n",
       "        vertical-align: top;\n",
       "    }\n",
       "\n",
       "    .dataframe thead th {\n",
       "        text-align: right;\n",
       "    }\n",
       "</style>\n",
       "<table border=\"1\" class=\"dataframe\">\n",
       "  <thead>\n",
       "    <tr style=\"text-align: right;\">\n",
       "      <th></th>\n",
       "      <th></th>\n",
       "      <th>len</th>\n",
       "      <th>mean</th>\n",
       "      <th>&lt;lambda_0&gt;</th>\n",
       "    </tr>\n",
       "    <tr>\n",
       "      <th>sibsp</th>\n",
       "      <th>parch</th>\n",
       "      <th></th>\n",
       "      <th></th>\n",
       "      <th></th>\n",
       "    </tr>\n",
       "  </thead>\n",
       "  <tbody>\n",
       "    <tr>\n",
       "      <th rowspan=\"6\" valign=\"top\">0</th>\n",
       "      <th>0</th>\n",
       "      <td>537.0</td>\n",
       "      <td>32.315390</td>\n",
       "      <td>0.000000</td>\n",
       "    </tr>\n",
       "    <tr>\n",
       "      <th>1</th>\n",
       "      <td>38.0</td>\n",
       "      <td>29.647276</td>\n",
       "      <td>0.000000</td>\n",
       "    </tr>\n",
       "    <tr>\n",
       "      <th>2</th>\n",
       "      <td>29.0</td>\n",
       "      <td>21.597586</td>\n",
       "      <td>0.000000</td>\n",
       "    </tr>\n",
       "    <tr>\n",
       "      <th>3</th>\n",
       "      <td>1.0</td>\n",
       "      <td>24.000000</td>\n",
       "      <td>0.000000</td>\n",
       "    </tr>\n",
       "    <tr>\n",
       "      <th>4</th>\n",
       "      <td>1.0</td>\n",
       "      <td>29.000000</td>\n",
       "      <td>0.000000</td>\n",
       "    </tr>\n",
       "    <tr>\n",
       "      <th>5</th>\n",
       "      <td>2.0</td>\n",
       "      <td>40.000000</td>\n",
       "      <td>0.000000</td>\n",
       "    </tr>\n",
       "    <tr>\n",
       "      <th rowspan=\"7\" valign=\"top\">1</th>\n",
       "      <th>0</th>\n",
       "      <td>123.0</td>\n",
       "      <td>32.251148</td>\n",
       "      <td>0.000000</td>\n",
       "    </tr>\n",
       "    <tr>\n",
       "      <th>1</th>\n",
       "      <td>57.0</td>\n",
       "      <td>27.525439</td>\n",
       "      <td>0.000000</td>\n",
       "    </tr>\n",
       "    <tr>\n",
       "      <th>2</th>\n",
       "      <td>19.0</td>\n",
       "      <td>21.579123</td>\n",
       "      <td>0.000000</td>\n",
       "    </tr>\n",
       "    <tr>\n",
       "      <th>3</th>\n",
       "      <td>3.0</td>\n",
       "      <td>39.333333</td>\n",
       "      <td>0.000000</td>\n",
       "    </tr>\n",
       "    <tr>\n",
       "      <th>4</th>\n",
       "      <td>3.0</td>\n",
       "      <td>49.666667</td>\n",
       "      <td>0.000000</td>\n",
       "    </tr>\n",
       "    <tr>\n",
       "      <th>5</th>\n",
       "      <td>3.0</td>\n",
       "      <td>38.666667</td>\n",
       "      <td>0.000000</td>\n",
       "    </tr>\n",
       "    <tr>\n",
       "      <th>6</th>\n",
       "      <td>1.0</td>\n",
       "      <td>43.000000</td>\n",
       "      <td>0.000000</td>\n",
       "    </tr>\n",
       "    <tr>\n",
       "      <th rowspan=\"4\" valign=\"top\">2</th>\n",
       "      <th>0</th>\n",
       "      <td>16.0</td>\n",
       "      <td>31.991477</td>\n",
       "      <td>0.000000</td>\n",
       "    </tr>\n",
       "    <tr>\n",
       "      <th>1</th>\n",
       "      <td>7.0</td>\n",
       "      <td>8.357143</td>\n",
       "      <td>0.000000</td>\n",
       "    </tr>\n",
       "    <tr>\n",
       "      <th>2</th>\n",
       "      <td>4.0</td>\n",
       "      <td>17.250000</td>\n",
       "      <td>0.000000</td>\n",
       "    </tr>\n",
       "    <tr>\n",
       "      <th>3</th>\n",
       "      <td>1.0</td>\n",
       "      <td>24.000000</td>\n",
       "      <td>0.000000</td>\n",
       "    </tr>\n",
       "    <tr>\n",
       "      <th rowspan=\"3\" valign=\"top\">3</th>\n",
       "      <th>0</th>\n",
       "      <td>2.0</td>\n",
       "      <td>31.500000</td>\n",
       "      <td>0.000000</td>\n",
       "    </tr>\n",
       "    <tr>\n",
       "      <th>1</th>\n",
       "      <td>7.0</td>\n",
       "      <td>4.333333</td>\n",
       "      <td>0.571429</td>\n",
       "    </tr>\n",
       "    <tr>\n",
       "      <th>2</th>\n",
       "      <td>7.0</td>\n",
       "      <td>13.000000</td>\n",
       "      <td>0.000000</td>\n",
       "    </tr>\n",
       "    <tr>\n",
       "      <th rowspan=\"2\" valign=\"top\">4</th>\n",
       "      <th>1</th>\n",
       "      <td>9.0</td>\n",
       "      <td>6.777778</td>\n",
       "      <td>0.000000</td>\n",
       "    </tr>\n",
       "    <tr>\n",
       "      <th>2</th>\n",
       "      <td>9.0</td>\n",
       "      <td>7.333333</td>\n",
       "      <td>0.000000</td>\n",
       "    </tr>\n",
       "    <tr>\n",
       "      <th>5</th>\n",
       "      <th>2</th>\n",
       "      <td>5.0</td>\n",
       "      <td>10.200000</td>\n",
       "      <td>0.000000</td>\n",
       "    </tr>\n",
       "    <tr>\n",
       "      <th>8</th>\n",
       "      <th>2</th>\n",
       "      <td>7.0</td>\n",
       "      <td>NaN</td>\n",
       "      <td>1.000000</td>\n",
       "    </tr>\n",
       "  </tbody>\n",
       "</table>\n",
       "</div>"
      ],
      "text/plain": [
       "               len       mean  <lambda_0>\n",
       "sibsp parch                              \n",
       "0     0      537.0  32.315390    0.000000\n",
       "      1       38.0  29.647276    0.000000\n",
       "      2       29.0  21.597586    0.000000\n",
       "      3        1.0  24.000000    0.000000\n",
       "      4        1.0  29.000000    0.000000\n",
       "      5        2.0  40.000000    0.000000\n",
       "1     0      123.0  32.251148    0.000000\n",
       "      1       57.0  27.525439    0.000000\n",
       "      2       19.0  21.579123    0.000000\n",
       "      3        3.0  39.333333    0.000000\n",
       "      4        3.0  49.666667    0.000000\n",
       "      5        3.0  38.666667    0.000000\n",
       "      6        1.0  43.000000    0.000000\n",
       "2     0       16.0  31.991477    0.000000\n",
       "      1        7.0   8.357143    0.000000\n",
       "      2        4.0  17.250000    0.000000\n",
       "      3        1.0  24.000000    0.000000\n",
       "3     0        2.0  31.500000    0.000000\n",
       "      1        7.0   4.333333    0.571429\n",
       "      2        7.0  13.000000    0.000000\n",
       "4     1        9.0   6.777778    0.000000\n",
       "      2        9.0   7.333333    0.000000\n",
       "5     2        5.0  10.200000    0.000000\n",
       "8     2        7.0        NaN    1.000000"
      ]
     },
     "execution_count": 45,
     "metadata": {},
     "output_type": "execute_result"
    }
   ],
   "source": [
    "titanic.groupby(['sibsp', 'parch'])['age'].agg([len, 'mean', lambda x: (x.isnull().sum())/len(x)])"
   ]
  },
  {
   "cell_type": "code",
   "execution_count": 46,
   "metadata": {
    "colab": {
     "base_uri": "https://localhost:8080/"
    },
    "executionInfo": {
     "elapsed": 16,
     "status": "ok",
     "timestamp": 1635509215842,
     "user": {
      "displayName": "Samuel Doan",
      "photoUrl": "https://lh3.googleusercontent.com/a-/AOh14GjbcdQ40FcyCSIyitBN2ptY3zHWA_09harKPYF2=s64",
      "userId": "04384888964432338542"
     },
     "user_tz": -420
    },
    "id": "_5aBoo9bVX1C",
    "outputId": "0b72f40f-ac99-40c0-db42-f6355d7df043"
   },
   "outputs": [
    {
     "data": {
      "text/plain": [
       "0      22.000000\n",
       "1      38.000000\n",
       "2      26.000000\n",
       "3      35.000000\n",
       "4      35.000000\n",
       "         ...    \n",
       "886    27.000000\n",
       "887    19.000000\n",
       "888    31.333333\n",
       "889    26.000000\n",
       "890    32.000000\n",
       "Name: age, Length: 891, dtype: float64"
      ]
     },
     "execution_count": 46,
     "metadata": {},
     "output_type": "execute_result"
    }
   ],
   "source": [
    "ser = titanic.groupby(['sibsp', 'parch'])['age'].apply(lambda x: x.fillna(x.mean()))\n",
    "ser"
   ]
  },
  {
   "cell_type": "code",
   "execution_count": 47,
   "metadata": {
    "colab": {
     "base_uri": "https://localhost:8080/"
    },
    "executionInfo": {
     "elapsed": 15,
     "status": "ok",
     "timestamp": 1635509215843,
     "user": {
      "displayName": "Samuel Doan",
      "photoUrl": "https://lh3.googleusercontent.com/a-/AOh14GjbcdQ40FcyCSIyitBN2ptY3zHWA_09harKPYF2=s64",
      "userId": "04384888964432338542"
     },
     "user_tz": -420
    },
    "id": "H8ni8ZfQicSw",
    "outputId": "ed70c5e2-09c4-47ed-a4d7-425498d4a7d1"
   },
   "outputs": [
    {
     "data": {
      "text/plain": [
       "7"
      ]
     },
     "execution_count": 47,
     "metadata": {},
     "output_type": "execute_result"
    }
   ],
   "source": [
    "ser.isnull().sum()"
   ]
  },
  {
   "cell_type": "code",
   "execution_count": 48,
   "metadata": {
    "executionInfo": {
     "elapsed": 602,
     "status": "ok",
     "timestamp": 1635509217933,
     "user": {
      "displayName": "Samuel Doan",
      "photoUrl": "https://lh3.googleusercontent.com/a-/AOh14GjbcdQ40FcyCSIyitBN2ptY3zHWA_09harKPYF2=s64",
      "userId": "04384888964432338542"
     },
     "user_tz": -420
    },
    "id": "ebZAiFxgiiNw"
   },
   "outputs": [],
   "source": [
    "titanic['age'] = ser"
   ]
  },
  {
   "cell_type": "code",
   "execution_count": 49,
   "metadata": {
    "colab": {
     "base_uri": "https://localhost:8080/"
    },
    "executionInfo": {
     "elapsed": 28,
     "status": "ok",
     "timestamp": 1635509217934,
     "user": {
      "displayName": "Samuel Doan",
      "photoUrl": "https://lh3.googleusercontent.com/a-/AOh14GjbcdQ40FcyCSIyitBN2ptY3zHWA_09harKPYF2=s64",
      "userId": "04384888964432338542"
     },
     "user_tz": -420
    },
    "id": "nRe2lh-HVX1D",
    "outputId": "eb17699b-5e4f-4fbb-8434-b96f6fd69f4e"
   },
   "outputs": [
    {
     "data": {
      "text/plain": [
       "7"
      ]
     },
     "execution_count": 49,
     "metadata": {},
     "output_type": "execute_result"
    }
   ],
   "source": [
    "titanic['age'].isnull().sum()"
   ]
  },
  {
   "cell_type": "code",
   "execution_count": 50,
   "metadata": {
    "colab": {
     "base_uri": "https://localhost:8080/"
    },
    "executionInfo": {
     "elapsed": 26,
     "status": "ok",
     "timestamp": 1635509217934,
     "user": {
      "displayName": "Samuel Doan",
      "photoUrl": "https://lh3.googleusercontent.com/a-/AOh14GjbcdQ40FcyCSIyitBN2ptY3zHWA_09harKPYF2=s64",
      "userId": "04384888964432338542"
     },
     "user_tz": -420
    },
    "id": "2gSRMqn_iovd",
    "outputId": "e023b024-9133-4ccb-df64-b464075831f5"
   },
   "outputs": [
    {
     "data": {
      "text/plain": [
       "6.369518072289157"
      ]
     },
     "execution_count": 50,
     "metadata": {},
     "output_type": "execute_result"
    }
   ],
   "source": [
    "child_avg_age = titanic[titanic['who'] == 'child']['age'].mean()\n",
    "child_avg_age"
   ]
  },
  {
   "cell_type": "code",
   "execution_count": 51,
   "metadata": {
    "executionInfo": {
     "elapsed": 18,
     "status": "ok",
     "timestamp": 1635509217935,
     "user": {
      "displayName": "Samuel Doan",
      "photoUrl": "https://lh3.googleusercontent.com/a-/AOh14GjbcdQ40FcyCSIyitBN2ptY3zHWA_09harKPYF2=s64",
      "userId": "04384888964432338542"
     },
     "user_tz": -420
    },
    "id": "LLUSOVlci1XN"
   },
   "outputs": [],
   "source": [
    "titanic['age'] = titanic['age'].fillna(child_avg_age)"
   ]
  },
  {
   "cell_type": "code",
   "execution_count": 52,
   "metadata": {
    "colab": {
     "base_uri": "https://localhost:8080/"
    },
    "executionInfo": {
     "elapsed": 18,
     "status": "ok",
     "timestamp": 1635509217936,
     "user": {
      "displayName": "Samuel Doan",
      "photoUrl": "https://lh3.googleusercontent.com/a-/AOh14GjbcdQ40FcyCSIyitBN2ptY3zHWA_09harKPYF2=s64",
      "userId": "04384888964432338542"
     },
     "user_tz": -420
    },
    "id": "Qhi2BkKKi-EI",
    "outputId": "d236af2f-e0b2-478d-c2a4-725fca1a5eb3"
   },
   "outputs": [
    {
     "data": {
      "text/plain": [
       "0"
      ]
     },
     "execution_count": 52,
     "metadata": {},
     "output_type": "execute_result"
    }
   ],
   "source": [
    "titanic['age'].isnull().sum()"
   ]
  },
  {
   "cell_type": "code",
   "execution_count": 53,
   "metadata": {
    "executionInfo": {
     "elapsed": 11,
     "status": "ok",
     "timestamp": 1635509217937,
     "user": {
      "displayName": "Samuel Doan",
      "photoUrl": "https://lh3.googleusercontent.com/a-/AOh14GjbcdQ40FcyCSIyitBN2ptY3zHWA_09harKPYF2=s64",
      "userId": "04384888964432338542"
     },
     "user_tz": -420
    },
    "id": "Y2m8T0leVX1F"
   },
   "outputs": [],
   "source": [
    "# Dien du lieu bi thieu bang tep sisp va parch lon nhat"
   ]
  },
  {
   "cell_type": "markdown",
   "metadata": {
    "id": "gEG4NlxEVX1H"
   },
   "source": [
    "## Tạo biến mới"
   ]
  },
  {
   "cell_type": "markdown",
   "metadata": {
    "id": "dIQ7kJpI8H2s"
   },
   "source": [
    "### Chia bin dữ liệu"
   ]
  },
  {
   "cell_type": "code",
   "execution_count": 54,
   "metadata": {
    "colab": {
     "base_uri": "https://localhost:8080/",
     "height": 297
    },
    "executionInfo": {
     "elapsed": 1184,
     "status": "ok",
     "timestamp": 1635509230440,
     "user": {
      "displayName": "Samuel Doan",
      "photoUrl": "https://lh3.googleusercontent.com/a-/AOh14GjbcdQ40FcyCSIyitBN2ptY3zHWA_09harKPYF2=s64",
      "userId": "04384888964432338542"
     },
     "user_tz": -420
    },
    "id": "2EiOuX5JjiRk",
    "outputId": "3c354bed-afb1-492b-eb90-103608bf49f0"
   },
   "outputs": [
    {
     "data": {
      "text/plain": [
       "<matplotlib.axes._subplots.AxesSubplot at 0x7f03ac120e10>"
      ]
     },
     "execution_count": 54,
     "metadata": {},
     "output_type": "execute_result"
    },
    {
     "data": {
      "image/png": "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",
      "text/plain": [
       "<Figure size 432x288 with 1 Axes>"
      ]
     },
     "metadata": {
      "needs_background": "light"
     },
     "output_type": "display_data"
    }
   ],
   "source": [
    "sns.histplot(\n",
    "    data=titanic, \n",
    "    x='age', \n",
    "    hue='survived', # Chia biểu đồ thành 02 biểu đồ dạng chồng lên nhau\n",
    "    kde=True, \n",
    "    stat='probability', # Tính tỷ lệ phần trăm thay vì đếm\n",
    "    common_norm=False # Tính tỷ lệ cho từng phân loại thay vì tính cho chung toàn bộ dữ liệu\n",
    ")"
   ]
  },
  {
   "cell_type": "code",
   "execution_count": 55,
   "metadata": {
    "colab": {
     "base_uri": "https://localhost:8080/"
    },
    "executionInfo": {
     "elapsed": 49,
     "status": "ok",
     "timestamp": 1635509239508,
     "user": {
      "displayName": "Samuel Doan",
      "photoUrl": "https://lh3.googleusercontent.com/a-/AOh14GjbcdQ40FcyCSIyitBN2ptY3zHWA_09harKPYF2=s64",
      "userId": "04384888964432338542"
     },
     "user_tz": -420
    },
    "id": "BVC8hDtSk9dJ",
    "outputId": "a612d57c-b57f-45db-9be9-5f177b89a2c8"
   },
   "outputs": [
    {
     "data": {
      "text/plain": [
       "0      (15, 25]\n",
       "1      (35, 45]\n",
       "2      (25, 35]\n",
       "3      (25, 35]\n",
       "4      (25, 35]\n",
       "         ...   \n",
       "886    (25, 35]\n",
       "887    (15, 25]\n",
       "888    (25, 35]\n",
       "889    (25, 35]\n",
       "890    (25, 35]\n",
       "Name: age, Length: 891, dtype: category\n",
       "Categories (7, interval[int64]): [(0, 15] < (15, 25] < (25, 35] < (35, 45] < (45, 60] < (60, 80] <\n",
       "                                  (80, 100]]"
      ]
     },
     "execution_count": 55,
     "metadata": {},
     "output_type": "execute_result"
    }
   ],
   "source": [
    "age_groups = [0, 15, 25, 35, 45, 60, 80, 100]\n",
    "pd.cut(titanic['age'], bins=age_groups) # Chia dữ liệu theo bước tuổi định sẵn"
   ]
  },
  {
   "cell_type": "code",
   "execution_count": 56,
   "metadata": {
    "colab": {
     "base_uri": "https://localhost:8080/"
    },
    "executionInfo": {
     "elapsed": 45,
     "status": "ok",
     "timestamp": 1635509239510,
     "user": {
      "displayName": "Samuel Doan",
      "photoUrl": "https://lh3.googleusercontent.com/a-/AOh14GjbcdQ40FcyCSIyitBN2ptY3zHWA_09harKPYF2=s64",
      "userId": "04384888964432338542"
     },
     "user_tz": -420
    },
    "id": "lKUw8BMiler4",
    "outputId": "a9fb4da6-fcab-437f-9266-6221830b12ee"
   },
   "outputs": [
    {
     "data": {
      "text/plain": [
       "0      (15, 25]\n",
       "1      (35, 45]\n",
       "2      (25, 35]\n",
       "3      (25, 35]\n",
       "4      (25, 35]\n",
       "         ...   \n",
       "886    (25, 35]\n",
       "887    (15, 25]\n",
       "888    (25, 35]\n",
       "889    (25, 35]\n",
       "890    (25, 35]\n",
       "Name: age_group, Length: 891, dtype: category\n",
       "Categories (7, interval[int64]): [(0, 15] < (15, 25] < (25, 35] < (35, 45] < (45, 60] < (60, 80] <\n",
       "                                  (80, 100]]"
      ]
     },
     "execution_count": 56,
     "metadata": {},
     "output_type": "execute_result"
    }
   ],
   "source": [
    "titanic['age_group'] = pd.cut(titanic['age'], bins=age_groups)\n",
    "titanic['age_group']"
   ]
  },
  {
   "cell_type": "code",
   "execution_count": 57,
   "metadata": {
    "colab": {
     "base_uri": "https://localhost:8080/",
     "height": 424
    },
    "executionInfo": {
     "elapsed": 31,
     "status": "ok",
     "timestamp": 1635509239512,
     "user": {
      "displayName": "Samuel Doan",
      "photoUrl": "https://lh3.googleusercontent.com/a-/AOh14GjbcdQ40FcyCSIyitBN2ptY3zHWA_09harKPYF2=s64",
      "userId": "04384888964432338542"
     },
     "user_tz": -420
    },
    "id": "cp_MR0UHl-TI",
    "outputId": "b73d26c1-b10f-406f-9b0d-9ea2b87a8379"
   },
   "outputs": [
    {
     "data": {
      "text/html": [
       "<div>\n",
       "<style scoped>\n",
       "    .dataframe tbody tr th:only-of-type {\n",
       "        vertical-align: middle;\n",
       "    }\n",
       "\n",
       "    .dataframe tbody tr th {\n",
       "        vertical-align: top;\n",
       "    }\n",
       "\n",
       "    .dataframe thead th {\n",
       "        text-align: right;\n",
       "    }\n",
       "</style>\n",
       "<table border=\"1\" class=\"dataframe\">\n",
       "  <thead>\n",
       "    <tr style=\"text-align: right;\">\n",
       "      <th></th>\n",
       "      <th>survived</th>\n",
       "      <th>pclass</th>\n",
       "      <th>sex</th>\n",
       "      <th>age</th>\n",
       "      <th>sibsp</th>\n",
       "      <th>parch</th>\n",
       "      <th>fare</th>\n",
       "      <th>embarked</th>\n",
       "      <th>class</th>\n",
       "      <th>who</th>\n",
       "      <th>adult_male</th>\n",
       "      <th>deck</th>\n",
       "      <th>embark_town</th>\n",
       "      <th>alive</th>\n",
       "      <th>alone</th>\n",
       "      <th>age_group</th>\n",
       "    </tr>\n",
       "  </thead>\n",
       "  <tbody>\n",
       "    <tr>\n",
       "      <th>0</th>\n",
       "      <td>0</td>\n",
       "      <td>3</td>\n",
       "      <td>male</td>\n",
       "      <td>22.000000</td>\n",
       "      <td>1</td>\n",
       "      <td>0</td>\n",
       "      <td>7.2500</td>\n",
       "      <td>S</td>\n",
       "      <td>Third</td>\n",
       "      <td>man</td>\n",
       "      <td>True</td>\n",
       "      <td>F</td>\n",
       "      <td>Southampton</td>\n",
       "      <td>no</td>\n",
       "      <td>False</td>\n",
       "      <td>(15, 25]</td>\n",
       "    </tr>\n",
       "    <tr>\n",
       "      <th>1</th>\n",
       "      <td>1</td>\n",
       "      <td>1</td>\n",
       "      <td>female</td>\n",
       "      <td>38.000000</td>\n",
       "      <td>1</td>\n",
       "      <td>0</td>\n",
       "      <td>71.2833</td>\n",
       "      <td>C</td>\n",
       "      <td>First</td>\n",
       "      <td>woman</td>\n",
       "      <td>False</td>\n",
       "      <td>C</td>\n",
       "      <td>Cherbourg</td>\n",
       "      <td>yes</td>\n",
       "      <td>False</td>\n",
       "      <td>(35, 45]</td>\n",
       "    </tr>\n",
       "    <tr>\n",
       "      <th>2</th>\n",
       "      <td>1</td>\n",
       "      <td>3</td>\n",
       "      <td>female</td>\n",
       "      <td>26.000000</td>\n",
       "      <td>0</td>\n",
       "      <td>0</td>\n",
       "      <td>7.9250</td>\n",
       "      <td>S</td>\n",
       "      <td>Third</td>\n",
       "      <td>woman</td>\n",
       "      <td>False</td>\n",
       "      <td>F</td>\n",
       "      <td>Southampton</td>\n",
       "      <td>yes</td>\n",
       "      <td>True</td>\n",
       "      <td>(25, 35]</td>\n",
       "    </tr>\n",
       "    <tr>\n",
       "      <th>3</th>\n",
       "      <td>1</td>\n",
       "      <td>1</td>\n",
       "      <td>female</td>\n",
       "      <td>35.000000</td>\n",
       "      <td>1</td>\n",
       "      <td>0</td>\n",
       "      <td>53.1000</td>\n",
       "      <td>S</td>\n",
       "      <td>First</td>\n",
       "      <td>woman</td>\n",
       "      <td>False</td>\n",
       "      <td>C</td>\n",
       "      <td>Southampton</td>\n",
       "      <td>yes</td>\n",
       "      <td>False</td>\n",
       "      <td>(25, 35]</td>\n",
       "    </tr>\n",
       "    <tr>\n",
       "      <th>4</th>\n",
       "      <td>0</td>\n",
       "      <td>3</td>\n",
       "      <td>male</td>\n",
       "      <td>35.000000</td>\n",
       "      <td>0</td>\n",
       "      <td>0</td>\n",
       "      <td>8.0500</td>\n",
       "      <td>S</td>\n",
       "      <td>Third</td>\n",
       "      <td>man</td>\n",
       "      <td>True</td>\n",
       "      <td>F</td>\n",
       "      <td>Southampton</td>\n",
       "      <td>no</td>\n",
       "      <td>True</td>\n",
       "      <td>(25, 35]</td>\n",
       "    </tr>\n",
       "    <tr>\n",
       "      <th>...</th>\n",
       "      <td>...</td>\n",
       "      <td>...</td>\n",
       "      <td>...</td>\n",
       "      <td>...</td>\n",
       "      <td>...</td>\n",
       "      <td>...</td>\n",
       "      <td>...</td>\n",
       "      <td>...</td>\n",
       "      <td>...</td>\n",
       "      <td>...</td>\n",
       "      <td>...</td>\n",
       "      <td>...</td>\n",
       "      <td>...</td>\n",
       "      <td>...</td>\n",
       "      <td>...</td>\n",
       "      <td>...</td>\n",
       "    </tr>\n",
       "    <tr>\n",
       "      <th>886</th>\n",
       "      <td>0</td>\n",
       "      <td>2</td>\n",
       "      <td>male</td>\n",
       "      <td>27.000000</td>\n",
       "      <td>0</td>\n",
       "      <td>0</td>\n",
       "      <td>13.0000</td>\n",
       "      <td>S</td>\n",
       "      <td>Second</td>\n",
       "      <td>man</td>\n",
       "      <td>True</td>\n",
       "      <td>F</td>\n",
       "      <td>Southampton</td>\n",
       "      <td>no</td>\n",
       "      <td>True</td>\n",
       "      <td>(25, 35]</td>\n",
       "    </tr>\n",
       "    <tr>\n",
       "      <th>887</th>\n",
       "      <td>1</td>\n",
       "      <td>1</td>\n",
       "      <td>female</td>\n",
       "      <td>19.000000</td>\n",
       "      <td>0</td>\n",
       "      <td>0</td>\n",
       "      <td>30.0000</td>\n",
       "      <td>S</td>\n",
       "      <td>First</td>\n",
       "      <td>woman</td>\n",
       "      <td>False</td>\n",
       "      <td>B</td>\n",
       "      <td>Southampton</td>\n",
       "      <td>yes</td>\n",
       "      <td>True</td>\n",
       "      <td>(15, 25]</td>\n",
       "    </tr>\n",
       "    <tr>\n",
       "      <th>888</th>\n",
       "      <td>0</td>\n",
       "      <td>3</td>\n",
       "      <td>female</td>\n",
       "      <td>31.333333</td>\n",
       "      <td>1</td>\n",
       "      <td>2</td>\n",
       "      <td>23.4500</td>\n",
       "      <td>S</td>\n",
       "      <td>Third</td>\n",
       "      <td>woman</td>\n",
       "      <td>False</td>\n",
       "      <td>F</td>\n",
       "      <td>Southampton</td>\n",
       "      <td>no</td>\n",
       "      <td>False</td>\n",
       "      <td>(25, 35]</td>\n",
       "    </tr>\n",
       "    <tr>\n",
       "      <th>889</th>\n",
       "      <td>1</td>\n",
       "      <td>1</td>\n",
       "      <td>male</td>\n",
       "      <td>26.000000</td>\n",
       "      <td>0</td>\n",
       "      <td>0</td>\n",
       "      <td>30.0000</td>\n",
       "      <td>C</td>\n",
       "      <td>First</td>\n",
       "      <td>man</td>\n",
       "      <td>True</td>\n",
       "      <td>C</td>\n",
       "      <td>Cherbourg</td>\n",
       "      <td>yes</td>\n",
       "      <td>True</td>\n",
       "      <td>(25, 35]</td>\n",
       "    </tr>\n",
       "    <tr>\n",
       "      <th>890</th>\n",
       "      <td>0</td>\n",
       "      <td>3</td>\n",
       "      <td>male</td>\n",
       "      <td>32.000000</td>\n",
       "      <td>0</td>\n",
       "      <td>0</td>\n",
       "      <td>7.7500</td>\n",
       "      <td>Q</td>\n",
       "      <td>Third</td>\n",
       "      <td>man</td>\n",
       "      <td>True</td>\n",
       "      <td>F</td>\n",
       "      <td>Queenstown</td>\n",
       "      <td>no</td>\n",
       "      <td>True</td>\n",
       "      <td>(25, 35]</td>\n",
       "    </tr>\n",
       "  </tbody>\n",
       "</table>\n",
       "<p>891 rows × 16 columns</p>\n",
       "</div>"
      ],
      "text/plain": [
       "     survived  pclass     sex        age  ...  embark_town  alive  alone age_group\n",
       "0           0       3    male  22.000000  ...  Southampton     no  False  (15, 25]\n",
       "1           1       1  female  38.000000  ...    Cherbourg    yes  False  (35, 45]\n",
       "2           1       3  female  26.000000  ...  Southampton    yes   True  (25, 35]\n",
       "3           1       1  female  35.000000  ...  Southampton    yes  False  (25, 35]\n",
       "4           0       3    male  35.000000  ...  Southampton     no   True  (25, 35]\n",
       "..        ...     ...     ...        ...  ...          ...    ...    ...       ...\n",
       "886         0       2    male  27.000000  ...  Southampton     no   True  (25, 35]\n",
       "887         1       1  female  19.000000  ...  Southampton    yes   True  (15, 25]\n",
       "888         0       3  female  31.333333  ...  Southampton     no  False  (25, 35]\n",
       "889         1       1    male  26.000000  ...    Cherbourg    yes   True  (25, 35]\n",
       "890         0       3    male  32.000000  ...   Queenstown     no   True  (25, 35]\n",
       "\n",
       "[891 rows x 16 columns]"
      ]
     },
     "execution_count": 57,
     "metadata": {},
     "output_type": "execute_result"
    }
   ],
   "source": [
    "titanic"
   ]
  },
  {
   "cell_type": "markdown",
   "metadata": {
    "id": "5FrtaBITVX1I"
   },
   "source": [
    "### Tạo biến chỉ báo"
   ]
  },
  {
   "cell_type": "code",
   "execution_count": 58,
   "metadata": {
    "executionInfo": {
     "elapsed": 30,
     "status": "ok",
     "timestamp": 1635509239514,
     "user": {
      "displayName": "Samuel Doan",
      "photoUrl": "https://lh3.googleusercontent.com/a-/AOh14GjbcdQ40FcyCSIyitBN2ptY3zHWA_09harKPYF2=s64",
      "userId": "04384888964432338542"
     },
     "user_tz": -420
    },
    "id": "aroSII2tugAp"
   },
   "outputs": [],
   "source": [
    "# Thuyết âm mưu số 4:\n",
    "# Có sự liên hệ giữa các quý bà và tỷ lẹ survived"
   ]
  },
  {
   "cell_type": "code",
   "execution_count": 59,
   "metadata": {
    "colab": {
     "base_uri": "https://localhost:8080/",
     "height": 675
    },
    "executionInfo": {
     "elapsed": 2676,
     "status": "ok",
     "timestamp": 1635509242162,
     "user": {
      "displayName": "Samuel Doan",
      "photoUrl": "https://lh3.googleusercontent.com/a-/AOh14GjbcdQ40FcyCSIyitBN2ptY3zHWA_09harKPYF2=s64",
      "userId": "04384888964432338542"
     },
     "user_tz": -420
    },
    "id": "7DV2x9lIu-3p",
    "outputId": "5821f592-628c-49d3-bc28-6b9df0c09edd"
   },
   "outputs": [
    {
     "data": {
      "text/plain": [
       "<seaborn.axisgrid.FacetGrid at 0x7f03abfded50>"
      ]
     },
     "execution_count": 59,
     "metadata": {},
     "output_type": "execute_result"
    },
    {
     "data": {
      "image/png": "iVBORw0KGgoAAAANSUhEUgAAAagAAAKACAYAAADJpewGAAAABHNCSVQICAgIfAhkiAAAAAlwSFlzAAALEgAACxIB0t1+/AAAADh0RVh0U29mdHdhcmUAbWF0cGxvdGxpYiB2ZXJzaW9uMy4yLjIsIGh0dHA6Ly9tYXRwbG90bGliLm9yZy+WH4yJAAAgAElEQVR4nOzde5wU5Zn3/8/VMwMzDAwwMHJGRFEUoqBoSAyYaGIQTSSuIdGsUdcsZldD8tOsukmePOyz7m40CUlMTCJGVzTRlRhPUYNrMEaSqAEjKogKclDOw2k4jgz09fujqpmeme45MdVdPfN9v17z6uq7q6uv7rmrrjrc913m7oiIiMRNIt8BiIiIZKIEJSIisaQEJSIisaQEJSIisaQEJSIisaQEJSIisaQEJSIisaQElQNm9lEzeyLfcQCY2Xwz29lcPGZ2hZnNymFYOWFm95jZxfmOozNTXe8YZtbdzH5vZkvM7HMRfs4aM+sf1fKPVHG+A5Cc+y7QA7g634GIRKyQ6/p4AHcfl+9A8klHUO1gZiPM7E0z+5WZLTezh8ysR/ja6Wb2FzN71cz+ama9Gr33DDN7wcxeCec7ISwfE86/xMxeM7NRZlZuZk+Gy1raEXtS7r4A2N3O7z3IzJ4PY1xqZpPC8nPD7/Q3M/u1mfU0s6PNbIWZ9TezhJktNLNzjyR2M5tlZnPDZa01s4vM7FYzez3cWy4J5/u2mS0KY5xjZpZhWaeZ2R/N7GUze9rMBh1JbJ2V6nru67qZHQX8Ejg9/Pxjs9VXM3vOzH5gZovD/8/pZvZwGM/Nact8NHzvMjObkeVz/z7t/3KHmRW19zt0GHfXXxv/gBGAA2eGz+8Gvg50A1YBp4flFQRHqR8FnkgvC6c/DvwmnP4x8IVwuhtQBvwdcGfa5/bOEMu/AEsy/N3WTPyH48ny+hXArAzl1wPfDKeLgF5Af+B5oDwsvxH4djj9JeDXYYx3ZPmsB7PE/8UM884C/gSUAKcA+4DzwtceAaaF05Vp77kP+FQ4fQ9wcfj+vwBVYfnngLvzXa/i+Ke6nre6nv47Zq2vwHPALeH0V4ENwCCgO7AO6Je+ToS/9dK08jXh9zoR+C1QEpb/NFNcuf7TKb72e8/d/xxO/xKYCTwNbHT3RQDuvgug0Q58b2CumY0iWPFLwvIXgG+a2VDgYXdfYWavA983s1sIKuvCxkG4+3cJTmXkwiLg7vBI5VF3X2JmZwEnAX8Ov2e38Lvg7r8ws88CXwYynqpw97buKf/O3evC36YImB+Wv06wMQX4mJndQHB6pxJYRrDypZwAjAWeCWMuAja2MY6uRHU9P3U9paX6+nj4+DqwzN03ApjZKmAYsA2YaWafCecbBowKy1POAU4DFoWfUQZsaWe8HUYJqv0aj7Lb2lF3/x34g7t/xsxGEOwB4e73m9lLwPnAU2Z2tbs/a2anAlOBm81sgbv/v/SFmdm/AF/I8DnPu/vMVn+bVnD3581schjjPWY2G9gBPOPulzSePzwVNDR82pMMp1vM7EGCFbCx2e5+b4by98NYkmZW5+HuHpAEis2slGDvb4K7v2fBBfDSxh9LsCJ/qPlvLCHV9fzU9cNvpfn6+n74mEybTj0vNrOPEhzBfsjd95nZc2ReJ+a6+782E0fOKUG133Az+5C7vwBcSnDq6S1gkJmd7u6LwnPy+xu9rzewPpy+IlVoZiOBVe5+m5kNB042szeB7e7+SzPbSXAaoYFc7lWa2dHAOne/08y6A6cC/wHcbmbHuftKMysHhrj728AtwK+AtcCdwAUZ4u/oFkqpFW+rmfUkOKX3UKN53gKqUv+/cC/5eHdf1sGxdBaq6/mt60daX3sDO8LkNBqYmGGeBcBjZvYDd99iZpVAL3df286YO4QSVPu9BVxjZncDbwA/c/cD4cXdH5tZGcEK+/FG77uV4LTHt4An08qnA5eZWR2wCfhP4HTgu2aWBOqAfzrSoM1sITAa6Glm64Cr3P3pVr79o8C/hDHuIThHXW1mVwAPhCsywLfCi7inE1y7OGRmf2dmV7r7fx/pd2iOu+80szsJzrNvIjhV03ieAxY0N7/NzHoTrAc/JDgVKE2pruexrndAfZ0PfNnMlhP8L1/M8BlvhP+n/zWzBMH/4BqChJs3Vn+GRForPF3xhLuPzXMokQhXwhHuPivPoUieqa5LPqmZuYiIxJKOoKQJMxsH9HH35/Idi0iUVNfjTQlKRERiqaBP8U2ZMsUJmrzqT3+F/Ncuqv/660R/GRV0gtq6dWu+QxDJG9V/6ewKOkGJiEjnpQQlIiKxpAQlIiKxpJEkuppkEra/A7s3QbdyOHgAyvtB5bGQ0P6KdHLp9b/XQNX7mFOC6kqSSXjzt/DI1VC3H0rKYPIN8Mp98PFZMPpTWlml88pU/z9zh+p9jOm/0pVsf6d+5YTg8flbYcxFQfn2d/Ibn0iUMtV/1ftYU4LqSnZvql85U+r2BwPt1+2HPZvyEpZITmSr/6r3sRVpgjKzNRbcjnuJmS0OyyrN7BkLbkn8jJn1DcvNzG4zs5UW3Ab61Chj65J6DQxOa6QrKQu6yZWUQc+BeQlLJCey1X/V+9jKxRHUx9x9nLtPCJ/fBCxw91EE9yC5KSw/j+Auj6OAGcDPchBb11J5bHDOPbWSpq5BLXs4KK88Nr/xiUQpU/1XvY+1fDSSuJDgXisAcwnusnljWH5veIfUF82sj5kNSt2+WDpAIhFcEL76pLAVXw84VAcnfkqtmaTzS6//ezYFR06q97EWdYJyghtgOXCHu88BBqQlnU3AgHB6CPBe2nvXhWUNEpSZzSA4wmL48OERht5JJRLQf1TwJwVH9f8Iqf4XlKh3HT7i7qcSnL67xswmp78YHi1lHSgwE3ef4+4T3H1CVVVVB4YqEn+q/9KVRJqg3H19+LgFeAQ4A9gc3iKZ8HFLOPt6YFja24eGZSIi0gVFlqDMrNzMeqWmgXOBpcDjwOXhbJcDj4XTjwNfDFvzTQRqdP1JRKTrivIa1ADgETNLfc797j7fzBYB88zsKmAtMD2c/ylgKrAS2AdcGWFsIiISc5ElKHdfBZySoXwbcE6GcgeuiSoeEREpLGpfKSIisaQEJSIisaQEJSIisaQEJSIisaQEJSIisaQEJSIisaQEJSIisaQEJSIisaQEJSIisaQEJSIisaQEJSIisaQEJSIisaQEJSIisaQEJSIisaQEJSIisaQEJSIisaQEJSIisaQEJSIisaQEJSIisaQEJSIisaQEJSIisaQEJSIisRR5gjKzIjN7xcyeCJ8fY2YvmdlKM3vQzLqF5d3D5yvD10dEHZuIiMRXLo6gvgosT3t+C/ADdz8O2AFcFZZfBewIy38QziciIl1UpAnKzIYC5wO/CJ8bcDbwUDjLXGBaOH1h+Jzw9XPC+UVEpAuK+gjqh8ANQDJ83g/Y6e4Hw+frgCHh9BDgPYDw9Zpw/gbMbIaZLTazxdXV1VHGLhI7qv/SlUSWoMzsAmCLu7/ckct19znuPsHdJ1RVVXXkokViT/VfupLiCJd9JvBpM5sKlAIVwI+APmZWHB4lDQXWh/OvB4YB68ysGOgNbIswPhERibHIjqDc/V/dfai7jwA+Dzzr7l8A/gBcHM52OfBYOP14+Jzw9Wfd3aOKT0RE4i0f/aBuBK4zs5UE15juCsvvAvqF5dcBN+UhNhERiYkoT/Ed5u7PAc+F06uAMzLMUwt8NhfxiIhI/GkkCRERiSUlKBERiSUlKBERiSUlKBERiSUlKBERiSUlKBERiSUlKBERiSUlKBERiSUlKBERiSUlKBERiSUlKBERiSUlKBERiSUlKBERiSUlKBERiSUlKBERiSUlKBERiSUlKBERiSUlKBERiSUlKBERiSUlKBERiSUlKBERiSUlKBERiaXIEpSZlZrZX83sVTNbZmb/FpYfY2YvmdlKM3vQzLqF5d3D5yvD10dEFZuIiMRflEdQ7wNnu/spwDhgiplNBG4BfuDuxwE7gKvC+a8CdoTlPwjnExGRLiqyBOWBPeHTkvDPgbOBh8LyucC0cPrC8Dnh6+eYmUUVn4iIxFuk16DMrMjMlgBbgGeAd4Cd7n4wnGUdMCScHgK8BxC+XgP0y7DMGWa22MwWV1dXRxm+SOyo/ktXEmmCcvdD7j4OGAqcAYzugGXOcfcJ7j6hqqrqiGMUKSSq/9KV5KQVn7vvBP4AfAjoY2bF4UtDgfXh9HpgGED4em9gWy7iExGR+ImyFV+VmfUJp8uATwDLCRLVxeFslwOPhdOPh88JX3/W3T2q+EREJN6KW56l3QYBc82siCARznP3J8zsDeB/zOxm4BXgrnD+u4D7zGwlsB34fISxiYhIzEWWoNz9NWB8hvJVBNejGpfXAp+NKh4RESksGklCRERiqVUJyszKzOyEqIMRERFJaTFBmdmngCXA/PD5ODN7POrARESka2vNNahZBNeMngNw9yVmdkyEMXVayaSzZtteNu+qZUBFKSP6lZNIaLCMqOj3jolkEra/A7s3Qa+BUHksJBKZyyEo27sNikvgwL6G75EupTUJqs7daxqNOqTm322UTDrzl23iunlLqK1LUlqSYPb0cUwZM1AbzQjo946JZBLe/C08cjXU7YeSMvjMHXDC+fDWkw3Lp/0cikvh6X+F8ZfB87c2fM/oTylJdTGt+W8vM7NLgSIzG2VmPwb+EnFcnc6abXsPbywBauuSXDdvCWu27c1zZJ2Tfu+Y2P5OfRKC4PGRq2HTq03LH/0ybPgbjLmoPjmlv2f7O/n5DpI3rUlQXwHGEIxOfj/BGHlfizKozmjzrtrDG8uU2rokW3bX5imizk2/d0zs3lSfaFLq9sOuDZnL/RAYmV/bsynSUCV+mj3FF3ayfdLdPwZ8MzchdU4DKkopLUk02GiWliQ4qldpHqPqvPR7x0SvgcEpuvSEU1IGFUMyl1tRkKQyvdZzYO7illho9gjK3Q8BSTPrnaN4Oq0R/cqZPX0cpSXBT566JjKiX3mTeZNJZ1X1Hl54ZyurqveQTOqSX1u15feWCFUeG1w/KikLnqeuJw08uWn5tJ/D4FNh6cMw+Yam70k1oihEySRsXQGrFwaPyWTL7xGspeHuzOwxghEhngEOn8B395nRhtayCRMm+OLFi/MdRqulWpVt2V3LUb0ytyrTxf2O05rfOybaFVTB1P9Ua709m4KjoMat+NLLISjbtw2KOkkrvmwNRdToI13GdaA1CeryTOXuPjdTeS4VzAraBquq9zD1toVNTk09NXMSI6t65jEyiVDnTlBd3dYVcMekpqcsr14I/UflL654ybgOtNjMPA6JqCtp7uK+EpRIAcrWUGTPJiWoFrSYoMxsFPBfwEnA4SvM7j4ywri6LF3cF+lksjUUUaOPFrXmBOh/Az8DDgIfA+4FfhllUF2ZLu6LdDLZGooUcqOPHGnNSBJl7r7AzMzd1wKzzOxl4NsRx9YlJRLGlDEDGT1z0hFf3NdQPxIL2YY6ipOWYjyS75BIBA0irj6paUMRaVZrEtT7ZpYAVpjZtQS3ZtfFkAglEsbIqp5HdM1JrQElFgqhBVtLMXbEd0gkgutNuubUJll/XTO7L5x8FOgBzAROAy6j/tbsElMa6kdiIdtQR3EatqilGAvhO3RSzaX/08xsMPAFoATYB1wPfAl4OwexyRHI1hpw8y4N9SM51FwLtrhoKcZC+A6dVHOn+H4OLABGAi8TtFP3tEe14ouxHt2KM7YG7NGtKI9RSZdTCC3YWoqxEL5DJ5X1CMrdb3P3E4G73X2kux+T/pjDGCXUliGQDhw6xMyzRzVoDTjz7FHUHdIQKxKRTMP5RN2CrSOGEGopxvTXK4bAWTfChT8Fdw1ZFLHWdNT9p1wEIs1ra6OHfuXdeXDxu1z1kZGYBevSg4vfZcpY7fVJBJprSBBVC7aOaoDRUiu71OtfHgvrFsETX4tvg49OpsWhjuKsKw310tYhkNSKr6AU/lBH+RjOJ9efqSGLotS+oY7a/Wlmwwg69Q4guGY1x91/ZGaVwIPACGANMN3dd1hwy94fAVMJGmRc4e5/iyq+QtPWIZA6sj+VSIvyMZxPrj9TQxblXJTHpQeB6939JGAicI2ZnQTcBCxw91EEjTBuCuc/DxgV/s0gGL1CQqkhkNK1NARSqj/VxJH9GVnVU8lJopNqSJAu6oYEuf7MfHzHLi6yBOXuG1NHQO6+G1gODAEuBFID0M4FpoXTFwL3euBFoI+ZDYoqvkKjIZAk1vIxnE+uP1NDFuVcTq5BmdkI4HlgLPCuu/cJyw3Y4e59zOwJ4Dvu/qfwtQXAje6+uNGyZhAcYTF8+PDT1q5dG3n8cVFA9zeStmn1PzHW9T/bfZ8602fm4zt2Dbm9BnX4U816Ar8Bvubuu4KcFHB3N7M2ZUh3nwPMgeAicUfGGncdMQSSFLZY1/98DOeT68/UkEU5FWnqN7MSguT0K3d/OCzenDp1Fz5uCcvXA8PS3j40LBMRkS4osgQVnr67C1ju7rPTXnqc+rH8LgceSyv/ogUmAjXuvjGq+EREJN6iPMV3JsHAsq+b2ZKw7BvAd4B5ZnYVsBaYHr72FEET85UEzcyvjDA2ERGJucgSVNjYIdvF33MyzO/ANVHFIyIihUXNT0REJJaUoEREJJYib2YuIpIzub69fCHczr6AKUGJSOeQ69vLF8Lt7AucfkUR6RxyfWt23Qo+ckpQItI55PrW7LoVfOQ67yk+nRtuk9Q4f5t31TKgQuP8dSax/982s662KfaOvDV7a7Yfub4VfBfcpnXOBKVzw22imxt2XrH/3zazriaxtsWeGm288bLaOtp4a7cfHfV5HRlTJ9M576irO1+2SVvv1isdLrI76sb+f9vMurrKB7U99kyjjUPbjjzasv3I1ejmnX+blnEd6JypV+eG26S5u/VKYYv9/7aZdbVdsadGGx8xqX7D/eZvg4373AuCxzd/GySWdsTU4udFdTSTLabdnXub1jkTlO582SbtuVuvFIbY/2+bWVc7JPb2tLSL4/ajW3nmmLr1yE88OdI5E1SB3fkymXRWVe/hhXe2sqp6D8lkbk+76m69nVfs/7fNrKsdEnvjI4+KITDxGti+Cta/DKsXBqfP0o+o4rj9OHgAJt/QMKbJN8ChuvzFlAOd8xoUFMydL+NyETvyu/V2wRZIbRDZNSgogDsxN7OuHnHsW1fA/dNhzEVQ3B2qRsMLt8Pxn4Tnb83e4ODQQdj0KuzaCOX9wYHyfvmrt+nfwwjiWfYwXDqvU1+D6rwJqkDE/iJ2R+iiLZDaINIE1aUdOgivPQhPXV9f9z75n/CXHwdHUSnpDQ5S9fX3s2D8Zc0nslzp/OtQF2okUUBifxG7I6jHveTLjtX1yQmCx6e/ERyJpEtvBJGqr2Muqk9OqXnyVW8TiSAZXb0QrngieOw8ySmrzv3tCkDsL2J3BLWqlHzJVvcSRQ3L0htBpN5jxKve5qrFYIx0zo66UYngOkrqQnDja1CRX8TO5TWhXPe4l9yK8/XFbHVv8Klw1o3gh8CKYfD4+kYQ6a34VG/zSgmqtSI6B5xIGFPGDGT0zEm5u4id6/PZuexxL7kV92sjmereRXOgtgb+clt92bSfN33P72cFLeUaX4NSvc0ZNZJorc7Ukzsf3+UIW1XGfjy5I1O4jSQ6ui4d6dFYpvdDw7rnDnMmNx9zajn7tkFRCRzYF7+jw84l4zqgI6jWau46SrYVMa6nPtrzXdqpYWIZxIjhx7U5scSlKb5k0JF16UiPxpJJWPG/sOFvDU/djTo3iCUVz+qF2WOuPLbhOjv0jHiss12UElRrtfU6SoaVbf/5P2XL0E8wrLJnfjesObomlCmx/OdnPsCpw/swvLL1R0Brtu09vAwIWjleN28JoztTU/xC1VxdausOWrbWnlef1HKySyZh45LgiAeDJQ/A/u3Bdab+o6Bf2mm5bDGXD4j36couSL96a7W1d3mGla3syX/mlSUvM3/ZppyPFtFAjnrKZ0os33jkdR5+ZX2bfoMu0RS/UGWrS32PiXYMvHSpncF7psJj/wx/+RGc/iUoq4Q/3gK7N7Yu5kSRukPETGRHUGZ2N3ABsMXdx4ZllcCDwAhgDTDd3XeYmQE/AqYC+4Ar3P1vUcXWLof7IZzUuusoWVa2fr6Tf8z33n9bv0s7ZUssSadNR0CppviNOzN3qqb4hSpbXWrP0VB7j+wzfdbztwZDGi38XnD9qDUxr/1zzk59S+tEeQR1DzClUdlNwAJ3HwUsCJ8DnAeMCv9mAD+LMK72a0s/hCwDTm7x3vHY+89Bn4psfbzc23YEFPvx5Lq6THWpPUdD7T2yz/ZZFi6j74jWxRzHQWK7uMiOoNz9eTMb0aj4QuCj4fRc4DngxrD8Xg+aFL5oZn3MbJC7Nzo2LyAZmreunjSb7//5YJfZ+8/Ux2vm2aO478W1bfoN8tIUX45Me46G2ntkn+2zrChoPt7vuNbFnOvuEHFtRBUjkTYzDxPUE2mn+Ha6e59w2oAd7t7HzJ4AvuPufwpfWwDc6O5N2tCa2QyCoyyGDx9+2tq1ayOL/4glkyS3vcO2ze/y501F3Lqoju37Dra+BVouK3AbP6u1zb6TSWf11r0s37SLtzfv5teL17Fj3wG1wmuo1T9CwdT/TC3ypv0cBn4Adm3o2Pqcaby9874HI86E3sOC4Y5S9brvMQ2fN44hV4NMx73/WO7lfrDY5hJU+HyHu/dtS4JKF4t+IK3QrhGZc1mB2/hZbWr2Ha7wyd2b2FvSnxUHq+hTriOgRgq3H1Rz0jf25QOCwVkfuqLj63O2kb4veRCqlwcdbsdcFHzmwJNh/o1BLPlMCp2pX2XHiMVgsZvNbBBA+LglLF8PDEubb2hY1ikkEsbIqp5MHNmfkVWtbGKeywFW2/hZ2Zp9v75+Z8OWeanEd8ckEnMvoNfcj3Hqvj8zsl8PJafOLJkMNsBr/xw8H34mmNUnJ+jY+rx7U5BwFn4Pnv9e8Lh9FexYAy/8FD78FXjxdnj23+HXXwxGKK8Ykt9WehqfslVynaAeBy4Ppy8HHksr/6IFJgI1kV1/Sq08mW5UFifNVOAOv8FhG1eWbK3zFry5pWHzcY1i3vWk7ZQ0aF6+d1vbNshtWU97DsjcuKG0N0z852D08sYt/E65pP55+m3Tc7V9aE2DjELZVkUoymbmDxA0iOhvZuuA/wt8B5hnZlcBa4Hp4exPETQxX0nQzPzKSIKK2XnfbNdxkklnb0l/emW48JssH9ghoyqkf/bY7pk/K9sF7UzNvo/uV8ZxR/XizU27GNKnjA8M6U2iuSRbeVyD7z68bw/e3bGv9UMZ6QJzPGXaKfn9LJj2s/rBWZc8ALvWQ+VIKOkRbIDT/4dtvX6VKAqW/cdb6uc/60bAYcuy7C38oP626clkcG1q3SJ44msNP/fET3dc3UrV273b4FM/ht9+peFnWSL4PSoGw6bX4dEvt35blb5OdCsP7sKbz5ssdoAoW/FdkuWlczLM68A1UcVy2JH0VO9g2a7jnHviAP53+Wa+O38Dd0+azTELr6uvoBffw74DdfTZ8hL/MbkP319cx4aaA20eVaHxZx/Tr5Qnpt5O+VPXtKr1UuPWeUf3K+PLk4/jhodepbYuyZznV/HTS8fz0V49SDTeKGVJsjdPG8uPn13B2m37W066MdvRkDSZbrE+/jK4b1r9/2ryDfD203DqF+Ge85v+DzOtp49+GT48M0hCjf/fuzbAX+8M+j2lrkH99c7gyMoPZW7h59THcrAuqE/bVsHztzT93KNOgqrj2/d7pCeNxkmncmTwParfhmQdJA/Bry4OTk+edWP9YLapWBpvq5pbduq7vXIffHxWwa4bhRfxkYjRed9s13GWbazhunlLWL2tli/8uYrfnP4Af540lz1X/hEO1tLznrP58MLL+bu/fp5fnVnN4N7d2tyvqvFnr95WywW/78Puy//QqpuhpZp9PzhjIjPPOY7rzx3Nvz2x7PDyKnsUM3LrsyTmnh9sUF64PejZH66Q79nAJt/9W48u5YKThzT4LdZs25v5C0R06rDDT512RY1PXZ1ySdOb/j1/K3zi35reSDD1P8y2nvqhpvOmPnP/9obXoPZvh+JSWPpwsKFO71s19Xsw6BT49O3gySCp/X5WcLSR6XN3rGnfb9H4dOdrD9YnEAgS0SNXw8HaYD15/Jr6Gyn6oea3VS0tO/U7j7mooE+rd62x+GJ0X6Js13E21tSXb6g5wPXPHgBKWDTyAD0bVcBjFl7H9ac/wDcXHmxTv6pMn716Wy3LDlQxceSJrVpGImF8YEgf1u+s5c1Nuxos7/rTihnx/HVNV5YrnoRB49mwenvG727W8PmW3bWZjwojGOxWA9J2kMZ9iRJFmf9Xe6uz/w97DYRhE+GMGVC3F7r1hJfuCI56Gs/bf1Tm/kuTbwhu6/7hrwSPE68JYjlqDLw2D0adU39tKjV/94rM24duPdr3WzTekcqWdCzDdOqzs22r2rLsAh4No2sdQeVoDLrWyDbKwqDeZRnLy+syX2Se0O8A37v4FNxp9R5/R93FN3Ukdc7oAQ2WN8B2Zl5Z6vZBItHsCBOtiieCHv/ZjmizHsVJZo1vTX78lMz/q4ohmctLegR9l8ZfFhxRPP6VYHy98X8PG19rOG/q/536zCueDE6NTbwGFv0iGNX81Qfhk/8ZJKfkIVgwCyZcmbnhRFFJ8P707cNZN0KvQe37LTLtSGX6zp5heskDTWNJ31a1ZdkFPBpG10pQjVeeFk5lRSnT8D0/vXQ8HyjdwsLp3fjhx3syuHe3w3vypX0zr9Cv7OjOtQ+8wvk/XtjqAVg7cuig4Eiqd4PlbbXKrAkkmXQSBv/5mQ80+Pybp43lidfWty6eNu5otObUnQak7UDpwwgNGpf5fzXw5Kblk2+A33wpaKjwu683TCC/+xcYd0nDZaT/vxMJGDQeBowJmpSH1zs5/pPwx1uDeYZ9EC6dB8XdM+9AbXsHSsqDa12Tvx48Vp0YdO5tj8Y7UpmSzlk3wqsPhKcevx/034LgFGXViTDj+czbqtYse/INwfIK+CaLumFhHqV34B1U0Z3hm50iXLUAACAASURBVBdgaRc5G9yeA2/SMGDN5Nlc+qcqNtQcAIIN+1OtbCzRrs7DzSzr2bc289q6GpIOFd0T/H3Fa/Ro1OgiecIFzH9jC9fNW0LfHt347IShHD+gFycOrODoyqAVX6vjaWWP/9aeultVvYepty1sMiBta3/PI9S5Ouo2bmGZGr2h8f8qmYSNrwQNJpKHgg31rvXw6Z/A49c2Xe5n74XyyuZHeEgmYdtK2Lws6KT7yi+DjX16o4psnWQ/fTvUvFc/+sSxHwuSXrbPaakVaabGPBffE1yL3bs56LycKILdG4Lv1Odo2Px60OijYkiQxIuyXIVpbtl7NgenJQ/VQY+CacWX+5EkohbbFbQ9Mq00lSPh735RfzfPtBV9i/dh2v9sOpycAAb37sZjnx9IFTtz2vQ608b9mH6lPH7JYHrVbYVuPUgerGOn9eKh1d3Y9X6S37y8jo01tZEngdYmnjxfg+o8CSp9w1lWGZyaqxoNA8YGY+I1ro+rFwbznnJJ/a8w4GR49OqmCeSKJ2HIadk/t7mkmD7EUaYWb1O/HzSuOPh+yzG3pRVpa4dOak/L1FwNy5QbuqNuvjU7fl225rnpzXBTe0gOZSXFdC+ur4yDe3fjwclbqbr/ssPz+7Sf8+6Ac9hQ837WvkXJQ4fYu/FtDu3aSFHFIMoHHU+iqKhp7M3Ml356bFDvUi46dSgVpQkOHHwf31uNrXmLxCv3Ubl/O5+YNJt/eHUAl008mvteXMvGmlq27K5lRL/ySG7p3typu/QEpQFpO0jq4n1ZZdByM9WCL9sGt2IwnPGPDfswnffdoKXdU19vmEAGnpL5M5vbuFceC9tWwFu/C07teRLe+QP0GgCXPQaH3g+uMfU9BoZPbNoPKlPMzXVXaXxH3spjG97NN1v8G18Jjvo+dE19l4yWusCkTqUWYOOH1lKCypEW99AbtzBs3Dy3rDI4ZREOF9OrpIwnpt7OBb/vw+pttXz7w6UMe+7/a7DS2KNfZvlHfs2Xf7cr4xFB8tAh9r/2KL3STsXtnXo7ZSdPa5CkWpov1eihb49uXDbxaH69eC13f3Az/X6V1odr8g2w6Bccs/A6rj39Ab757Aqu+shI7vrTKqp6lkZ29NKWe0mlhqRKJcuXVm/r0GTZJaR2tCZmaF6eaYObPAR/u7e+DxPAn2bD3z8Clz0KuzZCxSAYfGr2013ZEsaXxzY9UjrrRug1GBbODtanqd+H4R8Olu3J+uTUXMzZWpHu2wZb3mj7UVDj5BquK+xaX7Ct7zpKwR4PFpoWW4k1vvDfuHnuKZfU72UC1O2n/Klr+M30gTzwjx/kIwMOZlxpxlTsb/B5q7fWt0rbu/Ht+s65acvcu/HtBotpab5Uo4vPThjKbc+u4NpTEvUdjMP5Dw8vU7efo6yG2rokRQmYPX0cRQkia0HX1gYhqR2Jqbct5JI7X2Lqba1vfCLU72ilmjeny9TncN/24EzBi7cHfZheuB0++E/w3otB596Hrgge3/5d9qF+siWM3Rub9g364y1BQvvQtcHzp66HTa82v5zGMWdrRVpU0vb+edlutnjKJQXd+q6jKEHlSIutxFpqnptlhV++cgU79tWxv7Qq40pTXDGQa88+jmvPPo6+Pbrx7vb6jf6hXRszLvPQrobDILY0X+r02LhhfaitS2ZvZh7eQG6L96a0JME5o49iypiBDfp+ZfxtjkAqtqdmTuJ/ZnyQp2ZOavbITM3Nj1BqR8uKW9cVoLik6ZHWvq2Zj2SybeizJYwDe7N3+K3bW/9814bml9M45mytSA/sa12CS5ctKSaKCrr1XUdRgsqRVvU9aq55bpYVftOh3lw3bwnL3+/P6kmzG6w0qyfNZmltFQBFBv901kgqSkuA4EghmWWQzaKKhv0+iioGtThfImGM6FfO0f3K6DNgeOYV3YpYPWk2P3k1yezp4/jAkD4kEtZh/bKyacto8mpufoQSCTjh/KB596d/AmfdVN/nKdMGN9NGvaVRFBrLljD6HpO1HlJSXv+8YnDzy2kcc7buKtkSXEmP7Ed/2d5z/CcLdniijqRrUDmS6e6yzfb1aXx30V6D4agTG5xP3//J71O2txuVPQ5S1q2Ef3hpANee/gBHWQ1bvDfzlhXx7TM3UGbvstUq2cUwSksSh09jfXf+pibj/e2dejvlgxqOO1Y+6PigvNE1qPJBxzdo+DGwopSvnD2Krzz9dpPl+gU/ZG/VeHYc6MddJza8rpPpt/nppeMZwUZYndvBYNtyzUoySCbhrScbXlO54Icw9PQgYTT+H2Ya3SW1M5ZtFIXGst2JF4IBWDNdg3rhJ00bX7Tljr6ZGihkG9HiN1/KPh5etrv4Zmve3sWomXkOHXHfo2SSPRvfpGjLG5TtfPtwH481k2dTdNKneH3DngYDwD7ysR30efraBv2mdgz7JL3Lux9uej24dzeuP62YgUU1nHjcKPoMHd3qVnxYokHjhpnnHMdjS9ZzwclDqChNcGbfXdRuX88Jx42i1+ATWnWH3mx9wrJdbD54MMmyjTVsrKllUO8yxgyqoLi4/St2npqbd55m5m29EV+2/jwHa9s2knc2qX5R21YGyymrDE6f7VgdHDkNPCV744v2yNa3q6XfoPM0F28vNTPPt9Sppjb3+Unr49GjqITEvg0NBs4c8fx17D5mPOeeeAJPzZzEzr21nMhqyratD3rO794MPSoZsehuug8ey5pdgzOO9/ffQ/pzliWafCa9BpKoPJZeQ08E6sfqW1W9p8H1mh7divjchOHc9uyKwxv3mWefBAf7MiFb/5C05ada0O3d8GZ9cgq/I49cze7Lj2fp+1WHW9Ylk86jr67nW48ubTAq+rRThhxRkupWbMyYPJKkQ8KC5+3SFW8J0lxDg0xNsJs7+hkwpvUb7Wy/dSIRjETeeDTygWM79nunJBLBacs/3tKwvG4/+7av59Wavk1bhnaB5uLtpQQVd432MBOp0wZLHw6GY6ndBX+dw2tvvcXmLb04/ejejN/7J+zFnwVDw9w/vUH/kv49EvSvW8PrnztAaZ8B7N+3lx3JMm74U5JX3tvJ/rokU046Cnvztw2OYPzi/8Yqjw16qYcbgM27ahl9VDk3n1VOr7pquvfdz6w/7eOqj4xMO4J6g5GJYyHZt370gG0rYfNSqH4ruB1A2NM/NdJEny1v8eEMG7nX3nqLLzyzitKSBD+5dDx9y7rx7vZ9fGnSyMMdf7/16FKOruzB+GF9SSTs8OnHHt2KOXDoEP3Kuzd75Lpm216uvf+VIx9RoqveEiTbgMy9BsPyxxseFaXfaynTBrq1G+18/NbN7Xz0Ghj0VxxzUdD3qt9xULOOre8Xc/0Tr7B938H2HZV3wR2ezv3tOoNszVDHXBQOeLkPzvhHaor7841HXmfX+reDxHLGDJh/U5PxzEr2b6Pkvgvo9dgVlNx/ERW16zn6r//O/R98lzfe285185awd+PbDY9gyiqx6jdhzuQGd0k9um837vnQFsb+9nyO/u3nGPjAJ7h17HssXrWZc20RY397PhOeu4zK+84JNiCHDgaPcybDQ1fCX34UdOYsq4RHrmbvxre5bt4SNib7ZG0QAtC3RzdWbN7DF+56idsWrOQXC1dx2cSjGdS7lNq6JAtXbuXRV9fz7FubDzcX/9ycF1i0egdX3vPXZpuNd1gjia56N+FsDQ2Sh5o2+X70y8HOypHK9W+d7a7BqYYQfY+BSV8Pms7/4T+CwW6TBxn+h6/wqzOrqexR3PaWoS19ZielBBV32U6ZpJqd+6HgdEIySW1dkp514W0M6rI0sd35bsMVef5NcMYMin73df7PhIPU1iWpq9nQYh8sHrma/nverr/GFZZX/O5abj3TmvaDeuTqoL9Jtj4fYbP12rok319cl7FF4vdfPgjARacO5UcLVjRoCn7bsyu46NShlJYkOJSEbz26lNfW1TSZ54KThzS7ceiwFoUxuvdYTmVr4bZjdebfo733WkqX69+6pYS4Y3XTe12FO5XHLLyO608rbvtOTxfd4VGCirtszVA97bFuP70Obqe0JMHukrA/VLee2Zu8pktLZhV11cEGvrxR8/MsfbBs14aM5RV1We71k2X+VP+ooopBlJYk2FBzoMHNGt+b/jT/8NKAw+MOmpHxKKcoATPPHsXDf1tHbV2SxgdJqXtONbdx6LCR3iO4JUjBSO8u0X9U8DxbfWzvvZbS5fq3bikhtrBTeZTVtH2np4vu8ChBxV2mUyapYfQn33B4qP5t1oeZZ4/iW3/cy5rJs4MbvE35TsP3nfc9+OuchssvKQv6hJSUsbtbFbOnj6O219HBMlrog+UVgzOW7+qWudNw1nsAWdApsXzQ8YeTw4aaA3xzYS2vJsZyzfxdTD/96MNJo8jIeJRz3FG9Do/vV1qSoPHp/dQ9p5rbOLS1Y29WMbr3WCz0Gtix91pKl+vfuqWE2MJO5Tbr0/adni66w6Nm5oUg/eJoSY+gocLGJYebme+Zejv37zqZ//7Lu+zYd4CfXjqeyZU7Yee7FBcVBUO+lPSARDHs3wHzb6y/mDzlO7DkAZLjL2PD0Z9mcN9eADz31mZ2rX+Tfr6Tfd2rmNRrU9PbZxw/lf2vP96gf9Su837CP750FN8Zs65BPyg+c0fQgbOFPjLJpLN6616Wb9rF25t38+vF69ix7wA/uXQ8x/TrSfWeoL/VGxt3N2gK/v8uHMvtf1jB2m37D7fm69Oj5HCDh6BF4SgeXPwuN045MTejlLe++XDnaWaeTTIJK/43uImgHwp2SgafCqPO7ZgL/blsqt1So4xs4+u9ch/7J/+f+lvotLWBROdudKPbbXQajVbGZN+RrNm+v0n/qtr977N78woSezZT3rOCEg5SVDEwGP9s94bgXjEH34fSiib9QZr02aosI7FjVZMNQKp/VF3NRg71OIr3ex/N+weNmn21jCquprxuK4n0FkdtuI9Tc33GGr8+tHcZyzfvYlNNLQN7lzJmUO9GrfiKqDuUpLKFVnx50vkTFHSu/j4tfZf0ncqOujdTZ/r9mlKC6mqavb2HxEnXSFAi2cW/o66ZTQF+BBQBv3D37+Q5pIKVTDq/W7qJ639dfxrs+58dx3ljM5/aSk9mqT5D3YqKWtV3SEQkCrFJUGZWBNwOfAJYBywys8fd/Y38RlaYVlXvOZycIGi5dv2vl3DCgI9w3IBeDebNNLxP6nrN5yYMz+11GxGRUJxOYJ4BrHT3Ve5+APgf4MI8x1SwVm/bm7Ep9uoM/X8y3WIi1WeoNX2HRESiEKcENQR4L+35urCsATObYWaLzWxxdXV1zoIrNKUlRRmbYpeWNB0INtvoCak+Qy31HZLcUf2XriROCapV3H2Ou09w9wlVVVX5Die2+vYo4avnjGrQ4fSr54yib4+SJvNmGz0h1Weopb5Dkjuq/9KVxOYaFLAeGJb2fGhYJu0wekAFq7fubTAq99C+ZYweUNFk3kz3Y0pdg0o9tms0BRGRIxCnBLUIGGVmxxAkps8Dl+Y3pMJVXJzgvDGDGF5Z06BvUKbbUKRGTxg9c9LhPkMHDiU587h+1B1KMmXsQLXiE5Gci02CcveDZnYt8DRBM/O73X1ZnsMqaMXFCU4Z1pdThrU8b7vvVSUiEpHYJCgAd38KeCrfcYiISP4VXCMJERHpGpSgREQklgp6LD4zqwbWZnm5P7A1h+G0h2I8cnGPD1qOcau7T2nrQluo/6353HyLe3ygGDtKu9aBgk5QzTGzxe4+Id9xNEcxHrm4xwf5izHuv03c4wPF2FHaG6NO8YmISCwpQYmISCx15gQ1p+VZ8k4xHrm4xwf5izHuv03c4wPF2FHaFWOnvQYlIiKFrTMfQYmISAFTghIRkVhSghIRkVhSghIRkVhSghIRkVhSghIRkVhSghIRkVhSghIRkVhSghIRkVhSghIRkVhSgsoBM/uomT0RgzjGmdkLZrbMzF4zs89lme8KM5uV4/AiZ2b3mNnF+Y6jM1Nd7xhm1t3Mfm9mS7LF3kGfs8bM+ke1/CNVnO8AJKf2AV909xVmNhh42cyedved+Q5MpIMVel0fD+Du4/IdSD7pCKodzGyEmb1pZr8ys+Vm9pCZ9QhfO93M/mJmr5rZX82sV6P3nhHu2b0SzndCWD4mnH9JuMc3yszKzezJcFlLj3RPyt3fdvcV4fQGYAtQ1YbvPcjMng9jXGpmk8Lyc8Pv9Dcz+7WZ9TSzo81shZn1N7OEmS00s3OPJH4zm2Vmc8NlrTWzi8zsVjN73czmm1lJON+3zWxRGOMcM7MMyzrNzP5oZi+b2dNmNuhIYuusVNdzX9fN7Cjgl8Dp4ecfm62+mtlzZvYDM1sc/n9ON7OHw3huTlvmo+F7l5nZjCyf+/dp/5c7zKyovd+hw7i7/tr4B4wAHDgzfH438HWgG7AKOD0sryA4Sv0o8ER6WTj9ceA34fSPgS+E092AMuDvgDvTPrd3hlj+BViS4e+2Fr7DGcByIJHhtSuAWRnKrwe+GU4XAb0IbuX8PFAelt8IfDuc/hLw6zDGO7LE8WCW+L+YYd5ZwJ+AEuAUgr3k88LXHgGmhdOVae+5D/hUOH0PcHH4/r8AVWH554C7812v4vinup63up7+O2atr8BzwC3h9FeBDcAgoDuwDuiXvk6Ev/XStPI14fc6EfgtUBKW/zRTXLn+0ym+9nvP3f8cTv8SmAk8DWx090UA7r4LoNEOfG9grpmNIljxS8LyF4BvmtlQ4GEPTk28DnzfzG4hqKwLGwfh7t8FvtuWwMO9r/uAy9092Ya3LgLuDo9UHnX3JWZ2FnAS8Ofwe3YLvwvu/gsz+yzwZSDjqQp3b+ue8u/cvS78bYqA+WH56wQbU4CPmdkNQA+gElhGsPKlnACMBZ4JYy4CNrYxjq5EdT0/dT2lpfr6ePj4OrDM3TcCmNkqYBiwDZhpZp8J5xsGjArLU84BTgMWhZ9RRnDUmVdKUO3X+EZarb2x1r8Df3D3z5jZCII9INz9fjN7CTgfeMrMrnb3Z83sVGAqcLOZLXD3/5e+MDP7F+ALGT7neXef2bjQzCqAJwn2Dl9sZcyEMT5vZpPDGO8xs9nADuAZd78kw2f1AIaGT3sCuzPM8yDBCtjYbHe/N0P5+2EsSTOr83B3D0gCxWZWSrD3N8Hd37PgAnhp448lWJE/1Pw3lpDqen7q+uG30nx9fT98TKZNp54Xm9lHCY5gP+Tu+8zsOTKvE3Pd/V+biSPnlKDab7iZfcjdXwAuJTj19BYwyMxOd/dF4Tn5/Y3e1xtYH05fkSo0s5HAKne/zcyGAyeb2ZvAdnf/pZntJDiN0EBb9irNrBvBqbB73f2htnzZ8P1HA+vc/U4z6w6cCvwHcLuZHefuK82sHBji7m8DtwC/AtYCdwIXZIi/o1sopVa8rWbWk+CUXuPv+hZQlfr/hXvJx7v7sg6OpbNQXc9vXT/S+tob2BEmp9HAxAzzLAAeM7MfuPsWM6sEern72nbG3CHUSKL93gKuMbPlQF/gZ+5+gOD88I/N7FXgGZruqdwK/JeZvULDHYTpwFIzW0JwOH8v8AHgr2HZ/wVu5shMByYDV4QXQpeYWVtaCX0UeDWM/XPAj9y9mmDj84CZvUZwymN0eDrkdILz478CDpjZlUcYf4s8aKV1J8F59qcJTtU0nucAQeK6Jfw/LQE+HHVsBUx1PY91vQPq63yCI6nlwHeAJkeT7v4G8C3gf8Pv9gzBtay80i3f2yE8XfGEu4/NcyiRMLMrgBHuPivPoUieqa5LPukISkREYklHUNJEeCqkj7s/l+9YRKKkuh5vSlAiIhJLOsUnIiKxVNAJasqUKU7QJ0N/+ivkv3ZR/ddfJ/rLqKAT1NatW/MdgkjeqP5LZ1fQCUpERDovJSgREYklJSgREYklJSgREYklJSgREYklJSgREYmlSBOUma2x4HbcS8xscVhWaWbPWHBL4mfMrG9YbmZ2m5mttOA20KdGGZuIiMRbLo6gPubu49x9Qvj8JmCBu48iuAfJTWH5eQR3eRwFzAB+loPYREQkpvJxiu9CYG44PReYllZ+rwdeBPqEt2sWEZEuKOoE5QQ3wHrZzGaEZQPcfWM4vQkYEE4PAd5Le++6sKwBM5thZovNbHF1dXVUcYvEkuq/dCVRJ6iPuPupBKfvrjGzyekvejCUetZxmDJx9znuPsHdJ1RVVXVgqCLxp/ovXUmkCcrd14ePW4BHgDOAzalTd+HjlnD29cCwtLcPDctERKQLiixBmVm5mfVKTQPnAkuBx4HLw9kuBx4Lpx8Hvhi25psI1KSdChQRkS6mOMJlDwAeMbPU59zv7vPNbBEwz8yuAtYC08P5nwKmAiuBfcCVEcYmIiIxF1mCcvdVwCkZyrcB52Qod+CaqOIREZHCopEkREQklpSgREQklpSgREQklpSgREQklpSgREQklpSgREQklpSgREQklpSgREQklpSgREQklpSgREQklpSgREQklpSgREQklpSgREQklpSgREQklpSgREQklpSgREQklpSgREQklpSgREQklpSgREQklpSgREQklpSgREQklpSgREQkliJPUGZWZGavmNkT4fNjzOwlM1tpZg+aWbewvHv4fGX4+oioYxMRkfjKxRHUV4Hlac9vAX7g7scBO4CrwvKrgB1h+Q/C+UREpIuKNEGZ2VDgfOAX4XMDzgYeCmeZC0wLpy8MnxO+fk44v4iIdEFRH0H9ELgBSIbP+wE73f1g+HwdMCScHgK8BxC+XhPO34CZzTCzxWa2uLq6OsrYRWJH9V+6ksgSlJldAGxx95c7crnuPsfdJ7j7hKqqqo5ctEjsqf5LV1Ic4bLPBD5tZlOBUqAC+BHQx8yKw6OkocD6cP71wDBgnZkVA72BbRHGJyIiMRbZEZS7/6u7D3X3EcDngWfd/QvAH4CLw9kuBx4Lpx8PnxO+/qy7e1TxiYhIvOWjH9SNwHVmtpLgGtNdYfldQL+w/DrgpjzEJiIiMRHlKb7D3P054LlwehVwRoZ5aoHP5iIeERGJP40kISIisaQEJSIisaQEJSIisaQEJSIisaQEJSIisaQEJSIisaQEJSIisaQEJSIisaQEJSIisaQEJSIisaQEJSIisaQEJSIisaQEJSIisaQEJSIisaQEJSIisaQEJSIisaQEJSIisaQEJSIisaQEJSIisaQEJSIisaQEJSIisaQEJSIisRRZgjKzUjP7q5m9ambLzOzfwvJjzOwlM1tpZg+aWbewvHv4fGX4+oioYhMRkfiL8gjqfeBsdz8FGAdMMbOJwC3AD9z9OGAHcFU4/1XAjrD8B+F8IiLSRUWWoDywJ3xaEv45cDbwUFg+F5gWTl8YPid8/Rwzs6jiExGReIv0GpSZFZnZEmAL8AzwDrDT3Q+Gs6wDhoTTQ4D3AMLXa4B+GZY5w8wWm9ni6urqKMMXiR3Vf+lKIk1Q7n7I3ccBQ4EzgNEdsMw57j7B3SdUVVUdcYwihUT1X7qSnLTic/edwB+ADwF9zKw4fGkosD6cXg8MAwhf7w1sy0V8IiISP1G24qsysz7hdBnwCWA5QaK6OJztcuCxcPrx8Dnh68+6u0cVn4iIxFtxy7O02yBgrpkVESTCee7+hJm9AfyPmd0MvALcFc5/F3Cfma0EtgOfjzA2ERGJucgSlLu/BozPUL6K4HpU4/Ja4LNRxSMiIoVFI0mIiEgstSpBmVmZmZ0QdTAiIiIpLSYoM/sUsASYHz4fZ2aPRx2YiIh0ba05gppFcM1oJ4C7LwGOiTAmERGRViWoOnevaVSm5t8iIhKp1rTiW2ZmlwJFZjYKmAn8JdqwRESkq2vNEdRXgDEEo5PfTzBG3teiDEpERKTZI6iwk+2T7v4x4Ju5CUlERKSFIyh3PwQkzax3juIREREBWncNag/wupk9A+xNFbr7zMiiEhGRLq81Cerh8E9ERCRnWkxQ7j63pXlEREQ6WosJKmxa/l/ASUBpqtzdR0YYl4iIdHGtaWb+38DPgIPAx4B7gV9GGZSIiEhrElSZuy8AzN3Xuvss4PxowxIRka6uNY0k3jezBLDCzK4luDV7z2jDEhGRri7rEZSZ3RdOPgr0IBji6DTgMupvzS4iIhKJ5o6gTjOzwcAXgDuBfcD1OYlKRES6vOYS1M+BBcBI4GXACEYxTz2qFZ+IiEQm6yk+d7/N3U8E7nb3ke5+TPpjDmMUEZEuqMVWfO7+T7kIREREJF1rmpmLiIjkXGQJysyGmdkfzOwNM1tmZl8NyyvN7BkzWxE+9g3LzcxuM7OVZvaamZ0aVWwiIhJ/UR5BHQSud/eTgInANWZ2EnATsMDdRxE0wrgpnP88YFT4N4Ng9AoREemiIktQ7r7R3f8WTu8GlgNDgAuB1AC0c4Fp4fSFwL0eeBHoY2aDoopPRETiLSfXoMxsBDAeeAkY4O4bw5c2AQPC6SHAe2lvWxeWiYhIFxR5gjKznsBvgK+5+67019zdCfpUtWV5M8xssZktrq6u7sBIReJP9V+6kkgTlJmVECSnX7l76qaHm1On7sLHLWH5emBY2tuHhmUNuPscd5/g7hOqqqqiC14khlT/pSuJshWfAXcBy919dtpLj1M/lt/lwGNp5V8MW/NNBGrSTgWKiEgX05rRzNvrTIKBZV83syVh2TeA7wDzzOwqYC0wPXztKWAqsJJg3L8rI4xNRERiLrIE5e5/Ihi3L5NzMszvwDVRxSMiIoVFI0mIiEgsKUGJiEgsKUGJiEgsKUGJiEgsKUGJiEgsKUGJiEgsKUGJiEgsKUGJiEgsKUGJiEgsKUGJiEgsKUGJiEgsKUGJiEgsKUGJiEgsKUGJiEgsKUGJiEgsKUGJiEgsKUGJiEgsKUGJiEgsKUGJiEgsKUGJiEgsKUGJiEgsKUGJiEgsRZagzOxuM9tiZkvTyirN7BkzWxE+9g3LFr75xAAAIABJREFUzcxuM7OVZvaamZ0aVVwiIlIYojyCugeY0qjsJmCBu48CFoTPAc4DRoV/M4CfRRiXiIgUgMgSlLs/D2xvVHwhMDecngtMSyu/1wMvAn3MbFBUsYmISPzl+hrUAHffGE5vAgaE00OA99LmWxeWiYhIF5W3RhLu7oC39X1mNsPMFpvZ4urq6ggiE4kv1X/pSnKdoDanTt2Fj1vC8vXAsLT5hoZlTbj7HHef4O4TqqqqIg1WJG5U/6UryXWCehy4PJy+HHgsrfyLYWu+iUBN2qlAERHpgoqjWrCZPQB8FOhvZuuA/wt8B5hnZlcBa4Hp4exPAVOBlcA+4Mqo4hIRkcIQWYJy90uyvHROhnkduCaqWEREpPBElqCkXjLprNm2l827ahlQUcqIfuUkEsbBg0mWbaxhY00tg3qXMWZQBcXFiazzH+nniYgUEiWoiCWTzvxlm7hu3hJq65KUliSYPX0cHz/hKB5/fQPfenTp4fKbp43l0x8YzO/f2tJk/iljBrYqyWT7vNa+X0QkLjQWX8TWbNt7OFkA1NYluW7eEl7bUHM4OaXKv/XoUl7bUJNx/jXb9h7R57X2/SKxkEzC1hWwemHwmEzmO6K2KfT4Y0JHUBHbvKv2cLJIqa1LsqmN5Vt21zKyqme7P6+17xfJu2QS3vwtPHI11O2HkjL4zB0w+lOQKIB96kKPP0b0a0VsQEUppSUNf+bSkgQDs5QPylJ+VK/SI/q81r5fJO+2v1O/cYfg8ZGrg/JCUOjxx4gSVMRG9Ctn9vRxh5NG6prQyYN7c/O0sQ3Kb542lg8M7p1x/hH9yo/o81r7fpG8272pfuOeUrcf9mzKTzxtVejxx4hO8UUskTCmjBnI6JmT2LK7lqN61beqm3bKEEYd1ZNNNbUM7F3KmEG9KS5OZJ3/SD9PpCD0GhicFkvfyJeUQc+B+YupLQo9/hixoAtSYZowYYIvXrw432GIHKl27T102vpf6NdwCj3+/Mi4DugISkTiJZEINuZXnxScFus5ECqPLZyNe6HHHyNKUCISP4kE9B8V/BWiQo8/JpSgYkwjQkiHSiaDlmS7NwXXSeKyVx/XuCTvOm+COnQQNr0KNRug9xAYeDIUtfLrRrTCtCXhtGdEiK6U0LrSd+0Q6ddFyiph/N9D1WgYMBb6HZe/hBDX6zVKmrHQORPUoYPw2oPw1PX1lX7q9+Hkz7WcpCJaYdqacLKNCDF65iRG9CtvsnEGuswQRxrOqR1SfXPKKuH0L8Hzt9bX74vvgcqRsGdz7jfG2foMXX1S+06PdURiiWvS7II656+96dX65ATB41PXB+UtiaiTXVuHIMo2IsT2ve8zf9kmpt62kEvufImpty1k/rJNvLs98/IXrdnOquo9JJOF21qzMQ3n1A6pvjmnXFKfnCBIWNXLYc5kmHsB3DEp2Di3ZWieIxnWp6U+Q21Zdiqx3DGp6Xdpy3LU0TY2OucRVM2GzJV+1wYYclrz721uhTmCC55tHYIoNSJE+ntKSxKUFCUybpzvunxCxuUvXLmVXyxc1eQIo62nyFLzb9v7Pt2KEuw7cChvp9Y0nFM7pPrmGA3r9ymXwB9vaboxvmwguEN5v+aPQo70aCNbn6HyAVD9NmxeCtVvwSv3wf7tzS97+zvw+1kw8Zr6Rsu/nwUVQ2Hn2tYvpy3bAJ0KjFTnTFAVQzJX+h79YO2Lza90HdDJLtPGP1vCyTYE0Yh+5fzk0vG8tq6GpEORwQeG9mb73gMZN84ba2oPL39w725cf1oxg4pqqBywl4d7FHPdvCX0u/IM+vfsTnERvLx2J9945HX69ujGZycM5bijejJmYAVH9yvn3R37Mp4+vGX+cj43YTi3Pbvi8Km1//zMBzh1eB+G9unR5H1tSVzZbj2SSVt/yy4vmQySzYU/BSw4nTfmomAjftSY4Ciqbn39/HX74Z0FUFwabNA/Pqv5pNDSKbrDG/GNUNQN9tdAz6rgunDfY4LT7+mn48+fHcz/0JX118s+9s0gCfx+Frsrjqd84HEkNr8W7IyW94e6WvBDMP6yhqcvJ98A21fB1jfBiuHMr8Gffxgkrt5D4cC+pokl2zagpEdwBNZrIMm+I3lvxz6OWvcMZU/+c8vJuTWJTMmuic6ZoHr0hSnfgfk3Nayoj10TVODmVrrKY4NK1niPsPLYVn10tusj5544gNnTxzUpb24IogMHnTnPr2pwO46tu9/PuHEu71bMV88ZxbxFa7n7g5s5ZuF1h+N/6KM/ZGmfs9hYU0v1nvfp1b3ocHK6bOLRhxPO0f3K+MrZoxrcAmT29HGcNKgX181bwlUfGXl4XggS4zceef3/b+/O46Oo78ePv96bbLK5DwhJCASIolyCKCoqooJVwAN7eNejtT9sv1C03rb9tvb49lDUemCrVetRRVEpXqi1oBUvBAUERA6Rm4SQQO5jk/38/pjZzW6ymwTIJpPk/Xw88tid2dmZz04+n3nP55gZbjxrKJnJ8S2+194+oYYGHwtX72rx6JELx+SFDVL+2zkdzL7stZrXcAaOhwk3wpu3NOXv02+DT/8O5XaQcieAr9E60I+f2XqfUFu1jXA1rIm3wtvPwGk3w6BTYOmcplqPAar2wRs3hu8vm3grO/YUcvTez+DNm5vmT70LMoeENl96a6zp6Q/D+3OafuupN0B9JTx5bvjAEu4YMO0eePlHVrBzJ1AzbS5flWcx6IP/abv/rD21TO33Cqtn3knim6Xw4QNwyk+tqn1cEqyaB7mjwRVjjV5a8ju4fH74Quc/kzmEi+y2FFcy7YGlLQLIoqDBDe25BVGk9Vw/eSjGEFKLmT1pKC4XPPXRNv5+bjqjXju3xdnfwpOe54b/VOFxu/jt9FHc985GvnPcAB7/YEtgGzPPPDJk2r/Np35wIpc8+gmzJh3JQ0s2t0jrg5eN5ZaXVof9ze1pclu9Yz+XPPpJi++/MGM8YwZmhP2Ov5baQ27nFL07SezbZPXF+PPDaTfDJ3Nb1g5OmW019fkDyPLHrIA18Wbr4H7N6zD4tNB1+3ywZyVsfNuqvayaZ33HnQDXLbXKVvPt+7c3fqaVjitehienha7Xv80IafVe9jLued9tuc7pD1u1rubO/CW8+/um5S55Fl64ouX3/Wn2/zZ/bSbGDQt/YgWnoOWLpjxK9mtXttxe830VaR8Eb689y/RsvehOEqn9YchEmHdx6BnWB/cFzoCYeCtUlwBh/vmHcZFdW/0j/r9wgpsGa7yNYddTVd/I+xv2ctf3xlBT30BOmod73t7AxKP7sb+6ngNF25syeWqe1ccgcHKW1fS3u6yeX72ylhkTC/AZQrYhQthtVtc3hNx8tnkgqa5rCMzLTfPwneMGIALFlXURA0fwb23wGTIS49hTVhuy3cKyWsYMjPy97FQPJw7u050DU/Q1r+E074PCns462qpd+BqbgpM7warRhGvijlQz8rdO+FscItWw/Omo2hfanJaaBzljwveX2d91Ve8Nv876yvBNcw21octVl7avj0lc1n4o3RIanPzLxyWHNpcCrF3Qcl+1p08r0jKl3/Tqpr6eGaB8jfDe/4VWvd+81TojW/K7pqr/NW90+KazUz0M6pPAeaPzEDvTvrZ6FzEiLFm/h2MSSoitKsKk5JCcfRQ7y+soKrdqAZX1ddTWQ3mtl4zEOH4+dRjldQ28/NlO9pTVMqhPAicOzmBoVhIugf3V9ew+UMNF4wYiGOZ87xjyXVutA01MPMSnwH9+Bd4ast1zeX/afezLGMO7RQkkeeJwiTCoTwLbSpoKxrhBaVx1SgE1dQ0kxsfy1EdbyM9M4uHLx1K/dxPvfDuGz0oTuWt5PaXVDcyeNJR9VVazY/Mmw8eWbgnbR5UUH0tReS1rdjX1r/3k9AL++t8tgSDlcbvITfOEBKR+KR6+Kalk1nMrWzYlYtpsv29rYEiPvLYqUn9K8+n92yF9UGhfkD/ghGviDtf35C9TuWOtfd/YYNU+wm3PH/hScuC8v8DrN1hNeif+P/jPr61tN9SF/W5MpN8Qnw7n/AHe/nnL5sv+x8HJs8BbDWn9rcDSrEZUEduXtV/vo39aPPklHyDeGmuZrGFhA9G6yiQyTr2JuLeCmhqn3WP1qzX/HwwcDyfOAG+VFdiWPRIayCL9n3atwHir2Z49md1ldT0nX7ZTzwxQ+78JfzaS3C90ur66wzedn5HYoh/ntxeM4vGlm7lt8NdkBfUNVUx9iGsXZ/BNSa293Ejmr9jOpGE5PLBkVUgT3pKvCrloXD4znvksZP7CVbu49IR8spJiOa3hE9LemhVaOP0d4N4aYhf9jJxTZnNy7GAuX5JFaXUDv7lgJA+/t5ltJTVsLDzAxeMGcavdXOdvDsxLjSN314ckfjATvDUMdCdw1tSHeK5iDP/4aBtxscLvLxzF9tLqdvdR/fr8kbyyahfbSmoCTZc/OGUQf3hzQ2A6NcHdoj/v+slDA7Ut/wjGkddPYNDeJa2237d17VSPvbaqeX/K2gUtByWc9xcYcIIVoAaeaAX5uERo9MLw88OfwUc64/dWNwWnL16Az58O3x+88hmYOgfe+RWU7bCaGAee1NT0tvwxOGEGnPNHePuO0Dz90QPWOoL7pqb8CRb/2gpqp8yGjEGQ0AfqyiFtIBx7Gbw6M6hF5W744N5Ai4qZeje3LznAG19u4ZFp6QxyfdU0ujFMv51v6hxi6nxNwcn/+xfdZO3D4JpY+iCr7ztk+3Os+ZH+T0FNrVJTysqgJvoekS/bqWf2QW39EJ4N10Y9F176YdN0FNp3I/UdvXRRv7B9Qy+fMI+bllQHlrvre2MCASL4+49ceTzX2cEpeP61Ewp4/IMtvHtNHrnPnx2+rX/pnKZ5E2+Gj+cGtuvf5ua9FUw4si9XPfFpi218cO1A+j57Vot1l35/MRsbs+mX4iE/I5H3Nxfzwydb/j8i9VFdO6GAue9uDkw/fPlxfL7jAMbAgs938pdLjuXqf7RMT/D3AJZfl0/Wc99qtf2+tb7BgqzkNj+Psujezbx5n2rGEOsk7nBuZNpWn8muz6xBCONnwroFVu0jPgWyj7GGeaflwX9+Azs+afr+6bdZQSFYah6c/Tso3oAv/2Rcr8y0mt2Cmq/JPwUW3dyiRsSFj1pB67z7m5r7gz+/+FnY8ZFVm1u3gG1nPMDpz5Wz7HIP2a8F9VFF7At7EffT57XcN837oPz7ovn2r3kj9LIXnw+2fwRb3rXStHpeYODK0lOf4srFbqBT82Vncn4flIhMAe4HYoDHjDF/OqQVpeQ0ZfbgM6+yoFFKBzEy72BE6oNK8RaHPePsJ2WAO7BcTVB/TvD3Cw+EX6+/3yg2Urt88L/d37QStN1ar4+NRRU8tGQzQ/ulhN2GiXC27KoqYvyIkYFZg/sktdlH1TztwdPFFXWBQRget4uq+ra/53G7SPKWtNnG31bfYI++tipcn+rh3si0rdGu/msRBStwBJ8kAVzyz9DgBNZAi+bNXDWl1vVLsZ6mabAO3EvtkXkDTgjfR1R3wJpfGaG2V7HLGoxhS/UWA/FWM1w7+u3cDTXtuySlvddlulyQnA0ftwyGe00aYJ3I9ph82Q6O6XkTkRhgLjAVGAFcJiIjDmllGUMga7hV1Z94s/WaNQyGnWud3Vy3NGrDNyM9cr3CnWVl3mCBjNe0XGJ8bNjvR5pvjPVa7+kXdv1ITNP7ibdaZ2VB2w1eR3ZqfNhtSGpu2HXHpOaGzAr3NN/gPqpwaQ+eLq2uD7y/9+JjGZSZFPZ7/pYN/3KejLzwvz3oQBHp/+K/dqqtz1UzgUdKLA1fptKC/ifh/jep/VvOX7sALngw9Hvn/AFiE2HlMzTGZ1gnmsGf+wd2hNuGO6np+sdInwdNl7uzAPi8Ij388s2nMwZbQTk4PeFOfNMi5M/U/rTgD/xB69w68V7u+awhsEhvypeOaeITkZOBO40x59jTdwAYY/4Y6TutNnEcxlDxwxGuL+O3F4zixRVbuWvkjpDrkyqmPsQFIX1Qo5i/YpvdBxU6jHzJV4V897h8fvP6upD5L6zYzqwzh7L4y938acQO0t9u6oPyTbsHV32VNcz+wDZY+U+oKWXrxHu5/IOswCCHF1ZsZ+aZQzl/ZA5vfFnY4nqkC0bl4P3yVZIWNbWhV02bS8LoC3HFxLT4/d/sq2J9YTkbiyp4ccVO4mKlRb/cr88fyd/+uznQB3XPRccysn8KheVNw8Yh/P0FR+SGLufCtHkNicP7oHreAwv9fVBL57S8ePbbj8DR58KGN1r+z44+F1/pFnx71hBbsiGQZ6unzcVzzAW4vl4Muz+3alsSA4l9Ye3L1sW8wdd2TfmTNez9qHNg52dw9JTQz6feba17xyeBPqXLluWzbFsFQ/p4eOOsAyT683tmgdXMF9xv589f0PZx5mDvDRp07PIl5fDevhT+J9zAoJ7VBxX2xzgpQH0PmGKM+ZE9fSVwkjFmVqTvOLWANr9Gp3+Kh7WF5ZTX1HFMQgkxVXshOZvkHGsUn3+5nOQ41hZWsL/aS0aim8o6L8nxbsprvaR53MS4BJ+BA9X1pCW4qajzkuqJwx0j1DX4qK33Mjx+H+7qvXgT+zHrzVIuPqKRI5LqGdQvjarKchIy+lORmM/u8nrcMcKBGmvE4Oj+acTFxQTu6ND8MfS+xkaq9myksXwPMam5JOUe1SI4tbYP8jOaRvElxsVgjEFE2rxlUruvd2rHCUlb6+rCa6t6XoCCpicKVO0DTxo01kNKbtP/ppX/WcT8FnxXClcs1B4AT7r1V1cOVcWQlGXdNUIE6iqsIJA2AKpKoGK3VXPpNxL2rrOa2VL748sezdb9TWVxcGYCrv1bOq7fzr8v7O2RM6bdT1foYdf8RdIzApSIzABmAOTn5x+/bdu2Tk9rd/Da6t38dN7KFvMfvGws548J07SgulK7jzaa/1UPFbYMOKYPCtgFBF+WOcCeF8IY86gxZpwxZlxWVlanJa67idSflJ0a30UpUh1B87/qTZwUoJYDQ0VkiIjEAZcCr3ZxmrqtUTkp/PaCUSEDFn57wShG5aR0ccqUUqp9HDPM3BjTICKzgLexhpk/YYxZ18XJ6rYSE+I4b1Q2g/smUlReR3ZqPKNyUkhMiOvqpCmlVLs4JkABGGMWAYu6Oh09RWJCHCcO6dPVyVBKqUPipCY+pZRSKkADlFJKKUfSAKWUUsqRHHMd1KEQkWIg0oUgfYF9nZicQ6FpPHxOTx+0ncZ9xpgpB7vSNvJ/e7bb1ZyePtA0dpRDKgPdOkC1RkRWGGPGdXU6WqNpPHxOTx90XRqdvm+cnj7QNHaUQ02jNvEppZRyJA1QSimlHKknB6hHuzoB7aBpPHxOTx90XRqdvm+cnj7QNHaUQ0pjj+2DUkop1b315BqUUkqpbkwDlFJKKUfSAKWUUsqRNEAppZRyJA1QSimlHEkDlFJKKUfSAKWUUsqRNEAppZRyJA1QSimlHEkDVCcQkTNE5HUHpGOQiHwuIqtEZJ2I/DjCcneKyDWdnLyoE5H3RMTRd33uCTS/dwwRyRKRZSKyUkROi+J2KqO17sMV29UJUJ1qD3CyMaZORJKBtSLyqjFmd1cnTKko6O75fTKwxhjzo65OSFfRGtQhEJHBIvKViDwrIutF5CURSbQ/O0FEPhKR1SLyqYikNPvuiSLysX1W9JGIHG3PH2kvv0pEvhCRoSKSJCJv2OtaKyKXHE66jTH1xpg6ezKeg/z/h0ujPf/7QfMfEZEYez98ISIe+3esE5FRh5N+EXlSRP4qIp+IyBb7TP0J+3/wZNByfxWRFfY2fxNhXWfb/4fPReRF+wCmwtD83vn5XUSOBe4CptvbSYiUZ0Vkq4j80V5uhYgcJyJvi8jX/lqjiCSLyGL7u2tEZHqE7d4iIsvt3xK27HQqY4z+HeQfMBgwwKn29BPAzUAcsAU4wZ6filVLPQN4PXie/f4s4GX7/YPAFfb7OCAB+C7w96DtpoVJyy3AqjB/D0RI+0DgC6AamBlhmTuBa8LMD5fG4cBrgNue/zBwlf3+98AcYC5wR4RtLY2Q/rPCLPsk8DwgwHSgHDgG68DzGXCsvVym/RoDvAeMtqffA8ZhPd3zfSDJnn8b8KuuzldO/dP83mX5/RrgIft9xDwLbAV+Yr+/z/69KUAWUGTPjwVSg9a1maabhVfar2dj3XVcsMrU68DErsx72sR36HYYYz603/8TmA28DewxxiwHMMaUA4hI8PfSgKfsszEDuO35HwO/EJEBwAJjzCYRWQPcIyJ/xirwS5snwhhzN3B3exNtjNkBjBaR/sBCEXnJGFPUzq+HS+Nk4Hhguf07E4C99vK/BZYDtVj7J1x6DrZt/TVjjLH3TZExZg2AiKzDOpCuAi4WkRlYhTIXGIFVaP3G2/M+tNMcZ/82FZnm967J735t5dlX7dc1QLIxpgKoEJE6EUkHqoA/iMhEwAfkAdlAYdA6zrb/VtrTycBQrMDYJTRAHbrmzylp73NLfge8a4z5togMxjqrxxjznIgsA84FFonIdcaYJSJyHDAN+L2ILDbG/DZ4ZSJyC3BFmO28b4wJW0js7e0WkbXAacBL7Ul4uDRinW09ZYy5I8xX+mBlcjfgwSokIURkKdbZXnM3G2P+E2a+v8nGF/TePx0rIkOwzu5PMMbst5v+PM03C7xjjLks/C9VYWh+75r8HvgqrefZVssF1j7LAo43xnhFZCvhy8UfjTGPtJKOTqUB6tDli8jJxpiPgcuBD4ANQK6InGCMWW63x9c0+14asMt+f41/pogUAFuMMQ+ISD7WWd9XQKkx5p8icgBo0Vl6MGeU9plgiTGmRkQygAlYTQLtEi6NwL+BV0TkPmPMXhHJBFKMMduAR4D/BYYAfwZmhUl/R49OSsU6MJSJSDYwFfugGOQTYK6IHGmM2SwiSUCeMWZjB6elJ9H83rX5/XDzbBqw1w5OZwKDwizzNvA7EXnWGFMpInmA1xizN8yynUID1KHbAMwUkSeAL4G/GmPqxerYfVBEErAK61nNvncXVpPHL4E3guZfDFwpIl6savcfgBOAu0XEB3iBnxxmmodjNaEYrLOlOf4msnZqkUZjTKn9W/4tIi47nTNF5HSszP2ciMQAH4nIJGPMksP8Da0yxqwWkZXAV8AO4MMwyxSLNax4nojE27N/CWiAikzzexfm9w7Is88Cr9nNqCuwykfzbfxbRIYDH9vNiJXA92lqwux0+kTdQ2A3VbxujDmsUWlOJSJ3AluNMU92cVKUA2h+V11Fh5krpZRyJK1BqRZE5AzggDFmVVenRalo0/zuXBqglFJKOZI28SmllHKkbh2gpkyZYrCux9A//evOf4dE87/+9aC/sLp1gNq3b19XJ0GpLqP5X/V03TpAKaWU6rk0QCmllHIkDVBKKaUcSQOUUkopR9IApZRSypE0QCmllHKkqAYosR5FvEbsRxHb8zJF5B0R2WS/ZtjzRUQeEJHNYj1u+Lhopk0ppZSzdUYN6kxjzLHGmHH29O3AYmPMUGCxPQ3Wc3uG2n8zgL92QtqUUko5VFc08U0HnrLfPwVcGDT/aWP5BEgXkdwuSJ9SSikHiHaAMlgP9vpMRGbY87KNMXvs94VAtv0+D+sBc3477XlKKaV6oWg/UXeCMWaXiPQD3rEf6RxgjDH20y7bzQ50MwDy8/M7LqVKdQOa/1VvEtUalDFml/26F/gXcCJQ5G+6s1/9jxPeBQwM+voAe17zdT5qjBlnjBmXlZUVzeQr5Tia/1VvErUAJSJJIpLifw+cDawFXgWuthe7GnjFfv8qcJU9mm88UBbUFKiUUqqXiWYTXzbwLxHxb+c5Y8xbIrIcmC8i1wLbgIvt5RcB04DNQDXwgyimTSmllMNFLUAZY7YAY8LMLwEmh5lvgJnRSo9SSqnuRe8koZRSypE0QCmllHIkDVBKKaUcSQOUUkopR9IApZRSypE0QCmllHIkDVBKKaUcSQOUUkopR9IApZRSypE0QCmllHIkDVBKKaUcSQOUUkopR9IApZRSypE0QCmllHIkDVBKKaUcSQOUUkopR9IApZRSypE0QCmllHIkDVBKKaUcSQOUUkopR9IApZRSypE0QCmllHKkqAcoEYkRkZUi8ro9PURElonIZhF5QUTi7Pnx9vRm+/PB0U6bUkop5+qMGtT1wPqg6T8D9xljjgT2A9fa868F9tvz77OXU0op1UtFNUCJyADgXOAxe1qAScBL9iJPARfa76fb09ifT7aXV0op1QtFuwb1F+BWwGdP9wEOGGMa7OmdQJ79Pg/YAWB/XmYvr5RSqheKWoASkfOAvcaYzzp4vTNEZIWIrCguLu7IVSvleJr/VW8SzRrUqcAFIrIVeB6rae9+IF1EYu1lBgC77Pe7gIEA9udpQEnzlRpjHjXGjDPGjMvKyopi8pVyHs3/qjeJWoAyxtxhjBlgjBkMXAosMcZcAbwLfM9e7GrgFfv9q/Y09udLjDEmWulTSinlbF1xHdRtwI0ishmrj+lxe/7jQB97/o3A7V2QNqWUUg4R2/Yih88Y8x7wnv1+C3BimGVqgYs6Iz1KKaWcT+8koZRSypE0QCmllHIkDVBKKaUcSQOUUkopR9IApZRSypE0QCmllHIkDVBKKaUcSQOUUkopR9IApZRSypE0QCmllHIkDVBKKaUcSQOUUkopR9IApZRSypE0QCmllHIkDVBKKaUcSQOUUkopR9IApZRSypE0QCmllHIkDVBKKaUcSQOUUkopR9IApZRSypE0QCmllHIkDVBKKaUcKWoBSkQ8IvKpiKwWkXUi8ht7/hARWSYim0XkBRGJs+fH29Ob7c8HRyttSimlnC+aNag6YJIxZgxwLDBFRMYDfwbuM8YcCewHrrWXvxbYb8+/z15OKaVULxW1AGUslfak2/4zwCTgJXv+U8CF9vvp9jRa9FypAAAgAElEQVT255NFRKKVPqWUUs4W1T4oEYkRkVXAXuAd4GvggDGmwV5kJ5Bnv88DdgDYn5cBfcKsc4aIrBCRFcXFxdFMvlKOo/lf9SZRDVDGmEZjzLHAAOBEYFgHrPNRY8w4Y8y4rKysw06jUt2J5n/Vm3TKKD5jzAHgXeBkIF1EYu2PBgC77Pe7gIEA9udpQElnpE8ppZTzRHMUX5aIpNvvE4BvAeuxAtX37MWuBl6x379qT2N/vsQYY6KVPqWUUs4W2/YihywXeEpEYrAC4XxjzOsi8iXwvIj8HlgJPG4v/zjwjIhsBkqBS6OYNqWUUg4XtQBljPkCGBtm/has/qjm82uBi6KVHqWUUt1Lu5r4RCRBRI6OdmKUUkopvzYDlIicD6wC3rKnjxWRV6OdMKWUUr1be2pQd2I1yR0AMMasAoZEMU1KKaVUuwKU1xhT1myejq5TSikVVe0ZJLFORC4HYkRkKDAb+Ci6yVJKKdXbtacG9VNgJNbNX5/DugXRDdFMlFJKKdVqDcq+hukNY8yZwC86J0lKKaVUGzUoY0wj4BORtE5Kj1JKKQW0rw+qElgjIu8AVf6ZxpjZUUuVUkqpXq89AWqB/aeUUkp1mjYDlDHmqbaWUUoppTpamwHKHlr+R2AE4PHPN8YURDFdSimlern2DDP/B/BXoAE4E3ga+Gc0E6WUUkq1J0AlGGMWA2KM2WaMuRM4N7rJUkop1du1Z5BEnYi4gE0iMgvrybfJ0U2WUkqp3i5iDUpEnrHfLgQSsW5xdDxwJU1PvlVKKaWiorUa1PEi0h+4Avg7UA3c1CmpUkop1eu1FqD+BiwGCoDPAMG6i7n/VUfxKaWUipqITXzGmAeMMcOBJ4wxBcaYIcGvnZhGpZRSvVCbo/iMMT/pjIQopZRSwdozzFwppZTqdBqglFJKOVLUApSIDBSRd0XkSxFZJyLX2/MzReQdEdlkv2bY80VEHhCRzSLyhYgcF620KaWUcr5o1qAagJuMMSOA8cBMERkB3A4sNsYMxRoleLu9/FRgqP03A+v2SkoppXqpqAUoY8weY8zn9vsKYD2QB0wH/HdIfwq40H4/HXjaWD4B0kUkN1rpU0op5Wyd0gclIoOBscAyINsYs8f+qBDItt/nATuCvrbTntd8XTNEZIWIrCguLo5ampVyIs3/qjeJeoASkWTgZeAGY0x58GfGGIN10W+7GWMeNcaMM8aMy8rK6sCUKuV8mv9VbxLVACUibqzg9Kwxxv9U3iJ/0539uteevwsYGPT1AfY8pZRSvVA0R/EJ8Diw3hhzb9BHr9J0s9mrgVeC5l9lj+YbD5QFNQUqpZTqZdrzuI1DdSrWnc/XiMgqe97PgT8B80XkWmAbcLH92SJgGrAZ68a0P4hi2pRSSjlc1AKUMeYDrBvLhjM5zPIGmBmt9CillOpe9E4SSimlHEkDlFJKKUfSAKWUUsqRNEAppZRyJA1QSimlHEkDlFJKKUfSAKWUUsqRNEAppZRyJA1QSimlHEkDlFJKKUfSAKWUUsqRNEAppZRyJA1QSimlHEkDlFJKKUfSAKWUUsqRNEAppZRyJA1QSimlHEkDlFJKKUfSAKWUUsqRNEAppZRyJA1QSimlHEkDlFJKKUeKWoASkSdEZK+IrA2alyki74jIJvs1w54vIvKAiGwWkS9E5LhopUsppVT3EM0a1JPAlGbzbgcWG2OGAovtaYCpwFD7bwbw1yimSymlVDcQtQBljHkfKG02ezrwlP3+KeDCoPlPG8snQLqI5EYrbUoppZyvs/ugso0xe+z3hUC2/T4P2BG03E57XgsiMkNEVojIiuLi4uilVCkH0vyvepMuGyRhjDGAOYTvPWqMGWeMGZeVlRWFlCnlXJr/VW/S2QGqyN90Z7/utefvAgYGLTfAnqeUUqqX6uwA9Spwtf3+auCVoPlX2aP5xgNlQU2BSimleqHYaK1YROYBZwB9RWQn8GvgT8B8EbkW2AZcbC++CJgGbAaqgR9EK11KKaW6h6gFKGPMZRE+mhxmWQPMjFZalFJKdT9RC1DdSW1tA2v2lFFYXkdOajzH5Kbh8eiuUb1HfX0jX+wuo7C8ltxUD8f0TyMuLqark6V6uV5/FK6tbeDVNXv41atrqfX68Lhd/PaCUVxwTK4GKdUr1Nc3svCL3fzqlaAyMH0UF47ur0FKdalefy++NXvKAsEJoNbr41evrmXNnrIuTplSneOL3WWB4AR2GXhlLV/s1jKgulavD1CF5XWBgulX6/VRVF7XRSlSqnMVltdGKAO1XZQipSy9vg0rJzUej9sVUkA9bhfZqfFdmKpmfD4o/RoqCiElB19GAVtLaygqryU71cPgPkm4XNK0fGMDFK7GV14IiZk01pRjEvsS2380rlh31/0O5Ui5qZ4IZcDThalSSgMUx+Sm8dsLRrXogzomN62rk2bx+eCr1+Bf14G3BtwJ1Eyby7X/Seebklo8bhf3XnwsU0bmWEGqsQG+eAEW3YTLXt418VZY+Qy+CTfhG32JBikV4pj+afx2+qgWfVCj+zukDKheS6wR3t3TuHHjzIoVKw57Pf5RfEXldWQ7bRTfvk3wyGlWcPJzJ/DyCfO4aUk1YJ3tLpp9GgVZybDrM3jy3BbLM34mfDKX+itfJy5/XCf/CNUGaXuRljoq/0PTKD5/rXy0juJTnStsGXDIUbjj+XyGrSVVkZvBgng8sZwwpE+b68jPSGT7/uoW6zyYbR20isLQYAPgraGflAFWTajW62NvRa0VoMp2h10esV6lfHfHpEv1KHFxMYwbnNkh64pqeehiPfm3OVGPDFA+n+GtdYXcOH9VoMkipBnsENfx+wtH8eCSTWwrqQms8+zh2fx7fdFhbatVKTlWDahZjWivScO66YZVg+qXYvcXpOWFXR5jvZrU/oefJqUi6Iiy51Q9+bc5VY8cxbe1pCqQicCqYdw4fxVbS6oOax2/XLiW80bnhaxz3Z6yw95WqzKPgG8/YgUZAHcCVdPm8tBqa3v+QjK4T5L1ec5omHZPyPJMvBXWLcA3dQ6x/cd0TLqUCqMjyp5T9eTf5lQ9sgZVFDRsNjfNw3eOG4AIFFfWtVolD66+13gbww69FQmd3lNWS0ZiXGAbAC9/tpNtHdUM4HLBsPPhuhFQWQjJOSRkFPD4gBr2VtTSL6XZ+mNiYfQl0G8Yvooi8KTTWFeBufDvxPYfowMkVFQVRRiyHmiC7mbac0zorr+tO+iRAapfijVsNiMxjivHD+KBJZuo9fp4bOmWiFXy5tX36ycfGXbobfCYEo/bxYCMBK46eRD3L94UqPZfP3kom4oq+MObGzqmGcDlgr5DrT+sam9BVnLkQhETC3nHB6rHPbKarKLuUPpbsiMMWQ80QR/m+jtTe48J3fG3dRc9MkDFuOD6yUOp8TYGglP/tDhuOj6WfiXLObDzCL7xZZOR1JRxmlff56/YyY3fOop739nYog8KmprWPLExgeAE1hnV/Ys3MevMIwPTN85fxdE/PY0j+jn/LEsLVs8T8X9qX1/nqyikyt2XjQ1ZgTIBsGRDEV/sLMNnIEbguEHpDEhPYm9F5LwxuE8S9158bIt+mkATdFCaHNWfE2ZfxMbEtDgmXD95aMjJaLf4bd1YjwxQe8pqefrjbdwweWggOD17ajFDlt5oDR74MIGy0+7lh8uyufmcEUwdlUNReVNTXYonhvzMRLwNPuZcNIbSqjoyE+MRgQcvO476hkYyk+IZ3CeJZd+UhK321zb4Qqa3l1Y5PkAFF6yMxDguGjeAo/qlMDw3lSF9NVB1Rz6faRFojhmQxqSjsnBteB3+dR0ubw0p7gQy7TJxy5QRjOyfwu79TQNtEtwxlFZ5ue6Zpa0edF0uYcrIHIbNPi18E7QtUn/OMP/lEp0p6FpD/74oOPtBPkuaQEZiHHvKrDtq+I8rT/3gRAyGfinWyN7mwd9Rv62b65EBKjvVw/7qenYcsEbb3XR8bFNwAvDWMGTpjcw6YR43vbiKo7InkJvm4aqTB/H88u1cMi6fG+evptbrY1CfBH488Uhufml1SME8Lj8Tl0siNmk0bwpMjGv/ru6oWkxDg491e8rYU1ZLbloCI3NTiY11RdzG1pIq/vzWemadeSTZqR527q/m/xatZ391vZ4BdlPbS6vYVFTJo+9vCWmCPjltP0n+i78hpEzcOH8Vz/zwRKrqG1t8z3/Abu2g63JJ603QdHxfVatlptmdWMg8wmo29yv9uulCeHtfZPz7p1Se9DxXnTyIpz/eFghS+6vryUqJpyArOWJNKSPRrX1VHaRHBqjBfZJ4+PKx1O/dxDvfjiE+zkBCJniDniJvX0tU63Wzfk85I3JTuX/xJq6dUBDSLDj3nDTKiz/n/yamc88KL7vL6kMKZrgmjV+fP5K//XczQKBgt/fWSZEy/YjcFPaUtX091vaSSuLLvyGpfh9lsX24YeG+wB0nfn/hKC4ck4fLJWG3kZsWzyXj8gO/3+N2MXvSUJ75ZJueAXZTReV1LZqg5y/fxg/71Ue8vq7W66akqj5s0/W1EwqY++7mwLxDPegeTF9VQJhA40PYXlrF59sP8PN/rWFYvyT+7/QkSgr348nIIynnSFwbF4XciYVLngNPGpTvti7L8PnC7os+5gC3L65hxsQCHli8uUWTXqSa0gszTj7436bC6pEByoXhTN8nyAc/bsqUp98Gn/4dyu0gZV9L5HHXsrm4kmRPbGCUXkiz4GtXBtZx3Gn3csWHWewuq2dbSVUgMAQ3aWQleyipruF300dRWuUlM8mNJ05o9MHHX+9rs0YULtPf/daXPH1hX2J2bmWjK5P16UO46aU1IcHl7OHZvL9pLwX7lpD7vlVbTHUn8NTp93Hp0r7sLqvnlwvXclS/ZJI97rAF65/XnhQITv75DyxpOijpGWA3Yt+PcWz1Tt6+uA83vNfIyl2V9E+L44mTiogv2gaZBTDyO03X8K9dECgT8bGusLWA4FGs7T3ohqvJt9lX1TwYZQyBDW+EBBpz4d94zzWeVTvLePT9LQzrl8STJ+8l/bVZgWW85z6A6/0/NgWgQadBxR5YdJP124vWQN44OPo82PB6U6Lt40Ott5pR/dP42/ePIzfNw8jctEDZjVQL9DY2tqsfTrWtRwYoSr9GFv44pMrOf/8M0x+GvetAYtmecDQPLfUFaginHtkXj9uq9geaBVfdbd0iyC6UQ1bdzU3H38svljawcscBary+QLOXv0mjocHHyh37+eXC0Pua3fLuGuobDBeNG8Do/qmclHaApPp9VMWFdk4H94WJQEq8i6kxKxg4/woG2oVu/zkP8otpx1NW00htg48NheVkp8ZTvusrBi8LbcrM/+/PuOmEedy0pJ5ar4/C8joyGn1MGJLO3acJnppC6hJyuHmpYV9lyzu7ZyTGMSwnhdmTjyTBHYvPZ6J/9wx1eILuxxjnrWGQO4GXps7hx6sKmDKgzmruzhoOp14Pb90eOJjXT5nD/E9juH7yULaVVDGoTwLnjc4LBKXXVu/C/y9uftD1+Qw7SitJqNhKsrcET0YeZBawZV81m4sraWg0bNlXxfo95WwvrWLqyNzIfVU+H6x/FRY2nWCa8x9E3vtDSN6WhT/GO2E+Z2cnceLEWkYOziB9/qyQZdxvzIbpf4OkvlBZBKm5sPI5GHslvH9X0wnseX+B4i+hdAu4E/jmtHu558MGPG4XXxdX8ue3Wo7IzU71hN1H7hgXWSlxvDBjPNX1jVo+DkPPvBffN0vhqfNazj/9Nlj5Txj7fbx9jmZLzBBuW1JJWa2X1y7vT03pbj4rjWNvbB4jfBsYx/rQTDzxVpYznPWuo+lbv5N0XynHHH00Kf2PDrRpr96xn0se/aRF9X7WmUfiEuHFFdt44qSipj4xuzAEd04vWlMYaF75y1lJXLjs0hZ3htgwfRHTXygKBME/fucYsvYtZ8KH17T42UtPfYorF7vxuF3877nDGZAez4TqxcS8eXMgDY1T57Cl/3mcP/fjkGvImg+h75S7Z/Q+HXsvvgj3Y/Rd8hxl3hgylt4JJ8+yWhPS8qDka2isg7ULKD7/GS54vois5DguO2kQv3ltXeB/fOf5I6lvaGRfVT2Th/XjmLx062SlsZGibV+RXrqKhLdvCuSpqmlzueaTfpw5LDek2fj6yUM5bWhfRuWlh/9hxRvh0Ynh7ye5eh6MuSywx2r7HYvnlf9nLXv6bdaJaLAjz4YRF8CbtzSV43PvhffvtoJR8P65+g1KDhzgw8IY7lrupbS6gRu/dRT/+HBroA8q+L6XDQ0+Fq7e1eJkdP7ybazYVqbl4uCE3UE9M0CVfG2dQZpGa3rVPKgphYm3A76QoLPzjPvITE0h8dUfNd0t/LyHcWUOIf7pqS0KSdklCykr/Ib8//6sKcN/+xHrYlqXi7fW7uFv727i96cnkd5YgknOYWVFGidnVOCuLyU53k3sq//Tomml6rxHuH9dPGeNGsD20mr6pcSzv7KGc1K24dnxX2u5zUvgiEkg4M0/jQ/qhnBKwi5iqgqRlBy8rgQ8X78JnnTIOQbqqyE+CV91Kb6kfnwdM4Qqn5sj6jeR9sL0Fr+t9orXWFyWi7d4M33NfjJz8pn51gG+KWl6LpDH7eLpH57I/opqxiQfIKaqiMTkVLbv3c+AvHySco8KPAokMS6W+sZG+iTFB/rNCsus5qOy2nr6JHlCBm74dXTt7GDW19qyUaw1dmyA+vI1mP/9lvMn3gxrF1g1pw/vb1mLmHgrNf1PYuyT5Vw7oYDHP9jS4kRrxsQChuWkNh10fT7q175CXMl6+OiBFnmq8YoFbKuMIS+xEaqKiU3Joqa6itikdDYykP5mH3GmhmTxQmUhJqU/UlOK6/nLWqZ/0v+CuELTfM4frWBTvsv6fckDoN9RVtNgai7EpcAT3wof7JbOCVl99eWvEFcwMdC/6zOGm1/8IhCc/J6fcRLjC/qypbiSaQ8sbbGPgvvpQm7k3FnaGhTiTL3kZrE+HxSuaSos/v4ndxLUlVuZMqgJYMB7P4NTZofMS3j9f+CKl8J2nNZXFDcFJ3se/7oOrhuBL/NI8jM8LdrBs6fMIW7JM3DUOeCKhZN+AtX7rAAq1nRS5TZuHeTiwz2VPPtZAz8eE8u5KduJnW9vK7MAJvwM3rzVarpwz+WMaXOQxfdYZ4KZBcRMuLHpd2cWWAeil27H5a3B5U7gqKl3s6bP2ZjyXeFvKFuxhwkN20hb1pT2J4L63cBqYy+rrmdC46ckzZsZWG74xFthwe1UTvgF1y7OCAzMmD1pKC+s2M5PJw3lwSWbAs2cAzMS2VhYGWjuCR5d2No1JO29gW9Tdmj/NSmtLQt0n2tbWrsf48jvWM1642c2HejBen3/LuKvfoN7Ly7gq8LysP0rYwemc/pR/QLBybd7pRWc0gZYA5HGN9VuWDWPmMIvKIhPhnlNtfXkqXfBx3M4Zuz3ke3LIH88+GvzmQWY8/4SPv0DxsG8S0PT/PYdTcEmeyzU7Ydnv9tU9qfeDcOmw5rnm9blrQFXszu1uxP493aIqyvi7OHZfFVYwYbCcvZX14csFtzvFqkPKj7ohKvTR++FeTxP8Al0d9P9UtyW0q+b2q6hqf+pvgoaasIfmP01reB59dVN97PzcydgYpPCrsNXUchb6wpJq95B+tuh7eBxb90MJ86wDgh9CsBbZQWS9+fAR/db03GJxC74Iae/+11eOGUH58R8RuyioEB47BWB4ORfryy62ZoP1oHH34zhn/b3L/iXf/MWRpgtlLn7hf1tMSlZpL0VmvYhS2/kpuObzmM8bhf9G3eTtGhmi4MbI79D8puzmDXGylb+QRbnjc7jlwvXctHxA7ly/CAefX8Lt7z0BX9ZvImd+2v4qqg8sP7W7nfmDyDTHljKZX9fxg+e/JSFq3cFpqc9sJS31hXi85l2ra+51pbtVvdhyxkNU+e0vB/j6nmBu9oHXoN5a3B5q5kyMofJw7IDfbJ+HreLQcH9RF+9huupc63yVVMGJ/4/+GSula8/nmtNZ4+ERTeH5pU3b4XxM5E3b4ExlzYFp9Q8GHsl8voNVnqD03/6bVBVEvlO/QBJGaFlwFtjTR93Reh33AnWwIig9X9z2r3ctdwbcn/N+St2MnvS0JC+6eB+t8S42LD7aHDfpJDpTh29F2bIPP+6zprfDTkqQInIFBHZICKbReT2Q1pJhMdTkDHYqq2EOTAjLc+myBjc4iat5sK/kdgnL+w6qtx9uXH+KmKqi8Jv31tlvTY2WAW6eQBt9Aam49662ToLTsiE0262mi4yh4Rfb3I/633zA06kA1DlHm54r5H6KaEHMO+UOVTVesN+JyemDCBQI6oq2Rn5QOH1PwrEEjwyclCfpBajBO9fvIn91d7A8q1dH9M8SPgDX2tBo7X1Ndfasgezni4XEwtDJsClz8H3/mG1ECx/LGQEa8irnzsBUqwa4TF5adadUiIcnFscCBvrIuTr8MPZMXZeqw4KOmMus050SrdY6R0/0wpM0x+2WkD2b229/FZGKPtVxaHleOrd+JJzqLniNT49/WlePmFeoJXAf39N/+szn2zj2gkFzJp0JE/94MSQGnN9Y2OLADZ70lAKDzQ9ZaDTR+9FOv5VFnZeGjqQY5r4RCQGmAt8C9gJLBeRV40xXx7UiiI8noLskZA72jrQv35DU/X3wr9BrKfpO/4qcZ8jrb+gm7RK5hEkg/V5syr0xoYsar1b8CZmh99+XLL1WlcePgPVlYdON9RaZ6D+Qv+9JyOsNyl0uvnnzaeTs1m56wCXfDSQv5z/ImkNxZiU/vzwrTruOzuV9DDfyc8fwqxJHoyBZz7ZRva4NE5s5ZEezR8FYoz1KhD+rhvephpsa9fHNA8S/sDXfH3BTSoHc71NW8t2q2tb0vJh71dQttMqEzWl1vy1C/BOmYP7w3usWkpwf863H7H6K2jHHSGaHwgjtU7UVUbOt+4E8KQ2fR58UlW+K9BH5LvkWVzL/goNdS3TfMYvqBlwKrF9jsadkht2W77kHLjiZWsUX3I2vpyxxHoS2VNcyVVL9lHrrQ4s7nG7yE1rygd7ymqZ+651DdR3xuaFNOf2SYrnhRXbuXZCASJgDLywYjsPXDqW52ecFPEuGlEV6fiXnNN5aehATqpBnQhsNsZsMcbUA88D0w96LWEeT9EUcI6AYy6G65bCNa9br8MvgKFnh87zt9f6b9I6+DTr1T9v2Pktls9IsjL1nUurKZ/6UMj266fMgWWPWIWrujT8WWDl3tBpd1LoGemBbXZfWrNmjzL7rHjtAqu93f/52gUw5U+hy0+9m3J3PzxuFyt3VXLOi5W84T2eaS9VsX5vNe+XpHLgnNC0b514L4t2J/LY0i3MfXcze8pquWeFl60T7w37SI8D5zwU8iiQ2ZOG8voXu5g9aSg7D1SHbRIZEnSG6b8+JtyZuz+ANP9+8+ngoNHa+pprbdmDWY8juFww9Gx8R02lJPlItl/wIp+e/jQLR9zHpyln4btsPgw6Ba55A65ulu8Dq7Aunxhf0JeCrOTQA63/QBgs3HRMbPh8u387ZurdVtBo/nmzdSyryKT+1JusILv8MatGOP1hmHgblSmDuWpRFQtrj6chKSe0DNh53pfSH9fgU3GN+g6uwacS60kEIv+/R+a2UXu0De6TxG1ThvP4B1t4aMlmHv9gC7dNGc4xeenh91lniHT8s088uhvHjOITke8BU4wxP7KnrwROMsbMarbcDGAGQH5+/vHbtm1ruTL/KBa75tMZo1iCO9hPHZLB709PxF1TTE18X1ZWpHNiejke7348CSm4SzcQ80ZTLc5MuwdZOidwDYZv6hxcNaXwzv82bSA1D069IWhwRQy1/UYTk5KNq3wnvqR+lDXEEh8juOorSfB4wFuFy50IVXshPpVaE8MNHydwRHY6MS4YnpPKX9/bzMa9lfzmgpGUVdeTEOdiclYlMdV7Wbk/nr2xeTz+0dYWd5j4+ZSj6dewi+Mz60hJSWNLUSlbqxOoTs5n+4E6Yl0ujh2Yxpd7yqmobWTB5zsBQu4u73G7uOeiY5k6KqfFwIatJVUtztybD2IY1CeBn04aGjLMN9zAhUjri/R/jLTswaznILV7Je3K/81EJd3NO+MzC/BNuAlX0KULTLsHX/ZIzP5txOxdF8i3JmsY9WlD2ODrzwApJa18AzHFX4I70brDw9t3BNZRe97DbMg4g5r6esbG7iC2ugiT2IeGRh8Nnky+buwH4qK+0UemJ4Yh3q9xNdYGyr4vxgO5oyM+Zqa1vNaefRbFPHHouuD41wGcPcy8vQEqWMRhtl2keWbtn+JhbWE5heW19EuJZ3tJJcWVXlLiY0iu2kb/mHKS+uRRGp/H8Ph9gSaI+pQBZFRsIuHZ80Or6pkF8N3HwFuNLymHXa4cdpfV09DYSFxsDMWVdfRL8TC6fxpxcTGU1dRQX/Q1VBRBSjYmfQCFlYbCsjriY124Y4UvdpZTUdvAsi3F/O95I6nxNgZugrl9fzWlVXW4Y6wDQFyMi+r6RhLjYvA2+si0h4/vPFBNUXkd1fUNDO6ThM9AcWUtCe5YLnn045BmsUF9Enjg0rGB7RxsgW6+j/3pdNQB4uB17DDzztL8QJgxBPZ/0+LA6GtspGrPRhrL9xCTmktS7lG4YmLCryelP/gaoarokA6uvgYvDbtXI+W7Man99Rlo3YfjA9TJwJ3GmHPs6TsAjDF/jPSdLi+gByHsncKzUxieE+FO4VEcLtpZjwPQxw60W/cMUEp1HMcHqFhgIzAZ2AUsBy43xqyL9J3uVkAPujkgilX1zmqacGQTiPNogFK9nbMv1DXGNIjILOBtIAZ4orXg1B215zEEzb4Q8iTdLk2Lw7ejlOp5HBOgAIwxi4BFXZ0OpZRSXc/xQzuUUkr1ThqglFJKOZJjBkkcChEpBiyIgcgAAAVUSURBVCJdCNIX2NeJyTkUmsbD5/T0Qdtp3GeMmXKwK20j/7dnu13N6ekDTWNHOaQy0K0DVGtEZIUxZlxXp6M1msbD5/T0Qdel0en7xunpA01jRznUNGoTn1JKKUfSAKWUUsqRenKAerSrE9AOmsbD5/T0Qdel0en7xunpA01jRzmkNPbYPiillFLdW0+uQSmllOrGNEAppZRypB4ZoDrk0fEdm56BIvKuiHwpIutE5Hp7fqaIvCMim+zXDAekNUZEVorI6/b0EBFZZu/LF0QkrovTly4iL4nIVyKyXkROdtJ+FJGf2f/jtSIyT0Q8nb0PnZb/ofuUAc3/HZLGDisDPS5ABT06fiowArhMREZ0bapoAG4yxowAxgMz7TTdDiw2xgwFFtvTXe16YH3Q9J+B+4wxRwL7gWu7JFVN7gfeMsYMA8ZgpdUR+1FE8oDZwDhjzCismx5fSifuQ4fmf+g+ZUDz/2Ho8DJgjOlRf8DJwNtB03cAd3R1upql8RXgW8AGINeelwts6OJ0DcDK4JOA17Fugb8PiA23b7sgfWnAN9iDe4LmO2I/AnnADiAT60bMrwPndOY+7A75306X48qA5v8OSWOHloEeV4OiaQf57bTnOYKIDAbGAsuAbGPMHvujQiC7i5Ll9xfgVsD/CNw+wAFjTIM93dX7cghQDPzDboZ5TESScMh+NMbsAuYA24E9QBnwGZ27Dx2d/8HRZUDz/2Hq6DLQEwOUY4lIMvAycIMxpjz4M2OdWnTZmH8ROQ/Ya4z5rKvS0A6xwHHAX40xY4EqmjVndOV+tNv+p2MdSPoDScBB32OvJ3NqGdD83zE6ugz0xAC1CxgYND3AntelRMSNVTCfNcYssGcXiUiu/XkusLer0gecClwgIluB57GaOe4H0u2nHUPX78udwE5jzDJ7+iWsAuuU/XgW8I0xptgY4wUWYO3XztyHjsz/4PgyoPm/Y3RoGeiJAWo5MNQeNRKH1UH3alcmSEQEeBxYb4y5N+ijV4Gr7fdXY7XLdwljzB3GmAHGmMFY+2yJMeYK4F3ge/ZiXZ3GQmCHiBxtz5oMfIlz9uN2YLyIJNr/c3/6OnMfOi7/g/PLgOb/DtOxZaCrOtOi3FE3DdgIfA38wgHpmYBV7f4CWGX/TcNq414MbAL+A2R2dVrt9J4BvG6/LwA+BTYDLwLxXZy2Y4EV9r5cCGQ4aT8CvwG+AtYCzwDxnb0PnZb/7TR1mzKg+f+w09hhZUBvdaSUUsqRemITn1JKqR5AA5RSSilH0gCllFLKkTRAKaWUciQNUEoppRxJA5RSSilH0gCllFLKkTRA9XIislBEPrOf3zLDnnetiGwUkU9F5O8i8pA9P0tEXhaR5fbfqV2beqUOn5YB59ILdXs5Eck0xpSKSALWbXLOAT7EusdXBbAEWG2MmSUizwEPG2M+EJF8rFvmD++yxCvVAbQMOFds24uoHm62iHzbfj8QuBL4rzGmFEBEXgSOsj8/Cxhh3WILgFQRSTbGVHZmgpXqYFoGHEoDVC8mImdgFbiTjTHVIvIe1j20Ip0RuoDxxpjazkmhUtGlZcDZtA+qd0sD9tsFcxjWo7iTgNNFJMO+Pf53g5b/N/BT/4SIHNupqVWq42kZcDANUL3bW0CsiKwH/gR8gvWclj9g3Xn4Q2Ar1lMxAWYD40TkCxH5Evhxp6dYqY6lZcDBdJCEasHfpm6fPf4LeMIY86+uTpdSnUXLgDNoDUqFc6eIrMJ6nss3WM+dUao30TLgAFqDUkop5Uhag1JKKeVIGqCUUko5kgYopZRSjqQBSimllCNpgFJKKeVI/x9DBCoBbS+8CAAAAABJRU5ErkJggg==",
      "text/plain": [
       "<Figure size 432x648 with 6 Axes>"
      ]
     },
     "metadata": {
      "needs_background": "light"
     },
     "output_type": "display_data"
    }
   ],
   "source": [
    "grid = sns.FacetGrid(\n",
    "    data=titanic,\n",
    "    row='pclass',\n",
    "    col='sex',\n",
    "    hue='survived'\n",
    ")\n",
    "grid.map(sns.scatterplot, 'age', 'fare')"
   ]
  },
  {
   "cell_type": "code",
   "execution_count": 60,
   "metadata": {
    "colab": {
     "base_uri": "https://localhost:8080/"
    },
    "executionInfo": {
     "elapsed": 47,
     "status": "ok",
     "timestamp": 1635509242164,
     "user": {
      "displayName": "Samuel Doan",
      "photoUrl": "https://lh3.googleusercontent.com/a-/AOh14GjbcdQ40FcyCSIyitBN2ptY3zHWA_09harKPYF2=s64",
      "userId": "04384888964432338542"
     },
     "user_tz": -420
    },
    "id": "Re_vuRBsmO-3",
    "outputId": "9bc6159c-b2db-4496-a1be-88ef1145cba4"
   },
   "outputs": [
    {
     "data": {
      "text/plain": [
       "0      False\n",
       "1       True\n",
       "2      False\n",
       "3       True\n",
       "4      False\n",
       "       ...  \n",
       "886    False\n",
       "887     True\n",
       "888    False\n",
       "889    False\n",
       "890    False\n",
       "Length: 891, dtype: bool"
      ]
     },
     "execution_count": 60,
     "metadata": {},
     "output_type": "execute_result"
    }
   ],
   "source": [
    "filter1 = titanic['sex'] == 'female'\n",
    "filter2 = titanic['pclass'] < 3\n",
    "(filter1 & filter2)"
   ]
  },
  {
   "cell_type": "code",
   "execution_count": 61,
   "metadata": {
    "colab": {
     "base_uri": "https://localhost:8080/",
     "height": 444
    },
    "executionInfo": {
     "elapsed": 37,
     "status": "ok",
     "timestamp": 1635509242166,
     "user": {
      "displayName": "Samuel Doan",
      "photoUrl": "https://lh3.googleusercontent.com/a-/AOh14GjbcdQ40FcyCSIyitBN2ptY3zHWA_09harKPYF2=s64",
      "userId": "04384888964432338542"
     },
     "user_tz": -420
    },
    "id": "BOOBF9_2m0KN",
    "outputId": "5d4f9c27-863d-4d2a-c4a7-c03cddf2d1d3"
   },
   "outputs": [
    {
     "data": {
      "text/html": [
       "<div>\n",
       "<style scoped>\n",
       "    .dataframe tbody tr th:only-of-type {\n",
       "        vertical-align: middle;\n",
       "    }\n",
       "\n",
       "    .dataframe tbody tr th {\n",
       "        vertical-align: top;\n",
       "    }\n",
       "\n",
       "    .dataframe thead th {\n",
       "        text-align: right;\n",
       "    }\n",
       "</style>\n",
       "<table border=\"1\" class=\"dataframe\">\n",
       "  <thead>\n",
       "    <tr style=\"text-align: right;\">\n",
       "      <th></th>\n",
       "      <th>survived</th>\n",
       "      <th>pclass</th>\n",
       "      <th>sex</th>\n",
       "      <th>age</th>\n",
       "      <th>sibsp</th>\n",
       "      <th>parch</th>\n",
       "      <th>fare</th>\n",
       "      <th>embarked</th>\n",
       "      <th>class</th>\n",
       "      <th>who</th>\n",
       "      <th>adult_male</th>\n",
       "      <th>deck</th>\n",
       "      <th>embark_town</th>\n",
       "      <th>alive</th>\n",
       "      <th>alone</th>\n",
       "      <th>age_group</th>\n",
       "      <th>female_from_2nd_class</th>\n",
       "    </tr>\n",
       "  </thead>\n",
       "  <tbody>\n",
       "    <tr>\n",
       "      <th>0</th>\n",
       "      <td>0</td>\n",
       "      <td>3</td>\n",
       "      <td>male</td>\n",
       "      <td>22.000000</td>\n",
       "      <td>1</td>\n",
       "      <td>0</td>\n",
       "      <td>7.2500</td>\n",
       "      <td>S</td>\n",
       "      <td>Third</td>\n",
       "      <td>man</td>\n",
       "      <td>True</td>\n",
       "      <td>F</td>\n",
       "      <td>Southampton</td>\n",
       "      <td>no</td>\n",
       "      <td>False</td>\n",
       "      <td>(15, 25]</td>\n",
       "      <td>False</td>\n",
       "    </tr>\n",
       "    <tr>\n",
       "      <th>1</th>\n",
       "      <td>1</td>\n",
       "      <td>1</td>\n",
       "      <td>female</td>\n",
       "      <td>38.000000</td>\n",
       "      <td>1</td>\n",
       "      <td>0</td>\n",
       "      <td>71.2833</td>\n",
       "      <td>C</td>\n",
       "      <td>First</td>\n",
       "      <td>woman</td>\n",
       "      <td>False</td>\n",
       "      <td>C</td>\n",
       "      <td>Cherbourg</td>\n",
       "      <td>yes</td>\n",
       "      <td>False</td>\n",
       "      <td>(35, 45]</td>\n",
       "      <td>True</td>\n",
       "    </tr>\n",
       "    <tr>\n",
       "      <th>2</th>\n",
       "      <td>1</td>\n",
       "      <td>3</td>\n",
       "      <td>female</td>\n",
       "      <td>26.000000</td>\n",
       "      <td>0</td>\n",
       "      <td>0</td>\n",
       "      <td>7.9250</td>\n",
       "      <td>S</td>\n",
       "      <td>Third</td>\n",
       "      <td>woman</td>\n",
       "      <td>False</td>\n",
       "      <td>F</td>\n",
       "      <td>Southampton</td>\n",
       "      <td>yes</td>\n",
       "      <td>True</td>\n",
       "      <td>(25, 35]</td>\n",
       "      <td>False</td>\n",
       "    </tr>\n",
       "    <tr>\n",
       "      <th>3</th>\n",
       "      <td>1</td>\n",
       "      <td>1</td>\n",
       "      <td>female</td>\n",
       "      <td>35.000000</td>\n",
       "      <td>1</td>\n",
       "      <td>0</td>\n",
       "      <td>53.1000</td>\n",
       "      <td>S</td>\n",
       "      <td>First</td>\n",
       "      <td>woman</td>\n",
       "      <td>False</td>\n",
       "      <td>C</td>\n",
       "      <td>Southampton</td>\n",
       "      <td>yes</td>\n",
       "      <td>False</td>\n",
       "      <td>(25, 35]</td>\n",
       "      <td>True</td>\n",
       "    </tr>\n",
       "    <tr>\n",
       "      <th>4</th>\n",
       "      <td>0</td>\n",
       "      <td>3</td>\n",
       "      <td>male</td>\n",
       "      <td>35.000000</td>\n",
       "      <td>0</td>\n",
       "      <td>0</td>\n",
       "      <td>8.0500</td>\n",
       "      <td>S</td>\n",
       "      <td>Third</td>\n",
       "      <td>man</td>\n",
       "      <td>True</td>\n",
       "      <td>F</td>\n",
       "      <td>Southampton</td>\n",
       "      <td>no</td>\n",
       "      <td>True</td>\n",
       "      <td>(25, 35]</td>\n",
       "      <td>False</td>\n",
       "    </tr>\n",
       "    <tr>\n",
       "      <th>...</th>\n",
       "      <td>...</td>\n",
       "      <td>...</td>\n",
       "      <td>...</td>\n",
       "      <td>...</td>\n",
       "      <td>...</td>\n",
       "      <td>...</td>\n",
       "      <td>...</td>\n",
       "      <td>...</td>\n",
       "      <td>...</td>\n",
       "      <td>...</td>\n",
       "      <td>...</td>\n",
       "      <td>...</td>\n",
       "      <td>...</td>\n",
       "      <td>...</td>\n",
       "      <td>...</td>\n",
       "      <td>...</td>\n",
       "      <td>...</td>\n",
       "    </tr>\n",
       "    <tr>\n",
       "      <th>886</th>\n",
       "      <td>0</td>\n",
       "      <td>2</td>\n",
       "      <td>male</td>\n",
       "      <td>27.000000</td>\n",
       "      <td>0</td>\n",
       "      <td>0</td>\n",
       "      <td>13.0000</td>\n",
       "      <td>S</td>\n",
       "      <td>Second</td>\n",
       "      <td>man</td>\n",
       "      <td>True</td>\n",
       "      <td>F</td>\n",
       "      <td>Southampton</td>\n",
       "      <td>no</td>\n",
       "      <td>True</td>\n",
       "      <td>(25, 35]</td>\n",
       "      <td>False</td>\n",
       "    </tr>\n",
       "    <tr>\n",
       "      <th>887</th>\n",
       "      <td>1</td>\n",
       "      <td>1</td>\n",
       "      <td>female</td>\n",
       "      <td>19.000000</td>\n",
       "      <td>0</td>\n",
       "      <td>0</td>\n",
       "      <td>30.0000</td>\n",
       "      <td>S</td>\n",
       "      <td>First</td>\n",
       "      <td>woman</td>\n",
       "      <td>False</td>\n",
       "      <td>B</td>\n",
       "      <td>Southampton</td>\n",
       "      <td>yes</td>\n",
       "      <td>True</td>\n",
       "      <td>(15, 25]</td>\n",
       "      <td>True</td>\n",
       "    </tr>\n",
       "    <tr>\n",
       "      <th>888</th>\n",
       "      <td>0</td>\n",
       "      <td>3</td>\n",
       "      <td>female</td>\n",
       "      <td>31.333333</td>\n",
       "      <td>1</td>\n",
       "      <td>2</td>\n",
       "      <td>23.4500</td>\n",
       "      <td>S</td>\n",
       "      <td>Third</td>\n",
       "      <td>woman</td>\n",
       "      <td>False</td>\n",
       "      <td>F</td>\n",
       "      <td>Southampton</td>\n",
       "      <td>no</td>\n",
       "      <td>False</td>\n",
       "      <td>(25, 35]</td>\n",
       "      <td>False</td>\n",
       "    </tr>\n",
       "    <tr>\n",
       "      <th>889</th>\n",
       "      <td>1</td>\n",
       "      <td>1</td>\n",
       "      <td>male</td>\n",
       "      <td>26.000000</td>\n",
       "      <td>0</td>\n",
       "      <td>0</td>\n",
       "      <td>30.0000</td>\n",
       "      <td>C</td>\n",
       "      <td>First</td>\n",
       "      <td>man</td>\n",
       "      <td>True</td>\n",
       "      <td>C</td>\n",
       "      <td>Cherbourg</td>\n",
       "      <td>yes</td>\n",
       "      <td>True</td>\n",
       "      <td>(25, 35]</td>\n",
       "      <td>False</td>\n",
       "    </tr>\n",
       "    <tr>\n",
       "      <th>890</th>\n",
       "      <td>0</td>\n",
       "      <td>3</td>\n",
       "      <td>male</td>\n",
       "      <td>32.000000</td>\n",
       "      <td>0</td>\n",
       "      <td>0</td>\n",
       "      <td>7.7500</td>\n",
       "      <td>Q</td>\n",
       "      <td>Third</td>\n",
       "      <td>man</td>\n",
       "      <td>True</td>\n",
       "      <td>F</td>\n",
       "      <td>Queenstown</td>\n",
       "      <td>no</td>\n",
       "      <td>True</td>\n",
       "      <td>(25, 35]</td>\n",
       "      <td>False</td>\n",
       "    </tr>\n",
       "  </tbody>\n",
       "</table>\n",
       "<p>891 rows × 17 columns</p>\n",
       "</div>"
      ],
      "text/plain": [
       "     survived  pclass     sex  ...  alone  age_group  female_from_2nd_class\n",
       "0           0       3    male  ...  False   (15, 25]                  False\n",
       "1           1       1  female  ...  False   (35, 45]                   True\n",
       "2           1       3  female  ...   True   (25, 35]                  False\n",
       "3           1       1  female  ...  False   (25, 35]                   True\n",
       "4           0       3    male  ...   True   (25, 35]                  False\n",
       "..        ...     ...     ...  ...    ...        ...                    ...\n",
       "886         0       2    male  ...   True   (25, 35]                  False\n",
       "887         1       1  female  ...   True   (15, 25]                   True\n",
       "888         0       3  female  ...  False   (25, 35]                  False\n",
       "889         1       1    male  ...   True   (25, 35]                  False\n",
       "890         0       3    male  ...   True   (25, 35]                  False\n",
       "\n",
       "[891 rows x 17 columns]"
      ]
     },
     "execution_count": 61,
     "metadata": {},
     "output_type": "execute_result"
    }
   ],
   "source": [
    "titanic['female_from_2nd_class'] = (filter1 & filter2)\n",
    "titanic"
   ]
  },
  {
   "cell_type": "markdown",
   "metadata": {
    "id": "RWSaNTdYVX1U"
   },
   "source": [
    "### Biến đổi phân phối: Tạo biến bằng Z-score"
   ]
  },
  {
   "cell_type": "code",
   "execution_count": 62,
   "metadata": {
    "colab": {
     "base_uri": "https://localhost:8080/",
     "height": 297
    },
    "executionInfo": {
     "elapsed": 976,
     "status": "ok",
     "timestamp": 1635509243109,
     "user": {
      "displayName": "Samuel Doan",
      "photoUrl": "https://lh3.googleusercontent.com/a-/AOh14GjbcdQ40FcyCSIyitBN2ptY3zHWA_09harKPYF2=s64",
      "userId": "04384888964432338542"
     },
     "user_tz": -420
    },
    "id": "LMJ6lOmnnI6K",
    "outputId": "01c7e618-074f-4757-d8a1-547b5d192062"
   },
   "outputs": [
    {
     "data": {
      "text/plain": [
       "<matplotlib.axes._subplots.AxesSubplot at 0x7f03a32cc250>"
      ]
     },
     "execution_count": 62,
     "metadata": {},
     "output_type": "execute_result"
    },
    {
     "data": {
      "image/png": "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",
      "text/plain": [
       "<Figure size 432x288 with 1 Axes>"
      ]
     },
     "metadata": {
      "needs_background": "light"
     },
     "output_type": "display_data"
    }
   ],
   "source": [
    "sns.histplot(titanic, x='fare', hue='survived', kde=True)"
   ]
  },
  {
   "cell_type": "code",
   "execution_count": 63,
   "metadata": {
    "colab": {
     "base_uri": "https://localhost:8080/"
    },
    "executionInfo": {
     "elapsed": 117,
     "status": "ok",
     "timestamp": 1635509243110,
     "user": {
      "displayName": "Samuel Doan",
      "photoUrl": "https://lh3.googleusercontent.com/a-/AOh14GjbcdQ40FcyCSIyitBN2ptY3zHWA_09harKPYF2=s64",
      "userId": "04384888964432338542"
     },
     "user_tz": -420
    },
    "id": "MFbV2GtKxaar",
    "outputId": "1c6dcf2b-c1a6-4f3b-f88a-263d7757d565"
   },
   "outputs": [
    {
     "data": {
      "text/plain": [
       "27.631021115928547"
      ]
     },
     "execution_count": 63,
     "metadata": {},
     "output_type": "execute_result"
    }
   ],
   "source": [
    "np.log(1000000000000)"
   ]
  },
  {
   "cell_type": "code",
   "execution_count": 64,
   "metadata": {
    "colab": {
     "base_uri": "https://localhost:8080/"
    },
    "executionInfo": {
     "elapsed": 107,
     "status": "ok",
     "timestamp": 1635509243113,
     "user": {
      "displayName": "Samuel Doan",
      "photoUrl": "https://lh3.googleusercontent.com/a-/AOh14GjbcdQ40FcyCSIyitBN2ptY3zHWA_09harKPYF2=s64",
      "userId": "04384888964432338542"
     },
     "user_tz": -420
    },
    "id": "m0LxaRiexl9v",
    "outputId": "4eb63b0d-35a2-447a-ec32-75d38b6ddb82"
   },
   "outputs": [
    {
     "data": {
      "text/plain": [
       "2.302585092994046"
      ]
     },
     "execution_count": 64,
     "metadata": {},
     "output_type": "execute_result"
    }
   ],
   "source": [
    "np.log(10)"
   ]
  },
  {
   "cell_type": "code",
   "execution_count": 65,
   "metadata": {
    "colab": {
     "base_uri": "https://localhost:8080/"
    },
    "executionInfo": {
     "elapsed": 98,
     "status": "ok",
     "timestamp": 1635509243116,
     "user": {
      "displayName": "Samuel Doan",
      "photoUrl": "https://lh3.googleusercontent.com/a-/AOh14GjbcdQ40FcyCSIyitBN2ptY3zHWA_09harKPYF2=s64",
      "userId": "04384888964432338542"
     },
     "user_tz": -420
    },
    "id": "jq0YsBe9xr3D",
    "outputId": "c9072d8c-e341-42d3-f98c-e6872b916dfd"
   },
   "outputs": [
    {
     "name": "stderr",
     "output_type": "stream",
     "text": [
      "/usr/local/lib/python3.7/dist-packages/ipykernel_launcher.py:1: RuntimeWarning: divide by zero encountered in log\n",
      "  \"\"\"Entry point for launching an IPython kernel.\n"
     ]
    },
    {
     "data": {
      "text/plain": [
       "-inf"
      ]
     },
     "execution_count": 65,
     "metadata": {},
     "output_type": "execute_result"
    }
   ],
   "source": [
    "np.log(0) # e mũ x"
   ]
  },
  {
   "cell_type": "code",
   "execution_count": 66,
   "metadata": {
    "colab": {
     "base_uri": "https://localhost:8080/"
    },
    "executionInfo": {
     "elapsed": 91,
     "status": "ok",
     "timestamp": 1635509243118,
     "user": {
      "displayName": "Samuel Doan",
      "photoUrl": "https://lh3.googleusercontent.com/a-/AOh14GjbcdQ40FcyCSIyitBN2ptY3zHWA_09harKPYF2=s64",
      "userId": "04384888964432338542"
     },
     "user_tz": -420
    },
    "id": "UOjzk16Xx04t",
    "outputId": "4ac11927-ad5b-46fb-b498-47cd41135d8c"
   },
   "outputs": [
    {
     "name": "stderr",
     "output_type": "stream",
     "text": [
      "/usr/local/lib/python3.7/dist-packages/ipykernel_launcher.py:1: RuntimeWarning: invalid value encountered in log\n",
      "  \"\"\"Entry point for launching an IPython kernel.\n"
     ]
    },
    {
     "data": {
      "text/plain": [
       "nan"
      ]
     },
     "execution_count": 66,
     "metadata": {},
     "output_type": "execute_result"
    }
   ],
   "source": [
    "np.log(-1)"
   ]
  },
  {
   "cell_type": "code",
   "execution_count": 67,
   "metadata": {
    "colab": {
     "base_uri": "https://localhost:8080/"
    },
    "executionInfo": {
     "elapsed": 83,
     "status": "ok",
     "timestamp": 1635509243119,
     "user": {
      "displayName": "Samuel Doan",
      "photoUrl": "https://lh3.googleusercontent.com/a-/AOh14GjbcdQ40FcyCSIyitBN2ptY3zHWA_09harKPYF2=s64",
      "userId": "04384888964432338542"
     },
     "user_tz": -420
    },
    "id": "Wn74SjMwx360",
    "outputId": "65a98711-038f-4802-931d-24c32210159e"
   },
   "outputs": [
    {
     "data": {
      "text/plain": [
       "0.0"
      ]
     },
     "execution_count": 67,
     "metadata": {},
     "output_type": "execute_result"
    }
   ],
   "source": [
    "np.log1p(0)"
   ]
  },
  {
   "cell_type": "code",
   "execution_count": 68,
   "metadata": {
    "colab": {
     "base_uri": "https://localhost:8080/"
    },
    "executionInfo": {
     "elapsed": 76,
     "status": "ok",
     "timestamp": 1635509243120,
     "user": {
      "displayName": "Samuel Doan",
      "photoUrl": "https://lh3.googleusercontent.com/a-/AOh14GjbcdQ40FcyCSIyitBN2ptY3zHWA_09harKPYF2=s64",
      "userId": "04384888964432338542"
     },
     "user_tz": -420
    },
    "id": "hSo6oqUNnjkb",
    "outputId": "83ed4bba-b599-4b62-853b-c05e3aef6fc1"
   },
   "outputs": [
    {
     "data": {
      "text/plain": [
       "0      2.110213\n",
       "1      4.280593\n",
       "2      2.188856\n",
       "3      3.990834\n",
       "4      2.202765\n",
       "         ...   \n",
       "886    2.639057\n",
       "887    3.433987\n",
       "888    3.196630\n",
       "889    3.433987\n",
       "890    2.169054\n",
       "Name: fare, Length: 891, dtype: float64"
      ]
     },
     "execution_count": 68,
     "metadata": {},
     "output_type": "execute_result"
    }
   ],
   "source": [
    "ser = np.log1p(titanic['fare'])\n",
    "ser"
   ]
  },
  {
   "cell_type": "code",
   "execution_count": 69,
   "metadata": {
    "colab": {
     "base_uri": "https://localhost:8080/",
     "height": 298
    },
    "executionInfo": {
     "elapsed": 67,
     "status": "ok",
     "timestamp": 1635509243121,
     "user": {
      "displayName": "Samuel Doan",
      "photoUrl": "https://lh3.googleusercontent.com/a-/AOh14GjbcdQ40FcyCSIyitBN2ptY3zHWA_09harKPYF2=s64",
      "userId": "04384888964432338542"
     },
     "user_tz": -420
    },
    "id": "W-5o1-c7pIoj",
    "outputId": "cf245322-7a7f-467d-810c-7779d66434ce"
   },
   "outputs": [
    {
     "data": {
      "text/plain": [
       "<matplotlib.axes._subplots.AxesSubplot at 0x7f03abc0cf50>"
      ]
     },
     "execution_count": 69,
     "metadata": {},
     "output_type": "execute_result"
    },
    {
     "data": {
      "image/png": "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",
      "text/plain": [
       "<Figure size 432x288 with 1 Axes>"
      ]
     },
     "metadata": {
      "needs_background": "light"
     },
     "output_type": "display_data"
    }
   ],
   "source": [
    "sns.histplot(ser, kde=True)"
   ]
  },
  {
   "cell_type": "code",
   "execution_count": 70,
   "metadata": {
    "colab": {
     "base_uri": "https://localhost:8080/"
    },
    "executionInfo": {
     "elapsed": 57,
     "status": "ok",
     "timestamp": 1635509243122,
     "user": {
      "displayName": "Samuel Doan",
      "photoUrl": "https://lh3.googleusercontent.com/a-/AOh14GjbcdQ40FcyCSIyitBN2ptY3zHWA_09harKPYF2=s64",
      "userId": "04384888964432338542"
     },
     "user_tz": -420
    },
    "id": "WMp5_BzapTlq",
    "outputId": "0439a315-722b-4eeb-abf3-fecf69c4f3a4"
   },
   "outputs": [
    {
     "data": {
      "text/plain": [
       "(2.9622457416890775, 0.969048270122367)"
      ]
     },
     "execution_count": 70,
     "metadata": {},
     "output_type": "execute_result"
    }
   ],
   "source": [
    "# Tính z-score\n",
    "ser.mean(), ser.std()"
   ]
  },
  {
   "cell_type": "code",
   "execution_count": 71,
   "metadata": {
    "colab": {
     "base_uri": "https://localhost:8080/"
    },
    "executionInfo": {
     "elapsed": 50,
     "status": "ok",
     "timestamp": 1635509243123,
     "user": {
      "displayName": "Samuel Doan",
      "photoUrl": "https://lh3.googleusercontent.com/a-/AOh14GjbcdQ40FcyCSIyitBN2ptY3zHWA_09harKPYF2=s64",
      "userId": "04384888964432338542"
     },
     "user_tz": -420
    },
    "id": "0wcGEdwVp0o1",
    "outputId": "26da8493-3489-4529-aa5d-ca97480e9a1b"
   },
   "outputs": [
    {
     "data": {
      "text/plain": [
       "0     -0.879247\n",
       "1      1.360456\n",
       "2     -0.798092\n",
       "3      1.061442\n",
       "4     -0.783739\n",
       "         ...   \n",
       "886   -0.333511\n",
       "887    0.486809\n",
       "888    0.241871\n",
       "889    0.486809\n",
       "890   -0.818527\n",
       "Name: fare, Length: 891, dtype: float64"
      ]
     },
     "execution_count": 71,
     "metadata": {},
     "output_type": "execute_result"
    }
   ],
   "source": [
    "new_ser = (ser - ser.mean())/ser.std()\n",
    "new_ser"
   ]
  },
  {
   "cell_type": "code",
   "execution_count": 72,
   "metadata": {
    "colab": {
     "base_uri": "https://localhost:8080/",
     "height": 298
    },
    "executionInfo": {
     "elapsed": 768,
     "status": "ok",
     "timestamp": 1635509243851,
     "user": {
      "displayName": "Samuel Doan",
      "photoUrl": "https://lh3.googleusercontent.com/a-/AOh14GjbcdQ40FcyCSIyitBN2ptY3zHWA_09harKPYF2=s64",
      "userId": "04384888964432338542"
     },
     "user_tz": -420
    },
    "id": "DsGbeoVTqAG2",
    "outputId": "8c6adb1d-f4d7-4f74-804b-52104363e66e"
   },
   "outputs": [
    {
     "data": {
      "text/plain": [
       "<matplotlib.axes._subplots.AxesSubplot at 0x7f03a2fb4650>"
      ]
     },
     "execution_count": 72,
     "metadata": {},
     "output_type": "execute_result"
    },
    {
     "data": {
      "image/png": "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",
      "text/plain": [
       "<Figure size 432x288 with 1 Axes>"
      ]
     },
     "metadata": {
      "needs_background": "light"
     },
     "output_type": "display_data"
    }
   ],
   "source": [
    "sns.histplot(new_ser, kde=True)"
   ]
  },
  {
   "cell_type": "code",
   "execution_count": 73,
   "metadata": {
    "executionInfo": {
     "elapsed": 35,
     "status": "ok",
     "timestamp": 1635509243852,
     "user": {
      "displayName": "Samuel Doan",
      "photoUrl": "https://lh3.googleusercontent.com/a-/AOh14GjbcdQ40FcyCSIyitBN2ptY3zHWA_09harKPYF2=s64",
      "userId": "04384888964432338542"
     },
     "user_tz": -420
    },
    "id": "JIv-L9iK0MkX"
   },
   "outputs": [],
   "source": [
    "# standardize --> vì tất cả phân phối chuyển về các giá trị từ -3 đến 3"
   ]
  },
  {
   "cell_type": "code",
   "execution_count": 74,
   "metadata": {
    "colab": {
     "base_uri": "https://localhost:8080/"
    },
    "executionInfo": {
     "elapsed": 35,
     "status": "ok",
     "timestamp": 1635509243854,
     "user": {
      "displayName": "Samuel Doan",
      "photoUrl": "https://lh3.googleusercontent.com/a-/AOh14GjbcdQ40FcyCSIyitBN2ptY3zHWA_09harKPYF2=s64",
      "userId": "04384888964432338542"
     },
     "user_tz": -420
    },
    "id": "IcE42DOZqSwu",
    "outputId": "c15f2a21-57e0-43cb-cf00-3ee30f9aa30d"
   },
   "outputs": [
    {
     "data": {
      "text/plain": [
       "(3.971632849259511e-15, 1.0000000000000018)"
      ]
     },
     "execution_count": 74,
     "metadata": {},
     "output_type": "execute_result"
    }
   ],
   "source": [
    "new_ser.mean(), new_ser.std()"
   ]
  },
  {
   "cell_type": "code",
   "execution_count": 76,
   "metadata": {
    "executionInfo": {
     "elapsed": 702,
     "status": "ok",
     "timestamp": 1635510075559,
     "user": {
      "displayName": "Samuel Doan",
      "photoUrl": "https://lh3.googleusercontent.com/a-/AOh14GjbcdQ40FcyCSIyitBN2ptY3zHWA_09harKPYF2=s64",
      "userId": "04384888964432338542"
     },
     "user_tz": -420
    },
    "id": "XD_yiY_Y8H29"
   },
   "outputs": [],
   "source": [
    "titanic['fare_log_zscore'] = new_ser # fare_log_standardized"
   ]
  },
  {
   "cell_type": "markdown",
   "metadata": {
    "id": "hg7NGW1i8H2-"
   },
   "source": [
    "## Phần 2: Build a model"
   ]
  },
  {
   "cell_type": "code",
   "execution_count": 77,
   "metadata": {
    "colab": {
     "base_uri": "https://localhost:8080/",
     "height": 688
    },
    "executionInfo": {
     "elapsed": 491,
     "status": "ok",
     "timestamp": 1635510105139,
     "user": {
      "displayName": "Samuel Doan",
      "photoUrl": "https://lh3.googleusercontent.com/a-/AOh14GjbcdQ40FcyCSIyitBN2ptY3zHWA_09harKPYF2=s64",
      "userId": "04384888964432338542"
     },
     "user_tz": -420
    },
    "id": "La7QS0o78H2-",
    "outputId": "53eae8e1-207e-4e4b-f42f-d61e2409740e"
   },
   "outputs": [
    {
     "name": "stdout",
     "output_type": "stream",
     "text": [
      "<class 'pandas.core.frame.DataFrame'>\n",
      "RangeIndex: 891 entries, 0 to 890\n",
      "Data columns (total 18 columns):\n",
      " #   Column                 Non-Null Count  Dtype   \n",
      "---  ------                 --------------  -----   \n",
      " 0   survived               891 non-null    int64   \n",
      " 1   pclass                 891 non-null    int64   \n",
      " 2   sex                    891 non-null    object  \n",
      " 3   age                    891 non-null    float64 \n",
      " 4   sibsp                  891 non-null    int64   \n",
      " 5   parch                  891 non-null    int64   \n",
      " 6   fare                   891 non-null    float64 \n",
      " 7   embarked               889 non-null    object  \n",
      " 8   class                  891 non-null    category\n",
      " 9   who                    891 non-null    object  \n",
      " 10  adult_male             891 non-null    bool    \n",
      " 11  deck                   891 non-null    category\n",
      " 12  embark_town            891 non-null    object  \n",
      " 13  alive                  891 non-null    object  \n",
      " 14  alone                  891 non-null    bool    \n",
      " 15  age_group              891 non-null    category\n",
      " 16  female_from_2nd_class  891 non-null    bool    \n",
      " 17  fare_log_zscore        891 non-null    float64 \n",
      "dtypes: bool(3), category(3), float64(3), int64(4), object(5)\n",
      "memory usage: 89.8+ KB\n"
     ]
    },
    {
     "data": {
      "text/plain": [
       "None"
      ]
     },
     "metadata": {},
     "output_type": "display_data"
    },
    {
     "data": {
      "text/html": [
       "<div>\n",
       "<style scoped>\n",
       "    .dataframe tbody tr th:only-of-type {\n",
       "        vertical-align: middle;\n",
       "    }\n",
       "\n",
       "    .dataframe tbody tr th {\n",
       "        vertical-align: top;\n",
       "    }\n",
       "\n",
       "    .dataframe thead th {\n",
       "        text-align: right;\n",
       "    }\n",
       "</style>\n",
       "<table border=\"1\" class=\"dataframe\">\n",
       "  <thead>\n",
       "    <tr style=\"text-align: right;\">\n",
       "      <th></th>\n",
       "      <th>survived</th>\n",
       "      <th>pclass</th>\n",
       "      <th>sex</th>\n",
       "      <th>age</th>\n",
       "      <th>sibsp</th>\n",
       "      <th>parch</th>\n",
       "      <th>fare</th>\n",
       "      <th>embarked</th>\n",
       "      <th>class</th>\n",
       "      <th>who</th>\n",
       "      <th>adult_male</th>\n",
       "      <th>deck</th>\n",
       "      <th>embark_town</th>\n",
       "      <th>alive</th>\n",
       "      <th>alone</th>\n",
       "      <th>age_group</th>\n",
       "      <th>female_from_2nd_class</th>\n",
       "      <th>fare_log_zscore</th>\n",
       "    </tr>\n",
       "  </thead>\n",
       "  <tbody>\n",
       "    <tr>\n",
       "      <th>0</th>\n",
       "      <td>0</td>\n",
       "      <td>3</td>\n",
       "      <td>male</td>\n",
       "      <td>22.0</td>\n",
       "      <td>1</td>\n",
       "      <td>0</td>\n",
       "      <td>7.2500</td>\n",
       "      <td>S</td>\n",
       "      <td>Third</td>\n",
       "      <td>man</td>\n",
       "      <td>True</td>\n",
       "      <td>F</td>\n",
       "      <td>Southampton</td>\n",
       "      <td>no</td>\n",
       "      <td>False</td>\n",
       "      <td>(15, 25]</td>\n",
       "      <td>False</td>\n",
       "      <td>-0.879247</td>\n",
       "    </tr>\n",
       "    <tr>\n",
       "      <th>1</th>\n",
       "      <td>1</td>\n",
       "      <td>1</td>\n",
       "      <td>female</td>\n",
       "      <td>38.0</td>\n",
       "      <td>1</td>\n",
       "      <td>0</td>\n",
       "      <td>71.2833</td>\n",
       "      <td>C</td>\n",
       "      <td>First</td>\n",
       "      <td>woman</td>\n",
       "      <td>False</td>\n",
       "      <td>C</td>\n",
       "      <td>Cherbourg</td>\n",
       "      <td>yes</td>\n",
       "      <td>False</td>\n",
       "      <td>(35, 45]</td>\n",
       "      <td>True</td>\n",
       "      <td>1.360456</td>\n",
       "    </tr>\n",
       "    <tr>\n",
       "      <th>2</th>\n",
       "      <td>1</td>\n",
       "      <td>3</td>\n",
       "      <td>female</td>\n",
       "      <td>26.0</td>\n",
       "      <td>0</td>\n",
       "      <td>0</td>\n",
       "      <td>7.9250</td>\n",
       "      <td>S</td>\n",
       "      <td>Third</td>\n",
       "      <td>woman</td>\n",
       "      <td>False</td>\n",
       "      <td>F</td>\n",
       "      <td>Southampton</td>\n",
       "      <td>yes</td>\n",
       "      <td>True</td>\n",
       "      <td>(25, 35]</td>\n",
       "      <td>False</td>\n",
       "      <td>-0.798092</td>\n",
       "    </tr>\n",
       "    <tr>\n",
       "      <th>3</th>\n",
       "      <td>1</td>\n",
       "      <td>1</td>\n",
       "      <td>female</td>\n",
       "      <td>35.0</td>\n",
       "      <td>1</td>\n",
       "      <td>0</td>\n",
       "      <td>53.1000</td>\n",
       "      <td>S</td>\n",
       "      <td>First</td>\n",
       "      <td>woman</td>\n",
       "      <td>False</td>\n",
       "      <td>C</td>\n",
       "      <td>Southampton</td>\n",
       "      <td>yes</td>\n",
       "      <td>False</td>\n",
       "      <td>(25, 35]</td>\n",
       "      <td>True</td>\n",
       "      <td>1.061442</td>\n",
       "    </tr>\n",
       "    <tr>\n",
       "      <th>4</th>\n",
       "      <td>0</td>\n",
       "      <td>3</td>\n",
       "      <td>male</td>\n",
       "      <td>35.0</td>\n",
       "      <td>0</td>\n",
       "      <td>0</td>\n",
       "      <td>8.0500</td>\n",
       "      <td>S</td>\n",
       "      <td>Third</td>\n",
       "      <td>man</td>\n",
       "      <td>True</td>\n",
       "      <td>F</td>\n",
       "      <td>Southampton</td>\n",
       "      <td>no</td>\n",
       "      <td>True</td>\n",
       "      <td>(25, 35]</td>\n",
       "      <td>False</td>\n",
       "      <td>-0.783739</td>\n",
       "    </tr>\n",
       "  </tbody>\n",
       "</table>\n",
       "</div>"
      ],
      "text/plain": [
       "   survived  pclass     sex  ...  age_group  female_from_2nd_class  fare_log_zscore\n",
       "0         0       3    male  ...   (15, 25]                  False        -0.879247\n",
       "1         1       1  female  ...   (35, 45]                   True         1.360456\n",
       "2         1       3  female  ...   (25, 35]                  False        -0.798092\n",
       "3         1       1  female  ...   (25, 35]                   True         1.061442\n",
       "4         0       3    male  ...   (25, 35]                  False        -0.783739\n",
       "\n",
       "[5 rows x 18 columns]"
      ]
     },
     "metadata": {},
     "output_type": "display_data"
    }
   ],
   "source": [
    "display(\n",
    "    titanic.info(),\n",
    "    titanic.head()\n",
    ")"
   ]
  },
  {
   "cell_type": "code",
   "execution_count": 78,
   "metadata": {
    "executionInfo": {
     "elapsed": 511,
     "status": "ok",
     "timestamp": 1635510225236,
     "user": {
      "displayName": "Samuel Doan",
      "photoUrl": "https://lh3.googleusercontent.com/a-/AOh14GjbcdQ40FcyCSIyitBN2ptY3zHWA_09harKPYF2=s64",
      "userId": "04384888964432338542"
     },
     "user_tz": -420
    },
    "id": "KKS5v8QV8H2-"
   },
   "outputs": [],
   "source": [
    "## Mô hình chỉ có thể làm việc với biến dạng số?"
   ]
  },
  {
   "cell_type": "code",
   "execution_count": null,
   "metadata": {
    "id": "AgvMCdENAY_l"
   },
   "outputs": [],
   "source": [
    "# Biến dạng chữ\n",
    "# sex: chuyển thành 0 1 (female=1 male=0) ==> Kỹ thuật encoding: gán các giá trị dạng chữ với dạng số tương ứng\n",
    "# who: chuyển thành 0 1. Chuyển thành 3 cột riêng: man, woman, child, điền 1 vào vị trí tương ứng. Kỹ thuật one-hot-encoding\n",
    "#   man     ->  man     1       woman       0       child       0\n",
    "#   woman   ->  man     0       woman       1       child       0\n",
    "# \n",
    "# class: first second third -> 3 2 1. Kỹ thuật encoding chuyển biến Ordinal thành dạng số dữ nguyên thứ tự sắp xếp\n",
    "\n",
    "# Biến dạng Boolean:\n",
    "# Chuyển True thành 1 và False thành 0 "
   ]
  },
  {
   "cell_type": "markdown",
   "metadata": {},
   "source": [
    "### Biến đổi biến"
   ]
  },
  {
   "cell_type": "markdown",
   "metadata": {},
   "source": [
    "#### Encoding biến dạng phân loại"
   ]
  },
  {
   "cell_type": "code",
   "execution_count": 83,
   "metadata": {
    "colab": {
     "base_uri": "https://localhost:8080/"
    },
    "executionInfo": {
     "elapsed": 605,
     "status": "ok",
     "timestamp": 1635510829288,
     "user": {
      "displayName": "Samuel Doan",
      "photoUrl": "https://lh3.googleusercontent.com/a-/AOh14GjbcdQ40FcyCSIyitBN2ptY3zHWA_09harKPYF2=s64",
      "userId": "04384888964432338542"
     },
     "user_tz": -420
    },
    "id": "5_yCypcZCKO9",
    "outputId": "4bc9157b-abb9-45e3-8ac3-33c2e36d945d"
   },
   "outputs": [
    {
     "data": {
      "text/plain": [
       "0      0\n",
       "1      1\n",
       "2      1\n",
       "3      1\n",
       "4      0\n",
       "      ..\n",
       "886    0\n",
       "887    1\n",
       "888    1\n",
       "889    0\n",
       "890    0\n",
       "Name: sex, Length: 891, dtype: int64"
      ]
     },
     "execution_count": 83,
     "metadata": {},
     "output_type": "execute_result"
    }
   ],
   "source": [
    "titanic['sex'].map({'female': 1, 'male': 0}) # --> Syntax cho one-hot encoding"
   ]
  },
  {
   "cell_type": "code",
   "execution_count": 88,
   "metadata": {
    "colab": {
     "base_uri": "https://localhost:8080/"
    },
    "executionInfo": {
     "elapsed": 469,
     "status": "ok",
     "timestamp": 1635511010327,
     "user": {
      "displayName": "Samuel Doan",
      "photoUrl": "https://lh3.googleusercontent.com/a-/AOh14GjbcdQ40FcyCSIyitBN2ptY3zHWA_09harKPYF2=s64",
      "userId": "04384888964432338542"
     },
     "user_tz": -420
    },
    "id": "MilMMa76CtF7",
    "outputId": "dfad1ff7-9a6d-41a7-a44a-bf2a8d1579d6"
   },
   "outputs": [
    {
     "data": {
      "text/plain": [
       "0      0\n",
       "1      1\n",
       "2      1\n",
       "3      1\n",
       "4      0\n",
       "      ..\n",
       "886    0\n",
       "887    1\n",
       "888    1\n",
       "889    0\n",
       "890    0\n",
       "Name: sex_encoded, Length: 891, dtype: int64"
      ]
     },
     "execution_count": 88,
     "metadata": {},
     "output_type": "execute_result"
    }
   ],
   "source": [
    "#(titanic['sex'] == 'female').astype(int)\n",
    "titanic['sex_encoded'] = titanic['sex'].eq('female').astype(int) # syntax ~ pyspark # hàm dễ nhìn và mạnh mẽ hơn\n",
    "titanic['sex_encoded']"
   ]
  },
  {
   "cell_type": "markdown",
   "metadata": {},
   "source": [
    "#### Gộp nhóm rời rạc (Sparse class grouping)"
   ]
  },
  {
   "cell_type": "code",
   "execution_count": 94,
   "metadata": {
    "colab": {
     "base_uri": "https://localhost:8080/"
    },
    "executionInfo": {
     "elapsed": 570,
     "status": "ok",
     "timestamp": 1635511456707,
     "user": {
      "displayName": "Samuel Doan",
      "photoUrl": "https://lh3.googleusercontent.com/a-/AOh14GjbcdQ40FcyCSIyitBN2ptY3zHWA_09harKPYF2=s64",
      "userId": "04384888964432338542"
     },
     "user_tz": -420
    },
    "id": "X-x8wmG4E4HZ",
    "outputId": "f5ab00ec-cebc-4bc0-f687-451a8343a3c2"
   },
   "outputs": [
    {
     "data": {
      "text/plain": [
       "A           15\n",
       "B           47\n",
       "C          100\n",
       "D           33\n",
       "E           32\n",
       "F          660\n",
       "G            4\n",
       "Unknown      0\n",
       "Name: deck, dtype: int64"
      ]
     },
     "execution_count": 94,
     "metadata": {},
     "output_type": "execute_result"
    }
   ],
   "source": [
    "titanic['deck'].value_counts().sort_index()"
   ]
  },
  {
   "cell_type": "code",
   "execution_count": 96,
   "metadata": {
    "colab": {
     "base_uri": "https://localhost:8080/"
    },
    "executionInfo": {
     "elapsed": 528,
     "status": "ok",
     "timestamp": 1635511769320,
     "user": {
      "displayName": "Samuel Doan",
      "photoUrl": "https://lh3.googleusercontent.com/a-/AOh14GjbcdQ40FcyCSIyitBN2ptY3zHWA_09harKPYF2=s64",
      "userId": "04384888964432338542"
     },
     "user_tz": -420
    },
    "id": "m7RE7YF6F5FQ",
    "outputId": "42ecf480-bd79-4db5-8b0a-8af0fe871410"
   },
   "outputs": [
    {
     "data": {
      "text/plain": [
       "0      DEFG\n",
       "1       ABC\n",
       "2      DEFG\n",
       "3       ABC\n",
       "4      DEFG\n",
       "       ... \n",
       "886    DEFG\n",
       "887     ABC\n",
       "888    DEFG\n",
       "889     ABC\n",
       "890    DEFG\n",
       "Name: deck, Length: 891, dtype: object"
      ]
     },
     "execution_count": 96,
     "metadata": {},
     "output_type": "execute_result"
    }
   ],
   "source": [
    "ser = titanic['deck'].map({\n",
    "    'A': 'ABC',\n",
    "    'B': 'ABC',\n",
    "    'C': 'ABC',\n",
    "    'D': 'DEFG',\n",
    "    'E': 'DEFG',\n",
    "    'F': 'DEFG',\n",
    "    'G': 'DEFG'\n",
    "})\n",
    "ser"
   ]
  },
  {
   "cell_type": "code",
   "execution_count": 97,
   "metadata": {
    "colab": {
     "base_uri": "https://localhost:8080/",
     "height": 424
    },
    "executionInfo": {
     "elapsed": 532,
     "status": "ok",
     "timestamp": 1635511789871,
     "user": {
      "displayName": "Samuel Doan",
      "photoUrl": "https://lh3.googleusercontent.com/a-/AOh14GjbcdQ40FcyCSIyitBN2ptY3zHWA_09harKPYF2=s64",
      "userId": "04384888964432338542"
     },
     "user_tz": -420
    },
    "id": "MDCS6GmqGOwe",
    "outputId": "f949e410-3024-4528-a8e7-0ae83b11f6ee"
   },
   "outputs": [
    {
     "data": {
      "text/html": [
       "<div>\n",
       "<style scoped>\n",
       "    .dataframe tbody tr th:only-of-type {\n",
       "        vertical-align: middle;\n",
       "    }\n",
       "\n",
       "    .dataframe tbody tr th {\n",
       "        vertical-align: top;\n",
       "    }\n",
       "\n",
       "    .dataframe thead th {\n",
       "        text-align: right;\n",
       "    }\n",
       "</style>\n",
       "<table border=\"1\" class=\"dataframe\">\n",
       "  <thead>\n",
       "    <tr style=\"text-align: right;\">\n",
       "      <th></th>\n",
       "      <th>ABC</th>\n",
       "      <th>DEFG</th>\n",
       "    </tr>\n",
       "  </thead>\n",
       "  <tbody>\n",
       "    <tr>\n",
       "      <th>0</th>\n",
       "      <td>0</td>\n",
       "      <td>1</td>\n",
       "    </tr>\n",
       "    <tr>\n",
       "      <th>1</th>\n",
       "      <td>1</td>\n",
       "      <td>0</td>\n",
       "    </tr>\n",
       "    <tr>\n",
       "      <th>2</th>\n",
       "      <td>0</td>\n",
       "      <td>1</td>\n",
       "    </tr>\n",
       "    <tr>\n",
       "      <th>3</th>\n",
       "      <td>1</td>\n",
       "      <td>0</td>\n",
       "    </tr>\n",
       "    <tr>\n",
       "      <th>4</th>\n",
       "      <td>0</td>\n",
       "      <td>1</td>\n",
       "    </tr>\n",
       "    <tr>\n",
       "      <th>...</th>\n",
       "      <td>...</td>\n",
       "      <td>...</td>\n",
       "    </tr>\n",
       "    <tr>\n",
       "      <th>886</th>\n",
       "      <td>0</td>\n",
       "      <td>1</td>\n",
       "    </tr>\n",
       "    <tr>\n",
       "      <th>887</th>\n",
       "      <td>1</td>\n",
       "      <td>0</td>\n",
       "    </tr>\n",
       "    <tr>\n",
       "      <th>888</th>\n",
       "      <td>0</td>\n",
       "      <td>1</td>\n",
       "    </tr>\n",
       "    <tr>\n",
       "      <th>889</th>\n",
       "      <td>1</td>\n",
       "      <td>0</td>\n",
       "    </tr>\n",
       "    <tr>\n",
       "      <th>890</th>\n",
       "      <td>0</td>\n",
       "      <td>1</td>\n",
       "    </tr>\n",
       "  </tbody>\n",
       "</table>\n",
       "<p>891 rows × 2 columns</p>\n",
       "</div>"
      ],
      "text/plain": [
       "     ABC  DEFG\n",
       "0      0     1\n",
       "1      1     0\n",
       "2      0     1\n",
       "3      1     0\n",
       "4      0     1\n",
       "..   ...   ...\n",
       "886    0     1\n",
       "887    1     0\n",
       "888    0     1\n",
       "889    1     0\n",
       "890    0     1\n",
       "\n",
       "[891 rows x 2 columns]"
      ]
     },
     "execution_count": 97,
     "metadata": {},
     "output_type": "execute_result"
    }
   ],
   "source": [
    "pd.get_dummies(ser)"
   ]
  },
  {
   "cell_type": "code",
   "execution_count": 103,
   "metadata": {
    "colab": {
     "base_uri": "https://localhost:8080/"
    },
    "executionInfo": {
     "elapsed": 439,
     "status": "ok",
     "timestamp": 1635512004678,
     "user": {
      "displayName": "Samuel Doan",
      "photoUrl": "https://lh3.googleusercontent.com/a-/AOh14GjbcdQ40FcyCSIyitBN2ptY3zHWA_09harKPYF2=s64",
      "userId": "04384888964432338542"
     },
     "user_tz": -420
    },
    "id": "GyAAa0EaGjrH",
    "outputId": "1a958601-60da-4862-8d99-8bc8d7d7b9d6"
   },
   "outputs": [
    {
     "data": {
      "text/plain": [
       "0      0\n",
       "1      1\n",
       "2      0\n",
       "3      1\n",
       "4      0\n",
       "      ..\n",
       "886    0\n",
       "887    1\n",
       "888    0\n",
       "889    1\n",
       "890    0\n",
       "Name: deck_ABC, Length: 891, dtype: int64"
      ]
     },
     "execution_count": 103,
     "metadata": {},
     "output_type": "execute_result"
    }
   ],
   "source": [
    "titanic['deck_ABC'] = titanic['deck'].isin(['A', 'B', 'C']).astype(int) # Nếu đã xác định được là kết quả map chỉ còn 2 nhóm\n",
    "# thì có thể làm luôn encoding\n",
    "titanic['deck_ABC']"
   ]
  },
  {
   "cell_type": "markdown",
   "metadata": {},
   "source": [
    "#### One-hot-encding"
   ]
  },
  {
   "cell_type": "code",
   "execution_count": 110,
   "metadata": {
    "colab": {
     "base_uri": "https://localhost:8080/"
    },
    "executionInfo": {
     "elapsed": 1425,
     "status": "ok",
     "timestamp": 1635512761430,
     "user": {
      "displayName": "Samuel Doan",
      "photoUrl": "https://lh3.googleusercontent.com/a-/AOh14GjbcdQ40FcyCSIyitBN2ptY3zHWA_09harKPYF2=s64",
      "userId": "04384888964432338542"
     },
     "user_tz": -420
    },
    "id": "YF68JOaxI-X8",
    "outputId": "50aaa605-ba09-487a-e770-da4555806e23"
   },
   "outputs": [
    {
     "data": {
      "text/plain": [
       "0      15_25\n",
       "1      35_45\n",
       "2      25_35\n",
       "3      25_35\n",
       "4      25_35\n",
       "       ...  \n",
       "886    25_35\n",
       "887    15_25\n",
       "888    25_35\n",
       "889    25_35\n",
       "890    25_35\n",
       "Name: age_group, Length: 891, dtype: object"
      ]
     },
     "execution_count": 110,
     "metadata": {},
     "output_type": "execute_result"
    }
   ],
   "source": [
    "titanic['age_group'] = titanic['age_group'].astype(str) \\\n",
    "    .str.strip('()[]') \\\n",
    "    .str.replace(', ', '_') # cách viết mượn của pyspark\n",
    "titanic['age_group']"
   ]
  },
  {
   "cell_type": "code",
   "execution_count": 112,
   "metadata": {
    "colab": {
     "base_uri": "https://localhost:8080/",
     "height": 444
    },
    "executionInfo": {
     "elapsed": 1616,
     "status": "ok",
     "timestamp": 1635512881118,
     "user": {
      "displayName": "Samuel Doan",
      "photoUrl": "https://lh3.googleusercontent.com/a-/AOh14GjbcdQ40FcyCSIyitBN2ptY3zHWA_09harKPYF2=s64",
      "userId": "04384888964432338542"
     },
     "user_tz": -420
    },
    "id": "e9WwIapuDPaW",
    "outputId": "2e12d586-2da1-48cb-b5f9-850f0d882ef5"
   },
   "outputs": [
    {
     "data": {
      "text/html": [
       "<div>\n",
       "<style scoped>\n",
       "    .dataframe tbody tr th:only-of-type {\n",
       "        vertical-align: middle;\n",
       "    }\n",
       "\n",
       "    .dataframe tbody tr th {\n",
       "        vertical-align: top;\n",
       "    }\n",
       "\n",
       "    .dataframe thead th {\n",
       "        text-align: right;\n",
       "    }\n",
       "</style>\n",
       "<table border=\"1\" class=\"dataframe\">\n",
       "  <thead>\n",
       "    <tr style=\"text-align: right;\">\n",
       "      <th></th>\n",
       "      <th>embark_town_Cherbourg</th>\n",
       "      <th>embark_town_Queenstown</th>\n",
       "      <th>embark_town_Southampton</th>\n",
       "      <th>who_child</th>\n",
       "      <th>who_man</th>\n",
       "      <th>who_woman</th>\n",
       "      <th>age_group_0_15</th>\n",
       "      <th>age_group_15_25</th>\n",
       "      <th>age_group_25_35</th>\n",
       "      <th>age_group_35_45</th>\n",
       "      <th>age_group_45_60</th>\n",
       "      <th>age_group_60_80</th>\n",
       "    </tr>\n",
       "  </thead>\n",
       "  <tbody>\n",
       "    <tr>\n",
       "      <th>0</th>\n",
       "      <td>0</td>\n",
       "      <td>0</td>\n",
       "      <td>1</td>\n",
       "      <td>0</td>\n",
       "      <td>1</td>\n",
       "      <td>0</td>\n",
       "      <td>0</td>\n",
       "      <td>1</td>\n",
       "      <td>0</td>\n",
       "      <td>0</td>\n",
       "      <td>0</td>\n",
       "      <td>0</td>\n",
       "    </tr>\n",
       "    <tr>\n",
       "      <th>1</th>\n",
       "      <td>1</td>\n",
       "      <td>0</td>\n",
       "      <td>0</td>\n",
       "      <td>0</td>\n",
       "      <td>0</td>\n",
       "      <td>1</td>\n",
       "      <td>0</td>\n",
       "      <td>0</td>\n",
       "      <td>0</td>\n",
       "      <td>1</td>\n",
       "      <td>0</td>\n",
       "      <td>0</td>\n",
       "    </tr>\n",
       "    <tr>\n",
       "      <th>2</th>\n",
       "      <td>0</td>\n",
       "      <td>0</td>\n",
       "      <td>1</td>\n",
       "      <td>0</td>\n",
       "      <td>0</td>\n",
       "      <td>1</td>\n",
       "      <td>0</td>\n",
       "      <td>0</td>\n",
       "      <td>1</td>\n",
       "      <td>0</td>\n",
       "      <td>0</td>\n",
       "      <td>0</td>\n",
       "    </tr>\n",
       "    <tr>\n",
       "      <th>3</th>\n",
       "      <td>0</td>\n",
       "      <td>0</td>\n",
       "      <td>1</td>\n",
       "      <td>0</td>\n",
       "      <td>0</td>\n",
       "      <td>1</td>\n",
       "      <td>0</td>\n",
       "      <td>0</td>\n",
       "      <td>1</td>\n",
       "      <td>0</td>\n",
       "      <td>0</td>\n",
       "      <td>0</td>\n",
       "    </tr>\n",
       "    <tr>\n",
       "      <th>4</th>\n",
       "      <td>0</td>\n",
       "      <td>0</td>\n",
       "      <td>1</td>\n",
       "      <td>0</td>\n",
       "      <td>1</td>\n",
       "      <td>0</td>\n",
       "      <td>0</td>\n",
       "      <td>0</td>\n",
       "      <td>1</td>\n",
       "      <td>0</td>\n",
       "      <td>0</td>\n",
       "      <td>0</td>\n",
       "    </tr>\n",
       "    <tr>\n",
       "      <th>...</th>\n",
       "      <td>...</td>\n",
       "      <td>...</td>\n",
       "      <td>...</td>\n",
       "      <td>...</td>\n",
       "      <td>...</td>\n",
       "      <td>...</td>\n",
       "      <td>...</td>\n",
       "      <td>...</td>\n",
       "      <td>...</td>\n",
       "      <td>...</td>\n",
       "      <td>...</td>\n",
       "      <td>...</td>\n",
       "    </tr>\n",
       "    <tr>\n",
       "      <th>886</th>\n",
       "      <td>0</td>\n",
       "      <td>0</td>\n",
       "      <td>1</td>\n",
       "      <td>0</td>\n",
       "      <td>1</td>\n",
       "      <td>0</td>\n",
       "      <td>0</td>\n",
       "      <td>0</td>\n",
       "      <td>1</td>\n",
       "      <td>0</td>\n",
       "      <td>0</td>\n",
       "      <td>0</td>\n",
       "    </tr>\n",
       "    <tr>\n",
       "      <th>887</th>\n",
       "      <td>0</td>\n",
       "      <td>0</td>\n",
       "      <td>1</td>\n",
       "      <td>0</td>\n",
       "      <td>0</td>\n",
       "      <td>1</td>\n",
       "      <td>0</td>\n",
       "      <td>1</td>\n",
       "      <td>0</td>\n",
       "      <td>0</td>\n",
       "      <td>0</td>\n",
       "      <td>0</td>\n",
       "    </tr>\n",
       "    <tr>\n",
       "      <th>888</th>\n",
       "      <td>0</td>\n",
       "      <td>0</td>\n",
       "      <td>1</td>\n",
       "      <td>0</td>\n",
       "      <td>0</td>\n",
       "      <td>1</td>\n",
       "      <td>0</td>\n",
       "      <td>0</td>\n",
       "      <td>1</td>\n",
       "      <td>0</td>\n",
       "      <td>0</td>\n",
       "      <td>0</td>\n",
       "    </tr>\n",
       "    <tr>\n",
       "      <th>889</th>\n",
       "      <td>1</td>\n",
       "      <td>0</td>\n",
       "      <td>0</td>\n",
       "      <td>0</td>\n",
       "      <td>1</td>\n",
       "      <td>0</td>\n",
       "      <td>0</td>\n",
       "      <td>0</td>\n",
       "      <td>1</td>\n",
       "      <td>0</td>\n",
       "      <td>0</td>\n",
       "      <td>0</td>\n",
       "    </tr>\n",
       "    <tr>\n",
       "      <th>890</th>\n",
       "      <td>0</td>\n",
       "      <td>1</td>\n",
       "      <td>0</td>\n",
       "      <td>0</td>\n",
       "      <td>1</td>\n",
       "      <td>0</td>\n",
       "      <td>0</td>\n",
       "      <td>0</td>\n",
       "      <td>1</td>\n",
       "      <td>0</td>\n",
       "      <td>0</td>\n",
       "      <td>0</td>\n",
       "    </tr>\n",
       "  </tbody>\n",
       "</table>\n",
       "<p>891 rows × 12 columns</p>\n",
       "</div>"
      ],
      "text/plain": [
       "     embark_town_Cherbourg  ...  age_group_60_80\n",
       "0                        0  ...                0\n",
       "1                        1  ...                0\n",
       "2                        0  ...                0\n",
       "3                        0  ...                0\n",
       "4                        0  ...                0\n",
       "..                     ...  ...              ...\n",
       "886                      0  ...                0\n",
       "887                      0  ...                0\n",
       "888                      0  ...                0\n",
       "889                      1  ...                0\n",
       "890                      0  ...                0\n",
       "\n",
       "[891 rows x 12 columns]"
      ]
     },
     "execution_count": 112,
     "metadata": {},
     "output_type": "execute_result"
    }
   ],
   "source": [
    "dummies = pd.get_dummies(titanic[['embark_town', 'who', 'age_group']])\n",
    "dummies\n",
    "# Thông thường tên nhóm tuổi (15, 25] khi one-hot thì ko có vấn đề gì\n",
    "# tuy nhiên để làm tên cột thì một số thư viện sẽ ko đọc được XGBoost\n",
    "# Nên mình nên đổi tên cột ko chứa ký tự đặc biệt và theo snake_case ví dụ: age_group_15_25"
   ]
  },
  {
   "cell_type": "code",
   "execution_count": 116,
   "metadata": {
    "colab": {
     "base_uri": "https://localhost:8080/",
     "height": 444
    },
    "executionInfo": {
     "elapsed": 18,
     "status": "ok",
     "timestamp": 1635513052334,
     "user": {
      "displayName": "Samuel Doan",
      "photoUrl": "https://lh3.googleusercontent.com/a-/AOh14GjbcdQ40FcyCSIyitBN2ptY3zHWA_09harKPYF2=s64",
      "userId": "04384888964432338542"
     },
     "user_tz": -420
    },
    "id": "712iKqM-EfVn",
    "outputId": "cd85e2de-394e-4b75-8bb8-9dab2df89afb"
   },
   "outputs": [
    {
     "data": {
      "text/html": [
       "<div>\n",
       "<style scoped>\n",
       "    .dataframe tbody tr th:only-of-type {\n",
       "        vertical-align: middle;\n",
       "    }\n",
       "\n",
       "    .dataframe tbody tr th {\n",
       "        vertical-align: top;\n",
       "    }\n",
       "\n",
       "    .dataframe thead th {\n",
       "        text-align: right;\n",
       "    }\n",
       "</style>\n",
       "<table border=\"1\" class=\"dataframe\">\n",
       "  <thead>\n",
       "    <tr style=\"text-align: right;\">\n",
       "      <th></th>\n",
       "      <th>survived</th>\n",
       "      <th>pclass</th>\n",
       "      <th>sex</th>\n",
       "      <th>age</th>\n",
       "      <th>sibsp</th>\n",
       "      <th>parch</th>\n",
       "      <th>fare</th>\n",
       "      <th>embarked</th>\n",
       "      <th>class</th>\n",
       "      <th>who</th>\n",
       "      <th>adult_male</th>\n",
       "      <th>deck</th>\n",
       "      <th>embark_town</th>\n",
       "      <th>alive</th>\n",
       "      <th>alone</th>\n",
       "      <th>age_group</th>\n",
       "      <th>female_from_2nd_class</th>\n",
       "      <th>fare_log_zscore</th>\n",
       "      <th>sex_encoded</th>\n",
       "      <th>deck_ABC</th>\n",
       "      <th>embark_town_Cherbourg</th>\n",
       "      <th>embark_town_Queenstown</th>\n",
       "      <th>embark_town_Southampton</th>\n",
       "      <th>who_child</th>\n",
       "      <th>who_man</th>\n",
       "      <th>who_woman</th>\n",
       "      <th>age_group_0_15</th>\n",
       "      <th>age_group_15_25</th>\n",
       "      <th>age_group_25_35</th>\n",
       "      <th>age_group_35_45</th>\n",
       "      <th>age_group_45_60</th>\n",
       "      <th>age_group_60_80</th>\n",
       "    </tr>\n",
       "  </thead>\n",
       "  <tbody>\n",
       "    <tr>\n",
       "      <th>0</th>\n",
       "      <td>0</td>\n",
       "      <td>3</td>\n",
       "      <td>male</td>\n",
       "      <td>22.000000</td>\n",
       "      <td>1</td>\n",
       "      <td>0</td>\n",
       "      <td>7.2500</td>\n",
       "      <td>S</td>\n",
       "      <td>Third</td>\n",
       "      <td>man</td>\n",
       "      <td>True</td>\n",
       "      <td>F</td>\n",
       "      <td>Southampton</td>\n",
       "      <td>no</td>\n",
       "      <td>False</td>\n",
       "      <td>15_25</td>\n",
       "      <td>False</td>\n",
       "      <td>-0.879247</td>\n",
       "      <td>0</td>\n",
       "      <td>0</td>\n",
       "      <td>0</td>\n",
       "      <td>0</td>\n",
       "      <td>1</td>\n",
       "      <td>0</td>\n",
       "      <td>1</td>\n",
       "      <td>0</td>\n",
       "      <td>0</td>\n",
       "      <td>1</td>\n",
       "      <td>0</td>\n",
       "      <td>0</td>\n",
       "      <td>0</td>\n",
       "      <td>0</td>\n",
       "    </tr>\n",
       "    <tr>\n",
       "      <th>1</th>\n",
       "      <td>1</td>\n",
       "      <td>1</td>\n",
       "      <td>female</td>\n",
       "      <td>38.000000</td>\n",
       "      <td>1</td>\n",
       "      <td>0</td>\n",
       "      <td>71.2833</td>\n",
       "      <td>C</td>\n",
       "      <td>First</td>\n",
       "      <td>woman</td>\n",
       "      <td>False</td>\n",
       "      <td>C</td>\n",
       "      <td>Cherbourg</td>\n",
       "      <td>yes</td>\n",
       "      <td>False</td>\n",
       "      <td>35_45</td>\n",
       "      <td>True</td>\n",
       "      <td>1.360456</td>\n",
       "      <td>1</td>\n",
       "      <td>1</td>\n",
       "      <td>1</td>\n",
       "      <td>0</td>\n",
       "      <td>0</td>\n",
       "      <td>0</td>\n",
       "      <td>0</td>\n",
       "      <td>1</td>\n",
       "      <td>0</td>\n",
       "      <td>0</td>\n",
       "      <td>0</td>\n",
       "      <td>1</td>\n",
       "      <td>0</td>\n",
       "      <td>0</td>\n",
       "    </tr>\n",
       "    <tr>\n",
       "      <th>2</th>\n",
       "      <td>1</td>\n",
       "      <td>3</td>\n",
       "      <td>female</td>\n",
       "      <td>26.000000</td>\n",
       "      <td>0</td>\n",
       "      <td>0</td>\n",
       "      <td>7.9250</td>\n",
       "      <td>S</td>\n",
       "      <td>Third</td>\n",
       "      <td>woman</td>\n",
       "      <td>False</td>\n",
       "      <td>F</td>\n",
       "      <td>Southampton</td>\n",
       "      <td>yes</td>\n",
       "      <td>True</td>\n",
       "      <td>25_35</td>\n",
       "      <td>False</td>\n",
       "      <td>-0.798092</td>\n",
       "      <td>1</td>\n",
       "      <td>0</td>\n",
       "      <td>0</td>\n",
       "      <td>0</td>\n",
       "      <td>1</td>\n",
       "      <td>0</td>\n",
       "      <td>0</td>\n",
       "      <td>1</td>\n",
       "      <td>0</td>\n",
       "      <td>0</td>\n",
       "      <td>1</td>\n",
       "      <td>0</td>\n",
       "      <td>0</td>\n",
       "      <td>0</td>\n",
       "    </tr>\n",
       "    <tr>\n",
       "      <th>3</th>\n",
       "      <td>1</td>\n",
       "      <td>1</td>\n",
       "      <td>female</td>\n",
       "      <td>35.000000</td>\n",
       "      <td>1</td>\n",
       "      <td>0</td>\n",
       "      <td>53.1000</td>\n",
       "      <td>S</td>\n",
       "      <td>First</td>\n",
       "      <td>woman</td>\n",
       "      <td>False</td>\n",
       "      <td>C</td>\n",
       "      <td>Southampton</td>\n",
       "      <td>yes</td>\n",
       "      <td>False</td>\n",
       "      <td>25_35</td>\n",
       "      <td>True</td>\n",
       "      <td>1.061442</td>\n",
       "      <td>1</td>\n",
       "      <td>1</td>\n",
       "      <td>0</td>\n",
       "      <td>0</td>\n",
       "      <td>1</td>\n",
       "      <td>0</td>\n",
       "      <td>0</td>\n",
       "      <td>1</td>\n",
       "      <td>0</td>\n",
       "      <td>0</td>\n",
       "      <td>1</td>\n",
       "      <td>0</td>\n",
       "      <td>0</td>\n",
       "      <td>0</td>\n",
       "    </tr>\n",
       "    <tr>\n",
       "      <th>4</th>\n",
       "      <td>0</td>\n",
       "      <td>3</td>\n",
       "      <td>male</td>\n",
       "      <td>35.000000</td>\n",
       "      <td>0</td>\n",
       "      <td>0</td>\n",
       "      <td>8.0500</td>\n",
       "      <td>S</td>\n",
       "      <td>Third</td>\n",
       "      <td>man</td>\n",
       "      <td>True</td>\n",
       "      <td>F</td>\n",
       "      <td>Southampton</td>\n",
       "      <td>no</td>\n",
       "      <td>True</td>\n",
       "      <td>25_35</td>\n",
       "      <td>False</td>\n",
       "      <td>-0.783739</td>\n",
       "      <td>0</td>\n",
       "      <td>0</td>\n",
       "      <td>0</td>\n",
       "      <td>0</td>\n",
       "      <td>1</td>\n",
       "      <td>0</td>\n",
       "      <td>1</td>\n",
       "      <td>0</td>\n",
       "      <td>0</td>\n",
       "      <td>0</td>\n",
       "      <td>1</td>\n",
       "      <td>0</td>\n",
       "      <td>0</td>\n",
       "      <td>0</td>\n",
       "    </tr>\n",
       "    <tr>\n",
       "      <th>...</th>\n",
       "      <td>...</td>\n",
       "      <td>...</td>\n",
       "      <td>...</td>\n",
       "      <td>...</td>\n",
       "      <td>...</td>\n",
       "      <td>...</td>\n",
       "      <td>...</td>\n",
       "      <td>...</td>\n",
       "      <td>...</td>\n",
       "      <td>...</td>\n",
       "      <td>...</td>\n",
       "      <td>...</td>\n",
       "      <td>...</td>\n",
       "      <td>...</td>\n",
       "      <td>...</td>\n",
       "      <td>...</td>\n",
       "      <td>...</td>\n",
       "      <td>...</td>\n",
       "      <td>...</td>\n",
       "      <td>...</td>\n",
       "      <td>...</td>\n",
       "      <td>...</td>\n",
       "      <td>...</td>\n",
       "      <td>...</td>\n",
       "      <td>...</td>\n",
       "      <td>...</td>\n",
       "      <td>...</td>\n",
       "      <td>...</td>\n",
       "      <td>...</td>\n",
       "      <td>...</td>\n",
       "      <td>...</td>\n",
       "      <td>...</td>\n",
       "    </tr>\n",
       "    <tr>\n",
       "      <th>886</th>\n",
       "      <td>0</td>\n",
       "      <td>2</td>\n",
       "      <td>male</td>\n",
       "      <td>27.000000</td>\n",
       "      <td>0</td>\n",
       "      <td>0</td>\n",
       "      <td>13.0000</td>\n",
       "      <td>S</td>\n",
       "      <td>Second</td>\n",
       "      <td>man</td>\n",
       "      <td>True</td>\n",
       "      <td>F</td>\n",
       "      <td>Southampton</td>\n",
       "      <td>no</td>\n",
       "      <td>True</td>\n",
       "      <td>25_35</td>\n",
       "      <td>False</td>\n",
       "      <td>-0.333511</td>\n",
       "      <td>0</td>\n",
       "      <td>0</td>\n",
       "      <td>0</td>\n",
       "      <td>0</td>\n",
       "      <td>1</td>\n",
       "      <td>0</td>\n",
       "      <td>1</td>\n",
       "      <td>0</td>\n",
       "      <td>0</td>\n",
       "      <td>0</td>\n",
       "      <td>1</td>\n",
       "      <td>0</td>\n",
       "      <td>0</td>\n",
       "      <td>0</td>\n",
       "    </tr>\n",
       "    <tr>\n",
       "      <th>887</th>\n",
       "      <td>1</td>\n",
       "      <td>1</td>\n",
       "      <td>female</td>\n",
       "      <td>19.000000</td>\n",
       "      <td>0</td>\n",
       "      <td>0</td>\n",
       "      <td>30.0000</td>\n",
       "      <td>S</td>\n",
       "      <td>First</td>\n",
       "      <td>woman</td>\n",
       "      <td>False</td>\n",
       "      <td>B</td>\n",
       "      <td>Southampton</td>\n",
       "      <td>yes</td>\n",
       "      <td>True</td>\n",
       "      <td>15_25</td>\n",
       "      <td>True</td>\n",
       "      <td>0.486809</td>\n",
       "      <td>1</td>\n",
       "      <td>1</td>\n",
       "      <td>0</td>\n",
       "      <td>0</td>\n",
       "      <td>1</td>\n",
       "      <td>0</td>\n",
       "      <td>0</td>\n",
       "      <td>1</td>\n",
       "      <td>0</td>\n",
       "      <td>1</td>\n",
       "      <td>0</td>\n",
       "      <td>0</td>\n",
       "      <td>0</td>\n",
       "      <td>0</td>\n",
       "    </tr>\n",
       "    <tr>\n",
       "      <th>888</th>\n",
       "      <td>0</td>\n",
       "      <td>3</td>\n",
       "      <td>female</td>\n",
       "      <td>31.333333</td>\n",
       "      <td>1</td>\n",
       "      <td>2</td>\n",
       "      <td>23.4500</td>\n",
       "      <td>S</td>\n",
       "      <td>Third</td>\n",
       "      <td>woman</td>\n",
       "      <td>False</td>\n",
       "      <td>F</td>\n",
       "      <td>Southampton</td>\n",
       "      <td>no</td>\n",
       "      <td>False</td>\n",
       "      <td>25_35</td>\n",
       "      <td>False</td>\n",
       "      <td>0.241871</td>\n",
       "      <td>1</td>\n",
       "      <td>0</td>\n",
       "      <td>0</td>\n",
       "      <td>0</td>\n",
       "      <td>1</td>\n",
       "      <td>0</td>\n",
       "      <td>0</td>\n",
       "      <td>1</td>\n",
       "      <td>0</td>\n",
       "      <td>0</td>\n",
       "      <td>1</td>\n",
       "      <td>0</td>\n",
       "      <td>0</td>\n",
       "      <td>0</td>\n",
       "    </tr>\n",
       "    <tr>\n",
       "      <th>889</th>\n",
       "      <td>1</td>\n",
       "      <td>1</td>\n",
       "      <td>male</td>\n",
       "      <td>26.000000</td>\n",
       "      <td>0</td>\n",
       "      <td>0</td>\n",
       "      <td>30.0000</td>\n",
       "      <td>C</td>\n",
       "      <td>First</td>\n",
       "      <td>man</td>\n",
       "      <td>True</td>\n",
       "      <td>C</td>\n",
       "      <td>Cherbourg</td>\n",
       "      <td>yes</td>\n",
       "      <td>True</td>\n",
       "      <td>25_35</td>\n",
       "      <td>False</td>\n",
       "      <td>0.486809</td>\n",
       "      <td>0</td>\n",
       "      <td>1</td>\n",
       "      <td>1</td>\n",
       "      <td>0</td>\n",
       "      <td>0</td>\n",
       "      <td>0</td>\n",
       "      <td>1</td>\n",
       "      <td>0</td>\n",
       "      <td>0</td>\n",
       "      <td>0</td>\n",
       "      <td>1</td>\n",
       "      <td>0</td>\n",
       "      <td>0</td>\n",
       "      <td>0</td>\n",
       "    </tr>\n",
       "    <tr>\n",
       "      <th>890</th>\n",
       "      <td>0</td>\n",
       "      <td>3</td>\n",
       "      <td>male</td>\n",
       "      <td>32.000000</td>\n",
       "      <td>0</td>\n",
       "      <td>0</td>\n",
       "      <td>7.7500</td>\n",
       "      <td>Q</td>\n",
       "      <td>Third</td>\n",
       "      <td>man</td>\n",
       "      <td>True</td>\n",
       "      <td>F</td>\n",
       "      <td>Queenstown</td>\n",
       "      <td>no</td>\n",
       "      <td>True</td>\n",
       "      <td>25_35</td>\n",
       "      <td>False</td>\n",
       "      <td>-0.818527</td>\n",
       "      <td>0</td>\n",
       "      <td>0</td>\n",
       "      <td>0</td>\n",
       "      <td>1</td>\n",
       "      <td>0</td>\n",
       "      <td>0</td>\n",
       "      <td>1</td>\n",
       "      <td>0</td>\n",
       "      <td>0</td>\n",
       "      <td>0</td>\n",
       "      <td>1</td>\n",
       "      <td>0</td>\n",
       "      <td>0</td>\n",
       "      <td>0</td>\n",
       "    </tr>\n",
       "  </tbody>\n",
       "</table>\n",
       "<p>891 rows × 32 columns</p>\n",
       "</div>"
      ],
      "text/plain": [
       "     survived  pclass  ... age_group_45_60  age_group_60_80\n",
       "0           0       3  ...               0                0\n",
       "1           1       1  ...               0                0\n",
       "2           1       3  ...               0                0\n",
       "3           1       1  ...               0                0\n",
       "4           0       3  ...               0                0\n",
       "..        ...     ...  ...             ...              ...\n",
       "886         0       2  ...               0                0\n",
       "887         1       1  ...               0                0\n",
       "888         0       3  ...               0                0\n",
       "889         1       1  ...               0                0\n",
       "890         0       3  ...               0                0\n",
       "\n",
       "[891 rows x 32 columns]"
      ]
     },
     "execution_count": 116,
     "metadata": {},
     "output_type": "execute_result"
    }
   ],
   "source": [
    "titanic_new = titanic.join(dummies)\n",
    "titanic_new"
   ]
  },
  {
   "cell_type": "code",
   "execution_count": 115,
   "metadata": {
    "colab": {
     "base_uri": "https://localhost:8080/",
     "height": 444
    },
    "executionInfo": {
     "elapsed": 39,
     "status": "ok",
     "timestamp": 1635513025157,
     "user": {
      "displayName": "Samuel Doan",
      "photoUrl": "https://lh3.googleusercontent.com/a-/AOh14GjbcdQ40FcyCSIyitBN2ptY3zHWA_09harKPYF2=s64",
      "userId": "04384888964432338542"
     },
     "user_tz": -420
    },
    "id": "OF_hAWf5K0ZG",
    "outputId": "2baeb109-68dc-453f-83fa-663e76df0807"
   },
   "outputs": [
    {
     "data": {
      "text/html": [
       "<div>\n",
       "<style scoped>\n",
       "    .dataframe tbody tr th:only-of-type {\n",
       "        vertical-align: middle;\n",
       "    }\n",
       "\n",
       "    .dataframe tbody tr th {\n",
       "        vertical-align: top;\n",
       "    }\n",
       "\n",
       "    .dataframe thead th {\n",
       "        text-align: right;\n",
       "    }\n",
       "</style>\n",
       "<table border=\"1\" class=\"dataframe\">\n",
       "  <thead>\n",
       "    <tr style=\"text-align: right;\">\n",
       "      <th></th>\n",
       "      <th>survived</th>\n",
       "      <th>pclass</th>\n",
       "      <th>sex</th>\n",
       "      <th>age</th>\n",
       "      <th>sibsp</th>\n",
       "      <th>parch</th>\n",
       "      <th>fare</th>\n",
       "      <th>embarked</th>\n",
       "      <th>class</th>\n",
       "      <th>who</th>\n",
       "      <th>adult_male</th>\n",
       "      <th>deck</th>\n",
       "      <th>embark_town</th>\n",
       "      <th>alive</th>\n",
       "      <th>alone</th>\n",
       "      <th>age_group</th>\n",
       "      <th>female_from_2nd_class</th>\n",
       "      <th>fare_log_zscore</th>\n",
       "      <th>sex_encoded</th>\n",
       "      <th>deck_ABC</th>\n",
       "      <th>embark_town_Cherbourg</th>\n",
       "      <th>embark_town_Queenstown</th>\n",
       "      <th>embark_town_Southampton</th>\n",
       "      <th>who_child</th>\n",
       "      <th>who_man</th>\n",
       "      <th>who_woman</th>\n",
       "      <th>age_group_0_15</th>\n",
       "      <th>age_group_15_25</th>\n",
       "      <th>age_group_25_35</th>\n",
       "      <th>age_group_35_45</th>\n",
       "      <th>age_group_45_60</th>\n",
       "      <th>age_group_60_80</th>\n",
       "    </tr>\n",
       "  </thead>\n",
       "  <tbody>\n",
       "    <tr>\n",
       "      <th>0</th>\n",
       "      <td>0</td>\n",
       "      <td>3</td>\n",
       "      <td>male</td>\n",
       "      <td>22.000000</td>\n",
       "      <td>1</td>\n",
       "      <td>0</td>\n",
       "      <td>7.2500</td>\n",
       "      <td>S</td>\n",
       "      <td>Third</td>\n",
       "      <td>man</td>\n",
       "      <td>True</td>\n",
       "      <td>F</td>\n",
       "      <td>Southampton</td>\n",
       "      <td>no</td>\n",
       "      <td>False</td>\n",
       "      <td>15_25</td>\n",
       "      <td>False</td>\n",
       "      <td>-0.879247</td>\n",
       "      <td>0</td>\n",
       "      <td>0</td>\n",
       "      <td>0</td>\n",
       "      <td>0</td>\n",
       "      <td>1</td>\n",
       "      <td>0</td>\n",
       "      <td>1</td>\n",
       "      <td>0</td>\n",
       "      <td>0</td>\n",
       "      <td>1</td>\n",
       "      <td>0</td>\n",
       "      <td>0</td>\n",
       "      <td>0</td>\n",
       "      <td>0</td>\n",
       "    </tr>\n",
       "    <tr>\n",
       "      <th>1</th>\n",
       "      <td>1</td>\n",
       "      <td>1</td>\n",
       "      <td>female</td>\n",
       "      <td>38.000000</td>\n",
       "      <td>1</td>\n",
       "      <td>0</td>\n",
       "      <td>71.2833</td>\n",
       "      <td>C</td>\n",
       "      <td>First</td>\n",
       "      <td>woman</td>\n",
       "      <td>False</td>\n",
       "      <td>C</td>\n",
       "      <td>Cherbourg</td>\n",
       "      <td>yes</td>\n",
       "      <td>False</td>\n",
       "      <td>35_45</td>\n",
       "      <td>True</td>\n",
       "      <td>1.360456</td>\n",
       "      <td>1</td>\n",
       "      <td>1</td>\n",
       "      <td>1</td>\n",
       "      <td>0</td>\n",
       "      <td>0</td>\n",
       "      <td>0</td>\n",
       "      <td>0</td>\n",
       "      <td>1</td>\n",
       "      <td>0</td>\n",
       "      <td>0</td>\n",
       "      <td>0</td>\n",
       "      <td>1</td>\n",
       "      <td>0</td>\n",
       "      <td>0</td>\n",
       "    </tr>\n",
       "    <tr>\n",
       "      <th>2</th>\n",
       "      <td>1</td>\n",
       "      <td>3</td>\n",
       "      <td>female</td>\n",
       "      <td>26.000000</td>\n",
       "      <td>0</td>\n",
       "      <td>0</td>\n",
       "      <td>7.9250</td>\n",
       "      <td>S</td>\n",
       "      <td>Third</td>\n",
       "      <td>woman</td>\n",
       "      <td>False</td>\n",
       "      <td>F</td>\n",
       "      <td>Southampton</td>\n",
       "      <td>yes</td>\n",
       "      <td>True</td>\n",
       "      <td>25_35</td>\n",
       "      <td>False</td>\n",
       "      <td>-0.798092</td>\n",
       "      <td>1</td>\n",
       "      <td>0</td>\n",
       "      <td>0</td>\n",
       "      <td>0</td>\n",
       "      <td>1</td>\n",
       "      <td>0</td>\n",
       "      <td>0</td>\n",
       "      <td>1</td>\n",
       "      <td>0</td>\n",
       "      <td>0</td>\n",
       "      <td>1</td>\n",
       "      <td>0</td>\n",
       "      <td>0</td>\n",
       "      <td>0</td>\n",
       "    </tr>\n",
       "    <tr>\n",
       "      <th>3</th>\n",
       "      <td>1</td>\n",
       "      <td>1</td>\n",
       "      <td>female</td>\n",
       "      <td>35.000000</td>\n",
       "      <td>1</td>\n",
       "      <td>0</td>\n",
       "      <td>53.1000</td>\n",
       "      <td>S</td>\n",
       "      <td>First</td>\n",
       "      <td>woman</td>\n",
       "      <td>False</td>\n",
       "      <td>C</td>\n",
       "      <td>Southampton</td>\n",
       "      <td>yes</td>\n",
       "      <td>False</td>\n",
       "      <td>25_35</td>\n",
       "      <td>True</td>\n",
       "      <td>1.061442</td>\n",
       "      <td>1</td>\n",
       "      <td>1</td>\n",
       "      <td>0</td>\n",
       "      <td>0</td>\n",
       "      <td>1</td>\n",
       "      <td>0</td>\n",
       "      <td>0</td>\n",
       "      <td>1</td>\n",
       "      <td>0</td>\n",
       "      <td>0</td>\n",
       "      <td>1</td>\n",
       "      <td>0</td>\n",
       "      <td>0</td>\n",
       "      <td>0</td>\n",
       "    </tr>\n",
       "    <tr>\n",
       "      <th>4</th>\n",
       "      <td>0</td>\n",
       "      <td>3</td>\n",
       "      <td>male</td>\n",
       "      <td>35.000000</td>\n",
       "      <td>0</td>\n",
       "      <td>0</td>\n",
       "      <td>8.0500</td>\n",
       "      <td>S</td>\n",
       "      <td>Third</td>\n",
       "      <td>man</td>\n",
       "      <td>True</td>\n",
       "      <td>F</td>\n",
       "      <td>Southampton</td>\n",
       "      <td>no</td>\n",
       "      <td>True</td>\n",
       "      <td>25_35</td>\n",
       "      <td>False</td>\n",
       "      <td>-0.783739</td>\n",
       "      <td>0</td>\n",
       "      <td>0</td>\n",
       "      <td>0</td>\n",
       "      <td>0</td>\n",
       "      <td>1</td>\n",
       "      <td>0</td>\n",
       "      <td>1</td>\n",
       "      <td>0</td>\n",
       "      <td>0</td>\n",
       "      <td>0</td>\n",
       "      <td>1</td>\n",
       "      <td>0</td>\n",
       "      <td>0</td>\n",
       "      <td>0</td>\n",
       "    </tr>\n",
       "    <tr>\n",
       "      <th>...</th>\n",
       "      <td>...</td>\n",
       "      <td>...</td>\n",
       "      <td>...</td>\n",
       "      <td>...</td>\n",
       "      <td>...</td>\n",
       "      <td>...</td>\n",
       "      <td>...</td>\n",
       "      <td>...</td>\n",
       "      <td>...</td>\n",
       "      <td>...</td>\n",
       "      <td>...</td>\n",
       "      <td>...</td>\n",
       "      <td>...</td>\n",
       "      <td>...</td>\n",
       "      <td>...</td>\n",
       "      <td>...</td>\n",
       "      <td>...</td>\n",
       "      <td>...</td>\n",
       "      <td>...</td>\n",
       "      <td>...</td>\n",
       "      <td>...</td>\n",
       "      <td>...</td>\n",
       "      <td>...</td>\n",
       "      <td>...</td>\n",
       "      <td>...</td>\n",
       "      <td>...</td>\n",
       "      <td>...</td>\n",
       "      <td>...</td>\n",
       "      <td>...</td>\n",
       "      <td>...</td>\n",
       "      <td>...</td>\n",
       "      <td>...</td>\n",
       "    </tr>\n",
       "    <tr>\n",
       "      <th>886</th>\n",
       "      <td>0</td>\n",
       "      <td>2</td>\n",
       "      <td>male</td>\n",
       "      <td>27.000000</td>\n",
       "      <td>0</td>\n",
       "      <td>0</td>\n",
       "      <td>13.0000</td>\n",
       "      <td>S</td>\n",
       "      <td>Second</td>\n",
       "      <td>man</td>\n",
       "      <td>True</td>\n",
       "      <td>F</td>\n",
       "      <td>Southampton</td>\n",
       "      <td>no</td>\n",
       "      <td>True</td>\n",
       "      <td>25_35</td>\n",
       "      <td>False</td>\n",
       "      <td>-0.333511</td>\n",
       "      <td>0</td>\n",
       "      <td>0</td>\n",
       "      <td>0</td>\n",
       "      <td>0</td>\n",
       "      <td>1</td>\n",
       "      <td>0</td>\n",
       "      <td>1</td>\n",
       "      <td>0</td>\n",
       "      <td>0</td>\n",
       "      <td>0</td>\n",
       "      <td>1</td>\n",
       "      <td>0</td>\n",
       "      <td>0</td>\n",
       "      <td>0</td>\n",
       "    </tr>\n",
       "    <tr>\n",
       "      <th>887</th>\n",
       "      <td>1</td>\n",
       "      <td>1</td>\n",
       "      <td>female</td>\n",
       "      <td>19.000000</td>\n",
       "      <td>0</td>\n",
       "      <td>0</td>\n",
       "      <td>30.0000</td>\n",
       "      <td>S</td>\n",
       "      <td>First</td>\n",
       "      <td>woman</td>\n",
       "      <td>False</td>\n",
       "      <td>B</td>\n",
       "      <td>Southampton</td>\n",
       "      <td>yes</td>\n",
       "      <td>True</td>\n",
       "      <td>15_25</td>\n",
       "      <td>True</td>\n",
       "      <td>0.486809</td>\n",
       "      <td>1</td>\n",
       "      <td>1</td>\n",
       "      <td>0</td>\n",
       "      <td>0</td>\n",
       "      <td>1</td>\n",
       "      <td>0</td>\n",
       "      <td>0</td>\n",
       "      <td>1</td>\n",
       "      <td>0</td>\n",
       "      <td>1</td>\n",
       "      <td>0</td>\n",
       "      <td>0</td>\n",
       "      <td>0</td>\n",
       "      <td>0</td>\n",
       "    </tr>\n",
       "    <tr>\n",
       "      <th>888</th>\n",
       "      <td>0</td>\n",
       "      <td>3</td>\n",
       "      <td>female</td>\n",
       "      <td>31.333333</td>\n",
       "      <td>1</td>\n",
       "      <td>2</td>\n",
       "      <td>23.4500</td>\n",
       "      <td>S</td>\n",
       "      <td>Third</td>\n",
       "      <td>woman</td>\n",
       "      <td>False</td>\n",
       "      <td>F</td>\n",
       "      <td>Southampton</td>\n",
       "      <td>no</td>\n",
       "      <td>False</td>\n",
       "      <td>25_35</td>\n",
       "      <td>False</td>\n",
       "      <td>0.241871</td>\n",
       "      <td>1</td>\n",
       "      <td>0</td>\n",
       "      <td>0</td>\n",
       "      <td>0</td>\n",
       "      <td>1</td>\n",
       "      <td>0</td>\n",
       "      <td>0</td>\n",
       "      <td>1</td>\n",
       "      <td>0</td>\n",
       "      <td>0</td>\n",
       "      <td>1</td>\n",
       "      <td>0</td>\n",
       "      <td>0</td>\n",
       "      <td>0</td>\n",
       "    </tr>\n",
       "    <tr>\n",
       "      <th>889</th>\n",
       "      <td>1</td>\n",
       "      <td>1</td>\n",
       "      <td>male</td>\n",
       "      <td>26.000000</td>\n",
       "      <td>0</td>\n",
       "      <td>0</td>\n",
       "      <td>30.0000</td>\n",
       "      <td>C</td>\n",
       "      <td>First</td>\n",
       "      <td>man</td>\n",
       "      <td>True</td>\n",
       "      <td>C</td>\n",
       "      <td>Cherbourg</td>\n",
       "      <td>yes</td>\n",
       "      <td>True</td>\n",
       "      <td>25_35</td>\n",
       "      <td>False</td>\n",
       "      <td>0.486809</td>\n",
       "      <td>0</td>\n",
       "      <td>1</td>\n",
       "      <td>1</td>\n",
       "      <td>0</td>\n",
       "      <td>0</td>\n",
       "      <td>0</td>\n",
       "      <td>1</td>\n",
       "      <td>0</td>\n",
       "      <td>0</td>\n",
       "      <td>0</td>\n",
       "      <td>1</td>\n",
       "      <td>0</td>\n",
       "      <td>0</td>\n",
       "      <td>0</td>\n",
       "    </tr>\n",
       "    <tr>\n",
       "      <th>890</th>\n",
       "      <td>0</td>\n",
       "      <td>3</td>\n",
       "      <td>male</td>\n",
       "      <td>32.000000</td>\n",
       "      <td>0</td>\n",
       "      <td>0</td>\n",
       "      <td>7.7500</td>\n",
       "      <td>Q</td>\n",
       "      <td>Third</td>\n",
       "      <td>man</td>\n",
       "      <td>True</td>\n",
       "      <td>F</td>\n",
       "      <td>Queenstown</td>\n",
       "      <td>no</td>\n",
       "      <td>True</td>\n",
       "      <td>25_35</td>\n",
       "      <td>False</td>\n",
       "      <td>-0.818527</td>\n",
       "      <td>0</td>\n",
       "      <td>0</td>\n",
       "      <td>0</td>\n",
       "      <td>1</td>\n",
       "      <td>0</td>\n",
       "      <td>0</td>\n",
       "      <td>1</td>\n",
       "      <td>0</td>\n",
       "      <td>0</td>\n",
       "      <td>0</td>\n",
       "      <td>1</td>\n",
       "      <td>0</td>\n",
       "      <td>0</td>\n",
       "      <td>0</td>\n",
       "    </tr>\n",
       "  </tbody>\n",
       "</table>\n",
       "<p>891 rows × 32 columns</p>\n",
       "</div>"
      ],
      "text/plain": [
       "     survived  pclass  ... age_group_45_60  age_group_60_80\n",
       "0           0       3  ...               0                0\n",
       "1           1       1  ...               0                0\n",
       "2           1       3  ...               0                0\n",
       "3           1       1  ...               0                0\n",
       "4           0       3  ...               0                0\n",
       "..        ...     ...  ...             ...              ...\n",
       "886         0       2  ...               0                0\n",
       "887         1       1  ...               0                0\n",
       "888         0       3  ...               0                0\n",
       "889         1       1  ...               0                0\n",
       "890         0       3  ...               0                0\n",
       "\n",
       "[891 rows x 32 columns]"
      ]
     },
     "execution_count": 115,
     "metadata": {},
     "output_type": "execute_result"
    }
   ],
   "source": [
    "titanic.merge(dummies, left_index=True, right_index=True)"
   ]
  },
  {
   "cell_type": "markdown",
   "metadata": {},
   "source": [
    "#### Boolean thành Integer"
   ]
  },
  {
   "cell_type": "code",
   "execution_count": 117,
   "metadata": {
    "executionInfo": {
     "elapsed": 1537,
     "status": "ok",
     "timestamp": 1635513215349,
     "user": {
      "displayName": "Samuel Doan",
      "photoUrl": "https://lh3.googleusercontent.com/a-/AOh14GjbcdQ40FcyCSIyitBN2ptY3zHWA_09harKPYF2=s64",
      "userId": "04384888964432338542"
     },
     "user_tz": -420
    },
    "id": "aM5gp3IxLWV7"
   },
   "outputs": [],
   "source": [
    "for col in ['adult_male', 'alone', 'female_from_2nd_class']:\n",
    "    titanic_new[col] = titanic_new[col].astype(int)"
   ]
  },
  {
   "cell_type": "code",
   "execution_count": 118,
   "metadata": {
    "colab": {
     "base_uri": "https://localhost:8080/",
     "height": 937
    },
    "executionInfo": {
     "elapsed": 1420,
     "status": "ok",
     "timestamp": 1635513324907,
     "user": {
      "displayName": "Samuel Doan",
      "photoUrl": "https://lh3.googleusercontent.com/a-/AOh14GjbcdQ40FcyCSIyitBN2ptY3zHWA_09harKPYF2=s64",
      "userId": "04384888964432338542"
     },
     "user_tz": -420
    },
    "id": "deS0-PjkMIap",
    "outputId": "af77f5db-11af-4c75-e58c-c8388638eed2"
   },
   "outputs": [
    {
     "name": "stdout",
     "output_type": "stream",
     "text": [
      "<class 'pandas.core.frame.DataFrame'>\n",
      "RangeIndex: 891 entries, 0 to 890\n",
      "Data columns (total 32 columns):\n",
      " #   Column                   Non-Null Count  Dtype   \n",
      "---  ------                   --------------  -----   \n",
      " 0   survived                 891 non-null    int64   \n",
      " 1   pclass                   891 non-null    int64   \n",
      " 2   sex                      891 non-null    object  \n",
      " 3   age                      891 non-null    float64 \n",
      " 4   sibsp                    891 non-null    int64   \n",
      " 5   parch                    891 non-null    int64   \n",
      " 6   fare                     891 non-null    float64 \n",
      " 7   embarked                 889 non-null    object  \n",
      " 8   class                    891 non-null    category\n",
      " 9   who                      891 non-null    object  \n",
      " 10  adult_male               891 non-null    int64   \n",
      " 11  deck                     891 non-null    category\n",
      " 12  embark_town              891 non-null    object  \n",
      " 13  alive                    891 non-null    object  \n",
      " 14  alone                    891 non-null    int64   \n",
      " 15  age_group                891 non-null    object  \n",
      " 16  female_from_2nd_class    891 non-null    int64   \n",
      " 17  fare_log_zscore          891 non-null    float64 \n",
      " 18  sex_encoded              891 non-null    int64   \n",
      " 19  deck_ABC                 891 non-null    int64   \n",
      " 20  embark_town_Cherbourg    891 non-null    uint8   \n",
      " 21  embark_town_Queenstown   891 non-null    uint8   \n",
      " 22  embark_town_Southampton  891 non-null    uint8   \n",
      " 23  who_child                891 non-null    uint8   \n",
      " 24  who_man                  891 non-null    uint8   \n",
      " 25  who_woman                891 non-null    uint8   \n",
      " 26  age_group_0_15           891 non-null    uint8   \n",
      " 27  age_group_15_25          891 non-null    uint8   \n",
      " 28  age_group_25_35          891 non-null    uint8   \n",
      " 29  age_group_35_45          891 non-null    uint8   \n",
      " 30  age_group_45_60          891 non-null    uint8   \n",
      " 31  age_group_60_80          891 non-null    uint8   \n",
      "dtypes: category(2), float64(3), int64(9), object(6), uint8(12)\n",
      "memory usage: 138.1+ KB\n"
     ]
    },
    {
     "data": {
      "text/plain": [
       "None"
      ]
     },
     "metadata": {},
     "output_type": "display_data"
    },
    {
     "data": {
      "text/html": [
       "<div>\n",
       "<style scoped>\n",
       "    .dataframe tbody tr th:only-of-type {\n",
       "        vertical-align: middle;\n",
       "    }\n",
       "\n",
       "    .dataframe tbody tr th {\n",
       "        vertical-align: top;\n",
       "    }\n",
       "\n",
       "    .dataframe thead th {\n",
       "        text-align: right;\n",
       "    }\n",
       "</style>\n",
       "<table border=\"1\" class=\"dataframe\">\n",
       "  <thead>\n",
       "    <tr style=\"text-align: right;\">\n",
       "      <th></th>\n",
       "      <th>survived</th>\n",
       "      <th>pclass</th>\n",
       "      <th>sex</th>\n",
       "      <th>age</th>\n",
       "      <th>sibsp</th>\n",
       "      <th>parch</th>\n",
       "      <th>fare</th>\n",
       "      <th>embarked</th>\n",
       "      <th>class</th>\n",
       "      <th>who</th>\n",
       "      <th>adult_male</th>\n",
       "      <th>deck</th>\n",
       "      <th>embark_town</th>\n",
       "      <th>alive</th>\n",
       "      <th>alone</th>\n",
       "      <th>age_group</th>\n",
       "      <th>female_from_2nd_class</th>\n",
       "      <th>fare_log_zscore</th>\n",
       "      <th>sex_encoded</th>\n",
       "      <th>deck_ABC</th>\n",
       "      <th>embark_town_Cherbourg</th>\n",
       "      <th>embark_town_Queenstown</th>\n",
       "      <th>embark_town_Southampton</th>\n",
       "      <th>who_child</th>\n",
       "      <th>who_man</th>\n",
       "      <th>who_woman</th>\n",
       "      <th>age_group_0_15</th>\n",
       "      <th>age_group_15_25</th>\n",
       "      <th>age_group_25_35</th>\n",
       "      <th>age_group_35_45</th>\n",
       "      <th>age_group_45_60</th>\n",
       "      <th>age_group_60_80</th>\n",
       "    </tr>\n",
       "  </thead>\n",
       "  <tbody>\n",
       "    <tr>\n",
       "      <th>0</th>\n",
       "      <td>0</td>\n",
       "      <td>3</td>\n",
       "      <td>male</td>\n",
       "      <td>22.0</td>\n",
       "      <td>1</td>\n",
       "      <td>0</td>\n",
       "      <td>7.2500</td>\n",
       "      <td>S</td>\n",
       "      <td>Third</td>\n",
       "      <td>man</td>\n",
       "      <td>1</td>\n",
       "      <td>F</td>\n",
       "      <td>Southampton</td>\n",
       "      <td>no</td>\n",
       "      <td>0</td>\n",
       "      <td>15_25</td>\n",
       "      <td>0</td>\n",
       "      <td>-0.879247</td>\n",
       "      <td>0</td>\n",
       "      <td>0</td>\n",
       "      <td>0</td>\n",
       "      <td>0</td>\n",
       "      <td>1</td>\n",
       "      <td>0</td>\n",
       "      <td>1</td>\n",
       "      <td>0</td>\n",
       "      <td>0</td>\n",
       "      <td>1</td>\n",
       "      <td>0</td>\n",
       "      <td>0</td>\n",
       "      <td>0</td>\n",
       "      <td>0</td>\n",
       "    </tr>\n",
       "    <tr>\n",
       "      <th>1</th>\n",
       "      <td>1</td>\n",
       "      <td>1</td>\n",
       "      <td>female</td>\n",
       "      <td>38.0</td>\n",
       "      <td>1</td>\n",
       "      <td>0</td>\n",
       "      <td>71.2833</td>\n",
       "      <td>C</td>\n",
       "      <td>First</td>\n",
       "      <td>woman</td>\n",
       "      <td>0</td>\n",
       "      <td>C</td>\n",
       "      <td>Cherbourg</td>\n",
       "      <td>yes</td>\n",
       "      <td>0</td>\n",
       "      <td>35_45</td>\n",
       "      <td>1</td>\n",
       "      <td>1.360456</td>\n",
       "      <td>1</td>\n",
       "      <td>1</td>\n",
       "      <td>1</td>\n",
       "      <td>0</td>\n",
       "      <td>0</td>\n",
       "      <td>0</td>\n",
       "      <td>0</td>\n",
       "      <td>1</td>\n",
       "      <td>0</td>\n",
       "      <td>0</td>\n",
       "      <td>0</td>\n",
       "      <td>1</td>\n",
       "      <td>0</td>\n",
       "      <td>0</td>\n",
       "    </tr>\n",
       "    <tr>\n",
       "      <th>2</th>\n",
       "      <td>1</td>\n",
       "      <td>3</td>\n",
       "      <td>female</td>\n",
       "      <td>26.0</td>\n",
       "      <td>0</td>\n",
       "      <td>0</td>\n",
       "      <td>7.9250</td>\n",
       "      <td>S</td>\n",
       "      <td>Third</td>\n",
       "      <td>woman</td>\n",
       "      <td>0</td>\n",
       "      <td>F</td>\n",
       "      <td>Southampton</td>\n",
       "      <td>yes</td>\n",
       "      <td>1</td>\n",
       "      <td>25_35</td>\n",
       "      <td>0</td>\n",
       "      <td>-0.798092</td>\n",
       "      <td>1</td>\n",
       "      <td>0</td>\n",
       "      <td>0</td>\n",
       "      <td>0</td>\n",
       "      <td>1</td>\n",
       "      <td>0</td>\n",
       "      <td>0</td>\n",
       "      <td>1</td>\n",
       "      <td>0</td>\n",
       "      <td>0</td>\n",
       "      <td>1</td>\n",
       "      <td>0</td>\n",
       "      <td>0</td>\n",
       "      <td>0</td>\n",
       "    </tr>\n",
       "    <tr>\n",
       "      <th>3</th>\n",
       "      <td>1</td>\n",
       "      <td>1</td>\n",
       "      <td>female</td>\n",
       "      <td>35.0</td>\n",
       "      <td>1</td>\n",
       "      <td>0</td>\n",
       "      <td>53.1000</td>\n",
       "      <td>S</td>\n",
       "      <td>First</td>\n",
       "      <td>woman</td>\n",
       "      <td>0</td>\n",
       "      <td>C</td>\n",
       "      <td>Southampton</td>\n",
       "      <td>yes</td>\n",
       "      <td>0</td>\n",
       "      <td>25_35</td>\n",
       "      <td>1</td>\n",
       "      <td>1.061442</td>\n",
       "      <td>1</td>\n",
       "      <td>1</td>\n",
       "      <td>0</td>\n",
       "      <td>0</td>\n",
       "      <td>1</td>\n",
       "      <td>0</td>\n",
       "      <td>0</td>\n",
       "      <td>1</td>\n",
       "      <td>0</td>\n",
       "      <td>0</td>\n",
       "      <td>1</td>\n",
       "      <td>0</td>\n",
       "      <td>0</td>\n",
       "      <td>0</td>\n",
       "    </tr>\n",
       "    <tr>\n",
       "      <th>4</th>\n",
       "      <td>0</td>\n",
       "      <td>3</td>\n",
       "      <td>male</td>\n",
       "      <td>35.0</td>\n",
       "      <td>0</td>\n",
       "      <td>0</td>\n",
       "      <td>8.0500</td>\n",
       "      <td>S</td>\n",
       "      <td>Third</td>\n",
       "      <td>man</td>\n",
       "      <td>1</td>\n",
       "      <td>F</td>\n",
       "      <td>Southampton</td>\n",
       "      <td>no</td>\n",
       "      <td>1</td>\n",
       "      <td>25_35</td>\n",
       "      <td>0</td>\n",
       "      <td>-0.783739</td>\n",
       "      <td>0</td>\n",
       "      <td>0</td>\n",
       "      <td>0</td>\n",
       "      <td>0</td>\n",
       "      <td>1</td>\n",
       "      <td>0</td>\n",
       "      <td>1</td>\n",
       "      <td>0</td>\n",
       "      <td>0</td>\n",
       "      <td>0</td>\n",
       "      <td>1</td>\n",
       "      <td>0</td>\n",
       "      <td>0</td>\n",
       "      <td>0</td>\n",
       "    </tr>\n",
       "  </tbody>\n",
       "</table>\n",
       "</div>"
      ],
      "text/plain": [
       "   survived  pclass     sex  ...  age_group_35_45  age_group_45_60  age_group_60_80\n",
       "0         0       3    male  ...                0                0                0\n",
       "1         1       1  female  ...                1                0                0\n",
       "2         1       3  female  ...                0                0                0\n",
       "3         1       1  female  ...                0                0                0\n",
       "4         0       3    male  ...                0                0                0\n",
       "\n",
       "[5 rows x 32 columns]"
      ]
     },
     "metadata": {},
     "output_type": "display_data"
    }
   ],
   "source": [
    "display(\n",
    "    titanic_new.info(),\n",
    "    titanic_new.head()\n",
    ")"
   ]
  },
  {
   "cell_type": "markdown",
   "metadata": {},
   "source": [
    "### Train-Test Split"
   ]
  },
  {
   "cell_type": "code",
   "execution_count": 119,
   "metadata": {
    "executionInfo": {
     "elapsed": 8,
     "status": "ok",
     "timestamp": 1635513712239,
     "user": {
      "displayName": "Samuel Doan",
      "photoUrl": "https://lh3.googleusercontent.com/a-/AOh14GjbcdQ40FcyCSIyitBN2ptY3zHWA_09harKPYF2=s64",
      "userId": "04384888964432338542"
     },
     "user_tz": -420
    },
    "id": "8RIYj7rdVX1V"
   },
   "outputs": [],
   "source": [
    "# Khi xây dựng mô hình: chia dữ liệu 02 phần phần huấn luyện và kiểm thử \n",
    "# !pip install sklearn\n",
    "\n",
    "from sklearn.model_selection import train_test_split"
   ]
  },
  {
   "cell_type": "code",
   "execution_count": 120,
   "metadata": {
    "colab": {
     "base_uri": "https://localhost:8080/"
    },
    "executionInfo": {
     "elapsed": 1581,
     "status": "ok",
     "timestamp": 1635513805857,
     "user": {
      "displayName": "Samuel Doan",
      "photoUrl": "https://lh3.googleusercontent.com/a-/AOh14GjbcdQ40FcyCSIyitBN2ptY3zHWA_09harKPYF2=s64",
      "userId": "04384888964432338542"
     },
     "user_tz": -420
    },
    "id": "t4l6X0pEN-D6",
    "outputId": "ca629400-5dbd-48e0-af52-4593dc3359de"
   },
   "outputs": [
    {
     "data": {
      "text/plain": [
       "Index(['survived', 'pclass', 'sex', 'age', 'sibsp', 'parch', 'fare',\n",
       "       'embarked', 'class', 'who', 'adult_male', 'deck', 'embark_town',\n",
       "       'alive', 'alone'],\n",
       "      dtype='object')"
      ]
     },
     "execution_count": 120,
     "metadata": {},
     "output_type": "execute_result"
    }
   ],
   "source": [
    "titanic_new.columns[:15]"
   ]
  },
  {
   "cell_type": "code",
   "execution_count": 123,
   "metadata": {
    "executionInfo": {
     "elapsed": 8,
     "status": "ok",
     "timestamp": 1635513963452,
     "user": {
      "displayName": "Samuel Doan",
      "photoUrl": "https://lh3.googleusercontent.com/a-/AOh14GjbcdQ40FcyCSIyitBN2ptY3zHWA_09harKPYF2=s64",
      "userId": "04384888964432338542"
     },
     "user_tz": -420
    },
    "id": "Iey9FEeuNtHB"
   },
   "outputs": [],
   "source": [
    "training_data = titanic_new.drop(columns=[\n",
    "    'sex', \n",
    "    'fare',\n",
    "    'embarked', \n",
    "    'class', \n",
    "    'who', \n",
    "    'deck', \n",
    "    'embark_town',\n",
    "    'alive',\n",
    "    'age_group'                       \n",
    "])"
   ]
  },
  {
   "cell_type": "code",
   "execution_count": 124,
   "metadata": {
    "colab": {
     "base_uri": "https://localhost:8080/",
     "height": 777
    },
    "executionInfo": {
     "elapsed": 23,
     "status": "ok",
     "timestamp": 1635513971505,
     "user": {
      "displayName": "Samuel Doan",
      "photoUrl": "https://lh3.googleusercontent.com/a-/AOh14GjbcdQ40FcyCSIyitBN2ptY3zHWA_09harKPYF2=s64",
      "userId": "04384888964432338542"
     },
     "user_tz": -420
    },
    "id": "qJZFVYvDObP4",
    "outputId": "83119084-9854-4acb-8522-1fbd975c6ef6"
   },
   "outputs": [
    {
     "name": "stdout",
     "output_type": "stream",
     "text": [
      "<class 'pandas.core.frame.DataFrame'>\n",
      "RangeIndex: 891 entries, 0 to 890\n",
      "Data columns (total 23 columns):\n",
      " #   Column                   Non-Null Count  Dtype  \n",
      "---  ------                   --------------  -----  \n",
      " 0   survived                 891 non-null    int64  \n",
      " 1   pclass                   891 non-null    int64  \n",
      " 2   age                      891 non-null    float64\n",
      " 3   sibsp                    891 non-null    int64  \n",
      " 4   parch                    891 non-null    int64  \n",
      " 5   adult_male               891 non-null    int64  \n",
      " 6   alone                    891 non-null    int64  \n",
      " 7   female_from_2nd_class    891 non-null    int64  \n",
      " 8   fare_log_zscore          891 non-null    float64\n",
      " 9   sex_encoded              891 non-null    int64  \n",
      " 10  deck_ABC                 891 non-null    int64  \n",
      " 11  embark_town_Cherbourg    891 non-null    uint8  \n",
      " 12  embark_town_Queenstown   891 non-null    uint8  \n",
      " 13  embark_town_Southampton  891 non-null    uint8  \n",
      " 14  who_child                891 non-null    uint8  \n",
      " 15  who_man                  891 non-null    uint8  \n",
      " 16  who_woman                891 non-null    uint8  \n",
      " 17  age_group_0_15           891 non-null    uint8  \n",
      " 18  age_group_15_25          891 non-null    uint8  \n",
      " 19  age_group_25_35          891 non-null    uint8  \n",
      " 20  age_group_35_45          891 non-null    uint8  \n",
      " 21  age_group_45_60          891 non-null    uint8  \n",
      " 22  age_group_60_80          891 non-null    uint8  \n",
      "dtypes: float64(2), int64(9), uint8(12)\n",
      "memory usage: 87.1 KB\n"
     ]
    },
    {
     "data": {
      "text/plain": [
       "None"
      ]
     },
     "metadata": {},
     "output_type": "display_data"
    },
    {
     "data": {
      "text/html": [
       "<div>\n",
       "<style scoped>\n",
       "    .dataframe tbody tr th:only-of-type {\n",
       "        vertical-align: middle;\n",
       "    }\n",
       "\n",
       "    .dataframe tbody tr th {\n",
       "        vertical-align: top;\n",
       "    }\n",
       "\n",
       "    .dataframe thead th {\n",
       "        text-align: right;\n",
       "    }\n",
       "</style>\n",
       "<table border=\"1\" class=\"dataframe\">\n",
       "  <thead>\n",
       "    <tr style=\"text-align: right;\">\n",
       "      <th></th>\n",
       "      <th>survived</th>\n",
       "      <th>pclass</th>\n",
       "      <th>age</th>\n",
       "      <th>sibsp</th>\n",
       "      <th>parch</th>\n",
       "      <th>adult_male</th>\n",
       "      <th>alone</th>\n",
       "      <th>female_from_2nd_class</th>\n",
       "      <th>fare_log_zscore</th>\n",
       "      <th>sex_encoded</th>\n",
       "      <th>deck_ABC</th>\n",
       "      <th>embark_town_Cherbourg</th>\n",
       "      <th>embark_town_Queenstown</th>\n",
       "      <th>embark_town_Southampton</th>\n",
       "      <th>who_child</th>\n",
       "      <th>who_man</th>\n",
       "      <th>who_woman</th>\n",
       "      <th>age_group_0_15</th>\n",
       "      <th>age_group_15_25</th>\n",
       "      <th>age_group_25_35</th>\n",
       "      <th>age_group_35_45</th>\n",
       "      <th>age_group_45_60</th>\n",
       "      <th>age_group_60_80</th>\n",
       "    </tr>\n",
       "  </thead>\n",
       "  <tbody>\n",
       "    <tr>\n",
       "      <th>0</th>\n",
       "      <td>0</td>\n",
       "      <td>3</td>\n",
       "      <td>22.0</td>\n",
       "      <td>1</td>\n",
       "      <td>0</td>\n",
       "      <td>1</td>\n",
       "      <td>0</td>\n",
       "      <td>0</td>\n",
       "      <td>-0.879247</td>\n",
       "      <td>0</td>\n",
       "      <td>0</td>\n",
       "      <td>0</td>\n",
       "      <td>0</td>\n",
       "      <td>1</td>\n",
       "      <td>0</td>\n",
       "      <td>1</td>\n",
       "      <td>0</td>\n",
       "      <td>0</td>\n",
       "      <td>1</td>\n",
       "      <td>0</td>\n",
       "      <td>0</td>\n",
       "      <td>0</td>\n",
       "      <td>0</td>\n",
       "    </tr>\n",
       "    <tr>\n",
       "      <th>1</th>\n",
       "      <td>1</td>\n",
       "      <td>1</td>\n",
       "      <td>38.0</td>\n",
       "      <td>1</td>\n",
       "      <td>0</td>\n",
       "      <td>0</td>\n",
       "      <td>0</td>\n",
       "      <td>1</td>\n",
       "      <td>1.360456</td>\n",
       "      <td>1</td>\n",
       "      <td>1</td>\n",
       "      <td>1</td>\n",
       "      <td>0</td>\n",
       "      <td>0</td>\n",
       "      <td>0</td>\n",
       "      <td>0</td>\n",
       "      <td>1</td>\n",
       "      <td>0</td>\n",
       "      <td>0</td>\n",
       "      <td>0</td>\n",
       "      <td>1</td>\n",
       "      <td>0</td>\n",
       "      <td>0</td>\n",
       "    </tr>\n",
       "    <tr>\n",
       "      <th>2</th>\n",
       "      <td>1</td>\n",
       "      <td>3</td>\n",
       "      <td>26.0</td>\n",
       "      <td>0</td>\n",
       "      <td>0</td>\n",
       "      <td>0</td>\n",
       "      <td>1</td>\n",
       "      <td>0</td>\n",
       "      <td>-0.798092</td>\n",
       "      <td>1</td>\n",
       "      <td>0</td>\n",
       "      <td>0</td>\n",
       "      <td>0</td>\n",
       "      <td>1</td>\n",
       "      <td>0</td>\n",
       "      <td>0</td>\n",
       "      <td>1</td>\n",
       "      <td>0</td>\n",
       "      <td>0</td>\n",
       "      <td>1</td>\n",
       "      <td>0</td>\n",
       "      <td>0</td>\n",
       "      <td>0</td>\n",
       "    </tr>\n",
       "    <tr>\n",
       "      <th>3</th>\n",
       "      <td>1</td>\n",
       "      <td>1</td>\n",
       "      <td>35.0</td>\n",
       "      <td>1</td>\n",
       "      <td>0</td>\n",
       "      <td>0</td>\n",
       "      <td>0</td>\n",
       "      <td>1</td>\n",
       "      <td>1.061442</td>\n",
       "      <td>1</td>\n",
       "      <td>1</td>\n",
       "      <td>0</td>\n",
       "      <td>0</td>\n",
       "      <td>1</td>\n",
       "      <td>0</td>\n",
       "      <td>0</td>\n",
       "      <td>1</td>\n",
       "      <td>0</td>\n",
       "      <td>0</td>\n",
       "      <td>1</td>\n",
       "      <td>0</td>\n",
       "      <td>0</td>\n",
       "      <td>0</td>\n",
       "    </tr>\n",
       "    <tr>\n",
       "      <th>4</th>\n",
       "      <td>0</td>\n",
       "      <td>3</td>\n",
       "      <td>35.0</td>\n",
       "      <td>0</td>\n",
       "      <td>0</td>\n",
       "      <td>1</td>\n",
       "      <td>1</td>\n",
       "      <td>0</td>\n",
       "      <td>-0.783739</td>\n",
       "      <td>0</td>\n",
       "      <td>0</td>\n",
       "      <td>0</td>\n",
       "      <td>0</td>\n",
       "      <td>1</td>\n",
       "      <td>0</td>\n",
       "      <td>1</td>\n",
       "      <td>0</td>\n",
       "      <td>0</td>\n",
       "      <td>0</td>\n",
       "      <td>1</td>\n",
       "      <td>0</td>\n",
       "      <td>0</td>\n",
       "      <td>0</td>\n",
       "    </tr>\n",
       "  </tbody>\n",
       "</table>\n",
       "</div>"
      ],
      "text/plain": [
       "   survived  pclass   age  ...  age_group_35_45  age_group_45_60  age_group_60_80\n",
       "0         0       3  22.0  ...                0                0                0\n",
       "1         1       1  38.0  ...                1                0                0\n",
       "2         1       3  26.0  ...                0                0                0\n",
       "3         1       1  35.0  ...                0                0                0\n",
       "4         0       3  35.0  ...                0                0                0\n",
       "\n",
       "[5 rows x 23 columns]"
      ]
     },
     "metadata": {},
     "output_type": "display_data"
    }
   ],
   "source": [
    "display(\n",
    "    training_data.info(),\n",
    "    training_data.head()\n",
    ")"
   ]
  },
  {
   "cell_type": "code",
   "execution_count": 130,
   "metadata": {
    "colab": {
     "base_uri": "https://localhost:8080/",
     "height": 850
    },
    "executionInfo": {
     "elapsed": 1600,
     "status": "ok",
     "timestamp": 1635514164296,
     "user": {
      "displayName": "Samuel Doan",
      "photoUrl": "https://lh3.googleusercontent.com/a-/AOh14GjbcdQ40FcyCSIyitBN2ptY3zHWA_09harKPYF2=s64",
      "userId": "04384888964432338542"
     },
     "user_tz": -420
    },
    "id": "iCFQMP9zOuGw",
    "outputId": "f74bb248-02db-4673-e223-40d70e36410c"
   },
   "outputs": [
    {
     "data": {
      "text/html": [
       "<div>\n",
       "<style scoped>\n",
       "    .dataframe tbody tr th:only-of-type {\n",
       "        vertical-align: middle;\n",
       "    }\n",
       "\n",
       "    .dataframe tbody tr th {\n",
       "        vertical-align: top;\n",
       "    }\n",
       "\n",
       "    .dataframe thead th {\n",
       "        text-align: right;\n",
       "    }\n",
       "</style>\n",
       "<table border=\"1\" class=\"dataframe\">\n",
       "  <thead>\n",
       "    <tr style=\"text-align: right;\">\n",
       "      <th></th>\n",
       "      <th>survived</th>\n",
       "      <th>pclass</th>\n",
       "      <th>age</th>\n",
       "      <th>sibsp</th>\n",
       "      <th>parch</th>\n",
       "      <th>adult_male</th>\n",
       "      <th>alone</th>\n",
       "      <th>female_from_2nd_class</th>\n",
       "      <th>fare_log_zscore</th>\n",
       "      <th>sex_encoded</th>\n",
       "      <th>deck_ABC</th>\n",
       "      <th>embark_town_Cherbourg</th>\n",
       "      <th>embark_town_Queenstown</th>\n",
       "      <th>embark_town_Southampton</th>\n",
       "      <th>who_child</th>\n",
       "      <th>who_man</th>\n",
       "      <th>who_woman</th>\n",
       "      <th>age_group_0_15</th>\n",
       "      <th>age_group_15_25</th>\n",
       "      <th>age_group_25_35</th>\n",
       "      <th>age_group_35_45</th>\n",
       "      <th>age_group_45_60</th>\n",
       "      <th>age_group_60_80</th>\n",
       "    </tr>\n",
       "  </thead>\n",
       "  <tbody>\n",
       "    <tr>\n",
       "      <th>254</th>\n",
       "      <td>0</td>\n",
       "      <td>3</td>\n",
       "      <td>41.000000</td>\n",
       "      <td>0</td>\n",
       "      <td>2</td>\n",
       "      <td>0</td>\n",
       "      <td>0</td>\n",
       "      <td>0</td>\n",
       "      <td>0.095294</td>\n",
       "      <td>1</td>\n",
       "      <td>0</td>\n",
       "      <td>0</td>\n",
       "      <td>0</td>\n",
       "      <td>1</td>\n",
       "      <td>0</td>\n",
       "      <td>0</td>\n",
       "      <td>1</td>\n",
       "      <td>0</td>\n",
       "      <td>0</td>\n",
       "      <td>0</td>\n",
       "      <td>1</td>\n",
       "      <td>0</td>\n",
       "      <td>0</td>\n",
       "    </tr>\n",
       "    <tr>\n",
       "      <th>451</th>\n",
       "      <td>0</td>\n",
       "      <td>3</td>\n",
       "      <td>32.701923</td>\n",
       "      <td>1</td>\n",
       "      <td>0</td>\n",
       "      <td>1</td>\n",
       "      <td>0</td>\n",
       "      <td>0</td>\n",
       "      <td>0.083267</td>\n",
       "      <td>0</td>\n",
       "      <td>0</td>\n",
       "      <td>0</td>\n",
       "      <td>0</td>\n",
       "      <td>1</td>\n",
       "      <td>0</td>\n",
       "      <td>1</td>\n",
       "      <td>0</td>\n",
       "      <td>0</td>\n",
       "      <td>0</td>\n",
       "      <td>1</td>\n",
       "      <td>0</td>\n",
       "      <td>0</td>\n",
       "      <td>0</td>\n",
       "    </tr>\n",
       "    <tr>\n",
       "      <th>785</th>\n",
       "      <td>0</td>\n",
       "      <td>3</td>\n",
       "      <td>25.000000</td>\n",
       "      <td>0</td>\n",
       "      <td>0</td>\n",
       "      <td>1</td>\n",
       "      <td>1</td>\n",
       "      <td>0</td>\n",
       "      <td>-0.879247</td>\n",
       "      <td>0</td>\n",
       "      <td>0</td>\n",
       "      <td>0</td>\n",
       "      <td>0</td>\n",
       "      <td>1</td>\n",
       "      <td>0</td>\n",
       "      <td>1</td>\n",
       "      <td>0</td>\n",
       "      <td>0</td>\n",
       "      <td>1</td>\n",
       "      <td>0</td>\n",
       "      <td>0</td>\n",
       "      <td>0</td>\n",
       "      <td>0</td>\n",
       "    </tr>\n",
       "    <tr>\n",
       "      <th>311</th>\n",
       "      <td>1</td>\n",
       "      <td>1</td>\n",
       "      <td>18.000000</td>\n",
       "      <td>2</td>\n",
       "      <td>2</td>\n",
       "      <td>0</td>\n",
       "      <td>0</td>\n",
       "      <td>1</td>\n",
       "      <td>2.694740</td>\n",
       "      <td>1</td>\n",
       "      <td>1</td>\n",
       "      <td>1</td>\n",
       "      <td>0</td>\n",
       "      <td>0</td>\n",
       "      <td>0</td>\n",
       "      <td>0</td>\n",
       "      <td>1</td>\n",
       "      <td>0</td>\n",
       "      <td>1</td>\n",
       "      <td>0</td>\n",
       "      <td>0</td>\n",
       "      <td>0</td>\n",
       "      <td>0</td>\n",
       "    </tr>\n",
       "    <tr>\n",
       "      <th>19</th>\n",
       "      <td>1</td>\n",
       "      <td>3</td>\n",
       "      <td>31.084211</td>\n",
       "      <td>0</td>\n",
       "      <td>0</td>\n",
       "      <td>0</td>\n",
       "      <td>1</td>\n",
       "      <td>0</td>\n",
       "      <td>-0.882379</td>\n",
       "      <td>1</td>\n",
       "      <td>0</td>\n",
       "      <td>1</td>\n",
       "      <td>0</td>\n",
       "      <td>0</td>\n",
       "      <td>0</td>\n",
       "      <td>0</td>\n",
       "      <td>1</td>\n",
       "      <td>0</td>\n",
       "      <td>0</td>\n",
       "      <td>1</td>\n",
       "      <td>0</td>\n",
       "      <td>0</td>\n",
       "      <td>0</td>\n",
       "    </tr>\n",
       "    <tr>\n",
       "      <th>...</th>\n",
       "      <td>...</td>\n",
       "      <td>...</td>\n",
       "      <td>...</td>\n",
       "      <td>...</td>\n",
       "      <td>...</td>\n",
       "      <td>...</td>\n",
       "      <td>...</td>\n",
       "      <td>...</td>\n",
       "      <td>...</td>\n",
       "      <td>...</td>\n",
       "      <td>...</td>\n",
       "      <td>...</td>\n",
       "      <td>...</td>\n",
       "      <td>...</td>\n",
       "      <td>...</td>\n",
       "      <td>...</td>\n",
       "      <td>...</td>\n",
       "      <td>...</td>\n",
       "      <td>...</td>\n",
       "      <td>...</td>\n",
       "      <td>...</td>\n",
       "      <td>...</td>\n",
       "      <td>...</td>\n",
       "    </tr>\n",
       "    <tr>\n",
       "      <th>627</th>\n",
       "      <td>1</td>\n",
       "      <td>1</td>\n",
       "      <td>21.000000</td>\n",
       "      <td>0</td>\n",
       "      <td>0</td>\n",
       "      <td>0</td>\n",
       "      <td>1</td>\n",
       "      <td>1</td>\n",
       "      <td>1.451604</td>\n",
       "      <td>1</td>\n",
       "      <td>0</td>\n",
       "      <td>0</td>\n",
       "      <td>0</td>\n",
       "      <td>1</td>\n",
       "      <td>0</td>\n",
       "      <td>0</td>\n",
       "      <td>1</td>\n",
       "      <td>0</td>\n",
       "      <td>1</td>\n",
       "      <td>0</td>\n",
       "      <td>0</td>\n",
       "      <td>0</td>\n",
       "      <td>0</td>\n",
       "    </tr>\n",
       "    <tr>\n",
       "      <th>799</th>\n",
       "      <td>0</td>\n",
       "      <td>3</td>\n",
       "      <td>30.000000</td>\n",
       "      <td>1</td>\n",
       "      <td>1</td>\n",
       "      <td>0</td>\n",
       "      <td>0</td>\n",
       "      <td>0</td>\n",
       "      <td>0.271000</td>\n",
       "      <td>1</td>\n",
       "      <td>0</td>\n",
       "      <td>0</td>\n",
       "      <td>0</td>\n",
       "      <td>1</td>\n",
       "      <td>0</td>\n",
       "      <td>0</td>\n",
       "      <td>1</td>\n",
       "      <td>0</td>\n",
       "      <td>0</td>\n",
       "      <td>1</td>\n",
       "      <td>0</td>\n",
       "      <td>0</td>\n",
       "      <td>0</td>\n",
       "    </tr>\n",
       "    <tr>\n",
       "      <th>575</th>\n",
       "      <td>0</td>\n",
       "      <td>3</td>\n",
       "      <td>19.000000</td>\n",
       "      <td>0</td>\n",
       "      <td>0</td>\n",
       "      <td>1</td>\n",
       "      <td>1</td>\n",
       "      <td>0</td>\n",
       "      <td>-0.228477</td>\n",
       "      <td>0</td>\n",
       "      <td>0</td>\n",
       "      <td>0</td>\n",
       "      <td>0</td>\n",
       "      <td>1</td>\n",
       "      <td>0</td>\n",
       "      <td>1</td>\n",
       "      <td>0</td>\n",
       "      <td>0</td>\n",
       "      <td>1</td>\n",
       "      <td>0</td>\n",
       "      <td>0</td>\n",
       "      <td>0</td>\n",
       "      <td>0</td>\n",
       "    </tr>\n",
       "    <tr>\n",
       "      <th>390</th>\n",
       "      <td>1</td>\n",
       "      <td>1</td>\n",
       "      <td>36.000000</td>\n",
       "      <td>1</td>\n",
       "      <td>2</td>\n",
       "      <td>1</td>\n",
       "      <td>0</td>\n",
       "      <td>0</td>\n",
       "      <td>1.892109</td>\n",
       "      <td>0</td>\n",
       "      <td>1</td>\n",
       "      <td>0</td>\n",
       "      <td>0</td>\n",
       "      <td>1</td>\n",
       "      <td>0</td>\n",
       "      <td>1</td>\n",
       "      <td>0</td>\n",
       "      <td>0</td>\n",
       "      <td>0</td>\n",
       "      <td>0</td>\n",
       "      <td>1</td>\n",
       "      <td>0</td>\n",
       "      <td>0</td>\n",
       "    </tr>\n",
       "    <tr>\n",
       "      <th>72</th>\n",
       "      <td>0</td>\n",
       "      <td>2</td>\n",
       "      <td>21.000000</td>\n",
       "      <td>0</td>\n",
       "      <td>0</td>\n",
       "      <td>1</td>\n",
       "      <td>1</td>\n",
       "      <td>0</td>\n",
       "      <td>1.391627</td>\n",
       "      <td>0</td>\n",
       "      <td>0</td>\n",
       "      <td>0</td>\n",
       "      <td>0</td>\n",
       "      <td>1</td>\n",
       "      <td>0</td>\n",
       "      <td>1</td>\n",
       "      <td>0</td>\n",
       "      <td>0</td>\n",
       "      <td>1</td>\n",
       "      <td>0</td>\n",
       "      <td>0</td>\n",
       "      <td>0</td>\n",
       "      <td>0</td>\n",
       "    </tr>\n",
       "  </tbody>\n",
       "</table>\n",
       "<p>668 rows × 23 columns</p>\n",
       "</div>"
      ],
      "text/plain": [
       "     survived  pclass  ...  age_group_45_60  age_group_60_80\n",
       "254         0       3  ...                0                0\n",
       "451         0       3  ...                0                0\n",
       "785         0       3  ...                0                0\n",
       "311         1       1  ...                0                0\n",
       "19          1       3  ...                0                0\n",
       "..        ...     ...  ...              ...              ...\n",
       "627         1       1  ...                0                0\n",
       "799         0       3  ...                0                0\n",
       "575         0       3  ...                0                0\n",
       "390         1       1  ...                0                0\n",
       "72          0       2  ...                0                0\n",
       "\n",
       "[668 rows x 23 columns]"
      ]
     },
     "metadata": {},
     "output_type": "display_data"
    },
    {
     "data": {
      "text/html": [
       "<div>\n",
       "<style scoped>\n",
       "    .dataframe tbody tr th:only-of-type {\n",
       "        vertical-align: middle;\n",
       "    }\n",
       "\n",
       "    .dataframe tbody tr th {\n",
       "        vertical-align: top;\n",
       "    }\n",
       "\n",
       "    .dataframe thead th {\n",
       "        text-align: right;\n",
       "    }\n",
       "</style>\n",
       "<table border=\"1\" class=\"dataframe\">\n",
       "  <thead>\n",
       "    <tr style=\"text-align: right;\">\n",
       "      <th></th>\n",
       "      <th>survived</th>\n",
       "      <th>pclass</th>\n",
       "      <th>age</th>\n",
       "      <th>sibsp</th>\n",
       "      <th>parch</th>\n",
       "      <th>adult_male</th>\n",
       "      <th>alone</th>\n",
       "      <th>female_from_2nd_class</th>\n",
       "      <th>fare_log_zscore</th>\n",
       "      <th>sex_encoded</th>\n",
       "      <th>deck_ABC</th>\n",
       "      <th>embark_town_Cherbourg</th>\n",
       "      <th>embark_town_Queenstown</th>\n",
       "      <th>embark_town_Southampton</th>\n",
       "      <th>who_child</th>\n",
       "      <th>who_man</th>\n",
       "      <th>who_woman</th>\n",
       "      <th>age_group_0_15</th>\n",
       "      <th>age_group_15_25</th>\n",
       "      <th>age_group_25_35</th>\n",
       "      <th>age_group_35_45</th>\n",
       "      <th>age_group_45_60</th>\n",
       "      <th>age_group_60_80</th>\n",
       "    </tr>\n",
       "  </thead>\n",
       "  <tbody>\n",
       "    <tr>\n",
       "      <th>722</th>\n",
       "      <td>0</td>\n",
       "      <td>2</td>\n",
       "      <td>34.000000</td>\n",
       "      <td>0</td>\n",
       "      <td>0</td>\n",
       "      <td>1</td>\n",
       "      <td>1</td>\n",
       "      <td>0</td>\n",
       "      <td>-0.333511</td>\n",
       "      <td>0</td>\n",
       "      <td>0</td>\n",
       "      <td>0</td>\n",
       "      <td>0</td>\n",
       "      <td>1</td>\n",
       "      <td>0</td>\n",
       "      <td>1</td>\n",
       "      <td>0</td>\n",
       "      <td>0</td>\n",
       "      <td>0</td>\n",
       "      <td>1</td>\n",
       "      <td>0</td>\n",
       "      <td>0</td>\n",
       "      <td>0</td>\n",
       "    </tr>\n",
       "    <tr>\n",
       "      <th>885</th>\n",
       "      <td>0</td>\n",
       "      <td>3</td>\n",
       "      <td>39.000000</td>\n",
       "      <td>0</td>\n",
       "      <td>5</td>\n",
       "      <td>0</td>\n",
       "      <td>0</td>\n",
       "      <td>0</td>\n",
       "      <td>0.457263</td>\n",
       "      <td>1</td>\n",
       "      <td>0</td>\n",
       "      <td>0</td>\n",
       "      <td>1</td>\n",
       "      <td>0</td>\n",
       "      <td>0</td>\n",
       "      <td>0</td>\n",
       "      <td>1</td>\n",
       "      <td>0</td>\n",
       "      <td>0</td>\n",
       "      <td>0</td>\n",
       "      <td>1</td>\n",
       "      <td>0</td>\n",
       "      <td>0</td>\n",
       "    </tr>\n",
       "    <tr>\n",
       "      <th>289</th>\n",
       "      <td>1</td>\n",
       "      <td>3</td>\n",
       "      <td>22.000000</td>\n",
       "      <td>0</td>\n",
       "      <td>0</td>\n",
       "      <td>0</td>\n",
       "      <td>1</td>\n",
       "      <td>0</td>\n",
       "      <td>-0.818527</td>\n",
       "      <td>1</td>\n",
       "      <td>0</td>\n",
       "      <td>0</td>\n",
       "      <td>1</td>\n",
       "      <td>0</td>\n",
       "      <td>0</td>\n",
       "      <td>0</td>\n",
       "      <td>1</td>\n",
       "      <td>0</td>\n",
       "      <td>1</td>\n",
       "      <td>0</td>\n",
       "      <td>0</td>\n",
       "      <td>0</td>\n",
       "      <td>0</td>\n",
       "    </tr>\n",
       "    <tr>\n",
       "      <th>131</th>\n",
       "      <td>0</td>\n",
       "      <td>3</td>\n",
       "      <td>20.000000</td>\n",
       "      <td>0</td>\n",
       "      <td>0</td>\n",
       "      <td>1</td>\n",
       "      <td>1</td>\n",
       "      <td>0</td>\n",
       "      <td>-0.904572</td>\n",
       "      <td>0</td>\n",
       "      <td>0</td>\n",
       "      <td>0</td>\n",
       "      <td>0</td>\n",
       "      <td>1</td>\n",
       "      <td>0</td>\n",
       "      <td>1</td>\n",
       "      <td>0</td>\n",
       "      <td>0</td>\n",
       "      <td>1</td>\n",
       "      <td>0</td>\n",
       "      <td>0</td>\n",
       "      <td>0</td>\n",
       "      <td>0</td>\n",
       "    </tr>\n",
       "    <tr>\n",
       "      <th>615</th>\n",
       "      <td>1</td>\n",
       "      <td>2</td>\n",
       "      <td>24.000000</td>\n",
       "      <td>1</td>\n",
       "      <td>2</td>\n",
       "      <td>0</td>\n",
       "      <td>0</td>\n",
       "      <td>1</td>\n",
       "      <td>1.266613</td>\n",
       "      <td>1</td>\n",
       "      <td>0</td>\n",
       "      <td>0</td>\n",
       "      <td>0</td>\n",
       "      <td>1</td>\n",
       "      <td>0</td>\n",
       "      <td>0</td>\n",
       "      <td>1</td>\n",
       "      <td>0</td>\n",
       "      <td>1</td>\n",
       "      <td>0</td>\n",
       "      <td>0</td>\n",
       "      <td>0</td>\n",
       "      <td>0</td>\n",
       "    </tr>\n",
       "    <tr>\n",
       "      <th>...</th>\n",
       "      <td>...</td>\n",
       "      <td>...</td>\n",
       "      <td>...</td>\n",
       "      <td>...</td>\n",
       "      <td>...</td>\n",
       "      <td>...</td>\n",
       "      <td>...</td>\n",
       "      <td>...</td>\n",
       "      <td>...</td>\n",
       "      <td>...</td>\n",
       "      <td>...</td>\n",
       "      <td>...</td>\n",
       "      <td>...</td>\n",
       "      <td>...</td>\n",
       "      <td>...</td>\n",
       "      <td>...</td>\n",
       "      <td>...</td>\n",
       "      <td>...</td>\n",
       "      <td>...</td>\n",
       "      <td>...</td>\n",
       "      <td>...</td>\n",
       "      <td>...</td>\n",
       "      <td>...</td>\n",
       "    </tr>\n",
       "    <tr>\n",
       "      <th>522</th>\n",
       "      <td>0</td>\n",
       "      <td>3</td>\n",
       "      <td>32.973597</td>\n",
       "      <td>0</td>\n",
       "      <td>0</td>\n",
       "      <td>1</td>\n",
       "      <td>1</td>\n",
       "      <td>0</td>\n",
       "      <td>-0.882379</td>\n",
       "      <td>0</td>\n",
       "      <td>0</td>\n",
       "      <td>1</td>\n",
       "      <td>0</td>\n",
       "      <td>0</td>\n",
       "      <td>0</td>\n",
       "      <td>1</td>\n",
       "      <td>0</td>\n",
       "      <td>0</td>\n",
       "      <td>0</td>\n",
       "      <td>1</td>\n",
       "      <td>0</td>\n",
       "      <td>0</td>\n",
       "      <td>0</td>\n",
       "    </tr>\n",
       "    <tr>\n",
       "      <th>531</th>\n",
       "      <td>0</td>\n",
       "      <td>3</td>\n",
       "      <td>32.973597</td>\n",
       "      <td>0</td>\n",
       "      <td>0</td>\n",
       "      <td>1</td>\n",
       "      <td>1</td>\n",
       "      <td>0</td>\n",
       "      <td>-0.881852</td>\n",
       "      <td>0</td>\n",
       "      <td>0</td>\n",
       "      <td>1</td>\n",
       "      <td>0</td>\n",
       "      <td>0</td>\n",
       "      <td>0</td>\n",
       "      <td>1</td>\n",
       "      <td>0</td>\n",
       "      <td>0</td>\n",
       "      <td>0</td>\n",
       "      <td>1</td>\n",
       "      <td>0</td>\n",
       "      <td>0</td>\n",
       "      <td>0</td>\n",
       "    </tr>\n",
       "    <tr>\n",
       "      <th>209</th>\n",
       "      <td>1</td>\n",
       "      <td>1</td>\n",
       "      <td>40.000000</td>\n",
       "      <td>0</td>\n",
       "      <td>0</td>\n",
       "      <td>1</td>\n",
       "      <td>1</td>\n",
       "      <td>0</td>\n",
       "      <td>0.519572</td>\n",
       "      <td>0</td>\n",
       "      <td>1</td>\n",
       "      <td>1</td>\n",
       "      <td>0</td>\n",
       "      <td>0</td>\n",
       "      <td>0</td>\n",
       "      <td>1</td>\n",
       "      <td>0</td>\n",
       "      <td>0</td>\n",
       "      <td>0</td>\n",
       "      <td>0</td>\n",
       "      <td>1</td>\n",
       "      <td>0</td>\n",
       "      <td>0</td>\n",
       "    </tr>\n",
       "    <tr>\n",
       "      <th>860</th>\n",
       "      <td>0</td>\n",
       "      <td>3</td>\n",
       "      <td>41.000000</td>\n",
       "      <td>2</td>\n",
       "      <td>0</td>\n",
       "      <td>1</td>\n",
       "      <td>0</td>\n",
       "      <td>0</td>\n",
       "      <td>-0.254891</td>\n",
       "      <td>0</td>\n",
       "      <td>0</td>\n",
       "      <td>0</td>\n",
       "      <td>0</td>\n",
       "      <td>1</td>\n",
       "      <td>0</td>\n",
       "      <td>1</td>\n",
       "      <td>0</td>\n",
       "      <td>0</td>\n",
       "      <td>0</td>\n",
       "      <td>0</td>\n",
       "      <td>1</td>\n",
       "      <td>0</td>\n",
       "      <td>0</td>\n",
       "    </tr>\n",
       "    <tr>\n",
       "      <th>848</th>\n",
       "      <td>0</td>\n",
       "      <td>2</td>\n",
       "      <td>28.000000</td>\n",
       "      <td>0</td>\n",
       "      <td>1</td>\n",
       "      <td>1</td>\n",
       "      <td>0</td>\n",
       "      <td>0</td>\n",
       "      <td>0.582133</td>\n",
       "      <td>0</td>\n",
       "      <td>0</td>\n",
       "      <td>0</td>\n",
       "      <td>0</td>\n",
       "      <td>1</td>\n",
       "      <td>0</td>\n",
       "      <td>1</td>\n",
       "      <td>0</td>\n",
       "      <td>0</td>\n",
       "      <td>0</td>\n",
       "      <td>1</td>\n",
       "      <td>0</td>\n",
       "      <td>0</td>\n",
       "      <td>0</td>\n",
       "    </tr>\n",
       "  </tbody>\n",
       "</table>\n",
       "<p>223 rows × 23 columns</p>\n",
       "</div>"
      ],
      "text/plain": [
       "     survived  pclass  ...  age_group_45_60  age_group_60_80\n",
       "722         0       2  ...                0                0\n",
       "885         0       3  ...                0                0\n",
       "289         1       3  ...                0                0\n",
       "131         0       3  ...                0                0\n",
       "615         1       2  ...                0                0\n",
       "..        ...     ...  ...              ...              ...\n",
       "522         0       3  ...                0                0\n",
       "531         0       3  ...                0                0\n",
       "209         1       1  ...                0                0\n",
       "860         0       3  ...                0                0\n",
       "848         0       2  ...                0                0\n",
       "\n",
       "[223 rows x 23 columns]"
      ]
     },
     "metadata": {},
     "output_type": "display_data"
    }
   ],
   "source": [
    "train, test = train_test_split(training_data, random_state=420) # mỗi lần chạy lại là xáo lại dữ liệu và trả random\n",
    "# tuy nhiên cùng random_state thì kết quả giống nhau\n",
    "display(\n",
    "    train,\n",
    "    test\n",
    ")"
   ]
  },
  {
   "cell_type": "code",
   "execution_count": 131,
   "metadata": {
    "colab": {
     "base_uri": "https://localhost:8080/",
     "height": 1000
    },
    "executionInfo": {
     "elapsed": 22,
     "status": "ok",
     "timestamp": 1635514457115,
     "user": {
      "displayName": "Samuel Doan",
      "photoUrl": "https://lh3.googleusercontent.com/a-/AOh14GjbcdQ40FcyCSIyitBN2ptY3zHWA_09harKPYF2=s64",
      "userId": "04384888964432338542"
     },
     "user_tz": -420
    },
    "id": "IShKYXXiPvqo",
    "outputId": "b7f99aa7-2e8b-4970-c02f-79ed23794347"
   },
   "outputs": [
    {
     "data": {
      "text/html": [
       "<div>\n",
       "<style scoped>\n",
       "    .dataframe tbody tr th:only-of-type {\n",
       "        vertical-align: middle;\n",
       "    }\n",
       "\n",
       "    .dataframe tbody tr th {\n",
       "        vertical-align: top;\n",
       "    }\n",
       "\n",
       "    .dataframe thead th {\n",
       "        text-align: right;\n",
       "    }\n",
       "</style>\n",
       "<table border=\"1\" class=\"dataframe\">\n",
       "  <thead>\n",
       "    <tr style=\"text-align: right;\">\n",
       "      <th></th>\n",
       "      <th>pclass</th>\n",
       "      <th>age</th>\n",
       "      <th>sibsp</th>\n",
       "      <th>parch</th>\n",
       "      <th>adult_male</th>\n",
       "      <th>alone</th>\n",
       "      <th>female_from_2nd_class</th>\n",
       "      <th>fare_log_zscore</th>\n",
       "      <th>sex_encoded</th>\n",
       "      <th>deck_ABC</th>\n",
       "      <th>embark_town_Cherbourg</th>\n",
       "      <th>embark_town_Queenstown</th>\n",
       "      <th>embark_town_Southampton</th>\n",
       "      <th>who_child</th>\n",
       "      <th>who_man</th>\n",
       "      <th>who_woman</th>\n",
       "      <th>age_group_0_15</th>\n",
       "      <th>age_group_15_25</th>\n",
       "      <th>age_group_25_35</th>\n",
       "      <th>age_group_35_45</th>\n",
       "      <th>age_group_45_60</th>\n",
       "      <th>age_group_60_80</th>\n",
       "    </tr>\n",
       "  </thead>\n",
       "  <tbody>\n",
       "    <tr>\n",
       "      <th>299</th>\n",
       "      <td>1</td>\n",
       "      <td>50.000000</td>\n",
       "      <td>0</td>\n",
       "      <td>1</td>\n",
       "      <td>0</td>\n",
       "      <td>0</td>\n",
       "      <td>1</td>\n",
       "      <td>2.634833</td>\n",
       "      <td>1</td>\n",
       "      <td>1</td>\n",
       "      <td>1</td>\n",
       "      <td>0</td>\n",
       "      <td>0</td>\n",
       "      <td>0</td>\n",
       "      <td>0</td>\n",
       "      <td>1</td>\n",
       "      <td>0</td>\n",
       "      <td>0</td>\n",
       "      <td>0</td>\n",
       "      <td>0</td>\n",
       "      <td>1</td>\n",
       "      <td>0</td>\n",
       "    </tr>\n",
       "    <tr>\n",
       "      <th>523</th>\n",
       "      <td>1</td>\n",
       "      <td>44.000000</td>\n",
       "      <td>0</td>\n",
       "      <td>1</td>\n",
       "      <td>0</td>\n",
       "      <td>0</td>\n",
       "      <td>1</td>\n",
       "      <td>1.150551</td>\n",
       "      <td>1</td>\n",
       "      <td>1</td>\n",
       "      <td>1</td>\n",
       "      <td>0</td>\n",
       "      <td>0</td>\n",
       "      <td>0</td>\n",
       "      <td>0</td>\n",
       "      <td>1</td>\n",
       "      <td>0</td>\n",
       "      <td>0</td>\n",
       "      <td>0</td>\n",
       "      <td>1</td>\n",
       "      <td>0</td>\n",
       "      <td>0</td>\n",
       "    </tr>\n",
       "    <tr>\n",
       "      <th>564</th>\n",
       "      <td>3</td>\n",
       "      <td>31.084211</td>\n",
       "      <td>0</td>\n",
       "      <td>0</td>\n",
       "      <td>0</td>\n",
       "      <td>1</td>\n",
       "      <td>0</td>\n",
       "      <td>-0.783739</td>\n",
       "      <td>1</td>\n",
       "      <td>0</td>\n",
       "      <td>0</td>\n",
       "      <td>0</td>\n",
       "      <td>1</td>\n",
       "      <td>0</td>\n",
       "      <td>0</td>\n",
       "      <td>1</td>\n",
       "      <td>0</td>\n",
       "      <td>0</td>\n",
       "      <td>1</td>\n",
       "      <td>0</td>\n",
       "      <td>0</td>\n",
       "      <td>0</td>\n",
       "    </tr>\n",
       "    <tr>\n",
       "      <th>175</th>\n",
       "      <td>3</td>\n",
       "      <td>18.000000</td>\n",
       "      <td>1</td>\n",
       "      <td>1</td>\n",
       "      <td>1</td>\n",
       "      <td>0</td>\n",
       "      <td>0</td>\n",
       "      <td>-0.806311</td>\n",
       "      <td>0</td>\n",
       "      <td>0</td>\n",
       "      <td>0</td>\n",
       "      <td>0</td>\n",
       "      <td>1</td>\n",
       "      <td>0</td>\n",
       "      <td>1</td>\n",
       "      <td>0</td>\n",
       "      <td>0</td>\n",
       "      <td>1</td>\n",
       "      <td>0</td>\n",
       "      <td>0</td>\n",
       "      <td>0</td>\n",
       "      <td>0</td>\n",
       "    </tr>\n",
       "    <tr>\n",
       "      <th>883</th>\n",
       "      <td>2</td>\n",
       "      <td>28.000000</td>\n",
       "      <td>0</td>\n",
       "      <td>0</td>\n",
       "      <td>1</td>\n",
       "      <td>1</td>\n",
       "      <td>0</td>\n",
       "      <td>-0.536504</td>\n",
       "      <td>0</td>\n",
       "      <td>0</td>\n",
       "      <td>0</td>\n",
       "      <td>0</td>\n",
       "      <td>1</td>\n",
       "      <td>0</td>\n",
       "      <td>1</td>\n",
       "      <td>0</td>\n",
       "      <td>0</td>\n",
       "      <td>0</td>\n",
       "      <td>1</td>\n",
       "      <td>0</td>\n",
       "      <td>0</td>\n",
       "      <td>0</td>\n",
       "    </tr>\n",
       "    <tr>\n",
       "      <th>...</th>\n",
       "      <td>...</td>\n",
       "      <td>...</td>\n",
       "      <td>...</td>\n",
       "      <td>...</td>\n",
       "      <td>...</td>\n",
       "      <td>...</td>\n",
       "      <td>...</td>\n",
       "      <td>...</td>\n",
       "      <td>...</td>\n",
       "      <td>...</td>\n",
       "      <td>...</td>\n",
       "      <td>...</td>\n",
       "      <td>...</td>\n",
       "      <td>...</td>\n",
       "      <td>...</td>\n",
       "      <td>...</td>\n",
       "      <td>...</td>\n",
       "      <td>...</td>\n",
       "      <td>...</td>\n",
       "      <td>...</td>\n",
       "      <td>...</td>\n",
       "      <td>...</td>\n",
       "    </tr>\n",
       "    <tr>\n",
       "      <th>627</th>\n",
       "      <td>1</td>\n",
       "      <td>21.000000</td>\n",
       "      <td>0</td>\n",
       "      <td>0</td>\n",
       "      <td>0</td>\n",
       "      <td>1</td>\n",
       "      <td>1</td>\n",
       "      <td>1.451604</td>\n",
       "      <td>1</td>\n",
       "      <td>0</td>\n",
       "      <td>0</td>\n",
       "      <td>0</td>\n",
       "      <td>1</td>\n",
       "      <td>0</td>\n",
       "      <td>0</td>\n",
       "      <td>1</td>\n",
       "      <td>0</td>\n",
       "      <td>1</td>\n",
       "      <td>0</td>\n",
       "      <td>0</td>\n",
       "      <td>0</td>\n",
       "      <td>0</td>\n",
       "    </tr>\n",
       "    <tr>\n",
       "      <th>799</th>\n",
       "      <td>3</td>\n",
       "      <td>30.000000</td>\n",
       "      <td>1</td>\n",
       "      <td>1</td>\n",
       "      <td>0</td>\n",
       "      <td>0</td>\n",
       "      <td>0</td>\n",
       "      <td>0.271000</td>\n",
       "      <td>1</td>\n",
       "      <td>0</td>\n",
       "      <td>0</td>\n",
       "      <td>0</td>\n",
       "      <td>1</td>\n",
       "      <td>0</td>\n",
       "      <td>0</td>\n",
       "      <td>1</td>\n",
       "      <td>0</td>\n",
       "      <td>0</td>\n",
       "      <td>1</td>\n",
       "      <td>0</td>\n",
       "      <td>0</td>\n",
       "      <td>0</td>\n",
       "    </tr>\n",
       "    <tr>\n",
       "      <th>575</th>\n",
       "      <td>3</td>\n",
       "      <td>19.000000</td>\n",
       "      <td>0</td>\n",
       "      <td>0</td>\n",
       "      <td>1</td>\n",
       "      <td>1</td>\n",
       "      <td>0</td>\n",
       "      <td>-0.228477</td>\n",
       "      <td>0</td>\n",
       "      <td>0</td>\n",
       "      <td>0</td>\n",
       "      <td>0</td>\n",
       "      <td>1</td>\n",
       "      <td>0</td>\n",
       "      <td>1</td>\n",
       "      <td>0</td>\n",
       "      <td>0</td>\n",
       "      <td>1</td>\n",
       "      <td>0</td>\n",
       "      <td>0</td>\n",
       "      <td>0</td>\n",
       "      <td>0</td>\n",
       "    </tr>\n",
       "    <tr>\n",
       "      <th>390</th>\n",
       "      <td>1</td>\n",
       "      <td>36.000000</td>\n",
       "      <td>1</td>\n",
       "      <td>2</td>\n",
       "      <td>1</td>\n",
       "      <td>0</td>\n",
       "      <td>0</td>\n",
       "      <td>1.892109</td>\n",
       "      <td>0</td>\n",
       "      <td>1</td>\n",
       "      <td>0</td>\n",
       "      <td>0</td>\n",
       "      <td>1</td>\n",
       "      <td>0</td>\n",
       "      <td>1</td>\n",
       "      <td>0</td>\n",
       "      <td>0</td>\n",
       "      <td>0</td>\n",
       "      <td>0</td>\n",
       "      <td>1</td>\n",
       "      <td>0</td>\n",
       "      <td>0</td>\n",
       "    </tr>\n",
       "    <tr>\n",
       "      <th>72</th>\n",
       "      <td>2</td>\n",
       "      <td>21.000000</td>\n",
       "      <td>0</td>\n",
       "      <td>0</td>\n",
       "      <td>1</td>\n",
       "      <td>1</td>\n",
       "      <td>0</td>\n",
       "      <td>1.391627</td>\n",
       "      <td>0</td>\n",
       "      <td>0</td>\n",
       "      <td>0</td>\n",
       "      <td>0</td>\n",
       "      <td>1</td>\n",
       "      <td>0</td>\n",
       "      <td>1</td>\n",
       "      <td>0</td>\n",
       "      <td>0</td>\n",
       "      <td>1</td>\n",
       "      <td>0</td>\n",
       "      <td>0</td>\n",
       "      <td>0</td>\n",
       "      <td>0</td>\n",
       "    </tr>\n",
       "  </tbody>\n",
       "</table>\n",
       "<p>712 rows × 22 columns</p>\n",
       "</div>"
      ],
      "text/plain": [
       "     pclass        age  ...  age_group_45_60  age_group_60_80\n",
       "299       1  50.000000  ...                1                0\n",
       "523       1  44.000000  ...                0                0\n",
       "564       3  31.084211  ...                0                0\n",
       "175       3  18.000000  ...                0                0\n",
       "883       2  28.000000  ...                0                0\n",
       "..      ...        ...  ...              ...              ...\n",
       "627       1  21.000000  ...                0                0\n",
       "799       3  30.000000  ...                0                0\n",
       "575       3  19.000000  ...                0                0\n",
       "390       1  36.000000  ...                0                0\n",
       "72        2  21.000000  ...                0                0\n",
       "\n",
       "[712 rows x 22 columns]"
      ]
     },
     "metadata": {},
     "output_type": "display_data"
    },
    {
     "data": {
      "text/html": [
       "<div>\n",
       "<style scoped>\n",
       "    .dataframe tbody tr th:only-of-type {\n",
       "        vertical-align: middle;\n",
       "    }\n",
       "\n",
       "    .dataframe tbody tr th {\n",
       "        vertical-align: top;\n",
       "    }\n",
       "\n",
       "    .dataframe thead th {\n",
       "        text-align: right;\n",
       "    }\n",
       "</style>\n",
       "<table border=\"1\" class=\"dataframe\">\n",
       "  <thead>\n",
       "    <tr style=\"text-align: right;\">\n",
       "      <th></th>\n",
       "      <th>pclass</th>\n",
       "      <th>age</th>\n",
       "      <th>sibsp</th>\n",
       "      <th>parch</th>\n",
       "      <th>adult_male</th>\n",
       "      <th>alone</th>\n",
       "      <th>female_from_2nd_class</th>\n",
       "      <th>fare_log_zscore</th>\n",
       "      <th>sex_encoded</th>\n",
       "      <th>deck_ABC</th>\n",
       "      <th>embark_town_Cherbourg</th>\n",
       "      <th>embark_town_Queenstown</th>\n",
       "      <th>embark_town_Southampton</th>\n",
       "      <th>who_child</th>\n",
       "      <th>who_man</th>\n",
       "      <th>who_woman</th>\n",
       "      <th>age_group_0_15</th>\n",
       "      <th>age_group_15_25</th>\n",
       "      <th>age_group_25_35</th>\n",
       "      <th>age_group_35_45</th>\n",
       "      <th>age_group_45_60</th>\n",
       "      <th>age_group_60_80</th>\n",
       "    </tr>\n",
       "  </thead>\n",
       "  <tbody>\n",
       "    <tr>\n",
       "      <th>722</th>\n",
       "      <td>2</td>\n",
       "      <td>34.000000</td>\n",
       "      <td>0</td>\n",
       "      <td>0</td>\n",
       "      <td>1</td>\n",
       "      <td>1</td>\n",
       "      <td>0</td>\n",
       "      <td>-0.333511</td>\n",
       "      <td>0</td>\n",
       "      <td>0</td>\n",
       "      <td>0</td>\n",
       "      <td>0</td>\n",
       "      <td>1</td>\n",
       "      <td>0</td>\n",
       "      <td>1</td>\n",
       "      <td>0</td>\n",
       "      <td>0</td>\n",
       "      <td>0</td>\n",
       "      <td>1</td>\n",
       "      <td>0</td>\n",
       "      <td>0</td>\n",
       "      <td>0</td>\n",
       "    </tr>\n",
       "    <tr>\n",
       "      <th>885</th>\n",
       "      <td>3</td>\n",
       "      <td>39.000000</td>\n",
       "      <td>0</td>\n",
       "      <td>5</td>\n",
       "      <td>0</td>\n",
       "      <td>0</td>\n",
       "      <td>0</td>\n",
       "      <td>0.457263</td>\n",
       "      <td>1</td>\n",
       "      <td>0</td>\n",
       "      <td>0</td>\n",
       "      <td>1</td>\n",
       "      <td>0</td>\n",
       "      <td>0</td>\n",
       "      <td>0</td>\n",
       "      <td>1</td>\n",
       "      <td>0</td>\n",
       "      <td>0</td>\n",
       "      <td>0</td>\n",
       "      <td>1</td>\n",
       "      <td>0</td>\n",
       "      <td>0</td>\n",
       "    </tr>\n",
       "    <tr>\n",
       "      <th>289</th>\n",
       "      <td>3</td>\n",
       "      <td>22.000000</td>\n",
       "      <td>0</td>\n",
       "      <td>0</td>\n",
       "      <td>0</td>\n",
       "      <td>1</td>\n",
       "      <td>0</td>\n",
       "      <td>-0.818527</td>\n",
       "      <td>1</td>\n",
       "      <td>0</td>\n",
       "      <td>0</td>\n",
       "      <td>1</td>\n",
       "      <td>0</td>\n",
       "      <td>0</td>\n",
       "      <td>0</td>\n",
       "      <td>1</td>\n",
       "      <td>0</td>\n",
       "      <td>1</td>\n",
       "      <td>0</td>\n",
       "      <td>0</td>\n",
       "      <td>0</td>\n",
       "      <td>0</td>\n",
       "    </tr>\n",
       "    <tr>\n",
       "      <th>131</th>\n",
       "      <td>3</td>\n",
       "      <td>20.000000</td>\n",
       "      <td>0</td>\n",
       "      <td>0</td>\n",
       "      <td>1</td>\n",
       "      <td>1</td>\n",
       "      <td>0</td>\n",
       "      <td>-0.904572</td>\n",
       "      <td>0</td>\n",
       "      <td>0</td>\n",
       "      <td>0</td>\n",
       "      <td>0</td>\n",
       "      <td>1</td>\n",
       "      <td>0</td>\n",
       "      <td>1</td>\n",
       "      <td>0</td>\n",
       "      <td>0</td>\n",
       "      <td>1</td>\n",
       "      <td>0</td>\n",
       "      <td>0</td>\n",
       "      <td>0</td>\n",
       "      <td>0</td>\n",
       "    </tr>\n",
       "    <tr>\n",
       "      <th>615</th>\n",
       "      <td>2</td>\n",
       "      <td>24.000000</td>\n",
       "      <td>1</td>\n",
       "      <td>2</td>\n",
       "      <td>0</td>\n",
       "      <td>0</td>\n",
       "      <td>1</td>\n",
       "      <td>1.266613</td>\n",
       "      <td>1</td>\n",
       "      <td>0</td>\n",
       "      <td>0</td>\n",
       "      <td>0</td>\n",
       "      <td>1</td>\n",
       "      <td>0</td>\n",
       "      <td>0</td>\n",
       "      <td>1</td>\n",
       "      <td>0</td>\n",
       "      <td>1</td>\n",
       "      <td>0</td>\n",
       "      <td>0</td>\n",
       "      <td>0</td>\n",
       "      <td>0</td>\n",
       "    </tr>\n",
       "    <tr>\n",
       "      <th>...</th>\n",
       "      <td>...</td>\n",
       "      <td>...</td>\n",
       "      <td>...</td>\n",
       "      <td>...</td>\n",
       "      <td>...</td>\n",
       "      <td>...</td>\n",
       "      <td>...</td>\n",
       "      <td>...</td>\n",
       "      <td>...</td>\n",
       "      <td>...</td>\n",
       "      <td>...</td>\n",
       "      <td>...</td>\n",
       "      <td>...</td>\n",
       "      <td>...</td>\n",
       "      <td>...</td>\n",
       "      <td>...</td>\n",
       "      <td>...</td>\n",
       "      <td>...</td>\n",
       "      <td>...</td>\n",
       "      <td>...</td>\n",
       "      <td>...</td>\n",
       "      <td>...</td>\n",
       "    </tr>\n",
       "    <tr>\n",
       "      <th>490</th>\n",
       "      <td>3</td>\n",
       "      <td>32.701923</td>\n",
       "      <td>1</td>\n",
       "      <td>0</td>\n",
       "      <td>1</td>\n",
       "      <td>0</td>\n",
       "      <td>0</td>\n",
       "      <td>0.083267</td>\n",
       "      <td>0</td>\n",
       "      <td>0</td>\n",
       "      <td>0</td>\n",
       "      <td>0</td>\n",
       "      <td>1</td>\n",
       "      <td>0</td>\n",
       "      <td>1</td>\n",
       "      <td>0</td>\n",
       "      <td>0</td>\n",
       "      <td>0</td>\n",
       "      <td>1</td>\n",
       "      <td>0</td>\n",
       "      <td>0</td>\n",
       "      <td>0</td>\n",
       "    </tr>\n",
       "    <tr>\n",
       "      <th>183</th>\n",
       "      <td>2</td>\n",
       "      <td>1.000000</td>\n",
       "      <td>2</td>\n",
       "      <td>1</td>\n",
       "      <td>0</td>\n",
       "      <td>0</td>\n",
       "      <td>0</td>\n",
       "      <td>0.749843</td>\n",
       "      <td>0</td>\n",
       "      <td>0</td>\n",
       "      <td>0</td>\n",
       "      <td>0</td>\n",
       "      <td>1</td>\n",
       "      <td>1</td>\n",
       "      <td>0</td>\n",
       "      <td>0</td>\n",
       "      <td>1</td>\n",
       "      <td>0</td>\n",
       "      <td>0</td>\n",
       "      <td>0</td>\n",
       "      <td>0</td>\n",
       "      <td>0</td>\n",
       "    </tr>\n",
       "    <tr>\n",
       "      <th>153</th>\n",
       "      <td>3</td>\n",
       "      <td>40.500000</td>\n",
       "      <td>0</td>\n",
       "      <td>2</td>\n",
       "      <td>1</td>\n",
       "      <td>0</td>\n",
       "      <td>0</td>\n",
       "      <td>-0.228477</td>\n",
       "      <td>0</td>\n",
       "      <td>0</td>\n",
       "      <td>0</td>\n",
       "      <td>0</td>\n",
       "      <td>1</td>\n",
       "      <td>0</td>\n",
       "      <td>1</td>\n",
       "      <td>0</td>\n",
       "      <td>0</td>\n",
       "      <td>0</td>\n",
       "      <td>0</td>\n",
       "      <td>1</td>\n",
       "      <td>0</td>\n",
       "      <td>0</td>\n",
       "    </tr>\n",
       "    <tr>\n",
       "      <th>556</th>\n",
       "      <td>1</td>\n",
       "      <td>48.000000</td>\n",
       "      <td>1</td>\n",
       "      <td>0</td>\n",
       "      <td>0</td>\n",
       "      <td>0</td>\n",
       "      <td>1</td>\n",
       "      <td>0.765207</td>\n",
       "      <td>1</td>\n",
       "      <td>1</td>\n",
       "      <td>1</td>\n",
       "      <td>0</td>\n",
       "      <td>0</td>\n",
       "      <td>0</td>\n",
       "      <td>0</td>\n",
       "      <td>1</td>\n",
       "      <td>0</td>\n",
       "      <td>0</td>\n",
       "      <td>0</td>\n",
       "      <td>0</td>\n",
       "      <td>1</td>\n",
       "      <td>0</td>\n",
       "    </tr>\n",
       "    <tr>\n",
       "      <th>208</th>\n",
       "      <td>3</td>\n",
       "      <td>16.000000</td>\n",
       "      <td>0</td>\n",
       "      <td>0</td>\n",
       "      <td>0</td>\n",
       "      <td>1</td>\n",
       "      <td>0</td>\n",
       "      <td>-0.818527</td>\n",
       "      <td>1</td>\n",
       "      <td>0</td>\n",
       "      <td>0</td>\n",
       "      <td>1</td>\n",
       "      <td>0</td>\n",
       "      <td>0</td>\n",
       "      <td>0</td>\n",
       "      <td>1</td>\n",
       "      <td>0</td>\n",
       "      <td>1</td>\n",
       "      <td>0</td>\n",
       "      <td>0</td>\n",
       "      <td>0</td>\n",
       "      <td>0</td>\n",
       "    </tr>\n",
       "  </tbody>\n",
       "</table>\n",
       "<p>179 rows × 22 columns</p>\n",
       "</div>"
      ],
      "text/plain": [
       "     pclass        age  ...  age_group_45_60  age_group_60_80\n",
       "722       2  34.000000  ...                0                0\n",
       "885       3  39.000000  ...                0                0\n",
       "289       3  22.000000  ...                0                0\n",
       "131       3  20.000000  ...                0                0\n",
       "615       2  24.000000  ...                0                0\n",
       "..      ...        ...  ...              ...              ...\n",
       "490       3  32.701923  ...                0                0\n",
       "183       2   1.000000  ...                0                0\n",
       "153       3  40.500000  ...                0                0\n",
       "556       1  48.000000  ...                1                0\n",
       "208       3  16.000000  ...                0                0\n",
       "\n",
       "[179 rows x 22 columns]"
      ]
     },
     "metadata": {},
     "output_type": "display_data"
    },
    {
     "data": {
      "text/plain": [
       "299    1\n",
       "523    1\n",
       "564    0\n",
       "175    0\n",
       "883    0\n",
       "      ..\n",
       "627    1\n",
       "799    0\n",
       "575    0\n",
       "390    1\n",
       "72     0\n",
       "Name: survived, Length: 712, dtype: int64"
      ]
     },
     "metadata": {},
     "output_type": "display_data"
    },
    {
     "data": {
      "text/plain": [
       "722    0\n",
       "885    0\n",
       "289    1\n",
       "131    0\n",
       "615    1\n",
       "      ..\n",
       "490    0\n",
       "183    1\n",
       "153    0\n",
       "556    1\n",
       "208    1\n",
       "Name: survived, Length: 179, dtype: int64"
      ]
     },
     "metadata": {},
     "output_type": "display_data"
    }
   ],
   "source": [
    "# X_data = training_data.drop(columns=['survived'])\n",
    "# Y_data = training_data['survived']\n",
    "X_data, Y_data = training_data.drop(columns=['survived']), training_data['survived']\n",
    "x_train, x_test, y_train, y_test = train_test_split(X_data, Y_data, random_state=420, test_size=0.2)\n",
    "\n",
    "display(\n",
    "    x_train, x_test, y_train, y_test\n",
    ")"
   ]
  },
  {
   "cell_type": "markdown",
   "metadata": {
    "executionInfo": {
     "elapsed": 88,
     "status": "aborted",
     "timestamp": 1635509148939,
     "user": {
      "displayName": "Samuel Doan",
      "photoUrl": "https://lh3.googleusercontent.com/a-/AOh14GjbcdQ40FcyCSIyitBN2ptY3zHWA_09harKPYF2=s64",
      "userId": "04384888964432338542"
     },
     "user_tz": -420
    },
    "id": "MEmkoh2RVX1d"
   },
   "source": [
    "### Linear Model"
   ]
  },
  {
   "cell_type": "code",
   "execution_count": 132,
   "metadata": {
    "executionInfo": {
     "elapsed": 541,
     "status": "ok",
     "timestamp": 1635514575269,
     "user": {
      "displayName": "Samuel Doan",
      "photoUrl": "https://lh3.googleusercontent.com/a-/AOh14GjbcdQ40FcyCSIyitBN2ptY3zHWA_09harKPYF2=s64",
      "userId": "04384888964432338542"
     },
     "user_tz": -420
    },
    "id": "GUHDIdP0Q0WA"
   },
   "outputs": [],
   "source": [
    "from sklearn.linear_model import LogisticRegression"
   ]
  },
  {
   "cell_type": "code",
   "execution_count": 136,
   "metadata": {
    "colab": {
     "base_uri": "https://localhost:8080/"
    },
    "executionInfo": {
     "elapsed": 1553,
     "status": "ok",
     "timestamp": 1635515630342,
     "user": {
      "displayName": "Samuel Doan",
      "photoUrl": "https://lh3.googleusercontent.com/a-/AOh14GjbcdQ40FcyCSIyitBN2ptY3zHWA_09harKPYF2=s64",
      "userId": "04384888964432338542"
     },
     "user_tz": -420
    },
    "id": "GHoGvVBhUFre",
    "outputId": "06e11128-a133-4590-d583-33bc83bb2652"
   },
   "outputs": [
    {
     "data": {
      "text/plain": [
       "LogisticRegression(C=1.0, class_weight=None, dual=False, fit_intercept=True,\n",
       "                   intercept_scaling=1, l1_ratio=None, max_iter=1000,\n",
       "                   multi_class='auto', n_jobs=None, penalty='l2',\n",
       "                   random_state=None, solver='lbfgs', tol=0.0001, verbose=0,\n",
       "                   warm_start=False)"
      ]
     },
     "execution_count": 136,
     "metadata": {},
     "output_type": "execute_result"
    }
   ],
   "source": [
    "clr = LogisticRegression(\n",
    "    max_iter=1000 # giá trị mặc định = 100 thì báo warning ko tìm đc đáp án\n",
    ")\n",
    "\n",
    "clr.fit(x_train, y_train)"
   ]
  },
  {
   "cell_type": "code",
   "execution_count": 164,
   "metadata": {
    "colab": {
     "base_uri": "https://localhost:8080/"
    },
    "executionInfo": {
     "elapsed": 1434,
     "status": "ok",
     "timestamp": 1635518179302,
     "user": {
      "displayName": "Samuel Doan",
      "photoUrl": "https://lh3.googleusercontent.com/a-/AOh14GjbcdQ40FcyCSIyitBN2ptY3zHWA_09harKPYF2=s64",
      "userId": "04384888964432338542"
     },
     "user_tz": -420
    },
    "id": "SrzKTxlZeeoL",
    "outputId": "52b256b3-8915-4cc4-ecd8-fa855edea29f"
   },
   "outputs": [
    {
     "data": {
      "text/plain": [
       "pclass                    -0.588524\n",
       "age                       -0.025065\n",
       "sibsp                     -0.685218\n",
       "parch                     -0.365212\n",
       "adult_male                -0.985734\n",
       "alone                     -0.549416\n",
       "female_from_2nd_class      1.745698\n",
       "fare_log_zscore            0.391478\n",
       "sex_encoded               -0.149493\n",
       "deck_ABC                  -0.114531\n",
       "embark_town_Cherbourg      0.113956\n",
       "embark_town_Queenstown     0.174153\n",
       "embark_town_Southampton   -0.288917\n",
       "who_child                  0.671537\n",
       "who_man                   -0.985734\n",
       "who_woman                  0.313389\n",
       "age_group_0_15            -0.123318\n",
       "age_group_15_25           -0.218067\n",
       "age_group_25_35            0.296148\n",
       "age_group_35_45            0.189003\n",
       "age_group_45_60           -0.121524\n",
       "age_group_60_80           -0.023050\n",
       "dtype: float64"
      ]
     },
     "execution_count": 164,
     "metadata": {},
     "output_type": "execute_result"
    }
   ],
   "source": [
    "pd.Series(clr.coef_[0], index=x_test.columns)"
   ]
  },
  {
   "cell_type": "code",
   "execution_count": 138,
   "metadata": {
    "executionInfo": {
     "elapsed": 9,
     "status": "ok",
     "timestamp": 1635515699116,
     "user": {
      "displayName": "Samuel Doan",
      "photoUrl": "https://lh3.googleusercontent.com/a-/AOh14GjbcdQ40FcyCSIyitBN2ptY3zHWA_09harKPYF2=s64",
      "userId": "04384888964432338542"
     },
     "user_tz": -420
    },
    "id": "BSpgNHcKVKqM"
   },
   "outputs": [],
   "source": [
    "from sklearn import metrics"
   ]
  },
  {
   "cell_type": "code",
   "execution_count": 140,
   "metadata": {
    "colab": {
     "base_uri": "https://localhost:8080/"
    },
    "executionInfo": {
     "elapsed": 1436,
     "status": "ok",
     "timestamp": 1635515853848,
     "user": {
      "displayName": "Samuel Doan",
      "photoUrl": "https://lh3.googleusercontent.com/a-/AOh14GjbcdQ40FcyCSIyitBN2ptY3zHWA_09harKPYF2=s64",
      "userId": "04384888964432338542"
     },
     "user_tz": -420
    },
    "id": "qDawKTpcVQqq",
    "outputId": "e299a0bb-29ad-456a-b04c-b3ef87b0161a"
   },
   "outputs": [
    {
     "data": {
      "text/plain": [
       "array([0, 0, 1, 0, 1, 1, 1, 0, 0, 0, 1, 1, 1, 0, 0, 0, 0, 0, 1, 0, 0, 1,\n",
       "       0, 0, 0, 0, 0, 0, 0, 0, 0, 1, 0, 0, 1, 0, 0, 0, 1, 0, 0, 1, 0, 1,\n",
       "       1, 0, 1, 1, 0, 0, 0, 0, 0, 0, 0, 1, 0, 0, 0, 0, 0, 1, 1, 1, 1, 1,\n",
       "       0, 0, 1, 1, 1, 0, 0, 1, 0, 0, 0, 1, 0, 0, 0, 0, 0, 0, 1, 0, 1, 0,\n",
       "       0, 0, 0, 0, 1, 1, 1, 1, 1, 1, 0, 0, 1, 1, 0, 0, 0, 1, 1, 0, 1, 0,\n",
       "       0, 1, 0, 0, 0, 0, 1, 1, 0, 0, 1, 0, 0, 0, 0, 1, 0, 0, 0, 1, 0, 0,\n",
       "       1, 1, 1, 1, 0, 0, 0, 0, 0, 0, 0, 1, 1, 0, 0, 0, 0, 0, 0, 0, 1, 0,\n",
       "       0, 1, 0, 1, 1, 1, 1, 0, 1, 0, 0, 0, 1, 0, 0, 0, 0, 0, 1, 0, 0, 1,\n",
       "       0, 1, 1])"
      ]
     },
     "execution_count": 140,
     "metadata": {},
     "output_type": "execute_result"
    }
   ],
   "source": [
    "y_pred = clr.predict(x_test)\n",
    "y_pred"
   ]
  },
  {
   "cell_type": "code",
   "execution_count": 144,
   "metadata": {
    "colab": {
     "base_uri": "https://localhost:8080/"
    },
    "executionInfo": {
     "elapsed": 1556,
     "status": "ok",
     "timestamp": 1635515937907,
     "user": {
      "displayName": "Samuel Doan",
      "photoUrl": "https://lh3.googleusercontent.com/a-/AOh14GjbcdQ40FcyCSIyitBN2ptY3zHWA_09harKPYF2=s64",
      "userId": "04384888964432338542"
     },
     "user_tz": -420
    },
    "id": "ZMOQZi1qV3IK",
    "outputId": "74d9fdad-b8cb-463b-bc66-987516a08ec0"
   },
   "outputs": [
    {
     "data": {
      "text/plain": [
       "0.8156424581005587"
      ]
     },
     "execution_count": 144,
     "metadata": {},
     "output_type": "execute_result"
    }
   ],
   "source": [
    "(y_pred == y_test).sum()/len(y_test) # Tỷ lệ accuracy độ chính xác"
   ]
  },
  {
   "cell_type": "code",
   "execution_count": 146,
   "metadata": {
    "colab": {
     "base_uri": "https://localhost:8080/"
    },
    "executionInfo": {
     "elapsed": 856,
     "status": "ok",
     "timestamp": 1635516144850,
     "user": {
      "displayName": "Samuel Doan",
      "photoUrl": "https://lh3.googleusercontent.com/a-/AOh14GjbcdQ40FcyCSIyitBN2ptY3zHWA_09harKPYF2=s64",
      "userId": "04384888964432338542"
     },
     "user_tz": -420
    },
    "id": "MWLAG8efWxJY",
    "outputId": "0a4a0fd6-a60f-4f64-ece3-844320e09794"
   },
   "outputs": [
    {
     "data": {
      "text/plain": [
       "0.8156424581005587"
      ]
     },
     "execution_count": 146,
     "metadata": {},
     "output_type": "execute_result"
    }
   ],
   "source": [
    "metrics.accuracy_score(y_test, y_pred)"
   ]
  },
  {
   "cell_type": "code",
   "execution_count": 150,
   "metadata": {
    "colab": {
     "base_uri": "https://localhost:8080/",
     "height": 283
    },
    "executionInfo": {
     "elapsed": 1572,
     "status": "ok",
     "timestamp": 1635516348732,
     "user": {
      "displayName": "Samuel Doan",
      "photoUrl": "https://lh3.googleusercontent.com/a-/AOh14GjbcdQ40FcyCSIyitBN2ptY3zHWA_09harKPYF2=s64",
      "userId": "04384888964432338542"
     },
     "user_tz": -420
    },
    "id": "rGuhdAMyW9h0",
    "outputId": "bf12e789-49f0-4145-ba85-754465c73c81"
   },
   "outputs": [
    {
     "data": {
      "text/plain": [
       "<matplotlib.axes._subplots.AxesSubplot at 0x7f039ad2cf50>"
      ]
     },
     "execution_count": 150,
     "metadata": {},
     "output_type": "execute_result"
    },
    {
     "data": {
      "image/png": "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",
      "text/plain": [
       "<Figure size 432x288 with 2 Axes>"
      ]
     },
     "metadata": {
      "needs_background": "light"
     },
     "output_type": "display_data"
    }
   ],
   "source": [
    "# Confusion Matrix (Ma trận nhầm lẫn)\n",
    "cf_matrix = metrics.confusion_matrix(y_test, y_pred)\n",
    "names = ['True Negative', 'False Positive', 'False Negative', 'True Positive']\n",
    "labels = np.asarray([f'{i}\\n\\n{j}' for i, j in zip(names, cf_matrix.flatten())])\n",
    "sns.heatmap(cf_matrix, annot=labels.reshape(2, 2), cmap='Purples', fmt='')"
   ]
  },
  {
   "cell_type": "code",
   "execution_count": 151,
   "metadata": {
    "colab": {
     "base_uri": "https://localhost:8080/"
    },
    "executionInfo": {
     "elapsed": 1488,
     "status": "ok",
     "timestamp": 1635516801628,
     "user": {
      "displayName": "Samuel Doan",
      "photoUrl": "https://lh3.googleusercontent.com/a-/AOh14GjbcdQ40FcyCSIyitBN2ptY3zHWA_09harKPYF2=s64",
      "userId": "04384888964432338542"
     },
     "user_tz": -420
    },
    "id": "FusKTUaYYzPQ",
    "outputId": "f9e579ef-535e-4481-c548-1f3ac043d66d"
   },
   "outputs": [
    {
     "data": {
      "text/plain": [
       "0.8153846153846154"
      ]
     },
     "execution_count": 151,
     "metadata": {},
     "output_type": "execute_result"
    }
   ],
   "source": [
    "# Ma trận nhầm lẫn có 4 phân loại: 11, 10, 01, 01 (dự đoán - thực tế)\n",
    "# Tỷ lệ Precision: trong tất cả dự đoán là 1 -> đoán đúng bao nhiêu\n",
    "metrics.precision_score(y_test, y_pred)\n"
   ]
  },
  {
   "cell_type": "code",
   "execution_count": 152,
   "metadata": {
    "colab": {
     "base_uri": "https://localhost:8080/"
    },
    "executionInfo": {
     "elapsed": 1503,
     "status": "ok",
     "timestamp": 1635516839918,
     "user": {
      "displayName": "Samuel Doan",
      "photoUrl": "https://lh3.googleusercontent.com/a-/AOh14GjbcdQ40FcyCSIyitBN2ptY3zHWA_09harKPYF2=s64",
      "userId": "04384888964432338542"
     },
     "user_tz": -420
    },
    "id": "_-QIfcneZfg7",
    "outputId": "b1b0c39a-1684-40d0-b80f-4873deab07dd"
   },
   "outputs": [
    {
     "data": {
      "text/plain": [
       "0.7162162162162162"
      ]
     },
     "execution_count": 152,
     "metadata": {},
     "output_type": "execute_result"
    }
   ],
   "source": [
    "# Tỷ lệ Recall: trong tất của thực tế là 1 -> đoán ra bao nhiêu\n",
    "metrics.recall_score(y_test, y_pred)"
   ]
  },
  {
   "cell_type": "code",
   "execution_count": 153,
   "metadata": {
    "colab": {
     "base_uri": "https://localhost:8080/"
    },
    "executionInfo": {
     "elapsed": 8,
     "status": "ok",
     "timestamp": 1635516892988,
     "user": {
      "displayName": "Samuel Doan",
      "photoUrl": "https://lh3.googleusercontent.com/a-/AOh14GjbcdQ40FcyCSIyitBN2ptY3zHWA_09harKPYF2=s64",
      "userId": "04384888964432338542"
     },
     "user_tz": -420
    },
    "id": "P-zjOvs5Zv99",
    "outputId": "2437e920-10e7-4b0c-eb57-da468fc9e9b2"
   },
   "outputs": [
    {
     "data": {
      "text/plain": [
       "0.762589928057554"
      ]
     },
     "execution_count": 153,
     "metadata": {},
     "output_type": "execute_result"
    }
   ],
   "source": [
    "# Trung bình điều hòa\n",
    "metrics.f1_score(y_test, y_pred)"
   ]
  },
  {
   "cell_type": "code",
   "execution_count": null,
   "metadata": {
    "executionInfo": {
     "elapsed": 89,
     "status": "aborted",
     "timestamp": 1635509148940,
     "user": {
      "displayName": "Samuel Doan",
      "photoUrl": "https://lh3.googleusercontent.com/a-/AOh14GjbcdQ40FcyCSIyitBN2ptY3zHWA_09harKPYF2=s64",
      "userId": "04384888964432338542"
     },
     "user_tz": -420
    },
    "id": "sq6_wWJo8H3A"
   },
   "outputs": [],
   "source": [
    "### Gradient Descent "
   ]
  },
  {
   "cell_type": "markdown",
   "metadata": {},
   "source": [
    "### Tree Model"
   ]
  },
  {
   "cell_type": "code",
   "execution_count": 154,
   "metadata": {
    "executionInfo": {
     "elapsed": 1470,
     "status": "ok",
     "timestamp": 1635517177797,
     "user": {
      "displayName": "Samuel Doan",
      "photoUrl": "https://lh3.googleusercontent.com/a-/AOh14GjbcdQ40FcyCSIyitBN2ptY3zHWA_09harKPYF2=s64",
      "userId": "04384888964432338542"
     },
     "user_tz": -420
    },
    "id": "9eosT7Qp8H3A"
   },
   "outputs": [],
   "source": [
    "from sklearn.tree import DecisionTreeClassifier"
   ]
  },
  {
   "cell_type": "code",
   "execution_count": 155,
   "metadata": {
    "colab": {
     "base_uri": "https://localhost:8080/"
    },
    "executionInfo": {
     "elapsed": 446,
     "status": "ok",
     "timestamp": 1635517205860,
     "user": {
      "displayName": "Samuel Doan",
      "photoUrl": "https://lh3.googleusercontent.com/a-/AOh14GjbcdQ40FcyCSIyitBN2ptY3zHWA_09harKPYF2=s64",
      "userId": "04384888964432338542"
     },
     "user_tz": -420
    },
    "id": "MaspOCd3a6hT",
    "outputId": "0740f486-2b30-49aa-e620-9c9eae85d811"
   },
   "outputs": [
    {
     "data": {
      "text/plain": [
       "DecisionTreeClassifier(ccp_alpha=0.0, class_weight=None, criterion='gini',\n",
       "                       max_depth=None, max_features=None, max_leaf_nodes=None,\n",
       "                       min_impurity_decrease=0.0, min_impurity_split=None,\n",
       "                       min_samples_leaf=1, min_samples_split=2,\n",
       "                       min_weight_fraction_leaf=0.0, presort='deprecated',\n",
       "                       random_state=None, splitter='best')"
      ]
     },
     "execution_count": 155,
     "metadata": {},
     "output_type": "execute_result"
    }
   ],
   "source": [
    "tree = DecisionTreeClassifier()\n",
    "tree.fit(x_train, y_train)"
   ]
  },
  {
   "cell_type": "code",
   "execution_count": 156,
   "metadata": {
    "colab": {
     "base_uri": "https://localhost:8080/"
    },
    "executionInfo": {
     "elapsed": 13,
     "status": "ok",
     "timestamp": 1635517247773,
     "user": {
      "displayName": "Samuel Doan",
      "photoUrl": "https://lh3.googleusercontent.com/a-/AOh14GjbcdQ40FcyCSIyitBN2ptY3zHWA_09harKPYF2=s64",
      "userId": "04384888964432338542"
     },
     "user_tz": -420
    },
    "id": "dAcaW4MPbH0Y",
    "outputId": "c4f026ac-7829-4ff6-a7c2-497b76953673"
   },
   "outputs": [
    {
     "data": {
      "text/plain": [
       "array([0, 0, 0, 0, 1, 1, 1, 0, 0, 0, 1, 1, 1, 0, 0, 1, 0, 0, 1, 1, 0, 1,\n",
       "       0, 1, 0, 0, 0, 0, 0, 0, 0, 0, 0, 0, 1, 0, 0, 0, 1, 0, 1, 1, 0, 0,\n",
       "       1, 0, 0, 0, 0, 0, 1, 0, 0, 0, 1, 1, 0, 0, 0, 1, 0, 0, 1, 1, 1, 1,\n",
       "       0, 1, 1, 0, 1, 0, 0, 1, 0, 0, 0, 1, 0, 0, 0, 0, 1, 0, 1, 0, 1, 0,\n",
       "       0, 0, 1, 0, 1, 1, 0, 1, 1, 1, 0, 0, 1, 1, 0, 0, 0, 1, 1, 0, 1, 1,\n",
       "       1, 1, 1, 0, 0, 0, 1, 1, 0, 0, 1, 0, 0, 0, 0, 0, 0, 0, 0, 1, 1, 0,\n",
       "       1, 0, 1, 1, 0, 0, 0, 0, 0, 0, 0, 1, 1, 0, 0, 0, 0, 0, 0, 0, 1, 0,\n",
       "       0, 1, 0, 0, 1, 1, 0, 0, 1, 0, 0, 0, 1, 1, 0, 0, 0, 0, 1, 0, 0, 1,\n",
       "       0, 1, 1])"
      ]
     },
     "execution_count": 156,
     "metadata": {},
     "output_type": "execute_result"
    }
   ],
   "source": [
    "y_pred = tree.predict(x_test)\n",
    "y_pred"
   ]
  },
  {
   "cell_type": "code",
   "execution_count": 157,
   "metadata": {
    "colab": {
     "base_uri": "https://localhost:8080/"
    },
    "executionInfo": {
     "elapsed": 1788,
     "status": "ok",
     "timestamp": 1635517260360,
     "user": {
      "displayName": "Samuel Doan",
      "photoUrl": "https://lh3.googleusercontent.com/a-/AOh14GjbcdQ40FcyCSIyitBN2ptY3zHWA_09harKPYF2=s64",
      "userId": "04384888964432338542"
     },
     "user_tz": -420
    },
    "id": "LXaz3qDnbH0j",
    "outputId": "d3987f3d-44c9-4c94-bc26-fdadd97320f1"
   },
   "outputs": [
    {
     "data": {
      "text/plain": [
       "0.8324022346368715"
      ]
     },
     "execution_count": 157,
     "metadata": {},
     "output_type": "execute_result"
    }
   ],
   "source": [
    "metrics.accuracy_score(y_test, y_pred)"
   ]
  },
  {
   "cell_type": "code",
   "execution_count": 158,
   "metadata": {
    "colab": {
     "base_uri": "https://localhost:8080/",
     "height": 283
    },
    "executionInfo": {
     "elapsed": 1760,
     "status": "ok",
     "timestamp": 1635517271224,
     "user": {
      "displayName": "Samuel Doan",
      "photoUrl": "https://lh3.googleusercontent.com/a-/AOh14GjbcdQ40FcyCSIyitBN2ptY3zHWA_09harKPYF2=s64",
      "userId": "04384888964432338542"
     },
     "user_tz": -420
    },
    "id": "KZDgRKR4bH0l",
    "outputId": "dafb6790-3123-4ce9-f356-ab6877b18cb8"
   },
   "outputs": [
    {
     "data": {
      "text/plain": [
       "<matplotlib.axes._subplots.AxesSubplot at 0x7f0399227210>"
      ]
     },
     "execution_count": 158,
     "metadata": {},
     "output_type": "execute_result"
    },
    {
     "data": {
      "image/png": "iVBORw0KGgoAAAANSUhEUgAAAVoAAAD4CAYAAACt8i4nAAAABHNCSVQICAgIfAhkiAAAAAlwSFlzAAALEgAACxIB0t1+/AAAADh0RVh0U29mdHdhcmUAbWF0cGxvdGxpYiB2ZXJzaW9uMy4yLjIsIGh0dHA6Ly9tYXRwbG90bGliLm9yZy+WH4yJAAAgAElEQVR4nO3dd3xUVf7G8c83hZBQhNBEutKLgGGRDlIU/aEUEUFW0cXFhrprWV1lreiq6Kq7NpqKroq0CIuKKAICSsdduvTQQwlSAqSd3x8zxtAyicwkw+V587qvzNx759wvITwczi3HnHOIiEjoRBR2ASIiXqegFREJMQWtiEiIKWhFREJMQSsiEmJRoT5AB3tClzXIKWakP1XYJUgYioyKsLNtIz+ZM8s9c9bHywv1aEVEQizkPVoRkYJkViCd1HxR0IqIp1ikglZEJKTCsEOrMVoR8RizvC8Bm7L7zWyFma00sz/518Wb2ddmts7/tXSgdhS0IuIpwcpZM2sI/BFoDjQGuplZTeBRYIZzrhYww/8+VwpaEfEUi7A8LwHUAxY451KdcxnAbKAX0B0Y499nDNAjUEMKWhHxlnx0ac1skJktzrEMytHSCqCtmZUxszjgGqAKUME5t9O/zy6gQqCSdDJMRDwlIh/3PDjnRgAjzrBttZm9CEwHjgA/Apkn7ePMLOANEurRioi3WD6WAJxzo51zCc65dkAK8BOw28wqAvi/JgdqR0ErIp4SxDFazKy8/2tVfOOzHwNTgAH+XQYAkwO1o6EDEfGUIF9HO9HMygDpwD3OuQNm9gIwzswGAluAPoEaUdCKiLcEMWmdc21Ps24f0Ck/7ShoRcRTInQLrohIiIXhPbgKWhHxlDDMWQWtiHiLHpMoIhJq4ZezCloR8Za8XB9b0BS0IuIpCloRkRDTGK2ISKiF4YMFFLQi4inq0YqIhFgY5qyCVkS8RSfDRERCTEErIhJqYTh2oKAVEU8Jw5xV0IqIt+iqAxGRUNN1tCIioRUREX5JG34ViYicBYvI+xKwLbM/m9lKM1thZp+YWVEzq2FmC8xsvZl9amZFArWjoBURbzHL+5JrM1YJuA9o5pxrCEQCfYEXgVedczXxTUE+MFBJCloR8ZQg5ewvooBYM4sC4oCdQEdggn/7GKBHoEYUtCLiKRZheV/MBpnZ4hzLoF/acc5tB14GkvAF7M/AEuCAcy7Dv9s2oFKgmnQyTES8JR+XdznnRgAjTt+MlQa6AzWAA8B4oOtvKUlBKyKeEsTpxjsDm5xzewDMbBLQGihlZlH+Xm1lYHvAmoJVkYhIWAjeIG0S0MLM4sx3F0QnYBUwE+jt32cAMDlQQ+dF0JaMj2XUsrsYtewuJu18mPHbHsp+HxUdGZRjvDbzNoYvuiP7fZ2Ei3ht5m1BaTunrgOaUKZiiez3D4/sTrV65YJ+nPNJw0YN6NmrZ/ayffuZOygJzRLO+niPPfZXulzZmZ69enJ97178+OOyfLfxtyeGsH79egCGjxh+wrab+vc76xrPZcHKWefcAnwnvZYCy/Hl5QjgEeABM1sPlAFGB6rpvBg6OLj/KLc3fRuAW5+8gqOH0/j0lXnZ2yMjI8jMzDrr45QqX4zmXWuxcNq6s27rTLre2pRNK5LZt/MQAMP+GPAfUwkgJqYoiZMSC/SYDz34MFdddRXz5s3jqaef4rPE/P05PvvM0OzXI0aM4I5Bv/4j//FHnwStznNRMJ/e5Zx7EnjypNUbgeb5aee8CNrTefS9nqQdy6Bm04qsmJdE6sHjJwTwe8vv4a/dPmLXlgN06X8pve5rQXSRSFYt2MZrd08lK8ud0ubYYfO4+fF2pwRtRIQx6IUuNOlQg+iYSD57cyH/GbEYM+P+N/6PyzrWIHnrQTLSM/ny3aXMnriKW/7WgVbX1iEmNooV32/llTum0P76+tRpdhGPf9SbtKPp3N1yJC99eTNvP/QVdZpdxEWXxPPOX6YDvp5vnWaVeP3ez/Ncv/gcOXKEwfcO5uDBn8nIyOC+++6nU8dOJ+yzZ08yDzz4AIcPHyEzM4MnnniSZgnNmDdvHm+8+S/S0tKoUqUqzw19jmLFip3xWM2aNSMpKQmA999/n0mJEwHofX1vbrllAKmpqTzw4J/ZvWs3mVmZ3HXnXVx99TUMuPUWHn7oL0yf/hXHjx+jZ6+e1KxZk2EvDSOhWQJLFi/hwYce4Lprr6N9+w6Aryfdvn0HOnfuzD9e/QeLFi4kLT2Nfv1u4sY+N4bmm1kYwu9RB+fH0MGZlKtcksGtRvLWg9POuE/VumW54sZGDG49itubvk1WpqNz/0tPu++qH7aSnpZJkw41Tlh/zcDLOPLzce5sPpw7fzecbn9M4MLqpWjXqx4XVi/FgPpv8PzNE2nQskr2ZxLfWMCdzYdzW6M3iYmNomW3OsyeuIq1i3fwXP8J3N70bdKOZWTvP3viKtr2rJf9/oobG/Ht2OX5qv989UtQ9ezVk3vvG0xMTAz/+ue/mDhhEu+/N4aXXnoJ5078h2nq55/TunUbEiclkjjpM+rVrUdKSgrvDH+b0aPeZeKESTRs0IAxY97P9dgzZ82kVq3arFy5ksTPJjH2k0/55OOxjJ8wnlWrVzF37lzKlytPYuJnTJn8H9q0aXvC5x944MHsHvmwl4adsO3qrlczbZrvZzstLY35C+bTvn17Jk6cSInixRk3bjzjPh3PhAnj2bZt29l/I8NERGREnpeCct72aAFmjV8ZsGeX0OliaidUzB5/LRIbzYHkI2fc/8Ohs7l5SHtGPDI9e93vrqzJxZdWoH3v+gAUu6AolWuVoVGbaswavxLnHPt3H2bZzE3Zn2l6RQ36/qUNReOiKREfy+aVe/hh6tozHvfnvans2JhC/csrs23dPqrWLcvyeUn0vKd5vuo/H508dJCens5rr73K4iWLMYsgOXk3e/fupVy5X8fCGzVsyONDhpCRkUGnjp2oV68eixYtZMOGDfT/ff/sdpo0aXzaY778yjDeGf4O8fGlGfrss8yfP5/OnToTFxcHQJfOXViyZAlt27ThpWEv8sorL9O+QweaJTTL8++rbdt2PP/3v5OWlsacuXNISGhG0aJF+f77eaz9aS1fTff9jB4+fIgtW7ZQuXLlfH/vwlEYPrzr/A7aY0fSsl9nZmSdMLZTpKj/W2PGV2N+ZORj3+SpzWUzNzFwaCfqt8jxQ2vwz3u/YNH09Sfs2+Ka2qdto0hMFH96qxt3NHuHPdsOcuuTV/xaTy6+HbucDn0akrRmD3MSV/+m+gWmTp3K/pT9jB83gejoaDp36URaWtoJ+zRr9js+/OBDZs+exWOPP8atAwZQsuQFtGrZipdffiXgMX4Zo/3F/PnzT7tf9eo1mDB+It/N+Y5//vN1WlzegrvvvidPv4+YmBiaN/8dc+fOZdqXX3L11dcA4Jzj8ceG0KZNmzy1c84Jw6Q9r4cOctq1OYXal1UEoFbTilxYozQAS2dspH3vBpQq5xtnK1E6lgpVL8i1rQ+HzqbvX379IV701Xq63/U7IqN83+7KtcpQNC6a5fOSaH99fcyM0uWL0aRDdeDXkP95byqxxYpk94QBUg+lEVsi5rTHnZO4mtbd69Kp36V8O3b5b67/fHf48CHi48sQHR3NggUL2LFjxyn7bN+xnTJlynDDDX3ofX1vVq1aRePGjVm6bBlbtmwBIDU1lc2bN53y2dNJSEhgxrczOHr0KKmpqXwz4xsSEhJITk4mNjaW6669jj/c9gdWrV59ymejo6NIT08/bbtXd72axM8msWTpkuxgbd26DWM/HZv9mc2bN5GampqnOs8F+bkzrKCc1z3anGZPXMWVtzThvRWDWb1gG9t+2gfAltV7GD1kBi9PvwWLMDLSs3j9nqnsTvr5jG0t+HIdB/b8+oP7+ailXFi9NCOX3oUZHNiTypAeH/PdxFUkdLqYMasGk7z1IOuW7uTwz8c5/PMxPh+5hPdWDGb/rsOsWfTr5UbT3l/GA+9cm30yLKfDB46RtHoP1eqXy/7Mb6n/fNet27Xcfc9ddO9xHQ0aNOTiiy8+ZZ9FCxfx7nujiYqKJi4ujhf+/gLx8fE8/9zzPPzwQ6Sl+3rA9917P9Wr1zjl8yerX78BPbr35Ma+fQDfybD69eozd+5cXn5lGGYRREdF8cQTJ58Ahxt630DPXj2oV6/+KeO0rVq15pFHH6Vjx44UKeJ7yFTv3r3ZvmM7vW+4Hucc8aXj+de/3sj39ylchWGHFjt5kD/YOtgTOr2di9hiRTh6JI2S8bG8vfAO7m09iv27Dxd2WSE3I/2pwi5BwlBk1Nl3M2/v8m6eM2fU138okFhWj7aQ/X1qf4qXKkpUkUg+fHbWeRGyIqEUxFtwg0ZBW8j+dMV7hV2CiLeE4diBglZEPCUMc1ZBKyLeUpBXE+SVglZEvCUMu7QKWhHxlDDM2cBBa2Z18T1l/JfpGrYDU5xzp145LSJSyKwAn2GQV7lWZGaPAGPxPQ9noX8x4BMzezSXz2XPw7ODpcGsV0QkV0GenDEoAvVoBwINnHMn3N9nZv8AVgIvnO5DOefh0Q0LIlKQwvFkWKA+dhZw0WnWV/RvExEJK2aW56WgBOrR/gmYYWbrgK3+dVWBmsDgUBYmIvKbhF+HNvegdc5NM7Pa+KZtyHkybJFzLjPUxYmI5FewHuhtZnWAT3Osuhh4AvjAv746sBno45xLya2tgFcdOOeygNM/LFNEJNwEaYzWObcWaAJgZpH4OpmJwKPADOfcC/6LAh7FN2HjmUsKSkUiImEiRFcddAI2OOe24LvcdYx//RigR6AP64aFELn+vhZ0+2MCmPH5yCVMeP0H/vBMR1p3r4vLcqQkH+GFWxOzZ7OV88PjQx5n9uxZxMfHM2XyfwAY9vIwZs2aSXR0NFWqVOG5oc9TsmTJQq703JWfk1xmNggYlGPVCP9VUyfrC/wyvXAF59xO/+tdQIVAx1GPNgRqNChPtz8mcGfzEdze+C1adqtNpUviGTtsHgMbv8XtTd/mh6lrGfBEh8IuVQpYzx49GDH8xL/HrVq2YvJnU/gscTLVq1Vn5MjT/T2XPIuwPC/OuRHOuWY5llO++WZWBLgOGH/yNud7oHfAS1gVtCFQtV45Vi3YxvGj6WRmZvHj7M207VWf1EPHs/cpWqzIKTOrivc1a/Y7Lrig1AnrWrduTVSU7z+XjRs3Ztfu3YVRmmeEYOjgamCpc+6XP5jdZlbRdyyrCCQHakBBGwKbVuzm0rbVKBkfS0xsNC2uqU35Kr7/Cg4c2olxSQ/Spf+lvPvEt4VcqYSbSZMm0bZt28A7yhlZZESelzzqx6/DBgBTgAH+1wOAyYEaUNCGQNKavXzy4lyGTR/AS9NuZv2PO8nK9PVeRw+ZQZ+qr/D1R/+j5+DLC7lSCSfvDH+HyKhIru12bWGXck4L5g0LZlYM6AJMyrH6BaCL//6CzpzhDtmcFLQh8sW7S7mj2Tvc3/5dDqUcY+tPe0/Y/s1H/6P99fXP8Gk53yQmJjJ79ixeenFYgd6x5EUWkfclEOfcEedcGefczznW7XPOdXLO1XLOdXbO7Q/UjoI2RH6Z3rt8lQto16seMz5eTqWa8dnbW3evS9KavWf6uJxH5syZw+h3R/PmG28RGxtb2OWc887FW3DlN3pmYl9KloklIz2L1+75nMM/H+Ph0d2pWqcsWVmO3Vt+5h93TinsMqWAPfTQgyxctJADBw5wRccODL5nMCNGjiQ9PY2Btw8EfCfEnnryqUKt85wWhv8j0HTjUig03bicTjCmG3/k7s/ynDkvvtVD042LiORXOD74W0ErIp4SjicTFbQi4ilhmLMKWhHxmDCcYUFBKyKeoqEDEZEQs0gFrYhISKlHKyISYuE4C66CVkS8JfxyVkErIt6ioQMRkRDT0IGISIgpaEVEQkxDByIiIRaGOaugFRFvCcegDb/niYmInIUgzxlWyswmmNkaM1ttZi3NLN7Mvjazdf6vpQO1o6AVEU+JiLA8L3nwOjDNOVcXaAysBh4FZjjnagEz/O9zr+ksfj8iImHHLO9L7u3YBUA7YDSAcy7NOXcA6A6M8e82BugRqCYFrYh4Sn6GDsxskJktzrEMytFUDWAP8J6ZLTOzUf7pxys453b699kFVAhUk06GiYin5OdkmHNuBDDiDJujgMuAe51zC8zsdU4aJnDOOTMLOEeZerQi4imWj18BbAO2OecW+N9PwBe8u82sIoD/a3KghhS0IuIpwRqjdc7tAraaWR3/qk7AKmAKMMC/bgAwOVBNGjoQEU/J49UEeXUv8JGZFQE2Arfh66COM7OBwBagT6BGFLQi4inBvGHBOfcj0Ow0mzrlpx0FrYh4SxjeGqagFRFPCcOcVdCKiLfo6V0iIiEWhjmroBURbwnyVQdBoaAVEU8Jv5hV0IqIx2iMVkQkxMIwZxW0IuIt6tGKiISYToaJiIRYGHZoFbQi4i0KWhGRENMYrYhIiIVhzoY+aL849HioDyHnoLff/L6wS5AwNPj+Nmfdhnq0IiIhZrrqQEQktNSjFREJsTDMWQWtiHhLMHu0ZrYZOARkAhnOuWZmFg98ClQHNgN9nHMpubWjWXBFxFOCNQtuDlc455o4536ZO+xRYIZzrhYww/8+VwpaEfEUM8vz8ht1B8b4X48BegT6gIJWRDwlIsLyvJjZIDNbnGMZdFJzDphuZktybKvgnNvpf70LqBCoJo3Rioin5Ken6pwbAYzIZZc2zrntZlYe+NrM1pz0eWdmLtBxFLQi4inBvI7WObfd/zXZzBKB5sBuM6vonNtpZhWB5EDtaOhARDwlWCfDzKyYmZX45TVwJbACmAIM8O82AJgcqCb1aEXEU4J4eVcFINHfXhTwsXNumpktAsaZ2UBgC9AnUEMKWhHxlGA9+Ns5txFofJr1+4BO+WlLQSsinqJbcEVEQiwMc1ZBKyIeE4ZJq6AVEU/R0IGISIiFYc4qaEXEWyIiwy9pFbQi4ikaOhARCTEFrYhIiIVhzipoRcRb1KMVEQkxBa2ISIgF61kHwaSgFRFPUY9WRCTEwjBnFbQi4i3BnGEhWBS0IuIp6tGKiIRYOI7Ras4wEfEUM8vzksf2Is1smZlN9b+vYWYLzGy9mX1qZkUCtaGgFRFPCdbkjDncD6zO8f5F4FXnXE0gBRgYqAEFrYh4SjB7tGZWGfg/YJT/vQEdgQn+XcYAPQK1ozFaEfGUIA/Rvgb8BSjhf18GOOCcy/C/3wZUCtSIerQi4in56dGa2SAzW5xjGZSjnW5AsnNuydnWpB6tiHhKfm7Bdc6NAEacYXNr4DozuwYoCpQEXgdKmVmUv1dbGdgesKY8VyQicg4I1skw59xfnXOVnXPVgb7At865/sBMoLd/twHA5EA1KWhFxFNCcNXByR4BHjCz9fjGbEcH+oCGDkTEU4zg37DgnJsFzPK/3gg0z8/nPR+0Cb9rQs2atbLfv/rKa1x00elPErZqcznfz11wVsd74skhzF8wn6lTvqBIkSKkpKTQ/+Z+fDF12lm1e7KZM7+larVqXHLxJQC89fabXHZZAi0ubxHU45wvihaNonuvhgDExRXBOcfRo+kAjB/7X7Ky3Fkfo+f1jYgrFk1mhiM9PZMZX6/jwIGj+WqjW/f6TP9yLQC165Zjxf92AVCsWBHatr+YaV+sOes6z3VheGOY94M2JiaGTz8ZX6DHjIyI4LPJifS54caQHWPmrG9p27ZddtDefdc9ITvW+eDYsQw+/fhHAJpfXpX09EyWLf31HIcZuLPPWr6e9hPJyYdp0LACrdtW5/P/rA78oRymTl4FQIkSMTRqVDE7aI8cSVPI+ul5tGEgNTWVPz9wHwcPHiQjI4O7776XKzpcccI+e/bs4ZG/PsyRI0fIzMzgsb8O4bKmCfzww/e8Pfwt0tPSqFy5Ck8/9SxxcXGnHOOmm37PRx//m149rz9l25gP3mP619NJT0vjiis6ctedvoAcMXI4X3w5ldKl4qlwYQXq163PLbfcyqRJE5iYOJH09HSqVKnC0GeeZ+1Pa5n93SyWLF3MqNEjefmlfzBy1HDatm1HXFwcn32WyLCXXgFg8eJFfPDhGP75+ht5rl98OnWpRWZmFmXLFWfXjoOkpWWeEMD9+jdl6pRVHDp0nNp1ytG4yUVERBq7dx1i9swNuQbz9u0HadzE9z+rVm2qU61aaQAWLdzK+nV7iYuL5qpr6lKkSCQRZsyauYGdOw5yy23NGPfJj7RsXZ0LShXlxpuasDXpAMv/u5Nu19Xnk4+W0bvPpXz7zXr2708FfD3peXM2sX9/Ku06XEKZMnFERBgLFySxaeP+0H4TC0E4PuvA80F7/Phxbux3AwCVLqrESy++zCsvv0bx4sVJSUlhwK2/p0P7Dif84Xw57QtatWzF7QMHkZmZybFjx0hJSWHk6BEMf3sEsbFxvPf+u3z47w+4Y9CdpxzzwgsvpGmTpnz+xVTatW2fvf6HH74nKSmJf3/wMc45/vTn+1iydDFFY4oy49tv+PSTCWRkZNCv/43Ur1sfgI4dO9Orl+8E55tv/YvPJifSr+9NtG/XgbZt29Gl85UnHPvy5i0YOvQZjh5NJTY2jq+mT+Oqq7rmq375VfHiMUwc91+c8/V0T6d06Vhq1S7HxPH/IyvL0f6KS6hdpzxr1ySfsd0aNeLZt+8Il9QsQ9lyxRj78TKKxkbTp29jdmz/mdp1ypO0JYUli7ZhBlFRkSd8/od5mylTJi67F16iREz2tnXr9lKzdlkWzk8iLi6auGLRJCcfpkWramzbeoBvv1lHkSKR9OnrC+mMjKwgfKfCRxjmrPeD9uShg/T0dN54858sXboEi4ggeU8y+/bto2zZstn7NGjQgKeffpKMjAyu6NCROnXqsmTJYjZt3MitfxiQ3c6llzY+43Fvu20gf37gftq2aZu97of53/PD/B/oe1MfAI6mppKUlERq6hE6tO9ATEwMMTExtGv3aziv37Cet976F4cOHSL1aCotW7bO9fcbFRVFq1atmf3dbDp36sLcuXP40/0P5Lt+8Vm/bm/AIYPKVUpRvnwxbujr+35GRUVwNDX9tPt26VqbjIwsDh08znezNtDkskqsW+s7xtHUdLZvO0j5CiVI3n2Ijl1qERkRwcYN+9i790jea/5pL9f1bMDC+UnUrF2ODev2AVC1ailq1IinaYKvJx0ZZZQoEUNKSv7GicOderRh4MsvvyAlJYWP/j2W6OhorunWlbS04yfsk3BZM0aNeo+5c77jiaf+xu/730zJkiW5vEULXnj+pTwdp1rVatSpXYfpX0/PXucc/OG2gfS+/oYT9v3o4w/P2M6TTw3hH6+8Tp3adZgyZTKLlywKeOyrruzKp+PGckHJC6hfvwHFihXD4fJVv/ikp2dmv87KcuQ8oR0Z5bs60gzWrE7mh++3BGzvlzHaQHbsOEjihOVUq16aTlfW4selO3LtIed05Egax45lUKZsHLVqlWXWzPX+LcaXn6/J9wm4c0745ez5dx3t4cOHKB0fT3R0NIsWLWTnzh2n7LNj5w7KxJehV6/e9OzRizVrVtOo0aX898cfSdqaBMDRo6ls2bI512PdPvCPfPDhmOz3rVq2YvLkRFJTfWNnycm72b9/H00aN+W772Zz/PhxUlNTmTPnu+zPpB5JpVzZsqSnp/PFtM+z18cVK5bdzskSEpqxes1qJiVO5KoruwL8pvrlRAcPHqNcueIAlCtXjJIliwKwdesBLqlVltjYaABiYqJO+K98bnZsP0it2mUxg6KxUVxUqSTJuw9RokQMqalprFq5m1UrdlOufLETPpeenkl0kcgztOrr1V6WUJkiMZHs2+v7OUlKSuHSJhWz9ylbrtiZPn5OC/ZjEoPhvOvRXn31/3H/n+/lhj69qF+/ATWq1zhlH98JpPeJioomLjaWZ595jvjS8Tz91LP89bFHSE9LA+DuuwdTrVr1Mx7rkktqUq9uPVav8Z1ZbtmyFZs2bWTArb8HIDYujuee/TsNGjSkffsO9OnbmzLx8dSsWZPixX1/oe+66x5uHtCf0qXjadiwEalHfP+F7HplV54Z+jSfjP2YYS++csJxIyMjade2HVP+M5lnnh4K8JvqlxNtWL+PuvXK0+/3Tdm963B2zzBl/1Hmf7+F63o2wMzIynTMnrWBQ4eOB2gRNm7Yx4UVS9D3pqYAfD93M6mp6dStV56ml1UiK8t3KdjX03864XPHjmWwa+dB+vVvypYtKSz/784Ttq9fv5e27S9m0cKk7HWLFmylbfsa9OvfFAwOHTzO1CmrzvbbEnbC8aoDc8G4ZiUXqYePh/YAHpGamkpcXBxHjx5l4B9v42+PP0G9evULu6yQeXd04CEQOf8Mvr/NWafk8uW78pw5jRpdWCCpfN71aMPVs0OfZuOmjaQdP063btd5OmRFQkknw+SM/v78i4VdgognhGHOKmhFxFvUoxURCbEwzFkFrYh4SzhedaCgFRFPCcce7W++YcHMbstlW/Y8PO++O+q3HkJEJN+8dsPC08B7p9uQcx4eXUcrIue7XIPWzP53pk1AheCXIyJyds7Fqw4qAFcBKSetN+D7kFQkInIWgpWzZlYU+A6IwZeVE5xzT5pZDWAsvvnClgA3O+fScmsr0BjtVKC4c27LSctm/PPniIiEkyBOzngc6Oicaww0AbqaWQvgReBV51xNfJ3QgYEayjVonXMDnXNzz7DtpoBliogUMMvHr9w4n1+eaRntXxzQEZjgXz8G6BGopvPuMYki4nGW9yXnFVL+ZdAJTZlFmtmPQDLwNbABOOCcy/Dvsg04/WyvOeg6WhHxlPyM0ea8QuoM2zOBJmZWCkgE6v6WmhS0IfLU00/w3ZzZxMfHM2FcIgBr167hueef5XhaGpGRkTz26OM0bNiokCuVgnbLbc1IT8skyzlclmPc2P8CcGnjijS6tCJZzrFlUwrfz9tcuIWeowINCfwWzrkDZjYTaAmUMrMof6+2MrA9908raEPm2muv48Y+ffnbk49nr3vt9VcZNOhO2rRuy5y5c3jtn68yasS7hVilFJbEics5diwj+32lyhdQ4+IyfPLxMrIyXTDqQWQAAAU1SURBVPZsDZJ/QbzqoByQ7g/ZWKALvhNhM4He+K48GABMDtSWgjZEEi5rxo4dJ/5DZ2Yc8c+QcPjwIcqVLVcYpUkYatjoQpYs3kpWpu/+nqNHTz+5owQWxOtoKwJjzCwS3/mscc65qWa2ChhrZkOBZcDoQA0paAvQQw/9hXvuuZNXX3uFrCzH++99UNglSWFwcF3PhuBg5YqdrFyxm1KlY7mo0gW0aFWdzIws5s3dRPLuwJM4ymkEKWedc/8Dmp5m/UageX7aUtAWoPHjx/Hggw/TuVMXpk//iqefeZLhb48s7LKkgE0c/z+OHEkjNjaa7j0bkrL/KBFmFI2JYsKn/6V8heJ0vbouH7y/uLBLPSeF331huryrQE2dOoVOHTsD0KXLlaxcuaKQK5LCcOSI7yaio0fT2bhhHxUuLMHhw2ls2LAPgOTdh3HOUTRW/aDfIhwfKqOgLUDlypVjyRJfL2XhogVUrVK1kCuSghYVFUF0dGT26ypVS7Fv3xE2btxHpcoXAFCqVFEiIiM4djQjt6bkHKJ/MkPk0cf+wpLFizlw4ABXXd2ZO++4m78NeZJhL79IRmYmMUWKMGTIk4VdphSwuLhorunmm3jTIuCntXtI2nKAiAijU5da9OvflMwsxzcnTS8ueReOD/7WdONSKDTduJxOMKYb37njYJ4zp+JFJTXduIhIfoXhUxIVtCLiLaG4M+xsKWhFxFvCL2cVtCLiLWF4LkxBKyIeE4aDtApaEfGU8ItZBa2IeEwYdmgVtCLiMWGYtApaEfGU8ItZBa2IeExBPiwmrxS0IuIpYZizenqXiEioqUcrIp6iHq2ISMhZPpZcWjGrYmYzzWyVma00s/v96+PN7GszW+f/WjpQRQpaEfEUs7wvAWQADzrn6gMtgHvMrD7wKDDDOVcLmOF/nysFrYh4S3A6tDjndjrnlvpfHwJWA5WA7sAY/25jgB6BSlLQioinWH5+mQ0ys8U5lkGnbdOsOr4ZcRcAFZxzO/2bdgEVAtWkk2Eict5yzo0ARuS2j5kVByYCf3LOHcx5na5zzplZwBkd1KMVEU8J4hgtZhaNL2Q/cs5N8q/ebWYV/dsrAsmB2lHQioichvm6rqOB1c65f+TYNAUY4H89AJgcqC0NHYiIpwTxFtzWwM3AcjP70b/uMeAFYJyZDQS2AH0CNaSgFRFvCVLOOufm5tJap/y0paAVEU8JwxvDFLQi4jFheA+uToaJiISYerQi4inh159V0IqIx+jB3yIioRZ+OaugFRFvCcOcVdCKiMeEYdIqaEXEY8IvaRW0IuIp4RezCloR8ZgwvOhAQSsiHhOGSas7w0REQkw9WhHxlDDs0KpHKyISaurRioinhOMtuOZcwHnFJEjMbJB/MjiRbPq58D4NHRSs005lLOc9/Vx4nIJWRCTEFLQiIiGmoC1YGoeT09HPhcfpZJiISIipRysiEmIKWhGREFPQFhAz62pma81svZk9Wtj1SOEzs3fNLNnMVhR2LRJaCtoCYGaRwJvA1UB9oJ+Z1S/cqiQMvA90LewiJPQUtAWjObDeObfROZcGjAW6F3JNUsicc98B+wu7Dgk9BW3BqARszfF+m3+diJwHFLQiIiGmoC0Y24EqOd5X9q8TkfOAgrZgLAJqmVkNMysC9AWmFHJNIlJAFLQFwDmXAQwGvgJWA+OccysLtyopbGb2CfADUMfMtpnZwMKuSUJDt+CKiISYerQiIiGmoBURCTEFrYhIiCloRURCTEErIhJiCloRkRBT0IqIhNj/A4cUrXtCU3i0AAAAAElFTkSuQmCC",
      "text/plain": [
       "<Figure size 432x288 with 2 Axes>"
      ]
     },
     "metadata": {
      "needs_background": "light"
     },
     "output_type": "display_data"
    }
   ],
   "source": [
    "# Confusion Matrix (Ma trận nhầm lẫn)\n",
    "cf_matrix = metrics.confusion_matrix(y_test, y_pred)\n",
    "names = ['True Negative', 'False Positive', 'False Negative', 'True Positive']\n",
    "labels = np.asarray([f'{i}\\n\\n{j}' for i, j in zip(names, cf_matrix.flatten())])\n",
    "sns.heatmap(cf_matrix, annot=labels.reshape(2, 2), cmap='Purples', fmt='')"
   ]
  },
  {
   "cell_type": "code",
   "execution_count": 159,
   "metadata": {
    "colab": {
     "base_uri": "https://localhost:8080/"
    },
    "executionInfo": {
     "elapsed": 579,
     "status": "ok",
     "timestamp": 1635517282427,
     "user": {
      "displayName": "Samuel Doan",
      "photoUrl": "https://lh3.googleusercontent.com/a-/AOh14GjbcdQ40FcyCSIyitBN2ptY3zHWA_09harKPYF2=s64",
      "userId": "04384888964432338542"
     },
     "user_tz": -420
    },
    "id": "Zin3vrDxbH0o",
    "outputId": "04575f67-f695-4086-f1b1-a01f65ed3c27"
   },
   "outputs": [
    {
     "data": {
      "text/plain": [
       "0.8235294117647058"
      ]
     },
     "execution_count": 159,
     "metadata": {},
     "output_type": "execute_result"
    }
   ],
   "source": [
    "# Ma trận nhầm lẫn có 4 phân loại: 11, 10, 01, 01 (dự đoán - thực tế)\n",
    "# Tỷ lệ Precision: trong tất cả dự đoán là 1 -> đoán đúng bao nhiêu\n",
    "metrics.precision_score(y_test, y_pred)"
   ]
  },
  {
   "cell_type": "code",
   "execution_count": 160,
   "metadata": {
    "colab": {
     "base_uri": "https://localhost:8080/"
    },
    "executionInfo": {
     "elapsed": 512,
     "status": "ok",
     "timestamp": 1635517290170,
     "user": {
      "displayName": "Samuel Doan",
      "photoUrl": "https://lh3.googleusercontent.com/a-/AOh14GjbcdQ40FcyCSIyitBN2ptY3zHWA_09harKPYF2=s64",
      "userId": "04384888964432338542"
     },
     "user_tz": -420
    },
    "id": "4btMXpb6bH0r",
    "outputId": "c1aa1b07-d58e-4d4a-c61f-7b9bcaa9f1b6"
   },
   "outputs": [
    {
     "data": {
      "text/plain": [
       "0.7567567567567568"
      ]
     },
     "execution_count": 160,
     "metadata": {},
     "output_type": "execute_result"
    }
   ],
   "source": [
    "# Tỷ lệ Recall: trong tất của thực tế là 1 -> đoán ra bao nhiêu\n",
    "metrics.recall_score(y_test, y_pred)"
   ]
  },
  {
   "cell_type": "code",
   "execution_count": 161,
   "metadata": {
    "colab": {
     "base_uri": "https://localhost:8080/"
    },
    "executionInfo": {
     "elapsed": 28,
     "status": "ok",
     "timestamp": 1635517298512,
     "user": {
      "displayName": "Samuel Doan",
      "photoUrl": "https://lh3.googleusercontent.com/a-/AOh14GjbcdQ40FcyCSIyitBN2ptY3zHWA_09harKPYF2=s64",
      "userId": "04384888964432338542"
     },
     "user_tz": -420
    },
    "id": "N3gWp5SXbH0t",
    "outputId": "72ac9041-573c-41d8-ab35-c29f3421929f"
   },
   "outputs": [
    {
     "data": {
      "text/plain": [
       "0.7887323943661971"
      ]
     },
     "execution_count": 161,
     "metadata": {},
     "output_type": "execute_result"
    }
   ],
   "source": [
    "# Trung bình điều hòa\n",
    "metrics.f1_score(y_test, y_pred)"
   ]
  },
  {
   "cell_type": "code",
   "execution_count": null,
   "metadata": {
    "executionInfo": {
     "elapsed": 89,
     "status": "aborted",
     "timestamp": 1635509148942,
     "user": {
      "displayName": "Samuel Doan",
      "photoUrl": "https://lh3.googleusercontent.com/a-/AOh14GjbcdQ40FcyCSIyitBN2ptY3zHWA_09harKPYF2=s64",
      "userId": "04384888964432338542"
     },
     "user_tz": -420
    },
    "id": "nwvUJ3_bVX1f"
   },
   "outputs": [],
   "source": [
    "## Random sampling"
   ]
  },
  {
   "cell_type": "code",
   "execution_count": null,
   "metadata": {
    "executionInfo": {
     "elapsed": 90,
     "status": "aborted",
     "timestamp": 1635509148943,
     "user": {
      "displayName": "Samuel Doan",
      "photoUrl": "https://lh3.googleusercontent.com/a-/AOh14GjbcdQ40FcyCSIyitBN2ptY3zHWA_09harKPYF2=s64",
      "userId": "04384888964432338542"
     },
     "user_tz": -420
    },
    "id": "aoN3f8uGVX1g"
   },
   "outputs": [],
   "source": [
    "# Sampling vs Bootstrap"
   ]
  }
 ],
 "metadata": {
  "colab": {
   "collapsed_sections": [],
   "name": "Lecture_04_inclass_p36a10l2.ipynb",
   "provenance": [],
   "toc_visible": true
  },
  "interpreter": {
   "hash": "5766e98b5d8e70b45afd220e0f2454ec29c81bf3c8bc5514ce6b4a9adc9bbf04"
  },
  "kernelspec": {
   "display_name": "Python 3 (ipykernel)",
   "language": "python",
   "name": "python3"
  },
  "language_info": {
   "codemirror_mode": {
    "name": "ipython",
    "version": 3
   },
   "file_extension": ".py",
   "mimetype": "text/x-python",
   "name": "python",
   "nbconvert_exporter": "python",
   "pygments_lexer": "ipython3",
   "version": "3.8.11"
  }
 },
 "nbformat": 4,
 "nbformat_minor": 1
}
>>>>>>> 3836971b40f13e5d33639e58416c69ce21b34295
