{
 "cells": [
  {
   "cell_type": "markdown",
   "metadata": {
    "id": "lYgP43HjebVD"
   },
   "source": [
    "# Customer segmentation\n",
    "![](https://miro.medium.com/max/681/1*iejTpHhx-u_R73XQD0GFkg.jpeg)"
   ]
  },
  {
   "cell_type": "markdown",
   "metadata": {
    "id": "gj3dBOrMebVd"
   },
   "source": [
    "You are the owner of a shop. It doesn't matter if you own an e-commerce or a  supermarket. It doesn't matter if it is a small shop or a huge company such as Amazon or Netflix, it's better to know your customers.\n",
    "\n",
    "You were able to collect basic data about your customers holding a membership card such as Customer ID, age, gender, annual income, and spending score. This last one is a score based on customer behavior and purchasing data.\n",
    "There are some new products on the market that you are interested in selling. But you want to target a specific type of clients for each one of the products.  \n",
    "\n",
    "Machine learning comes in handy for this task. Particularly, clustering, the most important unsupervised learning problem, is able to create categories grouping similar individuals.\n",
    "These categories are called clusters. A cluster is a collection of points in a dataset. These points are more similar between them than they are to points belonging to other clusters.\n",
    "Distance-based clustering groups the points into some number of clusters such that distances within the cluster should be small while distances between clusters should be large."
   ]
  },
  {
   "cell_type": "markdown",
   "metadata": {
    "id": "ANHsP58HebVo"
   },
   "source": [
    "### Import modules requiered"
   ]
  },
  {
   "cell_type": "markdown",
   "metadata": {
    "id": "7WqWmwUTebVt"
   },
   "source": [
    "First of all, we need to import the required module. "
   ]
  },
  {
   "cell_type": "code",
   "execution_count": 1,
   "metadata": {
    "executionInfo": {
     "elapsed": 784,
     "status": "ok",
     "timestamp": 1637324715093,
     "user": {
      "displayName": "Samuel Doan",
      "photoUrl": "https://lh3.googleusercontent.com/a-/AOh14GjbcdQ40FcyCSIyitBN2ptY3zHWA_09harKPYF2=s64",
      "userId": "04384888964432338542"
     },
     "user_tz": -420
    },
    "id": "-UD8kXSdebVx"
   },
   "outputs": [],
   "source": [
    "import pandas as pd\n",
    "import numpy as np\n",
    "import sklearn\n",
    "import matplotlib.pyplot as plt\n",
    "import seaborn as sns\n",
    "sns.set_style('whitegrid')\n",
    "%matplotlib inline\n",
    "from sklearn.cluster import KMeans\n",
    "from sklearn.decomposition import PCA\n",
    "from sklearn.preprocessing import MinMaxScaler"
   ]
  },
  {
   "cell_type": "markdown",
   "metadata": {
    "id": "K9313eJYebV6"
   },
   "source": [
    "### Read data into a DataFrame"
   ]
  },
  {
   "cell_type": "markdown",
   "metadata": {
    "id": "yVER_372ebV_"
   },
   "source": [
    "We read the basic data stored in the [customers.csv](https://www.kaggle.com/akram24/mall-customers) file into a `DataFrame` using pandas. "
   ]
  },
  {
   "cell_type": "code",
   "execution_count": 3,
   "metadata": {
    "executionInfo": {
     "elapsed": 723,
     "status": "ok",
     "timestamp": 1637324779970,
     "user": {
      "displayName": "Samuel Doan",
      "photoUrl": "https://lh3.googleusercontent.com/a-/AOh14GjbcdQ40FcyCSIyitBN2ptY3zHWA_09harKPYF2=s64",
      "userId": "04384888964432338542"
     },
     "user_tz": -420
    },
    "id": "Wt-v8htPebWD"
   },
   "outputs": [],
   "source": [
    "customers = pd.read_csv(\"https://github.com/honghanhh/mci_python_36a1_l2/raw/main/Lectures/lecture_05/customers.csv\")"
   ]
  },
  {
   "cell_type": "markdown",
   "metadata": {
    "id": "i8nHYmXtebWH"
   },
   "source": [
    "We check the first five rows of the DataFrame. We can see that we have: CustumerID, Gender, Age, Annual Income expressed as price x1000, and the spending score as we expected."
   ]
  },
  {
   "cell_type": "code",
   "execution_count": 4,
   "metadata": {
    "colab": {
     "base_uri": "https://localhost:8080/",
     "height": 206
    },
    "executionInfo": {
     "elapsed": 531,
     "status": "ok",
     "timestamp": 1637324787479,
     "user": {
      "displayName": "Samuel Doan",
      "photoUrl": "https://lh3.googleusercontent.com/a-/AOh14GjbcdQ40FcyCSIyitBN2ptY3zHWA_09harKPYF2=s64",
      "userId": "04384888964432338542"
     },
     "user_tz": -420
    },
    "id": "a91QMm37ebWL",
    "outputId": "6ccba853-d1a5-42b7-9146-6192a1934b17"
   },
   "outputs": [
    {
     "data": {
      "text/html": [
       "<div>\n",
       "<style scoped>\n",
       "    .dataframe tbody tr th:only-of-type {\n",
       "        vertical-align: middle;\n",
       "    }\n",
       "\n",
       "    .dataframe tbody tr th {\n",
       "        vertical-align: top;\n",
       "    }\n",
       "\n",
       "    .dataframe thead th {\n",
       "        text-align: right;\n",
       "    }\n",
       "</style>\n",
       "<table border=\"1\" class=\"dataframe\">\n",
       "  <thead>\n",
       "    <tr style=\"text-align: right;\">\n",
       "      <th></th>\n",
       "      <th>CustomerID</th>\n",
       "      <th>Gender</th>\n",
       "      <th>Age</th>\n",
       "      <th>Annual Income (k$)</th>\n",
       "      <th>Spending Score (1-100)</th>\n",
       "    </tr>\n",
       "  </thead>\n",
       "  <tbody>\n",
       "    <tr>\n",
       "      <th>0</th>\n",
       "      <td>1</td>\n",
       "      <td>Male</td>\n",
       "      <td>19</td>\n",
       "      <td>15</td>\n",
       "      <td>39</td>\n",
       "    </tr>\n",
       "    <tr>\n",
       "      <th>1</th>\n",
       "      <td>2</td>\n",
       "      <td>Male</td>\n",
       "      <td>21</td>\n",
       "      <td>15</td>\n",
       "      <td>81</td>\n",
       "    </tr>\n",
       "    <tr>\n",
       "      <th>2</th>\n",
       "      <td>3</td>\n",
       "      <td>Female</td>\n",
       "      <td>20</td>\n",
       "      <td>16</td>\n",
       "      <td>6</td>\n",
       "    </tr>\n",
       "    <tr>\n",
       "      <th>3</th>\n",
       "      <td>4</td>\n",
       "      <td>Female</td>\n",
       "      <td>23</td>\n",
       "      <td>16</td>\n",
       "      <td>77</td>\n",
       "    </tr>\n",
       "    <tr>\n",
       "      <th>4</th>\n",
       "      <td>5</td>\n",
       "      <td>Female</td>\n",
       "      <td>31</td>\n",
       "      <td>17</td>\n",
       "      <td>40</td>\n",
       "    </tr>\n",
       "  </tbody>\n",
       "</table>\n",
       "</div>"
      ],
      "text/plain": [
       "   CustomerID  Gender  Age  Annual Income (k$)  Spending Score (1-100)\n",
       "0           1    Male   19                  15                      39\n",
       "1           2    Male   21                  15                      81\n",
       "2           3  Female   20                  16                       6\n",
       "3           4  Female   23                  16                      77\n",
       "4           5  Female   31                  17                      40"
      ]
     },
     "execution_count": 4,
     "metadata": {},
     "output_type": "execute_result"
    }
   ],
   "source": [
    "customers.head()"
   ]
  },
  {
   "cell_type": "markdown",
   "metadata": {
    "id": "sheBBo9gebWR"
   },
   "source": [
    "### Exploring the data"
   ]
  },
  {
   "cell_type": "markdown",
   "metadata": {
    "id": "2dbrSRAuebWX"
   },
   "source": [
    "Now, it's time to explore the data to check the quality of the data and the distribution of the variables."
   ]
  },
  {
   "cell_type": "markdown",
   "metadata": {
    "id": "h1ebQZ08ebWa"
   },
   "source": [
    "First, we check that if there is any missing value in the dataset. K-means algorithm is not able to deal with missing values. "
   ]
  },
  {
   "cell_type": "code",
   "execution_count": null,
   "metadata": {
    "colab": {
     "base_uri": "https://localhost:8080/"
    },
    "executionInfo": {
     "elapsed": 562,
     "status": "ok",
     "timestamp": 1636983080135,
     "user": {
      "displayName": "Samuel Doan",
      "photoUrl": "https://lh3.googleusercontent.com/a-/AOh14GjbcdQ40FcyCSIyitBN2ptY3zHWA_09harKPYF2=s64",
      "userId": "04384888964432338542"
     },
     "user_tz": -420
    },
    "id": "SmvBfx5HebWd",
    "outputId": "5a9babad-1844-45ce-aabd-46d0dfcc73ca"
   },
   "outputs": [
    {
     "name": "stdout",
     "output_type": "stream",
     "text": [
      "Missing values in each variable: \n",
      "CustomerID                0\n",
      "Gender                    0\n",
      "Age                       0\n",
      "Annual Income (k$)        0\n",
      "Spending Score (1-100)    0\n",
      "dtype: int64\n"
     ]
    }
   ],
   "source": [
    "print(f\"Missing values in each variable: \\n{customers.isnull().sum()}\")"
   ]
  },
  {
   "cell_type": "markdown",
   "metadata": {
    "id": "0RqfbvoDebWf"
   },
   "source": [
    "Fortunately, there is no missing data. We can also check if there are duplicated rows."
   ]
  },
  {
   "cell_type": "code",
   "execution_count": null,
   "metadata": {
    "colab": {
     "base_uri": "https://localhost:8080/"
    },
    "executionInfo": {
     "elapsed": 741,
     "status": "ok",
     "timestamp": 1636983086212,
     "user": {
      "displayName": "Samuel Doan",
      "photoUrl": "https://lh3.googleusercontent.com/a-/AOh14GjbcdQ40FcyCSIyitBN2ptY3zHWA_09harKPYF2=s64",
      "userId": "04384888964432338542"
     },
     "user_tz": -420
    },
    "id": "dHwoZsoQebWh",
    "outputId": "93d8e4cb-9897-49ce-b124-1d9ca80bb693"
   },
   "outputs": [
    {
     "name": "stdout",
     "output_type": "stream",
     "text": [
      "Duplicated rows: 0\n"
     ]
    }
   ],
   "source": [
    "print(f\"Duplicated rows: {customers.duplicated().sum()}\")"
   ]
  },
  {
   "cell_type": "markdown",
   "metadata": {
    "id": "7HkmiH-jebWj"
   },
   "source": [
    "Finally, we check how each variable is presented in the DataFrame. Categorical variables cannot be handled directly. K-means is based on distances. The approach for converting those variables depend on the type of categorical variables. "
   ]
  },
  {
   "cell_type": "code",
   "execution_count": null,
   "metadata": {
    "colab": {
     "base_uri": "https://localhost:8080/"
    },
    "executionInfo": {
     "elapsed": 41,
     "status": "ok",
     "timestamp": 1636983089212,
     "user": {
      "displayName": "Samuel Doan",
      "photoUrl": "https://lh3.googleusercontent.com/a-/AOh14GjbcdQ40FcyCSIyitBN2ptY3zHWA_09harKPYF2=s64",
      "userId": "04384888964432338542"
     },
     "user_tz": -420
    },
    "id": "-lpC8YgNebWl",
    "outputId": "c768cc9d-d9f1-4b16-9347-caaec3feae54"
   },
   "outputs": [
    {
     "name": "stdout",
     "output_type": "stream",
     "text": [
      "Variable:                  Type: \n",
      "CustomerID                 int64\n",
      "Gender                    object\n",
      "Age                        int64\n",
      "Annual Income (k$)         int64\n",
      "Spending Score (1-100)     int64\n",
      "dtype: object\n"
     ]
    }
   ],
   "source": [
    "print(f\"Variable:                  Type: \\n{customers.dtypes}\") "
   ]
  },
  {
   "cell_type": "markdown",
   "metadata": {
    "id": "NkYjkW17ebWm"
   },
   "source": [
    "After that, we can start observing the distribution of the variables. Here, we'll define two functions. The first one will retrieve descriptive statistics of the variables. The second one will help us graph the variable distribution."
   ]
  },
  {
   "cell_type": "markdown",
   "metadata": {
    "id": "UjmozQaEebWn"
   },
   "source": [
    "#### Descriptive statistics and Distribution."
   ]
  },
  {
   "cell_type": "code",
   "execution_count": null,
   "metadata": {
    "id": "yqNWwlIbebWo",
    "outputId": "a572201d-6a46-4989-dcfc-15bc70172420"
   },
   "outputs": [
    {
     "data": {
      "text/html": [
       "<div>\n",
       "<style scoped>\n",
       "    .dataframe tbody tr th:only-of-type {\n",
       "        vertical-align: middle;\n",
       "    }\n",
       "\n",
       "    .dataframe tbody tr th {\n",
       "        vertical-align: top;\n",
       "    }\n",
       "\n",
       "    .dataframe thead th {\n",
       "        text-align: right;\n",
       "    }\n",
       "</style>\n",
       "<table border=\"1\" class=\"dataframe\">\n",
       "  <thead>\n",
       "    <tr style=\"text-align: right;\">\n",
       "      <th></th>\n",
       "      <th>CustomerID</th>\n",
       "      <th>Age</th>\n",
       "      <th>Annual Income (k$)</th>\n",
       "      <th>Spending Score (1-100)</th>\n",
       "    </tr>\n",
       "  </thead>\n",
       "  <tbody>\n",
       "    <tr>\n",
       "      <th>count</th>\n",
       "      <td>200.000000</td>\n",
       "      <td>200.000000</td>\n",
       "      <td>200.000000</td>\n",
       "      <td>200.000000</td>\n",
       "    </tr>\n",
       "    <tr>\n",
       "      <th>mean</th>\n",
       "      <td>100.500000</td>\n",
       "      <td>38.850000</td>\n",
       "      <td>60.560000</td>\n",
       "      <td>50.200000</td>\n",
       "    </tr>\n",
       "    <tr>\n",
       "      <th>std</th>\n",
       "      <td>57.879185</td>\n",
       "      <td>13.969007</td>\n",
       "      <td>26.264721</td>\n",
       "      <td>25.823522</td>\n",
       "    </tr>\n",
       "    <tr>\n",
       "      <th>min</th>\n",
       "      <td>1.000000</td>\n",
       "      <td>18.000000</td>\n",
       "      <td>15.000000</td>\n",
       "      <td>1.000000</td>\n",
       "    </tr>\n",
       "    <tr>\n",
       "      <th>25%</th>\n",
       "      <td>50.750000</td>\n",
       "      <td>28.750000</td>\n",
       "      <td>41.500000</td>\n",
       "      <td>34.750000</td>\n",
       "    </tr>\n",
       "    <tr>\n",
       "      <th>50%</th>\n",
       "      <td>100.500000</td>\n",
       "      <td>36.000000</td>\n",
       "      <td>61.500000</td>\n",
       "      <td>50.000000</td>\n",
       "    </tr>\n",
       "    <tr>\n",
       "      <th>75%</th>\n",
       "      <td>150.250000</td>\n",
       "      <td>49.000000</td>\n",
       "      <td>78.000000</td>\n",
       "      <td>73.000000</td>\n",
       "    </tr>\n",
       "    <tr>\n",
       "      <th>max</th>\n",
       "      <td>200.000000</td>\n",
       "      <td>70.000000</td>\n",
       "      <td>137.000000</td>\n",
       "      <td>99.000000</td>\n",
       "    </tr>\n",
       "  </tbody>\n",
       "</table>\n",
       "</div>"
      ],
      "text/plain": [
       "       CustomerID         Age  Annual Income (k$)  Spending Score (1-100)\n",
       "count  200.000000  200.000000          200.000000              200.000000\n",
       "mean   100.500000   38.850000           60.560000               50.200000\n",
       "std     57.879185   13.969007           26.264721               25.823522\n",
       "min      1.000000   18.000000           15.000000                1.000000\n",
       "25%     50.750000   28.750000           41.500000               34.750000\n",
       "50%    100.500000   36.000000           61.500000               50.000000\n",
       "75%    150.250000   49.000000           78.000000               73.000000\n",
       "max    200.000000   70.000000          137.000000               99.000000"
      ]
     },
     "execution_count": 7,
     "metadata": {},
     "output_type": "execute_result"
    }
   ],
   "source": [
    "customers.describe()"
   ]
  },
  {
   "cell_type": "code",
   "execution_count": null,
   "metadata": {
    "id": "hqTyPqcAebWp",
    "outputId": "d3c8fbf1-39a3-474c-f899-3206e54cb2f9"
   },
   "outputs": [
    {
     "data": {
      "text/plain": [
       "<matplotlib.axes._subplots.AxesSubplot at 0x7f1b102c1d10>"
      ]
     },
     "execution_count": 8,
     "metadata": {},
     "output_type": "execute_result"
    },
    {
     "data": {
      "image/png": "[encoded data removed]",
      "text/plain": [
       "<Figure size 432x288 with 1 Axes>"
      ]
     },
     "metadata": {
      "needs_background": "light"
     },
     "output_type": "display_data"
    }
   ],
   "source": [
    "sns.distplot(customers[\"Spending Score (1-100)\"], bins=20)"
   ]
  },
  {
   "cell_type": "code",
   "execution_count": null,
   "metadata": {
    "id": "6x048FJ5ebWr",
    "outputId": "19c8e313-61ff-400c-f655-9cccf9739390"
   },
   "outputs": [
    {
     "data": {
      "text/plain": [
       "<matplotlib.axes._subplots.AxesSubplot at 0x7f1b102d5590>"
      ]
     },
     "execution_count": 9,
     "metadata": {},
     "output_type": "execute_result"
    },
    {
     "data": {
      "image/png": "[encoded data removed]",
      "text/plain": [
       "<Figure size 432x288 with 1 Axes>"
      ]
     },
     "metadata": {
      "needs_background": "light"
     },
     "output_type": "display_data"
    }
   ],
   "source": [
    "sns.distplot(customers[\"Age\"], bins=20)"
   ]
  },
  {
   "cell_type": "code",
   "execution_count": null,
   "metadata": {
    "id": "Wh5VgRHeebWs",
    "outputId": "8dab6ed7-714d-4400-8ec0-b02f0b26c621"
   },
   "outputs": [
    {
     "data": {
      "text/plain": [
       "<matplotlib.axes._subplots.AxesSubplot at 0x7f1b0f994110>"
      ]
     },
     "execution_count": 10,
     "metadata": {},
     "output_type": "execute_result"
    },
    {
     "data": {
      "image/png": "[encoded data removed]",
      "text/plain": [
       "<Figure size 432x288 with 1 Axes>"
      ]
     },
     "metadata": {
      "needs_background": "light"
     },
     "output_type": "display_data"
    }
   ],
   "source": [
    "sns.distplot(customers[\"Annual Income (k$)\"], bins=20)"
   ]
  },
  {
   "cell_type": "markdown",
   "metadata": {
    "id": "AqbQZyDpebWu"
   },
   "source": [
    "#### Correlation between parameteres"
   ]
  },
  {
   "cell_type": "markdown",
   "metadata": {
    "id": "Tu1Pp0sjebXA"
   },
   "source": [
    "Also, we will analyze the correlation between the numeric parameters. For that aim, we'll use the `pairplot` seaborn function. We want to see whether there is a difference between gender. So, we are going to set the `hue` parameter to get different colors for points belonging to female or customers."
   ]
  },
  {
   "cell_type": "code",
   "execution_count": null,
   "metadata": {
    "id": "CzlB84A2ebXB",
    "outputId": "4b1fe9fd-7020-4704-bb88-805182ac03eb"
   },
   "outputs": [
    {
     "data": {
      "image/png": "[encoded data removed]",
      "text/plain": [
       "<Figure size 504.625x432 with 12 Axes>"
      ]
     },
     "metadata": {
      "needs_background": "light"
     },
     "output_type": "display_data"
    }
   ],
   "source": [
    "sns.pairplot(customers, x_vars = [\"Age\", \"Annual Income (k$)\", \"Spending Score (1-100)\"], \n",
    "               y_vars = [\"Age\", \"Annual Income (k$)\", \"Spending Score (1-100)\"], \n",
    "               hue = \"Gender\", \n",
    "               kind= \"scatter\",\n",
    "               height = 2,\n",
    "               plot_kws={\"s\": 35, \"alpha\": 0.8});"
   ]
  },
  {
   "cell_type": "markdown",
   "metadata": {
    "id": "tEdaSCIDebXE"
   },
   "source": [
    "#### Why is it important to look into the descriptive statistics, distribution and correlation between variables?"
   ]
  },
  {
   "cell_type": "markdown",
   "metadata": {
    "id": "-b4L1CgVebXE"
   },
   "source": [
    "In order to apply K-means, we need to meet the algorithm assumptions. \n",
    "  \n",
    "K-means assumes:\n",
    "\n",
    "- **Cluster's shape**: The variance of the distribution is spherical meaning that clusters have a spherical shape. In order for this to be true, all variables should be normally distributed and have the same variance.\n",
    "- **Clusters' Size**: All clusters have the same number of observations.\n",
    "- **Relationship between variables**: There is little or no correlation between the variables."
   ]
  },
  {
   "cell_type": "markdown",
   "metadata": {
    "id": "PtS1A2LdebXF"
   },
   "source": [
    "In our dataset, our variables are normally distributed. Variances are quite close to each other. Except for age that has a lower variance that the rest of the variables.\n",
    "We could find a proper transformation to solve this issue. We could apply the logarithm or Box-Cox transformation. \n",
    "Box-Cox is a family of transformations which allows us to correct non-normal distributed variables or non-equal variances."
   ]
  },
  {
   "cell_type": "markdown",
   "metadata": {
    "id": "shDAKTxHebXF"
   },
   "source": [
    "### Dimensionality reduction"
   ]
  },
  {
   "cell_type": "markdown",
   "metadata": {
    "id": "w4XWcPnuebXG"
   },
   "source": [
    "After we checked that we can apply k-means, we can apply Principal Component Analysis (PCA) to discover which dimensions best maximize the variance of features involved."
   ]
  },
  {
   "cell_type": "markdown",
   "metadata": {
    "id": "SmaXBF4UebXG"
   },
   "source": [
    "#### Principal Component Analysis (PCA)"
   ]
  },
  {
   "cell_type": "markdown",
   "metadata": {
    "id": "H2c39sLhebXH"
   },
   "source": [
    "First, we'll transform the categorical variable into two binary variables."
   ]
  },
  {
   "cell_type": "code",
   "execution_count": 5,
   "metadata": {
    "executionInfo": {
     "elapsed": 9,
     "status": "ok",
     "timestamp": 1637324805662,
     "user": {
      "displayName": "Samuel Doan",
      "photoUrl": "https://lh3.googleusercontent.com/a-/AOh14GjbcdQ40FcyCSIyitBN2ptY3zHWA_09harKPYF2=s64",
      "userId": "04384888964432338542"
     },
     "user_tz": -420
    },
    "id": "ughTzJ5xebXI"
   },
   "outputs": [],
   "source": [
    "# customers[\"Male\"] = customers.Gender.apply(lambda x: 0 if x == \"Male\" else 1)"
   ]
  },
  {
   "cell_type": "code",
   "execution_count": 6,
   "metadata": {
    "executionInfo": {
     "elapsed": 21,
     "status": "ok",
     "timestamp": 1637324809991,
     "user": {
      "displayName": "Samuel Doan",
      "photoUrl": "https://lh3.googleusercontent.com/a-/AOh14GjbcdQ40FcyCSIyitBN2ptY3zHWA_09harKPYF2=s64",
      "userId": "04384888964432338542"
     },
     "user_tz": -420
    },
    "id": "wxa7hRKBebXJ"
   },
   "outputs": [],
   "source": [
    "# customers[\"Female\"] = customers.Gender.apply(lambda x: 0 if x == \"Female\" else 1)"
   ]
  },
  {
   "cell_type": "code",
   "execution_count": 13,
   "metadata": {
    "colab": {
     "base_uri": "https://localhost:8080/",
     "height": 424
    },
    "executionInfo": {
     "elapsed": 501,
     "status": "ok",
     "timestamp": 1637324943986,
     "user": {
      "displayName": "Samuel Doan",
      "photoUrl": "https://lh3.googleusercontent.com/a-/AOh14GjbcdQ40FcyCSIyitBN2ptY3zHWA_09harKPYF2=s64",
      "userId": "04384888964432338542"
     },
     "user_tz": -420
    },
    "id": "4naKcU1vKhHS",
    "outputId": "72284ec9-aedd-4b86-cce7-cd77a96c66cb"
   },
   "outputs": [
    {
     "data": {
      "text/html": [
       "<div>\n",
       "<style scoped>\n",
       "    .dataframe tbody tr th:only-of-type {\n",
       "        vertical-align: middle;\n",
       "    }\n",
       "\n",
       "    .dataframe tbody tr th {\n",
       "        vertical-align: top;\n",
       "    }\n",
       "\n",
       "    .dataframe thead th {\n",
       "        text-align: right;\n",
       "    }\n",
       "</style>\n",
       "<table border=\"1\" class=\"dataframe\">\n",
       "  <thead>\n",
       "    <tr style=\"text-align: right;\">\n",
       "      <th></th>\n",
       "      <th>CustomerID</th>\n",
       "      <th>Gender</th>\n",
       "      <th>Age</th>\n",
       "      <th>Annual Income (k$)</th>\n",
       "      <th>Spending Score (1-100)</th>\n",
       "      <th>Female</th>\n",
       "      <th>Male</th>\n",
       "    </tr>\n",
       "  </thead>\n",
       "  <tbody>\n",
       "    <tr>\n",
       "      <th>0</th>\n",
       "      <td>1</td>\n",
       "      <td>Male</td>\n",
       "      <td>19</td>\n",
       "      <td>15</td>\n",
       "      <td>39</td>\n",
       "      <td>0</td>\n",
       "      <td>1</td>\n",
       "    </tr>\n",
       "    <tr>\n",
       "      <th>1</th>\n",
       "      <td>2</td>\n",
       "      <td>Male</td>\n",
       "      <td>21</td>\n",
       "      <td>15</td>\n",
       "      <td>81</td>\n",
       "      <td>0</td>\n",
       "      <td>1</td>\n",
       "    </tr>\n",
       "    <tr>\n",
       "      <th>2</th>\n",
       "      <td>3</td>\n",
       "      <td>Female</td>\n",
       "      <td>20</td>\n",
       "      <td>16</td>\n",
       "      <td>6</td>\n",
       "      <td>1</td>\n",
       "      <td>0</td>\n",
       "    </tr>\n",
       "    <tr>\n",
       "      <th>3</th>\n",
       "      <td>4</td>\n",
       "      <td>Female</td>\n",
       "      <td>23</td>\n",
       "      <td>16</td>\n",
       "      <td>77</td>\n",
       "      <td>1</td>\n",
       "      <td>0</td>\n",
       "    </tr>\n",
       "    <tr>\n",
       "      <th>4</th>\n",
       "      <td>5</td>\n",
       "      <td>Female</td>\n",
       "      <td>31</td>\n",
       "      <td>17</td>\n",
       "      <td>40</td>\n",
       "      <td>1</td>\n",
       "      <td>0</td>\n",
       "    </tr>\n",
       "    <tr>\n",
       "      <th>...</th>\n",
       "      <td>...</td>\n",
       "      <td>...</td>\n",
       "      <td>...</td>\n",
       "      <td>...</td>\n",
       "      <td>...</td>\n",
       "      <td>...</td>\n",
       "      <td>...</td>\n",
       "    </tr>\n",
       "    <tr>\n",
       "      <th>195</th>\n",
       "      <td>196</td>\n",
       "      <td>Female</td>\n",
       "      <td>35</td>\n",
       "      <td>120</td>\n",
       "      <td>79</td>\n",
       "      <td>1</td>\n",
       "      <td>0</td>\n",
       "    </tr>\n",
       "    <tr>\n",
       "      <th>196</th>\n",
       "      <td>197</td>\n",
       "      <td>Female</td>\n",
       "      <td>45</td>\n",
       "      <td>126</td>\n",
       "      <td>28</td>\n",
       "      <td>1</td>\n",
       "      <td>0</td>\n",
       "    </tr>\n",
       "    <tr>\n",
       "      <th>197</th>\n",
       "      <td>198</td>\n",
       "      <td>Male</td>\n",
       "      <td>32</td>\n",
       "      <td>126</td>\n",
       "      <td>74</td>\n",
       "      <td>0</td>\n",
       "      <td>1</td>\n",
       "    </tr>\n",
       "    <tr>\n",
       "      <th>198</th>\n",
       "      <td>199</td>\n",
       "      <td>Male</td>\n",
       "      <td>32</td>\n",
       "      <td>137</td>\n",
       "      <td>18</td>\n",
       "      <td>0</td>\n",
       "      <td>1</td>\n",
       "    </tr>\n",
       "    <tr>\n",
       "      <th>199</th>\n",
       "      <td>200</td>\n",
       "      <td>Male</td>\n",
       "      <td>30</td>\n",
       "      <td>137</td>\n",
       "      <td>83</td>\n",
       "      <td>0</td>\n",
       "      <td>1</td>\n",
       "    </tr>\n",
       "  </tbody>\n",
       "</table>\n",
       "<p>200 rows × 7 columns</p>\n",
       "</div>"
      ],
      "text/plain": [
       "     CustomerID  Gender  Age  ...  Spending Score (1-100)  Female  Male\n",
       "0             1    Male   19  ...                      39       0     1\n",
       "1             2    Male   21  ...                      81       0     1\n",
       "2             3  Female   20  ...                       6       1     0\n",
       "3             4  Female   23  ...                      77       1     0\n",
       "4             5  Female   31  ...                      40       1     0\n",
       "..          ...     ...  ...  ...                     ...     ...   ...\n",
       "195         196  Female   35  ...                      79       1     0\n",
       "196         197  Female   45  ...                      28       1     0\n",
       "197         198    Male   32  ...                      74       0     1\n",
       "198         199    Male   32  ...                      18       0     1\n",
       "199         200    Male   30  ...                      83       0     1\n",
       "\n",
       "[200 rows x 7 columns]"
      ]
     },
     "execution_count": 13,
     "metadata": {},
     "output_type": "execute_result"
    }
   ],
   "source": [
    "customers = customers.join(pd.get_dummies(customers['Gender']))\n",
    "customers"
   ]
  },
  {
   "cell_type": "markdown",
   "metadata": {
    "id": "D1BaVKJ9ebXJ"
   },
   "source": [
    "Then, we are going to select from the dataset all the useful columns. Customer ID is not a useful feature. Gender will split it into two binaries categories. It should not appear in the final dataset"
   ]
  },
  {
   "cell_type": "code",
   "execution_count": 11,
   "metadata": {
    "executionInfo": {
     "elapsed": 505,
     "status": "ok",
     "timestamp": 1637324908356,
     "user": {
      "displayName": "Samuel Doan",
      "photoUrl": "https://lh3.googleusercontent.com/a-/AOh14GjbcdQ40FcyCSIyitBN2ptY3zHWA_09harKPYF2=s64",
      "userId": "04384888964432338542"
     },
     "user_tz": -420
    },
    "id": "IOzGew0fKuwI"
   },
   "outputs": [],
   "source": [
    "# customers.drop(columns=['Male', 'Female'], inplace=True)"
   ]
  },
  {
   "cell_type": "code",
   "execution_count": 15,
   "metadata": {
    "executionInfo": {
     "elapsed": 531,
     "status": "ok",
     "timestamp": 1637324978482,
     "user": {
      "displayName": "Samuel Doan",
      "photoUrl": "https://lh3.googleusercontent.com/a-/AOh14GjbcdQ40FcyCSIyitBN2ptY3zHWA_09harKPYF2=s64",
      "userId": "04384888964432338542"
     },
     "user_tz": -420
    },
    "id": "GPUiKrGKebXK"
   },
   "outputs": [],
   "source": [
    "X = customers.iloc[:, 2:]"
   ]
  },
  {
   "cell_type": "code",
   "execution_count": 16,
   "metadata": {
    "colab": {
     "base_uri": "https://localhost:8080/",
     "height": 206
    },
    "executionInfo": {
     "elapsed": 27,
     "status": "ok",
     "timestamp": 1637324980552,
     "user": {
      "displayName": "Samuel Doan",
      "photoUrl": "https://lh3.googleusercontent.com/a-/AOh14GjbcdQ40FcyCSIyitBN2ptY3zHWA_09harKPYF2=s64",
      "userId": "04384888964432338542"
     },
     "user_tz": -420
    },
    "id": "xYhMzz-zebXK",
    "outputId": "85f2f392-f74e-4b9b-b9ad-1dd7596b8495"
   },
   "outputs": [
    {
     "data": {
      "text/html": [
       "<div>\n",
       "<style scoped>\n",
       "    .dataframe tbody tr th:only-of-type {\n",
       "        vertical-align: middle;\n",
       "    }\n",
       "\n",
       "    .dataframe tbody tr th {\n",
       "        vertical-align: top;\n",
       "    }\n",
       "\n",
       "    .dataframe thead th {\n",
       "        text-align: right;\n",
       "    }\n",
       "</style>\n",
       "<table border=\"1\" class=\"dataframe\">\n",
       "  <thead>\n",
       "    <tr style=\"text-align: right;\">\n",
       "      <th></th>\n",
       "      <th>Age</th>\n",
       "      <th>Annual Income (k$)</th>\n",
       "      <th>Spending Score (1-100)</th>\n",
       "      <th>Female</th>\n",
       "      <th>Male</th>\n",
       "    </tr>\n",
       "  </thead>\n",
       "  <tbody>\n",
       "    <tr>\n",
       "      <th>0</th>\n",
       "      <td>19</td>\n",
       "      <td>15</td>\n",
       "      <td>39</td>\n",
       "      <td>0</td>\n",
       "      <td>1</td>\n",
       "    </tr>\n",
       "    <tr>\n",
       "      <th>1</th>\n",
       "      <td>21</td>\n",
       "      <td>15</td>\n",
       "      <td>81</td>\n",
       "      <td>0</td>\n",
       "      <td>1</td>\n",
       "    </tr>\n",
       "    <tr>\n",
       "      <th>2</th>\n",
       "      <td>20</td>\n",
       "      <td>16</td>\n",
       "      <td>6</td>\n",
       "      <td>1</td>\n",
       "      <td>0</td>\n",
       "    </tr>\n",
       "    <tr>\n",
       "      <th>3</th>\n",
       "      <td>23</td>\n",
       "      <td>16</td>\n",
       "      <td>77</td>\n",
       "      <td>1</td>\n",
       "      <td>0</td>\n",
       "    </tr>\n",
       "    <tr>\n",
       "      <th>4</th>\n",
       "      <td>31</td>\n",
       "      <td>17</td>\n",
       "      <td>40</td>\n",
       "      <td>1</td>\n",
       "      <td>0</td>\n",
       "    </tr>\n",
       "  </tbody>\n",
       "</table>\n",
       "</div>"
      ],
      "text/plain": [
       "   Age  Annual Income (k$)  Spending Score (1-100)  Female  Male\n",
       "0   19                  15                      39       0     1\n",
       "1   21                  15                      81       0     1\n",
       "2   20                  16                       6       1     0\n",
       "3   23                  16                      77       1     0\n",
       "4   31                  17                      40       1     0"
      ]
     },
     "execution_count": 16,
     "metadata": {},
     "output_type": "execute_result"
    }
   ],
   "source": [
    "X.head()"
   ]
  },
  {
   "cell_type": "markdown",
   "metadata": {
    "id": "toVz5rovebXL"
   },
   "source": [
    "In order to apply PCA, we are going to use the `PCA` function from sklearn module."
   ]
  },
  {
   "cell_type": "code",
   "execution_count": 17,
   "metadata": {
    "executionInfo": {
     "elapsed": 422,
     "status": "ok",
     "timestamp": 1637324984276,
     "user": {
      "displayName": "Samuel Doan",
      "photoUrl": "https://lh3.googleusercontent.com/a-/AOh14GjbcdQ40FcyCSIyitBN2ptY3zHWA_09harKPYF2=s64",
      "userId": "04384888964432338542"
     },
     "user_tz": -420
    },
    "id": "197LXg1debXM"
   },
   "outputs": [],
   "source": [
    "# Apply PCA and fit the features selected\n",
    "pca = PCA(n_components=2).fit(X)"
   ]
  },
  {
   "cell_type": "markdown",
   "metadata": {
    "id": "AvrPFy9EebXM"
   },
   "source": [
    "During the fitting process, the model learns some quantities from the data: the \"components\" and \"explained variance\"."
   ]
  },
  {
   "cell_type": "code",
   "execution_count": 18,
   "metadata": {
    "colab": {
     "base_uri": "https://localhost:8080/"
    },
    "executionInfo": {
     "elapsed": 646,
     "status": "ok",
     "timestamp": 1637324990621,
     "user": {
      "displayName": "Samuel Doan",
      "photoUrl": "https://lh3.googleusercontent.com/a-/AOh14GjbcdQ40FcyCSIyitBN2ptY3zHWA_09harKPYF2=s64",
      "userId": "04384888964432338542"
     },
     "user_tz": -420
    },
    "id": "ofBffhpMebXM",
    "outputId": "71495e1c-b05b-44f7-eb91-203f24fc78d7"
   },
   "outputs": [
    {
     "name": "stdout",
     "output_type": "stream",
     "text": [
      "[[-1.88980385e-01  5.88604475e-01  7.86022241e-01  3.32880772e-04\n",
      "  -3.32880772e-04]\n",
      " [ 1.30957602e-01  8.08400899e-01 -5.73875514e-01 -1.57927017e-03\n",
      "   1.57927017e-03]]\n"
     ]
    }
   ],
   "source": [
    "print(pca.components_)"
   ]
  },
  {
   "cell_type": "code",
   "execution_count": 25,
   "metadata": {
    "executionInfo": {
     "elapsed": 608,
     "status": "ok",
     "timestamp": 1637325140330,
     "user": {
      "displayName": "Samuel Doan",
      "photoUrl": "https://lh3.googleusercontent.com/a-/AOh14GjbcdQ40FcyCSIyitBN2ptY3zHWA_09harKPYF2=s64",
      "userId": "04384888964432338542"
     },
     "user_tz": -420
    },
    "id": "SJ1h2fCNLlJ4"
   },
   "outputs": [],
   "source": [
    "pc1_coef = pca.components_[0]\n",
    "pc2_coef = pca.components_[1]"
   ]
  },
  {
   "cell_type": "code",
   "execution_count": 37,
   "metadata": {
    "colab": {
     "base_uri": "https://localhost:8080/"
    },
    "executionInfo": {
     "elapsed": 452,
     "status": "ok",
     "timestamp": 1637325410430,
     "user": {
      "displayName": "Samuel Doan",
      "photoUrl": "https://lh3.googleusercontent.com/a-/AOh14GjbcdQ40FcyCSIyitBN2ptY3zHWA_09harKPYF2=s64",
      "userId": "04384888964432338542"
     },
     "user_tz": -420
    },
    "id": "SNoiJX3FLv3o",
    "outputId": "2980e85c-f0ba-4484-a6a6-1854e10c3b83"
   },
   "outputs": [
    {
     "data": {
      "text/plain": [
       "0       35.892974\n",
       "1       68.527948\n",
       "2       10.354530\n",
       "3       65.595168\n",
       "4       35.589107\n",
       "          ...    \n",
       "195    126.114314\n",
       "196     87.669002\n",
       "197    126.282105\n",
       "198     88.739508\n",
       "199    140.208915\n",
       "Length: 200, dtype: float64"
      ]
     },
     "execution_count": 37,
     "metadata": {},
     "output_type": "execute_result"
    }
   ],
   "source": [
    "X.mul(pc1_coef, axis=1).sum(axis=1)"
   ]
  },
  {
   "cell_type": "code",
   "execution_count": 34,
   "metadata": {
    "colab": {
     "base_uri": "https://localhost:8080/"
    },
    "executionInfo": {
     "elapsed": 494,
     "status": "ok",
     "timestamp": 1637325335159,
     "user": {
      "displayName": "Samuel Doan",
      "photoUrl": "https://lh3.googleusercontent.com/a-/AOh14GjbcdQ40FcyCSIyitBN2ptY3zHWA_09harKPYF2=s64",
      "userId": "04384888964432338542"
     },
     "user_tz": -420
    },
    "id": "6RBS_yKlMZcO",
    "outputId": "1b3412e3-f099-4427-8149-e59b142286c6"
   },
   "outputs": [
    {
     "data": {
      "text/plain": [
       "0       -7.765358\n",
       "1      -31.606214\n",
       "2       12.108734\n",
       "3      -28.243555\n",
       "4       -5.154099\n",
       "          ...    \n",
       "195     56.253879\n",
       "196     91.681512\n",
       "197     63.583948\n",
       "198    104.613386\n",
       "199     67.049563\n",
       "Length: 200, dtype: float64"
      ]
     },
     "execution_count": 34,
     "metadata": {},
     "output_type": "execute_result"
    }
   ],
   "source": [
    "X.mul(pc2_coef, axis=1).sum(axis=1)"
   ]
  },
  {
   "cell_type": "code",
   "execution_count": 19,
   "metadata": {
    "colab": {
     "base_uri": "https://localhost:8080/"
    },
    "executionInfo": {
     "elapsed": 11,
     "status": "ok",
     "timestamp": 1637324993225,
     "user": {
      "displayName": "Samuel Doan",
      "photoUrl": "https://lh3.googleusercontent.com/a-/AOh14GjbcdQ40FcyCSIyitBN2ptY3zHWA_09harKPYF2=s64",
      "userId": "04384888964432338542"
     },
     "user_tz": -420
    },
    "id": "XdYpeOY-ebXN",
    "outputId": "0606ef55-f6dd-4ea4-ba1e-2cb3e7ff8aee",
    "scrolled": true
   },
   "outputs": [
    {
     "name": "stdout",
     "output_type": "stream",
     "text": [
      "[700.26450987 684.33354753]\n"
     ]
    }
   ],
   "source": [
    "print(pca.explained_variance_)"
   ]
  },
  {
   "cell_type": "code",
   "execution_count": 20,
   "metadata": {
    "colab": {
     "base_uri": "https://localhost:8080/"
    },
    "executionInfo": {
     "elapsed": 19,
     "status": "ok",
     "timestamp": 1637324994490,
     "user": {
      "displayName": "Samuel Doan",
      "photoUrl": "https://lh3.googleusercontent.com/a-/AOh14GjbcdQ40FcyCSIyitBN2ptY3zHWA_09harKPYF2=s64",
      "userId": "04384888964432338542"
     },
     "user_tz": -420
    },
    "id": "_nD9X_yxebXO",
    "outputId": "49d7fca7-c828-44c7-a707-ebd2765615ff"
   },
   "outputs": [
    {
     "name": "stdout",
     "output_type": "stream",
     "text": [
      "[0.45110884 0.44084615]\n"
     ]
    }
   ],
   "source": [
    "print(pca.explained_variance_ratio_)"
   ]
  },
  {
   "cell_type": "markdown",
   "metadata": {
    "id": "dtPsJ9t7ebXO"
   },
   "source": [
    "These numbers that appear to be abstract define vectors. The components define the direction of the vector while the explained variance define the squared-length of the vector.\n",
    "\n",
    "The vectors represent the principal axes of the data. The length of the vector indicates the importance of that axis in describing the distribution of the data. The projection of each data point onto the principal axes are the principal components of the data."
   ]
  },
  {
   "cell_type": "code",
   "execution_count": 32,
   "metadata": {
    "colab": {
     "base_uri": "https://localhost:8080/"
    },
    "executionInfo": {
     "elapsed": 531,
     "status": "ok",
     "timestamp": 1637325274413,
     "user": {
      "displayName": "Samuel Doan",
      "photoUrl": "https://lh3.googleusercontent.com/a-/AOh14GjbcdQ40FcyCSIyitBN2ptY3zHWA_09harKPYF2=s64",
      "userId": "04384888964432338542"
     },
     "user_tz": -420
    },
    "id": "HxuZkh0cebXP",
    "outputId": "daee5112-bb49-4850-a75c-d04d227496bb"
   },
   "outputs": [
    {
     "data": {
      "text/plain": [
       "array([[-3.18693812e+01, -3.30010788e+01],\n",
       "       [ 7.65592182e-01, -5.68419352e+01],\n",
       "       [-5.74078253e+01, -1.31269869e+01],\n",
       "       [-2.16718732e+00, -5.34792756e+01],\n",
       "       [-3.21732489e+01, -3.03898198e+01],\n",
       "       [-2.17562470e+00, -5.22279568e+01],\n",
       "       [-5.90653221e+01, -9.54582108e+00],\n",
       "       [ 1.23723997e+01, -6.16183575e+01],\n",
       "       [-6.63158813e+01, -3.21486464e+00],\n",
       "       [-5.65434779e+00, -4.72679921e+01],\n",
       "       [-5.82365778e+01, -9.13462248e+00],\n",
       "       [ 1.46233508e+01, -6.21078429e+01],\n",
       "       [-5.51604619e+01, -1.00818741e+01],\n",
       "       [-1.74979982e-03, -5.01147144e+01],\n",
       "       [-5.27645840e+01, -1.16810741e+01],\n",
       "       [ 1.94758969e+00, -5.15212221e+01],\n",
       "       [-3.45048637e+01, -2.37630083e+01],\n",
       "       [-7.30413420e+00, -4.35143547e+01],\n",
       "       [-4.12571205e+01, -1.64735156e+01],\n",
       "       [ 1.61917465e+01, -5.83003638e+01],\n",
       "       [-3.27397160e+01, -2.13346470e+01],\n",
       "       [-9.81067010e-01, -4.44514926e+01],\n",
       "       [-5.78098973e+01, -1.87260565e+00],\n",
       "       [-1.52634485e+00, -4.28573461e+01],\n",
       "       [-5.04817268e+01, -3.56462176e+00],\n",
       "       [ 7.69162952e+00, -4.58589382e+01],\n",
       "       [-3.46325029e+01, -1.50729994e+01],\n",
       "       [-9.94871986e+00, -3.30218068e+01],\n",
       "       [-3.38850188e+01, -1.43455110e+01],\n",
       "       [ 1.33448933e+01, -4.87088190e+01],\n",
       "       [-5.82992883e+01,  4.57983933e+00],\n",
       "       [ 3.30714714e+00, -4.01280761e+01],\n",
       "       [-5.52106122e+01,  6.08833881e+00],\n",
       "       [ 2.05736586e+01, -4.89962225e+01],\n",
       "       [-4.65938025e+01, -1.77405275e-01],\n",
       "       [ 1.13611385e+01, -4.22938775e+01],\n",
       "       [-4.23242686e+01, -2.00733413e+00],\n",
       "       [ 3.96074158e+00, -3.57158541e+01],\n",
       "       [-3.23503726e+01, -5.53275667e+00],\n",
       "       [ 9.18840334e+00, -3.57479785e+01],\n",
       "       [-3.01679992e+01, -6.09146493e+00],\n",
       "       [ 2.23827986e+01, -4.41684724e+01],\n",
       "       [-2.55813717e+01, -8.08006024e+00],\n",
       "       [-2.71748332e+00, -2.46563859e+01],\n",
       "       [-3.20578642e+01, -3.36125707e+00],\n",
       "       [ 1.74946834e+00, -2.78685911e+01],\n",
       "       [-1.04356396e+01, -1.79165374e+01],\n",
       "       [-1.23772687e+01, -1.63375582e+01],\n",
       "       [-1.66853407e+01, -1.32062654e+01],\n",
       "       [-1.70633014e+01, -1.29443502e+01],\n",
       "       [-1.14275170e+01, -1.47090667e+01],\n",
       "       [-2.11631867e+00, -2.13922339e+01],\n",
       "       [-5.86522111e+00, -1.74056537e+01],\n",
       "       [-6.44120421e+00, -1.71789354e+01],\n",
       "       [-1.65300486e+01, -9.75257961e+00],\n",
       "       [-1.91078622e+01, -7.84679182e+00],\n",
       "       [-1.22003133e+01, -1.16825987e+01],\n",
       "       [-1.87467150e+01, -7.02670124e+00],\n",
       "       [-5.70155287e+00, -1.37826548e+01],\n",
       "       [-1.45458199e+01, -7.50522108e+00],\n",
       "       [-9.89826399e+00, -1.10176970e+01],\n",
       "       [-1.04628658e+00, -1.71226592e+01],\n",
       "       [-1.18861416e+01, -8.30982537e+00],\n",
       "       [-3.92724086e+00, -1.40294028e+01],\n",
       "       [-1.13283035e+01, -7.44822083e+00],\n",
       "       [ 3.46399172e+00, -1.79323170e+01],\n",
       "       [-8.33405232e+00, -9.49665590e+00],\n",
       "       [-1.46306064e+01, -5.07496482e+00],\n",
       "       [ 3.27501133e+00, -1.78013594e+01],\n",
       "       [-8.61333481e+00, -9.21556298e+00],\n",
       "       [-8.91847280e+00, -8.01861877e+00],\n",
       "       [-1.47895473e+01, -3.57342048e+00],\n",
       "       [-1.11555322e+01, -5.07969935e+00],\n",
       "       [-5.65337647e+00, -9.09682795e+00],\n",
       "       [-1.01848441e+01, -8.26143789e-01],\n",
       "       [ 1.55366428e+00, -9.16487325e+00],\n",
       "       [-2.82231952e+00, -6.10596184e+00],\n",
       "       [-5.80819456e+00, -3.88821374e+00],\n",
       "       [ 5.49226716e-01, -8.41315357e+00],\n",
       "       [-1.22244857e+01,  7.30499218e-01],\n",
       "       [-6.66279438e+00, -3.38356105e+00],\n",
       "       [ 7.19219007e-02, -8.16725754e+00],\n",
       "       [-1.64128206e+01,  3.66477011e+00],\n",
       "       [-1.00855001e+01, -8.10124615e-01],\n",
       "       [ 4.85729869e+00, -1.15444463e+01],\n",
       "       [-8.89208212e+00, -1.69280190e+00],\n",
       "       [ 9.83801264e-01, -5.24056069e+00],\n",
       "       [ 4.86208725e+00, -7.84053502e+00],\n",
       "       [ 7.11303831e+00, -8.33002046e+00],\n",
       "       [-6.91495923e+00,  1.79955836e+00],\n",
       "       [-2.65380152e+00, -1.99683526e-01],\n",
       "       [-4.20975940e+00,  1.28985210e+00],\n",
       "       [-3.00238855e+00,  1.43597695e+00],\n",
       "       [-8.56407988e+00,  5.55003722e+00],\n",
       "       [-5.48019231e+00,  3.35462538e+00],\n",
       "       [ 3.89120742e+00, -3.42863204e+00],\n",
       "       [-4.38478688e+00,  2.44961184e+00],\n",
       "       [ 1.75288755e+00, -1.89116674e+00],\n",
       "       [-7.91593976e+00,  6.26150645e+00],\n",
       "       [ 2.87766671e+00, -1.42243500e+00],\n",
       "       [-3.38818214e+00,  4.36668427e+00],\n",
       "       [-2.79951646e+00,  3.75445333e+00],\n",
       "       [ 2.44441550e+00, -1.97781946e-01],\n",
       "       [ 7.04852233e+00, -3.27154157e+00],\n",
       "       [ 3.48799571e+00, -8.33392242e-01],\n",
       "       [-2.22419912e+00,  3.53089355e+00],\n",
       "       [-3.85153405e+00,  5.64138243e+00],\n",
       "       [-4.72852416e+00,  6.36855180e+00],\n",
       "       [-9.73231627e+00,  9.92358477e+00],\n",
       "       [-5.42424430e+00,  6.79229200e+00],\n",
       "       [-2.09117494e+00,  4.36583234e+00],\n",
       "       [ 8.17463302e+00, -2.80912692e+00],\n",
       "       [-4.25965672e+00,  7.37397458e+00],\n",
       "       [ 2.47439380e+00,  2.59343663e+00],\n",
       "       [ 4.82468891e+00,  2.11997036e+00],\n",
       "       [ 6.20775300e+00,  1.10317694e+00],\n",
       "       [-7.60953963e+00,  1.08824400e+01],\n",
       "       [ 7.61254162e+00, -1.32974626e-01],\n",
       "       [-4.16456606e+00,  1.09277506e+01],\n",
       "       [ 7.02872570e+00,  2.76253580e+00],\n",
       "       [ 1.05885866e+01,  3.27545008e-01],\n",
       "       [-4.06588778e+00,  1.09469283e+01],\n",
       "       [ 1.08817607e+01,  2.49588606e+00],\n",
       "       [ 3.70088093e+01, -1.65698049e+01],\n",
       "       [-8.11161323e+00,  1.77203976e+01],\n",
       "       [ 2.81056113e+01, -8.77796621e+00],\n",
       "       [-6.58714877e+00,  1.77078560e+01],\n",
       "       [ 4.11411269e+01, -1.71175476e+01],\n",
       "       [-2.84753687e+01,  3.35761900e+01],\n",
       "       [ 2.57986428e+01, -5.90195253e+00],\n",
       "       [-2.77796486e+01,  3.31524498e+01],\n",
       "       [ 2.56096624e+01, -5.77099493e+00],\n",
       "       [-3.38225384e+00,  1.67297371e+01],\n",
       "       [ 2.45666868e+01, -3.71791133e+00],\n",
       "       [-2.46440582e+01,  3.35288984e+01],\n",
       "       [ 3.88956301e+01, -1.29273094e+01],\n",
       "       [-2.76068772e+01,  3.55209713e+01],\n",
       "       [ 2.65376896e+01, -3.92314532e+00],\n",
       "       [-1.99363621e+01,  3.13369641e+01],\n",
       "       [ 2.57739964e+01, -2.15115464e+00],\n",
       "       [-3.04584577e+01,  3.99879729e+01],\n",
       "       [ 4.34353434e+01, -1.37838538e+01],\n",
       "       [ 3.12135635e+00,  1.69129604e+01],\n",
       "       [ 3.93084802e+01, -9.53535836e+00],\n",
       "       [-1.77323865e+01,  3.34001614e+01],\n",
       "       [ 4.85125628e+01, -1.49863845e+01],\n",
       "       [-3.21440160e+00,  2.26391739e+01],\n",
       "       [ 2.96787955e+01, -1.26657578e+00],\n",
       "       [-1.09837174e+01,  2.96452670e+01],\n",
       "       [ 4.24651293e+01, -9.37510935e+00],\n",
       "       [-1.66153178e+01,  3.36964216e+01],\n",
       "       [ 3.99481829e+01, -7.57257032e+00],\n",
       "       [-1.44455657e+01,  3.21025941e+01],\n",
       "       [ 3.07055621e+01, -8.20180296e-01],\n",
       "       [-1.81565958e+01,  3.47909689e+01],\n",
       "       [ 4.30026355e+01, -9.72109560e+00],\n",
       "       [-2.80577913e+01,  4.20926842e+01],\n",
       "       [ 3.37894497e+01, -3.01559214e+00],\n",
       "       [-2.74908502e+01,  4.16998114e+01],\n",
       "       [ 2.98593385e+01, -1.46214571e-01],\n",
       "       [-4.33439221e+00,  2.58743535e+01],\n",
       "       [ 3.84971458e+01, -5.20752641e+00],\n",
       "       [-1.97462420e+01,  3.98651480e+01],\n",
       "       [ 4.71566164e+01, -9.06756455e+00],\n",
       "       [-6.74374898e+00,  3.51070514e+01],\n",
       "       [ 3.44177320e+01,  5.15058631e+00],\n",
       "       [-9.35943487e+00,  3.83110446e+01],\n",
       "       [ 5.12937225e+01, -5.91139587e+00],\n",
       "       [-2.13412664e+00,  3.43134128e+01],\n",
       "       [ 2.69179298e+01,  1.31332224e+01],\n",
       "       [-1.38950253e+01,  4.28746589e+01],\n",
       "       [ 3.71061183e+01,  5.72288583e+00],\n",
       "       [-1.54971705e+01,  4.40724550e+01],\n",
       "       [ 4.89566533e+01, -2.98533709e+00],\n",
       "       [-1.55735197e+01,  4.52513925e+01],\n",
       "       [ 4.59636724e+01,  4.77412740e-01],\n",
       "       [-1.51360233e+01,  4.48925456e+01],\n",
       "       [ 3.31675697e+01,  9.84358221e+00],\n",
       "       [-1.31680035e+01,  4.96393832e+01],\n",
       "       [ 5.11052160e+01,  2.88186173e+00],\n",
       "       [ 7.49304894e+00,  3.96590018e+01],\n",
       "       [ 5.08831519e+01,  8.01493603e+00],\n",
       "       [-6.98221392e+00,  5.14050634e+01],\n",
       "       [ 5.36107420e+01,  7.28271310e+00],\n",
       "       [ 1.34164920e+01,  3.77825054e+01],\n",
       "       [ 6.10839005e+01,  3.06035052e+00],\n",
       "       [ 3.46622362e-01,  4.97098887e+01],\n",
       "       [ 3.98444252e+01,  2.10576270e+01],\n",
       "       [-1.52157937e+00,  5.36413703e+01],\n",
       "       [ 5.28728350e+01,  1.39630473e+01],\n",
       "       [ 4.51741678e+00,  4.92814140e+01],\n",
       "       [ 4.10524006e+01,  2.26212252e+01],\n",
       "       [-1.19855747e+00,  6.58457566e+01],\n",
       "       [ 6.30970524e+01,  1.88657185e+01],\n",
       "       [ 6.56479216e+00,  6.87438067e+01],\n",
       "       [ 5.83519580e+01,  3.10181581e+01],\n",
       "       [ 1.99066467e+01,  6.64457907e+01],\n",
       "       [ 5.85197490e+01,  3.83482268e+01],\n",
       "       [ 2.09771527e+01,  7.93776655e+01],\n",
       "       [ 7.24465592e+01,  4.18138419e+01]])"
      ]
     },
     "execution_count": 32,
     "metadata": {},
     "output_type": "execute_result"
    }
   ],
   "source": [
    "# Transform samples using the PCA fit\n",
    "pca_2d = pca.transform(X)\n",
    "pca_2d"
   ]
  },
  {
   "cell_type": "markdown",
   "metadata": {
    "id": "twRrg5JSebXQ"
   },
   "source": [
    "We can represent this using a type of scatter plot called biplot. Each point is represented by its score regarding the principal components.\n",
    "It is helpful to understand the reduced dimensions of the data. It also helps us discover relationships between the principal components and the original variables."
   ]
  },
  {
   "cell_type": "markdown",
   "metadata": {
    "id": "gjrpPxjuebXR"
   },
   "source": [
    "We can observe that Annual Income as well as Spending Score at the two most important components."
   ]
  },
  {
   "cell_type": "markdown",
   "metadata": {
    "id": "Fn7pNxnPebXS"
   },
   "source": [
    "### K-means clustering "
   ]
  },
  {
   "cell_type": "markdown",
   "metadata": {
    "id": "4yBTed7nebXU"
   },
   "source": [
    "Time for clustering!"
   ]
  },
  {
   "cell_type": "markdown",
   "metadata": {
    "id": "5UstNzoGebXU"
   },
   "source": [
    "In order to cluster data, we need to determine how to tell if two data points are similar. A proximity measure characterizes the similarity or dissimilarity that exists between objects.\n",
    "  \n",
    "We can choose to determine if two points are similar. So if the value is large, the points are very similar.\n",
    "Or choose to determine if they are dissimilar. If the value is small, the points are similar. This is what we know as \"distance\".\n",
    "  \n",
    "There are various distances that a clustering algorithm can use: Manhattan distance, Minkowski distance, Euclidean distance, among others."
   ]
  },
  {
   "cell_type": "markdown",
   "metadata": {
    "id": "WSrQzsHbebXU"
   },
   "source": [
    "${\\sqrt{\\sum_{i=1}^n (x_i-y_i)^2}}$"
   ]
  },
  {
   "cell_type": "markdown",
   "metadata": {
    "id": "aCpx3BwGebXU"
   },
   "source": [
    "K-means typically uses Euclidean distance to determine how similar (or dissimilar) two points are."
   ]
  },
  {
   "cell_type": "markdown",
   "metadata": {
    "id": "8-UXDkCwebXU"
   },
   "source": [
    "First, we need to fix the numbers of clusters to use. "
   ]
  },
  {
   "cell_type": "markdown",
   "metadata": {
    "id": "DQUobl-cebXW"
   },
   "source": [
    "There are several direct methods to perform this. Among them, we find the elbow and silhouette methods."
   ]
  },
  {
   "cell_type": "markdown",
   "metadata": {
    "id": "l_XeF5_AebXW"
   },
   "source": [
    "We'll consider the total intra-cluster variation (or total within-cluster sum of square (WSS)). The goal is to minimize WSS."
   ]
  },
  {
   "cell_type": "markdown",
   "metadata": {
    "id": "ApOgsBzRebXW"
   },
   "source": [
    "The Elbow method looks at how the total WSS varies with the number of clusters. \n",
    "For that, we'll compute k-means for a range of different values of k. Then, we calculate the total WSS. We plot the curve WSS vs. number of clusters. \n",
    "Finally, we locate the elbow or bend of the plot. This point is considered to be the appropriate number of clusters."
   ]
  },
  {
   "cell_type": "code",
   "execution_count": 22,
   "metadata": {
    "colab": {
     "base_uri": "https://localhost:8080/",
     "height": 299
    },
    "executionInfo": {
     "elapsed": 1411,
     "status": "ok",
     "timestamp": 1637325011544,
     "user": {
      "displayName": "Samuel Doan",
      "photoUrl": "https://lh3.googleusercontent.com/a-/AOh14GjbcdQ40FcyCSIyitBN2ptY3zHWA_09harKPYF2=s64",
      "userId": "04384888964432338542"
     },
     "user_tz": -420
    },
    "id": "JKu_eeb3ebXX",
    "outputId": "803d003c-0afe-4b77-ce57-bb44cab97014"
   },
   "outputs": [
    {
     "data": {
      "image/png": "[encoded data removed]",
      "text/plain": [
       "<Figure size 432x288 with 1 Axes>"
      ]
     },
     "metadata": {
      "needs_background": "light"
     },
     "output_type": "display_data"
    }
   ],
   "source": [
    "wcss = []\n",
    "for i in range(1,11):\n",
    "    km = KMeans(n_clusters=i,init='k-means++', max_iter=300, n_init=10, random_state=0)\n",
    "    km.fit(pca_2d)\n",
    "    wcss.append(km.inertia_)\n",
    "plt.plot(range(1,11),wcss, c=\"#c51b7d\")\n",
    "plt.gca().spines[\"top\"].set_visible(False)\n",
    "plt.gca().spines[\"right\"].set_visible(False)\n",
    "plt.title('Elbow Method', size=14)\n",
    "plt.xlabel('Number of clusters', size=12)\n",
    "plt.ylabel('wcss', size=14)\n",
    "plt.show() "
   ]
  },
  {
   "cell_type": "code",
   "execution_count": 23,
   "metadata": {
    "colab": {
     "base_uri": "https://localhost:8080/",
     "height": 299
    },
    "executionInfo": {
     "elapsed": 1043,
     "status": "ok",
     "timestamp": 1637325017765,
     "user": {
      "displayName": "Samuel Doan",
      "photoUrl": "https://lh3.googleusercontent.com/a-/AOh14GjbcdQ40FcyCSIyitBN2ptY3zHWA_09harKPYF2=s64",
      "userId": "04384888964432338542"
     },
     "user_tz": -420
    },
    "id": "W4cCAGP6ebXX",
    "outputId": "972feacd-5242-4102-ce05-29d6e2892559"
   },
   "outputs": [
    {
     "data": {
      "image/png": "[encoded data removed]",
      "text/plain": [
       "<Figure size 432x288 with 1 Axes>"
      ]
     },
     "metadata": {
      "needs_background": "light"
     },
     "output_type": "display_data"
    }
   ],
   "source": [
    "wcss = []\n",
    "for i in range(1,11):\n",
    "    km = KMeans(n_clusters=i,init='k-means++', max_iter=300, n_init=10, random_state=0)\n",
    "    km.fit(X)\n",
    "    wcss.append(km.inertia_)\n",
    "plt.plot(range(1,11),wcss, c=\"#c51b7d\")\n",
    "plt.gca().spines[\"top\"].set_visible(False)\n",
    "plt.gca().spines[\"right\"].set_visible(False)\n",
    "plt.title('Elbow Method', size=14)\n",
    "plt.xlabel('Number of clusters', size=12)\n",
    "plt.ylabel('wcss', size=14)\n",
    "plt.show() "
   ]
  },
  {
   "cell_type": "markdown",
   "metadata": {
    "id": "x0gQnNhyebXY"
   },
   "source": [
    "How does k-means clustering works? The main idea is to select k centers, one for each cluster. There are several ways to initialize those centers. We can do it randomly, pass certain points that we believe are the center or place them in a smart way (e.g. as far away from each other as possible).\n",
    "Then, we calculate the Euclidean distance between each point and the cluster centers. We assign the points to the cluster center where the distance is minimum.\n",
    "After that, we recalculate the new cluster center. We select the point that is in the middle of each cluster as the new center. \n",
    "And we start again, calculate distance, assign to cluster, calculate new centers. When do we stop? When the centers do not move anymore."
   ]
  },
  {
   "cell_type": "code",
   "execution_count": null,
   "metadata": {
    "id": "ybXoD6JmebXY"
   },
   "outputs": [],
   "source": [
    "# Kmeans algorithm\n",
    "# n_clusters: Number of clusters. In our case 5\n",
    "# init: k-means++. Smart initialization\n",
    "# max_iter: Maximum number of iterations of the k-means algorithm for a single run\n",
    "# n_init: Number of time the k-means algorithm will be run with different centroid seeds. \n",
    "# random_state: Determines random number generation for centroid initialization.\n",
    "kmeans = KMeans(n_clusters=5, init='k-means++', max_iter=10, n_init=10, random_state=0)\n",
    "\n",
    "# Fit and predict \n",
    "y_means = kmeans.fit_predict(X)"
   ]
  },
  {
   "cell_type": "code",
   "execution_count": null,
   "metadata": {
    "id": "oZjITehGebXZ",
    "outputId": "2268008c-9bac-41b4-edd2-d1b92cebd9c5"
   },
   "outputs": [
    {
     "data": {
      "image/png": "[encoded data removed]",
      "text/plain": [
       "<Figure size 432x288 with 1 Axes>"
      ]
     },
     "metadata": {
      "needs_background": "light"
     },
     "output_type": "display_data"
    }
   ],
   "source": [
    "plt.scatter(customers[\"Annual Income (k$)\"], \n",
    "            customers[\"Spending Score (1-100)\"], \n",
    "            c=y_means, s=20, cmap='viridis')\n",
    "plt.xlabel(\"Annual Income (k$)\")\n",
    "plt.ylabel(\"Spending Score (1-100)\")\n",
    "plt.title(\"Customers K-MEANS Clustering\");\n"
   ]
  },
  {
   "cell_type": "code",
   "execution_count": null,
   "metadata": {
    "id": "v9UgjxZfebXa"
   },
   "outputs": [],
   "source": [
    "centroids = pd.DataFrame(kmeans.cluster_centers_, columns = [\"Age\", \"Annual Income\", \"Spending\", \"Male\", \"Female\"])"
   ]
  },
  {
   "cell_type": "code",
   "execution_count": null,
   "metadata": {
    "id": "qPRrip3_ebXa"
   },
   "outputs": [],
   "source": [
    "centroids.index_name = \"ClusterID\""
   ]
  },
  {
   "cell_type": "code",
   "execution_count": null,
   "metadata": {
    "id": "AYH8AY-OebXc"
   },
   "outputs": [],
   "source": [
    "centroids[\"ClusterID\"] = centroids.index\n",
    "centroids = centroids.reset_index(drop=True)"
   ]
  },
  {
   "cell_type": "code",
   "execution_count": null,
   "metadata": {
    "id": "EX9nwxXTebXd",
    "outputId": "033930f4-14e3-4b5b-d7ab-f250277dc11b"
   },
   "outputs": [
    {
     "data": {
      "text/html": [
       "<div>\n",
       "<style scoped>\n",
       "    .dataframe tbody tr th:only-of-type {\n",
       "        vertical-align: middle;\n",
       "    }\n",
       "\n",
       "    .dataframe tbody tr th {\n",
       "        vertical-align: top;\n",
       "    }\n",
       "\n",
       "    .dataframe thead th {\n",
       "        text-align: right;\n",
       "    }\n",
       "</style>\n",
       "<table border=\"1\" class=\"dataframe\">\n",
       "  <thead>\n",
       "    <tr style=\"text-align: right;\">\n",
       "      <th></th>\n",
       "      <th>Age</th>\n",
       "      <th>Annual Income</th>\n",
       "      <th>Spending</th>\n",
       "      <th>Male</th>\n",
       "      <th>Female</th>\n",
       "      <th>ClusterID</th>\n",
       "    </tr>\n",
       "  </thead>\n",
       "  <tbody>\n",
       "    <tr>\n",
       "      <th>0</th>\n",
       "      <td>45.217391</td>\n",
       "      <td>26.304348</td>\n",
       "      <td>20.913043</td>\n",
       "      <td>0.608696</td>\n",
       "      <td>0.391304</td>\n",
       "      <td>0</td>\n",
       "    </tr>\n",
       "    <tr>\n",
       "      <th>1</th>\n",
       "      <td>43.088608</td>\n",
       "      <td>55.291139</td>\n",
       "      <td>49.569620</td>\n",
       "      <td>0.582278</td>\n",
       "      <td>0.417722</td>\n",
       "      <td>1</td>\n",
       "    </tr>\n",
       "    <tr>\n",
       "      <th>2</th>\n",
       "      <td>32.692308</td>\n",
       "      <td>86.538462</td>\n",
       "      <td>82.128205</td>\n",
       "      <td>0.538462</td>\n",
       "      <td>0.461538</td>\n",
       "      <td>2</td>\n",
       "    </tr>\n",
       "    <tr>\n",
       "      <th>3</th>\n",
       "      <td>40.666667</td>\n",
       "      <td>87.750000</td>\n",
       "      <td>17.583333</td>\n",
       "      <td>0.472222</td>\n",
       "      <td>0.527778</td>\n",
       "      <td>3</td>\n",
       "    </tr>\n",
       "    <tr>\n",
       "      <th>4</th>\n",
       "      <td>25.521739</td>\n",
       "      <td>26.304348</td>\n",
       "      <td>78.565217</td>\n",
       "      <td>0.608696</td>\n",
       "      <td>0.391304</td>\n",
       "      <td>4</td>\n",
       "    </tr>\n",
       "  </tbody>\n",
       "</table>\n",
       "</div>"
      ],
      "text/plain": [
       "         Age  Annual Income   Spending      Male    Female  ClusterID\n",
       "0  45.217391      26.304348  20.913043  0.608696  0.391304          0\n",
       "1  43.088608      55.291139  49.569620  0.582278  0.417722          1\n",
       "2  32.692308      86.538462  82.128205  0.538462  0.461538          2\n",
       "3  40.666667      87.750000  17.583333  0.472222  0.527778          3\n",
       "4  25.521739      26.304348  78.565217  0.608696  0.391304          4"
      ]
     },
     "execution_count": 28,
     "metadata": {},
     "output_type": "execute_result"
    }
   ],
   "source": [
    "centroids"
   ]
  },
  {
   "cell_type": "markdown",
   "metadata": {
    "id": "s56avFtkebXe"
   },
   "source": [
    "The most important features appear to be Annual Income and Spending score. \n",
    "We have people whose income is low but spend in the same range - segment 0. People whose earnings a high and spend a lot - segment 1. Customers whose income is middle range but also spend at the same level - segment 2. \n",
    "Then we have customers whose income is very high but they have most spendings - segment 4. And last, people whose earnings are little but they spend a lot- segment 5."
   ]
  },
  {
   "cell_type": "markdown",
   "metadata": {
    "id": "LriVPz3MebXf"
   },
   "source": [
    "Imagine that tomorrow we have a new member. And we want to know which segment that person belongs. We can predict this."
   ]
  },
  {
   "cell_type": "code",
   "execution_count": null,
   "metadata": {
    "id": "8HOSdLhNebXf",
    "outputId": "ff08e208-7598-426d-d4a4-219a26526ccb"
   },
   "outputs": [
    {
     "name": "stdout",
     "output_type": "stream",
     "text": [
      "The new customer belongs to segment 1\n"
     ]
    }
   ],
   "source": [
    "X_new = np.array([[43, 76, 56, 0, 1]]) \n",
    " \n",
    "new_customer = kmeans.predict(X_new)\n",
    "print(f\"The new customer belongs to segment {new_customer[0]}\")"
   ]
  },
  {
   "cell_type": "markdown",
   "metadata": {
    "id": "56z37m9eebXg"
   },
   "source": [
    "## Verify with Hierarchical Clustering"
   ]
  },
  {
   "cell_type": "code",
   "execution_count": null,
   "metadata": {
    "id": "W4xK1_ziebXh"
   },
   "outputs": [],
   "source": [
    "# Import scipy's linkage function to conduct the clustering\n",
    "from scipy.cluster.hierarchy import linkage\n",
    "\n",
    "# Specify the linkage type. Scipy accepts 'ward', 'complete', 'average', as well as other values\n",
    "# Pick the one that resulted in the highest Adjusted Rand Score\n",
    "linkage_type = 'ward'\n",
    "\n",
    "linkage_matrix = linkage(pca_2d, linkage_type)"
   ]
  },
  {
   "cell_type": "code",
   "execution_count": null,
   "metadata": {
    "id": "84m8BoNZebXh",
    "outputId": "20338d92-e1f9-4cbf-e93f-0d82897bd68b"
   },
   "outputs": [
    {
     "data": {
      "image/png": "[encoded data removed]",
      "text/plain": [
       "<Figure size 720x720 with 1 Axes>"
      ]
     },
     "metadata": {
      "needs_background": "light"
     },
     "output_type": "display_data"
    }
   ],
   "source": [
    "from scipy.cluster.hierarchy import dendrogram\n",
    "import matplotlib.pyplot as plt\n",
    "plt.figure(figsize=(10,10))\n",
    "sns.set()\n",
    "# plot using 'dendrogram()'\n",
    "dendrogram(linkage_matrix)\n",
    "\n",
    "plt.show()"
   ]
  },
  {
   "cell_type": "code",
   "execution_count": null,
   "metadata": {
    "id": "VMo7k8QbebXi"
   },
   "outputs": [],
   "source": [
    "from sklearn.cluster import AgglomerativeClustering\n",
    "# Hierarchical clustering\n",
    "from sklearn import preprocessing\n",
    "\n",
    "#normalized_X = preprocessing.normalize(iris.data)\n",
    "\n",
    "ward = AgglomerativeClustering(n_clusters=5)\n",
    "ward_pred = ward.fit_predict(pca_2d)"
   ]
  },
  {
   "cell_type": "code",
   "execution_count": null,
   "metadata": {
    "id": "7y8Dq7c-ebXj",
    "outputId": "62668de4-3435-4993-9c64-0c826603b5e5"
   },
   "outputs": [
    {
     "data": {
      "image/png": "[encoded data removed]",
      "text/plain": [
       "<Figure size 432x288 with 1 Axes>"
      ]
     },
     "metadata": {},
     "output_type": "display_data"
    }
   ],
   "source": [
    "plt.scatter(customers[\"Annual Income (k$)\"], \n",
    "            customers[\"Spending Score (1-100)\"], \n",
    "            c=ward_pred, s=20, cmap='viridis')\n",
    "plt.xlabel(\"Annual Income (k$)\")\n",
    "plt.ylabel(\"Spending Score (1-100)\")\n",
    "plt.title(\"Customers Hierarchical Clustering\");\n"
   ]
  },
  {
   "cell_type": "code",
   "execution_count": null,
   "metadata": {
    "id": "wBy5y5dVebXj"
   },
   "outputs": [],
   "source": [
    "# Bài tập về nhà: Thử sử dụng Gaussian Mixtures cho ví dụ Customer Segmentation"
   ]
  },
  {
   "cell_type": "code",
   "execution_count": 43,
   "metadata": {
    "colab": {
     "base_uri": "https://localhost:8080/"
    },
    "executionInfo": {
     "elapsed": 449,
     "status": "ok",
     "timestamp": 1637325783438,
     "user": {
      "displayName": "Samuel Doan",
      "photoUrl": "https://lh3.googleusercontent.com/a-/AOh14GjbcdQ40FcyCSIyitBN2ptY3zHWA_09harKPYF2=s64",
      "userId": "04384888964432338542"
     },
     "user_tz": -420
    },
    "id": "GYUHnfewebXk",
    "outputId": "d5984e88-9ec0-47df-aa5f-36654edb48d1"
   },
   "outputs": [
    {
     "data": {
      "text/plain": [
       "array([0, 3, 0, 3, 0, 3, 0, 3, 0, 3, 0, 3, 0, 3, 0, 3, 0, 3, 0, 3, 0, 3,\n",
       "       0, 3, 0, 3, 0, 3, 0, 3, 0, 3, 0, 3, 0, 3, 0, 3, 0, 3, 0, 3, 0, 4,\n",
       "       0, 4, 4, 4, 4, 4, 4, 4, 4, 4, 4, 4, 4, 4, 4, 4, 4, 4, 4, 4, 4, 4,\n",
       "       4, 4, 4, 4, 4, 4, 4, 4, 4, 4, 4, 4, 4, 4, 4, 4, 4, 4, 4, 4, 4, 4,\n",
       "       4, 4, 4, 4, 4, 4, 4, 4, 4, 4, 4, 4, 4, 4, 4, 4, 4, 4, 4, 4, 4, 4,\n",
       "       4, 4, 4, 4, 4, 4, 4, 4, 4, 4, 4, 4, 4, 2, 4, 2, 4, 2, 1, 2, 1, 2,\n",
       "       4, 2, 1, 2, 1, 2, 1, 2, 1, 2, 4, 2, 1, 2, 4, 2, 1, 2, 1, 2, 1, 2,\n",
       "       1, 2, 1, 2, 1, 2, 1, 2, 1, 2, 1, 2, 1, 2, 1, 2, 1, 2, 1, 2, 1, 2,\n",
       "       1, 2, 1, 2, 1, 2, 1, 2, 1, 2, 1, 2, 1, 2, 1, 2, 1, 2, 1, 2, 1, 2,\n",
       "       1, 2])"
      ]
     },
     "execution_count": 43,
     "metadata": {},
     "output_type": "execute_result"
    }
   ],
   "source": [
    "from sklearn.mixture import GaussianMixture\n",
    "\n",
    "gnm = GaussianMixture(n_components=5)\n",
    "gnm.fit(pca_2d)\n",
    "# y_pred = gnm.fit_predict(X)\n",
    "y_pred = gnm.predict(pca_2d)\n",
    "y_pred"
   ]
  },
  {
   "cell_type": "code",
   "execution_count": 44,
   "metadata": {
    "executionInfo": {
     "elapsed": 681,
     "status": "ok",
     "timestamp": 1637325786408,
     "user": {
      "displayName": "Samuel Doan",
      "photoUrl": "https://lh3.googleusercontent.com/a-/AOh14GjbcdQ40FcyCSIyitBN2ptY3zHWA_09harKPYF2=s64",
      "userId": "04384888964432338542"
     },
     "user_tz": -420
    },
    "id": "YP18qVeKebXk"
   },
   "outputs": [],
   "source": [
    "from matplotlib.patches import Ellipse\n",
    "\n",
    "def draw_ellipse(position, covariance, ax=None, **kwargs):\n",
    "    \"\"\"Draw an ellipse with a given position and covariance\"\"\"\n",
    "    ax = ax or plt.gca()\n",
    "    \n",
    "    # Convert covariance to principal axes\n",
    "    if covariance.shape == (2, 2):\n",
    "        U, s, Vt = np.linalg.svd(covariance)\n",
    "        angle = np.degrees(np.arctan2(U[1, 0], U[0, 0]))\n",
    "        width, height = 2 * np.sqrt(s)\n",
    "    else:\n",
    "        angle = 0\n",
    "        width, height = 2 * np.sqrt(covariance)\n",
    "    \n",
    "    # Draw the Ellipse\n",
    "    for nsig in range(1, 4):\n",
    "        ax.add_patch(Ellipse(position, nsig * width, nsig * height,\n",
    "                             angle, **kwargs))\n",
    "        \n",
    "def plot_gnm(gmm, X, label=True, ax=None):\n",
    "    ax = ax or plt.gca()\n",
    "    labels = gmm.fit(X).predict(X)\n",
    "    if label:\n",
    "        ax.scatter(X[:, 0], X[:, 1], c=labels, s=10, cmap='viridis', zorder=2)\n",
    "    else:\n",
    "        ax.scatter(X[:, 0], X[:, 1], s=10, zorder=2)\n",
    "    ax.axis('equal')\n",
    "    \n",
    "    w_factor = 0.2 / gmm.weights_.max()\n",
    "    for pos, covar, w in zip(gmm.means_, gmm.covariances_, gmm.weights_):\n",
    "        draw_ellipse(pos, covar, alpha=w * w_factor)"
   ]
  },
  {
   "cell_type": "code",
   "execution_count": 45,
   "metadata": {
    "colab": {
     "base_uri": "https://localhost:8080/",
     "height": 265
    },
    "executionInfo": {
     "elapsed": 1175,
     "status": "ok",
     "timestamp": 1637325788052,
     "user": {
      "displayName": "Samuel Doan",
      "photoUrl": "https://lh3.googleusercontent.com/a-/AOh14GjbcdQ40FcyCSIyitBN2ptY3zHWA_09harKPYF2=s64",
      "userId": "04384888964432338542"
     },
     "user_tz": -420
    },
    "id": "K6Ldfso6ebXk",
    "outputId": "5e50193d-e31a-45b5-b110-52bb56e4f812"
   },
   "outputs": [
    {
     "data": {
      "image/png": "[encoded data removed]",
      "text/plain": [
       "<Figure size 432x288 with 1 Axes>"
      ]
     },
     "metadata": {
      "needs_background": "light"
     },
     "output_type": "display_data"
    }
   ],
   "source": [
    "plot_gnm(gnm, pca_2d)"
   ]
  },
  {
   "cell_type": "code",
   "execution_count": 46,
   "metadata": {
    "colab": {
     "base_uri": "https://localhost:8080/"
    },
    "executionInfo": {
     "elapsed": 517,
     "status": "ok",
     "timestamp": 1637326005063,
     "user": {
      "displayName": "Samuel Doan",
      "photoUrl": "https://lh3.googleusercontent.com/a-/AOh14GjbcdQ40FcyCSIyitBN2ptY3zHWA_09harKPYF2=s64",
      "userId": "04384888964432338542"
     },
     "user_tz": -420
    },
    "id": "bjYZUJSBebXl",
    "outputId": "4a8606e6-2904-4d76-8850-22725707a2c5"
   },
   "outputs": [
    {
     "data": {
      "text/plain": [
       "array([4, 3, 4, 3, 4, 3, 4, 3, 4, 3, 4, 3, 4, 3, 4, 3, 4, 3, 4, 3, 4, 3,\n",
       "       4, 3, 4, 3, 4, 3, 4, 3, 4, 3, 4, 3, 4, 3, 4, 3, 4, 3, 4, 3, 4, 0,\n",
       "       4, 0, 0, 0, 0, 0, 0, 0, 0, 0, 0, 0, 0, 0, 0, 0, 0, 0, 0, 0, 0, 0,\n",
       "       0, 0, 0, 0, 0, 0, 0, 0, 0, 0, 0, 0, 0, 0, 0, 0, 0, 0, 0, 0, 0, 0,\n",
       "       0, 0, 0, 0, 0, 0, 0, 0, 0, 0, 0, 0, 0, 0, 0, 0, 0, 0, 0, 0, 0, 0,\n",
       "       0, 0, 0, 0, 0, 0, 0, 0, 0, 0, 0, 0, 0, 1, 0, 1, 0, 1, 2, 1, 2, 1,\n",
       "       0, 1, 2, 1, 2, 1, 2, 1, 2, 1, 0, 1, 2, 1, 0, 1, 2, 1, 2, 1, 2, 1,\n",
       "       2, 1, 2, 1, 2, 1, 2, 1, 2, 1, 2, 1, 2, 1, 2, 1, 2, 1, 2, 1, 2, 1,\n",
       "       2, 1, 2, 1, 2, 1, 2, 1, 2, 1, 2, 1, 2, 1, 2, 1, 2, 1, 2, 1, 2, 1,\n",
       "       2, 1])"
      ]
     },
     "execution_count": 46,
     "metadata": {},
     "output_type": "execute_result"
    }
   ],
   "source": [
    "gnm.predict(pca_2d)"
   ]
  },
  {
   "cell_type": "code",
   "execution_count": 47,
   "metadata": {
    "colab": {
     "base_uri": "https://localhost:8080/",
     "height": 424
    },
    "executionInfo": {
     "elapsed": 618,
     "status": "ok",
     "timestamp": 1637326034903,
     "user": {
      "displayName": "Samuel Doan",
      "photoUrl": "https://lh3.googleusercontent.com/a-/AOh14GjbcdQ40FcyCSIyitBN2ptY3zHWA_09harKPYF2=s64",
      "userId": "04384888964432338542"
     },
     "user_tz": -420
    },
    "id": "rKtNXiXqPBW8",
    "outputId": "063e7da1-f8ce-4754-875f-7f5218d07dd9"
   },
   "outputs": [
    {
     "data": {
      "text/html": [
       "<div>\n",
       "<style scoped>\n",
       "    .dataframe tbody tr th:only-of-type {\n",
       "        vertical-align: middle;\n",
       "    }\n",
       "\n",
       "    .dataframe tbody tr th {\n",
       "        vertical-align: top;\n",
       "    }\n",
       "\n",
       "    .dataframe thead th {\n",
       "        text-align: right;\n",
       "    }\n",
       "</style>\n",
       "<table border=\"1\" class=\"dataframe\">\n",
       "  <thead>\n",
       "    <tr style=\"text-align: right;\">\n",
       "      <th></th>\n",
       "      <th>Age</th>\n",
       "      <th>Annual Income (k$)</th>\n",
       "      <th>Spending Score (1-100)</th>\n",
       "      <th>Female</th>\n",
       "      <th>Male</th>\n",
       "      <th>label</th>\n",
       "    </tr>\n",
       "  </thead>\n",
       "  <tbody>\n",
       "    <tr>\n",
       "      <th>0</th>\n",
       "      <td>19</td>\n",
       "      <td>15</td>\n",
       "      <td>39</td>\n",
       "      <td>0</td>\n",
       "      <td>1</td>\n",
       "      <td>4</td>\n",
       "    </tr>\n",
       "    <tr>\n",
       "      <th>1</th>\n",
       "      <td>21</td>\n",
       "      <td>15</td>\n",
       "      <td>81</td>\n",
       "      <td>0</td>\n",
       "      <td>1</td>\n",
       "      <td>3</td>\n",
       "    </tr>\n",
       "    <tr>\n",
       "      <th>2</th>\n",
       "      <td>20</td>\n",
       "      <td>16</td>\n",
       "      <td>6</td>\n",
       "      <td>1</td>\n",
       "      <td>0</td>\n",
       "      <td>4</td>\n",
       "    </tr>\n",
       "    <tr>\n",
       "      <th>3</th>\n",
       "      <td>23</td>\n",
       "      <td>16</td>\n",
       "      <td>77</td>\n",
       "      <td>1</td>\n",
       "      <td>0</td>\n",
       "      <td>3</td>\n",
       "    </tr>\n",
       "    <tr>\n",
       "      <th>4</th>\n",
       "      <td>31</td>\n",
       "      <td>17</td>\n",
       "      <td>40</td>\n",
       "      <td>1</td>\n",
       "      <td>0</td>\n",
       "      <td>4</td>\n",
       "    </tr>\n",
       "    <tr>\n",
       "      <th>...</th>\n",
       "      <td>...</td>\n",
       "      <td>...</td>\n",
       "      <td>...</td>\n",
       "      <td>...</td>\n",
       "      <td>...</td>\n",
       "      <td>...</td>\n",
       "    </tr>\n",
       "    <tr>\n",
       "      <th>195</th>\n",
       "      <td>35</td>\n",
       "      <td>120</td>\n",
       "      <td>79</td>\n",
       "      <td>1</td>\n",
       "      <td>0</td>\n",
       "      <td>1</td>\n",
       "    </tr>\n",
       "    <tr>\n",
       "      <th>196</th>\n",
       "      <td>45</td>\n",
       "      <td>126</td>\n",
       "      <td>28</td>\n",
       "      <td>1</td>\n",
       "      <td>0</td>\n",
       "      <td>2</td>\n",
       "    </tr>\n",
       "    <tr>\n",
       "      <th>197</th>\n",
       "      <td>32</td>\n",
       "      <td>126</td>\n",
       "      <td>74</td>\n",
       "      <td>0</td>\n",
       "      <td>1</td>\n",
       "      <td>1</td>\n",
       "    </tr>\n",
       "    <tr>\n",
       "      <th>198</th>\n",
       "      <td>32</td>\n",
       "      <td>137</td>\n",
       "      <td>18</td>\n",
       "      <td>0</td>\n",
       "      <td>1</td>\n",
       "      <td>2</td>\n",
       "    </tr>\n",
       "    <tr>\n",
       "      <th>199</th>\n",
       "      <td>30</td>\n",
       "      <td>137</td>\n",
       "      <td>83</td>\n",
       "      <td>0</td>\n",
       "      <td>1</td>\n",
       "      <td>1</td>\n",
       "    </tr>\n",
       "  </tbody>\n",
       "</table>\n",
       "<p>200 rows × 6 columns</p>\n",
       "</div>"
      ],
      "text/plain": [
       "     Age  Annual Income (k$)  Spending Score (1-100)  Female  Male  label\n",
       "0     19                  15                      39       0     1      4\n",
       "1     21                  15                      81       0     1      3\n",
       "2     20                  16                       6       1     0      4\n",
       "3     23                  16                      77       1     0      3\n",
       "4     31                  17                      40       1     0      4\n",
       "..   ...                 ...                     ...     ...   ...    ...\n",
       "195   35                 120                      79       1     0      1\n",
       "196   45                 126                      28       1     0      2\n",
       "197   32                 126                      74       0     1      1\n",
       "198   32                 137                      18       0     1      2\n",
       "199   30                 137                      83       0     1      1\n",
       "\n",
       "[200 rows x 6 columns]"
      ]
     },
     "execution_count": 47,
     "metadata": {},
     "output_type": "execute_result"
    }
   ],
   "source": [
    "X['label'] = gnm.predict(pca_2d)\n",
    "X"
   ]
  },
  {
   "cell_type": "code",
   "execution_count": 55,
   "metadata": {
    "colab": {
     "base_uri": "https://localhost:8080/",
     "height": 771
    },
    "executionInfo": {
     "elapsed": 542,
     "status": "ok",
     "timestamp": 1637326288467,
     "user": {
      "displayName": "Samuel Doan",
      "photoUrl": "https://lh3.googleusercontent.com/a-/AOh14GjbcdQ40FcyCSIyitBN2ptY3zHWA_09harKPYF2=s64",
      "userId": "04384888964432338542"
     },
     "user_tz": -420
    },
    "id": "qYMVldbUQEyZ",
    "outputId": "04a23222-52e8-42c3-b44a-eb171cf20841"
   },
   "outputs": [
    {
     "data": {
      "text/html": [
       "<div>\n",
       "<style scoped>\n",
       "    .dataframe tbody tr th:only-of-type {\n",
       "        vertical-align: middle;\n",
       "    }\n",
       "\n",
       "    .dataframe tbody tr th {\n",
       "        vertical-align: top;\n",
       "    }\n",
       "\n",
       "    .dataframe thead th {\n",
       "        text-align: right;\n",
       "    }\n",
       "</style>\n",
       "<table border=\"1\" class=\"dataframe\">\n",
       "  <thead>\n",
       "    <tr style=\"text-align: right;\">\n",
       "      <th></th>\n",
       "      <th>Age</th>\n",
       "      <th>Annual Income (k$)</th>\n",
       "      <th>Spending Score (1-100)</th>\n",
       "      <th>Female</th>\n",
       "      <th>Male</th>\n",
       "      <th>label</th>\n",
       "    </tr>\n",
       "  </thead>\n",
       "  <tbody>\n",
       "    <tr>\n",
       "      <th>0</th>\n",
       "      <td>19</td>\n",
       "      <td>15</td>\n",
       "      <td>39</td>\n",
       "      <td>0</td>\n",
       "      <td>1</td>\n",
       "      <td>4</td>\n",
       "    </tr>\n",
       "    <tr>\n",
       "      <th>2</th>\n",
       "      <td>20</td>\n",
       "      <td>16</td>\n",
       "      <td>6</td>\n",
       "      <td>1</td>\n",
       "      <td>0</td>\n",
       "      <td>4</td>\n",
       "    </tr>\n",
       "    <tr>\n",
       "      <th>4</th>\n",
       "      <td>31</td>\n",
       "      <td>17</td>\n",
       "      <td>40</td>\n",
       "      <td>1</td>\n",
       "      <td>0</td>\n",
       "      <td>4</td>\n",
       "    </tr>\n",
       "    <tr>\n",
       "      <th>6</th>\n",
       "      <td>35</td>\n",
       "      <td>18</td>\n",
       "      <td>6</td>\n",
       "      <td>1</td>\n",
       "      <td>0</td>\n",
       "      <td>4</td>\n",
       "    </tr>\n",
       "    <tr>\n",
       "      <th>8</th>\n",
       "      <td>64</td>\n",
       "      <td>19</td>\n",
       "      <td>3</td>\n",
       "      <td>0</td>\n",
       "      <td>1</td>\n",
       "      <td>4</td>\n",
       "    </tr>\n",
       "    <tr>\n",
       "      <th>10</th>\n",
       "      <td>67</td>\n",
       "      <td>19</td>\n",
       "      <td>14</td>\n",
       "      <td>0</td>\n",
       "      <td>1</td>\n",
       "      <td>4</td>\n",
       "    </tr>\n",
       "    <tr>\n",
       "      <th>12</th>\n",
       "      <td>58</td>\n",
       "      <td>20</td>\n",
       "      <td>15</td>\n",
       "      <td>1</td>\n",
       "      <td>0</td>\n",
       "      <td>4</td>\n",
       "    </tr>\n",
       "    <tr>\n",
       "      <th>14</th>\n",
       "      <td>37</td>\n",
       "      <td>20</td>\n",
       "      <td>13</td>\n",
       "      <td>0</td>\n",
       "      <td>1</td>\n",
       "      <td>4</td>\n",
       "    </tr>\n",
       "    <tr>\n",
       "      <th>16</th>\n",
       "      <td>35</td>\n",
       "      <td>21</td>\n",
       "      <td>35</td>\n",
       "      <td>1</td>\n",
       "      <td>0</td>\n",
       "      <td>4</td>\n",
       "    </tr>\n",
       "    <tr>\n",
       "      <th>18</th>\n",
       "      <td>52</td>\n",
       "      <td>23</td>\n",
       "      <td>29</td>\n",
       "      <td>0</td>\n",
       "      <td>1</td>\n",
       "      <td>4</td>\n",
       "    </tr>\n",
       "    <tr>\n",
       "      <th>20</th>\n",
       "      <td>35</td>\n",
       "      <td>24</td>\n",
       "      <td>35</td>\n",
       "      <td>0</td>\n",
       "      <td>1</td>\n",
       "      <td>4</td>\n",
       "    </tr>\n",
       "    <tr>\n",
       "      <th>22</th>\n",
       "      <td>46</td>\n",
       "      <td>25</td>\n",
       "      <td>5</td>\n",
       "      <td>1</td>\n",
       "      <td>0</td>\n",
       "      <td>4</td>\n",
       "    </tr>\n",
       "    <tr>\n",
       "      <th>24</th>\n",
       "      <td>54</td>\n",
       "      <td>28</td>\n",
       "      <td>14</td>\n",
       "      <td>1</td>\n",
       "      <td>0</td>\n",
       "      <td>4</td>\n",
       "    </tr>\n",
       "    <tr>\n",
       "      <th>26</th>\n",
       "      <td>45</td>\n",
       "      <td>28</td>\n",
       "      <td>32</td>\n",
       "      <td>1</td>\n",
       "      <td>0</td>\n",
       "      <td>4</td>\n",
       "    </tr>\n",
       "    <tr>\n",
       "      <th>28</th>\n",
       "      <td>40</td>\n",
       "      <td>29</td>\n",
       "      <td>31</td>\n",
       "      <td>1</td>\n",
       "      <td>0</td>\n",
       "      <td>4</td>\n",
       "    </tr>\n",
       "    <tr>\n",
       "      <th>30</th>\n",
       "      <td>60</td>\n",
       "      <td>30</td>\n",
       "      <td>4</td>\n",
       "      <td>0</td>\n",
       "      <td>1</td>\n",
       "      <td>4</td>\n",
       "    </tr>\n",
       "    <tr>\n",
       "      <th>32</th>\n",
       "      <td>53</td>\n",
       "      <td>33</td>\n",
       "      <td>4</td>\n",
       "      <td>0</td>\n",
       "      <td>1</td>\n",
       "      <td>4</td>\n",
       "    </tr>\n",
       "    <tr>\n",
       "      <th>34</th>\n",
       "      <td>49</td>\n",
       "      <td>33</td>\n",
       "      <td>14</td>\n",
       "      <td>1</td>\n",
       "      <td>0</td>\n",
       "      <td>4</td>\n",
       "    </tr>\n",
       "    <tr>\n",
       "      <th>36</th>\n",
       "      <td>42</td>\n",
       "      <td>34</td>\n",
       "      <td>17</td>\n",
       "      <td>1</td>\n",
       "      <td>0</td>\n",
       "      <td>4</td>\n",
       "    </tr>\n",
       "    <tr>\n",
       "      <th>38</th>\n",
       "      <td>36</td>\n",
       "      <td>37</td>\n",
       "      <td>26</td>\n",
       "      <td>1</td>\n",
       "      <td>0</td>\n",
       "      <td>4</td>\n",
       "    </tr>\n",
       "    <tr>\n",
       "      <th>40</th>\n",
       "      <td>65</td>\n",
       "      <td>38</td>\n",
       "      <td>35</td>\n",
       "      <td>1</td>\n",
       "      <td>0</td>\n",
       "      <td>4</td>\n",
       "    </tr>\n",
       "    <tr>\n",
       "      <th>42</th>\n",
       "      <td>48</td>\n",
       "      <td>39</td>\n",
       "      <td>36</td>\n",
       "      <td>0</td>\n",
       "      <td>1</td>\n",
       "      <td>4</td>\n",
       "    </tr>\n",
       "    <tr>\n",
       "      <th>44</th>\n",
       "      <td>49</td>\n",
       "      <td>39</td>\n",
       "      <td>28</td>\n",
       "      <td>1</td>\n",
       "      <td>0</td>\n",
       "      <td>4</td>\n",
       "    </tr>\n",
       "  </tbody>\n",
       "</table>\n",
       "</div>"
      ],
      "text/plain": [
       "    Age  Annual Income (k$)  Spending Score (1-100)  Female  Male  label\n",
       "0    19                  15                      39       0     1      4\n",
       "2    20                  16                       6       1     0      4\n",
       "4    31                  17                      40       1     0      4\n",
       "6    35                  18                       6       1     0      4\n",
       "8    64                  19                       3       0     1      4\n",
       "10   67                  19                      14       0     1      4\n",
       "12   58                  20                      15       1     0      4\n",
       "14   37                  20                      13       0     1      4\n",
       "16   35                  21                      35       1     0      4\n",
       "18   52                  23                      29       0     1      4\n",
       "20   35                  24                      35       0     1      4\n",
       "22   46                  25                       5       1     0      4\n",
       "24   54                  28                      14       1     0      4\n",
       "26   45                  28                      32       1     0      4\n",
       "28   40                  29                      31       1     0      4\n",
       "30   60                  30                       4       0     1      4\n",
       "32   53                  33                       4       0     1      4\n",
       "34   49                  33                      14       1     0      4\n",
       "36   42                  34                      17       1     0      4\n",
       "38   36                  37                      26       1     0      4\n",
       "40   65                  38                      35       1     0      4\n",
       "42   48                  39                      36       0     1      4\n",
       "44   49                  39                      28       1     0      4"
      ]
     },
     "execution_count": 55,
     "metadata": {},
     "output_type": "execute_result"
    }
   ],
   "source": [
    "X[X['label'].eq(4)]"
   ]
  },
  {
   "cell_type": "code",
   "execution_count": 53,
   "metadata": {
    "colab": {
     "base_uri": "https://localhost:8080/",
     "height": 296
    },
    "executionInfo": {
     "elapsed": 639,
     "status": "ok",
     "timestamp": 1637326250530,
     "user": {
      "displayName": "Samuel Doan",
      "photoUrl": "https://lh3.googleusercontent.com/a-/AOh14GjbcdQ40FcyCSIyitBN2ptY3zHWA_09harKPYF2=s64",
      "userId": "04384888964432338542"
     },
     "user_tz": -420
    },
    "id": "SV4rag4APJKi",
    "outputId": "d7e4ce6b-d703-47ea-e5ed-c2e0cbf5de1d"
   },
   "outputs": [
    {
     "data": {
      "text/plain": [
       "<matplotlib.axes._subplots.AxesSubplot at 0x7f1b8915fad0>"
      ]
     },
     "execution_count": 53,
     "metadata": {},
     "output_type": "execute_result"
    },
    {
     "data": {
      "image/png": "[encoded data removed]",
      "text/plain": [
       "<Figure size 432x288 with 1 Axes>"
      ]
     },
     "metadata": {
      "needs_background": "light"
     },
     "output_type": "display_data"
    }
   ],
   "source": [
    "import seaborn as sns \n",
    "\n",
    "sns.histplot(data=X[X['label'].eq(0)], x='Age')"
   ]
  },
  {
   "cell_type": "code",
   "execution_count": 57,
   "metadata": {
    "colab": {
     "base_uri": "https://localhost:8080/",
     "height": 296
    },
    "executionInfo": {
     "elapsed": 551,
     "status": "ok",
     "timestamp": 1637326322475,
     "user": {
      "displayName": "Samuel Doan",
      "photoUrl": "https://lh3.googleusercontent.com/a-/AOh14GjbcdQ40FcyCSIyitBN2ptY3zHWA_09harKPYF2=s64",
      "userId": "04384888964432338542"
     },
     "user_tz": -420
    },
    "id": "0LTgaPtYPsn3",
    "outputId": "28af19fe-832a-49aa-cf53-e42a985db295"
   },
   "outputs": [
    {
     "data": {
      "text/plain": [
       "<matplotlib.axes._subplots.AxesSubplot at 0x7f1b88f9b810>"
      ]
     },
     "execution_count": 57,
     "metadata": {},
     "output_type": "execute_result"
    },
    {
     "data": {
      "image/png": "[encoded data removed]",
      "text/plain": [
       "<Figure size 432x288 with 1 Axes>"
      ]
     },
     "metadata": {
      "needs_background": "light"
     },
     "output_type": "display_data"
    }
   ],
   "source": [
    "sns.histplot(data=X[X['label'].eq(2)], x='Annual Income (k$)')"
   ]
  },
  {
   "cell_type": "code",
   "execution_count": null,
   "metadata": {
    "id": "9RppgZ5MPSSw"
   },
   "outputs": [],
   "source": []
  }
 ],
 "metadata": {
  "colab": {
   "name": "Lecture_05_4.Customers-Segmentation.ipynb",
   "provenance": []
  },
  "kernelspec": {
   "display_name": "Python 3 (ipykernel)",
   "language": "python",
   "name": "python3"
  },
  "language_info": {
   "codemirror_mode": {
    "name": "ipython",
    "version": 3
   },
   "file_extension": ".py",
   "mimetype": "text/x-python",
   "name": "python",
   "nbconvert_exporter": "python",
   "pygments_lexer": "ipython3",
   "version": "3.7.11"
  }
 },
 "nbformat": 4,
 "nbformat_minor": 4
}
