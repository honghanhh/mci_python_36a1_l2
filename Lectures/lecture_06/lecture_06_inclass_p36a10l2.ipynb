{
 "cells": [
  {
   "cell_type": "markdown",
   "id": "ff596547-4651-4c32-af4c-4b3f508cdf01",
   "metadata": {
    "id": "ff596547-4651-4c32-af4c-4b3f508cdf01"
   },
   "source": [
    "# Lecture 06"
   ]
  },
  {
   "cell_type": "code",
   "execution_count": 1,
   "id": "a9539f04-478d-42b2-b4b1-f9f25960df71",
   "metadata": {
    "executionInfo": {
     "elapsed": 916,
     "status": "ok",
     "timestamp": 1636122219314,
     "user": {
      "displayName": "Samuel Doan",
      "photoUrl": "https://lh3.googleusercontent.com/a-/AOh14GjbcdQ40FcyCSIyitBN2ptY3zHWA_09harKPYF2=s64",
      "userId": "04384888964432338542"
     },
     "user_tz": -420
    },
    "id": "a9539f04-478d-42b2-b4b1-f9f25960df71"
   },
   "outputs": [],
   "source": [
    "from sklearn.datasets import load_digits, load_iris, load_wine, load_boston, load_breast_cancer"
   ]
  },
  {
   "cell_type": "code",
   "execution_count": 2,
   "id": "yEGlwpHieqGQ",
   "metadata": {
    "colab": {
     "base_uri": "https://localhost:8080/",
     "height": 356
    },
    "executionInfo": {
     "elapsed": 13285,
     "status": "ok",
     "timestamp": 1636122192551,
     "user": {
      "displayName": "Samuel Doan",
      "photoUrl": "https://lh3.googleusercontent.com/a-/AOh14GjbcdQ40FcyCSIyitBN2ptY3zHWA_09harKPYF2=s64",
      "userId": "04384888964432338542"
     },
     "user_tz": -420
    },
    "id": "yEGlwpHieqGQ",
    "outputId": "618de366-abcd-4a0f-a123-038e1ab9edf4"
   },
   "outputs": [
    {
     "name": "stdout",
     "output_type": "stream",
     "text": [
      "Requirement already satisfied: scikit-learn==1.0.1 in c:\\users\\tram\\anaconda3\\envs\\tramng\\lib\\site-packages (1.0.1)\n",
      "Requirement already satisfied: threadpoolctl>=2.0.0 in c:\\users\\tram\\anaconda3\\envs\\tramng\\lib\\site-packages (from scikit-learn==1.0.1) (2.2.0)\n",
      "Requirement already satisfied: joblib>=0.11 in c:\\users\\tram\\anaconda3\\envs\\tramng\\lib\\site-packages (from scikit-learn==1.0.1) (1.0.1)\n",
      "Requirement already satisfied: scipy>=1.1.0 in c:\\users\\tram\\anaconda3\\envs\\tramng\\lib\\site-packages (from scikit-learn==1.0.1) (1.7.1)\n",
      "Requirement already satisfied: numpy>=1.14.6 in c:\\users\\tram\\anaconda3\\envs\\tramng\\lib\\site-packages (from scikit-learn==1.0.1) (1.21.2)\n"
     ]
    }
   ],
   "source": [
    "!pip install scikit-learn==1.0.1"
   ]
  },
  {
   "cell_type": "code",
   "execution_count": 3,
   "id": "15ec0fdb-20e6-461d-9c07-db1604732c90",
   "metadata": {
    "colab": {
     "base_uri": "https://localhost:8080/"
    },
    "executionInfo": {
     "elapsed": 31,
     "status": "ok",
     "timestamp": 1636122219317,
     "user": {
      "displayName": "Samuel Doan",
      "photoUrl": "https://lh3.googleusercontent.com/a-/AOh14GjbcdQ40FcyCSIyitBN2ptY3zHWA_09harKPYF2=s64",
      "userId": "04384888964432338542"
     },
     "user_tz": -420
    },
    "id": "15ec0fdb-20e6-461d-9c07-db1604732c90",
    "outputId": "2c960431-5fe3-4ab2-a391-7433ced3ee53"
   },
   "outputs": [
    {
     "data": {
      "text/plain": [
       "dict_keys(['data', 'target', 'frame', 'target_names', 'DESCR', 'feature_names'])"
      ]
     },
     "execution_count": 3,
     "metadata": {},
     "output_type": "execute_result"
    }
   ],
   "source": [
    "load_func = load_wine\n",
    "data = load_func(as_frame=True)\n",
    "data.keys()"
   ]
  },
  {
   "cell_type": "code",
   "execution_count": 4,
   "id": "f092b65b-dc36-4fd5-87ee-0bcce8945577",
   "metadata": {
    "id": "f092b65b-dc36-4fd5-87ee-0bcce8945577",
    "outputId": "e4455518-c00c-441e-af23-027563dd48b3"
   },
   "outputs": [
    {
     "name": "stdout",
     "output_type": "stream",
     "text": [
      ".. _wine_dataset:\n",
      "\n",
      "Wine recognition dataset\n",
      "------------------------\n",
      "\n",
      "**Data Set Characteristics:**\n",
      "\n",
      "    :Number of Instances: 178 (50 in each of three classes)\n",
      "    :Number of Attributes: 13 numeric, predictive attributes and the class\n",
      "    :Attribute Information:\n",
      " \t\t- Alcohol\n",
      " \t\t- Malic acid\n",
      " \t\t- Ash\n",
      "\t\t- Alcalinity of ash  \n",
      " \t\t- Magnesium\n",
      "\t\t- Total phenols\n",
      " \t\t- Flavanoids\n",
      " \t\t- Nonflavanoid phenols\n",
      " \t\t- Proanthocyanins\n",
      "\t\t- Color intensity\n",
      " \t\t- Hue\n",
      " \t\t- OD280/OD315 of diluted wines\n",
      " \t\t- Proline\n",
      "\n",
      "    - class:\n",
      "            - class_0\n",
      "            - class_1\n",
      "            - class_2\n",
      "\t\t\n",
      "    :Summary Statistics:\n",
      "    \n",
      "    ============================= ==== ===== ======= =====\n",
      "                                   Min   Max   Mean     SD\n",
      "    ============================= ==== ===== ======= =====\n",
      "    Alcohol:                      11.0  14.8    13.0   0.8\n",
      "    Malic Acid:                   0.74  5.80    2.34  1.12\n",
      "    Ash:                          1.36  3.23    2.36  0.27\n",
      "    Alcalinity of Ash:            10.6  30.0    19.5   3.3\n",
      "    Magnesium:                    70.0 162.0    99.7  14.3\n",
      "    Total Phenols:                0.98  3.88    2.29  0.63\n",
      "    Flavanoids:                   0.34  5.08    2.03  1.00\n",
      "    Nonflavanoid Phenols:         0.13  0.66    0.36  0.12\n",
      "    Proanthocyanins:              0.41  3.58    1.59  0.57\n",
      "    Colour Intensity:              1.3  13.0     5.1   2.3\n",
      "    Hue:                          0.48  1.71    0.96  0.23\n",
      "    OD280/OD315 of diluted wines: 1.27  4.00    2.61  0.71\n",
      "    Proline:                       278  1680     746   315\n",
      "    ============================= ==== ===== ======= =====\n",
      "\n",
      "    :Missing Attribute Values: None\n",
      "    :Class Distribution: class_0 (59), class_1 (71), class_2 (48)\n",
      "    :Creator: R.A. Fisher\n",
      "    :Donor: Michael Marshall (MARSHALL%PLU@io.arc.nasa.gov)\n",
      "    :Date: July, 1988\n",
      "\n",
      "This is a copy of UCI ML Wine recognition datasets.\n",
      "https://archive.ics.uci.edu/ml/machine-learning-databases/wine/wine.data\n",
      "\n",
      "The data is the results of a chemical analysis of wines grown in the same\n",
      "region in Italy by three different cultivators. There are thirteen different\n",
      "measurements taken for different constituents found in the three types of\n",
      "wine.\n",
      "\n",
      "Original Owners: \n",
      "\n",
      "Forina, M. et al, PARVUS - \n",
      "An Extendible Package for Data Exploration, Classification and Correlation. \n",
      "Institute of Pharmaceutical and Food Analysis and Technologies,\n",
      "Via Brigata Salerno, 16147 Genoa, Italy.\n",
      "\n",
      "Citation:\n",
      "\n",
      "Lichman, M. (2013). UCI Machine Learning Repository\n",
      "[https://archive.ics.uci.edu/ml]. Irvine, CA: University of California,\n",
      "School of Information and Computer Science. \n",
      "\n",
      ".. topic:: References\n",
      "\n",
      "  (1) S. Aeberhard, D. Coomans and O. de Vel, \n",
      "  Comparison of Classifiers in High Dimensional Settings, \n",
      "  Tech. Rep. no. 92-02, (1992), Dept. of Computer Science and Dept. of  \n",
      "  Mathematics and Statistics, James Cook University of North Queensland. \n",
      "  (Also submitted to Technometrics). \n",
      "\n",
      "  The data was used with many others for comparing various \n",
      "  classifiers. The classes are separable, though only RDA \n",
      "  has achieved 100% correct classification. \n",
      "  (RDA : 100%, QDA 99.4%, LDA 98.9%, 1NN 96.1% (z-transformed data)) \n",
      "  (All results using the leave-one-out technique) \n",
      "\n",
      "  (2) S. Aeberhard, D. Coomans and O. de Vel, \n",
      "  \"THE CLASSIFICATION PERFORMANCE OF RDA\" \n",
      "  Tech. Rep. no. 92-01, (1992), Dept. of Computer Science and Dept. of \n",
      "  Mathematics and Statistics, James Cook University of North Queensland. \n",
      "  (Also submitted to Journal of Chemometrics).\n",
      "\n"
     ]
    }
   ],
   "source": [
    "print(data['DESCR'])"
   ]
  },
  {
   "cell_type": "code",
   "execution_count": 5,
   "id": "5092a98c-34e2-4a82-9ef6-41157328f711",
   "metadata": {
    "colab": {
     "base_uri": "https://localhost:8080/",
     "height": 617
    },
    "executionInfo": {
     "elapsed": 448,
     "status": "ok",
     "timestamp": 1636122300136,
     "user": {
      "displayName": "Samuel Doan",
      "photoUrl": "https://lh3.googleusercontent.com/a-/AOh14GjbcdQ40FcyCSIyitBN2ptY3zHWA_09harKPYF2=s64",
      "userId": "04384888964432338542"
     },
     "user_tz": -420
    },
    "id": "5092a98c-34e2-4a82-9ef6-41157328f711",
    "outputId": "4a2e1314-f92c-45cb-8c7e-64f0968bc1b8"
   },
   "outputs": [
    {
     "name": "stdout",
     "output_type": "stream",
     "text": [
      "<class 'pandas.core.frame.DataFrame'>\n",
      "RangeIndex: 178 entries, 0 to 177\n",
      "Data columns (total 14 columns):\n",
      " #   Column                        Non-Null Count  Dtype  \n",
      "---  ------                        --------------  -----  \n",
      " 0   alcohol                       178 non-null    float64\n",
      " 1   malic_acid                    178 non-null    float64\n",
      " 2   ash                           178 non-null    float64\n",
      " 3   alcalinity_of_ash             178 non-null    float64\n",
      " 4   magnesium                     178 non-null    float64\n",
      " 5   total_phenols                 178 non-null    float64\n",
      " 6   flavanoids                    178 non-null    float64\n",
      " 7   nonflavanoid_phenols          178 non-null    float64\n",
      " 8   proanthocyanins               178 non-null    float64\n",
      " 9   color_intensity               178 non-null    float64\n",
      " 10  hue                           178 non-null    float64\n",
      " 11  od280/od315_of_diluted_wines  178 non-null    float64\n",
      " 12  proline                       178 non-null    float64\n",
      " 13  target                        178 non-null    int32  \n",
      "dtypes: float64(13), int32(1)\n",
      "memory usage: 18.9 KB\n"
     ]
    },
    {
     "data": {
      "text/plain": [
       "None"
      ]
     },
     "metadata": {},
     "output_type": "display_data"
    },
    {
     "data": {
      "text/html": [
       "<div>\n",
       "<style scoped>\n",
       "    .dataframe tbody tr th:only-of-type {\n",
       "        vertical-align: middle;\n",
       "    }\n",
       "\n",
       "    .dataframe tbody tr th {\n",
       "        vertical-align: top;\n",
       "    }\n",
       "\n",
       "    .dataframe thead th {\n",
       "        text-align: right;\n",
       "    }\n",
       "</style>\n",
       "<table border=\"1\" class=\"dataframe\">\n",
       "  <thead>\n",
       "    <tr style=\"text-align: right;\">\n",
       "      <th></th>\n",
       "      <th>alcohol</th>\n",
       "      <th>malic_acid</th>\n",
       "      <th>ash</th>\n",
       "      <th>alcalinity_of_ash</th>\n",
       "      <th>magnesium</th>\n",
       "      <th>total_phenols</th>\n",
       "      <th>flavanoids</th>\n",
       "      <th>nonflavanoid_phenols</th>\n",
       "      <th>proanthocyanins</th>\n",
       "      <th>color_intensity</th>\n",
       "      <th>hue</th>\n",
       "      <th>od280/od315_of_diluted_wines</th>\n",
       "      <th>proline</th>\n",
       "      <th>target</th>\n",
       "    </tr>\n",
       "  </thead>\n",
       "  <tbody>\n",
       "    <tr>\n",
       "      <th>0</th>\n",
       "      <td>14.23</td>\n",
       "      <td>1.71</td>\n",
       "      <td>2.43</td>\n",
       "      <td>15.6</td>\n",
       "      <td>127.0</td>\n",
       "      <td>2.80</td>\n",
       "      <td>3.06</td>\n",
       "      <td>0.28</td>\n",
       "      <td>2.29</td>\n",
       "      <td>5.64</td>\n",
       "      <td>1.04</td>\n",
       "      <td>3.92</td>\n",
       "      <td>1065.0</td>\n",
       "      <td>0</td>\n",
       "    </tr>\n",
       "    <tr>\n",
       "      <th>1</th>\n",
       "      <td>13.20</td>\n",
       "      <td>1.78</td>\n",
       "      <td>2.14</td>\n",
       "      <td>11.2</td>\n",
       "      <td>100.0</td>\n",
       "      <td>2.65</td>\n",
       "      <td>2.76</td>\n",
       "      <td>0.26</td>\n",
       "      <td>1.28</td>\n",
       "      <td>4.38</td>\n",
       "      <td>1.05</td>\n",
       "      <td>3.40</td>\n",
       "      <td>1050.0</td>\n",
       "      <td>0</td>\n",
       "    </tr>\n",
       "    <tr>\n",
       "      <th>2</th>\n",
       "      <td>13.16</td>\n",
       "      <td>2.36</td>\n",
       "      <td>2.67</td>\n",
       "      <td>18.6</td>\n",
       "      <td>101.0</td>\n",
       "      <td>2.80</td>\n",
       "      <td>3.24</td>\n",
       "      <td>0.30</td>\n",
       "      <td>2.81</td>\n",
       "      <td>5.68</td>\n",
       "      <td>1.03</td>\n",
       "      <td>3.17</td>\n",
       "      <td>1185.0</td>\n",
       "      <td>0</td>\n",
       "    </tr>\n",
       "    <tr>\n",
       "      <th>3</th>\n",
       "      <td>14.37</td>\n",
       "      <td>1.95</td>\n",
       "      <td>2.50</td>\n",
       "      <td>16.8</td>\n",
       "      <td>113.0</td>\n",
       "      <td>3.85</td>\n",
       "      <td>3.49</td>\n",
       "      <td>0.24</td>\n",
       "      <td>2.18</td>\n",
       "      <td>7.80</td>\n",
       "      <td>0.86</td>\n",
       "      <td>3.45</td>\n",
       "      <td>1480.0</td>\n",
       "      <td>0</td>\n",
       "    </tr>\n",
       "    <tr>\n",
       "      <th>4</th>\n",
       "      <td>13.24</td>\n",
       "      <td>2.59</td>\n",
       "      <td>2.87</td>\n",
       "      <td>21.0</td>\n",
       "      <td>118.0</td>\n",
       "      <td>2.80</td>\n",
       "      <td>2.69</td>\n",
       "      <td>0.39</td>\n",
       "      <td>1.82</td>\n",
       "      <td>4.32</td>\n",
       "      <td>1.04</td>\n",
       "      <td>2.93</td>\n",
       "      <td>735.0</td>\n",
       "      <td>0</td>\n",
       "    </tr>\n",
       "  </tbody>\n",
       "</table>\n",
       "</div>"
      ],
      "text/plain": [
       "   alcohol  malic_acid   ash  alcalinity_of_ash  magnesium  total_phenols  \\\n",
       "0    14.23        1.71  2.43               15.6      127.0           2.80   \n",
       "1    13.20        1.78  2.14               11.2      100.0           2.65   \n",
       "2    13.16        2.36  2.67               18.6      101.0           2.80   \n",
       "3    14.37        1.95  2.50               16.8      113.0           3.85   \n",
       "4    13.24        2.59  2.87               21.0      118.0           2.80   \n",
       "\n",
       "   flavanoids  nonflavanoid_phenols  proanthocyanins  color_intensity   hue  \\\n",
       "0        3.06                  0.28             2.29             5.64  1.04   \n",
       "1        2.76                  0.26             1.28             4.38  1.05   \n",
       "2        3.24                  0.30             2.81             5.68  1.03   \n",
       "3        3.49                  0.24             2.18             7.80  0.86   \n",
       "4        2.69                  0.39             1.82             4.32  1.04   \n",
       "\n",
       "   od280/od315_of_diluted_wines  proline  target  \n",
       "0                          3.92   1065.0       0  \n",
       "1                          3.40   1050.0       0  \n",
       "2                          3.17   1185.0       0  \n",
       "3                          3.45   1480.0       0  \n",
       "4                          2.93    735.0       0  "
      ]
     },
     "metadata": {},
     "output_type": "display_data"
    }
   ],
   "source": [
    "df = data['frame']\n",
    "display(df.info(), df.head())"
   ]
  },
  {
   "cell_type": "code",
   "execution_count": 6,
   "id": "58e3ad95-e8a5-4b88-8519-cddab0aa7065",
   "metadata": {
    "executionInfo": {
     "elapsed": 421,
     "status": "ok",
     "timestamp": 1636122307145,
     "user": {
      "displayName": "Samuel Doan",
      "photoUrl": "https://lh3.googleusercontent.com/a-/AOh14GjbcdQ40FcyCSIyitBN2ptY3zHWA_09harKPYF2=s64",
      "userId": "04384888964432338542"
     },
     "user_tz": -420
    },
    "id": "58e3ad95-e8a5-4b88-8519-cddab0aa7065"
   },
   "outputs": [],
   "source": [
    "import matplotlib.pyplot as plt\n",
    "import seaborn as sns\n",
    "%matplotlib inline"
   ]
  },
  {
   "cell_type": "code",
   "execution_count": 7,
   "id": "7aadc436-15b3-4ec0-9175-735d1d5e2ae3",
   "metadata": {
    "colab": {
     "base_uri": "https://localhost:8080/"
    },
    "executionInfo": {
     "elapsed": 19,
     "status": "ok",
     "timestamp": 1636122309679,
     "user": {
      "displayName": "Samuel Doan",
      "photoUrl": "https://lh3.googleusercontent.com/a-/AOh14GjbcdQ40FcyCSIyitBN2ptY3zHWA_09harKPYF2=s64",
      "userId": "04384888964432338542"
     },
     "user_tz": -420
    },
    "id": "7aadc436-15b3-4ec0-9175-735d1d5e2ae3",
    "outputId": "4ddfa516-2c08-4e17-8bd2-90d271e27989"
   },
   "outputs": [
    {
     "data": {
      "text/plain": [
       "1    71\n",
       "0    59\n",
       "2    48\n",
       "Name: target, dtype: int64"
      ]
     },
     "execution_count": 7,
     "metadata": {},
     "output_type": "execute_result"
    }
   ],
   "source": [
    "df['target'].value_counts(dropna=False)"
   ]
  },
  {
   "cell_type": "code",
   "execution_count": 8,
   "id": "3e447dfb-f2a3-43af-a109-d43bf79e8a29",
   "metadata": {
    "colab": {
     "base_uri": "https://localhost:8080/",
     "height": 297
    },
    "executionInfo": {
     "elapsed": 481,
     "status": "ok",
     "timestamp": 1636122320843,
     "user": {
      "displayName": "Samuel Doan",
      "photoUrl": "https://lh3.googleusercontent.com/a-/AOh14GjbcdQ40FcyCSIyitBN2ptY3zHWA_09harKPYF2=s64",
      "userId": "04384888964432338542"
     },
     "user_tz": -420
    },
    "id": "3e447dfb-f2a3-43af-a109-d43bf79e8a29",
    "outputId": "99ea4c95-1a51-4ed9-c838-c2a144ae31fb"
   },
   "outputs": [
    {
     "data": {
      "text/plain": [
       "<AxesSubplot:xlabel='target', ylabel='count'>"
      ]
     },
     "execution_count": 8,
     "metadata": {},
     "output_type": "execute_result"
    },
    {
     "data": {
      "image/png": "[encoded data removed]",
      "text/plain": [
       "<Figure size 432x288 with 1 Axes>"
      ]
     },
     "metadata": {
      "needs_background": "light"
     },
     "output_type": "display_data"
    }
   ],
   "source": [
    "sns.countplot(data=df, x='target')"
   ]
  },
  {
   "cell_type": "code",
   "execution_count": 9,
   "id": "86b48ab9-59b9-492a-a459-3830e738da66",
   "metadata": {
    "colab": {
     "base_uri": "https://localhost:8080/",
     "height": 715
    },
    "executionInfo": {
     "elapsed": 4698,
     "status": "ok",
     "timestamp": 1636122332804,
     "user": {
      "displayName": "Samuel Doan",
      "photoUrl": "https://lh3.googleusercontent.com/a-/AOh14GjbcdQ40FcyCSIyitBN2ptY3zHWA_09harKPYF2=s64",
      "userId": "04384888964432338542"
     },
     "user_tz": -420
    },
    "id": "86b48ab9-59b9-492a-a459-3830e738da66",
    "outputId": "9fd97e9a-2642-40d2-cf82-1178163780d9"
   },
   "outputs": [
    {
     "data": {
      "image/png": "[encoded data removed]",
      "text/plain": [
       "<Figure size 1440x864 with 12 Axes>"
      ]
     },
     "metadata": {
      "needs_background": "light"
     },
     "output_type": "display_data"
    }
   ],
   "source": [
    "fig, axs = plt.subplots(4, 3, figsize=(20, 12))\n",
    "\n",
    "for col_name, ax in zip(df.columns, axs.ravel()):\n",
    "    sns.histplot(data=df, x=col_name, kde=True, ax=ax)"
   ]
  },
  {
   "cell_type": "code",
   "execution_count": 10,
   "id": "03bcde95-e02d-4c7e-a27e-af2966f6d7c4",
   "metadata": {
    "executionInfo": {
     "elapsed": 955,
     "status": "ok",
     "timestamp": 1636122401227,
     "user": {
      "displayName": "Samuel Doan",
      "photoUrl": "https://lh3.googleusercontent.com/a-/AOh14GjbcdQ40FcyCSIyitBN2ptY3zHWA_09harKPYF2=s64",
      "userId": "04384888964432338542"
     },
     "user_tz": -420
    },
    "id": "03bcde95-e02d-4c7e-a27e-af2966f6d7c4"
   },
   "outputs": [],
   "source": [
    "import numpy as np\n",
    "import pandas as pd\n",
    "\n",
    "from sklearn.preprocessing import StandardScaler, MinMaxScaler, RobustScaler"
   ]
  },
  {
   "cell_type": "code",
   "execution_count": 11,
   "id": "ff62999d-ef17-4c84-a000-e63e616bd318",
   "metadata": {
    "executionInfo": {
     "elapsed": 1531,
     "status": "ok",
     "timestamp": 1636122414600,
     "user": {
      "displayName": "Samuel Doan",
      "photoUrl": "https://lh3.googleusercontent.com/a-/AOh14GjbcdQ40FcyCSIyitBN2ptY3zHWA_09harKPYF2=s64",
      "userId": "04384888964432338542"
     },
     "user_tz": -420
    },
    "id": "ff62999d-ef17-4c84-a000-e63e616bd318"
   },
   "outputs": [],
   "source": [
    "X, y = df.drop(columns='target'), df['target']\n",
    "y = y.gt(0).astype(int)"
   ]
  },
  {
   "cell_type": "code",
   "execution_count": 12,
   "id": "b03b6eb1-0d5c-436b-ac3a-3e629c547621",
   "metadata": {
    "id": "b03b6eb1-0d5c-436b-ac3a-3e629c547621",
    "outputId": "31c7a14f-010b-4b28-bd7f-35c8c04fc481"
   },
   "outputs": [
    {
     "data": {
      "image/png": "[encoded data removed]",
      "text/plain": [
       "<Figure size 1440x864 with 12 Axes>"
      ]
     },
     "metadata": {
      "needs_background": "light"
     },
     "output_type": "display_data"
    }
   ],
   "source": [
    "fig, axs = plt.subplots(4, 3, figsize=(20, 12))\n",
    "\n",
    "for col_name, ax in zip(X.columns, axs.ravel()):\n",
    "    sns.histplot(data=np.log1p(X), x=col_name, kde=True, ax=ax) # log1p np.log(x + 1) => tránh trường hợp x = 0 log -> inf\n",
    "    # lấy log: nôm na: giá trị ở rất xa (left skew) -> vào gần lại"
   ]
  },
  {
   "cell_type": "code",
   "execution_count": 13,
   "id": "Xp2S0Z3agUdL",
   "metadata": {
    "colab": {
     "base_uri": "https://localhost:8080/"
    },
    "executionInfo": {
     "elapsed": 21,
     "status": "ok",
     "timestamp": 1636122646115,
     "user": {
      "displayName": "Samuel Doan",
      "photoUrl": "https://lh3.googleusercontent.com/a-/AOh14GjbcdQ40FcyCSIyitBN2ptY3zHWA_09harKPYF2=s64",
      "userId": "04384888964432338542"
     },
     "user_tz": -420
    },
    "id": "Xp2S0Z3agUdL",
    "outputId": "061abf0b-a9ff-471f-8169-2550942d3c7d"
   },
   "outputs": [
    {
     "name": "stderr",
     "output_type": "stream",
     "text": [
      "c:\\users\\tram\\anaconda3\\envs\\tramng\\lib\\site-packages\\ipykernel_launcher.py:1: RuntimeWarning: invalid value encountered in log\n",
      "  \"\"\"Entry point for launching an IPython kernel.\n"
     ]
    },
    {
     "data": {
      "text/plain": [
       "-2.302585092994046"
      ]
     },
     "execution_count": 13,
     "metadata": {},
     "output_type": "execute_result"
    }
   ],
   "source": [
    "np.log(-10) # ~ np.log(10)*-1\n",
    "-1*np.log(10)"
   ]
  },
  {
   "cell_type": "code",
   "execution_count": 14,
   "id": "LBt32YlngpdX",
   "metadata": {
    "colab": {
     "base_uri": "https://localhost:8080/"
    },
    "executionInfo": {
     "elapsed": 22,
     "status": "ok",
     "timestamp": 1636122687201,
     "user": {
      "displayName": "Samuel Doan",
      "photoUrl": "https://lh3.googleusercontent.com/a-/AOh14GjbcdQ40FcyCSIyitBN2ptY3zHWA_09harKPYF2=s64",
      "userId": "04384888964432338542"
     },
     "user_tz": -420
    },
    "id": "LBt32YlngpdX",
    "outputId": "02e2402b-00ca-449c-c4e2-d2b9bd605602"
   },
   "outputs": [
    {
     "data": {
      "text/plain": [
       "0.10025884372280375"
      ]
     },
     "execution_count": 14,
     "metadata": {},
     "output_type": "execute_result"
    }
   ],
   "source": [
    "np.exp(-2.3)"
   ]
  },
  {
   "cell_type": "code",
   "execution_count": 15,
   "id": "b5M9iXFNhCHH",
   "metadata": {
    "executionInfo": {
     "elapsed": 14,
     "status": "ok",
     "timestamp": 1636122853546,
     "user": {
      "displayName": "Samuel Doan",
      "photoUrl": "https://lh3.googleusercontent.com/a-/AOh14GjbcdQ40FcyCSIyitBN2ptY3zHWA_09harKPYF2=s64",
      "userId": "04384888964432338542"
     },
     "user_tz": -420
    },
    "id": "b5M9iXFNhCHH"
   },
   "outputs": [],
   "source": [
    "def negative_log(x):\n",
    "    return np.sign(x)*np.log(np.abs(x))"
   ]
  },
  {
   "cell_type": "code",
   "execution_count": 16,
   "id": "SNH_zxIGhS7U",
   "metadata": {
    "colab": {
     "base_uri": "https://localhost:8080/"
    },
    "executionInfo": {
     "elapsed": 538,
     "status": "ok",
     "timestamp": 1636122864562,
     "user": {
      "displayName": "Samuel Doan",
      "photoUrl": "https://lh3.googleusercontent.com/a-/AOh14GjbcdQ40FcyCSIyitBN2ptY3zHWA_09harKPYF2=s64",
      "userId": "04384888964432338542"
     },
     "user_tz": -420
    },
    "id": "SNH_zxIGhS7U",
    "outputId": "d5ec499a-01de-4567-973a-d0e5cc5a720c"
   },
   "outputs": [
    {
     "data": {
      "text/plain": [
       "-4.605170185988092"
      ]
     },
     "execution_count": 16,
     "metadata": {},
     "output_type": "execute_result"
    }
   ],
   "source": [
    "negative_log(-100)"
   ]
  },
  {
   "cell_type": "code",
   "execution_count": 17,
   "id": "f1566ced-b34d-4e63-acd5-a7dd874d5236",
   "metadata": {
    "id": "f1566ced-b34d-4e63-acd5-a7dd874d5236",
    "outputId": "ba54a6ad-2254-4e08-ac86-b2e4097bb49b"
   },
   "outputs": [
    {
     "data": {
      "text/plain": [
       "array([[ 0.85917126, -0.12353814,  0.20060332, ...,  0.21603422,\n",
       "         0.75230999,  0.6770158 ],\n",
       "       [ 0.1131385 , -0.0668929 , -0.65882444, ...,  0.24423447,\n",
       "         0.43348995,  0.65605412],\n",
       "       [ 0.08308552,  0.35399903,  0.85858355, ...,  0.18769538,\n",
       "         0.28025486,  0.8348034 ],\n",
       "       ...,\n",
       "       [ 0.16552808,  1.35794038, -0.29394732, ..., -1.22117851,\n",
       "        -1.11231041,  0.31751803],\n",
       "       [ 0.09060671,  0.50106624,  0.0289121 , ..., -1.18502202,\n",
       "        -1.04618813,  0.3263384 ],\n",
       "       [ 0.78898803,  1.28089744,  1.0424012 , ..., -1.14909081,\n",
       "        -1.06805912, -0.27253479]])"
      ]
     },
     "execution_count": 17,
     "metadata": {},
     "output_type": "execute_result"
    }
   ],
   "source": [
    "scaler = RobustScaler()\n",
    "X_scaled = scaler.fit_transform(np.log1p(X))\n",
    "X_scaled"
   ]
  },
  {
   "cell_type": "code",
   "execution_count": 18,
   "id": "Aqxf2gSBh62W",
   "metadata": {
    "colab": {
     "base_uri": "https://localhost:8080/"
    },
    "executionInfo": {
     "elapsed": 408,
     "status": "ok",
     "timestamp": 1636123098411,
     "user": {
      "displayName": "Samuel Doan",
      "photoUrl": "https://lh3.googleusercontent.com/a-/AOh14GjbcdQ40FcyCSIyitBN2ptY3zHWA_09harKPYF2=s64",
      "userId": "04384888964432338542"
     },
     "user_tz": -420
    },
    "id": "Aqxf2gSBh62W",
    "outputId": "5218cfee-d768-4474-b870-4c8465ac5465"
   },
   "outputs": [
    {
     "data": {
      "text/plain": [
       "RobustScaler()"
      ]
     },
     "execution_count": 18,
     "metadata": {},
     "output_type": "execute_result"
    }
   ],
   "source": [
    "from sklearn.model_selection import train_test_split\n",
    "\n",
    "x_train, x_test, y_train, y_test = train_test_split(X, y, random_state=420)\n",
    "\n",
    "scaler = RobustScaler()\n",
    "scaler.fit(x_train) # Tính toán các thông số về phân phối dựa trên bộ dữ liệu train"
   ]
  },
  {
   "cell_type": "code",
   "execution_count": 19,
   "id": "vMIMo6RCiVMC",
   "metadata": {
    "colab": {
     "base_uri": "https://localhost:8080/"
    },
    "executionInfo": {
     "elapsed": 28,
     "status": "ok",
     "timestamp": 1636123118187,
     "user": {
      "displayName": "Samuel Doan",
      "photoUrl": "https://lh3.googleusercontent.com/a-/AOh14GjbcdQ40FcyCSIyitBN2ptY3zHWA_09harKPYF2=s64",
      "userId": "04384888964432338542"
     },
     "user_tz": -420
    },
    "id": "vMIMo6RCiVMC",
    "outputId": "718ea911-9126-4161-9b27-2d5cae6336a8"
   },
   "outputs": [
    {
     "data": {
      "text/plain": [
       "array([[ 0.136     ,  1.43356643, -0.11764706,  0.66666667, -0.63157895,\n",
       "        -0.56862745, -0.26347305,  1.35      ,  0.19178082,  0.05649718,\n",
       "        -0.33333333, -0.57480315, -0.32142857],\n",
       "       [-0.472     , -0.13986014, -0.44117647,  0.2       ,  0.31578947,\n",
       "        -1.10784314, -0.60479042,  0.15      , -0.02739726, -0.43785311,\n",
       "        -0.15      , -0.72440945,  0.52380952],\n",
       "       [ 0.504     , -0.00699301,  0.85294118, -0.11111111,  0.68421053,\n",
       "         0.11764706,  0.2994012 , -0.25      ,  0.08219178, -0.11299435,\n",
       "         0.38888889,  0.1023622 ,  1.05952381],\n",
       "       [ 0.544     , -0.05594406,  0.29411765,  0.22222222,  1.        ,\n",
       "         0.71568627,  0.4491018 , -0.7       ,  1.32876712,  0.46610169,\n",
       "         0.05555556,  0.22834646,  1.11904762],\n",
       "       [ 0.664     ,  0.03496503,  0.        , -0.64444444,  0.21052632,\n",
       "         0.37254902,  0.50898204, -0.35      ,  0.28767123, -0.2259887 ,\n",
       "         0.41666667,  0.99212598,  0.91666667],\n",
       "       [ 1.072     ,  1.52447552,  0.44117647, -1.4       ,  1.63157895,\n",
       "         0.75490196,  0.60479042, -0.7       ,  0.82191781,  0.14124294,\n",
       "        -0.19444444,  0.62204724,  0.26190476],\n",
       "       [-0.648     ,  0.24475524, -0.55882353,  0.33333333, -0.63157895,\n",
       "         0.3627451 ,  0.37125749,  0.15      , -0.17808219, -0.51977401,\n",
       "        -0.27777778,  0.42519685, -0.64761905],\n",
       "       [ 0.76      , -0.11188811,  0.70588235, -0.51111111, -0.15789474,\n",
       "         0.21568627,  0.5748503 , -0.6       ,  1.10958904,  0.28248588,\n",
       "         0.77777778,  0.49606299,  1.46428571],\n",
       "       [ 0.224     ,  0.38461538,  0.91176471, -0.2       ,  0.21052632,\n",
       "         0.55882353,  0.7245509 , -0.2       ,  1.82191781,  0.30508475,\n",
       "         0.19444444,  0.33858268,  1.27380952],\n",
       "       [-0.848     , -0.23776224, -1.08823529,  0.28888889, -0.57894737,\n",
       "        -0.24509804, -0.25748503, -0.2       ,  0.06849315, -0.74858757,\n",
       "        -0.02777778,  0.46456693, -0.36904762],\n",
       "       [-0.568     , -0.25174825,  0.5       , -0.11111111,  0.36842105,\n",
       "        -0.33333333, -0.16766467,  0.55      , -0.61643836, -0.46610169,\n",
       "         1.36111111, -0.4015748 , -0.70238095],\n",
       "       [ 0.224     ,  1.23076923, -0.61764706,  0.33333333,  0.26315789,\n",
       "        -0.71568627, -0.88622754,  0.45      , -0.24657534, -0.16949153,\n",
       "        -1.        , -0.83464567,  0.42857143],\n",
       "       [ 0.944     ,  0.23776224,  0.73529412, -0.42222222,  1.26315789,\n",
       "         0.3627451 ,  0.28742515, -0.15      , -0.31506849,  0.12711864,\n",
       "         0.27777778,  0.66141732,  1.53571429],\n",
       "       [-0.528     , -0.36363636, -1.23529412, -0.11111111, -0.26315789,\n",
       "         0.12745098,  0.00598802,  0.25      ,  0.82191781, -0.53672316,\n",
       "        -0.27777778,  0.22047244, -0.8047619 ],\n",
       "       [ 0.336     , -0.06293706, -0.64705882, -0.55555556, -0.15789474,\n",
       "         0.16666667,  0.09580838, -0.35      , -0.17808219, -0.18361582,\n",
       "         0.16666667,  0.02362205,  1.51190476],\n",
       "       [ 0.352     ,  1.        ,  0.05882353,  0.44444444, -0.26315789,\n",
       "        -0.29411765, -0.76047904,  0.55      , -0.31506849,  1.07909605,\n",
       "        -1.13888889, -0.88188976,  0.        ],\n",
       "       [-0.088     ,  1.13286713, -1.11764706, -0.77777778, -0.89473684,\n",
       "        -0.58823529, -0.46706587,  0.45      , -0.89041096, -0.33898305,\n",
       "        -0.72222222, -0.48818898, -0.66190476],\n",
       "       [ 0.784     , -0.20979021,  0.91176471,  1.22222222, -0.57894737,\n",
       "         0.70588235,  0.49700599, -0.65      ,  0.53424658, -0.34463277,\n",
       "         1.11111111,  0.33070866, -0.57142857],\n",
       "       [ 1.208     ,  0.04195804,  0.26470588, -1.08888889, -0.05263158,\n",
       "         0.26470588,  0.29341317, -0.2       ,  0.68493151,  0.18361582,\n",
       "         0.16666667,  0.66141732,  1.52380952],\n",
       "       [-0.832     ,  0.75524476, -0.38235294, -0.33333333,  0.78947368,\n",
       "        -0.5       , -0.4251497 ,  0.45      , -0.7260274 , -0.55084746,\n",
       "         0.        , -0.17322835, -0.35714286],\n",
       "       [-0.296     , -0.05594406, -1.11764706,  0.22222222, -0.63157895,\n",
       "        -0.02941176, -0.06586826, -0.1       ,  0.        , -0.46892655,\n",
       "         0.22222222,  0.65354331,  0.05238095],\n",
       "       [-0.808     ,  1.74825175,  0.08823529,  0.33333333, -0.78947368,\n",
       "         0.61764706,  0.5988024 , -0.65      ,  1.95890411, -0.50847458,\n",
       "        -0.58333333,  0.70866142, -0.64285714],\n",
       "       [ 0.8       ,  0.05594406,  0.67647059, -1.        ,  0.21052632,\n",
       "         1.        ,  0.91616766, -0.85      ,  0.30136986,  0.23446328,\n",
       "        -0.22222222,  0.64566929,  1.05952381],\n",
       "       [-0.144     ,  1.21678322,  0.        ,  0.44444444,  0.47368421,\n",
       "        -0.51960784, -0.49700599, -0.85      , -0.87671233,  0.11299435,\n",
       "        -0.5       , -1.14173228, -0.11904762],\n",
       "       [ 0.688     , -0.0979021 , -0.32352941, -0.68888889,  1.10526316,\n",
       "         0.3627451 ,  0.52095808, -0.65      ,  0.19178082,  0.35310734,\n",
       "        -0.11111111,  0.36220472,  0.97619048],\n",
       "       [-0.504     , -0.05594406, -0.70588235, -0.11111111, -0.89473684,\n",
       "        -0.56862745,  0.        ,  0.15      ,  0.20547945, -0.33898305,\n",
       "         0.11111111,  0.33858268, -0.33333333],\n",
       "       [-0.024     ,  1.02097902,  0.64705882,  0.55555556,  0.47368421,\n",
       "        -0.56862745, -0.85628743,  1.3       , -0.71232877,  0.27683616,\n",
       "        -0.25      , -0.49606299, -0.19047619],\n",
       "       [ 0.592     ,  2.1958042 , -0.02941176,  0.11111111, -0.26315789,\n",
       "        -0.2254902 , -0.73652695,  0.65      , -0.63013699, -0.05649718,\n",
       "        -0.13888889, -0.54330709, -0.23809524],\n",
       "       [ 0.136     ,  0.16783217,  2.52941176,  1.22222222,  1.42105263,\n",
       "         0.39215686,  0.38922156,  0.65      ,  0.60273973, -0.28813559,\n",
       "         0.47222222,  0.36220472,  0.42857143],\n",
       "       [ 0.712     ,  0.06293706,  0.94117647, -0.53333333,  0.94736842,\n",
       "         0.75490196,  0.45508982,  0.25      ,  0.2739726 ,  0.48022599,\n",
       "         0.47222222,  0.1496063 ,  1.72619048],\n",
       "       [ 0.608     ,  0.9020979 ,  0.58823529, -0.95555556,  1.        ,\n",
       "         0.46078431,  0.5988024 , -0.85      ,  0.24657534,  0.14124294,\n",
       "         0.        ,  0.48818898,  0.46428571],\n",
       "       [ 0.312     ,  1.72727273, -0.29411765,  0.11111111,  1.21052632,\n",
       "        -0.62745098, -0.80239521,  0.45      , -0.17808219,  1.5819209 ,\n",
       "        -1.02777778, -0.92913386,  0.44047619],\n",
       "       [ 0.496     ,  0.        ,  0.73529412,  0.11111111, -0.05263158,\n",
       "         0.29411765,  0.34730539, -0.3       ,  0.24657534, -0.30508475,\n",
       "         0.44444444,  0.8503937 ,  0.46428571],\n",
       "       [ 1.2       ,  1.24475524, -0.23529412, -0.77777778,  0.26315789,\n",
       "         1.        ,  0.68263473, -0.35      ,  0.97260274,  0.08474576,\n",
       "         0.22222222,  0.5511811 ,  0.98809524],\n",
       "       [-0.048     ,  1.09090909, -0.17647059,  0.        , -0.47368421,\n",
       "        -0.73529412, -0.82035928,  0.3       , -0.69863014,  1.59887006,\n",
       "        -0.66666667, -0.77952756,  0.08333333],\n",
       "       [ 0.992     , -0.23076923, -0.11764706, -0.6       , -0.10526316,\n",
       "        -0.02941176,  0.23952096, -0.4       ,  0.12328767,  0.11299435,\n",
       "         0.58333333,  0.06299213,  1.5       ],\n",
       "       [ 0.328     ,  0.11188811,  0.94117647, -0.6       ,  0.26315789,\n",
       "         0.75490196,  0.71856287, -0.15      ,  0.24657534,  0.39548023,\n",
       "         0.30555556,  0.07874016,  1.47619048],\n",
       "       [ 0.184     , -0.55944056, -1.94117647, -1.        , -1.        ,\n",
       "         0.73529412,  0.68862275, -0.4       ,  1.09589041,  0.19774011,\n",
       "         0.44444444,  0.34645669, -0.35238095],\n",
       "       [-0.432     ,  0.44755245,  0.29411765,  0.33333333,  0.05263158,\n",
       "         0.32352941,  0.04790419,  0.        , -0.23287671, -0.50847458,\n",
       "        -0.44444444,  0.50393701, -0.5047619 ],\n",
       "       [ 0.944     , -0.12587413, -0.23529412, -0.77777778,  1.52631579,\n",
       "         0.75490196,  0.68263473, -0.5       ,  0.84931507,  0.29661017,\n",
       "         0.36111111,  0.76377953,  0.30952381],\n",
       "       [ 0.232     ,  2.36363636, -0.11764706,  0.55555556, -0.21052632,\n",
       "        -0.48039216, -0.83832335,  1.35      ,  0.09589041,  0.93220339,\n",
       "        -1.        , -0.99212598,  0.17857143],\n",
       "       [-0.896     ,  0.60839161,  1.64705882,  0.11111111,  0.31578947,\n",
       "        -0.47058824,  0.        ,  1.3       , -0.5890411 , -0.2259887 ,\n",
       "         0.75      , -0.18897638, -0.10238095],\n",
       "       [ 0.696     , -0.05594406,  0.14705882, -0.77777778, -0.42105263,\n",
       "         0.3627451 ,  0.43712575, -0.25      ,  0.45205479,  0.28248588,\n",
       "         0.52777778,  0.12598425,  1.5952381 ],\n",
       "       [ 0.16      ,  1.46153846,  0.        ,  0.44444444,  0.84210526,\n",
       "        -0.80392157, -0.38323353,  0.        , -0.46575342,  1.3559322 ,\n",
       "        -1.08333333, -1.11023622, -0.23809524],\n",
       "       [ 0.848     , -0.05594406, -0.26470588, -0.46666667,  0.57894737,\n",
       "         0.6372549 ,  0.90419162, -0.1       ,  0.82191781,  1.21468927,\n",
       "         0.44444444,  0.28346457,  1.45238095]])"
      ]
     },
     "execution_count": 19,
     "metadata": {},
     "output_type": "execute_result"
    }
   ],
   "source": [
    "scaler.transform(x_test) # Scale dữ liệu test dựa trên phân phối của bộ dữ liệu train\n",
    "# Cho kết quả tương đối khác với fit_transform đặc biệt trong trường hợp dữ liệu split ko đều theo phân phối"
   ]
  },
  {
   "cell_type": "code",
   "execution_count": 20,
   "id": "d4a01a70-0e57-4947-a2ce-5d2c7cef82da",
   "metadata": {
    "id": "d4a01a70-0e57-4947-a2ce-5d2c7cef82da",
    "outputId": "4a55979d-85d9-42b4-d197-6224aed131bd"
   },
   "outputs": [
    {
     "data": {
      "text/html": [
       "<div>\n",
       "<style scoped>\n",
       "    .dataframe tbody tr th:only-of-type {\n",
       "        vertical-align: middle;\n",
       "    }\n",
       "\n",
       "    .dataframe tbody tr th {\n",
       "        vertical-align: top;\n",
       "    }\n",
       "\n",
       "    .dataframe thead th {\n",
       "        text-align: right;\n",
       "    }\n",
       "</style>\n",
       "<table border=\"1\" class=\"dataframe\">\n",
       "  <thead>\n",
       "    <tr style=\"text-align: right;\">\n",
       "      <th></th>\n",
       "      <th>alcohol</th>\n",
       "      <th>malic_acid</th>\n",
       "      <th>ash</th>\n",
       "      <th>alcalinity_of_ash</th>\n",
       "      <th>magnesium</th>\n",
       "      <th>total_phenols</th>\n",
       "      <th>flavanoids</th>\n",
       "      <th>nonflavanoid_phenols</th>\n",
       "      <th>proanthocyanins</th>\n",
       "      <th>color_intensity</th>\n",
       "      <th>hue</th>\n",
       "      <th>od280/od315_of_diluted_wines</th>\n",
       "      <th>proline</th>\n",
       "    </tr>\n",
       "  </thead>\n",
       "  <tbody>\n",
       "    <tr>\n",
       "      <th>0</th>\n",
       "      <td>0.859171</td>\n",
       "      <td>-0.123538</td>\n",
       "      <td>0.200603</td>\n",
       "      <td>-0.994948</td>\n",
       "      <td>1.327738</td>\n",
       "      <td>0.381901</td>\n",
       "      <td>0.458575</td>\n",
       "      <td>-0.369778</td>\n",
       "      <td>0.933410</td>\n",
       "      <td>0.289007</td>\n",
       "      <td>0.216034</td>\n",
       "      <td>0.752310</td>\n",
       "      <td>0.677016</td>\n",
       "    </tr>\n",
       "    <tr>\n",
       "      <th>1</th>\n",
       "      <td>0.113138</td>\n",
       "      <td>-0.066893</td>\n",
       "      <td>-0.658824</td>\n",
       "      <td>-2.446979</td>\n",
       "      <td>0.103365</td>\n",
       "      <td>0.258412</td>\n",
       "      <td>0.322426</td>\n",
       "      <td>-0.496899</td>\n",
       "      <td>-0.420396</td>\n",
       "      <td>-0.104857</td>\n",
       "      <td>0.244234</td>\n",
       "      <td>0.433490</td>\n",
       "      <td>0.656054</td>\n",
       "    </tr>\n",
       "    <tr>\n",
       "      <th>2</th>\n",
       "      <td>0.083086</td>\n",
       "      <td>0.353999</td>\n",
       "      <td>0.858584</td>\n",
       "      <td>-0.211677</td>\n",
       "      <td>0.154283</td>\n",
       "      <td>0.381901</td>\n",
       "      <td>0.535514</td>\n",
       "      <td>-0.244627</td>\n",
       "      <td>1.475141</td>\n",
       "      <td>0.300249</td>\n",
       "      <td>0.187695</td>\n",
       "      <td>0.280255</td>\n",
       "      <td>0.834803</td>\n",
       "    </tr>\n",
       "    <tr>\n",
       "      <th>3</th>\n",
       "      <td>0.956657</td>\n",
       "      <td>0.064944</td>\n",
       "      <td>0.397154</td>\n",
       "      <td>-0.665868</td>\n",
       "      <td>0.729108</td>\n",
       "      <td>1.129995</td>\n",
       "      <td>0.637123</td>\n",
       "      <td>-0.626055</td>\n",
       "      <td>0.807867</td>\n",
       "      <td>0.816171</td>\n",
       "      <td>-0.316677</td>\n",
       "      <td>0.465741</td>\n",
       "      <td>1.163374</td>\n",
       "    </tr>\n",
       "    <tr>\n",
       "      <th>4</th>\n",
       "      <td>0.143107</td>\n",
       "      <td>0.501066</td>\n",
       "      <td>1.374828</td>\n",
       "      <td>0.332955</td>\n",
       "      <td>0.950948</td>\n",
       "      <td>0.381901</td>\n",
       "      <td>0.289095</td>\n",
       "      <td>0.295713</td>\n",
       "      <td>0.364325</td>\n",
       "      <td>-0.125849</td>\n",
       "      <td>0.216034</td>\n",
       "      <td>0.111070</td>\n",
       "      <td>0.129074</td>\n",
       "    </tr>\n",
       "    <tr>\n",
       "      <th>...</th>\n",
       "      <td>...</td>\n",
       "      <td>...</td>\n",
       "      <td>...</td>\n",
       "      <td>...</td>\n",
       "      <td>...</td>\n",
       "      <td>...</td>\n",
       "      <td>...</td>\n",
       "      <td>...</td>\n",
       "      <td>...</td>\n",
       "      <td>...</td>\n",
       "      <td>...</td>\n",
       "      <td>...</td>\n",
       "      <td>...</td>\n",
       "    </tr>\n",
       "    <tr>\n",
       "      <th>173</th>\n",
       "      <td>0.489063</td>\n",
       "      <td>1.870347</td>\n",
       "      <td>0.257167</td>\n",
       "      <td>0.224561</td>\n",
       "      <td>-0.159031</td>\n",
       "      <td>-0.688781</td>\n",
       "      <td>-1.181919</td>\n",
       "      <td>1.017409</td>\n",
       "      <td>-0.794995</td>\n",
       "      <td>0.794779</td>\n",
       "      <td>-1.042621</td>\n",
       "      <td>-0.918369</td>\n",
       "      <td>0.139089</td>\n",
       "    </tr>\n",
       "    <tr>\n",
       "      <th>174</th>\n",
       "      <td>0.262145</td>\n",
       "      <td>1.196567</td>\n",
       "      <td>0.341401</td>\n",
       "      <td>0.743204</td>\n",
       "      <td>0.204704</td>\n",
       "      <td>-0.554472</td>\n",
       "      <td>-1.034033</td>\n",
       "      <td>0.524723</td>\n",
       "      <td>-0.215685</td>\n",
       "      <td>0.706680</td>\n",
       "      <td>-0.835403</td>\n",
       "      <td>-1.112310</td>\n",
       "      <td>0.158917</td>\n",
       "    </tr>\n",
       "    <tr>\n",
       "      <th>175</th>\n",
       "      <td>0.165528</td>\n",
       "      <td>1.357940</td>\n",
       "      <td>-0.293947</td>\n",
       "      <td>0.113617</td>\n",
       "      <td>1.037085</td>\n",
       "      <td>-0.793521</td>\n",
       "      <td>-1.095910</td>\n",
       "      <td>0.524723</td>\n",
       "      <td>-0.308759</td>\n",
       "      <td>1.267571</td>\n",
       "      <td>-1.221179</td>\n",
       "      <td>-1.112310</td>\n",
       "      <td>0.317518</td>\n",
       "    </tr>\n",
       "    <tr>\n",
       "      <th>176</th>\n",
       "      <td>0.090607</td>\n",
       "      <td>0.501066</td>\n",
       "      <td>0.028912</td>\n",
       "      <td>0.113617</td>\n",
       "      <td>1.037085</td>\n",
       "      <td>-0.723298</td>\n",
       "      <td>-1.106435</td>\n",
       "      <td>1.070341</td>\n",
       "      <td>-0.139876</td>\n",
       "      <td>1.110773</td>\n",
       "      <td>-1.185022</td>\n",
       "      <td>-1.046188</td>\n",
       "      <td>0.326338</td>\n",
       "    </tr>\n",
       "    <tr>\n",
       "      <th>177</th>\n",
       "      <td>0.788988</td>\n",
       "      <td>1.280897</td>\n",
       "      <td>1.042401</td>\n",
       "      <td>1.029043</td>\n",
       "      <td>-0.105475</td>\n",
       "      <td>-0.292240</td>\n",
       "      <td>-1.023927</td>\n",
       "      <td>1.227085</td>\n",
       "      <td>-0.308759</td>\n",
       "      <td>1.092512</td>\n",
       "      <td>-1.149091</td>\n",
       "      <td>-1.068059</td>\n",
       "      <td>-0.272535</td>\n",
       "    </tr>\n",
       "  </tbody>\n",
       "</table>\n",
       "<p>178 rows × 13 columns</p>\n",
       "</div>"
      ],
      "text/plain": [
       "      alcohol  malic_acid       ash  alcalinity_of_ash  magnesium  \\\n",
       "0    0.859171   -0.123538  0.200603          -0.994948   1.327738   \n",
       "1    0.113138   -0.066893 -0.658824          -2.446979   0.103365   \n",
       "2    0.083086    0.353999  0.858584          -0.211677   0.154283   \n",
       "3    0.956657    0.064944  0.397154          -0.665868   0.729108   \n",
       "4    0.143107    0.501066  1.374828           0.332955   0.950948   \n",
       "..        ...         ...       ...                ...        ...   \n",
       "173  0.489063    1.870347  0.257167           0.224561  -0.159031   \n",
       "174  0.262145    1.196567  0.341401           0.743204   0.204704   \n",
       "175  0.165528    1.357940 -0.293947           0.113617   1.037085   \n",
       "176  0.090607    0.501066  0.028912           0.113617   1.037085   \n",
       "177  0.788988    1.280897  1.042401           1.029043  -0.105475   \n",
       "\n",
       "     total_phenols  flavanoids  nonflavanoid_phenols  proanthocyanins  \\\n",
       "0         0.381901    0.458575             -0.369778         0.933410   \n",
       "1         0.258412    0.322426             -0.496899        -0.420396   \n",
       "2         0.381901    0.535514             -0.244627         1.475141   \n",
       "3         1.129995    0.637123             -0.626055         0.807867   \n",
       "4         0.381901    0.289095              0.295713         0.364325   \n",
       "..             ...         ...                   ...              ...   \n",
       "173      -0.688781   -1.181919              1.017409        -0.794995   \n",
       "174      -0.554472   -1.034033              0.524723        -0.215685   \n",
       "175      -0.793521   -1.095910              0.524723        -0.308759   \n",
       "176      -0.723298   -1.106435              1.070341        -0.139876   \n",
       "177      -0.292240   -1.023927              1.227085        -0.308759   \n",
       "\n",
       "     color_intensity       hue  od280/od315_of_diluted_wines   proline  \n",
       "0           0.289007  0.216034                      0.752310  0.677016  \n",
       "1          -0.104857  0.244234                      0.433490  0.656054  \n",
       "2           0.300249  0.187695                      0.280255  0.834803  \n",
       "3           0.816171 -0.316677                      0.465741  1.163374  \n",
       "4          -0.125849  0.216034                      0.111070  0.129074  \n",
       "..               ...       ...                           ...       ...  \n",
       "173         0.794779 -1.042621                     -0.918369  0.139089  \n",
       "174         0.706680 -0.835403                     -1.112310  0.158917  \n",
       "175         1.267571 -1.221179                     -1.112310  0.317518  \n",
       "176         1.110773 -1.185022                     -1.046188  0.326338  \n",
       "177         1.092512 -1.149091                     -1.068059 -0.272535  \n",
       "\n",
       "[178 rows x 13 columns]"
      ]
     },
     "execution_count": 20,
     "metadata": {},
     "output_type": "execute_result"
    }
   ],
   "source": [
    "X_scaled = pd.DataFrame(X_scaled, columns=X.columns, index=X.index)\n",
    "X_scaled"
   ]
  },
  {
   "cell_type": "code",
   "execution_count": 21,
   "id": "8eb6164f-50e8-402b-bfa6-7108a9a5550e",
   "metadata": {
    "id": "8eb6164f-50e8-402b-bfa6-7108a9a5550e",
    "outputId": "f4b7401b-bb4b-4b51-ae20-7fedeadd646e"
   },
   "outputs": [
    {
     "data": {
      "image/png": "[encoded data removed]",
      "text/plain": [
       "<Figure size 1440x864 with 12 Axes>"
      ]
     },
     "metadata": {
      "needs_background": "light"
     },
     "output_type": "display_data"
    }
   ],
   "source": [
    "fig, axs = plt.subplots(4, 3, figsize=(20, 12))\n",
    "\n",
    "for col_name, ax in zip(X_scaled.columns, axs.ravel()):\n",
    "    sns.histplot(data=X_scaled, x=col_name, kde=True, ax=ax)"
   ]
  },
  {
   "cell_type": "code",
   "execution_count": 22,
   "id": "55cfb8fd-21c8-4ff6-943b-18175824f228",
   "metadata": {
    "id": "55cfb8fd-21c8-4ff6-943b-18175824f228",
    "outputId": "19819379-b111-4044-8fa6-dce31ed0d99e"
   },
   "outputs": [
    {
     "data": {
      "text/plain": [
       "<AxesSubplot:xlabel='alcohol', ylabel='malic_acid'>"
      ]
     },
     "execution_count": 22,
     "metadata": {},
     "output_type": "execute_result"
    },
    {
     "data": {
      "image/png": "[encoded data removed]",
      "text/plain": [
       "<Figure size 432x288 with 1 Axes>"
      ]
     },
     "metadata": {
      "needs_background": "light"
     },
     "output_type": "display_data"
    }
   ],
   "source": [
    "sns.scatterplot(data=X_scaled, x='alcohol', y='malic_acid', hue=y, palette='tab10')"
   ]
  },
  {
   "cell_type": "markdown",
   "id": "ade1d92b-a4d7-4cd6-a898-b8369097c4f9",
   "metadata": {
    "id": "ade1d92b-a4d7-4cd6-a898-b8369097c4f9"
   },
   "source": [
    "![](https://scikit-learn.org/stable/_images/grid_search_workflow.png)"
   ]
  },
  {
   "cell_type": "code",
   "execution_count": 23,
   "id": "8e52084c-35fa-40fe-bac7-c1d596a41835",
   "metadata": {
    "id": "8e52084c-35fa-40fe-bac7-c1d596a41835"
   },
   "outputs": [],
   "source": [
    "from sklearn.model_selection import train_test_split, KFold"
   ]
  },
  {
   "cell_type": "code",
   "execution_count": 24,
   "id": "dcd63d7a-28e4-4cf5-a74d-6ece6cf52ac6",
   "metadata": {
    "id": "dcd63d7a-28e4-4cf5-a74d-6ece6cf52ac6",
    "outputId": "55d55424-6482-444e-8578-255f4cc51d2f"
   },
   "outputs": [
    {
     "data": {
      "text/plain": [
       "(124, 13)"
      ]
     },
     "metadata": {},
     "output_type": "display_data"
    },
    {
     "data": {
      "text/plain": [
       "(54, 13)"
      ]
     },
     "metadata": {},
     "output_type": "display_data"
    },
    {
     "data": {
      "text/plain": [
       "(124,)"
      ]
     },
     "metadata": {},
     "output_type": "display_data"
    },
    {
     "data": {
      "text/plain": [
       "(54,)"
      ]
     },
     "metadata": {},
     "output_type": "display_data"
    }
   ],
   "source": [
    "x_train, x_test, y_train, y_test = train_test_split(X_scaled, y, train_size=0.7)\n",
    "display(x_train.shape, x_test.shape, y_train.shape, y_test.shape)"
   ]
  },
  {
   "cell_type": "code",
   "execution_count": 25,
   "id": "b9090e14-6b3a-45dc-9dd9-d6e655102f35",
   "metadata": {
    "id": "b9090e14-6b3a-45dc-9dd9-d6e655102f35",
    "outputId": "80075e90-2741-4954-ab36-315bc045c8bf"
   },
   "outputs": [
    {
     "name": "stdout",
     "output_type": "stream",
     "text": [
      "              precision    recall  f1-score   support\n",
      "\n",
      "           0       1.00      0.93      0.97        15\n",
      "           1       0.97      1.00      0.99        39\n",
      "\n",
      "    accuracy                           0.98        54\n",
      "   macro avg       0.99      0.97      0.98        54\n",
      "weighted avg       0.98      0.98      0.98        54\n",
      "\n"
     ]
    }
   ],
   "source": [
    "from sklearn.tree import DecisionTreeClassifier\n",
    "from sklearn import metrics\n",
    "\n",
    "tree = DecisionTreeClassifier()\n",
    "tree.fit(x_train, y_train)\n",
    "\n",
    "y_pred = tree.predict(x_test)\n",
    "print(metrics.classification_report(y_test, y_pred))"
   ]
  },
  {
   "cell_type": "code",
   "execution_count": 26,
   "id": "8485b869-9bbf-421e-ac9a-118f68da0a22",
   "metadata": {
    "id": "8485b869-9bbf-421e-ac9a-118f68da0a22",
    "outputId": "cb56d2f2-98b0-49fe-d8db-b12b933e40eb"
   },
   "outputs": [
    {
     "data": {
      "image/png": "[encoded data removed]",
      "text/plain": [
       "<Figure size 1440x504 with 1 Axes>"
      ]
     },
     "metadata": {
      "needs_background": "light"
     },
     "output_type": "display_data"
    }
   ],
   "source": [
    "from sklearn.tree import plot_tree\n",
    "\n",
    "fig = plt.figure(figsize=(20, 7))\n",
    "ax = plt.subplot()\n",
    "_ = plot_tree(tree, max_depth=3, feature_names=X.columns, ax=ax, filled=True, rounded=True)"
   ]
  },
  {
   "cell_type": "markdown",
   "id": "f563aad2-1ab5-49d4-9071-bd80329b1bd8",
   "metadata": {
    "id": "f563aad2-1ab5-49d4-9071-bd80329b1bd8"
   },
   "source": [
    "![](https://scikit-learn.org/stable/_images/grid_search_cross_validation.png)"
   ]
  },
  {
   "cell_type": "code",
   "execution_count": 27,
   "id": "f69844f4-bb55-4cfa-972e-8dc74d5fb093",
   "metadata": {
    "id": "f69844f4-bb55-4cfa-972e-8dc74d5fb093"
   },
   "outputs": [],
   "source": [
    "from sklearn.model_selection import cross_validate, cross_val_score"
   ]
  },
  {
   "cell_type": "code",
   "execution_count": 28,
   "id": "7180cbc9-16aa-44b4-b323-e0785cdc1c0c",
   "metadata": {
    "id": "7180cbc9-16aa-44b4-b323-e0785cdc1c0c"
   },
   "outputs": [],
   "source": [
    "cv = KFold()\n",
    "\n",
    "tree = DecisionTreeClassifier()\n",
    "tree_scores = cross_val_score(tree, X_scaled, y, cv=cv, n_jobs=2)"
   ]
  },
  {
   "cell_type": "code",
   "execution_count": 29,
   "id": "fe3da1a9-a777-43b3-af05-2e85e5153540",
   "metadata": {
    "id": "fe3da1a9-a777-43b3-af05-2e85e5153540",
    "outputId": "b4a855d4-8a9c-432c-f0f3-0b19b73c2d3e"
   },
   "outputs": [
    {
     "data": {
      "text/plain": [
       "array([0.80555556, 0.97222222, 0.91666667, 0.94285714, 0.97142857])"
      ]
     },
     "execution_count": 29,
     "metadata": {},
     "output_type": "execute_result"
    }
   ],
   "source": [
    "tree_scores"
   ]
  },
  {
   "cell_type": "code",
   "execution_count": 30,
   "id": "514ae835-c7c2-4126-8b8b-23df323f0a3e",
   "metadata": {
    "id": "514ae835-c7c2-4126-8b8b-23df323f0a3e",
    "outputId": "5cde26db-f1a1-42d1-9d09-d8681bb1cf09"
   },
   "outputs": [
    {
     "name": "stdout",
     "output_type": "stream",
     "text": [
      "92.17 accuracy with a standard deviation of 6.16\n"
     ]
    }
   ],
   "source": [
    "print(f'{tree_scores.mean()*100:.2f} accuracy with a standard deviation of {tree_scores.std()*100:.2f}')"
   ]
  },
  {
   "cell_type": "code",
   "execution_count": 31,
   "id": "18a03575-847b-4ef0-ae31-b0c73a084635",
   "metadata": {
    "id": "18a03575-847b-4ef0-ae31-b0c73a084635"
   },
   "outputs": [],
   "source": [
    "cv = KFold()\n",
    "\n",
    "tree = DecisionTreeClassifier()\n",
    "scoring = ['accuracy', 'precision', 'recall', 'f1']\n",
    "tree_scores = cross_validate(tree, X_scaled, y, cv=cv, n_jobs=2, scoring=scoring)"
   ]
  },
  {
   "cell_type": "code",
   "execution_count": 32,
   "id": "2f145bc0-9cdd-4c18-a378-70f36edcf55c",
   "metadata": {
    "id": "2f145bc0-9cdd-4c18-a378-70f36edcf55c",
    "outputId": "3da73aec-963a-4f21-8a42-20c084d197f8"
   },
   "outputs": [
    {
     "data": {
      "text/plain": [
       "dict_keys(['fit_time', 'score_time', 'test_accuracy', 'test_precision', 'test_recall', 'test_f1'])"
      ]
     },
     "execution_count": 32,
     "metadata": {},
     "output_type": "execute_result"
    }
   ],
   "source": [
    "tree_scores.keys()"
   ]
  },
  {
   "cell_type": "code",
   "execution_count": 33,
   "id": "fe2be992-88b0-4814-9c6e-a13ba7cc7d52",
   "metadata": {
    "id": "fe2be992-88b0-4814-9c6e-a13ba7cc7d52",
    "outputId": "4af7a534-3774-4eb5-ec61-bd9b8854b634"
   },
   "outputs": [
    {
     "data": {
      "text/html": [
       "<div>\n",
       "<style scoped>\n",
       "    .dataframe tbody tr th:only-of-type {\n",
       "        vertical-align: middle;\n",
       "    }\n",
       "\n",
       "    .dataframe tbody tr th {\n",
       "        vertical-align: top;\n",
       "    }\n",
       "\n",
       "    .dataframe thead th {\n",
       "        text-align: right;\n",
       "    }\n",
       "</style>\n",
       "<table border=\"1\" class=\"dataframe\">\n",
       "  <thead>\n",
       "    <tr style=\"text-align: right;\">\n",
       "      <th></th>\n",
       "      <th>fit_time</th>\n",
       "      <th>score_time</th>\n",
       "      <th>test_accuracy</th>\n",
       "      <th>test_precision</th>\n",
       "      <th>test_recall</th>\n",
       "      <th>test_f1</th>\n",
       "    </tr>\n",
       "  </thead>\n",
       "  <tbody>\n",
       "    <tr>\n",
       "      <th>0</th>\n",
       "      <td>0.004997</td>\n",
       "      <td>0.015990</td>\n",
       "      <td>0.833333</td>\n",
       "      <td>0.000000</td>\n",
       "      <td>0.000000</td>\n",
       "      <td>0.000000</td>\n",
       "    </tr>\n",
       "    <tr>\n",
       "      <th>1</th>\n",
       "      <td>0.004997</td>\n",
       "      <td>0.009995</td>\n",
       "      <td>0.972222</td>\n",
       "      <td>0.928571</td>\n",
       "      <td>1.000000</td>\n",
       "      <td>0.962963</td>\n",
       "    </tr>\n",
       "    <tr>\n",
       "      <th>2</th>\n",
       "      <td>0.004996</td>\n",
       "      <td>0.008995</td>\n",
       "      <td>0.916667</td>\n",
       "      <td>1.000000</td>\n",
       "      <td>0.916667</td>\n",
       "      <td>0.956522</td>\n",
       "    </tr>\n",
       "    <tr>\n",
       "      <th>3</th>\n",
       "      <td>0.004997</td>\n",
       "      <td>0.009993</td>\n",
       "      <td>0.942857</td>\n",
       "      <td>1.000000</td>\n",
       "      <td>0.942857</td>\n",
       "      <td>0.970588</td>\n",
       "    </tr>\n",
       "    <tr>\n",
       "      <th>4</th>\n",
       "      <td>0.003997</td>\n",
       "      <td>0.005996</td>\n",
       "      <td>0.971429</td>\n",
       "      <td>1.000000</td>\n",
       "      <td>0.971429</td>\n",
       "      <td>0.985507</td>\n",
       "    </tr>\n",
       "  </tbody>\n",
       "</table>\n",
       "</div>"
      ],
      "text/plain": [
       "   fit_time  score_time  test_accuracy  test_precision  test_recall   test_f1\n",
       "0  0.004997    0.015990       0.833333        0.000000     0.000000  0.000000\n",
       "1  0.004997    0.009995       0.972222        0.928571     1.000000  0.962963\n",
       "2  0.004996    0.008995       0.916667        1.000000     0.916667  0.956522\n",
       "3  0.004997    0.009993       0.942857        1.000000     0.942857  0.970588\n",
       "4  0.003997    0.005996       0.971429        1.000000     0.971429  0.985507"
      ]
     },
     "execution_count": 33,
     "metadata": {},
     "output_type": "execute_result"
    }
   ],
   "source": [
    "tree_scores = pd.DataFrame(tree_scores)\n",
    "tree_scores"
   ]
  },
  {
   "cell_type": "code",
   "execution_count": 34,
   "id": "cc585237-2ec2-4472-b389-102039c42b70",
   "metadata": {
    "id": "cc585237-2ec2-4472-b389-102039c42b70",
    "outputId": "b5001f9d-e0f7-4993-cf0c-f58e0cb2903f"
   },
   "outputs": [
    {
     "data": {
      "image/png": "[encoded data removed]",
      "text/plain": [
       "<Figure size 432x288 with 1 Axes>"
      ]
     },
     "metadata": {
      "needs_background": "light"
     },
     "output_type": "display_data"
    }
   ],
   "source": [
    "ax = sns.scatterplot(data=tree_scores, x='test_accuracy', y='test_f1', s=300, alpha=0.7)"
   ]
  },
  {
   "cell_type": "code",
   "execution_count": 35,
   "id": "79eb3784-8c16-491a-a6dc-669072ab853e",
   "metadata": {
    "id": "79eb3784-8c16-491a-a6dc-669072ab853e"
   },
   "outputs": [],
   "source": [
    "from sklearn.ensemble import RandomForestClassifier"
   ]
  },
  {
   "cell_type": "code",
   "execution_count": 36,
   "id": "5ee11234-70da-4569-a66a-b13da4908f53",
   "metadata": {
    "id": "5ee11234-70da-4569-a66a-b13da4908f53"
   },
   "outputs": [],
   "source": [
    "cv = KFold()\n",
    "\n",
    "forest = RandomForestClassifier()\n",
    "forest_scores = cross_validate(forest, X_scaled, y, cv=cv, n_jobs=2, scoring=scoring)"
   ]
  },
  {
   "cell_type": "code",
   "execution_count": 37,
   "id": "5a469b5d-8232-47ad-952b-5a1a7f4032e6",
   "metadata": {
    "id": "5a469b5d-8232-47ad-952b-5a1a7f4032e6",
    "outputId": "7e2afc01-c444-4d7b-aa16-32f8bb122f4d"
   },
   "outputs": [
    {
     "data": {
      "text/html": [
       "<div>\n",
       "<style scoped>\n",
       "    .dataframe tbody tr th:only-of-type {\n",
       "        vertical-align: middle;\n",
       "    }\n",
       "\n",
       "    .dataframe tbody tr th {\n",
       "        vertical-align: top;\n",
       "    }\n",
       "\n",
       "    .dataframe thead th {\n",
       "        text-align: right;\n",
       "    }\n",
       "</style>\n",
       "<table border=\"1\" class=\"dataframe\">\n",
       "  <thead>\n",
       "    <tr style=\"text-align: right;\">\n",
       "      <th></th>\n",
       "      <th>fit_time</th>\n",
       "      <th>score_time</th>\n",
       "      <th>test_accuracy</th>\n",
       "      <th>test_precision</th>\n",
       "      <th>test_recall</th>\n",
       "      <th>test_f1</th>\n",
       "    </tr>\n",
       "  </thead>\n",
       "  <tbody>\n",
       "    <tr>\n",
       "      <th>0</th>\n",
       "      <td>0.180890</td>\n",
       "      <td>0.018987</td>\n",
       "      <td>0.888889</td>\n",
       "      <td>0.000000</td>\n",
       "      <td>0.000000</td>\n",
       "      <td>0.000000</td>\n",
       "    </tr>\n",
       "    <tr>\n",
       "      <th>1</th>\n",
       "      <td>0.176893</td>\n",
       "      <td>0.020986</td>\n",
       "      <td>0.972222</td>\n",
       "      <td>0.928571</td>\n",
       "      <td>1.000000</td>\n",
       "      <td>0.962963</td>\n",
       "    </tr>\n",
       "    <tr>\n",
       "      <th>2</th>\n",
       "      <td>0.220865</td>\n",
       "      <td>0.019988</td>\n",
       "      <td>0.944444</td>\n",
       "      <td>1.000000</td>\n",
       "      <td>0.944444</td>\n",
       "      <td>0.971429</td>\n",
       "    </tr>\n",
       "    <tr>\n",
       "      <th>3</th>\n",
       "      <td>0.222863</td>\n",
       "      <td>0.020987</td>\n",
       "      <td>1.000000</td>\n",
       "      <td>1.000000</td>\n",
       "      <td>1.000000</td>\n",
       "      <td>1.000000</td>\n",
       "    </tr>\n",
       "    <tr>\n",
       "      <th>4</th>\n",
       "      <td>0.158897</td>\n",
       "      <td>0.016989</td>\n",
       "      <td>1.000000</td>\n",
       "      <td>1.000000</td>\n",
       "      <td>1.000000</td>\n",
       "      <td>1.000000</td>\n",
       "    </tr>\n",
       "  </tbody>\n",
       "</table>\n",
       "</div>"
      ],
      "text/plain": [
       "   fit_time  score_time  test_accuracy  test_precision  test_recall   test_f1\n",
       "0  0.180890    0.018987       0.888889        0.000000     0.000000  0.000000\n",
       "1  0.176893    0.020986       0.972222        0.928571     1.000000  0.962963\n",
       "2  0.220865    0.019988       0.944444        1.000000     0.944444  0.971429\n",
       "3  0.222863    0.020987       1.000000        1.000000     1.000000  1.000000\n",
       "4  0.158897    0.016989       1.000000        1.000000     1.000000  1.000000"
      ]
     },
     "execution_count": 37,
     "metadata": {},
     "output_type": "execute_result"
    }
   ],
   "source": [
    "forest_scores = pd.DataFrame(forest_scores)\n",
    "forest_scores"
   ]
  },
  {
   "cell_type": "code",
   "execution_count": 38,
   "id": "18fc2b13-05b1-449d-a83f-d596935e02b0",
   "metadata": {
    "id": "18fc2b13-05b1-449d-a83f-d596935e02b0",
    "outputId": "54562c0b-d0ea-4164-cde3-ccc95f304c28"
   },
   "outputs": [
    {
     "data": {
      "text/plain": [
       "<AxesSubplot:xlabel='test_accuracy', ylabel='test_f1'>"
      ]
     },
     "execution_count": 38,
     "metadata": {},
     "output_type": "execute_result"
    },
    {
     "data": {
      "image/png": "[encoded data removed]",
      "text/plain": [
       "<Figure size 432x288 with 1 Axes>"
      ]
     },
     "metadata": {
      "needs_background": "light"
     },
     "output_type": "display_data"
    }
   ],
   "source": [
    "sns.scatterplot(data=tree_scores, x='test_accuracy', y='test_f1', s=300, alpha=0.7)\n",
    "sns.scatterplot(data=forest_scores, x='test_accuracy', y='test_f1', s=300, alpha=0.7)"
   ]
  },
  {
   "cell_type": "code",
   "execution_count": 39,
   "id": "9992115e-3cdd-4469-bd58-bccca970ba8b",
   "metadata": {
    "id": "9992115e-3cdd-4469-bd58-bccca970ba8b"
   },
   "outputs": [],
   "source": [
    "from sklearn.model_selection import GridSearchCV"
   ]
  },
  {
   "cell_type": "code",
   "execution_count": 40,
   "id": "43fe525a-ca89-4d85-8517-19c3666f9c7f",
   "metadata": {
    "id": "43fe525a-ca89-4d85-8517-19c3666f9c7f",
    "outputId": "2ac47278-4d1a-4a8c-a4fa-da1210e45668"
   },
   "outputs": [
    {
     "name": "stdout",
     "output_type": "stream",
     "text": [
      "Fitting 5 folds for each of 12 candidates, totalling 60 fits\n"
     ]
    }
   ],
   "source": [
    "param_grid = {\n",
    "    'max_features': [2, 4, 5],\n",
    "    'max_depth': [3, 5, 7, 10]\n",
    "}\n",
    "\n",
    "forest = RandomForestClassifier()\n",
    "gs = GridSearchCV(forest, param_grid, scoring=scoring, cv=cv, n_jobs=2, verbose=5, refit=False)\n",
    "gs_result = gs.fit(X_scaled, y)"
   ]
  },
  {
   "cell_type": "code",
   "execution_count": 41,
   "id": "229be147-2d4f-486b-ac36-50f66cff867d",
   "metadata": {
    "id": "229be147-2d4f-486b-ac36-50f66cff867d",
    "outputId": "7f9995cf-313c-443d-abda-d7f820e37e04"
   },
   "outputs": [
    {
     "data": {
      "text/plain": [
       "GridSearchCV(cv=KFold(n_splits=5, random_state=None, shuffle=False),\n",
       "             estimator=RandomForestClassifier(), n_jobs=2,\n",
       "             param_grid={'max_depth': [3, 5, 7, 10], 'max_features': [2, 4, 5]},\n",
       "             refit=False, scoring=['accuracy', 'precision', 'recall', 'f1'],\n",
       "             verbose=5)"
      ]
     },
     "execution_count": 41,
     "metadata": {},
     "output_type": "execute_result"
    }
   ],
   "source": [
    "gs_result"
   ]
  },
  {
   "cell_type": "code",
   "execution_count": 42,
   "id": "5942d69c-02e9-4e8e-a21e-61184d05a672",
   "metadata": {
    "id": "5942d69c-02e9-4e8e-a21e-61184d05a672",
    "outputId": "3b47395e-8392-45f3-d7b2-2465f8b50f16"
   },
   "outputs": [
    {
     "data": {
      "text/plain": [
       "{'mean_fit_time': array([0.19407949, 0.1906817 , 0.23365622, 0.18248892, 0.21087012,\n",
       "        0.19587555, 0.19168344, 0.18188844, 0.20007815, 0.19347897,\n",
       "        0.19528084, 0.21127043]),\n",
       " 'std_fit_time': array([0.00918964, 0.00927582, 0.03383404, 0.0138569 , 0.00536374,\n",
       "        0.00934583, 0.01889223, 0.00485445, 0.02398799, 0.00360902,\n",
       "        0.01957028, 0.02226157]),\n",
       " 'mean_score_time': array([0.0265841 , 0.02418542, 0.02218657, 0.02058668, 0.02538395,\n",
       "        0.02058764, 0.02198596, 0.02098641, 0.02098613, 0.02778249,\n",
       "        0.02238579, 0.02018709]),\n",
       " 'std_score_time': array([0.00349642, 0.00798043, 0.00318429, 0.0021538 , 0.00215172,\n",
       "        0.00135682, 0.00334352, 0.00178747, 0.00260563, 0.00548895,\n",
       "        0.00215311, 0.00159848]),\n",
       " 'param_max_depth': masked_array(data=[3, 3, 3, 5, 5, 5, 7, 7, 7, 10, 10, 10],\n",
       "              mask=[False, False, False, False, False, False, False, False,\n",
       "                    False, False, False, False],\n",
       "        fill_value='?',\n",
       "             dtype=object),\n",
       " 'param_max_features': masked_array(data=[2, 4, 5, 2, 4, 5, 2, 4, 5, 2, 4, 5],\n",
       "              mask=[False, False, False, False, False, False, False, False,\n",
       "                    False, False, False, False],\n",
       "        fill_value='?',\n",
       "             dtype=object),\n",
       " 'params': [{'max_depth': 3, 'max_features': 2},\n",
       "  {'max_depth': 3, 'max_features': 4},\n",
       "  {'max_depth': 3, 'max_features': 5},\n",
       "  {'max_depth': 5, 'max_features': 2},\n",
       "  {'max_depth': 5, 'max_features': 4},\n",
       "  {'max_depth': 5, 'max_features': 5},\n",
       "  {'max_depth': 7, 'max_features': 2},\n",
       "  {'max_depth': 7, 'max_features': 4},\n",
       "  {'max_depth': 7, 'max_features': 5},\n",
       "  {'max_depth': 10, 'max_features': 2},\n",
       "  {'max_depth': 10, 'max_features': 4},\n",
       "  {'max_depth': 10, 'max_features': 5}],\n",
       " 'split0_test_accuracy': array([0.80555556, 0.88888889, 0.86111111, 0.86111111, 0.88888889,\n",
       "        0.88888889, 0.88888889, 0.88888889, 0.88888889, 0.86111111,\n",
       "        0.88888889, 0.88888889]),\n",
       " 'split1_test_accuracy': array([0.97222222, 0.97222222, 0.97222222, 0.97222222, 0.97222222,\n",
       "        0.97222222, 0.97222222, 0.97222222, 0.97222222, 0.97222222,\n",
       "        0.97222222, 0.97222222]),\n",
       " 'split2_test_accuracy': array([0.94444444, 0.94444444, 0.94444444, 0.97222222, 0.97222222,\n",
       "        0.94444444, 0.97222222, 0.94444444, 0.91666667, 0.97222222,\n",
       "        0.94444444, 0.97222222]),\n",
       " 'split3_test_accuracy': array([1., 1., 1., 1., 1., 1., 1., 1., 1., 1., 1., 1.]),\n",
       " 'split4_test_accuracy': array([1., 1., 1., 1., 1., 1., 1., 1., 1., 1., 1., 1.]),\n",
       " 'mean_test_accuracy': array([0.94444444, 0.96111111, 0.95555556, 0.96111111, 0.96666667,\n",
       "        0.96111111, 0.96666667, 0.96111111, 0.95555556, 0.96111111,\n",
       "        0.96111111, 0.96666667]),\n",
       " 'std_test_accuracy': array([0.07243558, 0.04157397, 0.0515201 , 0.0515201 , 0.04082483,\n",
       "        0.04157397, 0.04082483, 0.04157397, 0.04513355, 0.0515201 ,\n",
       "        0.04157397, 0.04082483]),\n",
       " 'rank_test_accuracy': array([12,  4, 10,  4,  1,  4,  1,  4, 10,  4,  4,  1]),\n",
       " 'split0_test_precision': array([0., 0., 0., 0., 0., 0., 0., 0., 0., 0., 0., 0.]),\n",
       " 'split1_test_precision': array([0.92857143, 0.92857143, 0.92857143, 0.92857143, 0.92857143,\n",
       "        0.92857143, 0.92857143, 0.92857143, 0.92857143, 0.92857143,\n",
       "        0.92857143, 0.92857143]),\n",
       " 'split2_test_precision': array([1., 1., 1., 1., 1., 1., 1., 1., 1., 1., 1., 1.]),\n",
       " 'split3_test_precision': array([1., 1., 1., 1., 1., 1., 1., 1., 1., 1., 1., 1.]),\n",
       " 'split4_test_precision': array([1., 1., 1., 1., 1., 1., 1., 1., 1., 1., 1., 1.]),\n",
       " 'mean_test_precision': array([0.78571429, 0.78571429, 0.78571429, 0.78571429, 0.78571429,\n",
       "        0.78571429, 0.78571429, 0.78571429, 0.78571429, 0.78571429,\n",
       "        0.78571429, 0.78571429]),\n",
       " 'std_test_precision': array([0.39382996, 0.39382996, 0.39382996, 0.39382996, 0.39382996,\n",
       "        0.39382996, 0.39382996, 0.39382996, 0.39382996, 0.39382996,\n",
       "        0.39382996, 0.39382996]),\n",
       " 'rank_test_precision': array([1, 1, 1, 1, 1, 1, 1, 1, 1, 1, 1, 1]),\n",
       " 'split0_test_recall': array([0., 0., 0., 0., 0., 0., 0., 0., 0., 0., 0., 0.]),\n",
       " 'split1_test_recall': array([1., 1., 1., 1., 1., 1., 1., 1., 1., 1., 1., 1.]),\n",
       " 'split2_test_recall': array([0.94444444, 0.94444444, 0.94444444, 0.97222222, 0.97222222,\n",
       "        0.94444444, 0.97222222, 0.94444444, 0.91666667, 0.97222222,\n",
       "        0.94444444, 0.97222222]),\n",
       " 'split3_test_recall': array([1., 1., 1., 1., 1., 1., 1., 1., 1., 1., 1., 1.]),\n",
       " 'split4_test_recall': array([1., 1., 1., 1., 1., 1., 1., 1., 1., 1., 1., 1.]),\n",
       " 'mean_test_recall': array([0.78888889, 0.78888889, 0.78888889, 0.79444444, 0.79444444,\n",
       "        0.78888889, 0.79444444, 0.78888889, 0.78333333, 0.79444444,\n",
       "        0.78888889, 0.79444444]),\n",
       " 'std_test_recall': array([0.39503086, 0.39503086, 0.39503086, 0.39736788, 0.39736788,\n",
       "        0.39503086, 0.39736788, 0.39503086, 0.3929942 , 0.39736788,\n",
       "        0.39503086, 0.39736788]),\n",
       " 'rank_test_recall': array([ 6,  6,  6,  1,  1,  6,  1,  6, 12,  1,  6,  1]),\n",
       " 'split0_test_f1': array([0., 0., 0., 0., 0., 0., 0., 0., 0., 0., 0., 0.]),\n",
       " 'split1_test_f1': array([0.96296296, 0.96296296, 0.96296296, 0.96296296, 0.96296296,\n",
       "        0.96296296, 0.96296296, 0.96296296, 0.96296296, 0.96296296,\n",
       "        0.96296296, 0.96296296]),\n",
       " 'split2_test_f1': array([0.97142857, 0.97142857, 0.97142857, 0.98591549, 0.98591549,\n",
       "        0.97142857, 0.98591549, 0.97142857, 0.95652174, 0.98591549,\n",
       "        0.97142857, 0.98591549]),\n",
       " 'split3_test_f1': array([1., 1., 1., 1., 1., 1., 1., 1., 1., 1., 1., 1.]),\n",
       " 'split4_test_f1': array([1., 1., 1., 1., 1., 1., 1., 1., 1., 1., 1., 1.]),\n",
       " 'mean_test_f1': array([0.78687831, 0.78687831, 0.78687831, 0.78977569, 0.78977569,\n",
       "        0.78687831, 0.78977569, 0.78687831, 0.78389694, 0.78977569,\n",
       "        0.78687831, 0.78977569]),\n",
       " 'std_test_f1': array([0.39372168, 0.39372168, 0.39372168, 0.39511994, 0.39511994,\n",
       "        0.39372168, 0.39511994, 0.39372168, 0.39236703, 0.39511994,\n",
       "        0.39372168, 0.39511994]),\n",
       " 'rank_test_f1': array([ 6,  6,  6,  1,  1,  6,  1,  6, 12,  1,  6,  1])}"
      ]
     },
     "execution_count": 42,
     "metadata": {},
     "output_type": "execute_result"
    }
   ],
   "source": [
    "gs_result.cv_results_"
   ]
  },
  {
   "cell_type": "code",
   "execution_count": 43,
   "id": "c91d36d8-ee80-49c0-9a14-f774609bba1a",
   "metadata": {
    "id": "c91d36d8-ee80-49c0-9a14-f774609bba1a",
    "outputId": "abe757e5-9399-4870-e9f5-2652a00c3fe2"
   },
   "outputs": [
    {
     "data": {
      "text/html": [
       "<div>\n",
       "<style scoped>\n",
       "    .dataframe tbody tr th:only-of-type {\n",
       "        vertical-align: middle;\n",
       "    }\n",
       "\n",
       "    .dataframe tbody tr th {\n",
       "        vertical-align: top;\n",
       "    }\n",
       "\n",
       "    .dataframe thead th {\n",
       "        text-align: right;\n",
       "    }\n",
       "</style>\n",
       "<table border=\"1\" class=\"dataframe\">\n",
       "  <thead>\n",
       "    <tr style=\"text-align: right;\">\n",
       "      <th></th>\n",
       "      <th>mean_fit_time</th>\n",
       "      <th>std_fit_time</th>\n",
       "      <th>mean_score_time</th>\n",
       "      <th>std_score_time</th>\n",
       "      <th>param_max_depth</th>\n",
       "      <th>param_max_features</th>\n",
       "      <th>params</th>\n",
       "      <th>split0_test_accuracy</th>\n",
       "      <th>split1_test_accuracy</th>\n",
       "      <th>split2_test_accuracy</th>\n",
       "      <th>...</th>\n",
       "      <th>std_test_recall</th>\n",
       "      <th>rank_test_recall</th>\n",
       "      <th>split0_test_f1</th>\n",
       "      <th>split1_test_f1</th>\n",
       "      <th>split2_test_f1</th>\n",
       "      <th>split3_test_f1</th>\n",
       "      <th>split4_test_f1</th>\n",
       "      <th>mean_test_f1</th>\n",
       "      <th>std_test_f1</th>\n",
       "      <th>rank_test_f1</th>\n",
       "    </tr>\n",
       "  </thead>\n",
       "  <tbody>\n",
       "    <tr>\n",
       "      <th>0</th>\n",
       "      <td>0.194079</td>\n",
       "      <td>0.009190</td>\n",
       "      <td>0.026584</td>\n",
       "      <td>0.003496</td>\n",
       "      <td>3</td>\n",
       "      <td>2</td>\n",
       "      <td>{'max_depth': 3, 'max_features': 2}</td>\n",
       "      <td>0.805556</td>\n",
       "      <td>0.972222</td>\n",
       "      <td>0.944444</td>\n",
       "      <td>...</td>\n",
       "      <td>0.395031</td>\n",
       "      <td>6</td>\n",
       "      <td>0.0</td>\n",
       "      <td>0.962963</td>\n",
       "      <td>0.971429</td>\n",
       "      <td>1.0</td>\n",
       "      <td>1.0</td>\n",
       "      <td>0.786878</td>\n",
       "      <td>0.393722</td>\n",
       "      <td>6</td>\n",
       "    </tr>\n",
       "    <tr>\n",
       "      <th>1</th>\n",
       "      <td>0.190682</td>\n",
       "      <td>0.009276</td>\n",
       "      <td>0.024185</td>\n",
       "      <td>0.007980</td>\n",
       "      <td>3</td>\n",
       "      <td>4</td>\n",
       "      <td>{'max_depth': 3, 'max_features': 4}</td>\n",
       "      <td>0.888889</td>\n",
       "      <td>0.972222</td>\n",
       "      <td>0.944444</td>\n",
       "      <td>...</td>\n",
       "      <td>0.395031</td>\n",
       "      <td>6</td>\n",
       "      <td>0.0</td>\n",
       "      <td>0.962963</td>\n",
       "      <td>0.971429</td>\n",
       "      <td>1.0</td>\n",
       "      <td>1.0</td>\n",
       "      <td>0.786878</td>\n",
       "      <td>0.393722</td>\n",
       "      <td>6</td>\n",
       "    </tr>\n",
       "    <tr>\n",
       "      <th>2</th>\n",
       "      <td>0.233656</td>\n",
       "      <td>0.033834</td>\n",
       "      <td>0.022187</td>\n",
       "      <td>0.003184</td>\n",
       "      <td>3</td>\n",
       "      <td>5</td>\n",
       "      <td>{'max_depth': 3, 'max_features': 5}</td>\n",
       "      <td>0.861111</td>\n",
       "      <td>0.972222</td>\n",
       "      <td>0.944444</td>\n",
       "      <td>...</td>\n",
       "      <td>0.395031</td>\n",
       "      <td>6</td>\n",
       "      <td>0.0</td>\n",
       "      <td>0.962963</td>\n",
       "      <td>0.971429</td>\n",
       "      <td>1.0</td>\n",
       "      <td>1.0</td>\n",
       "      <td>0.786878</td>\n",
       "      <td>0.393722</td>\n",
       "      <td>6</td>\n",
       "    </tr>\n",
       "    <tr>\n",
       "      <th>3</th>\n",
       "      <td>0.182489</td>\n",
       "      <td>0.013857</td>\n",
       "      <td>0.020587</td>\n",
       "      <td>0.002154</td>\n",
       "      <td>5</td>\n",
       "      <td>2</td>\n",
       "      <td>{'max_depth': 5, 'max_features': 2}</td>\n",
       "      <td>0.861111</td>\n",
       "      <td>0.972222</td>\n",
       "      <td>0.972222</td>\n",
       "      <td>...</td>\n",
       "      <td>0.397368</td>\n",
       "      <td>1</td>\n",
       "      <td>0.0</td>\n",
       "      <td>0.962963</td>\n",
       "      <td>0.985915</td>\n",
       "      <td>1.0</td>\n",
       "      <td>1.0</td>\n",
       "      <td>0.789776</td>\n",
       "      <td>0.395120</td>\n",
       "      <td>1</td>\n",
       "    </tr>\n",
       "    <tr>\n",
       "      <th>4</th>\n",
       "      <td>0.210870</td>\n",
       "      <td>0.005364</td>\n",
       "      <td>0.025384</td>\n",
       "      <td>0.002152</td>\n",
       "      <td>5</td>\n",
       "      <td>4</td>\n",
       "      <td>{'max_depth': 5, 'max_features': 4}</td>\n",
       "      <td>0.888889</td>\n",
       "      <td>0.972222</td>\n",
       "      <td>0.972222</td>\n",
       "      <td>...</td>\n",
       "      <td>0.397368</td>\n",
       "      <td>1</td>\n",
       "      <td>0.0</td>\n",
       "      <td>0.962963</td>\n",
       "      <td>0.985915</td>\n",
       "      <td>1.0</td>\n",
       "      <td>1.0</td>\n",
       "      <td>0.789776</td>\n",
       "      <td>0.395120</td>\n",
       "      <td>1</td>\n",
       "    </tr>\n",
       "    <tr>\n",
       "      <th>5</th>\n",
       "      <td>0.195876</td>\n",
       "      <td>0.009346</td>\n",
       "      <td>0.020588</td>\n",
       "      <td>0.001357</td>\n",
       "      <td>5</td>\n",
       "      <td>5</td>\n",
       "      <td>{'max_depth': 5, 'max_features': 5}</td>\n",
       "      <td>0.888889</td>\n",
       "      <td>0.972222</td>\n",
       "      <td>0.944444</td>\n",
       "      <td>...</td>\n",
       "      <td>0.395031</td>\n",
       "      <td>6</td>\n",
       "      <td>0.0</td>\n",
       "      <td>0.962963</td>\n",
       "      <td>0.971429</td>\n",
       "      <td>1.0</td>\n",
       "      <td>1.0</td>\n",
       "      <td>0.786878</td>\n",
       "      <td>0.393722</td>\n",
       "      <td>6</td>\n",
       "    </tr>\n",
       "    <tr>\n",
       "      <th>6</th>\n",
       "      <td>0.191683</td>\n",
       "      <td>0.018892</td>\n",
       "      <td>0.021986</td>\n",
       "      <td>0.003344</td>\n",
       "      <td>7</td>\n",
       "      <td>2</td>\n",
       "      <td>{'max_depth': 7, 'max_features': 2}</td>\n",
       "      <td>0.888889</td>\n",
       "      <td>0.972222</td>\n",
       "      <td>0.972222</td>\n",
       "      <td>...</td>\n",
       "      <td>0.397368</td>\n",
       "      <td>1</td>\n",
       "      <td>0.0</td>\n",
       "      <td>0.962963</td>\n",
       "      <td>0.985915</td>\n",
       "      <td>1.0</td>\n",
       "      <td>1.0</td>\n",
       "      <td>0.789776</td>\n",
       "      <td>0.395120</td>\n",
       "      <td>1</td>\n",
       "    </tr>\n",
       "    <tr>\n",
       "      <th>7</th>\n",
       "      <td>0.181888</td>\n",
       "      <td>0.004854</td>\n",
       "      <td>0.020986</td>\n",
       "      <td>0.001787</td>\n",
       "      <td>7</td>\n",
       "      <td>4</td>\n",
       "      <td>{'max_depth': 7, 'max_features': 4}</td>\n",
       "      <td>0.888889</td>\n",
       "      <td>0.972222</td>\n",
       "      <td>0.944444</td>\n",
       "      <td>...</td>\n",
       "      <td>0.395031</td>\n",
       "      <td>6</td>\n",
       "      <td>0.0</td>\n",
       "      <td>0.962963</td>\n",
       "      <td>0.971429</td>\n",
       "      <td>1.0</td>\n",
       "      <td>1.0</td>\n",
       "      <td>0.786878</td>\n",
       "      <td>0.393722</td>\n",
       "      <td>6</td>\n",
       "    </tr>\n",
       "    <tr>\n",
       "      <th>8</th>\n",
       "      <td>0.200078</td>\n",
       "      <td>0.023988</td>\n",
       "      <td>0.020986</td>\n",
       "      <td>0.002606</td>\n",
       "      <td>7</td>\n",
       "      <td>5</td>\n",
       "      <td>{'max_depth': 7, 'max_features': 5}</td>\n",
       "      <td>0.888889</td>\n",
       "      <td>0.972222</td>\n",
       "      <td>0.916667</td>\n",
       "      <td>...</td>\n",
       "      <td>0.392994</td>\n",
       "      <td>12</td>\n",
       "      <td>0.0</td>\n",
       "      <td>0.962963</td>\n",
       "      <td>0.956522</td>\n",
       "      <td>1.0</td>\n",
       "      <td>1.0</td>\n",
       "      <td>0.783897</td>\n",
       "      <td>0.392367</td>\n",
       "      <td>12</td>\n",
       "    </tr>\n",
       "    <tr>\n",
       "      <th>9</th>\n",
       "      <td>0.193479</td>\n",
       "      <td>0.003609</td>\n",
       "      <td>0.027782</td>\n",
       "      <td>0.005489</td>\n",
       "      <td>10</td>\n",
       "      <td>2</td>\n",
       "      <td>{'max_depth': 10, 'max_features': 2}</td>\n",
       "      <td>0.861111</td>\n",
       "      <td>0.972222</td>\n",
       "      <td>0.972222</td>\n",
       "      <td>...</td>\n",
       "      <td>0.397368</td>\n",
       "      <td>1</td>\n",
       "      <td>0.0</td>\n",
       "      <td>0.962963</td>\n",
       "      <td>0.985915</td>\n",
       "      <td>1.0</td>\n",
       "      <td>1.0</td>\n",
       "      <td>0.789776</td>\n",
       "      <td>0.395120</td>\n",
       "      <td>1</td>\n",
       "    </tr>\n",
       "    <tr>\n",
       "      <th>10</th>\n",
       "      <td>0.195281</td>\n",
       "      <td>0.019570</td>\n",
       "      <td>0.022386</td>\n",
       "      <td>0.002153</td>\n",
       "      <td>10</td>\n",
       "      <td>4</td>\n",
       "      <td>{'max_depth': 10, 'max_features': 4}</td>\n",
       "      <td>0.888889</td>\n",
       "      <td>0.972222</td>\n",
       "      <td>0.944444</td>\n",
       "      <td>...</td>\n",
       "      <td>0.395031</td>\n",
       "      <td>6</td>\n",
       "      <td>0.0</td>\n",
       "      <td>0.962963</td>\n",
       "      <td>0.971429</td>\n",
       "      <td>1.0</td>\n",
       "      <td>1.0</td>\n",
       "      <td>0.786878</td>\n",
       "      <td>0.393722</td>\n",
       "      <td>6</td>\n",
       "    </tr>\n",
       "    <tr>\n",
       "      <th>11</th>\n",
       "      <td>0.211270</td>\n",
       "      <td>0.022262</td>\n",
       "      <td>0.020187</td>\n",
       "      <td>0.001598</td>\n",
       "      <td>10</td>\n",
       "      <td>5</td>\n",
       "      <td>{'max_depth': 10, 'max_features': 5}</td>\n",
       "      <td>0.888889</td>\n",
       "      <td>0.972222</td>\n",
       "      <td>0.972222</td>\n",
       "      <td>...</td>\n",
       "      <td>0.397368</td>\n",
       "      <td>1</td>\n",
       "      <td>0.0</td>\n",
       "      <td>0.962963</td>\n",
       "      <td>0.985915</td>\n",
       "      <td>1.0</td>\n",
       "      <td>1.0</td>\n",
       "      <td>0.789776</td>\n",
       "      <td>0.395120</td>\n",
       "      <td>1</td>\n",
       "    </tr>\n",
       "  </tbody>\n",
       "</table>\n",
       "<p>12 rows × 39 columns</p>\n",
       "</div>"
      ],
      "text/plain": [
       "    mean_fit_time  std_fit_time  mean_score_time  std_score_time  \\\n",
       "0        0.194079      0.009190         0.026584        0.003496   \n",
       "1        0.190682      0.009276         0.024185        0.007980   \n",
       "2        0.233656      0.033834         0.022187        0.003184   \n",
       "3        0.182489      0.013857         0.020587        0.002154   \n",
       "4        0.210870      0.005364         0.025384        0.002152   \n",
       "5        0.195876      0.009346         0.020588        0.001357   \n",
       "6        0.191683      0.018892         0.021986        0.003344   \n",
       "7        0.181888      0.004854         0.020986        0.001787   \n",
       "8        0.200078      0.023988         0.020986        0.002606   \n",
       "9        0.193479      0.003609         0.027782        0.005489   \n",
       "10       0.195281      0.019570         0.022386        0.002153   \n",
       "11       0.211270      0.022262         0.020187        0.001598   \n",
       "\n",
       "   param_max_depth param_max_features                                params  \\\n",
       "0                3                  2   {'max_depth': 3, 'max_features': 2}   \n",
       "1                3                  4   {'max_depth': 3, 'max_features': 4}   \n",
       "2                3                  5   {'max_depth': 3, 'max_features': 5}   \n",
       "3                5                  2   {'max_depth': 5, 'max_features': 2}   \n",
       "4                5                  4   {'max_depth': 5, 'max_features': 4}   \n",
       "5                5                  5   {'max_depth': 5, 'max_features': 5}   \n",
       "6                7                  2   {'max_depth': 7, 'max_features': 2}   \n",
       "7                7                  4   {'max_depth': 7, 'max_features': 4}   \n",
       "8                7                  5   {'max_depth': 7, 'max_features': 5}   \n",
       "9               10                  2  {'max_depth': 10, 'max_features': 2}   \n",
       "10              10                  4  {'max_depth': 10, 'max_features': 4}   \n",
       "11              10                  5  {'max_depth': 10, 'max_features': 5}   \n",
       "\n",
       "    split0_test_accuracy  split1_test_accuracy  split2_test_accuracy  ...  \\\n",
       "0               0.805556              0.972222              0.944444  ...   \n",
       "1               0.888889              0.972222              0.944444  ...   \n",
       "2               0.861111              0.972222              0.944444  ...   \n",
       "3               0.861111              0.972222              0.972222  ...   \n",
       "4               0.888889              0.972222              0.972222  ...   \n",
       "5               0.888889              0.972222              0.944444  ...   \n",
       "6               0.888889              0.972222              0.972222  ...   \n",
       "7               0.888889              0.972222              0.944444  ...   \n",
       "8               0.888889              0.972222              0.916667  ...   \n",
       "9               0.861111              0.972222              0.972222  ...   \n",
       "10              0.888889              0.972222              0.944444  ...   \n",
       "11              0.888889              0.972222              0.972222  ...   \n",
       "\n",
       "    std_test_recall  rank_test_recall  split0_test_f1  split1_test_f1  \\\n",
       "0          0.395031                 6             0.0        0.962963   \n",
       "1          0.395031                 6             0.0        0.962963   \n",
       "2          0.395031                 6             0.0        0.962963   \n",
       "3          0.397368                 1             0.0        0.962963   \n",
       "4          0.397368                 1             0.0        0.962963   \n",
       "5          0.395031                 6             0.0        0.962963   \n",
       "6          0.397368                 1             0.0        0.962963   \n",
       "7          0.395031                 6             0.0        0.962963   \n",
       "8          0.392994                12             0.0        0.962963   \n",
       "9          0.397368                 1             0.0        0.962963   \n",
       "10         0.395031                 6             0.0        0.962963   \n",
       "11         0.397368                 1             0.0        0.962963   \n",
       "\n",
       "    split2_test_f1  split3_test_f1  split4_test_f1  mean_test_f1  std_test_f1  \\\n",
       "0         0.971429             1.0             1.0      0.786878     0.393722   \n",
       "1         0.971429             1.0             1.0      0.786878     0.393722   \n",
       "2         0.971429             1.0             1.0      0.786878     0.393722   \n",
       "3         0.985915             1.0             1.0      0.789776     0.395120   \n",
       "4         0.985915             1.0             1.0      0.789776     0.395120   \n",
       "5         0.971429             1.0             1.0      0.786878     0.393722   \n",
       "6         0.985915             1.0             1.0      0.789776     0.395120   \n",
       "7         0.971429             1.0             1.0      0.786878     0.393722   \n",
       "8         0.956522             1.0             1.0      0.783897     0.392367   \n",
       "9         0.985915             1.0             1.0      0.789776     0.395120   \n",
       "10        0.971429             1.0             1.0      0.786878     0.393722   \n",
       "11        0.985915             1.0             1.0      0.789776     0.395120   \n",
       "\n",
       "    rank_test_f1  \n",
       "0              6  \n",
       "1              6  \n",
       "2              6  \n",
       "3              1  \n",
       "4              1  \n",
       "5              6  \n",
       "6              1  \n",
       "7              6  \n",
       "8             12  \n",
       "9              1  \n",
       "10             6  \n",
       "11             1  \n",
       "\n",
       "[12 rows x 39 columns]"
      ]
     },
     "execution_count": 43,
     "metadata": {},
     "output_type": "execute_result"
    }
   ],
   "source": [
    "gs_result_df = pd.DataFrame(gs_result.cv_results_)\n",
    "gs_result_df"
   ]
  },
  {
   "cell_type": "code",
   "execution_count": 44,
   "id": "7195af79-b943-48bf-baef-bdfaeeb4f4de",
   "metadata": {
    "id": "7195af79-b943-48bf-baef-bdfaeeb4f4de",
    "outputId": "80b1cd87-583d-4a2d-9e28-7bcef93a0b21"
   },
   "outputs": [
    {
     "data": {
      "text/html": [
       "<div>\n",
       "<style scoped>\n",
       "    .dataframe tbody tr th:only-of-type {\n",
       "        vertical-align: middle;\n",
       "    }\n",
       "\n",
       "    .dataframe tbody tr th {\n",
       "        vertical-align: top;\n",
       "    }\n",
       "\n",
       "    .dataframe thead th {\n",
       "        text-align: right;\n",
       "    }\n",
       "</style>\n",
       "<table border=\"1\" class=\"dataframe\">\n",
       "  <thead>\n",
       "    <tr style=\"text-align: right;\">\n",
       "      <th></th>\n",
       "      <th>max_depth</th>\n",
       "      <th>max_features</th>\n",
       "    </tr>\n",
       "  </thead>\n",
       "  <tbody>\n",
       "    <tr>\n",
       "      <th>0</th>\n",
       "      <td>3</td>\n",
       "      <td>2</td>\n",
       "    </tr>\n",
       "    <tr>\n",
       "      <th>1</th>\n",
       "      <td>3</td>\n",
       "      <td>4</td>\n",
       "    </tr>\n",
       "    <tr>\n",
       "      <th>2</th>\n",
       "      <td>3</td>\n",
       "      <td>5</td>\n",
       "    </tr>\n",
       "    <tr>\n",
       "      <th>3</th>\n",
       "      <td>5</td>\n",
       "      <td>2</td>\n",
       "    </tr>\n",
       "    <tr>\n",
       "      <th>4</th>\n",
       "      <td>5</td>\n",
       "      <td>4</td>\n",
       "    </tr>\n",
       "    <tr>\n",
       "      <th>5</th>\n",
       "      <td>5</td>\n",
       "      <td>5</td>\n",
       "    </tr>\n",
       "    <tr>\n",
       "      <th>6</th>\n",
       "      <td>7</td>\n",
       "      <td>2</td>\n",
       "    </tr>\n",
       "    <tr>\n",
       "      <th>7</th>\n",
       "      <td>7</td>\n",
       "      <td>4</td>\n",
       "    </tr>\n",
       "    <tr>\n",
       "      <th>8</th>\n",
       "      <td>7</td>\n",
       "      <td>5</td>\n",
       "    </tr>\n",
       "    <tr>\n",
       "      <th>9</th>\n",
       "      <td>10</td>\n",
       "      <td>2</td>\n",
       "    </tr>\n",
       "    <tr>\n",
       "      <th>10</th>\n",
       "      <td>10</td>\n",
       "      <td>4</td>\n",
       "    </tr>\n",
       "    <tr>\n",
       "      <th>11</th>\n",
       "      <td>10</td>\n",
       "      <td>5</td>\n",
       "    </tr>\n",
       "  </tbody>\n",
       "</table>\n",
       "</div>"
      ],
      "text/plain": [
       "    max_depth  max_features\n",
       "0           3             2\n",
       "1           3             4\n",
       "2           3             5\n",
       "3           5             2\n",
       "4           5             4\n",
       "5           5             5\n",
       "6           7             2\n",
       "7           7             4\n",
       "8           7             5\n",
       "9          10             2\n",
       "10         10             4\n",
       "11         10             5"
      ]
     },
     "execution_count": 44,
     "metadata": {},
     "output_type": "execute_result"
    }
   ],
   "source": [
    "params = gs_result_df['params'].apply(pd.Series)\n",
    "params"
   ]
  },
  {
   "cell_type": "code",
   "execution_count": 45,
   "id": "8e734daa-8754-49c7-a8ab-b8bda93d45af",
   "metadata": {
    "id": "8e734daa-8754-49c7-a8ab-b8bda93d45af",
    "outputId": "d4ea3f24-b9a9-487a-bb2b-13c3bda8bf39"
   },
   "outputs": [
    {
     "data": {
      "text/html": [
       "<div>\n",
       "<style scoped>\n",
       "    .dataframe tbody tr th:only-of-type {\n",
       "        vertical-align: middle;\n",
       "    }\n",
       "\n",
       "    .dataframe tbody tr th {\n",
       "        vertical-align: top;\n",
       "    }\n",
       "\n",
       "    .dataframe thead th {\n",
       "        text-align: right;\n",
       "    }\n",
       "</style>\n",
       "<table border=\"1\" class=\"dataframe\">\n",
       "  <thead>\n",
       "    <tr style=\"text-align: right;\">\n",
       "      <th></th>\n",
       "      <th>mean_fit_time</th>\n",
       "      <th>std_fit_time</th>\n",
       "      <th>mean_score_time</th>\n",
       "      <th>std_score_time</th>\n",
       "      <th>param_max_depth</th>\n",
       "      <th>param_max_features</th>\n",
       "      <th>params</th>\n",
       "      <th>split0_test_accuracy</th>\n",
       "      <th>split1_test_accuracy</th>\n",
       "      <th>split2_test_accuracy</th>\n",
       "      <th>...</th>\n",
       "      <th>split0_test_f1</th>\n",
       "      <th>split1_test_f1</th>\n",
       "      <th>split2_test_f1</th>\n",
       "      <th>split3_test_f1</th>\n",
       "      <th>split4_test_f1</th>\n",
       "      <th>mean_test_f1</th>\n",
       "      <th>std_test_f1</th>\n",
       "      <th>rank_test_f1</th>\n",
       "      <th>max_depth</th>\n",
       "      <th>max_features</th>\n",
       "    </tr>\n",
       "  </thead>\n",
       "  <tbody>\n",
       "    <tr>\n",
       "      <th>0</th>\n",
       "      <td>0.194079</td>\n",
       "      <td>0.009190</td>\n",
       "      <td>0.026584</td>\n",
       "      <td>0.003496</td>\n",
       "      <td>3</td>\n",
       "      <td>2</td>\n",
       "      <td>{'max_depth': 3, 'max_features': 2}</td>\n",
       "      <td>0.805556</td>\n",
       "      <td>0.972222</td>\n",
       "      <td>0.944444</td>\n",
       "      <td>...</td>\n",
       "      <td>0.0</td>\n",
       "      <td>0.962963</td>\n",
       "      <td>0.971429</td>\n",
       "      <td>1.0</td>\n",
       "      <td>1.0</td>\n",
       "      <td>0.786878</td>\n",
       "      <td>0.393722</td>\n",
       "      <td>6</td>\n",
       "      <td>3</td>\n",
       "      <td>2</td>\n",
       "    </tr>\n",
       "    <tr>\n",
       "      <th>1</th>\n",
       "      <td>0.190682</td>\n",
       "      <td>0.009276</td>\n",
       "      <td>0.024185</td>\n",
       "      <td>0.007980</td>\n",
       "      <td>3</td>\n",
       "      <td>4</td>\n",
       "      <td>{'max_depth': 3, 'max_features': 4}</td>\n",
       "      <td>0.888889</td>\n",
       "      <td>0.972222</td>\n",
       "      <td>0.944444</td>\n",
       "      <td>...</td>\n",
       "      <td>0.0</td>\n",
       "      <td>0.962963</td>\n",
       "      <td>0.971429</td>\n",
       "      <td>1.0</td>\n",
       "      <td>1.0</td>\n",
       "      <td>0.786878</td>\n",
       "      <td>0.393722</td>\n",
       "      <td>6</td>\n",
       "      <td>3</td>\n",
       "      <td>4</td>\n",
       "    </tr>\n",
       "    <tr>\n",
       "      <th>2</th>\n",
       "      <td>0.233656</td>\n",
       "      <td>0.033834</td>\n",
       "      <td>0.022187</td>\n",
       "      <td>0.003184</td>\n",
       "      <td>3</td>\n",
       "      <td>5</td>\n",
       "      <td>{'max_depth': 3, 'max_features': 5}</td>\n",
       "      <td>0.861111</td>\n",
       "      <td>0.972222</td>\n",
       "      <td>0.944444</td>\n",
       "      <td>...</td>\n",
       "      <td>0.0</td>\n",
       "      <td>0.962963</td>\n",
       "      <td>0.971429</td>\n",
       "      <td>1.0</td>\n",
       "      <td>1.0</td>\n",
       "      <td>0.786878</td>\n",
       "      <td>0.393722</td>\n",
       "      <td>6</td>\n",
       "      <td>3</td>\n",
       "      <td>5</td>\n",
       "    </tr>\n",
       "    <tr>\n",
       "      <th>3</th>\n",
       "      <td>0.182489</td>\n",
       "      <td>0.013857</td>\n",
       "      <td>0.020587</td>\n",
       "      <td>0.002154</td>\n",
       "      <td>5</td>\n",
       "      <td>2</td>\n",
       "      <td>{'max_depth': 5, 'max_features': 2}</td>\n",
       "      <td>0.861111</td>\n",
       "      <td>0.972222</td>\n",
       "      <td>0.972222</td>\n",
       "      <td>...</td>\n",
       "      <td>0.0</td>\n",
       "      <td>0.962963</td>\n",
       "      <td>0.985915</td>\n",
       "      <td>1.0</td>\n",
       "      <td>1.0</td>\n",
       "      <td>0.789776</td>\n",
       "      <td>0.395120</td>\n",
       "      <td>1</td>\n",
       "      <td>5</td>\n",
       "      <td>2</td>\n",
       "    </tr>\n",
       "    <tr>\n",
       "      <th>4</th>\n",
       "      <td>0.210870</td>\n",
       "      <td>0.005364</td>\n",
       "      <td>0.025384</td>\n",
       "      <td>0.002152</td>\n",
       "      <td>5</td>\n",
       "      <td>4</td>\n",
       "      <td>{'max_depth': 5, 'max_features': 4}</td>\n",
       "      <td>0.888889</td>\n",
       "      <td>0.972222</td>\n",
       "      <td>0.972222</td>\n",
       "      <td>...</td>\n",
       "      <td>0.0</td>\n",
       "      <td>0.962963</td>\n",
       "      <td>0.985915</td>\n",
       "      <td>1.0</td>\n",
       "      <td>1.0</td>\n",
       "      <td>0.789776</td>\n",
       "      <td>0.395120</td>\n",
       "      <td>1</td>\n",
       "      <td>5</td>\n",
       "      <td>4</td>\n",
       "    </tr>\n",
       "    <tr>\n",
       "      <th>5</th>\n",
       "      <td>0.195876</td>\n",
       "      <td>0.009346</td>\n",
       "      <td>0.020588</td>\n",
       "      <td>0.001357</td>\n",
       "      <td>5</td>\n",
       "      <td>5</td>\n",
       "      <td>{'max_depth': 5, 'max_features': 5}</td>\n",
       "      <td>0.888889</td>\n",
       "      <td>0.972222</td>\n",
       "      <td>0.944444</td>\n",
       "      <td>...</td>\n",
       "      <td>0.0</td>\n",
       "      <td>0.962963</td>\n",
       "      <td>0.971429</td>\n",
       "      <td>1.0</td>\n",
       "      <td>1.0</td>\n",
       "      <td>0.786878</td>\n",
       "      <td>0.393722</td>\n",
       "      <td>6</td>\n",
       "      <td>5</td>\n",
       "      <td>5</td>\n",
       "    </tr>\n",
       "    <tr>\n",
       "      <th>6</th>\n",
       "      <td>0.191683</td>\n",
       "      <td>0.018892</td>\n",
       "      <td>0.021986</td>\n",
       "      <td>0.003344</td>\n",
       "      <td>7</td>\n",
       "      <td>2</td>\n",
       "      <td>{'max_depth': 7, 'max_features': 2}</td>\n",
       "      <td>0.888889</td>\n",
       "      <td>0.972222</td>\n",
       "      <td>0.972222</td>\n",
       "      <td>...</td>\n",
       "      <td>0.0</td>\n",
       "      <td>0.962963</td>\n",
       "      <td>0.985915</td>\n",
       "      <td>1.0</td>\n",
       "      <td>1.0</td>\n",
       "      <td>0.789776</td>\n",
       "      <td>0.395120</td>\n",
       "      <td>1</td>\n",
       "      <td>7</td>\n",
       "      <td>2</td>\n",
       "    </tr>\n",
       "    <tr>\n",
       "      <th>7</th>\n",
       "      <td>0.181888</td>\n",
       "      <td>0.004854</td>\n",
       "      <td>0.020986</td>\n",
       "      <td>0.001787</td>\n",
       "      <td>7</td>\n",
       "      <td>4</td>\n",
       "      <td>{'max_depth': 7, 'max_features': 4}</td>\n",
       "      <td>0.888889</td>\n",
       "      <td>0.972222</td>\n",
       "      <td>0.944444</td>\n",
       "      <td>...</td>\n",
       "      <td>0.0</td>\n",
       "      <td>0.962963</td>\n",
       "      <td>0.971429</td>\n",
       "      <td>1.0</td>\n",
       "      <td>1.0</td>\n",
       "      <td>0.786878</td>\n",
       "      <td>0.393722</td>\n",
       "      <td>6</td>\n",
       "      <td>7</td>\n",
       "      <td>4</td>\n",
       "    </tr>\n",
       "    <tr>\n",
       "      <th>8</th>\n",
       "      <td>0.200078</td>\n",
       "      <td>0.023988</td>\n",
       "      <td>0.020986</td>\n",
       "      <td>0.002606</td>\n",
       "      <td>7</td>\n",
       "      <td>5</td>\n",
       "      <td>{'max_depth': 7, 'max_features': 5}</td>\n",
       "      <td>0.888889</td>\n",
       "      <td>0.972222</td>\n",
       "      <td>0.916667</td>\n",
       "      <td>...</td>\n",
       "      <td>0.0</td>\n",
       "      <td>0.962963</td>\n",
       "      <td>0.956522</td>\n",
       "      <td>1.0</td>\n",
       "      <td>1.0</td>\n",
       "      <td>0.783897</td>\n",
       "      <td>0.392367</td>\n",
       "      <td>12</td>\n",
       "      <td>7</td>\n",
       "      <td>5</td>\n",
       "    </tr>\n",
       "    <tr>\n",
       "      <th>9</th>\n",
       "      <td>0.193479</td>\n",
       "      <td>0.003609</td>\n",
       "      <td>0.027782</td>\n",
       "      <td>0.005489</td>\n",
       "      <td>10</td>\n",
       "      <td>2</td>\n",
       "      <td>{'max_depth': 10, 'max_features': 2}</td>\n",
       "      <td>0.861111</td>\n",
       "      <td>0.972222</td>\n",
       "      <td>0.972222</td>\n",
       "      <td>...</td>\n",
       "      <td>0.0</td>\n",
       "      <td>0.962963</td>\n",
       "      <td>0.985915</td>\n",
       "      <td>1.0</td>\n",
       "      <td>1.0</td>\n",
       "      <td>0.789776</td>\n",
       "      <td>0.395120</td>\n",
       "      <td>1</td>\n",
       "      <td>10</td>\n",
       "      <td>2</td>\n",
       "    </tr>\n",
       "    <tr>\n",
       "      <th>10</th>\n",
       "      <td>0.195281</td>\n",
       "      <td>0.019570</td>\n",
       "      <td>0.022386</td>\n",
       "      <td>0.002153</td>\n",
       "      <td>10</td>\n",
       "      <td>4</td>\n",
       "      <td>{'max_depth': 10, 'max_features': 4}</td>\n",
       "      <td>0.888889</td>\n",
       "      <td>0.972222</td>\n",
       "      <td>0.944444</td>\n",
       "      <td>...</td>\n",
       "      <td>0.0</td>\n",
       "      <td>0.962963</td>\n",
       "      <td>0.971429</td>\n",
       "      <td>1.0</td>\n",
       "      <td>1.0</td>\n",
       "      <td>0.786878</td>\n",
       "      <td>0.393722</td>\n",
       "      <td>6</td>\n",
       "      <td>10</td>\n",
       "      <td>4</td>\n",
       "    </tr>\n",
       "    <tr>\n",
       "      <th>11</th>\n",
       "      <td>0.211270</td>\n",
       "      <td>0.022262</td>\n",
       "      <td>0.020187</td>\n",
       "      <td>0.001598</td>\n",
       "      <td>10</td>\n",
       "      <td>5</td>\n",
       "      <td>{'max_depth': 10, 'max_features': 5}</td>\n",
       "      <td>0.888889</td>\n",
       "      <td>0.972222</td>\n",
       "      <td>0.972222</td>\n",
       "      <td>...</td>\n",
       "      <td>0.0</td>\n",
       "      <td>0.962963</td>\n",
       "      <td>0.985915</td>\n",
       "      <td>1.0</td>\n",
       "      <td>1.0</td>\n",
       "      <td>0.789776</td>\n",
       "      <td>0.395120</td>\n",
       "      <td>1</td>\n",
       "      <td>10</td>\n",
       "      <td>5</td>\n",
       "    </tr>\n",
       "  </tbody>\n",
       "</table>\n",
       "<p>12 rows × 41 columns</p>\n",
       "</div>"
      ],
      "text/plain": [
       "    mean_fit_time  std_fit_time  mean_score_time  std_score_time  \\\n",
       "0        0.194079      0.009190         0.026584        0.003496   \n",
       "1        0.190682      0.009276         0.024185        0.007980   \n",
       "2        0.233656      0.033834         0.022187        0.003184   \n",
       "3        0.182489      0.013857         0.020587        0.002154   \n",
       "4        0.210870      0.005364         0.025384        0.002152   \n",
       "5        0.195876      0.009346         0.020588        0.001357   \n",
       "6        0.191683      0.018892         0.021986        0.003344   \n",
       "7        0.181888      0.004854         0.020986        0.001787   \n",
       "8        0.200078      0.023988         0.020986        0.002606   \n",
       "9        0.193479      0.003609         0.027782        0.005489   \n",
       "10       0.195281      0.019570         0.022386        0.002153   \n",
       "11       0.211270      0.022262         0.020187        0.001598   \n",
       "\n",
       "   param_max_depth param_max_features                                params  \\\n",
       "0                3                  2   {'max_depth': 3, 'max_features': 2}   \n",
       "1                3                  4   {'max_depth': 3, 'max_features': 4}   \n",
       "2                3                  5   {'max_depth': 3, 'max_features': 5}   \n",
       "3                5                  2   {'max_depth': 5, 'max_features': 2}   \n",
       "4                5                  4   {'max_depth': 5, 'max_features': 4}   \n",
       "5                5                  5   {'max_depth': 5, 'max_features': 5}   \n",
       "6                7                  2   {'max_depth': 7, 'max_features': 2}   \n",
       "7                7                  4   {'max_depth': 7, 'max_features': 4}   \n",
       "8                7                  5   {'max_depth': 7, 'max_features': 5}   \n",
       "9               10                  2  {'max_depth': 10, 'max_features': 2}   \n",
       "10              10                  4  {'max_depth': 10, 'max_features': 4}   \n",
       "11              10                  5  {'max_depth': 10, 'max_features': 5}   \n",
       "\n",
       "    split0_test_accuracy  split1_test_accuracy  split2_test_accuracy  ...  \\\n",
       "0               0.805556              0.972222              0.944444  ...   \n",
       "1               0.888889              0.972222              0.944444  ...   \n",
       "2               0.861111              0.972222              0.944444  ...   \n",
       "3               0.861111              0.972222              0.972222  ...   \n",
       "4               0.888889              0.972222              0.972222  ...   \n",
       "5               0.888889              0.972222              0.944444  ...   \n",
       "6               0.888889              0.972222              0.972222  ...   \n",
       "7               0.888889              0.972222              0.944444  ...   \n",
       "8               0.888889              0.972222              0.916667  ...   \n",
       "9               0.861111              0.972222              0.972222  ...   \n",
       "10              0.888889              0.972222              0.944444  ...   \n",
       "11              0.888889              0.972222              0.972222  ...   \n",
       "\n",
       "    split0_test_f1  split1_test_f1  split2_test_f1  split3_test_f1  \\\n",
       "0              0.0        0.962963        0.971429             1.0   \n",
       "1              0.0        0.962963        0.971429             1.0   \n",
       "2              0.0        0.962963        0.971429             1.0   \n",
       "3              0.0        0.962963        0.985915             1.0   \n",
       "4              0.0        0.962963        0.985915             1.0   \n",
       "5              0.0        0.962963        0.971429             1.0   \n",
       "6              0.0        0.962963        0.985915             1.0   \n",
       "7              0.0        0.962963        0.971429             1.0   \n",
       "8              0.0        0.962963        0.956522             1.0   \n",
       "9              0.0        0.962963        0.985915             1.0   \n",
       "10             0.0        0.962963        0.971429             1.0   \n",
       "11             0.0        0.962963        0.985915             1.0   \n",
       "\n",
       "    split4_test_f1  mean_test_f1  std_test_f1  rank_test_f1  max_depth  \\\n",
       "0              1.0      0.786878     0.393722             6          3   \n",
       "1              1.0      0.786878     0.393722             6          3   \n",
       "2              1.0      0.786878     0.393722             6          3   \n",
       "3              1.0      0.789776     0.395120             1          5   \n",
       "4              1.0      0.789776     0.395120             1          5   \n",
       "5              1.0      0.786878     0.393722             6          5   \n",
       "6              1.0      0.789776     0.395120             1          7   \n",
       "7              1.0      0.786878     0.393722             6          7   \n",
       "8              1.0      0.783897     0.392367            12          7   \n",
       "9              1.0      0.789776     0.395120             1         10   \n",
       "10             1.0      0.786878     0.393722             6         10   \n",
       "11             1.0      0.789776     0.395120             1         10   \n",
       "\n",
       "    max_features  \n",
       "0              2  \n",
       "1              4  \n",
       "2              5  \n",
       "3              2  \n",
       "4              4  \n",
       "5              5  \n",
       "6              2  \n",
       "7              4  \n",
       "8              5  \n",
       "9              2  \n",
       "10             4  \n",
       "11             5  \n",
       "\n",
       "[12 rows x 41 columns]"
      ]
     },
     "execution_count": 45,
     "metadata": {},
     "output_type": "execute_result"
    }
   ],
   "source": [
    "gs_result_df = gs_result_df.join(params)\n",
    "gs_result_df"
   ]
  },
  {
   "cell_type": "code",
   "execution_count": 46,
   "id": "f23fe0bb-2bf3-4cda-bbf6-4408e5b29341",
   "metadata": {
    "id": "f23fe0bb-2bf3-4cda-bbf6-4408e5b29341",
    "outputId": "d81598aa-3d64-4b6b-9078-4c4d5e60088c"
   },
   "outputs": [
    {
     "data": {
      "text/html": [
       "<div>\n",
       "<style scoped>\n",
       "    .dataframe tbody tr th:only-of-type {\n",
       "        vertical-align: middle;\n",
       "    }\n",
       "\n",
       "    .dataframe tbody tr th {\n",
       "        vertical-align: top;\n",
       "    }\n",
       "\n",
       "    .dataframe thead th {\n",
       "        text-align: right;\n",
       "    }\n",
       "</style>\n",
       "<table border=\"1\" class=\"dataframe\">\n",
       "  <thead>\n",
       "    <tr style=\"text-align: right;\">\n",
       "      <th></th>\n",
       "      <th>max_features</th>\n",
       "      <th>max_depth</th>\n",
       "      <th>mean_fit_time</th>\n",
       "      <th>mean_score_time</th>\n",
       "      <th>mean_test_accuracy</th>\n",
       "      <th>mean_test_precision</th>\n",
       "      <th>mean_test_recall</th>\n",
       "      <th>mean_test_f1</th>\n",
       "      <th>rank_test_accuracy</th>\n",
       "      <th>rank_test_precision</th>\n",
       "      <th>rank_test_recall</th>\n",
       "      <th>rank_test_f1</th>\n",
       "    </tr>\n",
       "  </thead>\n",
       "  <tbody>\n",
       "    <tr>\n",
       "      <th>0</th>\n",
       "      <td>2</td>\n",
       "      <td>3</td>\n",
       "      <td>0.194079</td>\n",
       "      <td>0.026584</td>\n",
       "      <td>0.944444</td>\n",
       "      <td>0.785714</td>\n",
       "      <td>0.788889</td>\n",
       "      <td>0.786878</td>\n",
       "      <td>12</td>\n",
       "      <td>1</td>\n",
       "      <td>6</td>\n",
       "      <td>6</td>\n",
       "    </tr>\n",
       "    <tr>\n",
       "      <th>1</th>\n",
       "      <td>4</td>\n",
       "      <td>3</td>\n",
       "      <td>0.190682</td>\n",
       "      <td>0.024185</td>\n",
       "      <td>0.961111</td>\n",
       "      <td>0.785714</td>\n",
       "      <td>0.788889</td>\n",
       "      <td>0.786878</td>\n",
       "      <td>4</td>\n",
       "      <td>1</td>\n",
       "      <td>6</td>\n",
       "      <td>6</td>\n",
       "    </tr>\n",
       "    <tr>\n",
       "      <th>2</th>\n",
       "      <td>5</td>\n",
       "      <td>3</td>\n",
       "      <td>0.233656</td>\n",
       "      <td>0.022187</td>\n",
       "      <td>0.955556</td>\n",
       "      <td>0.785714</td>\n",
       "      <td>0.788889</td>\n",
       "      <td>0.786878</td>\n",
       "      <td>10</td>\n",
       "      <td>1</td>\n",
       "      <td>6</td>\n",
       "      <td>6</td>\n",
       "    </tr>\n",
       "    <tr>\n",
       "      <th>3</th>\n",
       "      <td>2</td>\n",
       "      <td>5</td>\n",
       "      <td>0.182489</td>\n",
       "      <td>0.020587</td>\n",
       "      <td>0.961111</td>\n",
       "      <td>0.785714</td>\n",
       "      <td>0.794444</td>\n",
       "      <td>0.789776</td>\n",
       "      <td>4</td>\n",
       "      <td>1</td>\n",
       "      <td>1</td>\n",
       "      <td>1</td>\n",
       "    </tr>\n",
       "    <tr>\n",
       "      <th>4</th>\n",
       "      <td>4</td>\n",
       "      <td>5</td>\n",
       "      <td>0.210870</td>\n",
       "      <td>0.025384</td>\n",
       "      <td>0.966667</td>\n",
       "      <td>0.785714</td>\n",
       "      <td>0.794444</td>\n",
       "      <td>0.789776</td>\n",
       "      <td>1</td>\n",
       "      <td>1</td>\n",
       "      <td>1</td>\n",
       "      <td>1</td>\n",
       "    </tr>\n",
       "    <tr>\n",
       "      <th>5</th>\n",
       "      <td>5</td>\n",
       "      <td>5</td>\n",
       "      <td>0.195876</td>\n",
       "      <td>0.020588</td>\n",
       "      <td>0.961111</td>\n",
       "      <td>0.785714</td>\n",
       "      <td>0.788889</td>\n",
       "      <td>0.786878</td>\n",
       "      <td>4</td>\n",
       "      <td>1</td>\n",
       "      <td>6</td>\n",
       "      <td>6</td>\n",
       "    </tr>\n",
       "    <tr>\n",
       "      <th>6</th>\n",
       "      <td>2</td>\n",
       "      <td>7</td>\n",
       "      <td>0.191683</td>\n",
       "      <td>0.021986</td>\n",
       "      <td>0.966667</td>\n",
       "      <td>0.785714</td>\n",
       "      <td>0.794444</td>\n",
       "      <td>0.789776</td>\n",
       "      <td>1</td>\n",
       "      <td>1</td>\n",
       "      <td>1</td>\n",
       "      <td>1</td>\n",
       "    </tr>\n",
       "    <tr>\n",
       "      <th>7</th>\n",
       "      <td>4</td>\n",
       "      <td>7</td>\n",
       "      <td>0.181888</td>\n",
       "      <td>0.020986</td>\n",
       "      <td>0.961111</td>\n",
       "      <td>0.785714</td>\n",
       "      <td>0.788889</td>\n",
       "      <td>0.786878</td>\n",
       "      <td>4</td>\n",
       "      <td>1</td>\n",
       "      <td>6</td>\n",
       "      <td>6</td>\n",
       "    </tr>\n",
       "    <tr>\n",
       "      <th>8</th>\n",
       "      <td>5</td>\n",
       "      <td>7</td>\n",
       "      <td>0.200078</td>\n",
       "      <td>0.020986</td>\n",
       "      <td>0.955556</td>\n",
       "      <td>0.785714</td>\n",
       "      <td>0.783333</td>\n",
       "      <td>0.783897</td>\n",
       "      <td>10</td>\n",
       "      <td>1</td>\n",
       "      <td>12</td>\n",
       "      <td>12</td>\n",
       "    </tr>\n",
       "    <tr>\n",
       "      <th>9</th>\n",
       "      <td>2</td>\n",
       "      <td>10</td>\n",
       "      <td>0.193479</td>\n",
       "      <td>0.027782</td>\n",
       "      <td>0.961111</td>\n",
       "      <td>0.785714</td>\n",
       "      <td>0.794444</td>\n",
       "      <td>0.789776</td>\n",
       "      <td>4</td>\n",
       "      <td>1</td>\n",
       "      <td>1</td>\n",
       "      <td>1</td>\n",
       "    </tr>\n",
       "    <tr>\n",
       "      <th>10</th>\n",
       "      <td>4</td>\n",
       "      <td>10</td>\n",
       "      <td>0.195281</td>\n",
       "      <td>0.022386</td>\n",
       "      <td>0.961111</td>\n",
       "      <td>0.785714</td>\n",
       "      <td>0.788889</td>\n",
       "      <td>0.786878</td>\n",
       "      <td>4</td>\n",
       "      <td>1</td>\n",
       "      <td>6</td>\n",
       "      <td>6</td>\n",
       "    </tr>\n",
       "    <tr>\n",
       "      <th>11</th>\n",
       "      <td>5</td>\n",
       "      <td>10</td>\n",
       "      <td>0.211270</td>\n",
       "      <td>0.020187</td>\n",
       "      <td>0.966667</td>\n",
       "      <td>0.785714</td>\n",
       "      <td>0.794444</td>\n",
       "      <td>0.789776</td>\n",
       "      <td>1</td>\n",
       "      <td>1</td>\n",
       "      <td>1</td>\n",
       "      <td>1</td>\n",
       "    </tr>\n",
       "  </tbody>\n",
       "</table>\n",
       "</div>"
      ],
      "text/plain": [
       "    max_features  max_depth  mean_fit_time  mean_score_time  \\\n",
       "0              2          3       0.194079         0.026584   \n",
       "1              4          3       0.190682         0.024185   \n",
       "2              5          3       0.233656         0.022187   \n",
       "3              2          5       0.182489         0.020587   \n",
       "4              4          5       0.210870         0.025384   \n",
       "5              5          5       0.195876         0.020588   \n",
       "6              2          7       0.191683         0.021986   \n",
       "7              4          7       0.181888         0.020986   \n",
       "8              5          7       0.200078         0.020986   \n",
       "9              2         10       0.193479         0.027782   \n",
       "10             4         10       0.195281         0.022386   \n",
       "11             5         10       0.211270         0.020187   \n",
       "\n",
       "    mean_test_accuracy  mean_test_precision  mean_test_recall  mean_test_f1  \\\n",
       "0             0.944444             0.785714          0.788889      0.786878   \n",
       "1             0.961111             0.785714          0.788889      0.786878   \n",
       "2             0.955556             0.785714          0.788889      0.786878   \n",
       "3             0.961111             0.785714          0.794444      0.789776   \n",
       "4             0.966667             0.785714          0.794444      0.789776   \n",
       "5             0.961111             0.785714          0.788889      0.786878   \n",
       "6             0.966667             0.785714          0.794444      0.789776   \n",
       "7             0.961111             0.785714          0.788889      0.786878   \n",
       "8             0.955556             0.785714          0.783333      0.783897   \n",
       "9             0.961111             0.785714          0.794444      0.789776   \n",
       "10            0.961111             0.785714          0.788889      0.786878   \n",
       "11            0.966667             0.785714          0.794444      0.789776   \n",
       "\n",
       "    rank_test_accuracy  rank_test_precision  rank_test_recall  rank_test_f1  \n",
       "0                   12                    1                 6             6  \n",
       "1                    4                    1                 6             6  \n",
       "2                   10                    1                 6             6  \n",
       "3                    4                    1                 1             1  \n",
       "4                    1                    1                 1             1  \n",
       "5                    4                    1                 6             6  \n",
       "6                    1                    1                 1             1  \n",
       "7                    4                    1                 6             6  \n",
       "8                   10                    1                12            12  \n",
       "9                    4                    1                 1             1  \n",
       "10                   4                    1                 6             6  \n",
       "11                   1                    1                 1             1  "
      ]
     },
     "execution_count": 46,
     "metadata": {},
     "output_type": "execute_result"
    }
   ],
   "source": [
    "mean_cols = [i for i in gs_result_df.columns if i.startswith('mean')]\n",
    "rank_cols = [i for i in gs_result_df.columns if i.startswith('rank')]\n",
    "gs_result_df[['max_features', 'max_depth', *mean_cols, *rank_cols]]"
   ]
  },
  {
   "cell_type": "code",
   "execution_count": null,
   "id": "2d569543-1277-4edc-91aa-fe273ac38040",
   "metadata": {
    "id": "2d569543-1277-4edc-91aa-fe273ac38040"
   },
   "outputs": [],
   "source": []
  }
 ],
 "metadata": {
  "colab": {
   "collapsed_sections": [],
   "name": "lecture_06_inclass_p36a10l2.ipynb",
   "provenance": []
  },
  "kernelspec": {
   "display_name": "Python 3 (ipykernel)",
   "language": "python",
   "name": "python3"
  },
  "language_info": {
   "codemirror_mode": {
    "name": "ipython",
    "version": 3
   },
   "file_extension": ".py",
   "mimetype": "text/x-python",
   "name": "python",
   "nbconvert_exporter": "python",
   "pygments_lexer": "ipython3",
   "version": "3.7.11"
  }
 },
 "nbformat": 4,
 "nbformat_minor": 5
}
